{
 "cells": [
  {
   "cell_type": "markdown",
   "metadata": {
    "lc_cell_meme": {
     "current": "c7ce9f06-48a2-11eb-8acc-0242ac110002-3-e6b4-aca4-1d81",
     "history": [
      {
       "current": "c7ce9f06-48a2-11eb-8acc-0242ac110002-1-e6b4",
       "next": "d78c1df8-41bb-11eb-aed8-0242ac110002-6-5349-6ea8-8beb-bb1c-7bd2-2485",
       "previous": null
      },
      {
       "current": "c7ce9f06-48a2-11eb-8acc-0242ac110002-2-e6b4-aca4",
       "next": "d78c1df8-41bb-11eb-aed8-0242ac110002-7-5349-6ea8-8beb-bb1c-7bd2-2485-dce0",
       "previous": null
      },
      {
       "current": "c7ce9f06-48a2-11eb-8acc-0242ac110002-3-e6b4-aca4-1d81",
       "next": "d78c1df8-41bb-11eb-aed8-0242ac110002-8-5349-6ea8-8beb-bb1c-7bd2-2485-dce0-a8e1",
       "previous": null
      }
     ],
     "next": "d78c1df8-41bb-11eb-aed8-0242ac110002-9-5349-6ea8-8beb-bb1c-7bd2-2485-dce0-a8e1-57c3",
     "previous": null
    }
   },
   "source": [
    "<a href=\"https://colab.research.google.com/github/mnagaku/digraj202103/blob/master/gamemech-analysis.ipynb\" target=\"_blank\"><img src=\"https://colab.research.google.com/assets/colab-badge.svg\" alt=\"Open In Colab\"></a>"
   ]
  },
  {
   "cell_type": "markdown",
   "metadata": {
    "id": "dNxf3h8mbGsT",
    "lc_cell_meme": {
     "current": "d78c1df8-41bb-11eb-aed8-0242ac110002-9-5349-6ea8-8beb-bb1c-7bd2-2485-dce0-a8e1-57c3",
     "history": [
      {
       "current": "d78c1df8-41bb-11eb-aed8-0242ac110002-1-5349",
       "next": "d78c1eb6-41bb-11eb-aed8-0242ac110002",
       "previous": null
      },
      {
       "current": "d78c1df8-41bb-11eb-aed8-0242ac110002-2-5349-6ea8",
       "next": "d78c1eb6-41bb-11eb-aed8-0242ac110002-1-f9ca",
       "previous": null
      },
      {
       "current": "d78c1df8-41bb-11eb-aed8-0242ac110002-3-5349-6ea8-8beb",
       "next": "d78c1eb6-41bb-11eb-aed8-0242ac110002-2-f9ca-08a5",
       "previous": null
      },
      {
       "current": "d78c1df8-41bb-11eb-aed8-0242ac110002-4-5349-6ea8-8beb-bb1c",
       "next": "d78c1eb6-41bb-11eb-aed8-0242ac110002-3-f9ca-08a5-6cd0",
       "previous": null
      },
      {
       "current": "d78c1df8-41bb-11eb-aed8-0242ac110002-5-5349-6ea8-8beb-bb1c-7bd2",
       "next": "d78c1eb6-41bb-11eb-aed8-0242ac110002-4-f9ca-08a5-6cd0-4f22",
       "previous": null
      },
      {
       "current": "d78c1df8-41bb-11eb-aed8-0242ac110002-6-5349-6ea8-8beb-bb1c-7bd2-2485",
       "next": "d78c1eb6-41bb-11eb-aed8-0242ac110002-5-f9ca-08a5-6cd0-4f22-5e66",
       "previous": null
      },
      {
       "current": "d78c1df8-41bb-11eb-aed8-0242ac110002-7-5349-6ea8-8beb-bb1c-7bd2-2485-dce0",
       "next": "d78c1eb6-41bb-11eb-aed8-0242ac110002-6-f9ca-08a5-6cd0-4f22-5e66-9e78",
       "previous": "c7ce9f06-48a2-11eb-8acc-0242ac110002"
      },
      {
       "current": "d78c1df8-41bb-11eb-aed8-0242ac110002-8-5349-6ea8-8beb-bb1c-7bd2-2485-dce0-a8e1",
       "next": "d78c1eb6-41bb-11eb-aed8-0242ac110002-7-f9ca-08a5-6cd0-4f22-5e66-9e78-7162",
       "previous": "c7ce9f06-48a2-11eb-8acc-0242ac110002-1-e6b4"
      },
      {
       "current": "d78c1df8-41bb-11eb-aed8-0242ac110002-9-5349-6ea8-8beb-bb1c-7bd2-2485-dce0-a8e1-57c3",
       "next": "d78c1eb6-41bb-11eb-aed8-0242ac110002-8-f9ca-08a5-6cd0-4f22-5e66-9e78-7162-d1e6",
       "previous": "c7ce9f06-48a2-11eb-8acc-0242ac110002-2-e6b4-aca4"
      }
     ],
     "next": "d78c1eb6-41bb-11eb-aed8-0242ac110002-9-f9ca-08a5-6cd0-4f22-5e66-9e78-7162-d1e6-0843",
     "previous": "c7ce9f06-48a2-11eb-8acc-0242ac110002-3-e6b4-aca4-1d81"
    }
   },
   "source": [
    "# ゲームメカニクス大全の分析\n"
   ]
  },
  {
   "cell_type": "markdown",
   "metadata": {
    "heading_collapsed": true,
    "id": "obJSH-zebvWR",
    "lc_cell_meme": {
     "current": "d78c1eb6-41bb-11eb-aed8-0242ac110002-9-f9ca-08a5-6cd0-4f22-5e66-9e78-7162-d1e6-0843",
     "history": [
      {
       "current": "d78c1eb6-41bb-11eb-aed8-0242ac110002-1-f9ca",
       "next": "d78c1f60-41bb-11eb-aed8-0242ac110002",
       "previous": "d78c1df8-41bb-11eb-aed8-0242ac110002"
      },
      {
       "current": "d78c1eb6-41bb-11eb-aed8-0242ac110002-2-f9ca-08a5",
       "next": "d78c1f60-41bb-11eb-aed8-0242ac110002-1-97f2",
       "previous": "d78c1df8-41bb-11eb-aed8-0242ac110002-1-5349"
      },
      {
       "current": "d78c1eb6-41bb-11eb-aed8-0242ac110002-3-f9ca-08a5-6cd0",
       "next": "d78c1f60-41bb-11eb-aed8-0242ac110002-2-97f2-86c1",
       "previous": "d78c1df8-41bb-11eb-aed8-0242ac110002-2-5349-6ea8"
      },
      {
       "current": "d78c1eb6-41bb-11eb-aed8-0242ac110002-4-f9ca-08a5-6cd0-4f22",
       "next": "d78c1f60-41bb-11eb-aed8-0242ac110002-3-97f2-86c1-1819",
       "previous": "d78c1df8-41bb-11eb-aed8-0242ac110002-3-5349-6ea8-8beb"
      },
      {
       "current": "d78c1eb6-41bb-11eb-aed8-0242ac110002-5-f9ca-08a5-6cd0-4f22-5e66",
       "next": "d78c1f60-41bb-11eb-aed8-0242ac110002-4-97f2-86c1-1819-7e71",
       "previous": "d78c1df8-41bb-11eb-aed8-0242ac110002-4-5349-6ea8-8beb-bb1c"
      },
      {
       "current": "d78c1eb6-41bb-11eb-aed8-0242ac110002-6-f9ca-08a5-6cd0-4f22-5e66-9e78",
       "next": "d78c1f60-41bb-11eb-aed8-0242ac110002-5-97f2-86c1-1819-7e71-d44b",
       "previous": "d78c1df8-41bb-11eb-aed8-0242ac110002-5-5349-6ea8-8beb-bb1c-7bd2"
      },
      {
       "current": "d78c1eb6-41bb-11eb-aed8-0242ac110002-7-f9ca-08a5-6cd0-4f22-5e66-9e78-7162",
       "next": "d78c1f60-41bb-11eb-aed8-0242ac110002-6-97f2-86c1-1819-7e71-d44b-3237",
       "previous": "d78c1df8-41bb-11eb-aed8-0242ac110002-6-5349-6ea8-8beb-bb1c-7bd2-2485"
      },
      {
       "current": "d78c1eb6-41bb-11eb-aed8-0242ac110002-8-f9ca-08a5-6cd0-4f22-5e66-9e78-7162-d1e6",
       "next": "d78c1f60-41bb-11eb-aed8-0242ac110002-7-97f2-86c1-1819-7e71-d44b-3237-fbf8",
       "previous": "d78c1df8-41bb-11eb-aed8-0242ac110002-7-5349-6ea8-8beb-bb1c-7bd2-2485-dce0"
      },
      {
       "current": "d78c1eb6-41bb-11eb-aed8-0242ac110002-9-f9ca-08a5-6cd0-4f22-5e66-9e78-7162-d1e6-0843",
       "next": "d78c1f60-41bb-11eb-aed8-0242ac110002-8-97f2-86c1-1819-7e71-d44b-3237-fbf8-a857",
       "previous": "d78c1df8-41bb-11eb-aed8-0242ac110002-8-5349-6ea8-8beb-bb1c-7bd2-2485-dce0-a8e1"
      }
     ],
     "next": "d78c1f60-41bb-11eb-aed8-0242ac110002-9-97f2-86c1-1819-7e71-d44b-3237-fbf8-a857-5e4b",
     "previous": "d78c1df8-41bb-11eb-aed8-0242ac110002-9-5349-6ea8-8beb-bb1c-7bd2-2485-dce0-a8e1-57c3"
    }
   },
   "source": [
    "## 環境準備\n"
   ]
  },
  {
   "cell_type": "markdown",
   "metadata": {
    "hidden": true,
    "id": "t7gURyeZb3dN",
    "lc_cell_meme": {
     "current": "d78c1f60-41bb-11eb-aed8-0242ac110002-9-97f2-86c1-1819-7e71-d44b-3237-fbf8-a857-5e4b",
     "history": [
      {
       "current": "d78c1f60-41bb-11eb-aed8-0242ac110002-1-97f2",
       "next": "d78c2000-41bb-11eb-aed8-0242ac110002",
       "previous": "d78c1eb6-41bb-11eb-aed8-0242ac110002"
      },
      {
       "current": "d78c1f60-41bb-11eb-aed8-0242ac110002-2-97f2-86c1",
       "next": "d78c2000-41bb-11eb-aed8-0242ac110002-1-aaa2",
       "previous": "d78c1eb6-41bb-11eb-aed8-0242ac110002-1-f9ca"
      },
      {
       "current": "d78c1f60-41bb-11eb-aed8-0242ac110002-3-97f2-86c1-1819",
       "next": "d78c2000-41bb-11eb-aed8-0242ac110002-2-aaa2-8116",
       "previous": "d78c1eb6-41bb-11eb-aed8-0242ac110002-2-f9ca-08a5"
      },
      {
       "current": "d78c1f60-41bb-11eb-aed8-0242ac110002-4-97f2-86c1-1819-7e71",
       "next": "d78c2000-41bb-11eb-aed8-0242ac110002-3-aaa2-8116-378f",
       "previous": "d78c1eb6-41bb-11eb-aed8-0242ac110002-3-f9ca-08a5-6cd0"
      },
      {
       "current": "d78c1f60-41bb-11eb-aed8-0242ac110002-5-97f2-86c1-1819-7e71-d44b",
       "next": "d78c2000-41bb-11eb-aed8-0242ac110002-4-aaa2-8116-378f-e30c",
       "previous": "d78c1eb6-41bb-11eb-aed8-0242ac110002-4-f9ca-08a5-6cd0-4f22"
      },
      {
       "current": "d78c1f60-41bb-11eb-aed8-0242ac110002-6-97f2-86c1-1819-7e71-d44b-3237",
       "next": "d78c2000-41bb-11eb-aed8-0242ac110002-5-aaa2-8116-378f-e30c-fd8f",
       "previous": "d78c1eb6-41bb-11eb-aed8-0242ac110002-5-f9ca-08a5-6cd0-4f22-5e66"
      },
      {
       "current": "d78c1f60-41bb-11eb-aed8-0242ac110002-7-97f2-86c1-1819-7e71-d44b-3237-fbf8",
       "next": "d78c2000-41bb-11eb-aed8-0242ac110002-6-aaa2-8116-378f-e30c-fd8f-e2c1",
       "previous": "d78c1eb6-41bb-11eb-aed8-0242ac110002-6-f9ca-08a5-6cd0-4f22-5e66-9e78"
      },
      {
       "current": "d78c1f60-41bb-11eb-aed8-0242ac110002-8-97f2-86c1-1819-7e71-d44b-3237-fbf8-a857",
       "next": "d78c2000-41bb-11eb-aed8-0242ac110002-7-aaa2-8116-378f-e30c-fd8f-e2c1-30af",
       "previous": "d78c1eb6-41bb-11eb-aed8-0242ac110002-7-f9ca-08a5-6cd0-4f22-5e66-9e78-7162"
      },
      {
       "current": "d78c1f60-41bb-11eb-aed8-0242ac110002-9-97f2-86c1-1819-7e71-d44b-3237-fbf8-a857-5e4b",
       "next": "d78c2000-41bb-11eb-aed8-0242ac110002-8-aaa2-8116-378f-e30c-fd8f-e2c1-30af-3e00",
       "previous": "d78c1eb6-41bb-11eb-aed8-0242ac110002-8-f9ca-08a5-6cd0-4f22-5e66-9e78-7162-d1e6"
      }
     ],
     "next": "d78c2000-41bb-11eb-aed8-0242ac110002-9-aaa2-8116-378f-e30c-fd8f-e2c1-30af-3e00-1217",
     "previous": "d78c1eb6-41bb-11eb-aed8-0242ac110002-9-f9ca-08a5-6cd0-4f22-5e66-9e78-7162-d1e6-0843"
    }
   },
   "source": [
    "\n",
    "パターンの関連を手打ちでdotにしたgamemech.dotを読み込む準備をする。"
   ]
  },
  {
   "cell_type": "code",
   "execution_count": 1,
   "metadata": {
    "colab": {
     "base_uri": "https://localhost:8080/"
    },
    "deletable": false,
    "editable": false,
    "hidden": true,
    "id": "owXZzLeWj52X",
    "lc_cell_meme": {
     "current": "d78c2000-41bb-11eb-aed8-0242ac110002-9-aaa2-8116-378f-e30c-fd8f-e2c1-30af-3e00-1217",
     "execution_end_time": "2020-12-29T08:59:17.109278Z",
     "history": [
      {
       "current": "d78c2000-41bb-11eb-aed8-0242ac110002-1-aaa2",
       "next": "d78c20a0-41bb-11eb-aed8-0242ac110002",
       "previous": "d78c1f60-41bb-11eb-aed8-0242ac110002"
      },
      {
       "current": "d78c2000-41bb-11eb-aed8-0242ac110002-2-aaa2-8116",
       "next": "d78c20a0-41bb-11eb-aed8-0242ac110002-1-0af4",
       "previous": "d78c1f60-41bb-11eb-aed8-0242ac110002-1-97f2"
      },
      {
       "current": "d78c2000-41bb-11eb-aed8-0242ac110002-3-aaa2-8116-378f",
       "next": "d78c20a0-41bb-11eb-aed8-0242ac110002-2-0af4-30e3",
       "previous": "d78c1f60-41bb-11eb-aed8-0242ac110002-2-97f2-86c1"
      },
      {
       "current": "d78c2000-41bb-11eb-aed8-0242ac110002-4-aaa2-8116-378f-e30c",
       "next": "d78c20a0-41bb-11eb-aed8-0242ac110002-3-0af4-30e3-376c",
       "previous": "d78c1f60-41bb-11eb-aed8-0242ac110002-3-97f2-86c1-1819"
      },
      {
       "current": "d78c2000-41bb-11eb-aed8-0242ac110002-5-aaa2-8116-378f-e30c-fd8f",
       "next": "d78c20a0-41bb-11eb-aed8-0242ac110002-4-0af4-30e3-376c-0667",
       "previous": "d78c1f60-41bb-11eb-aed8-0242ac110002-4-97f2-86c1-1819-7e71"
      },
      {
       "current": "d78c2000-41bb-11eb-aed8-0242ac110002-6-aaa2-8116-378f-e30c-fd8f-e2c1",
       "next": "d78c20a0-41bb-11eb-aed8-0242ac110002-5-0af4-30e3-376c-0667-5aa8",
       "previous": "d78c1f60-41bb-11eb-aed8-0242ac110002-5-97f2-86c1-1819-7e71-d44b"
      },
      {
       "current": "d78c2000-41bb-11eb-aed8-0242ac110002-7-aaa2-8116-378f-e30c-fd8f-e2c1-30af",
       "next": "d78c20a0-41bb-11eb-aed8-0242ac110002-6-0af4-30e3-376c-0667-5aa8-5207",
       "previous": "d78c1f60-41bb-11eb-aed8-0242ac110002-6-97f2-86c1-1819-7e71-d44b-3237"
      },
      {
       "current": "d78c2000-41bb-11eb-aed8-0242ac110002-8-aaa2-8116-378f-e30c-fd8f-e2c1-30af-3e00",
       "next": "d78c20a0-41bb-11eb-aed8-0242ac110002-7-0af4-30e3-376c-0667-5aa8-5207-83bf",
       "previous": "d78c1f60-41bb-11eb-aed8-0242ac110002-7-97f2-86c1-1819-7e71-d44b-3237-fbf8"
      },
      {
       "current": "d78c2000-41bb-11eb-aed8-0242ac110002-9-aaa2-8116-378f-e30c-fd8f-e2c1-30af-3e00-1217",
       "next": "d78c20a0-41bb-11eb-aed8-0242ac110002-8-0af4-30e3-376c-0667-5aa8-5207-83bf-e085",
       "previous": "d78c1f60-41bb-11eb-aed8-0242ac110002-8-97f2-86c1-1819-7e71-d44b-3237-fbf8-a857"
      }
     ],
     "next": "d78c20a0-41bb-11eb-aed8-0242ac110002-9-0af4-30e3-376c-0667-5aa8-5207-83bf-e085-5a2d",
     "previous": "d78c1f60-41bb-11eb-aed8-0242ac110002-9-97f2-86c1-1819-7e71-d44b-3237-fbf8-a857-5e4b"
    },
    "lc_wrapper": {
     "log_history": [
      "/home/jovyan/digraj202103/.log/20201219/20201219-053226-0211.log",
      "/home/jovyan/digraj202103/.log/20201219/20201219-053258-0519.log",
      "/home/jovyan/digraj202103/.log/20201219/20201219-054507-0160.log",
      "/home/jovyan/digraj202103/.log/20201219/20201219-054710-0550.log",
      "/home/jovyan/digraj202103/.log/20201219/20201219-075917-0188.log",
      "/home/jovyan/digraj202103/.log/20201225/20201225-074628-0312.log",
      "/home/jovyan/digraj202103/.log/20201225/20201225-132012-0996.log",
      "/home/jovyan/digraj202103/.log/20201226/20201226-133530-0742.log",
      "/home/jovyan/digraj202103/.log/20201226/20201226-143459-0668.log",
      "/home/jovyan/digraj202103/.log/20201227/20201227-123158-0140.log",
      "/home/jovyan/digraj202103/.log/20201228/20201228-014934-0405.log",
      "/home/jovyan/digraj202103/.log/20201228/20201228-115310-0061.log",
      "/home/jovyan/digraj202103/.log/20201229/20201229-045812-0335.log",
      "/home/jovyan/digraj202103/.log/20201229/20201229-085911-0831.log"
     ]
    },
    "outputId": "05c91029-f73d-42ef-a3e9-05f2fe98de73",
    "run_through_control": {
     "frozen": true
    }
   },
   "outputs": [
    {
     "name": "stdout",
     "output_type": "stream",
     "text": [
      "Ign:1 http://repo.mongodb.org/apt/debian stretch/mongodb-org/3.6 InRelease\n",
      "Get:3 https://cloud.r-project.org/bin/linux/ubuntu focal-cran40/ InRelease [3,622 B]\n",
      "Hit:4 http://packages.cloud.google.com/apt cloud-sdk InRelease                 \n",
      "Hit:5 http://repo.mongodb.org/apt/debian stretch/mongodb-org/3.6 Release       \n",
      "Hit:6 http://archive.ubuntu.com/ubuntu focal InRelease                         \n",
      "Get:7 http://security.ubuntu.com/ubuntu focal-security InRelease [109 kB]      \n",
      "Get:9 http://archive.ubuntu.com/ubuntu focal-updates InRelease [114 kB]        \n",
      "Hit:2 https://packages.cloud.google.com/apt kubernetes-xenial InRelease        \n",
      "Get:10 http://archive.ubuntu.com/ubuntu focal-backports InRelease [101 kB]     \n",
      "Fetched 327 kB in 2s (146 kB/s)    \n",
      "Reading package lists... Done\n",
      "Reading package lists... Done\n",
      "Building dependency tree       \n",
      "Reading state information... Done\n",
      "graphviz is already the newest version (2.42.2-3build2).\n",
      "libgraphviz-dev is already the newest version (2.42.2-3build2).\n",
      "0 upgraded, 0 newly installed, 0 to remove and 90 not upgraded.\n"
     ]
    }
   ],
   "source": [
    "!sudo apt-get update\n",
    "!sudo apt-get install -y graphviz libgraphviz-dev"
   ]
  },
  {
   "cell_type": "code",
   "execution_count": 2,
   "metadata": {
    "colab": {
     "base_uri": "https://localhost:8080/"
    },
    "deletable": false,
    "editable": false,
    "hidden": true,
    "id": "UvSTr8KFjBte",
    "lc_cell_meme": {
     "current": "d78c20a0-41bb-11eb-aed8-0242ac110002-9-0af4-30e3-376c-0667-5aa8-5207-83bf-e085-5a2d",
     "execution_end_time": "2020-12-29T08:59:19.294718Z",
     "history": [
      {
       "current": "d78c20a0-41bb-11eb-aed8-0242ac110002-1-0af4",
       "next": "d78c214a-41bb-11eb-aed8-0242ac110002",
       "previous": "d78c2000-41bb-11eb-aed8-0242ac110002"
      },
      {
       "current": "d78c20a0-41bb-11eb-aed8-0242ac110002-2-0af4-30e3",
       "next": "d78c214a-41bb-11eb-aed8-0242ac110002-1-d6f0",
       "previous": "d78c2000-41bb-11eb-aed8-0242ac110002-1-aaa2"
      },
      {
       "current": "d78c20a0-41bb-11eb-aed8-0242ac110002-3-0af4-30e3-376c",
       "next": "d78c214a-41bb-11eb-aed8-0242ac110002-2-d6f0-d1a9",
       "previous": "d78c2000-41bb-11eb-aed8-0242ac110002-2-aaa2-8116"
      },
      {
       "current": "d78c20a0-41bb-11eb-aed8-0242ac110002-4-0af4-30e3-376c-0667",
       "next": "d78c214a-41bb-11eb-aed8-0242ac110002-3-d6f0-d1a9-85dc",
       "previous": "d78c2000-41bb-11eb-aed8-0242ac110002-3-aaa2-8116-378f"
      },
      {
       "current": "d78c20a0-41bb-11eb-aed8-0242ac110002-5-0af4-30e3-376c-0667-5aa8",
       "next": "d78c214a-41bb-11eb-aed8-0242ac110002-4-d6f0-d1a9-85dc-669d",
       "previous": "d78c2000-41bb-11eb-aed8-0242ac110002-4-aaa2-8116-378f-e30c"
      },
      {
       "current": "d78c20a0-41bb-11eb-aed8-0242ac110002-6-0af4-30e3-376c-0667-5aa8-5207",
       "next": "d78c214a-41bb-11eb-aed8-0242ac110002-5-d6f0-d1a9-85dc-669d-159a",
       "previous": "d78c2000-41bb-11eb-aed8-0242ac110002-5-aaa2-8116-378f-e30c-fd8f"
      },
      {
       "current": "d78c20a0-41bb-11eb-aed8-0242ac110002-7-0af4-30e3-376c-0667-5aa8-5207-83bf",
       "next": "d78c214a-41bb-11eb-aed8-0242ac110002-6-d6f0-d1a9-85dc-669d-159a-8a96",
       "previous": "d78c2000-41bb-11eb-aed8-0242ac110002-6-aaa2-8116-378f-e30c-fd8f-e2c1"
      },
      {
       "current": "d78c20a0-41bb-11eb-aed8-0242ac110002-8-0af4-30e3-376c-0667-5aa8-5207-83bf-e085",
       "next": "d78c214a-41bb-11eb-aed8-0242ac110002-7-d6f0-d1a9-85dc-669d-159a-8a96-445f",
       "previous": "d78c2000-41bb-11eb-aed8-0242ac110002-7-aaa2-8116-378f-e30c-fd8f-e2c1-30af"
      },
      {
       "current": "d78c20a0-41bb-11eb-aed8-0242ac110002-9-0af4-30e3-376c-0667-5aa8-5207-83bf-e085-5a2d",
       "next": "d78c214a-41bb-11eb-aed8-0242ac110002-8-d6f0-d1a9-85dc-669d-159a-8a96-445f-79df",
       "previous": "d78c2000-41bb-11eb-aed8-0242ac110002-8-aaa2-8116-378f-e30c-fd8f-e2c1-30af-3e00"
      }
     ],
     "next": "d78c214a-41bb-11eb-aed8-0242ac110002-9-d6f0-d1a9-85dc-669d-159a-8a96-445f-79df-182c",
     "previous": "d78c2000-41bb-11eb-aed8-0242ac110002-9-aaa2-8116-378f-e30c-fd8f-e2c1-30af-3e00-1217"
    },
    "lc_wrapper": {
     "log_history": [
      "/home/jovyan/digraj202103/.log/20201219/20201219-053646-0815.log",
      "/home/jovyan/digraj202103/.log/20201219/20201219-054515-0197.log",
      "/home/jovyan/digraj202103/.log/20201219/20201219-054753-0392.log",
      "/home/jovyan/digraj202103/.log/20201219/20201219-075933-0556.log",
      "/home/jovyan/digraj202103/.log/20201225/20201225-074645-0528.log",
      "/home/jovyan/digraj202103/.log/20201225/20201225-132034-0425.log",
      "/home/jovyan/digraj202103/.log/20201226/20201226-133550-0703.log",
      "/home/jovyan/digraj202103/.log/20201226/20201226-143506-0935.log",
      "/home/jovyan/digraj202103/.log/20201227/20201227-123223-0926.log",
      "/home/jovyan/digraj202103/.log/20201228/20201228-014951-0145.log",
      "/home/jovyan/digraj202103/.log/20201228/20201228-115332-0743.log",
      "/home/jovyan/digraj202103/.log/20201229/20201229-045832-0608.log",
      "/home/jovyan/digraj202103/.log/20201229/20201229-085917-0113.log"
     ]
    },
    "outputId": "732d58b7-70c2-4709-ed1f-080e38cb914a",
    "run_through_control": {
     "frozen": true
    }
   },
   "outputs": [
    {
     "name": "stdout",
     "output_type": "stream",
     "text": [
      "Requirement already satisfied: pygraphviz in /opt/conda/lib/python3.8/site-packages (1.6)\n",
      "Requirement already satisfied: networkx in /opt/conda/lib/python3.8/site-packages (2.5)\n",
      "Requirement already satisfied: decorator>=4.3.0 in /opt/conda/lib/python3.8/site-packages (from networkx) (4.4.2)\n"
     ]
    }
   ],
   "source": [
    "!pip install pygraphviz networkx"
   ]
  },
  {
   "cell_type": "code",
   "execution_count": 3,
   "metadata": {
    "colab": {
     "base_uri": "https://localhost:8080/"
    },
    "deletable": false,
    "editable": false,
    "hidden": true,
    "id": "GXizxFU0mf-s",
    "lc_cell_meme": {
     "current": "d78c214a-41bb-11eb-aed8-0242ac110002-9-d6f0-d1a9-85dc-669d-159a-8a96-445f-79df-182c",
     "execution_end_time": "2020-12-29T08:59:22.052444Z",
     "history": [
      {
       "current": "d78c214a-41bb-11eb-aed8-0242ac110002-1-d6f0",
       "next": "d78c21ea-41bb-11eb-aed8-0242ac110002",
       "previous": "d78c20a0-41bb-11eb-aed8-0242ac110002"
      },
      {
       "current": "d78c214a-41bb-11eb-aed8-0242ac110002-2-d6f0-d1a9",
       "next": "d78c21ea-41bb-11eb-aed8-0242ac110002-1-d768",
       "previous": "d78c20a0-41bb-11eb-aed8-0242ac110002-1-0af4"
      },
      {
       "current": "d78c214a-41bb-11eb-aed8-0242ac110002-3-d6f0-d1a9-85dc",
       "next": "d78c21ea-41bb-11eb-aed8-0242ac110002-2-d768-5982",
       "previous": "d78c20a0-41bb-11eb-aed8-0242ac110002-2-0af4-30e3"
      },
      {
       "current": "d78c214a-41bb-11eb-aed8-0242ac110002-4-d6f0-d1a9-85dc-669d",
       "next": "d78c21ea-41bb-11eb-aed8-0242ac110002-3-d768-5982-b400",
       "previous": "d78c20a0-41bb-11eb-aed8-0242ac110002-3-0af4-30e3-376c"
      },
      {
       "current": "d78c214a-41bb-11eb-aed8-0242ac110002-5-d6f0-d1a9-85dc-669d-159a",
       "next": "d78c21ea-41bb-11eb-aed8-0242ac110002-4-d768-5982-b400-cfe9",
       "previous": "d78c20a0-41bb-11eb-aed8-0242ac110002-4-0af4-30e3-376c-0667"
      },
      {
       "current": "d78c214a-41bb-11eb-aed8-0242ac110002-5-d6f0-d1a9-85dc-669d-159a",
       "next": "d78c21ea-41bb-11eb-aed8-0242ac110002-5-d768-5982-b400-cfe9-b443",
       "previous": "d78c20a0-41bb-11eb-aed8-0242ac110002-5-0af4-30e3-376c-0667-5aa8"
      },
      {
       "current": "d78c214a-41bb-11eb-aed8-0242ac110002-6-d6f0-d1a9-85dc-669d-159a-8a96",
       "next": "d78c2460-41bb-11eb-aed8-0242ac110002-5-2013-3fba-d374-6e74-6a8c",
       "previous": "d78c20a0-41bb-11eb-aed8-0242ac110002-5-0af4-30e3-376c-0667-5aa8"
      },
      {
       "current": "d78c214a-41bb-11eb-aed8-0242ac110002-7-d6f0-d1a9-85dc-669d-159a-8a96-445f",
       "next": "d78c2460-41bb-11eb-aed8-0242ac110002-6-2013-3fba-d374-6e74-6a8c-05da",
       "previous": "d78c20a0-41bb-11eb-aed8-0242ac110002-6-0af4-30e3-376c-0667-5aa8-5207"
      },
      {
       "current": "d78c214a-41bb-11eb-aed8-0242ac110002-8-d6f0-d1a9-85dc-669d-159a-8a96-445f-79df",
       "next": "d78c2460-41bb-11eb-aed8-0242ac110002-7-2013-3fba-d374-6e74-6a8c-05da-23c7",
       "previous": "d78c20a0-41bb-11eb-aed8-0242ac110002-7-0af4-30e3-376c-0667-5aa8-5207-83bf"
      },
      {
       "current": "d78c214a-41bb-11eb-aed8-0242ac110002-9-d6f0-d1a9-85dc-669d-159a-8a96-445f-79df-182c",
       "next": "d78c2460-41bb-11eb-aed8-0242ac110002-8-2013-3fba-d374-6e74-6a8c-05da-23c7-10c5",
       "previous": "d78c20a0-41bb-11eb-aed8-0242ac110002-8-0af4-30e3-376c-0667-5aa8-5207-83bf-e085"
      }
     ],
     "next": "d78c2460-41bb-11eb-aed8-0242ac110002-9-2013-3fba-d374-6e74-6a8c-05da-23c7-10c5-c0ab",
     "previous": "d78c20a0-41bb-11eb-aed8-0242ac110002-9-0af4-30e3-376c-0667-5aa8-5207-83bf-e085-5a2d"
    },
    "lc_wrapper": {
     "log_history": [
      "/home/jovyan/digraj202103/.log/20201219/20201219-053656-0019.log",
      "/home/jovyan/digraj202103/.log/20201219/20201219-054526-0356.log",
      "/home/jovyan/digraj202103/.log/20201219/20201219-054803-0150.log",
      "/home/jovyan/digraj202103/.log/20201219/20201219-075939-0958.log",
      "/home/jovyan/digraj202103/.log/20201225/20201225-074653-0265.log",
      "/home/jovyan/digraj202103/.log/20201225/20201225-132040-0271.log",
      "/home/jovyan/digraj202103/.log/20201226/20201226-133600-0073.log",
      "/home/jovyan/digraj202103/.log/20201226/20201226-143510-0343.log",
      "/home/jovyan/digraj202103/.log/20201227/20201227-123232-0770.log",
      "/home/jovyan/digraj202103/.log/20201228/20201228-014957-0040.log",
      "/home/jovyan/digraj202103/.log/20201228/20201228-115338-0852.log",
      "/home/jovyan/digraj202103/.log/20201229/20201229-045841-0793.log",
      "/home/jovyan/digraj202103/.log/20201229/20201229-085919-0299.log"
     ]
    },
    "outputId": "7848f335-5bac-46cb-a407-dab480cd82c4",
    "run_through_control": {
     "frozen": true
    }
   },
   "outputs": [
    {
     "name": "stdout",
     "output_type": "stream",
     "text": [
      "Requirement already up-to-date: pygraphviz in /opt/conda/lib/python3.8/site-packages (1.6)\n",
      "Requirement already up-to-date: networkx in /opt/conda/lib/python3.8/site-packages (2.5)\n",
      "Requirement already satisfied, skipping upgrade: decorator>=4.3.0 in /opt/conda/lib/python3.8/site-packages (from networkx) (4.4.2)\n",
      "Note: you may need to restart the kernel to use updated packages.\n"
     ]
    }
   ],
   "source": [
    "pip install -U pygraphviz networkx"
   ]
  },
  {
   "cell_type": "markdown",
   "metadata": {
    "heading_collapsed": true,
    "id": "rvFev7bAcFHH",
    "lc_cell_meme": {
     "current": "d78c2460-41bb-11eb-aed8-0242ac110002-9-2013-3fba-d374-6e74-6a8c-05da-23c7-10c5-c0ab",
     "history": [
      {
       "current": "d78c2460-41bb-11eb-aed8-0242ac110002",
       "next": "d78c2500-41bb-11eb-aed8-0242ac110002",
       "previous": "d78c23c0-41bb-11eb-aed8-0242ac110002"
      },
      {
       "current": "d78c2460-41bb-11eb-aed8-0242ac110002",
       "next": "0fe29b6a-41c5-11eb-aed8-0242ac110002",
       "previous": "d78c23c0-41bb-11eb-aed8-0242ac110002"
      },
      {
       "current": "d78c2460-41bb-11eb-aed8-0242ac110002-1-2013",
       "next": "0fe29b6a-41c5-11eb-aed8-0242ac110002-1-0a39",
       "previous": "d78c23c0-41bb-11eb-aed8-0242ac110002"
      },
      {
       "current": "d78c2460-41bb-11eb-aed8-0242ac110002-2-2013-3fba",
       "next": "0fe29b6a-41c5-11eb-aed8-0242ac110002-2-0a39-a2ce",
       "previous": "d78c23c0-41bb-11eb-aed8-0242ac110002-1-ef6b"
      },
      {
       "current": "d78c2460-41bb-11eb-aed8-0242ac110002-3-2013-3fba-d374",
       "next": "0fe29b6a-41c5-11eb-aed8-0242ac110002-3-0a39-a2ce-cb4d",
       "previous": "d78c23c0-41bb-11eb-aed8-0242ac110002-2-ef6b-22b4"
      },
      {
       "current": "d78c2460-41bb-11eb-aed8-0242ac110002-4-2013-3fba-d374-6e74",
       "next": "0fe29b6a-41c5-11eb-aed8-0242ac110002-4-0a39-a2ce-cb4d-b86c",
       "previous": "d78c23c0-41bb-11eb-aed8-0242ac110002-3-ef6b-22b4-faa1"
      },
      {
       "current": "d78c2460-41bb-11eb-aed8-0242ac110002-5-2013-3fba-d374-6e74-6a8c",
       "next": "0fe29b6a-41c5-11eb-aed8-0242ac110002-5-0a39-a2ce-cb4d-b86c-0b8e",
       "previous": "d78c23c0-41bb-11eb-aed8-0242ac110002-4-ef6b-22b4-faa1-fbf6"
      },
      {
       "current": "d78c2460-41bb-11eb-aed8-0242ac110002-5-2013-3fba-d374-6e74-6a8c",
       "next": "eddbb3b8-483a-11eb-9304-0242ac110002",
       "previous": "d78c23c0-41bb-11eb-aed8-0242ac110002-5-ef6b-22b4-faa1-fbf6-cef1"
      },
      {
       "current": "d78c2460-41bb-11eb-aed8-0242ac110002-6-2013-3fba-d374-6e74-6a8c-05da",
       "next": "355f09ec-483b-11eb-9304-0242ac110002",
       "previous": "d78c214a-41bb-11eb-aed8-0242ac110002-5-d6f0-d1a9-85dc-669d-159a"
      },
      {
       "current": "d78c2460-41bb-11eb-aed8-0242ac110002-7-2013-3fba-d374-6e74-6a8c-05da-23c7",
       "next": "355f09ec-483b-11eb-9304-0242ac110002-1-0ebd",
       "previous": "d78c214a-41bb-11eb-aed8-0242ac110002-6-d6f0-d1a9-85dc-669d-159a-8a96"
      },
      {
       "current": "d78c2460-41bb-11eb-aed8-0242ac110002-8-2013-3fba-d374-6e74-6a8c-05da-23c7-10c5",
       "next": "355f09ec-483b-11eb-9304-0242ac110002-2-0ebd-6164",
       "previous": "d78c214a-41bb-11eb-aed8-0242ac110002-7-d6f0-d1a9-85dc-669d-159a-8a96-445f"
      },
      {
       "current": "d78c2460-41bb-11eb-aed8-0242ac110002-9-2013-3fba-d374-6e74-6a8c-05da-23c7-10c5-c0ab",
       "next": "355f09ec-483b-11eb-9304-0242ac110002-3-0ebd-6164-2f53",
       "previous": "d78c214a-41bb-11eb-aed8-0242ac110002-8-d6f0-d1a9-85dc-669d-159a-8a96-445f-79df"
      }
     ],
     "next": "355f09ec-483b-11eb-9304-0242ac110002-4-0ebd-6164-2f53-7c95",
     "previous": "d78c214a-41bb-11eb-aed8-0242ac110002-9-d6f0-d1a9-85dc-669d-159a-8a96-445f-79df-182c"
    }
   },
   "source": [
    "## gamemech.dotの読み込み"
   ]
  },
  {
   "cell_type": "markdown",
   "metadata": {
    "hidden": true,
    "lc_cell_meme": {
     "current": "355f09ec-483b-11eb-9304-0242ac110002-4-0ebd-6164-2f53-7c95",
     "history": [
      {
       "current": "355f09ec-483b-11eb-9304-0242ac110002-1-0ebd",
       "next": "eddbb3b8-483a-11eb-9304-0242ac110002",
       "previous": "d78c2460-41bb-11eb-aed8-0242ac110002-5-2013-3fba-d374-6e74-6a8c"
      },
      {
       "current": "355f09ec-483b-11eb-9304-0242ac110002-1-0ebd",
       "next": "eddbb3b8-483a-11eb-9304-0242ac110002-1-d5ec",
       "previous": "d78c2460-41bb-11eb-aed8-0242ac110002-6-2013-3fba-d374-6e74-6a8c-05da"
      },
      {
       "current": "355f09ec-483b-11eb-9304-0242ac110002-2-0ebd-6164",
       "next": "5680e858-48a3-11eb-8acc-0242ac110002",
       "previous": "d78c2460-41bb-11eb-aed8-0242ac110002-6-2013-3fba-d374-6e74-6a8c-05da"
      },
      {
       "current": "355f09ec-483b-11eb-9304-0242ac110002-3-0ebd-6164-2f53",
       "next": "5680e858-48a3-11eb-8acc-0242ac110002-1-c0c5",
       "previous": "d78c2460-41bb-11eb-aed8-0242ac110002-7-2013-3fba-d374-6e74-6a8c-05da-23c7"
      },
      {
       "current": "355f09ec-483b-11eb-9304-0242ac110002-4-0ebd-6164-2f53-7c95",
       "next": "5680e858-48a3-11eb-8acc-0242ac110002-2-c0c5-59ab",
       "previous": "d78c2460-41bb-11eb-aed8-0242ac110002-8-2013-3fba-d374-6e74-6a8c-05da-23c7-10c5"
      }
     ],
     "next": "5680e858-48a3-11eb-8acc-0242ac110002-3-c0c5-59ab-1067",
     "previous": "d78c2460-41bb-11eb-aed8-0242ac110002-9-2013-3fba-d374-6e74-6a8c-05da-23c7-10c5-c0ab"
    }
   },
   "source": [
    "書籍に基づいてパターンの関係をgamemech.dotに書き起こした。"
   ]
  },
  {
   "cell_type": "code",
   "execution_count": 4,
   "metadata": {
    "deletable": false,
    "editable": false,
    "hidden": true,
    "lc_cell_meme": {
     "current": "5680e858-48a3-11eb-8acc-0242ac110002-3-c0c5-59ab-1067",
     "execution_end_time": "2020-12-29T08:59:22.073323Z",
     "history": [
      {
       "current": "5680e858-48a3-11eb-8acc-0242ac110002-1-c0c5",
       "next": "eddbb3b8-483a-11eb-9304-0242ac110002-1-d5ec",
       "previous": "355f09ec-483b-11eb-9304-0242ac110002-1-0ebd"
      },
      {
       "current": "5680e858-48a3-11eb-8acc-0242ac110002-2-c0c5-59ab",
       "next": "eddbb3b8-483a-11eb-9304-0242ac110002-2-d5ec-af60",
       "previous": "355f09ec-483b-11eb-9304-0242ac110002-2-0ebd-6164"
      },
      {
       "current": "5680e858-48a3-11eb-8acc-0242ac110002-3-c0c5-59ab-1067",
       "next": "eddbb3b8-483a-11eb-9304-0242ac110002-3-d5ec-af60-742b",
       "previous": "355f09ec-483b-11eb-9304-0242ac110002-3-0ebd-6164-2f53"
      }
     ],
     "next": "eddbb3b8-483a-11eb-9304-0242ac110002-4-d5ec-af60-742b-4ce4",
     "previous": "355f09ec-483b-11eb-9304-0242ac110002-4-0ebd-6164-2f53-7c95"
    },
    "lc_wrapper": {
     "log_history": [
      "/home/jovyan/digraj202103/.log/20201228/20201228-002533-0721.log",
      "/home/jovyan/digraj202103/.log/20201228/20201228-002541-0852.log",
      "/home/jovyan/digraj202103/.log/20201228/20201228-002550-0339.log",
      "/home/jovyan/digraj202103/.log/20201228/20201228-002718-0314.log",
      "/home/jovyan/digraj202103/.log/20201228/20201228-002826-0841.log",
      "/home/jovyan/digraj202103/.log/20201228/20201228-002841-0176.log",
      "/home/jovyan/digraj202103/.log/20201228/20201228-002914-0458.log",
      "/home/jovyan/digraj202103/.log/20201228/20201228-015226-0431.log",
      "/home/jovyan/digraj202103/.log/20201228/20201228-115343-0296.log",
      "/home/jovyan/digraj202103/.log/20201229/20201229-045845-0314.log",
      "/home/jovyan/digraj202103/.log/20201229/20201229-085922-0057.log"
     ]
    },
    "run_through_control": {
     "frozen": true
    }
   },
   "outputs": [
    {
     "name": "stdout",
     "output_type": "stream",
     "text": [
      "既にあるのでgithubからダウンロードしません\n"
     ]
    }
   ],
   "source": [
    "res = ! ! ls gamemech.dot\n",
    "if \"No such file or directory\" in res[0]:\n",
    "    !wget https://raw.githubusercontent.com/mnagaku/digraj202103/main/gamemech.dot\n",
    "else:\n",
    "    print(\"既にあるのでgithubからダウンロードしません\")"
   ]
  },
  {
   "cell_type": "code",
   "execution_count": 5,
   "metadata": {
    "deletable": false,
    "editable": false,
    "hidden": true,
    "lc_cell_meme": {
     "current": "eddbb3b8-483a-11eb-9304-0242ac110002-4-d5ec-af60-742b-4ce4",
     "execution_end_time": "2020-12-29T08:59:22.723631Z",
     "history": [
      {
       "current": "eddbb3b8-483a-11eb-9304-0242ac110002",
       "next": "0fe29b6a-41c5-11eb-aed8-0242ac110002-6-0a39-a2ce-cb4d-b86c-0b8e-e90a",
       "previous": "d78c2460-41bb-11eb-aed8-0242ac110002-5-2013-3fba-d374-6e74-6a8c"
      },
      {
       "current": "eddbb3b8-483a-11eb-9304-0242ac110002",
       "next": "0fe29b6a-41c5-11eb-aed8-0242ac110002-6-0a39-a2ce-cb4d-b86c-0b8e-e90a",
       "previous": "355f09ec-483b-11eb-9304-0242ac110002"
      },
      {
       "current": "eddbb3b8-483a-11eb-9304-0242ac110002-1-d5ec",
       "next": "7ce6b4a4-483b-11eb-9304-0242ac110002",
       "previous": "355f09ec-483b-11eb-9304-0242ac110002"
      },
      {
       "current": "eddbb3b8-483a-11eb-9304-0242ac110002-1-d5ec",
       "next": "7ce6b4a4-483b-11eb-9304-0242ac110002-1-8a95",
       "previous": "355f09ec-483b-11eb-9304-0242ac110002-1-0ebd"
      },
      {
       "current": "eddbb3b8-483a-11eb-9304-0242ac110002-2-d5ec-af60",
       "next": "7ce6b4a4-483b-11eb-9304-0242ac110002-1-8a95",
       "previous": "5680e858-48a3-11eb-8acc-0242ac110002"
      },
      {
       "current": "eddbb3b8-483a-11eb-9304-0242ac110002-3-d5ec-af60-742b",
       "next": "7ce6b4a4-483b-11eb-9304-0242ac110002-2-8a95-5f17",
       "previous": "5680e858-48a3-11eb-8acc-0242ac110002-1-c0c5"
      },
      {
       "current": "eddbb3b8-483a-11eb-9304-0242ac110002-4-d5ec-af60-742b-4ce4",
       "next": "7ce6b4a4-483b-11eb-9304-0242ac110002-3-8a95-5f17-9301",
       "previous": "5680e858-48a3-11eb-8acc-0242ac110002-2-c0c5-59ab"
      }
     ],
     "next": "7ce6b4a4-483b-11eb-9304-0242ac110002-4-8a95-5f17-9301-b764",
     "previous": "5680e858-48a3-11eb-8acc-0242ac110002-3-c0c5-59ab-1067"
    },
    "lc_wrapper": {
     "log_history": [
      "/home/jovyan/digraj202103/.log/20201227/20201227-123255-0960.log",
      "/home/jovyan/digraj202103/.log/20201228/20201228-015229-0655.log",
      "/home/jovyan/digraj202103/.log/20201228/20201228-115343-0315.log",
      "/home/jovyan/digraj202103/.log/20201229/20201229-045845-0353.log",
      "/home/jovyan/digraj202103/.log/20201229/20201229-085922-0078.log"
     ]
    },
    "run_through_control": {
     "frozen": true
    }
   },
   "outputs": [
    {
     "name": "stdout",
     "output_type": "stream",
     "text": [
      "graph G {\r",
      "\r\n",
      "\r",
      "\r\n",
      "    splines=true;\r",
      "\r\n",
      "\r",
      "\r\n",
      "    graph [\r",
      "\r\n",
      "        charset = \"UTF-8\";\r",
      "\r\n",
      "        layout = fdp;\r",
      "\r\n",
      "    ];\r",
      "\r\n",
      "\r",
      "\r\n",
      "    subgraph cluster_STR {\r",
      "\r\n",
      "        str01[label=\"STR-01\\n対戦ゲーム\"];\r",
      "\r\n",
      "        str02[label=\"STR-02\\n協力ゲーム\"];\r",
      "\r\n",
      "        str03[label=\"STR-03\\nチーム戦ゲーム\"];\r",
      "\r\n",
      "        str04[label=\"STR-04\\nソロゲーム\"];\r",
      "\r\n",
      "        str05[label=\"STR-05\\n準協力ゲーム\"];\r",
      "\r\n",
      "        str06[label=\"STR-06\\nシングルルーザーゲーム\"];\r",
      "\r\n",
      "        str07[label=\"STR-07\\n裏切り者ゲーム\"];\r",
      "\r\n",
      "        str08[label=\"STR-08\\nシナリオ／ミッション／キャンペーンゲーム\"];\r",
      "\r\n",
      "        str09[label=\"STR-09\\nスコア・アンド・リセットゲーム\"];\r",
      "\r\n",
      "        str10[label=\"STR-10\\nレガシーゲーム\"];\r",
      "\r\n",
      "        color=blue;\r",
      "\r\n",
      "        label=\"ゲームの構造\";\r",
      "\r\n",
      "    }\r",
      "\r\n",
      "\r",
      "\r\n",
      "    subgraph cluster_TRN {\r",
      "\r\n",
      "        trn01[label=\"TRN-01\\n固定ターンオーダー\"];\r",
      "\r\n",
      "        trn02[label=\"TRN-02\\n状況的ターンオーダー\"];\r",
      "\r\n",
      "        trn03[label=\"TRN-03\\nターンオーダーの入札\"];\r",
      "\r\n",
      "        trn04[label=\"TRN-04\\n進行型ターンオーダー\"];\r",
      "\r\n",
      "        trn05[label=\"TRN-05\\n要求型ターンオーダー\"];\r",
      "\r\n",
      "        trn06[label=\"TRN-06\\nパス式ターンオーダー\"];\r",
      "\r\n",
      "        trn07[label=\"TRN-07\\nリアルタイム\"];\r",
      "\r\n",
      "        trn08[label=\"TRN-08\\n断続リアルタイム\"];\r",
      "\r\n",
      "        trn09[label=\"TRN-09\\n同時アクション選択\"];\r",
      "\r\n",
      "        trn10[label=\"TRN-10\\n役割順\"];\r",
      "\r\n",
      "        trn11[label=\"TRN-11\\nランダムなターンオーダー\"];\r",
      "\r\n",
      "        trn12[label=\"TRN-12\\nアクションタイマー\"];\r",
      "\r\n",
      "        trn13[label=\"TRN-13\\nタイムトラック\"];\r",
      "\r\n",
      "        trn14[label=\"TRN-14\\nパス式アクショントークン\"];\r",
      "\r\n",
      "        trn15[label=\"TRN-15\\nインターリーブ・フェイズとシーケンシャル・フェイズ\"];\r",
      "\r\n",
      "        trn16[label=\"TRN-16\\n1回休み\"];\r",
      "\r\n",
      "        trn17[label=\"TRN-17\\n割り込み\"];\r",
      "\r\n",
      "        color=blue;\r",
      "\r\n",
      "        label=\"ターンオーダーとターン構造\";\r",
      "\r\n",
      "    }\r",
      "\r\n",
      "\r",
      "\r\n",
      "    subgraph cluster_ACT {\r",
      "\r\n",
      "        act01[label=\"ACT-01\\nアクションポイント\"];\r",
      "\r\n",
      "        act02[label=\"ACT-02\\nアクションドラフト\"];\r",
      "\r\n",
      "        act03[label=\"ACT-03\\nアクションの回復\"];\r",
      "\r\n",
      "        act04[label=\"ACT-04\\nアクション／イベント\"];\r",
      "\r\n",
      "        act05[label=\"ACT-05\\nコマンドカード\"];\r",
      "\r\n",
      "        act06[label=\"ACT-06\\nアクションキュー\"];\r",
      "\r\n",
      "        act07[label=\"ACT-07\\n共有アクションキュー\"];\r",
      "\r\n",
      "        act08[label=\"ACT-08\\nフォロー\"];\r",
      "\r\n",
      "        act09[label=\"ACT-09\\nオーダーカウンター\"];\r",
      "\r\n",
      "        act10[label=\"ACT-10\\nロンデル\"];\r",
      "\r\n",
      "        act11[label=\"ACT-11\\nアクションの選択制限\"];\r",
      "\r\n",
      "        act12[label=\"ACT-12\\nバリアブル・プレイヤーパワー\"];\r",
      "\r\n",
      "        act13[label=\"ACT-13\\n「ゲーム中1回きり」の能力\"];\r",
      "\r\n",
      "        act14[label=\"ACT-14\\nアドバンテージトークン\"];\r",
      "\r\n",
      "        act15[label=\"ACT-15\\nゲートとアンロック\"];\r",
      "\r\n",
      "        act16[label=\"ACT-16\\n技術ツリー／技術トラック／トラックボーナス\"];\r",
      "\r\n",
      "        act17[label=\"ACT-17\\nイベント\"];\r",
      "\r\n",
      "        act18[label=\"ACT-18\\nナラティブチョイス\"];\r",
      "\r\n",
      "        color=blue;\r",
      "\r\n",
      "        label=\"アクション\";\r",
      "\r\n",
      "    }\r",
      "\r\n",
      "\r",
      "\r\n",
      "    subgraph cluster_RES {\r",
      "\r\n",
      "        res01[label=\"RES-01\\nハイナンバー\"];\r",
      "\r\n",
      "        res02[label=\"RES-02\\n状況チェック\"];\r",
      "\r\n",
      "        res03[label=\"RES-03\\nクリティカルなヒットと失敗\"];\r",
      "\r\n",
      "        res04[label=\"RES-04\\n比率／戦闘結果表\"];\r",
      "\r\n",
      "        res05[label=\"RES-05\\nダイスのアイコン\"];\r",
      "\r\n",
      "        res06[label=\"RES-06\\nカードプレイ\"];\r",
      "\r\n",
      "        res07[label=\"RES-07\\nじゃんけん（RPS）\"];\r",
      "\r\n",
      "        res08[label=\"RES-08\\n囚人のジレンマ\"];\r",
      "\r\n",
      "        res09[label=\"RES-09\\n交互除去\"];\r",
      "\r\n",
      "        res10[label=\"RES-10\\n身体的アクション\"];\r",
      "\r\n",
      "        res11[label=\"RES-11\\n静的な捕獲\"];\r",
      "\r\n",
      "        res12[label=\"RES-12\\n囲い込み\"];\r",
      "\r\n",
      "        res13[label=\"RES-13\\nミニマップ\"];\r",
      "\r\n",
      "        res14[label=\"RES-14\\n戦力コミットメント\"];\r",
      "\r\n",
      "        res15[label=\"RES-15\\n投票\"];\r",
      "\r\n",
      "        res16[label=\"RES-16\\nプレイヤージャッジ\"];\r",
      "\r\n",
      "        res17[label=\"RES-17\\nターゲットヒント\"];\r",
      "\r\n",
      "        res18[label=\"RES-18\\nタイブレイカー\"];\r",
      "\r\n",
      "        res19[label=\"RES-19\\nダイスセレクション\"];\r",
      "\r\n",
      "        res20[label=\"RES-20\\nアクションスピード\"];\r",
      "\r\n",
      "        res21[label=\"RES-21\\nリロールとロック\"];\r",
      "\r\n",
      "        res22[label=\"RES-22\\nキルスティール\"];\r",
      "\r\n",
      "        color=blue;\r",
      "\r\n",
      "        label=\"解決\";\r",
      "\r\n",
      "    }\r",
      "\r\n",
      "\r",
      "\r\n",
      "    subgraph cluster_VIC {\r",
      "\r\n",
      "        vic01[label=\"VIC-01\\nゲーム状況による勝利点\"];\r",
      "\r\n",
      "        vic02[label=\"VIC-02\\nプレイヤーアクションによる勝利点\"];\r",
      "\r\n",
      "        vic03[label=\"VIC-03\\n一時的／永続的な勝利点\"];\r",
      "\r\n",
      "        vic04[label=\"VIC-04\\nリソースとしての勝利点\"];\r",
      "\r\n",
      "        vic05[label=\"VIC-05\\n勝利点の公開／非公開\"];\r",
      "\r\n",
      "        vic06[label=\"VIC-06\\nゲーム終了時ボーナス\"];\r",
      "\r\n",
      "        vic07[label=\"VIC-07\\nレース\"];\r",
      "\r\n",
      "        vic08[label=\"VIC-08\\nプレイヤーエリミネーション\"];\r",
      "\r\n",
      "        vic09[label=\"VIC-09\\n規定ラウンド数\"];\r",
      "\r\n",
      "        vic10[label=\"VIC-10\\nリソースの枯渇\"];\r",
      "\r\n",
      "        vic11[label=\"VIC-11\\n目標達成\"];\r",
      "\r\n",
      "        vic12[label=\"VIC-12\\n規定イベント数\"];\r",
      "\r\n",
      "        vic13[label=\"VIC-13\\n実時間の経過\"];\r",
      "\r\n",
      "        vic14[label=\"VIC-14\\n接続\"];\r",
      "\r\n",
      "        vic15[label=\"VIC-15\\nサーキットブレイカー／サドンデス\"];\r",
      "\r\n",
      "        vic16[label=\"VIC-16\\nフィナーレ\"];\r",
      "\r\n",
      "        vic17[label=\"VIC-17\\nキング・オブ・ザ・ヒル\"];\r",
      "\r\n",
      "        vic18[label=\"VIC-18\\nキャッチ・ザ・リーダー\"];\r",
      "\r\n",
      "        vic19[label=\"VIC-19\\nタグ・オブ・ウォー\"];\r",
      "\r\n",
      "        vic20[label=\"VIC-20\\n最低が最高\"];\r",
      "\r\n",
      "        color=blue;\r",
      "\r\n",
      "        label=\"ゲーム終了と勝利\";\r",
      "\r\n",
      "    }\r",
      "\r\n",
      "\r",
      "\r\n",
      "    subgraph cluster_UNC {\r",
      "\r\n",
      "        unc01[label=\"UNC-01\\nベットとブラフ\"];\r",
      "\r\n",
      "        unc02[label=\"UNC-02\\nプッシュ・ユア・ラック\"];\r",
      "\r\n",
      "        unc03[label=\"UNC-03\\nメモリー\"];\r",
      "\r\n",
      "        unc04[label=\"UNC-04\\n隠し役割\"];\r",
      "\r\n",
      "        unc05[label=\"UNC-05\\n非対称情報を持つ役割\"];\r",
      "\r\n",
      "        unc06[label=\"UNC-06\\nコミュニケーション制限\"];\r",
      "\r\n",
      "        unc07[label=\"UNC-07\\n未知の情報\"];\r",
      "\r\n",
      "        unc08[label=\"UNC-08\\n隠し情報\"];\r",
      "\r\n",
      "        unc09[label=\"UNC-09\\n確率管理\"];\r",
      "\r\n",
      "        unc10[label=\"UNC-10\\nバリアブル・セットアップ\"];\r",
      "\r\n",
      "        unc11[label=\"UNC-11\\n隠しコントロール\"];\r",
      "\r\n",
      "        color=blue;\r",
      "\r\n",
      "        label=\"不確実性\";\r",
      "\r\n",
      "    }\r",
      "\r\n",
      "\r",
      "\r\n",
      "    subgraph cluster_ECO {\r",
      "\r\n",
      "        eco01[label=\"ECO-01\\n交換\"];\r",
      "\r\n",
      "        eco02[label=\"ECO-02\\nトレード\"];\r",
      "\r\n",
      "        eco03[label=\"ECO-03\\nマーケット\"];\r",
      "\r\n",
      "        eco04[label=\"ECO-04\\n遅延購入\"];\r",
      "\r\n",
      "        eco05[label=\"ECO-05\\n収入\"];\r",
      "\r\n",
      "        eco06[label=\"ECO-06\\nリソースの自動増加\"];\r",
      "\r\n",
      "        eco07[label=\"ECO-07\\nローン\"];\r",
      "\r\n",
      "        eco08[label=\"ECO-08\\n常時購入可能\"];\r",
      "\r\n",
      "        eco09[label=\"ECO-09\\n「私が切って、あなたが選ぶ」\"];\r",
      "\r\n",
      "        eco10[label=\"ECO-10\\nディスカウント\"];\r",
      "\r\n",
      "        eco11[label=\"ECO-11\\nアップグレード\"];\r",
      "\r\n",
      "        eco12[label=\"ECO-12\\nランダムプロダクション\"];\r",
      "\r\n",
      "        eco13[label=\"ECO-13\\n投資\"];\r",
      "\r\n",
      "        eco14[label=\"ECO-14\\n所有権\"];\r",
      "\r\n",
      "        eco15[label=\"ECO-15\\n契約\"];\r",
      "\r\n",
      "        eco16[label=\"ECO-16\\n賄賂\"];\r",
      "\r\n",
      "        eco17[label=\"ECO-17\\n未選択リソースの価値向上\"];\r",
      "\r\n",
      "        eco18[label=\"ECO-18\\n交渉\"];\r",
      "\r\n",
      "        eco19[label=\"ECO-19\\n同盟\"];\r",
      "\r\n",
      "        color=blue;\r",
      "\r\n",
      "        label=\"エコノミー\";\r",
      "\r\n",
      "    }\r",
      "\r\n",
      "\r",
      "\r\n",
      "    subgraph cluster_AUC {\r",
      "\r\n",
      "        auc01[label=\"AUC-01\\n公開オークション\"];\r",
      "\r\n",
      "        auc02[label=\"AUC-02\\nイングリッシュオークション\"];\r",
      "\r\n",
      "        auc03[label=\"AUC-03\\nパスまでターンオーダーオークション\"];\r",
      "\r\n",
      "        auc04[label=\"AUC-04\\n封印入札オークション\"];\r",
      "\r\n",
      "        auc05[label=\"AUC-05\\nキャンセルのある封印入札\"];\r",
      "\r\n",
      "        auc06[label=\"AUC-06\\n制約付き入札\"];\r",
      "\r\n",
      "        auc07[label=\"AUC-07\\n一周オークション\"];\r",
      "\r\n",
      "        auc08[label=\"AUC-08\\nダッチオークション\"];\r",
      "\r\n",
      "        auc09[label=\"AUC-09\\n2位入札オークション\"];\r",
      "\r\n",
      "        auc10[label=\"AUC-10\\nセレクションオーダービッド\"];\r",
      "\r\n",
      "        auc11[label=\"AUC-11\\nマルチロットオークション\"];\r",
      "\r\n",
      "        auc12[label=\"AUC-12\\nクローズドエコノミーオークション\"];\r",
      "\r\n",
      "        auc13[label=\"AUC-13\\nリバースオークション\"];\r",
      "\r\n",
      "        auc14[label=\"AUC-14\\n器用さによるオークション\"];\r",
      "\r\n",
      "        auc15[label=\"AUC-15\\n固定配置オークション\"];\r",
      "\r\n",
      "        auc16[label=\"AUC-16\\n優先ダッチオークション\"];\r",
      "\r\n",
      "        color=blue;\r",
      "\r\n",
      "        label=\"オークション\";\r",
      "\r\n",
      "    }\r",
      "\r\n",
      "\r",
      "\r\n",
      "    subgraph cluster_WPL {\r",
      "\r\n",
      "        wpl01[label=\"WPL-01\\n標準ワーカープレイスメント\"];\r",
      "\r\n",
      "        wpl02[label=\"WPL-02\\nタイプの異なるワーカー\"];\r",
      "\r\n",
      "        wpl03[label=\"WPL-03\\nワーカーの獲得と喪失\"];\r",
      "\r\n",
      "        wpl04[label=\"WPL-04\\nダイスのワーカー\"];\r",
      "\r\n",
      "        wpl05[label=\"WPL-05\\n建物の追加とブロッキング\"];\r",
      "\r\n",
      "        wpl06[label=\"WPL-06\\nシングルワーカー\"];\r",
      "\r\n",
      "        wpl07[label=\"WPL-07\\n建物アクションと報酬\"];\r",
      "\r\n",
      "        wpl08[label=\"WPL-08\\nターンオーダーと解決順序\"];\r",
      "\r\n",
      "        color=blue;\r",
      "\r\n",
      "        label=\"ワーカープレイスメント\";\r",
      "\r\n",
      "    }\r",
      "\r\n",
      "\r",
      "\r\n",
      "    subgraph cluster_MOV {\r",
      "\r\n",
      "        mov01[label=\"MOV-01\\nマス割り\"];\r",
      "\r\n",
      "        mov02[label=\"MOV-02\\nロール・アンド・ムーブ\"];\r",
      "\r\n",
      "        mov03[label=\"MOV-03\\nパターン移動\"];\r",
      "\r\n",
      "        mov04[label=\"MOV-04\\n移動ポイント\"];\r",
      "\r\n",
      "        mov05[label=\"MOV-05\\n移動のためのリソース\"];\r",
      "\r\n",
      "        mov06[label=\"MOV-06\\n測定\"];\r",
      "\r\n",
      "        mov07[label=\"MOV-07\\n異種ダイス\"];\r",
      "\r\n",
      "        mov08[label=\"MOV-08\\nドリフト\"];\r",
      "\r\n",
      "        mov09[label=\"MOV-09\\nインパルス\"];\r",
      "\r\n",
      "        mov10[label=\"MOV-10\\n移動プログラム\"];\r",
      "\r\n",
      "        mov11[label=\"MOV-11\\n相対位置\"];\r",
      "\r\n",
      "        mov12[label=\"MOV-12\\nマンカラ\"];\r",
      "\r\n",
      "        mov13[label=\"MOV-13\\nチェイニング\"];\r",
      "\r\n",
      "        mov14[label=\"MOV-14\\nバイアス\"];\r",
      "\r\n",
      "        mov15[label=\"MOV-15\\n複数ユニットの移動\"];\r",
      "\r\n",
      "        mov16[label=\"MOV-16\\nマップ追加\"];\r",
      "\r\n",
      "        mov17[label=\"MOV-17\\nマップ縮小\"];\r",
      "\r\n",
      "        mov18[label=\"MOV-18\\nマップ変形\"];\r",
      "\r\n",
      "        mov19[label=\"MOV-19\\nデッキによる移動\"];\r",
      "\r\n",
      "        mov20[label=\"MOV-20\\n移動テンプレート\"];\r",
      "\r\n",
      "        mov21[label=\"MOV-21\\nマップになるコマ\"];\r",
      "\r\n",
      "        mov22[label=\"MOV-22\\n複数のマップ\"];\r",
      "\r\n",
      "        mov23[label=\"MOV-23\\nショートカット\"];\r",
      "\r\n",
      "        mov24[label=\"MOV-24\\n隠れ移動\"];\r",
      "\r\n",
      "        color=blue;\r",
      "\r\n",
      "        label=\"移動\";\r",
      "\r\n",
      "    }\r",
      "\r\n",
      "\r",
      "\r\n",
      "    subgraph cluster_ARC {\r",
      "\r\n",
      "        arc01[label=\"ARC-01\\n絶対コントロール\"];\r",
      "\r\n",
      "        arc02[label=\"ARC-02\\nエリアマジョリティ／エリアインフルエンス\"];\r",
      "\r\n",
      "        arc03[label=\"ARC-03\\n軍隊タイプ\"];\r",
      "\r\n",
      "        arc04[label=\"ARC-04\\n領地とエリア\"];\r",
      "\r\n",
      "        arc05[label=\"ARC-05\\nエリアパラメーター\"];\r",
      "\r\n",
      "        arc06[label=\"ARC-06\\nフォースプロジェクション\"];\r",
      "\r\n",
      "        arc07[label=\"ARC-07\\nゾーン・オブ・コントロール\"];\r",
      "\r\n",
      "        arc08[label=\"ARC-08\\nライン・オブ・サイト\"];\r",
      "\r\n",
      "        color=blue;\r",
      "\r\n",
      "        label=\"エリアコントロール\";\r",
      "\r\n",
      "    }\r",
      "\r\n",
      "\r",
      "\r\n",
      "    subgraph cluster_SET {\r",
      "\r\n",
      "        set01[label=\"SET-01\\nセット評価\"];\r",
      "\r\n",
      "        set02[label=\"SET-02\\nタイル配置\"];\r",
      "\r\n",
      "        set03[label=\"SET-03\\nグリッドカバー\"];\r",
      "\r\n",
      "        set04[label=\"SET-04\\nネットワークビルド\"];\r",
      "\r\n",
      "        set05[label=\"SET-05\\nコンボ能力\"];\r",
      "\r\n",
      "        color=blue;\r",
      "\r\n",
      "        label=\"セットコレクション\";\r",
      "\r\n",
      "    }\r",
      "\r\n",
      "\r",
      "\r\n",
      "    subgraph cluster_CAR {\r",
      "\r\n",
      "        car01[label=\"CAR-01\\nトリックテイキング\"];\r",
      "\r\n",
      "        car02[label=\"CAR-02\\nラダークライミング（ハシゴ上り）\"];\r",
      "\r\n",
      "        car03[label=\"CAR-03\\nメルドとスプレイ\"];\r",
      "\r\n",
      "        car04[label=\"CAR-04\\nカードドローと上限、デッキ切れ\"];\r",
      "\r\n",
      "        car05[label=\"CAR-05\\nデッキビルド\"];\r",
      "\r\n",
      "        car06[label=\"CAR-06\\nドラフト\"];\r",
      "\r\n",
      "        color=blue;\r",
      "\r\n",
      "        label=\"カードメカニクス\";\r",
      "\r\n",
      "    }\r",
      "\r\n",
      "\r",
      "\r\n",
      "str01 -- act12\r",
      "\r\n",
      "str01 -- unc10\r",
      "\r\n",
      "\r",
      "\r\n",
      "str03 -- str07\r",
      "\r\n",
      "str03 -- unc04\r",
      "\r\n",
      "\r",
      "\r\n",
      "str04 -- str02\r",
      "\r\n",
      "\r",
      "\r\n",
      "str05 -- str02\r",
      "\r\n",
      "\r",
      "\r\n",
      "str07 -- str02\r",
      "\r\n",
      "str07 -- str03\r",
      "\r\n",
      "str07 -- unc04\r",
      "\r\n",
      "\r",
      "\r\n",
      "str10 -- act15\r",
      "\r\n",
      "str10 -- car05\r",
      "\r\n",
      "\r",
      "\r\n",
      "trn01 -- trn04\r",
      "\r\n",
      "trn01 -- trn05\r",
      "\r\n",
      "\r",
      "\r\n",
      "trn02 -- vic01\r",
      "\r\n",
      "trn02 -- vic06\r",
      "\r\n",
      "trn02 -- vic18\r",
      "\r\n",
      "\r",
      "\r\n",
      "trn03 -- res18\r",
      "\r\n",
      "trn03 -- auc03\r",
      "\r\n",
      "trn03 -- arc02\r",
      "\r\n",
      "\r",
      "\r\n",
      "trn04 -- str05\r",
      "\r\n",
      "trn04 -- trn01\r",
      "\r\n",
      "trn04 -- act08\r",
      "\r\n",
      "\r",
      "\r\n",
      "trn05 -- trn02\r",
      "\r\n",
      "trn05 -- trn06\r",
      "\r\n",
      "trn05 -- act02\r",
      "\r\n",
      "trn05 -- car01\r",
      "\r\n",
      "\r",
      "\r\n",
      "trn06 -- car06\r",
      "\r\n",
      "\r",
      "\r\n",
      "trn07 -- trn08\r",
      "\r\n",
      "\r",
      "\r\n",
      "trn08 -- trn07\r",
      "\r\n",
      "\r",
      "\r\n",
      "trn09 -- trn10\r",
      "\r\n",
      "trn09 -- unc01\r",
      "\r\n",
      "trn09 -- eco18\r",
      "\r\n",
      "\r",
      "\r\n",
      "trn10 -- trn09\r",
      "\r\n",
      "trn10 -- trn16\r",
      "\r\n",
      "trn10 -- act08\r",
      "\r\n",
      "trn10 -- unc01\r",
      "\r\n",
      "trn10 -- car06\r",
      "\r\n",
      "\r",
      "\r\n",
      "trn11 -- car05\r",
      "\r\n",
      "\r",
      "\r\n",
      "trn12 -- trn07\r",
      "\r\n",
      "\r",
      "\r\n",
      "trn14 -- trn07\r",
      "\r\n",
      "trn14 -- trn12\r",
      "\r\n",
      "trn14 -- trn16\r",
      "\r\n",
      "\r",
      "\r\n",
      "trn15 -- trn02\r",
      "\r\n",
      "\r",
      "\r\n",
      "trn16 -- trn14\r",
      "\r\n",
      "trn16 -- act03\r",
      "\r\n",
      "trn16 -- mov02\r",
      "\r\n",
      "\r",
      "\r\n",
      "trn17 -- trn16\r",
      "\r\n",
      "\r",
      "\r\n",
      "act02 -- trn10\r",
      "\r\n",
      "act02 -- act08\r",
      "\r\n",
      "act02 -- res19\r",
      "\r\n",
      "act02 -- unc05\r",
      "\r\n",
      "act02 -- car06\r",
      "\r\n",
      "\r",
      "\r\n",
      "act03 -- act13\r",
      "\r\n",
      "\r",
      "\r\n",
      "act04 -- act01\r",
      "\r\n",
      "act04 -- act17\r",
      "\r\n",
      "\r",
      "\r\n",
      "act05 -- trn11\r",
      "\r\n",
      "\r",
      "\r\n",
      "act06 -- trn15\r",
      "\r\n",
      "act06 -- unc01\r",
      "\r\n",
      "\r",
      "\r\n",
      "act07 -- trn13\r",
      "\r\n",
      "act07 -- act06\r",
      "\r\n",
      "act07 -- act08\r",
      "\r\n",
      "\r",
      "\r\n",
      "act08 -- trn10\r",
      "\r\n",
      "act08 -- trn17\r",
      "\r\n",
      "act08 -- act02\r",
      "\r\n",
      "act08 -- car05\r",
      "\r\n",
      "\r",
      "\r\n",
      "act09 -- trn15\r",
      "\r\n",
      "act09 -- act06\r",
      "\r\n",
      "\r",
      "\r\n",
      "act10 -- act01\r",
      "\r\n",
      "act10 -- mov12\r",
      "\r\n",
      "\r",
      "\r\n",
      "act11 -- act02\r",
      "\r\n",
      "act11 -- act03\r",
      "\r\n",
      "act11 -- act05\r",
      "\r\n",
      "act11 -- act10\r",
      "\r\n",
      "\r",
      "\r\n",
      "act14 -- act12\r",
      "\r\n",
      "act14 -- act13\r",
      "\r\n",
      "act14 -- res18\r",
      "\r\n",
      "act14 -- auc04\r",
      "\r\n",
      "\r",
      "\r\n",
      "act16 -- act15\r",
      "\r\n",
      "\r",
      "\r\n",
      "act18 -- act15\r",
      "\r\n",
      "act18 -- res02\r",
      "\r\n",
      "\r",
      "\r\n",
      "res01 -- res02\r",
      "\r\n",
      "res01 -- res18\r",
      "\r\n",
      "\r",
      "\r\n",
      "res02 -- res01\r",
      "\r\n",
      "\r",
      "\r\n",
      "res03 -- res04\r",
      "\r\n",
      "\r",
      "\r\n",
      "res05 -- res01\r",
      "\r\n",
      "res05 -- res02\r",
      "\r\n",
      "\r",
      "\r\n",
      "res06 -- trn17\r",
      "\r\n",
      "res06 -- act03\r",
      "\r\n",
      "res06 -- unc01\r",
      "\r\n",
      "\r",
      "\r\n",
      "res07 -- res01\r",
      "\r\n",
      "res07 -- res02\r",
      "\r\n",
      "res07 -- res08\r",
      "\r\n",
      "res07 -- auc05\r",
      "\r\n",
      "\r",
      "\r\n",
      "res08 -- trn09\r",
      "\r\n",
      "res08 -- res07\r",
      "\r\n",
      "res08 -- unc01\r",
      "\r\n",
      "\r",
      "\r\n",
      "res09 -- arc02\r",
      "\r\n",
      "\r",
      "\r\n",
      "res10 -- vic11\r",
      "\r\n",
      "\r",
      "\r\n",
      "res11 -- mov03\r",
      "\r\n",
      "res11 -- mov13\r",
      "\r\n",
      "\r",
      "\r\n",
      "res12 -- arc02\r",
      "\r\n",
      "\r",
      "\r\n",
      "res13 -- res02\r",
      "\r\n",
      "res13 -- res14\r",
      "\r\n",
      "\r",
      "\r\n",
      "res14 -- res01\r",
      "\r\n",
      "res14 -- unc01\r",
      "\r\n",
      "res14 -- auc04\r",
      "\r\n",
      "\r",
      "\r\n",
      "res15 -- arc02\r",
      "\r\n",
      "\r",
      "\r\n",
      "res16 -- vic18\r",
      "\r\n",
      "\r",
      "\r\n",
      "res17 -- str03\r",
      "\r\n",
      "\r",
      "\r\n",
      "res18 -- eco18\r",
      "\r\n",
      "\r",
      "\r\n",
      "res20 -- trn09\r",
      "\r\n",
      "res20 -- res18\r",
      "\r\n",
      "\r",
      "\r\n",
      "res21 -- res02\r",
      "\r\n",
      "res21 -- unc02\r",
      "\r\n",
      "\r",
      "\r\n",
      "res22 -- str05\r",
      "\r\n",
      "res22 -- act15\r",
      "\r\n",
      "\r",
      "\r\n",
      "vic01 -- vic02\r",
      "\r\n",
      "vic01 -- vic12\r",
      "\r\n",
      "vic01 -- arc02\r",
      "\r\n",
      "vic01 -- car06\r",
      "\r\n",
      "\r",
      "\r\n",
      "vic02 -- vic01\r",
      "\r\n",
      "vic02 -- vic11\r",
      "\r\n",
      "\r",
      "\r\n",
      "vic04 -- auc08\r",
      "\r\n",
      "\r",
      "\r\n",
      "vic05 -- vic06\r",
      "\r\n",
      "vic05 -- vic15\r",
      "\r\n",
      "\r",
      "\r\n",
      "vic06 -- act15\r",
      "\r\n",
      "\r",
      "\r\n",
      "vic07 -- vic01\r",
      "\r\n",
      "\r",
      "\r\n",
      "vic08 -- str03\r",
      "\r\n",
      "vic08 -- unc04\r",
      "\r\n",
      "\r",
      "\r\n",
      "vic09 -- vic05\r",
      "\r\n",
      "\r",
      "\r\n",
      "vic10 -- str02\r",
      "\r\n",
      "\r",
      "\r\n",
      "vic11 -- vic06\r",
      "\r\n",
      "vic11 -- vic07\r",
      "\r\n",
      "vic11 -- vic10\r",
      "\r\n",
      "\r",
      "\r\n",
      "vic13 -- str03\r",
      "\r\n",
      "vic13 -- str05\r",
      "\r\n",
      "vic13 -- trn07\r",
      "\r\n",
      "\r",
      "\r\n",
      "vic14 -- vic07\r",
      "\r\n",
      "vic14 -- set02\r",
      "\r\n",
      "vic14 -- set04\r",
      "\r\n",
      "\r",
      "\r\n",
      "vic15 -- str02\r",
      "\r\n",
      "vic15 -- vic19\r",
      "\r\n",
      "\r",
      "\r\n",
      "vic16 -- vic14\r",
      "\r\n",
      "\r",
      "\r\n",
      "vic17 -- vic18\r",
      "\r\n",
      "\r",
      "\r\n",
      "vic18 -- vic04\r",
      "\r\n",
      "vic18 -- vic17\r",
      "\r\n",
      "\r",
      "\r\n",
      "vic19 -- vic11\r",
      "\r\n",
      "vic19 -- vic15\r",
      "\r\n",
      "\r",
      "\r\n",
      "unc01 -- act02\r",
      "\r\n",
      "unc01 -- res01\r",
      "\r\n",
      "unc01 -- vic07\r",
      "\r\n",
      "unc01 -- unc04\r",
      "\r\n",
      "unc01 -- car01\r",
      "\r\n",
      "\r",
      "\r\n",
      "unc02 -- unc01\r",
      "\r\n",
      "unc02 -- car05\r",
      "\r\n",
      "\r",
      "\r\n",
      "unc03 -- car01\r",
      "\r\n",
      "\r",
      "\r\n",
      "unc04 -- str02\r",
      "\r\n",
      "unc04 -- str03\r",
      "\r\n",
      "unc04 -- str07\r",
      "\r\n",
      "unc04 -- vic06\r",
      "\r\n",
      "unc04 -- vic08\r",
      "\r\n",
      "unc04 -- unc01\r",
      "\r\n",
      "\r",
      "\r\n",
      "unc05 -- str02\r",
      "\r\n",
      "unc05 -- unc04\r",
      "\r\n",
      "\r",
      "\r\n",
      "unc06 -- str02\r",
      "\r\n",
      "unc06 -- str07\r",
      "\r\n",
      "\r",
      "\r\n",
      "unc07 -- act17\r",
      "\r\n",
      "\r",
      "\r\n",
      "unc08 -- unc01\r",
      "\r\n",
      "unc08 -- unc04\r",
      "\r\n",
      "\r",
      "\r\n",
      "unc09 -- unc01\r",
      "\r\n",
      "unc09 -- car05\r",
      "\r\n",
      "\r",
      "\r\n",
      "unc10 -- unc07\r",
      "\r\n",
      "unc10 -- unc08\r",
      "\r\n",
      "unc10 -- car06\r",
      "\r\n",
      "\r",
      "\r\n",
      "unc11 -- unc01\r",
      "\r\n",
      "\r",
      "\r\n",
      "eco02 -- vic18\r",
      "\r\n",
      "eco02 -- eco01\r",
      "\r\n",
      "eco02 -- eco18\r",
      "\r\n",
      "\r",
      "\r\n",
      "eco03 -- eco01\r",
      "\r\n",
      "\r",
      "\r\n",
      "eco04 -- car05\r",
      "\r\n",
      "\r",
      "\r\n",
      "eco05 -- eco01\r",
      "\r\n",
      "eco05 -- eco03\r",
      "\r\n",
      "eco05 -- eco06\r",
      "\r\n",
      "eco05 -- eco07\r",
      "\r\n",
      "eco05 -- eco12\r",
      "\r\n",
      "eco05 -- eco14\r",
      "\r\n",
      "eco05 -- auc12\r",
      "\r\n",
      "eco05 -- mov02\r",
      "\r\n",
      "\r",
      "\r\n",
      "eco08 -- car05\r",
      "\r\n",
      "\r",
      "\r\n",
      "eco10 -- act16\r",
      "\r\n",
      "eco10 -- eco01\r",
      "\r\n",
      "eco10 -- eco11\r",
      "\r\n",
      "\r",
      "\r\n",
      "eco11 -- act15\r",
      "\r\n",
      "eco11 -- act16\r",
      "\r\n",
      "eco11 -- eco10\r",
      "\r\n",
      "\r",
      "\r\n",
      "eco13 -- vic14\r",
      "\r\n",
      "eco13 -- arc02\r",
      "\r\n",
      "eco13 -- set04\r",
      "\r\n",
      "eco13 -- car04\r",
      "\r\n",
      "\r",
      "\r\n",
      "eco14 -- eco13\r",
      "\r\n",
      "\r",
      "\r\n",
      "eco15 -- car06\r",
      "\r\n",
      "\r",
      "\r\n",
      "eco16 -- unc01\r",
      "\r\n",
      "eco16 -- eco02\r",
      "\r\n",
      "eco16 -- arc02\r",
      "\r\n",
      "\r",
      "\r\n",
      "eco17 -- auc08\r",
      "\r\n",
      "\r",
      "\r\n",
      "eco18 -- trn09\r",
      "\r\n",
      "eco18 -- res15\r",
      "\r\n",
      "eco18 -- unc04\r",
      "\r\n",
      "eco18 -- eco02\r",
      "\r\n",
      "eco18 -- eco16\r",
      "\r\n",
      "\r",
      "\r\n",
      "eco19 -- unc04\r",
      "\r\n",
      "eco19 -- eco18\r",
      "\r\n",
      "eco19 -- car01\r",
      "\r\n",
      "\r",
      "\r\n",
      "auc02 -- auc01\r",
      "\r\n",
      "auc02 -- auc08\r",
      "\r\n",
      "\r",
      "\r\n",
      "auc03 -- auc01\r",
      "\r\n",
      "auc03 -- auc02\r",
      "\r\n",
      "auc03 -- car06\r",
      "\r\n",
      "\r",
      "\r\n",
      "auc04 -- res18\r",
      "\r\n",
      "auc04 -- vic18\r",
      "\r\n",
      "auc04 -- auc03\r",
      "\r\n",
      "\r",
      "\r\n",
      "auc05 -- unc01\r",
      "\r\n",
      "auc05 -- auc06\r",
      "\r\n",
      "\r",
      "\r\n",
      "auc06 -- act01\r",
      "\r\n",
      "auc06 -- arc02\r",
      "\r\n",
      "\r",
      "\r\n",
      "auc07 -- auc04\r",
      "\r\n",
      "auc07 -- auc06\r",
      "\r\n",
      "auc07 -- car06\r",
      "\r\n",
      "\r",
      "\r\n",
      "auc08 -- act01\r",
      "\r\n",
      "auc08 -- vic04\r",
      "\r\n",
      "auc08 -- eco17\r",
      "\r\n",
      "\r",
      "\r\n",
      "auc09 -- auc02\r",
      "\r\n",
      "auc09 -- auc03\r",
      "\r\n",
      "auc09 -- auc04\r",
      "\r\n",
      "auc09 -- auc08\r",
      "\r\n",
      "\r",
      "\r\n",
      "auc10 -- auc06\r",
      "\r\n",
      "\r",
      "\r\n",
      "auc11 -- auc04\r",
      "\r\n",
      "auc11 -- auc05\r",
      "\r\n",
      "auc11 -- auc15\r",
      "\r\n",
      "auc11 -- auc16\r",
      "\r\n",
      "auc11 -- arc02\r",
      "\r\n",
      "\r",
      "\r\n",
      "auc13 -- auc03\r",
      "\r\n",
      "auc13 -- auc04\r",
      "\r\n",
      "auc13 -- auc06\r",
      "\r\n",
      "auc13 -- auc11\r",
      "\r\n",
      "auc13 -- car01\r",
      "\r\n",
      "\r",
      "\r\n",
      "auc14 -- trn07\r",
      "\r\n",
      "auc14 -- unc03\r",
      "\r\n",
      "\r",
      "\r\n",
      "auc15 -- auc06\r",
      "\r\n",
      "auc15 -- auc11\r",
      "\r\n",
      "\r",
      "\r\n",
      "auc16 -- auc08\r",
      "\r\n",
      "auc16 -- auc11\r",
      "\r\n",
      "\r",
      "\r\n",
      "wpl02 -- eco11\r",
      "\r\n",
      "wpl02 -- wpl01\r",
      "\r\n",
      "\r",
      "\r\n",
      "wpl05 -- act02\r",
      "\r\n",
      "wpl05 -- eco14\r",
      "\r\n",
      "wpl05 -- auc08\r",
      "\r\n",
      "wpl05 -- wpl04\r",
      "\r\n",
      "\r",
      "\r\n",
      "wpl06 -- trn10\r",
      "\r\n",
      "wpl06 -- trn13\r",
      "\r\n",
      "wpl06 -- act01\r",
      "\r\n",
      "wpl06 -- act02\r",
      "\r\n",
      "wpl06 -- act10\r",
      "\r\n",
      "\r",
      "\r\n",
      "wpl07 -- trn10\r",
      "\r\n",
      "wpl07 -- act02\r",
      "\r\n",
      "wpl07 -- eco11\r",
      "\r\n",
      "\r",
      "\r\n",
      "wpl08 -- trn05\r",
      "\r\n",
      "wpl08 -- trn11\r",
      "\r\n",
      "wpl08 -- auc08\r",
      "\r\n",
      "wpl08 -- wpl03\r",
      "\r\n",
      "wpl08 -- wpl05\r",
      "\r\n",
      "wpl08 -- arc02\r",
      "\r\n",
      "wpl08 -- car06\r",
      "\r\n",
      "\r",
      "\r\n",
      "mov01 -- vic07\r",
      "\r\n",
      "mov01 -- mov02\r",
      "\r\n",
      "\r",
      "\r\n",
      "mov02 -- unc02\r",
      "\r\n",
      "mov02 -- unc09\r",
      "\r\n",
      "mov02 -- mov07\r",
      "\r\n",
      "\r",
      "\r\n",
      "mov03 -- eco11\r",
      "\r\n",
      "\r",
      "\r\n",
      "mov04 -- act01\r",
      "\r\n",
      "\r",
      "\r\n",
      "mov05 -- mov02\r",
      "\r\n",
      "\r",
      "\r\n",
      "mov06 -- mov04\r",
      "\r\n",
      "\r",
      "\r\n",
      "mov07 -- mov04\r",
      "\r\n",
      "\r",
      "\r\n",
      "mov10 -- act06\r",
      "\r\n",
      "\r",
      "\r\n",
      "mov11 -- vic07\r",
      "\r\n",
      "\r",
      "\r\n",
      "mov12 -- act10\r",
      "\r\n",
      "\r",
      "\r\n",
      "mov14 -- mov10\r",
      "\r\n",
      "\r",
      "\r\n",
      "mov15 -- act05\r",
      "\r\n",
      "mov15 -- unc01\r",
      "\r\n",
      "\r",
      "\r\n",
      "mov16 -- vic18\r",
      "\r\n",
      "mov16 -- set02\r",
      "\r\n",
      "\r",
      "\r\n",
      "mov18 -- wpl05\r",
      "\r\n",
      "\r",
      "\r\n",
      "mov19 -- act15\r",
      "\r\n",
      "\r",
      "\r\n",
      "mov20 -- act03\r",
      "\r\n",
      "mov20 -- mov06\r",
      "\r\n",
      "mov20 -- mov10\r",
      "\r\n",
      "\r",
      "\r\n",
      "mov22 -- set04\r",
      "\r\n",
      "\r",
      "\r\n",
      "mov23 -- mov02\r",
      "\r\n",
      "\r",
      "\r\n",
      "mov24 -- act06\r",
      "\r\n",
      "mov24 -- mov01\r",
      "\r\n",
      "mov24 -- arc08\r",
      "\r\n",
      "\r",
      "\r\n",
      "arc01 -- eco14\r",
      "\r\n",
      "\r",
      "\r\n",
      "arc02 -- res12\r",
      "\r\n",
      "arc02 -- res18\r",
      "\r\n",
      "arc02 -- auc11\r",
      "\r\n",
      "\r",
      "\r\n",
      "arc03 -- arc02\r",
      "\r\n",
      "\r",
      "\r\n",
      "arc05 -- vic01\r",
      "\r\n",
      "arc05 -- arc06\r",
      "\r\n",
      "arc05 -- arc08\r",
      "\r\n",
      "\r",
      "\r\n",
      "arc06 -- res12\r",
      "\r\n",
      "arc06 -- arc02\r",
      "\r\n",
      "\r",
      "\r\n",
      "arc07 -- mov04\r",
      "\r\n",
      "arc07 -- arc06\r",
      "\r\n",
      "\r",
      "\r\n",
      "arc08 -- mov01\r",
      "\r\n",
      "arc08 -- arc06\r",
      "\r\n",
      "\r",
      "\r\n",
      "set01 -- unc02\r",
      "\r\n",
      "\r",
      "\r\n",
      "set02 -- res12\r",
      "\r\n",
      "set02 -- arc02\r",
      "\r\n",
      "\r",
      "\r\n",
      "set03 -- arc02\r",
      "\r\n",
      "\r",
      "\r\n",
      "set04 -- vic14\r",
      "\r\n",
      "set04 -- eco11\r",
      "\r\n",
      "set04 -- wpl05\r",
      "\r\n",
      "set04 -- set01\r",
      "\r\n",
      "set04 -- set02\r",
      "\r\n",
      "\r",
      "\r\n",
      "set05 -- arc06\r",
      "\r\n",
      "set05 -- set01\r",
      "\r\n",
      "set05 -- car06\r",
      "\r\n",
      "\r",
      "\r\n",
      "car01 -- unc03\r",
      "\r\n",
      "car01 -- auc04\r",
      "\r\n",
      "car01 -- auc07\r",
      "\r\n",
      "\r",
      "\r\n",
      "car02 -- car01\r",
      "\r\n",
      "\r",
      "\r\n",
      "car04 -- str02\r",
      "\r\n",
      "car04 -- eco02\r",
      "\r\n",
      "car04 -- car03\r",
      "\r\n",
      "\r",
      "\r\n",
      "car05 -- act16\r",
      "\r\n",
      "car05 -- set05\r",
      "\r\n",
      "\r",
      "\r\n",
      "car06 -- act02\r",
      "\r\n",
      "car06 -- set05\r",
      "\r\n",
      "\r",
      "\r\n",
      "}\r",
      "\r\n",
      "\r",
      "\r\n"
     ]
    }
   ],
   "source": [
    "!cat gamemech.dot"
   ]
  },
  {
   "cell_type": "markdown",
   "metadata": {
    "hidden": true,
    "lc_cell_meme": {
     "current": "7ce6b4a4-483b-11eb-9304-0242ac110002-4-8a95-5f17-9301-b764",
     "history": [
      {
       "current": "7ce6b4a4-483b-11eb-9304-0242ac110002-1-8a95",
       "next": "0fe29b6a-41c5-11eb-aed8-0242ac110002-6-0a39-a2ce-cb4d-b86c-0b8e-e90a",
       "previous": "eddbb3b8-483a-11eb-9304-0242ac110002"
      },
      {
       "current": "7ce6b4a4-483b-11eb-9304-0242ac110002-2-8a95-5f17",
       "next": "0fe29b6a-41c5-11eb-aed8-0242ac110002-7-0a39-a2ce-cb4d-b86c-0b8e-e90a-b3a8",
       "previous": "eddbb3b8-483a-11eb-9304-0242ac110002-1-d5ec"
      },
      {
       "current": "7ce6b4a4-483b-11eb-9304-0242ac110002-3-8a95-5f17-9301",
       "next": "0fe29b6a-41c5-11eb-aed8-0242ac110002-8-0a39-a2ce-cb4d-b86c-0b8e-e90a-b3a8-d017",
       "previous": "eddbb3b8-483a-11eb-9304-0242ac110002-2-d5ec-af60"
      },
      {
       "current": "7ce6b4a4-483b-11eb-9304-0242ac110002-4-8a95-5f17-9301-b764",
       "next": "0fe29b6a-41c5-11eb-aed8-0242ac110002-9-0a39-a2ce-cb4d-b86c-0b8e-e90a-b3a8-d017-5e91",
       "previous": "eddbb3b8-483a-11eb-9304-0242ac110002-3-d5ec-af60-742b"
      }
     ],
     "next": "0fe29b6a-41c5-11eb-aed8-0242ac110002-10-0a39-a2ce-cb4d-b86c-0b8e-e90a-b3a8-d017-5e91-280f",
     "previous": "eddbb3b8-483a-11eb-9304-0242ac110002-4-d5ec-af60-742b-4ce4"
    }
   },
   "source": [
    "これを分析・加工のために読み込む。"
   ]
  },
  {
   "cell_type": "code",
   "execution_count": 6,
   "metadata": {
    "deletable": false,
    "editable": false,
    "hidden": true,
    "lc_cell_meme": {
     "current": "0fe29b6a-41c5-11eb-aed8-0242ac110002-10-0a39-a2ce-cb4d-b86c-0b8e-e90a-b3a8-d017-5e91-280f",
     "execution_end_time": "2020-12-29T08:59:22.739598Z",
     "history": [
      {
       "current": "0fe29b6a-41c5-11eb-aed8-0242ac110002-1-0a39",
       "next": "d78c2500-41bb-11eb-aed8-0242ac110002",
       "previous": "d78c2460-41bb-11eb-aed8-0242ac110002"
      },
      {
       "current": "0fe29b6a-41c5-11eb-aed8-0242ac110002-2-0a39-a2ce",
       "next": "b96ea8e2-41cd-11eb-aed8-0242ac110002",
       "previous": "d78c2460-41bb-11eb-aed8-0242ac110002"
      },
      {
       "current": "0fe29b6a-41c5-11eb-aed8-0242ac110002-3-0a39-a2ce-cb4d",
       "next": "b96ea8e2-41cd-11eb-aed8-0242ac110002-1-b13b",
       "previous": "d78c2460-41bb-11eb-aed8-0242ac110002-1-2013"
      },
      {
       "current": "0fe29b6a-41c5-11eb-aed8-0242ac110002-4-0a39-a2ce-cb4d-b86c",
       "next": "b96ea8e2-41cd-11eb-aed8-0242ac110002-2-b13b-0554",
       "previous": "d78c2460-41bb-11eb-aed8-0242ac110002-2-2013-3fba"
      },
      {
       "current": "0fe29b6a-41c5-11eb-aed8-0242ac110002-5-0a39-a2ce-cb4d-b86c-0b8e",
       "next": "b96ea8e2-41cd-11eb-aed8-0242ac110002-3-b13b-0554-49ee",
       "previous": "d78c2460-41bb-11eb-aed8-0242ac110002-3-2013-3fba-d374"
      },
      {
       "current": "0fe29b6a-41c5-11eb-aed8-0242ac110002-6-0a39-a2ce-cb4d-b86c-0b8e-e90a",
       "next": "b96ea8e2-41cd-11eb-aed8-0242ac110002-4-b13b-0554-49ee-06a9",
       "previous": "d78c2460-41bb-11eb-aed8-0242ac110002-4-2013-3fba-d374-6e74"
      },
      {
       "current": "0fe29b6a-41c5-11eb-aed8-0242ac110002-6-0a39-a2ce-cb4d-b86c-0b8e-e90a",
       "next": "b96ea8e2-41cd-11eb-aed8-0242ac110002-5-b13b-0554-49ee-06a9-5ab1",
       "previous": "eddbb3b8-483a-11eb-9304-0242ac110002"
      },
      {
       "current": "0fe29b6a-41c5-11eb-aed8-0242ac110002-7-0a39-a2ce-cb4d-b86c-0b8e-e90a-b3a8",
       "next": "b96ea8e2-41cd-11eb-aed8-0242ac110002-5-b13b-0554-49ee-06a9-5ab1",
       "previous": "7ce6b4a4-483b-11eb-9304-0242ac110002"
      },
      {
       "current": "0fe29b6a-41c5-11eb-aed8-0242ac110002-8-0a39-a2ce-cb4d-b86c-0b8e-e90a-b3a8-d017",
       "next": "b96ea8e2-41cd-11eb-aed8-0242ac110002-6-b13b-0554-49ee-06a9-5ab1-e2f7",
       "previous": "7ce6b4a4-483b-11eb-9304-0242ac110002-1-8a95"
      },
      {
       "current": "0fe29b6a-41c5-11eb-aed8-0242ac110002-9-0a39-a2ce-cb4d-b86c-0b8e-e90a-b3a8-d017-5e91",
       "next": "b96ea8e2-41cd-11eb-aed8-0242ac110002-7-b13b-0554-49ee-06a9-5ab1-e2f7-9822",
       "previous": "7ce6b4a4-483b-11eb-9304-0242ac110002-2-8a95-5f17"
      },
      {
       "current": "0fe29b6a-41c5-11eb-aed8-0242ac110002-10-0a39-a2ce-cb4d-b86c-0b8e-e90a-b3a8-d017-5e91-280f",
       "next": "b96ea8e2-41cd-11eb-aed8-0242ac110002-8-b13b-0554-49ee-06a9-5ab1-e2f7-9822-9514",
       "previous": "7ce6b4a4-483b-11eb-9304-0242ac110002-3-8a95-5f17-9301"
      }
     ],
     "next": "b96ea8e2-41cd-11eb-aed8-0242ac110002-9-b13b-0554-49ee-06a9-5ab1-e2f7-9822-9514-a626",
     "previous": "7ce6b4a4-483b-11eb-9304-0242ac110002-4-8a95-5f17-9301-b764"
    },
    "lc_wrapper": {
     "log_history": [
      "/home/jovyan/digraj202103/.log/20201219/20201219-064033-0690.log",
      "/home/jovyan/digraj202103/.log/20201219/20201219-064154-0191.log",
      "/home/jovyan/digraj202103/.log/20201219/20201219-064353-0969.log",
      "/home/jovyan/digraj202103/.log/20201219/20201219-064436-0442.log",
      "/home/jovyan/digraj202103/.log/20201219/20201219-072239-0607.log",
      "/home/jovyan/digraj202103/.log/20201219/20201219-072258-0932.log",
      "/home/jovyan/digraj202103/.log/20201219/20201219-072524-0863.log",
      "/home/jovyan/digraj202103/.log/20201219/20201219-072645-0959.log",
      "/home/jovyan/digraj202103/.log/20201219/20201219-072758-0932.log",
      "/home/jovyan/digraj202103/.log/20201219/20201219-073425-0022.log",
      "/home/jovyan/digraj202103/.log/20201219/20201219-075943-0217.log",
      "/home/jovyan/digraj202103/.log/20201225/20201225-074656-0935.log",
      "/home/jovyan/digraj202103/.log/20201225/20201225-132043-0639.log",
      "/home/jovyan/digraj202103/.log/20201226/20201226-133604-0546.log",
      "/home/jovyan/digraj202103/.log/20201226/20201226-143515-0006.log",
      "/home/jovyan/digraj202103/.log/20201227/20201227-123303-0172.log",
      "/home/jovyan/digraj202103/.log/20201227/20201227-131655-0772.log",
      "/home/jovyan/digraj202103/.log/20201228/20201228-015235-0086.log",
      "/home/jovyan/digraj202103/.log/20201228/20201228-115343-0918.log",
      "/home/jovyan/digraj202103/.log/20201229/20201229-045846-0242.log",
      "/home/jovyan/digraj202103/.log/20201229/20201229-085922-0728.log"
     ]
    },
    "run_through_control": {
     "frozen": true
    }
   },
   "outputs": [],
   "source": [
    "from pygraphviz import *\n",
    "g = AGraph(\"gamemech.dot\")"
   ]
  },
  {
   "cell_type": "markdown",
   "metadata": {
    "heading_collapsed": true,
    "lc_cell_meme": {
     "current": "b96ea8e2-41cd-11eb-aed8-0242ac110002-9-b13b-0554-49ee-06a9-5ab1-e2f7-9822-9514-a626",
     "history": [
      {
       "current": "b96ea8e2-41cd-11eb-aed8-0242ac110002",
       "next": "0fe29b6a-41c5-11eb-aed8-0242ac110002",
       "previous": "0fe29b6a-41c5-11eb-aed8-0242ac110002-1-0a39"
      },
      {
       "current": "b96ea8e2-41cd-11eb-aed8-0242ac110002-1-b13b",
       "next": "0fe29b6a-41c5-11eb-aed8-0242ac110002-1-2d87",
       "previous": "0fe29b6a-41c5-11eb-aed8-0242ac110002-1-0a39"
      },
      {
       "current": "b96ea8e2-41cd-11eb-aed8-0242ac110002-2-b13b-0554",
       "next": "0fe29b6a-41c5-11eb-aed8-0242ac110002-2-2d87-a8f9",
       "previous": "0fe29b6a-41c5-11eb-aed8-0242ac110002-2-0a39-a2ce"
      },
      {
       "current": "b96ea8e2-41cd-11eb-aed8-0242ac110002-3-b13b-0554-49ee",
       "next": "0fe29b6a-41c5-11eb-aed8-0242ac110002-3-2d87-a8f9-6b4b",
       "previous": "0fe29b6a-41c5-11eb-aed8-0242ac110002-3-0a39-a2ce-cb4d"
      },
      {
       "current": "b96ea8e2-41cd-11eb-aed8-0242ac110002-4-b13b-0554-49ee-06a9",
       "next": "0fe29b6a-41c5-11eb-aed8-0242ac110002-4-2d87-a8f9-6b4b-e073",
       "previous": "0fe29b6a-41c5-11eb-aed8-0242ac110002-4-0a39-a2ce-cb4d-b86c"
      },
      {
       "current": "b96ea8e2-41cd-11eb-aed8-0242ac110002-5-b13b-0554-49ee-06a9-5ab1",
       "next": "0fe29b6a-41c5-11eb-aed8-0242ac110002-5-2d87-a8f9-6b4b-e073-0872",
       "previous": "0fe29b6a-41c5-11eb-aed8-0242ac110002-5-0a39-a2ce-cb4d-b86c-0b8e"
      },
      {
       "current": "b96ea8e2-41cd-11eb-aed8-0242ac110002-5-b13b-0554-49ee-06a9-5ab1",
       "next": "0fe29b6a-41c5-11eb-aed8-0242ac110002-6-2d87-a8f9-6b4b-e073-0872-d9e7",
       "previous": "0fe29b6a-41c5-11eb-aed8-0242ac110002-6-0a39-a2ce-cb4d-b86c-0b8e-e90a"
      },
      {
       "current": "b96ea8e2-41cd-11eb-aed8-0242ac110002-6-b13b-0554-49ee-06a9-5ab1-e2f7",
       "next": "7ce6b6ac-483b-11eb-9304-0242ac110002",
       "previous": "0fe29b6a-41c5-11eb-aed8-0242ac110002-6-0a39-a2ce-cb4d-b86c-0b8e-e90a"
      },
      {
       "current": "b96ea8e2-41cd-11eb-aed8-0242ac110002-7-b13b-0554-49ee-06a9-5ab1-e2f7-9822",
       "next": "7ce6b6ac-483b-11eb-9304-0242ac110002-1-81cd",
       "previous": "0fe29b6a-41c5-11eb-aed8-0242ac110002-7-0a39-a2ce-cb4d-b86c-0b8e-e90a-b3a8"
      },
      {
       "current": "b96ea8e2-41cd-11eb-aed8-0242ac110002-8-b13b-0554-49ee-06a9-5ab1-e2f7-9822-9514",
       "next": "7ce6b6ac-483b-11eb-9304-0242ac110002-2-81cd-aea2",
       "previous": "0fe29b6a-41c5-11eb-aed8-0242ac110002-8-0a39-a2ce-cb4d-b86c-0b8e-e90a-b3a8-d017"
      },
      {
       "current": "b96ea8e2-41cd-11eb-aed8-0242ac110002-9-b13b-0554-49ee-06a9-5ab1-e2f7-9822-9514-a626",
       "next": "7ce6b6ac-483b-11eb-9304-0242ac110002-3-81cd-aea2-06d2",
       "previous": "0fe29b6a-41c5-11eb-aed8-0242ac110002-9-0a39-a2ce-cb4d-b86c-0b8e-e90a-b3a8-d017-5e91"
      }
     ],
     "next": "7ce6b6ac-483b-11eb-9304-0242ac110002-4-81cd-aea2-06d2-5df6",
     "previous": "0fe29b6a-41c5-11eb-aed8-0242ac110002-10-0a39-a2ce-cb4d-b86c-0b8e-e90a-b3a8-d017-5e91-280f"
    }
   },
   "source": [
    "## 隣接行列の折り返しと上三角化（正規化）"
   ]
  },
  {
   "cell_type": "markdown",
   "metadata": {
    "hidden": true,
    "lc_cell_meme": {
     "current": "7ce6b6ac-483b-11eb-9304-0242ac110002-4-81cd-aea2-06d2-5df6",
     "history": [
      {
       "current": "7ce6b6ac-483b-11eb-9304-0242ac110002",
       "next": "0fe29b6a-41c5-11eb-aed8-0242ac110002-6-2d87-a8f9-6b4b-e073-0872-d9e7",
       "previous": "b96ea8e2-41cd-11eb-aed8-0242ac110002-5-b13b-0554-49ee-06a9-5ab1"
      },
      {
       "current": "7ce6b6ac-483b-11eb-9304-0242ac110002-1-81cd",
       "next": "0fe29b6a-41c5-11eb-aed8-0242ac110002-7-2d87-a8f9-6b4b-e073-0872-d9e7-2b9b",
       "previous": "b96ea8e2-41cd-11eb-aed8-0242ac110002-5-b13b-0554-49ee-06a9-5ab1"
      },
      {
       "current": "7ce6b6ac-483b-11eb-9304-0242ac110002-2-81cd-aea2",
       "next": "0fe29b6a-41c5-11eb-aed8-0242ac110002-8-2d87-a8f9-6b4b-e073-0872-d9e7-2b9b-9a8b",
       "previous": "b96ea8e2-41cd-11eb-aed8-0242ac110002-6-b13b-0554-49ee-06a9-5ab1-e2f7"
      },
      {
       "current": "7ce6b6ac-483b-11eb-9304-0242ac110002-3-81cd-aea2-06d2",
       "next": "0fe29b6a-41c5-11eb-aed8-0242ac110002-9-2d87-a8f9-6b4b-e073-0872-d9e7-2b9b-9a8b-fd67",
       "previous": "b96ea8e2-41cd-11eb-aed8-0242ac110002-7-b13b-0554-49ee-06a9-5ab1-e2f7-9822"
      },
      {
       "current": "7ce6b6ac-483b-11eb-9304-0242ac110002-4-81cd-aea2-06d2-5df6",
       "next": "0fe29b6a-41c5-11eb-aed8-0242ac110002-10-2d87-a8f9-6b4b-e073-0872-d9e7-2b9b-9a8b-fd67-abcb",
       "previous": "b96ea8e2-41cd-11eb-aed8-0242ac110002-8-b13b-0554-49ee-06a9-5ab1-e2f7-9822-9514"
      }
     ],
     "next": "0fe29b6a-41c5-11eb-aed8-0242ac110002-11-a8f9-6b4b-e073-0872-d9e7-2b9b-9a8b-fd67-abcb-5fec",
     "previous": "b96ea8e2-41cd-11eb-aed8-0242ac110002-9-b13b-0554-49ee-06a9-5ab1-e2f7-9822-9514-a626"
    }
   },
   "source": [
    "書き記されたパターンの関係は、関係の両端である2つのパターンの両方に記されているのが理想である。一方のみの記載では、記載のない方からの参照が行えないからである。本書のパターンの関係は、ほぼ一方のみの記載となっており、参照性に問題があると言える。\n",
    "\n",
    "ただ、データとして扱う上では、無向グラフを隣接行列表現する場合、対角線を挟んだ上三角部と下三角部で同じ情報を二重に持つことになるため、ここではgamemech.dotの隣接情報を上三角部に集約する。"
   ]
  },
  {
   "cell_type": "code",
   "execution_count": 7,
   "metadata": {
    "deletable": false,
    "editable": false,
    "hidden": true,
    "lc_cell_meme": {
     "current": "0fe29b6a-41c5-11eb-aed8-0242ac110002-11-a8f9-6b4b-e073-0872-d9e7-2b9b-9a8b-fd67-abcb-5fec",
     "execution_end_time": "2020-12-29T08:59:35.959967Z",
     "history": [
      {
       "current": "0fe29b6a-41c5-11eb-aed8-0242ac110002",
       "next": "d78c2500-41bb-11eb-aed8-0242ac110002",
       "previous": "d78c2460-41bb-11eb-aed8-0242ac110002"
      },
      {
       "current": "0fe29b6a-41c5-11eb-aed8-0242ac110002-1-2d87",
       "next": "d78c2500-41bb-11eb-aed8-0242ac110002",
       "previous": "b96ea8e2-41cd-11eb-aed8-0242ac110002"
      },
      {
       "current": "0fe29b6a-41c5-11eb-aed8-0242ac110002-2-2d87-a8f9",
       "next": "00b412aa-41ce-11eb-aed8-0242ac110002",
       "previous": "b96ea8e2-41cd-11eb-aed8-0242ac110002"
      },
      {
       "current": "0fe29b6a-41c5-11eb-aed8-0242ac110002-3-2d87-a8f9-6b4b",
       "next": "00b412aa-41ce-11eb-aed8-0242ac110002-1-69de",
       "previous": "b96ea8e2-41cd-11eb-aed8-0242ac110002-1-b13b"
      },
      {
       "current": "0fe29b6a-41c5-11eb-aed8-0242ac110002-4-2d87-a8f9-6b4b-e073",
       "next": "00b412aa-41ce-11eb-aed8-0242ac110002-2-69de-eca1",
       "previous": "b96ea8e2-41cd-11eb-aed8-0242ac110002-2-b13b-0554"
      },
      {
       "current": "0fe29b6a-41c5-11eb-aed8-0242ac110002-5-2d87-a8f9-6b4b-e073-0872",
       "next": "00b412aa-41ce-11eb-aed8-0242ac110002-3-69de-eca1-9441",
       "previous": "b96ea8e2-41cd-11eb-aed8-0242ac110002-3-b13b-0554-49ee"
      },
      {
       "current": "0fe29b6a-41c5-11eb-aed8-0242ac110002-6-2d87-a8f9-6b4b-e073-0872-d9e7",
       "next": "00b412aa-41ce-11eb-aed8-0242ac110002-4-69de-eca1-9441-6b2a",
       "previous": "b96ea8e2-41cd-11eb-aed8-0242ac110002-4-b13b-0554-49ee-06a9"
      },
      {
       "current": "0fe29b6a-41c5-11eb-aed8-0242ac110002-6-2d87-a8f9-6b4b-e073-0872-d9e7",
       "next": "00b412aa-41ce-11eb-aed8-0242ac110002-5-69de-eca1-9441-6b2a-a089",
       "previous": "b96ea8e2-41cd-11eb-aed8-0242ac110002-5-b13b-0554-49ee-06a9-5ab1"
      },
      {
       "current": "0fe29b6a-41c5-11eb-aed8-0242ac110002-7-2d87-a8f9-6b4b-e073-0872-d9e7-2b9b",
       "next": "00b412aa-41ce-11eb-aed8-0242ac110002-5-69de-eca1-9441-6b2a-a089",
       "previous": "7ce6b6ac-483b-11eb-9304-0242ac110002"
      },
      {
       "current": "0fe29b6a-41c5-11eb-aed8-0242ac110002-7-2d87-a8f9-6b4b-e073-0872-d9e7-2b9b",
       "next": "0fe29b6a-41c5-11eb-aed8-0242ac110002-6-2d87-a8f9-6b4b-e073-0872-d9e7",
       "previous": "7ce6b6ac-483b-11eb-9304-0242ac110002"
      },
      {
       "current": "0fe29b6a-41c5-11eb-aed8-0242ac110002-8-2d87-a8f9-6b4b-e073-0872-d9e7-2b9b-9a8b",
       "next": "00b412aa-41ce-11eb-aed8-0242ac110002-5-69de-eca1-9441-6b2a-a089",
       "previous": "7ce6b6ac-483b-11eb-9304-0242ac110002"
      },
      {
       "current": "0fe29b6a-41c5-11eb-aed8-0242ac110002-9-2d87-a8f9-6b4b-e073-0872-d9e7-2b9b-9a8b-fd67",
       "next": "00b412aa-41ce-11eb-aed8-0242ac110002-6-69de-eca1-9441-6b2a-a089-6a12",
       "previous": "7ce6b6ac-483b-11eb-9304-0242ac110002-1-81cd"
      },
      {
       "current": "0fe29b6a-41c5-11eb-aed8-0242ac110002-10-2d87-a8f9-6b4b-e073-0872-d9e7-2b9b-9a8b-fd67-abcb",
       "next": "00b412aa-41ce-11eb-aed8-0242ac110002-7-69de-eca1-9441-6b2a-a089-6a12-f04d",
       "previous": "7ce6b6ac-483b-11eb-9304-0242ac110002-2-81cd-aea2"
      },
      {
       "current": "0fe29b6a-41c5-11eb-aed8-0242ac110002-11-a8f9-6b4b-e073-0872-d9e7-2b9b-9a8b-fd67-abcb-5fec",
       "next": "00b412aa-41ce-11eb-aed8-0242ac110002-8-69de-eca1-9441-6b2a-a089-6a12-f04d-dd8e",
       "previous": "7ce6b6ac-483b-11eb-9304-0242ac110002-3-81cd-aea2-06d2"
      }
     ],
     "next": "00b412aa-41ce-11eb-aed8-0242ac110002-9-69de-eca1-9441-6b2a-a089-6a12-f04d-dd8e-5fb0",
     "previous": "7ce6b6ac-483b-11eb-9304-0242ac110002-4-81cd-aea2-06d2-5df6"
    },
    "lc_wrapper": {
     "log_history": [
      "/home/jovyan/digraj202103/.log/20201219/20201219-064033-0690.log",
      "/home/jovyan/digraj202103/.log/20201219/20201219-064154-0191.log",
      "/home/jovyan/digraj202103/.log/20201219/20201219-064353-0969.log",
      "/home/jovyan/digraj202103/.log/20201219/20201219-064436-0442.log",
      "/home/jovyan/digraj202103/.log/20201219/20201219-072239-0607.log",
      "/home/jovyan/digraj202103/.log/20201219/20201219-072258-0932.log",
      "/home/jovyan/digraj202103/.log/20201219/20201219-072524-0863.log",
      "/home/jovyan/digraj202103/.log/20201219/20201219-072645-0959.log",
      "/home/jovyan/digraj202103/.log/20201219/20201219-072758-0932.log",
      "/home/jovyan/digraj202103/.log/20201219/20201219-073425-0022.log",
      "/home/jovyan/digraj202103/.log/20201219/20201219-075943-0238.log",
      "/home/jovyan/digraj202103/.log/20201225/20201225-074656-0961.log",
      "/home/jovyan/digraj202103/.log/20201225/20201225-132043-0655.log",
      "/home/jovyan/digraj202103/.log/20201226/20201226-133604-0575.log",
      "/home/jovyan/digraj202103/.log/20201226/20201226-143515-0038.log",
      "/home/jovyan/digraj202103/.log/20201227/20201227-123400-0376.log",
      "/home/jovyan/digraj202103/.log/20201227/20201227-131400-0969.log",
      "/home/jovyan/digraj202103/.log/20201227/20201227-131544-0702.log",
      "/home/jovyan/digraj202103/.log/20201227/20201227-131657-0814.log",
      "/home/jovyan/digraj202103/.log/20201228/20201228-015238-0397.log",
      "/home/jovyan/digraj202103/.log/20201228/20201228-115401-0948.log",
      "/home/jovyan/digraj202103/.log/20201229/20201229-045846-0270.log",
      "/home/jovyan/digraj202103/.log/20201229/20201229-085922-0744.log"
     ]
    },
    "run_through_control": {
     "frozen": true
    }
   },
   "outputs": [
    {
     "name": "stdout",
     "output_type": "stream",
     "text": [
      "[参考]参照が双方向のものを抽出\n",
      "(str03,str07)\n",
      "(trn01,trn04)\n",
      "(trn07,trn08)\n",
      "(trn09,trn10)\n",
      "(trn14,trn16)\n",
      "(trn10,act08)\n",
      "(act02,act08)\n",
      "(res01,res02)\n",
      "(res07,res08)\n",
      "(vic01,vic02)\n",
      "(vic17,vic18)\n",
      "(vic15,vic19)\n",
      "(str03,unc04)\n",
      "(str07,unc04)\n",
      "(vic08,unc04)\n",
      "(unc01,unc04)\n",
      "(eco10,eco11)\n",
      "(trn09,eco18)\n",
      "(eco02,eco18)\n",
      "(vic04,auc08)\n",
      "(eco17,auc08)\n",
      "(auc11,auc15)\n",
      "(auc11,auc16)\n",
      "(act10,mov12)\n",
      "(res12,arc02)\n",
      "(auc11,arc02)\n",
      "(vic14,set04)\n",
      "(unc03,car01)\n",
      "(act02,car06)\n",
      "(set05,car06)\n"
     ]
    }
   ],
   "source": [
    "nodes = g.nodes()\n",
    "edges = g.edges()\n",
    "\n",
    "print(\"[参考]参照が双方向のものを抽出\")\n",
    "for edge in edges:\n",
    "    if nodes.index(edge[0]) > nodes.index(edge[1]):\n",
    "        g.delete_edge(edge[0], edge[1])\n",
    "        if not (edge[1], edge[0]) in edges:\n",
    "            g.add_edge(edge[1], edge[0])\n",
    "        else:\n",
    "            print(\"(\"+edge[1]+\",\"+edge[0]+\")\") # 参照が双方向のものを抽出\n",
    "\n",
    "g.write(\"gamemech2.dot\")\n",
    "\n",
    "!dot -Tpng gamemech2.dot -ogamemech2.png"
   ]
  },
  {
   "cell_type": "markdown",
   "metadata": {
    "hidden": true,
    "lc_cell_meme": {
     "current": "00b412aa-41ce-11eb-aed8-0242ac110002-9-69de-eca1-9441-6b2a-a089-6a12-f04d-dd8e-5fb0",
     "history": [
      {
       "current": "00b412aa-41ce-11eb-aed8-0242ac110002",
       "next": "0fe29b6a-41c5-11eb-aed8-0242ac110002",
       "previous": "0fe29b6a-41c5-11eb-aed8-0242ac110002-1-2d87"
      },
      {
       "current": "00b412aa-41ce-11eb-aed8-0242ac110002-1-69de",
       "next": "487be4aa-41ce-11eb-aed8-0242ac110002",
       "previous": "0fe29b6a-41c5-11eb-aed8-0242ac110002-1-2d87"
      },
      {
       "current": "00b412aa-41ce-11eb-aed8-0242ac110002-2-69de-eca1",
       "next": "487be4aa-41ce-11eb-aed8-0242ac110002-1-ea87",
       "previous": "0fe29b6a-41c5-11eb-aed8-0242ac110002-2-2d87-a8f9"
      },
      {
       "current": "00b412aa-41ce-11eb-aed8-0242ac110002-3-69de-eca1-9441",
       "next": "487be4aa-41ce-11eb-aed8-0242ac110002-2-ea87-d481",
       "previous": "0fe29b6a-41c5-11eb-aed8-0242ac110002-3-2d87-a8f9-6b4b"
      },
      {
       "current": "00b412aa-41ce-11eb-aed8-0242ac110002-4-69de-eca1-9441-6b2a",
       "next": "487be4aa-41ce-11eb-aed8-0242ac110002-3-ea87-d481-f626",
       "previous": "0fe29b6a-41c5-11eb-aed8-0242ac110002-4-2d87-a8f9-6b4b-e073"
      },
      {
       "current": "00b412aa-41ce-11eb-aed8-0242ac110002-5-69de-eca1-9441-6b2a-a089",
       "next": "487be4aa-41ce-11eb-aed8-0242ac110002-4-ea87-d481-f626-0acf",
       "previous": "0fe29b6a-41c5-11eb-aed8-0242ac110002-5-2d87-a8f9-6b4b-e073-0872"
      },
      {
       "current": "00b412aa-41ce-11eb-aed8-0242ac110002-5-69de-eca1-9441-6b2a-a089",
       "next": "487be4aa-41ce-11eb-aed8-0242ac110002-5-ea87-d481-f626-0acf-311c",
       "previous": "0fe29b6a-41c5-11eb-aed8-0242ac110002-6-2d87-a8f9-6b4b-e073-0872-d9e7"
      },
      {
       "current": "00b412aa-41ce-11eb-aed8-0242ac110002-5-69de-eca1-9441-6b2a-a089",
       "next": "487be4aa-41ce-11eb-aed8-0242ac110002-5-ea87-d481-f626-0acf-311c",
       "previous": "0fe29b6a-41c5-11eb-aed8-0242ac110002-7-2d87-a8f9-6b4b-e073-0872-d9e7-2b9b"
      },
      {
       "current": "00b412aa-41ce-11eb-aed8-0242ac110002-6-69de-eca1-9441-6b2a-a089-6a12",
       "next": "a9eb4586-4846-11eb-9304-0242ac110002",
       "previous": "0fe29b6a-41c5-11eb-aed8-0242ac110002-7-2d87-a8f9-6b4b-e073-0872-d9e7-2b9b"
      },
      {
       "current": "00b412aa-41ce-11eb-aed8-0242ac110002-7-69de-eca1-9441-6b2a-a089-6a12-f04d",
       "next": "a9eb4586-4846-11eb-9304-0242ac110002-1-9391",
       "previous": "0fe29b6a-41c5-11eb-aed8-0242ac110002-8-2d87-a8f9-6b4b-e073-0872-d9e7-2b9b-9a8b"
      },
      {
       "current": "00b412aa-41ce-11eb-aed8-0242ac110002-8-69de-eca1-9441-6b2a-a089-6a12-f04d-dd8e",
       "next": "a9eb4586-4846-11eb-9304-0242ac110002-2-9391-b159",
       "previous": "0fe29b6a-41c5-11eb-aed8-0242ac110002-9-2d87-a8f9-6b4b-e073-0872-d9e7-2b9b-9a8b-fd67"
      },
      {
       "current": "00b412aa-41ce-11eb-aed8-0242ac110002-9-69de-eca1-9441-6b2a-a089-6a12-f04d-dd8e-5fb0",
       "next": "a9eb4586-4846-11eb-9304-0242ac110002-3-9391-b159-492f",
       "previous": "0fe29b6a-41c5-11eb-aed8-0242ac110002-10-2d87-a8f9-6b4b-e073-0872-d9e7-2b9b-9a8b-fd67-abcb"
      }
     ],
     "next": "a9eb4586-4846-11eb-9304-0242ac110002-4-9391-b159-492f-0708",
     "previous": "0fe29b6a-41c5-11eb-aed8-0242ac110002-11-a8f9-6b4b-e073-0872-d9e7-2b9b-9a8b-fd67-abcb-5fec"
    }
   },
   "source": [
    "関係の参照が双方のものは上記出力の通り。\n",
    "\n",
    "gamemech2.dotに正規化した内容を出力する。"
   ]
  },
  {
   "cell_type": "markdown",
   "metadata": {
    "heading_collapsed": true,
    "lc_cell_meme": {
     "current": "a9eb4586-4846-11eb-9304-0242ac110002-4-9391-b159-492f-0708",
     "history": [
      {
       "current": "a9eb4586-4846-11eb-9304-0242ac110002-1-9391",
       "next": "a9eb477a-4846-11eb-9304-0242ac110002",
       "previous": "00b412aa-41ce-11eb-aed8-0242ac110002-5-69de-eca1-9441-6b2a-a089"
      },
      {
       "current": "a9eb4586-4846-11eb-9304-0242ac110002-2-9391-b159",
       "next": "a9eb477a-4846-11eb-9304-0242ac110002-1-94ad",
       "previous": "00b412aa-41ce-11eb-aed8-0242ac110002-6-69de-eca1-9441-6b2a-a089-6a12"
      },
      {
       "current": "a9eb4586-4846-11eb-9304-0242ac110002-3-9391-b159-492f",
       "next": "a9eb477a-4846-11eb-9304-0242ac110002-2-94ad-0692",
       "previous": "00b412aa-41ce-11eb-aed8-0242ac110002-7-69de-eca1-9441-6b2a-a089-6a12-f04d"
      },
      {
       "current": "a9eb4586-4846-11eb-9304-0242ac110002-4-9391-b159-492f-0708",
       "next": "a9eb477a-4846-11eb-9304-0242ac110002-3-94ad-0692-d3e2",
       "previous": "00b412aa-41ce-11eb-aed8-0242ac110002-8-69de-eca1-9441-6b2a-a089-6a12-f04d-dd8e"
      }
     ],
     "next": "a9eb477a-4846-11eb-9304-0242ac110002-4-94ad-0692-d3e2-23b6",
     "previous": "00b412aa-41ce-11eb-aed8-0242ac110002-9-69de-eca1-9441-6b2a-a089-6a12-f04d-dd8e-5fb0"
    }
   },
   "source": [
    "## 分類間の関係の検討"
   ]
  },
  {
   "cell_type": "markdown",
   "metadata": {
    "hidden": true,
    "lc_cell_meme": {
     "current": "a9eb477a-4846-11eb-9304-0242ac110002-4-94ad-0692-d3e2-23b6",
     "history": [
      {
       "current": "a9eb477a-4846-11eb-9304-0242ac110002-1-94ad",
       "next": "3c213ca2-46b3-11eb-ae4f-0242ac110002-2-cdcc-b0ca",
       "previous": "a9eb4586-4846-11eb-9304-0242ac110002"
      },
      {
       "current": "a9eb477a-4846-11eb-9304-0242ac110002-2-94ad-0692",
       "next": "3c213ca2-46b3-11eb-ae4f-0242ac110002-3-cdcc-b0ca-3c42",
       "previous": "a9eb4586-4846-11eb-9304-0242ac110002-1-9391"
      },
      {
       "current": "a9eb477a-4846-11eb-9304-0242ac110002-3-94ad-0692-d3e2",
       "next": "3c213ca2-46b3-11eb-ae4f-0242ac110002-4-cdcc-b0ca-3c42-b67b",
       "previous": "a9eb4586-4846-11eb-9304-0242ac110002-2-9391-b159"
      },
      {
       "current": "a9eb477a-4846-11eb-9304-0242ac110002-3-94ad-0692-d3e2",
       "next": "3c213ca2-46b3-11eb-ae4f-0242ac110002-5-cdcc-b0ca-3c42-b67b-e5fd",
       "previous": "a9eb4586-4846-11eb-9304-0242ac110002-3-9391-b159-492f"
      },
      {
       "current": "a9eb477a-4846-11eb-9304-0242ac110002-4-94ad-0692-d3e2-23b6",
       "next": "cba92190-490c-11eb-bea0-0242ac110002",
       "previous": "a9eb4586-4846-11eb-9304-0242ac110002-3-9391-b159-492f"
      },
      {
       "current": "a9eb477a-4846-11eb-9304-0242ac110002-4-94ad-0692-d3e2-23b6",
       "next": "cba92190-490c-11eb-bea0-0242ac110002-1-126d",
       "previous": "a9eb4586-4846-11eb-9304-0242ac110002-4-9391-b159-492f-0708"
      }
     ],
     "next": "3c213ca2-46b3-11eb-ae4f-0242ac110002-6-cdcc-b0ca-3c42-b67b-e5fd-35f2",
     "previous": "a9eb4586-4846-11eb-9304-0242ac110002-4-9391-b159-492f-0708"
    }
   },
   "source": [
    "本検討では、同一分類（同一Chapter）内の全パターンを1つのノードにして、13のノード間の関係を調べる。2つの分類の間で、パターンの関係が何本あったかを数え上げ、2つの分類の間での全てのパターンの組み合わせ（直積）の数に占める割合を「重み」として使い、中心性指標を計算した。\n"
   ]
  },
  {
   "cell_type": "code",
   "execution_count": 8,
   "metadata": {
    "deletable": false,
    "editable": false,
    "hidden": true,
    "lc_cell_meme": {
     "current": "3c213ca2-46b3-11eb-ae4f-0242ac110002-6-cdcc-b0ca-3c42-b67b-e5fd-35f2",
     "execution_end_time": "2020-12-29T08:59:36.785805Z",
     "history": [
      {
       "current": "3c213ca2-46b3-11eb-ae4f-0242ac110002-1-cdcc",
       "next": "976f40a6-41cf-11eb-aed8-0242ac110002-4-60db-2644-3cd5-2b5b",
       "previous": "6654e0d4-41cf-11eb-aed8-0242ac110002-3-cd5d-5826-0445"
      },
      {
       "current": "3c213ca2-46b3-11eb-ae4f-0242ac110002-2-cdcc-b0ca",
       "next": "976f40a6-41cf-11eb-aed8-0242ac110002-5-60db-2644-3cd5-2b5b-54ec",
       "previous": "6654e0d4-41cf-11eb-aed8-0242ac110002-4-cd5d-5826-0445-14fe"
      },
      {
       "current": "3c213ca2-46b3-11eb-ae4f-0242ac110002-2-cdcc-b0ca",
       "next": "976f40a6-41cf-11eb-aed8-0242ac110002-6-60db-2644-3cd5-2b5b-54ec-4b57",
       "previous": "6654e0d4-41cf-11eb-aed8-0242ac110002-5-cd5d-5826-0445-14fe-df44"
      },
      {
       "current": "3c213ca2-46b3-11eb-ae4f-0242ac110002-3-cdcc-b0ca-3c42",
       "next": "487be4aa-41ce-11eb-aed8-0242ac110002-5-ea87-d481-f626-0acf-311c",
       "previous": "a9eb477a-4846-11eb-9304-0242ac110002"
      },
      {
       "current": "3c213ca2-46b3-11eb-ae4f-0242ac110002-4-cdcc-b0ca-3c42-b67b",
       "next": "487be4aa-41ce-11eb-aed8-0242ac110002-6-ea87-d481-f626-0acf-311c-b439",
       "previous": "a9eb477a-4846-11eb-9304-0242ac110002-1-94ad"
      },
      {
       "current": "3c213ca2-46b3-11eb-ae4f-0242ac110002-4-cdcc-b0ca-3c42-b67b",
       "next": "487be4aa-41ce-11eb-aed8-0242ac110002-7-ea87-d481-f626-0acf-311c-b439-cd95",
       "previous": "a9eb477a-4846-11eb-9304-0242ac110002-2-94ad-0692"
      },
      {
       "current": "3c213ca2-46b3-11eb-ae4f-0242ac110002-5-cdcc-b0ca-3c42-b67b-e5fd",
       "next": "84315182-48af-11eb-b4d3-0242ac110002",
       "previous": "a9eb477a-4846-11eb-9304-0242ac110002-2-94ad-0692"
      },
      {
       "current": "3c213ca2-46b3-11eb-ae4f-0242ac110002-5-cdcc-b0ca-3c42-b67b-e5fd",
       "next": "84315182-48af-11eb-b4d3-0242ac110002-1-f3a7",
       "previous": "a9eb477a-4846-11eb-9304-0242ac110002-3-94ad-0692-d3e2"
      },
      {
       "current": "3c213ca2-46b3-11eb-ae4f-0242ac110002-6-cdcc-b0ca-3c42-b67b-e5fd-35f2",
       "next": "84315182-48af-11eb-b4d3-0242ac110002-1-f3a7",
       "previous": "cba92190-490c-11eb-bea0-0242ac110002"
      },
      {
       "current": "3c213ca2-46b3-11eb-ae4f-0242ac110002-6-cdcc-b0ca-3c42-b67b-e5fd-35f2",
       "next": "84315182-48af-11eb-b4d3-0242ac110002-2-f3a7-2ad3",
       "previous": "cba92190-490c-11eb-bea0-0242ac110002-1-126d"
      }
     ],
     "next": "84315182-48af-11eb-b4d3-0242ac110002-2-f3a7-2ad3",
     "previous": "a9eb477a-4846-11eb-9304-0242ac110002-4-94ad-0692-d3e2-23b6"
    },
    "lc_wrapper": {
     "log_history": [
      "/home/jovyan/digraj202103/.log/20201225/20201225-132056-0045.log",
      "/home/jovyan/digraj202103/.log/20201225/20201225-133829-0991.log",
      "/home/jovyan/digraj202103/.log/20201225/20201225-133845-0326.log",
      "/home/jovyan/digraj202103/.log/20201225/20201225-134048-0375.log",
      "/home/jovyan/digraj202103/.log/20201225/20201225-135415-0333.log",
      "/home/jovyan/digraj202103/.log/20201225/20201225-135439-0496.log",
      "/home/jovyan/digraj202103/.log/20201225/20201225-135507-0051.log",
      "/home/jovyan/digraj202103/.log/20201225/20201225-135716-0913.log",
      "/home/jovyan/digraj202103/.log/20201225/20201225-135723-0731.log",
      "/home/jovyan/digraj202103/.log/20201225/20201225-135750-0211.log",
      "/home/jovyan/digraj202103/.log/20201225/20201225-135807-0391.log",
      "/home/jovyan/digraj202103/.log/20201225/20201225-140119-0543.log",
      "/home/jovyan/digraj202103/.log/20201225/20201225-140309-0403.log",
      "/home/jovyan/digraj202103/.log/20201225/20201225-140408-0965.log",
      "/home/jovyan/digraj202103/.log/20201225/20201225-140434-0061.log",
      "/home/jovyan/digraj202103/.log/20201225/20201225-140520-0214.log",
      "/home/jovyan/digraj202103/.log/20201225/20201225-140553-0537.log",
      "/home/jovyan/digraj202103/.log/20201225/20201225-140814-0989.log",
      "/home/jovyan/digraj202103/.log/20201225/20201225-140829-0112.log",
      "/home/jovyan/digraj202103/.log/20201225/20201225-141019-0971.log",
      "/home/jovyan/digraj202103/.log/20201225/20201225-141103-0525.log",
      "/home/jovyan/digraj202103/.log/20201225/20201225-141337-0547.log",
      "/home/jovyan/digraj202103/.log/20201225/20201225-141516-0366.log",
      "/home/jovyan/digraj202103/.log/20201225/20201225-141654-0104.log",
      "/home/jovyan/digraj202103/.log/20201225/20201225-143142-0789.log",
      "/home/jovyan/digraj202103/.log/20201225/20201225-143158-0662.log",
      "/home/jovyan/digraj202103/.log/20201225/20201225-143746-0183.log",
      "/home/jovyan/digraj202103/.log/20201225/20201225-144244-0495.log",
      "/home/jovyan/digraj202103/.log/20201226/20201226-133705-0191.log",
      "/home/jovyan/digraj202103/.log/20201226/20201226-133808-0397.log",
      "/home/jovyan/digraj202103/.log/20201226/20201226-133901-0277.log",
      "/home/jovyan/digraj202103/.log/20201226/20201226-134144-0382.log",
      "/home/jovyan/digraj202103/.log/20201226/20201226-134237-0708.log",
      "/home/jovyan/digraj202103/.log/20201226/20201226-134301-0564.log",
      "/home/jovyan/digraj202103/.log/20201226/20201226-134423-0895.log",
      "/home/jovyan/digraj202103/.log/20201226/20201226-134537-0460.log",
      "/home/jovyan/digraj202103/.log/20201226/20201226-135411-0327.log",
      "/home/jovyan/digraj202103/.log/20201226/20201226-135429-0028.log",
      "/home/jovyan/digraj202103/.log/20201226/20201226-135538-0516.log",
      "/home/jovyan/digraj202103/.log/20201226/20201226-135900-0505.log",
      "/home/jovyan/digraj202103/.log/20201226/20201226-135914-0827.log",
      "/home/jovyan/digraj202103/.log/20201226/20201226-140032-0344.log",
      "/home/jovyan/digraj202103/.log/20201226/20201226-141555-0967.log",
      "/home/jovyan/digraj202103/.log/20201226/20201226-142313-0079.log",
      "/home/jovyan/digraj202103/.log/20201226/20201226-142328-0245.log",
      "/home/jovyan/digraj202103/.log/20201226/20201226-142532-0495.log",
      "/home/jovyan/digraj202103/.log/20201226/20201226-142918-0653.log",
      "/home/jovyan/digraj202103/.log/20201226/20201226-143409-0106.log",
      "/home/jovyan/digraj202103/.log/20201226/20201226-143534-0850.log",
      "/home/jovyan/digraj202103/.log/20201228/20201228-015302-0235.log",
      "/home/jovyan/digraj202103/.log/20201228/20201228-020133-0582.log",
      "/home/jovyan/digraj202103/.log/20201228/20201228-020302-0250.log",
      "/home/jovyan/digraj202103/.log/20201228/20201228-021045-0892.log",
      "/home/jovyan/digraj202103/.log/20201228/20201228-021144-0019.log",
      "/home/jovyan/digraj202103/.log/20201228/20201228-115505-0834.log",
      "/home/jovyan/digraj202103/.log/20201228/20201228-115635-0176.log",
      "/home/jovyan/digraj202103/.log/20201228/20201228-120010-0930.log",
      "/home/jovyan/digraj202103/.log/20201228/20201228-120533-0118.log",
      "/home/jovyan/digraj202103/.log/20201228/20201228-122124-0828.log",
      "/home/jovyan/digraj202103/.log/20201228/20201228-125634-0543.log",
      "/home/jovyan/digraj202103/.log/20201228/20201228-125644-0489.log",
      "/home/jovyan/digraj202103/.log/20201228/20201228-142709-0635.log",
      "/home/jovyan/digraj202103/.log/20201228/20201228-142938-0778.log",
      "/home/jovyan/digraj202103/.log/20201228/20201228-143009-0624.log",
      "/home/jovyan/digraj202103/.log/20201229/20201229-050121-0675.log",
      "/home/jovyan/digraj202103/.log/20201229/20201229-054329-0607.log",
      "/home/jovyan/digraj202103/.log/20201229/20201229-061513-0976.log",
      "/home/jovyan/digraj202103/.log/20201229/20201229-061554-0434.log",
      "/home/jovyan/digraj202103/.log/20201229/20201229-061734-0076.log",
      "/home/jovyan/digraj202103/.log/20201229/20201229-061919-0173.log",
      "/home/jovyan/digraj202103/.log/20201229/20201229-062753-0320.log",
      "/home/jovyan/digraj202103/.log/20201229/20201229-063025-0867.log",
      "/home/jovyan/digraj202103/.log/20201229/20201229-063047-0647.log",
      "/home/jovyan/digraj202103/.log/20201229/20201229-063102-0634.log",
      "/home/jovyan/digraj202103/.log/20201229/20201229-063216-0078.log",
      "/home/jovyan/digraj202103/.log/20201229/20201229-063235-0603.log",
      "/home/jovyan/digraj202103/.log/20201229/20201229-063431-0247.log",
      "/home/jovyan/digraj202103/.log/20201229/20201229-071841-0511.log",
      "/home/jovyan/digraj202103/.log/20201229/20201229-072746-0887.log",
      "/home/jovyan/digraj202103/.log/20201229/20201229-085935-0967.log"
     ]
    },
    "run_through_control": {
     "frozen": true
    }
   },
   "outputs": [
    {
     "name": "stdout",
     "output_type": "stream",
     "text": [
      "weight max = 0.07575757575757576\n",
      "weight min = 0.0024509803921568627\n"
     ]
    }
   ],
   "source": [
    "import math\n",
    "from pprint import pprint\n",
    "\n",
    "chapters = {}\n",
    "for node in g.nodes():\n",
    "    if node[0:3] in chapters:\n",
    "        chapters[node[0:3]] += 1\n",
    "    else:\n",
    "        chapters[node[0:3]] = 1\n",
    "\n",
    "chapter_edges = {}\n",
    "for n1 in range(0,len(chapters)-1):\n",
    "    n1str = list(chapters)[n1]\n",
    "    for n2 in range(n1+1,len(chapters)):\n",
    "        n2str = list(chapters)[n2]\n",
    "        if not n1str in chapter_edges:\n",
    "            chapter_edges[n1str] = {}\n",
    "        chapter_edges[n1str].update({n2str:0})\n",
    "\n",
    "for edge in g.edges():\n",
    "    if edge[0][0:3] != edge[1][0:3]:\n",
    "        chapter_edges[edge[0][0:3]][edge[1][0:3]] += 1\n",
    "\n",
    "chapg = AGraph(chapter_edges, splines=True, layout='fdp')\n",
    "\n",
    "max = 0\n",
    "min = 10000\n",
    "for n1 in range(0,len(chapters)-1):\n",
    "    n1str = list(chapters)[n1]\n",
    "    n1color = [((int(n1/6)+2)%3)*((int(n1/6)+2)%3+1)*51/2+25, (int(n1/2)%3)*(int(n1/2)%3+1)*51/2+25, (n1%2)*128+64]\n",
    "    for n2 in range(n1+1,len(chapters)):\n",
    "        n2str = list(chapters)[n2]\n",
    "        n2color = [((int(n2/6)+2)%3)*((int(n2/6)+2)%3+1)*51/2+25, (int(n2/2)%3)*(int(n2/2)%3+1)*51/2+25, (n2%2)*128+64]\n",
    "        if chapter_edges[n1str][n2str] == 0:\n",
    "            chapg.delete_edge(n1str,n2str)\n",
    "        else:\n",
    "            w = chapter_edges[n1str][n2str]/(chapters[n1str]*chapters[n2str])\n",
    "            chapg.get_edge(n1str,n2str).attr['weight'] = w\n",
    "            chapg.get_edge(n1str,n2str).attr['penwidth'] = math.sqrt(w)*50\n",
    "            chapg.get_edge(n1str,n2str).attr['color'] = \"#\"+format(int((n1color[0]+n2color[0])/2), 'x')\\\n",
    "                +format(int((n1color[1]+n2color[1])/2), 'x')+format(int((n1color[2]+n2color[2])/2), 'x')\\\n",
    "                +format(int(255-w*2500), 'x')\n",
    "            if w < min:\n",
    "                min = w\n",
    "            if w > max:\n",
    "                max = w\n",
    "                \n",
    "print(\"weight max = \"+str(max))\n",
    "print(\"weight min = \"+str(min))\n",
    "\n",
    "chapg.write(\"chapg.dot\")\n",
    "\n",
    "!dot -Tpng chapg.dot -ochapg.png"
   ]
  },
  {
   "cell_type": "code",
   "execution_count": 9,
   "metadata": {
    "deletable": false,
    "editable": false,
    "hidden": true,
    "lc_cell_meme": {
     "current": "84315182-48af-11eb-b4d3-0242ac110002-2-f3a7-2ad3",
     "execution_end_time": "2020-12-29T08:59:37.464396Z",
     "history": [
      {
       "current": "84315182-48af-11eb-b4d3-0242ac110002",
       "next": "487be4aa-41ce-11eb-aed8-0242ac110002-7-ea87-d481-f626-0acf-311c-b439-cd95",
       "previous": "3c213ca2-46b3-11eb-ae4f-0242ac110002-4-cdcc-b0ca-3c42-b67b"
      },
      {
       "current": "84315182-48af-11eb-b4d3-0242ac110002",
       "next": "cbb81216-48af-11eb-b4d3-0242ac110002",
       "previous": "3c213ca2-46b3-11eb-ae4f-0242ac110002-4-cdcc-b0ca-3c42-b67b"
      },
      {
       "current": "84315182-48af-11eb-b4d3-0242ac110002-1-f3a7",
       "next": "78de33d4-48b1-11eb-b4d3-0242ac110002",
       "previous": "3c213ca2-46b3-11eb-ae4f-0242ac110002-4-cdcc-b0ca-3c42-b67b"
      },
      {
       "current": "84315182-48af-11eb-b4d3-0242ac110002-2-f3a7-2ad3",
       "next": "78de33d4-48b1-11eb-b4d3-0242ac110002-1-0e4a",
       "previous": "3c213ca2-46b3-11eb-ae4f-0242ac110002-5-cdcc-b0ca-3c42-b67b-e5fd"
      },
      {
       "current": "84315182-48af-11eb-b4d3-0242ac110002-2-f3a7-2ad3",
       "next": "78de33d4-48b1-11eb-b4d3-0242ac110002-2-0e4a-2302",
       "previous": "3c213ca2-46b3-11eb-ae4f-0242ac110002-6-cdcc-b0ca-3c42-b67b-e5fd-35f2"
      },
      {
       "current": "84315182-48af-11eb-b4d3-0242ac110002-2-f3a7-2ad3",
       "next": "78de33d4-48b1-11eb-b4d3-0242ac110002-3-0e4a-2302-e9fd",
       "previous": "3c213ca2-46b3-11eb-ae4f-0242ac110002-6-cdcc-b0ca-3c42-b67b-e5fd-35f2"
      },
      {
       "current": "84315182-48af-11eb-b4d3-0242ac110002-2-f3a7-2ad3",
       "next": "cbb81216-48af-11eb-b4d3-0242ac110002-2-cdec-b293",
       "previous": "3c213ca2-46b3-11eb-ae4f-0242ac110002-6-cdcc-b0ca-3c42-b67b-e5fd-35f2"
      }
     ],
     "next": "2451c592-49a6-11eb-8b85-0242ac110002",
     "previous": "3c213ca2-46b3-11eb-ae4f-0242ac110002-6-cdcc-b0ca-3c42-b67b-e5fd-35f2"
    },
    "lc_wrapper": {
     "log_history": [
      "/home/jovyan/digraj202103/.log/20201228/20201228-015324-0816.log",
      "/home/jovyan/digraj202103/.log/20201228/20201228-015332-0922.log",
      "/home/jovyan/digraj202103/.log/20201228/20201228-020151-0985.log",
      "/home/jovyan/digraj202103/.log/20201228/20201228-020303-0826.log",
      "/home/jovyan/digraj202103/.log/20201228/20201228-021046-0654.log",
      "/home/jovyan/digraj202103/.log/20201228/20201228-021144-0717.log",
      "/home/jovyan/digraj202103/.log/20201228/20201228-115517-0775.log",
      "/home/jovyan/digraj202103/.log/20201228/20201228-115635-0860.log",
      "/home/jovyan/digraj202103/.log/20201228/20201228-120534-0924.log",
      "/home/jovyan/digraj202103/.log/20201228/20201228-122128-0863.log",
      "/home/jovyan/digraj202103/.log/20201228/20201228-143014-0132.log",
      "/home/jovyan/digraj202103/.log/20201229/20201229-050125-0430.log",
      "/home/jovyan/digraj202103/.log/20201229/20201229-054331-0631.log",
      "/home/jovyan/digraj202103/.log/20201229/20201229-061515-0264.log",
      "/home/jovyan/digraj202103/.log/20201229/20201229-061555-0538.log",
      "/home/jovyan/digraj202103/.log/20201229/20201229-061735-0159.log",
      "/home/jovyan/digraj202103/.log/20201229/20201229-063320-0051.log",
      "/home/jovyan/digraj202103/.log/20201229/20201229-063432-0746.log",
      "/home/jovyan/digraj202103/.log/20201229/20201229-071844-0055.log",
      "/home/jovyan/digraj202103/.log/20201229/20201229-085936-0792.log"
     ]
    },
    "run_through_control": {
     "frozen": true
    }
   },
   "outputs": [
    {
     "name": "stdout",
     "output_type": "stream",
     "text": [
      "strict graph \"\" {\r\n",
      "\tgraph [layout=fdp,\r\n",
      "\t\tsplines=True\r\n",
      "\t];\r\n",
      "\tstr -- trn\t[color=\"#b21980f0\",\r\n",
      "\t\tpenwidth=3.8348249442368525,\r\n",
      "\t\tweight=0.0058823529411764705];\r\n",
      "\tstr -- act\t[color=\"#b23240e3\",\r\n",
      "\t\tpenwidth=5.270462766947299,\r\n",
      "\t\tweight=0.011111111111111112];\r\n",
      "\tstr -- res\t[color=\"#b23280e8\",\r\n",
      "\t\tpenwidth=4.767312946227961,\r\n",
      "\t\tweight=0.00909090909090909];\r\n",
      "\tstr -- vic\t[color=\"#b26540c0\",\r\n",
      "\t\tpenwidth=7.905694150420948,\r\n",
      "\t\tweight=0.025];\r\n",
      "\tstr -- unc\t[color=\"#b265805f\",\r\n",
      "\t\tpenwidth=12.613124477737825,\r\n",
      "\t\tweight=0.06363636363636363];\r\n",
      "\tstr -- car\t[color=\"#7f1940ab\",\r\n",
      "\t\tpenwidth=9.128709291752768,\r\n",
      "\t\tweight=0.03333333333333333];\r\n",
      "\ttrn -- act\t[color=\"#b23280ad\",\r\n",
      "\t\tpenwidth=9.03876907577734,\r\n",
      "\t\tweight=0.032679738562091505];\r\n",
      "\ttrn -- res\t[color=\"#b232c0e4\",\r\n",
      "\t\tpenwidth=5.1708768999501915,\r\n",
      "\t\tweight=0.0106951871657754];\r\n",
      "\ttrn -- vic\t[color=\"#b26580e1\",\r\n",
      "\t\tpenwidth=5.423261445466404,\r\n",
      "\t\tweight=0.011764705882352941];\r\n",
      "\ttrn -- unc\t[color=\"#b265c0e4\",\r\n",
      "\t\tpenwidth=5.1708768999501915,\r\n",
      "\t\tweight=0.0106951871657754];\r\n",
      "\ttrn -- eco\t[color=\"#651980f7\",\r\n",
      "\t\tpenwidth=2.782074420373286,\r\n",
      "\t\tweight=0.0030959752321981426];\r\n",
      "\ttrn -- auc\t[color=\"#6519c0ec\",\r\n",
      "\t\tpenwidth=4.287464628562721,\r\n",
      "\t\tweight=0.007352941176470588];\r\n",
      "\ttrn -- wpl\t[color=\"#653280a3\",\r\n",
      "\t\tpenwidth=9.58706236059213,\r\n",
      "\t\tweight=0.03676470588235294];\r\n",
      "\ttrn -- mov\t[color=\"#6532c0f8\",\r\n",
      "\t\tpenwidth=2.4753688574416857,\r\n",
      "\t\tweight=0.0024509803921568627];\r\n",
      "\ttrn -- arc\t[color=\"#656580ec\",\r\n",
      "\t\tpenwidth=4.287464628562721,\r\n",
      "\t\tweight=0.007352941176470588];\r\n",
      "\ttrn -- car\t[color=\"#7f19809c\",\r\n",
      "\t\tpenwidth=9.901475429766743,\r\n",
      "\t\tweight=0.0392156862745098];\r\n",
      "\tact -- res\t[color=\"#b24c80df\",\r\n",
      "\t\tpenwidth=5.618332187193683,\r\n",
      "\t\tweight=0.012626262626262626];\r\n",
      "\tact -- vic\t[color=\"#b27f40f8\",\r\n",
      "\t\tpenwidth=2.6352313834736494,\r\n",
      "\t\tweight=0.002777777777777778];\r\n",
      "\tact -- unc\t[color=\"#b27f80cc\",\r\n",
      "\t\tpenwidth=7.106690545187015,\r\n",
      "\t\tweight=0.020202020202020204];\r\n",
      "\tact -- eco\t[color=\"#653240e9\",\r\n",
      "\t\tpenwidth=4.68292905790847,\r\n",
      "\t\tweight=0.008771929824561403];\r\n",
      "\tact -- auc\t[color=\"#653280e4\",\r\n",
      "\t\tpenwidth=5.103103630798287,\r\n",
      "\t\tweight=0.010416666666666666];\r\n",
      "\tact -- wpl\t[color=\"#654c40a8\",\r\n",
      "\t\tpenwidth=9.316949906249123,\r\n",
      "\t\tweight=0.034722222222222224];\r\n",
      "\tact -- mov\t[color=\"#654c80d6\",\r\n",
      "\t\tpenwidth=6.364688465216445,\r\n",
      "\t\tweight=0.016203703703703703];\r\n",
      "\tact -- car\t[color=\"#7f3240b9\",\r\n",
      "\t\tpenwidth=8.333333333333332,\r\n",
      "\t\tweight=0.027777777777777776];\r\n",
      "\tres -- vic\t[color=\"#b27f80f3\",\r\n",
      "\t\tpenwidth=3.3709993123162105,\r\n",
      "\t\tweight=0.004545454545454545];\r\n",
      "\tres -- unc\t[color=\"#b27fc0cb\",\r\n",
      "\t\tpenwidth=7.1869946822008615,\r\n",
      "\t\tweight=0.02066115702479339];\r\n",
      "\tres -- eco\t[color=\"#653280f3\",\r\n",
      "\t\tpenwidth=3.4585723193303735,\r\n",
      "\t\tweight=0.004784688995215311];\r\n",
      "\tres -- auc\t[color=\"#6532c0e9\",\r\n",
      "\t\tpenwidth=4.615930911724978,\r\n",
      "\t\tweight=0.008522727272727272];\r\n",
      "\tres -- mov\t[color=\"#654cc0f5\",\r\n",
      "\t\tpenwidth=3.0772872744833184,\r\n",
      "\t\tweight=0.003787878787878788];\r\n",
      "\tres -- arc\t[color=\"#657f80b7\",\r\n",
      "\t\tpenwidth=8.427498280790525,\r\n",
      "\t\tweight=0.028409090909090908];\r\n",
      "\tres -- set\t[color=\"#657fc0e8\",\r\n",
      "\t\tpenwidth=4.767312946227961,\r\n",
      "\t\tweight=0.00909090909090909];\r\n",
      "\tvic -- unc\t[color=\"#b2b280dc\",\r\n",
      "\t\tpenwidth=5.8387420812114215,\r\n",
      "\t\tweight=0.013636363636363636];\r\n",
      "\tvic -- eco\t[color=\"#656540f1\",\r\n",
      "\t\tpenwidth=3.6273812505500582,\r\n",
      "\t\tweight=0.005263157894736842];\r\n",
      "\tvic -- auc\t[color=\"#656580ef\",\r\n",
      "\t\tpenwidth=3.952847075210474,\r\n",
      "\t\tweight=0.00625];\r\n",
      "\tvic -- mov\t[color=\"#657f80ef\",\r\n",
      "\t\tpenwidth=3.952847075210474,\r\n",
      "\t\tweight=0.00625];\r\n",
      "\tvic -- arc\t[color=\"#65b240df\",\r\n",
      "\t\tpenwidth=5.5901699437494745,\r\n",
      "\t\tweight=0.0125];\r\n",
      "\tvic -- set\t[color=\"#65b280cd\",\r\n",
      "\t\tpenwidth=7.0710678118654755,\r\n",
      "\t\tweight=0.02];\r\n",
      "\tvic -- car\t[color=\"#7f6540ea\",\r\n",
      "\t\tpenwidth=4.564354645876384,\r\n",
      "\t\tweight=0.008333333333333333];\r\n",
      "\tunc -- eco\t[color=\"#656580db\",\r\n",
      "\t\tpenwidth=5.990422978731538,\r\n",
      "\t\tweight=0.014354066985645933];\r\n",
      "\tunc -- auc\t[color=\"#6565c0e2\",\r\n",
      "\t\tpenwidth=5.330017908890261,\r\n",
      "\t\tweight=0.011363636363636364];\r\n",
      "\tunc -- mov\t[color=\"#657fc0e2\",\r\n",
      "\t\tpenwidth=5.330017908890261,\r\n",
      "\t\tweight=0.011363636363636364];\r\n",
      "\tunc -- set\t[color=\"#65b2c0d1\",\r\n",
      "\t\tpenwidth=6.741998624632421,\r\n",
      "\t\tweight=0.01818181818181818];\r\n",
      "\tunc -- car\t[color=\"#7f658041\",\r\n",
      "\t\tpenwidth=13.762047064079507,\r\n",
      "\t\tweight=0.07575757575757576];\r\n",
      "\teco -- auc\t[color=\"#191980ee\",\r\n",
      "\t\tpenwidth=4.055535528269064,\r\n",
      "\t\tweight=0.006578947368421052];\r\n",
      "\teco -- wpl\t[color=\"#193240cd\",\r\n",
      "\t\tpenwidth=7.024393586862704,\r\n",
      "\t\tweight=0.019736842105263157];\r\n",
      "\teco -- mov\t[color=\"#193280f4\",\r\n",
      "\t\tpenwidth=3.3113308926626095,\r\n",
      "\t\tweight=0.0043859649122807015];\r\n",
      "\teco -- arc\t[color=\"#196540cd\",\r\n",
      "\t\tpenwidth=7.024393586862704,\r\n",
      "\t\tweight=0.019736842105263157];\r\n",
      "\teco -- set\t[color=\"#196580ca\",\r\n",
      "\t\tpenwidth=7.2547625011001164,\r\n",
      "\t\tweight=0.021052631578947368];\r\n",
      "\teco -- car\t[color=\"#3219407b\",\r\n",
      "\t\tpenwidth=11.470786693528089,\r\n",
      "\t\tweight=0.05263157894736842];\r\n",
      "\tauc -- wpl\t[color=\"#193280d7\",\r\n",
      "\t\tpenwidth=6.25,\r\n",
      "\t\tweight=0.015625];\r\n",
      "\tauc -- arc\t[color=\"#196580d7\",\r\n",
      "\t\tpenwidth=6.25,\r\n",
      "\t\tweight=0.015625];\r\n",
      "\tauc -- car\t[color=\"#3219807c\",\r\n",
      "\t\tpenwidth=11.41088661469096,\r\n",
      "\t\tweight=0.052083333333333336];\r\n",
      "\twpl -- mov\t[color=\"#194c80f1\",\r\n",
      "\t\tpenwidth=3.608439182435161,\r\n",
      "\t\tweight=0.005208333333333333];\r\n",
      "\twpl -- arc\t[color=\"#197f40d7\",\r\n",
      "\t\tpenwidth=6.25,\r\n",
      "\t\tweight=0.015625];\r\n",
      "\twpl -- set\t[color=\"#197f80c0\",\r\n",
      "\t\tpenwidth=7.905694150420948,\r\n",
      "\t\tweight=0.025];\r\n",
      "\twpl -- car\t[color=\"#323240ca\",\r\n",
      "\t\tpenwidth=7.216878364870322,\r\n",
      "\t\tweight=0.020833333333333332];\r\n",
      "\tmov -- arc\t[color=\"#197f80d7\",\r\n",
      "\t\tpenwidth=6.25,\r\n",
      "\t\tweight=0.015625];\r\n",
      "\tmov -- set\t[color=\"#197fc0d5\",\r\n",
      "\t\tpenwidth=6.454972243679028,\r\n",
      "\t\tweight=0.016666666666666666];\r\n",
      "\tarc -- set\t[color=\"#19b28043\",\r\n",
      "\t\tpenwidth=13.693063937629152,\r\n",
      "\t\tweight=0.075];\r\n",
      "\tset -- car\t[color=\"#32658058\",\r\n",
      "\t\tpenwidth=12.909944487358056,\r\n",
      "\t\tweight=0.06666666666666667];\r\n",
      "}\r\n"
     ]
    }
   ],
   "source": [
    "!cat chapg.dot"
   ]
  },
  {
   "cell_type": "markdown",
   "metadata": {
    "hidden": true,
    "lc_cell_meme": {
     "current": "2451c592-49a6-11eb-8b85-0242ac110002",
     "next": "cbb81216-48af-11eb-b4d3-0242ac110002-2-cdec-b293",
     "previous": "84315182-48af-11eb-b4d3-0242ac110002-2-f3a7-2ad3"
    }
   },
   "source": [
    "中心性指標HITSの算出"
   ]
  },
  {
   "cell_type": "code",
   "execution_count": 10,
   "metadata": {
    "deletable": false,
    "editable": false,
    "hidden": true,
    "lc_cell_meme": {
     "current": "cbb81216-48af-11eb-b4d3-0242ac110002-2-cdec-b293",
     "execution_end_time": "2020-12-29T08:59:37.823409Z",
     "history": [
      {
       "current": "cbb81216-48af-11eb-b4d3-0242ac110002",
       "next": "cbb81356-48af-11eb-b4d3-0242ac110002",
       "previous": "84315182-48af-11eb-b4d3-0242ac110002"
      },
      {
       "current": "cbb81216-48af-11eb-b4d3-0242ac110002-1-cdec",
       "next": "cbb81356-48af-11eb-b4d3-0242ac110002",
       "previous": "78de33d4-48b1-11eb-b4d3-0242ac110002"
      },
      {
       "current": "cbb81216-48af-11eb-b4d3-0242ac110002-2-cdec-b293",
       "next": "cbb81356-48af-11eb-b4d3-0242ac110002-1-10a7",
       "previous": "78de33d4-48b1-11eb-b4d3-0242ac110002-1-0e4a"
      },
      {
       "current": "cbb81216-48af-11eb-b4d3-0242ac110002-2-cdec-b293",
       "next": "cbb81356-48af-11eb-b4d3-0242ac110002-2-10a7-3654",
       "previous": "78de33d4-48b1-11eb-b4d3-0242ac110002-2-0e4a-2302"
      },
      {
       "current": "cbb81216-48af-11eb-b4d3-0242ac110002-2-cdec-b293",
       "next": "cbb81356-48af-11eb-b4d3-0242ac110002-2-10a7-3654",
       "previous": "78de33d4-48b1-11eb-b4d3-0242ac110002-3-0e4a-2302-e9fd"
      },
      {
       "current": "cbb81216-48af-11eb-b4d3-0242ac110002-2-cdec-b293",
       "next": "cbb81356-48af-11eb-b4d3-0242ac110002-2-10a7-3654",
       "previous": "84315182-48af-11eb-b4d3-0242ac110002-2-f3a7-2ad3"
      },
      {
       "current": "cbb81216-48af-11eb-b4d3-0242ac110002-2-cdec-b293",
       "next": "cbb81356-48af-11eb-b4d3-0242ac110002-2-10a7-3654",
       "previous": "2451c592-49a6-11eb-8b85-0242ac110002"
      }
     ],
     "next": "6bd74edc-49a6-11eb-8b85-0242ac110002",
     "previous": "2451c592-49a6-11eb-8b85-0242ac110002"
    },
    "lc_wrapper": {
     "log_history": [
      "/home/jovyan/digraj202103/.log/20201228/20201228-015603-0661.log",
      "/home/jovyan/digraj202103/.log/20201228/20201228-020205-0325.log",
      "/home/jovyan/digraj202103/.log/20201228/20201228-022406-0192.log",
      "/home/jovyan/digraj202103/.log/20201228/20201228-022424-0678.log",
      "/home/jovyan/digraj202103/.log/20201228/20201228-022435-0204.log",
      "/home/jovyan/digraj202103/.log/20201228/20201228-022624-0729.log",
      "/home/jovyan/digraj202103/.log/20201228/20201228-022632-0090.log",
      "/home/jovyan/digraj202103/.log/20201228/20201228-022647-0229.log",
      "/home/jovyan/digraj202103/.log/20201228/20201228-022838-0548.log",
      "/home/jovyan/digraj202103/.log/20201228/20201228-023137-0287.log",
      "/home/jovyan/digraj202103/.log/20201228/20201228-023226-0170.log",
      "/home/jovyan/digraj202103/.log/20201228/20201228-023239-0193.log",
      "/home/jovyan/digraj202103/.log/20201228/20201228-023304-0249.log",
      "/home/jovyan/digraj202103/.log/20201228/20201228-023709-0151.log",
      "/home/jovyan/digraj202103/.log/20201228/20201228-023721-0015.log",
      "/home/jovyan/digraj202103/.log/20201228/20201228-023913-0471.log",
      "/home/jovyan/digraj202103/.log/20201228/20201228-023943-0772.log",
      "/home/jovyan/digraj202103/.log/20201228/20201228-023955-0960.log",
      "/home/jovyan/digraj202103/.log/20201228/20201228-024017-0919.log",
      "/home/jovyan/digraj202103/.log/20201228/20201228-024116-0596.log",
      "/home/jovyan/digraj202103/.log/20201228/20201228-024331-0318.log",
      "/home/jovyan/digraj202103/.log/20201228/20201228-024345-0459.log",
      "/home/jovyan/digraj202103/.log/20201228/20201228-025235-0324.log",
      "/home/jovyan/digraj202103/.log/20201228/20201228-025949-0892.log",
      "/home/jovyan/digraj202103/.log/20201228/20201228-030257-0354.log",
      "/home/jovyan/digraj202103/.log/20201228/20201228-030308-0187.log",
      "/home/jovyan/digraj202103/.log/20201229/20201229-051207-0361.log",
      "/home/jovyan/digraj202103/.log/20201229/20201229-051247-0559.log",
      "/home/jovyan/digraj202103/.log/20201229/20201229-051300-0755.log",
      "/home/jovyan/digraj202103/.log/20201229/20201229-051314-0739.log",
      "/home/jovyan/digraj202103/.log/20201229/20201229-051326-0614.log",
      "/home/jovyan/digraj202103/.log/20201229/20201229-053339-0939.log",
      "/home/jovyan/digraj202103/.log/20201229/20201229-053626-0204.log",
      "/home/jovyan/digraj202103/.log/20201229/20201229-053742-0824.log",
      "/home/jovyan/digraj202103/.log/20201229/20201229-053837-0450.log",
      "/home/jovyan/digraj202103/.log/20201229/20201229-054333-0963.log",
      "/home/jovyan/digraj202103/.log/20201229/20201229-061516-0751.log",
      "/home/jovyan/digraj202103/.log/20201229/20201229-061556-0588.log",
      "/home/jovyan/digraj202103/.log/20201229/20201229-061736-0681.log",
      "/home/jovyan/digraj202103/.log/20201229/20201229-071916-0680.log",
      "/home/jovyan/digraj202103/.log/20201229/20201229-085937-0469.log"
     ]
    },
    "run_through_control": {
     "frozen": true
    }
   },
   "outputs": [
    {
     "name": "stdout",
     "output_type": "stream",
     "text": [
      "[('car', 0.1548781082204156),\n",
      " ('unc', 0.1152073205891176),\n",
      " ('set', 0.10889268883664407),\n",
      " ('eco', 0.07939159202678295),\n",
      " ('str', 0.07242228144315528),\n",
      " ('trn', 0.07095123263369472),\n",
      " ('wpl', 0.07048551141867586),\n",
      " ('act', 0.07010266644837405),\n",
      " ('arc', 0.06971028717124171),\n",
      " ('auc', 0.06643510879373393),\n",
      " ('vic', 0.047343748199008294),\n",
      " ('res', 0.04240464128857761),\n",
      " ('mov', 0.03177481293057843)]\n"
     ]
    }
   ],
   "source": [
    "import networkx as nx\n",
    "from pprint import pprint\n",
    "\n",
    "ng = nx.Graph(chapg)\n",
    "h,a = nx.hits_numpy(ng)\n",
    "ht_sorted = sorted(h.items(), key=lambda x:x[1], reverse=True)\n",
    "pprint(ht_sorted)"
   ]
  },
  {
   "cell_type": "markdown",
   "metadata": {
    "hidden": true,
    "lc_cell_meme": {
     "current": "6bd74edc-49a6-11eb-8b85-0242ac110002",
     "next": "cbb81356-48af-11eb-b4d3-0242ac110002-2-10a7-3654",
     "previous": "cbb81216-48af-11eb-b4d3-0242ac110002-2-cdec-b293"
    }
   },
   "source": [
    "中心性指標PageRankの算出"
   ]
  },
  {
   "cell_type": "code",
   "execution_count": 11,
   "metadata": {
    "deletable": false,
    "editable": false,
    "hidden": true,
    "lc_cell_meme": {
     "current": "cbb81356-48af-11eb-b4d3-0242ac110002-2-10a7-3654",
     "execution_end_time": "2020-12-29T08:59:37.839981Z",
     "history": [
      {
       "current": "cbb81356-48af-11eb-b4d3-0242ac110002",
       "next": "487be4aa-41ce-11eb-aed8-0242ac110002-7-ea87-d481-f626-0acf-311c-b439-cd95",
       "previous": "cbb81216-48af-11eb-b4d3-0242ac110002"
      },
      {
       "current": "cbb81356-48af-11eb-b4d3-0242ac110002-1-10a7",
       "next": "133d6cf8-48b0-11eb-b4d3-0242ac110002",
       "previous": "cbb81216-48af-11eb-b4d3-0242ac110002"
      },
      {
       "current": "cbb81356-48af-11eb-b4d3-0242ac110002-2-10a7-3654",
       "next": "133d6cf8-48b0-11eb-b4d3-0242ac110002-1-2ba0",
       "previous": "cbb81216-48af-11eb-b4d3-0242ac110002-1-cdec"
      },
      {
       "current": "cbb81356-48af-11eb-b4d3-0242ac110002-2-10a7-3654",
       "next": "133d6cf8-48b0-11eb-b4d3-0242ac110002-2-2ba0-e759",
       "previous": "cbb81216-48af-11eb-b4d3-0242ac110002-2-cdec-b293"
      }
     ],
     "next": "6bd7501c-49a6-11eb-8b85-0242ac110002",
     "previous": "6bd74edc-49a6-11eb-8b85-0242ac110002"
    },
    "lc_wrapper": {
     "log_history": [
      "/home/jovyan/digraj202103/.log/20201228/20201228-015632-0040.log",
      "/home/jovyan/digraj202103/.log/20201228/20201228-020206-0562.log",
      "/home/jovyan/digraj202103/.log/20201228/20201228-024600-0701.log",
      "/home/jovyan/digraj202103/.log/20201228/20201228-024614-0735.log",
      "/home/jovyan/digraj202103/.log/20201229/20201229-054058-0302.log",
      "/home/jovyan/digraj202103/.log/20201229/20201229-054107-0859.log",
      "/home/jovyan/digraj202103/.log/20201229/20201229-054126-0151.log",
      "/home/jovyan/digraj202103/.log/20201229/20201229-054340-0153.log",
      "/home/jovyan/digraj202103/.log/20201229/20201229-061519-0291.log",
      "/home/jovyan/digraj202103/.log/20201229/20201229-061557-0488.log",
      "/home/jovyan/digraj202103/.log/20201229/20201229-061737-0069.log",
      "/home/jovyan/digraj202103/.log/20201229/20201229-085937-0829.log"
     ]
    },
    "run_through_control": {
     "frozen": true
    }
   },
   "outputs": [
    {
     "name": "stdout",
     "output_type": "stream",
     "text": [
      "[('car', 0.14717689981213034),\n",
      " ('unc', 0.10574034758128491),\n",
      " ('set', 0.10280399242424931),\n",
      " ('arc', 0.08186366550113403),\n",
      " ('act', 0.07658226208542046),\n",
      " ('wpl', 0.07430049538869186),\n",
      " ('trn', 0.07231459272072795),\n",
      " ('eco', 0.06837950882918763),\n",
      " ('str', 0.06430314482198941),\n",
      " ('auc', 0.05892932419377202),\n",
      " ('vic', 0.053833846584474696),\n",
      " ('res', 0.05249319375153227),\n",
      " ('mov', 0.041278726305405265)]\n"
     ]
    }
   ],
   "source": [
    "pr = nx.pagerank_numpy(ng)\n",
    "pr_sorted = sorted(pr.items(), key=lambda x:x[1], reverse=True)\n",
    "pprint(pr_sorted)"
   ]
  },
  {
   "cell_type": "markdown",
   "metadata": {
    "hidden": true,
    "lc_cell_meme": {
     "current": "6bd7501c-49a6-11eb-8b85-0242ac110002",
     "history": [
      {
       "current": "6bd7501c-49a6-11eb-8b85-0242ac110002",
       "next": "133d6cf8-48b0-11eb-b4d3-0242ac110002-2-2ba0-e759",
       "previous": "cbb81356-48af-11eb-b4d3-0242ac110002-2-10a7-3654"
      },
      {
       "current": "6bd7501c-49a6-11eb-8b85-0242ac110002",
       "next": "d177a240-49a7-11eb-8b85-0242ac110002",
       "previous": "cbb81356-48af-11eb-b4d3-0242ac110002-2-10a7-3654"
      }
     ],
     "next": "487be4aa-41ce-11eb-aed8-0242ac110002-9-ea87-d481-f626-0acf-311c-b439-cd95-1927-026a",
     "previous": "cbb81356-48af-11eb-b4d3-0242ac110002-2-10a7-3654"
    }
   },
   "source": [
    "CARに対する関係が非常に多いため、CARを中心としたネットワークである。\n",
    "\n",
    "各分類の意味を考えた場合、VICが軸になることが予想されたが、実際にそれを見ることはできなかった。ただ、CARと関係を持つ分類が偏っているためか、ばねモデルによるレイアウトでネットワーク図を描いたものでは、中心性指標においては中位のTRNが中心となっている。但し、重みを一律数倍すると、レイアウトは大きく変化するため、ばねモデルによるレイアウトが安定しているとは言えず、レイアウトに意味を求めるのは適切とは言えない。"
   ]
  },
  {
   "cell_type": "markdown",
   "metadata": {
    "lc_cell_meme": {
     "current": "487be4aa-41ce-11eb-aed8-0242ac110002-9-ea87-d481-f626-0acf-311c-b439-cd95-1927-026a",
     "history": [
      {
       "current": "487be4aa-41ce-11eb-aed8-0242ac110002-1-ea87",
       "next": "0fe29b6a-41c5-11eb-aed8-0242ac110002",
       "previous": "00b412aa-41ce-11eb-aed8-0242ac110002"
      },
      {
       "current": "487be4aa-41ce-11eb-aed8-0242ac110002-2-ea87-d481",
       "next": "0fe29b6a-41c5-11eb-aed8-0242ac110002-1-a54d",
       "previous": "00b412aa-41ce-11eb-aed8-0242ac110002-1-69de"
      },
      {
       "current": "487be4aa-41ce-11eb-aed8-0242ac110002-3-ea87-d481-f626",
       "next": "0fe29b6a-41c5-11eb-aed8-0242ac110002-2-a54d-a710",
       "previous": "00b412aa-41ce-11eb-aed8-0242ac110002-2-69de-eca1"
      },
      {
       "current": "487be4aa-41ce-11eb-aed8-0242ac110002-4-ea87-d481-f626-0acf",
       "next": "0fe29b6a-41c5-11eb-aed8-0242ac110002-3-a54d-a710-bd9b",
       "previous": "00b412aa-41ce-11eb-aed8-0242ac110002-3-69de-eca1-9441"
      },
      {
       "current": "487be4aa-41ce-11eb-aed8-0242ac110002-5-ea87-d481-f626-0acf-311c",
       "next": "0fe29b6a-41c5-11eb-aed8-0242ac110002-4-a54d-a710-bd9b-6219",
       "previous": "00b412aa-41ce-11eb-aed8-0242ac110002-4-69de-eca1-9441-6b2a"
      },
      {
       "current": "487be4aa-41ce-11eb-aed8-0242ac110002-5-ea87-d481-f626-0acf-311c",
       "next": "0fe29b6a-41c5-11eb-aed8-0242ac110002-5-a54d-a710-bd9b-6219-7da8",
       "previous": "00b412aa-41ce-11eb-aed8-0242ac110002-5-69de-eca1-9441-6b2a-a089"
      },
      {
       "current": "487be4aa-41ce-11eb-aed8-0242ac110002-6-ea87-d481-f626-0acf-311c-b439",
       "next": "0fe29b6a-41c5-11eb-aed8-0242ac110002-5-a54d-a710-bd9b-6219-7da8",
       "previous": "3c213ca2-46b3-11eb-ae4f-0242ac110002-2-cdcc-b0ca"
      },
      {
       "current": "487be4aa-41ce-11eb-aed8-0242ac110002-7-ea87-d481-f626-0acf-311c-b439-cd95",
       "next": "0fe29b6a-41c5-11eb-aed8-0242ac110002-6-a54d-a710-bd9b-6219-7da8-d48c",
       "previous": "3c213ca2-46b3-11eb-ae4f-0242ac110002-3-cdcc-b0ca-3c42"
      },
      {
       "current": "487be4aa-41ce-11eb-aed8-0242ac110002-7-ea87-d481-f626-0acf-311c-b439-cd95",
       "next": "0fe29b6a-41c5-11eb-aed8-0242ac110002-7-a54d-a710-bd9b-6219-7da8-d48c-6bed",
       "previous": "3c213ca2-46b3-11eb-ae4f-0242ac110002-4-cdcc-b0ca-3c42-b67b"
      },
      {
       "current": "487be4aa-41ce-11eb-aed8-0242ac110002-7-ea87-d481-f626-0acf-311c-b439-cd95",
       "next": "0fe29b6a-41c5-11eb-aed8-0242ac110002-7-a54d-a710-bd9b-6219-7da8-d48c-6bed",
       "previous": "84315182-48af-11eb-b4d3-0242ac110002"
      },
      {
       "current": "487be4aa-41ce-11eb-aed8-0242ac110002-7-ea87-d481-f626-0acf-311c-b439-cd95",
       "next": "0fe29b6a-41c5-11eb-aed8-0242ac110002-7-a54d-a710-bd9b-6219-7da8-d48c-6bed",
       "previous": "cbb81356-48af-11eb-b4d3-0242ac110002"
      },
      {
       "current": "487be4aa-41ce-11eb-aed8-0242ac110002-8-ea87-d481-f626-0acf-311c-b439-cd95-1927",
       "next": "0fe29b6a-41c5-11eb-aed8-0242ac110002-7-a54d-a710-bd9b-6219-7da8-d48c-6bed",
       "previous": "133d6cf8-48b0-11eb-b4d3-0242ac110002"
      },
      {
       "current": "487be4aa-41ce-11eb-aed8-0242ac110002-9-ea87-d481-f626-0acf-311c-b439-cd95-1927-026a",
       "next": "0fe29b6a-41c5-11eb-aed8-0242ac110002-8-a54d-a710-bd9b-6219-7da8-d48c-6bed-4d15",
       "previous": "133d6cf8-48b0-11eb-b4d3-0242ac110002-1-2ba0"
      },
      {
       "current": "487be4aa-41ce-11eb-aed8-0242ac110002-9-ea87-d481-f626-0acf-311c-b439-cd95-1927-026a",
       "next": "0fe29b6a-41c5-11eb-aed8-0242ac110002-9-a54d-a710-bd9b-6219-7da8-d48c-6bed-4d15-ffd7",
       "previous": "133d6cf8-48b0-11eb-b4d3-0242ac110002-2-2ba0-e759"
      }
     ],
     "next": "18fe0172-49a8-11eb-8b85-0242ac110002",
     "previous": "6bd7501c-49a6-11eb-8b85-0242ac110002"
    }
   },
   "source": [
    "## 同一分類内の関係の洗い出し"
   ]
  },
  {
   "cell_type": "markdown",
   "metadata": {
    "lc_cell_meme": {
     "current": "18fe0172-49a8-11eb-8b85-0242ac110002",
     "next": "0fe29b6a-41c5-11eb-aed8-0242ac110002-9-a54d-a710-bd9b-6219-7da8-d48c-6bed-4d15-ffd7",
     "previous": "487be4aa-41ce-11eb-aed8-0242ac110002-9-ea87-d481-f626-0acf-311c-b439-cd95-1927-026a"
    }
   },
   "source": [
    "同一分類内に見られる関係においては、そのいくつかが継承（汎化）関係であることが予想される。継承関係であれば、親が持つ形質は子に受け継がれるため、親が持つ関係を子も持つと考えられる。従って、継承関係を見い出すことで、形式的に関係を増やすことが可能となる。また、親子関係で結ばれたパターンを族としてのグループ化して扱うことも考えられる。\n",
    "\n",
    "ここでは、同一分類内の関係を洗い出し、いくつかの分類について、その関係が継承を表しているか検討を行う。"
   ]
  },
  {
   "cell_type": "code",
   "execution_count": 12,
   "metadata": {
    "deletable": false,
    "editable": false,
    "lc_cell_meme": {
     "current": "0fe29b6a-41c5-11eb-aed8-0242ac110002-9-a54d-a710-bd9b-6219-7da8-d48c-6bed-4d15-ffd7",
     "execution_end_time": "2020-12-29T08:59:37.877393Z",
     "history": [
      {
       "current": "0fe29b6a-41c5-11eb-aed8-0242ac110002",
       "next": "d78c2500-41bb-11eb-aed8-0242ac110002",
       "previous": "d78c2460-41bb-11eb-aed8-0242ac110002"
      },
      {
       "current": "0fe29b6a-41c5-11eb-aed8-0242ac110002",
       "next": "d78c2500-41bb-11eb-aed8-0242ac110002",
       "previous": "b96ea8e2-41cd-11eb-aed8-0242ac110002"
      },
      {
       "current": "0fe29b6a-41c5-11eb-aed8-0242ac110002",
       "next": "d78c2500-41bb-11eb-aed8-0242ac110002",
       "previous": "00b412aa-41ce-11eb-aed8-0242ac110002"
      },
      {
       "current": "0fe29b6a-41c5-11eb-aed8-0242ac110002",
       "next": "d78c2500-41bb-11eb-aed8-0242ac110002",
       "previous": "487be4aa-41ce-11eb-aed8-0242ac110002"
      },
      {
       "current": "0fe29b6a-41c5-11eb-aed8-0242ac110002-1-a54d",
       "next": "6654e0d4-41cf-11eb-aed8-0242ac110002",
       "previous": "487be4aa-41ce-11eb-aed8-0242ac110002"
      },
      {
       "current": "0fe29b6a-41c5-11eb-aed8-0242ac110002-2-a54d-a710",
       "next": "6654e0d4-41cf-11eb-aed8-0242ac110002-1-cd5d",
       "previous": "487be4aa-41ce-11eb-aed8-0242ac110002-1-ea87"
      },
      {
       "current": "0fe29b6a-41c5-11eb-aed8-0242ac110002-3-a54d-a710-bd9b",
       "next": "6654e0d4-41cf-11eb-aed8-0242ac110002-2-cd5d-5826",
       "previous": "487be4aa-41ce-11eb-aed8-0242ac110002-2-ea87-d481"
      },
      {
       "current": "0fe29b6a-41c5-11eb-aed8-0242ac110002-4-a54d-a710-bd9b-6219",
       "next": "6654e0d4-41cf-11eb-aed8-0242ac110002-3-cd5d-5826-0445",
       "previous": "487be4aa-41ce-11eb-aed8-0242ac110002-3-ea87-d481-f626"
      },
      {
       "current": "0fe29b6a-41c5-11eb-aed8-0242ac110002-5-a54d-a710-bd9b-6219-7da8",
       "next": "6654e0d4-41cf-11eb-aed8-0242ac110002-4-cd5d-5826-0445-14fe",
       "previous": "487be4aa-41ce-11eb-aed8-0242ac110002-4-ea87-d481-f626-0acf"
      },
      {
       "current": "0fe29b6a-41c5-11eb-aed8-0242ac110002-6-a54d-a710-bd9b-6219-7da8-d48c",
       "next": "6654e0d4-41cf-11eb-aed8-0242ac110002-5-cd5d-5826-0445-14fe-df44",
       "previous": "487be4aa-41ce-11eb-aed8-0242ac110002-5-ea87-d481-f626-0acf-311c"
      },
      {
       "current": "0fe29b6a-41c5-11eb-aed8-0242ac110002-7-a54d-a710-bd9b-6219-7da8-d48c-6bed",
       "next": "6654e0d4-41cf-11eb-aed8-0242ac110002-6-cd5d-5826-0445-14fe-df44-3fea",
       "previous": "487be4aa-41ce-11eb-aed8-0242ac110002-6-ea87-d481-f626-0acf-311c-b439"
      },
      {
       "current": "0fe29b6a-41c5-11eb-aed8-0242ac110002-8-a54d-a710-bd9b-6219-7da8-d48c-6bed-4d15",
       "next": "6654e0d4-41cf-11eb-aed8-0242ac110002-7-cd5d-5826-0445-14fe-df44-3fea-45bb",
       "previous": "487be4aa-41ce-11eb-aed8-0242ac110002-7-ea87-d481-f626-0acf-311c-b439-cd95"
      },
      {
       "current": "0fe29b6a-41c5-11eb-aed8-0242ac110002-9-a54d-a710-bd9b-6219-7da8-d48c-6bed-4d15-ffd7",
       "next": "6654e0d4-41cf-11eb-aed8-0242ac110002-8-cd5d-5826-0445-14fe-df44-3fea-45bb-4abe",
       "previous": "487be4aa-41ce-11eb-aed8-0242ac110002-8-ea87-d481-f626-0acf-311c-b439-cd95-1927"
      },
      {
       "current": "0fe29b6a-41c5-11eb-aed8-0242ac110002-9-a54d-a710-bd9b-6219-7da8-d48c-6bed-4d15-ffd7",
       "next": "6654e0d4-41cf-11eb-aed8-0242ac110002-9-cd5d-5826-0445-14fe-df44-3fea-45bb-4abe-dd5c",
       "previous": "487be4aa-41ce-11eb-aed8-0242ac110002-9-ea87-d481-f626-0acf-311c-b439-cd95-1927-026a"
      }
     ],
     "next": "6654e0d4-41cf-11eb-aed8-0242ac110002-9-cd5d-5826-0445-14fe-df44-3fea-45bb-4abe-dd5c",
     "previous": "18fe0172-49a8-11eb-8b85-0242ac110002"
    },
    "lc_wrapper": {
     "log_history": [
      "/home/jovyan/digraj202103/.log/20201219/20201219-064033-0690.log",
      "/home/jovyan/digraj202103/.log/20201219/20201219-064154-0191.log",
      "/home/jovyan/digraj202103/.log/20201219/20201219-064353-0969.log",
      "/home/jovyan/digraj202103/.log/20201219/20201219-064436-0442.log",
      "/home/jovyan/digraj202103/.log/20201219/20201219-072239-0607.log",
      "/home/jovyan/digraj202103/.log/20201219/20201219-072258-0932.log",
      "/home/jovyan/digraj202103/.log/20201219/20201219-072524-0863.log",
      "/home/jovyan/digraj202103/.log/20201219/20201219-072645-0959.log",
      "/home/jovyan/digraj202103/.log/20201219/20201219-072758-0932.log",
      "/home/jovyan/digraj202103/.log/20201219/20201219-073425-0022.log",
      "/home/jovyan/digraj202103/.log/20201219/20201219-074853-0077.log",
      "/home/jovyan/digraj202103/.log/20201219/20201219-075158-0868.log",
      "/home/jovyan/digraj202103/.log/20201219/20201219-075959-0806.log",
      "/home/jovyan/digraj202103/.log/20201225/20201225-074716-0083.log",
      "/home/jovyan/digraj202103/.log/20201225/20201225-132056-0011.log",
      "/home/jovyan/digraj202103/.log/20201226/20201226-133624-0696.log",
      "/home/jovyan/digraj202103/.log/20201226/20201226-143534-0776.log",
      "/home/jovyan/digraj202103/.log/20201229/20201229-085937-0845.log"
     ]
    },
    "run_through_control": {
     "frozen": true
    }
   },
   "outputs": [
    {
     "name": "stdout",
     "output_type": "stream",
     "text": [
      "\n",
      "str\n",
      "('str02', 'str04')\n",
      "('str02', 'str05')\n",
      "('str02', 'str07')\n",
      "('str03', 'str07')\n",
      "\n",
      "trn\n",
      "('trn01', 'trn04')\n",
      "('trn01', 'trn05')\n",
      "('trn02', 'trn05')\n",
      "('trn02', 'trn15')\n",
      "('trn05', 'trn06')\n",
      "('trn07', 'trn08')\n",
      "('trn07', 'trn12')\n",
      "('trn07', 'trn14')\n",
      "('trn09', 'trn10')\n",
      "('trn10', 'trn16')\n",
      "('trn12', 'trn14')\n",
      "('trn14', 'trn16')\n",
      "('trn16', 'trn17')\n",
      "\n",
      "act\n",
      "('act01', 'act04')\n",
      "('act01', 'act10')\n",
      "('act02', 'act08')\n",
      "('act02', 'act11')\n",
      "('act03', 'act11')\n",
      "('act03', 'act13')\n",
      "('act04', 'act17')\n",
      "('act05', 'act11')\n",
      "('act06', 'act07')\n",
      "('act06', 'act09')\n",
      "('act07', 'act08')\n",
      "('act10', 'act11')\n",
      "('act12', 'act14')\n",
      "('act13', 'act14')\n",
      "('act15', 'act16')\n",
      "('act15', 'act18')\n",
      "\n",
      "res\n",
      "('res01', 'res02')\n",
      "('res01', 'res05')\n",
      "('res01', 'res07')\n",
      "('res01', 'res14')\n",
      "('res01', 'res18')\n",
      "('res02', 'res05')\n",
      "('res02', 'res07')\n",
      "('res02', 'res13')\n",
      "('res02', 'res21')\n",
      "('res03', 'res04')\n",
      "('res07', 'res08')\n",
      "('res13', 'res14')\n",
      "('res18', 'res20')\n",
      "\n",
      "vic\n",
      "('vic01', 'vic02')\n",
      "('vic01', 'vic07')\n",
      "('vic01', 'vic12')\n",
      "('vic02', 'vic11')\n",
      "('vic04', 'vic18')\n",
      "('vic05', 'vic06')\n",
      "('vic05', 'vic09')\n",
      "('vic05', 'vic15')\n",
      "('vic06', 'vic11')\n",
      "('vic07', 'vic11')\n",
      "('vic07', 'vic14')\n",
      "('vic10', 'vic11')\n",
      "('vic11', 'vic19')\n",
      "('vic14', 'vic16')\n",
      "('vic15', 'vic19')\n",
      "('vic17', 'vic18')\n",
      "\n",
      "unc\n",
      "('unc01', 'unc02')\n",
      "('unc01', 'unc04')\n",
      "('unc01', 'unc08')\n",
      "('unc01', 'unc09')\n",
      "('unc01', 'unc11')\n",
      "('unc04', 'unc05')\n",
      "('unc04', 'unc08')\n",
      "('unc07', 'unc10')\n",
      "('unc08', 'unc10')\n",
      "\n",
      "eco\n",
      "('eco01', 'eco02')\n",
      "('eco01', 'eco03')\n",
      "('eco01', 'eco05')\n",
      "('eco01', 'eco10')\n",
      "('eco02', 'eco16')\n",
      "('eco02', 'eco18')\n",
      "('eco03', 'eco05')\n",
      "('eco05', 'eco06')\n",
      "('eco05', 'eco07')\n",
      "('eco05', 'eco12')\n",
      "('eco05', 'eco14')\n",
      "('eco10', 'eco11')\n",
      "('eco13', 'eco14')\n",
      "('eco16', 'eco18')\n",
      "('eco18', 'eco19')\n",
      "\n",
      "auc\n",
      "('auc01', 'auc02')\n",
      "('auc01', 'auc03')\n",
      "('auc02', 'auc03')\n",
      "('auc02', 'auc08')\n",
      "('auc02', 'auc09')\n",
      "('auc03', 'auc04')\n",
      "('auc03', 'auc09')\n",
      "('auc03', 'auc13')\n",
      "('auc04', 'auc07')\n",
      "('auc04', 'auc09')\n",
      "('auc04', 'auc11')\n",
      "('auc04', 'auc13')\n",
      "('auc05', 'auc06')\n",
      "('auc05', 'auc11')\n",
      "('auc06', 'auc07')\n",
      "('auc06', 'auc10')\n",
      "('auc06', 'auc13')\n",
      "('auc06', 'auc15')\n",
      "('auc08', 'auc09')\n",
      "('auc08', 'auc16')\n",
      "('auc11', 'auc13')\n",
      "('auc11', 'auc15')\n",
      "('auc11', 'auc16')\n",
      "\n",
      "wpl\n",
      "('wpl01', 'wpl02')\n",
      "('wpl03', 'wpl08')\n",
      "('wpl04', 'wpl05')\n",
      "('wpl05', 'wpl08')\n",
      "\n",
      "mov\n",
      "('mov01', 'mov02')\n",
      "('mov01', 'mov24')\n",
      "('mov02', 'mov05')\n",
      "('mov02', 'mov07')\n",
      "('mov02', 'mov23')\n",
      "('mov04', 'mov06')\n",
      "('mov04', 'mov07')\n",
      "('mov06', 'mov20')\n",
      "('mov10', 'mov14')\n",
      "('mov10', 'mov20')\n",
      "\n",
      "arc\n",
      "('arc02', 'arc03')\n",
      "('arc02', 'arc06')\n",
      "('arc05', 'arc06')\n",
      "('arc05', 'arc08')\n",
      "('arc06', 'arc07')\n",
      "('arc06', 'arc08')\n",
      "\n",
      "set\n",
      "('set01', 'set04')\n",
      "('set01', 'set05')\n",
      "('set02', 'set04')\n",
      "\n",
      "car\n",
      "('car01', 'car02')\n",
      "('car03', 'car04')\n"
     ]
    }
   ],
   "source": [
    "label = \"\"\n",
    "for edge in g.edges():\n",
    "    if label != edge[0][0:3]:\n",
    "        label = edge[0][0:3]\n",
    "        print(\"\\n\"+label)\n",
    "    if edge[0].startswith(edge[1][0:3]):\n",
    "        print(edge)"
   ]
  },
  {
   "cell_type": "markdown",
   "metadata": {
    "lc_cell_meme": {
     "current": "6654e0d4-41cf-11eb-aed8-0242ac110002-9-cd5d-5826-0445-14fe-df44-3fea-45bb-4abe-dd5c",
     "history": [
      {
       "current": "6654e0d4-41cf-11eb-aed8-0242ac110002",
       "next": null,
       "previous": "0fe29b6a-41c5-11eb-aed8-0242ac110002"
      },
      {
       "current": "6654e0d4-41cf-11eb-aed8-0242ac110002-1-cd5d",
       "next": "976f40a6-41cf-11eb-aed8-0242ac110002",
       "previous": "0fe29b6a-41c5-11eb-aed8-0242ac110002"
      },
      {
       "current": "6654e0d4-41cf-11eb-aed8-0242ac110002-2-cd5d-5826",
       "next": "976f40a6-41cf-11eb-aed8-0242ac110002-1-60db",
       "previous": "0fe29b6a-41c5-11eb-aed8-0242ac110002-1-a54d"
      },
      {
       "current": "6654e0d4-41cf-11eb-aed8-0242ac110002-3-cd5d-5826-0445",
       "next": "976f40a6-41cf-11eb-aed8-0242ac110002-3-60db-2644-3cd5",
       "previous": "0fe29b6a-41c5-11eb-aed8-0242ac110002-2-a54d-a710"
      },
      {
       "current": "6654e0d4-41cf-11eb-aed8-0242ac110002-4-cd5d-5826-0445-14fe",
       "next": "3c213ca2-46b3-11eb-ae4f-0242ac110002",
       "previous": "0fe29b6a-41c5-11eb-aed8-0242ac110002-3-a54d-a710-bd9b"
      },
      {
       "current": "6654e0d4-41cf-11eb-aed8-0242ac110002-5-cd5d-5826-0445-14fe-df44",
       "next": "3c213ca2-46b3-11eb-ae4f-0242ac110002-1-cdcc",
       "previous": "0fe29b6a-41c5-11eb-aed8-0242ac110002-4-a54d-a710-bd9b-6219"
      },
      {
       "current": "6654e0d4-41cf-11eb-aed8-0242ac110002-5-cd5d-5826-0445-14fe-df44",
       "next": "3c213ca2-46b3-11eb-ae4f-0242ac110002-2-cdcc-b0ca",
       "previous": "0fe29b6a-41c5-11eb-aed8-0242ac110002-5-a54d-a710-bd9b-6219-7da8"
      },
      {
       "current": "6654e0d4-41cf-11eb-aed8-0242ac110002-6-cd5d-5826-0445-14fe-df44-3fea",
       "next": "976f40a6-41cf-11eb-aed8-0242ac110002-6-60db-2644-3cd5-2b5b-54ec-4b57",
       "previous": "0fe29b6a-41c5-11eb-aed8-0242ac110002-5-a54d-a710-bd9b-6219-7da8"
      },
      {
       "current": "6654e0d4-41cf-11eb-aed8-0242ac110002-7-cd5d-5826-0445-14fe-df44-3fea-45bb",
       "next": "976f40a6-41cf-11eb-aed8-0242ac110002-7-60db-2644-3cd5-2b5b-54ec-4b57-b5bc",
       "previous": "0fe29b6a-41c5-11eb-aed8-0242ac110002-6-a54d-a710-bd9b-6219-7da8-d48c"
      },
      {
       "current": "6654e0d4-41cf-11eb-aed8-0242ac110002-8-cd5d-5826-0445-14fe-df44-3fea-45bb-4abe",
       "next": "976f40a6-41cf-11eb-aed8-0242ac110002-8-60db-2644-3cd5-2b5b-54ec-4b57-b5bc-712a",
       "previous": "0fe29b6a-41c5-11eb-aed8-0242ac110002-7-a54d-a710-bd9b-6219-7da8-d48c-6bed"
      },
      {
       "current": "6654e0d4-41cf-11eb-aed8-0242ac110002-9-cd5d-5826-0445-14fe-df44-3fea-45bb-4abe-dd5c",
       "next": "976f40a6-41cf-11eb-aed8-0242ac110002-9-60db-2644-3cd5-2b5b-54ec-4b57-b5bc-712a-a94b",
       "previous": "0fe29b6a-41c5-11eb-aed8-0242ac110002-8-a54d-a710-bd9b-6219-7da8-d48c-6bed-4d15"
      }
     ],
     "next": "976f40a6-41cf-11eb-aed8-0242ac110002-10-60db-2644-3cd5-2b5b-54ec-4b57-b5bc-712a-a94b-6d0f",
     "previous": "0fe29b6a-41c5-11eb-aed8-0242ac110002-9-a54d-a710-bd9b-6219-7da8-d48c-6bed-4d15-ffd7"
    }
   },
   "source": [
    "例えば、VICについては以下の16の関係が存在する。\n",
    "```\n",
    "('vic01', 'vic02')\n",
    "('vic01', 'vic07')\n",
    "('vic01', 'vic12')\n",
    "('vic02', 'vic11')\n",
    "('vic04', 'vic18')\n",
    "('vic05', 'vic06')\n",
    "('vic05', 'vic09')\n",
    "('vic05', 'vic15')\n",
    "('vic06', 'vic11')\n",
    "('vic07', 'vic11')\n",
    "('vic07', 'vic14')\n",
    "('vic10', 'vic11')\n",
    "('vic11', 'vic19')\n",
    "('vic14', 'vic16')\n",
    "('vic15', 'vic19')\n",
    "('vic17', 'vic18')\n",
    "```\n",
    "これを親子関係でないか検討していく。\n",
    "\n",
    "('vic01', 'vic02')：vic02はプレイヤアクション起点であり、vic01もプレイヤアクション起点含むが、vic02はアクションがそのまま得点、vic01は状況が解釈され得点、であるため、を親子関係や依存関係はない\n",
    "\n",
    "('vic01', 'vic07')：vic07に「レースのように見えて実際にはそうではない」ものとして例があり、それは「vic01に相当」とされているため、相反関係である\n",
    "\n",
    "('vic01', 'vic12')：「ハイソサエティ」の事例でvic01と無関係にvic12のみの適用が言及されており、親子関係や依存関係はない\n",
    "\n",
    "('vic02', 'vic11')：vic02を得点システムとし、vic06+vic11を終了システムとする事例は多いが、必須とまでは言えない。それぞれ別の部分のメカニクスであるため、親子関係や依存関係はない\n",
    "\n",
    "('vic04', 'vic18')：vic04における雪だるま式をvic18の導入で抑制できるが、必須とまでは言えない。親子関係や依存関係はない\n",
    "\n",
    "('vic05', 'vic06')：ゲーム進行のそれぞれの局面で得点状況を把握できないとストレスだが、把握できすぎても終盤のプレイが最適化されすぎ、更に終了時ボーナスでの得点調整の要素も絡むという議論。直接的に2つのメカニクスの関係を論じていない\n",
    "\n",
    "('vic05', 'vic09')\n",
    "('vic05', 'vic15')\n",
    "('vic06', 'vic11')\n",
    "\n",
    "('vic07', 'vic11')：vic11の詳細化されたものの1つがvic07と考えられるため、vic11を親とする親子関係と考えられる\n",
    "\n",
    "('vic07', 'vic14')\n",
    "('vic10', 'vic11')\n",
    "('vic11', 'vic19')\n",
    "('vic14', 'vic16')\n",
    "('vic15', 'vic19')\n",
    "('vic17', 'vic18')\n",
    "\n"
   ]
  },
  {
   "cell_type": "markdown",
   "metadata": {
    "heading_collapsed": true,
    "lc_cell_meme": {
     "current": "976f40a6-41cf-11eb-aed8-0242ac110002-10-60db-2644-3cd5-2b5b-54ec-4b57-b5bc-712a-a94b-6d0f",
     "history": [
      {
       "current": "976f40a6-41cf-11eb-aed8-0242ac110002-1-60db",
       "next": null,
       "previous": "6654e0d4-41cf-11eb-aed8-0242ac110002"
      },
      {
       "current": "976f40a6-41cf-11eb-aed8-0242ac110002-3-60db-2644-3cd5",
       "next": null,
       "previous": "6654e0d4-41cf-11eb-aed8-0242ac110002-1-cd5d"
      },
      {
       "current": "976f40a6-41cf-11eb-aed8-0242ac110002-3-60db-2644-3cd5",
       "next": "c0050276-4684-11eb-993d-0242ac110002",
       "previous": "6654e0d4-41cf-11eb-aed8-0242ac110002-2-cd5d-5826"
      },
      {
       "current": "976f40a6-41cf-11eb-aed8-0242ac110002-3-60db-2644-3cd5",
       "next": "9694ffd0-4685-11eb-993d-0242ac110002",
       "previous": "6654e0d4-41cf-11eb-aed8-0242ac110002-2-cd5d-5826"
      },
      {
       "current": "976f40a6-41cf-11eb-aed8-0242ac110002-4-60db-2644-3cd5-2b5b",
       "next": "4b330ac6-468c-11eb-993d-0242ac110002",
       "previous": "6654e0d4-41cf-11eb-aed8-0242ac110002-2-cd5d-5826"
      },
      {
       "current": "976f40a6-41cf-11eb-aed8-0242ac110002-5-60db-2644-3cd5-2b5b-54ec",
       "next": "4b330ac6-468c-11eb-993d-0242ac110002-1-26b0",
       "previous": "3c213ca2-46b3-11eb-ae4f-0242ac110002"
      },
      {
       "current": "976f40a6-41cf-11eb-aed8-0242ac110002-6-60db-2644-3cd5-2b5b-54ec-4b57",
       "next": "4b330ac6-468c-11eb-993d-0242ac110002-2-26b0-7669",
       "previous": "3c213ca2-46b3-11eb-ae4f-0242ac110002-1-cdcc"
      },
      {
       "current": "976f40a6-41cf-11eb-aed8-0242ac110002-6-60db-2644-3cd5-2b5b-54ec-4b57",
       "next": "4b330ac6-468c-11eb-993d-0242ac110002-3-26b0-7669-4d2f",
       "previous": "3c213ca2-46b3-11eb-ae4f-0242ac110002-2-cdcc-b0ca"
      },
      {
       "current": "976f40a6-41cf-11eb-aed8-0242ac110002-7-60db-2644-3cd5-2b5b-54ec-4b57-b5bc",
       "next": "4b330ac6-468c-11eb-993d-0242ac110002-3-26b0-7669-4d2f",
       "previous": "6654e0d4-41cf-11eb-aed8-0242ac110002-5-cd5d-5826-0445-14fe-df44"
      },
      {
       "current": "976f40a6-41cf-11eb-aed8-0242ac110002-8-60db-2644-3cd5-2b5b-54ec-4b57-b5bc-712a",
       "next": "4b330ac6-468c-11eb-993d-0242ac110002-4-26b0-7669-4d2f-f936",
       "previous": "6654e0d4-41cf-11eb-aed8-0242ac110002-6-cd5d-5826-0445-14fe-df44-3fea"
      },
      {
       "current": "976f40a6-41cf-11eb-aed8-0242ac110002-9-60db-2644-3cd5-2b5b-54ec-4b57-b5bc-712a-a94b",
       "next": "4b330ac6-468c-11eb-993d-0242ac110002-5-26b0-7669-4d2f-f936-4a8a",
       "previous": "6654e0d4-41cf-11eb-aed8-0242ac110002-7-cd5d-5826-0445-14fe-df44-3fea-45bb"
      },
      {
       "current": "976f40a6-41cf-11eb-aed8-0242ac110002-10-60db-2644-3cd5-2b5b-54ec-4b57-b5bc-712a-a94b-6d0f",
       "next": "4b330ac6-468c-11eb-993d-0242ac110002-6-26b0-7669-4d2f-f936-4a8a-84e4",
       "previous": "6654e0d4-41cf-11eb-aed8-0242ac110002-8-cd5d-5826-0445-14fe-df44-3fea-45bb-4abe"
      }
     ],
     "next": "4b330ac6-468c-11eb-993d-0242ac110002-7-26b0-7669-4d2f-f936-4a8a-84e4-ce7e",
     "previous": "6654e0d4-41cf-11eb-aed8-0242ac110002-9-cd5d-5826-0445-14fe-df44-3fea-45bb-4abe-dd5c"
    }
   },
   "source": [
    "## 次数"
   ]
  },
  {
   "cell_type": "code",
   "execution_count": 13,
   "metadata": {
    "deletable": false,
    "editable": false,
    "hidden": true,
    "lc_cell_meme": {
     "current": "4b330ac6-468c-11eb-993d-0242ac110002-7-26b0-7669-4d2f-f936-4a8a-84e4-ce7e",
     "execution_end_time": "2020-12-29T08:59:37.932008Z",
     "history": [
      {
       "current": "4b330ac6-468c-11eb-993d-0242ac110002",
       "next": "749ea79a-468b-11eb-993d-0242ac110002",
       "previous": "9e4be4a0-468a-11eb-993d-0242ac110002"
      },
      {
       "current": "4b330ac6-468c-11eb-993d-0242ac110002",
       "next": "9e4be4a0-468a-11eb-993d-0242ac110002",
       "previous": "9694ffd0-4685-11eb-993d-0242ac110002"
      },
      {
       "current": "4b330ac6-468c-11eb-993d-0242ac110002",
       "next": "4b330f4e-468c-11eb-993d-0242ac110002",
       "previous": "749ea79a-468b-11eb-993d-0242ac110002"
      },
      {
       "current": "4b330ac6-468c-11eb-993d-0242ac110002-1-26b0",
       "next": "d6630b6c-4693-11eb-993d-0242ac110002",
       "previous": "976f40a6-41cf-11eb-aed8-0242ac110002-3-60db-2644-3cd5"
      },
      {
       "current": "4b330ac6-468c-11eb-993d-0242ac110002-2-26b0-7669",
       "next": "d6630b6c-4693-11eb-993d-0242ac110002-1-5e88",
       "previous": "976f40a6-41cf-11eb-aed8-0242ac110002-4-60db-2644-3cd5-2b5b"
      },
      {
       "current": "4b330ac6-468c-11eb-993d-0242ac110002-3-26b0-7669-4d2f",
       "next": "d6630b6c-4693-11eb-993d-0242ac110002-2-5e88-58a0",
       "previous": "976f40a6-41cf-11eb-aed8-0242ac110002-5-60db-2644-3cd5-2b5b-54ec"
      },
      {
       "current": "4b330ac6-468c-11eb-993d-0242ac110002-4-26b0-7669-4d2f-f936",
       "next": "d6630b6c-4693-11eb-993d-0242ac110002-3-5e88-58a0-62ec",
       "previous": "976f40a6-41cf-11eb-aed8-0242ac110002-6-60db-2644-3cd5-2b5b-54ec-4b57"
      },
      {
       "current": "4b330ac6-468c-11eb-993d-0242ac110002-5-26b0-7669-4d2f-f936-4a8a",
       "next": "d6630b6c-4693-11eb-993d-0242ac110002-4-5e88-58a0-62ec-40f7",
       "previous": "976f40a6-41cf-11eb-aed8-0242ac110002-7-60db-2644-3cd5-2b5b-54ec-4b57-b5bc"
      },
      {
       "current": "4b330ac6-468c-11eb-993d-0242ac110002-6-26b0-7669-4d2f-f936-4a8a-84e4",
       "next": "d6630b6c-4693-11eb-993d-0242ac110002-5-5e88-58a0-62ec-40f7-6116",
       "previous": "976f40a6-41cf-11eb-aed8-0242ac110002-8-60db-2644-3cd5-2b5b-54ec-4b57-b5bc-712a"
      },
      {
       "current": "4b330ac6-468c-11eb-993d-0242ac110002-7-26b0-7669-4d2f-f936-4a8a-84e4-ce7e",
       "next": "d6630b6c-4693-11eb-993d-0242ac110002-6-5e88-58a0-62ec-40f7-6116-683b",
       "previous": "976f40a6-41cf-11eb-aed8-0242ac110002-9-60db-2644-3cd5-2b5b-54ec-4b57-b5bc-712a-a94b"
      }
     ],
     "next": "d6630b6c-4693-11eb-993d-0242ac110002-7-5e88-58a0-62ec-40f7-6116-683b-16ad",
     "previous": "976f40a6-41cf-11eb-aed8-0242ac110002-10-60db-2644-3cd5-2b5b-54ec-4b57-b5bc-712a-a94b-6d0f"
    },
    "lc_wrapper": {
     "log_history": [
      "/home/jovyan/digraj202103/.log/20201225/20201225-083614-0665.log",
      "/home/jovyan/digraj202103/.log/20201225/20201225-090018-0957.log",
      "/home/jovyan/digraj202103/.log/20201225/20201225-090048-0844.log",
      "/home/jovyan/digraj202103/.log/20201225/20201225-090128-0269.log",
      "/home/jovyan/digraj202103/.log/20201225/20201225-090513-0328.log",
      "/home/jovyan/digraj202103/.log/20201225/20201225-090606-0882.log",
      "/home/jovyan/digraj202103/.log/20201225/20201225-090615-0626.log",
      "/home/jovyan/digraj202103/.log/20201225/20201225-090707-0879.log",
      "/home/jovyan/digraj202103/.log/20201225/20201225-092404-0407.log",
      "/home/jovyan/digraj202103/.log/20201225/20201225-092920-0068.log",
      "/home/jovyan/digraj202103/.log/20201226/20201226-143535-0921.log",
      "/home/jovyan/digraj202103/.log/20201228/20201228-022209-0762.log",
      "/home/jovyan/digraj202103/.log/20201229/20201229-085937-0885.log"
     ]
    },
    "run_through_control": {
     "frozen": true
    }
   },
   "outputs": [
    {
     "name": "stdout",
     "output_type": "stream",
     "text": [
      "[(18, 'unc01'),\n",
      " (15, 'arc02'),\n",
      " (11, 'act02'),\n",
      " (10, 'unc04'),\n",
      " (10, 'car06'),\n",
      " (10, 'auc04'),\n",
      " (9, 'str02'),\n",
      " (9, 'car05'),\n",
      " (8, 'trn10'),\n",
      " (8, 'mov02'),\n",
      " (8, 'eco05'),\n",
      " (8, 'car01'),\n",
      " (8, 'auc08'),\n",
      " (7, 'wpl08'),\n",
      " (7, 'wpl05'),\n",
      " (7, 'vic18'),\n",
      " (7, 'vic01'),\n",
      " (7, 'set04'),\n",
      " (7, 'res18'),\n",
      " (7, 'eco18'),\n",
      " (7, 'eco11'),\n",
      " (7, 'auc06'),\n",
      " (7, 'auc03'),\n",
      " (7, 'act15'),\n",
      " (6, 'vic11'),\n",
      " (6, 'vic07'),\n",
      " (6, 'trn05'),\n",
      " (6, 'res02'),\n",
      " (6, 'res01'),\n",
      " (6, 'auc11'),\n",
      " (6, 'arc06'),\n",
      " (6, 'act08'),\n",
      " (6, 'act06'),\n",
      " (6, 'act01'),\n",
      " (5, 'wpl06'),\n",
      " (5, 'vic14'),\n",
      " (5, 'vic06'),\n",
      " (5, 'unc02'),\n",
      " (5, 'trn16'),\n",
      " (5, 'trn09'),\n",
      " (5, 'trn07'),\n",
      " (5, 'trn02'),\n",
      " (5, 'str03'),\n",
      " (5, 'set02'),\n",
      " (5, 'eco13'),\n",
      " (5, 'eco02'),\n",
      " (5, 'auc13'),\n",
      " (5, 'act03'),\n",
      " (4, 'unc10'),\n",
      " (4, 'str07'),\n",
      " (4, 'str05'),\n",
      " (4, 'set05'),\n",
      " (4, 'res14'),\n",
      " (4, 'res07'),\n",
      " (4, 'mov04'),\n",
      " (4, 'mov01'),\n",
      " (4, 'eco16'),\n",
      " (4, 'eco14'),\n",
      " (4, 'eco01'),\n",
      " (4, 'car04'),\n",
      " (4, 'auc09'),\n",
      " (4, 'auc07'),\n",
      " (4, 'auc05'),\n",
      " (4, 'auc02'),\n",
      " (4, 'arc08'),\n",
      " (4, 'act16'),\n",
      " (4, 'act14'),\n",
      " (4, 'act11'),\n",
      " (4, 'act10'),\n",
      " (3, 'wpl07'),\n",
      " (3, 'vic15'),\n",
      " (3, 'vic13'),\n",
      " (3, 'vic05'),\n",
      " (3, 'unc09'),\n",
      " (3, 'unc08'),\n",
      " (3, 'unc05'),\n",
      " (3, 'trn17'),\n",
      " (3, 'trn15'),\n",
      " (3, 'trn14'),\n",
      " (3, 'trn11'),\n",
      " (3, 'trn04'),\n",
      " (3, 'trn03'),\n",
      " (3, 'set01'),\n",
      " (3, 'res12'),\n",
      " (3, 'res08'),\n",
      " (3, 'res06'),\n",
      " (3, 'mov24'),\n",
      " (3, 'mov20'),\n",
      " (3, 'mov10'),\n",
      " (3, 'eco19'),\n",
      " (3, 'eco10'),\n",
      " (3, 'arc05'),\n",
      " (3, 'act07'),\n",
      " (3, 'act05'),\n",
      " (2, 'wpl02'),\n",
      " (2, 'vic19'),\n",
      " (2, 'vic10'),\n",
      " (2, 'vic08'),\n",
      " (2, 'vic04'),\n",
      " (2, 'vic02'),\n",
      " (2, 'unc07'),\n",
      " (2, 'unc06'),\n",
      " (2, 'unc03'),\n",
      " (2, 'trn13'),\n",
      " (2, 'trn12'),\n",
      " (2, 'trn06'),\n",
      " (2, 'trn01'),\n",
      " (2, 'str10'),\n",
      " (2, 'str01'),\n",
      " (2, 'res22'),\n",
      " (2, 'res21'),\n",
      " (2, 'res20'),\n",
      " (2, 'res15'),\n",
      " (2, 'res13'),\n",
      " (2, 'res11'),\n",
      " (2, 'res05'),\n",
      " (2, 'mov16'),\n",
      " (2, 'mov15'),\n",
      " (2, 'mov07'),\n",
      " (2, 'mov06'),\n",
      " (2, 'mov03'),\n",
      " (2, 'eco03'),\n",
      " (2, 'auc16'),\n",
      " (2, 'auc15'),\n",
      " (2, 'auc14'),\n",
      " (2, 'auc01'),\n",
      " (2, 'arc07'),\n",
      " (2, 'act18'),\n",
      " (2, 'act17'),\n",
      " (2, 'act13'),\n",
      " (2, 'act12'),\n",
      " (2, 'act09'),\n",
      " (2, 'act04'),\n",
      " (1, 'wpl04'),\n",
      " (1, 'wpl03'),\n",
      " (1, 'wpl01'),\n",
      " (1, 'vic17'),\n",
      " (1, 'vic16'),\n",
      " (1, 'vic12'),\n",
      " (1, 'vic09'),\n",
      " (1, 'unc11'),\n",
      " (1, 'trn08'),\n",
      " (1, 'str04'),\n",
      " (1, 'set03'),\n",
      " (1, 'res19'),\n",
      " (1, 'res17'),\n",
      " (1, 'res16'),\n",
      " (1, 'res10'),\n",
      " (1, 'res09'),\n",
      " (1, 'res04'),\n",
      " (1, 'res03'),\n",
      " (1, 'mov23'),\n",
      " (1, 'mov22'),\n",
      " (1, 'mov19'),\n",
      " (1, 'mov18'),\n",
      " (1, 'mov14'),\n",
      " (1, 'mov13'),\n",
      " (1, 'mov12'),\n",
      " (1, 'mov11'),\n",
      " (1, 'mov05'),\n",
      " (1, 'eco17'),\n",
      " (1, 'eco15'),\n",
      " (1, 'eco12'),\n",
      " (1, 'eco08'),\n",
      " (1, 'eco07'),\n",
      " (1, 'eco06'),\n",
      " (1, 'eco04'),\n",
      " (1, 'car03'),\n",
      " (1, 'car02'),\n",
      " (1, 'auc12'),\n",
      " (1, 'auc10'),\n",
      " (1, 'arc03'),\n",
      " (1, 'arc01'),\n",
      " (0, 'vic20'),\n",
      " (0, 'vic03'),\n",
      " (0, 'str09'),\n",
      " (0, 'str08'),\n",
      " (0, 'str06'),\n",
      " (0, 'mov21'),\n",
      " (0, 'mov17'),\n",
      " (0, 'mov09'),\n",
      " (0, 'mov08'),\n",
      " (0, 'eco09'),\n",
      " (0, 'arc04')]\n"
     ]
    }
   ],
   "source": [
    "import networkx as nx\n",
    "from pprint import pprint\n",
    "\n",
    "ng = nx.Graph(g)\n",
    "\n",
    "dg = nx.degree(ng)\n",
    "dg_sorted = sorted([(d, n) for n, d in dg], reverse=True)\n",
    "pprint(dg_sorted)"
   ]
  },
  {
   "cell_type": "markdown",
   "metadata": {
    "heading_collapsed": true,
    "lc_cell_meme": {
     "current": "d6630b6c-4693-11eb-993d-0242ac110002-7-5e88-58a0-62ec-40f7-6116-683b-16ad",
     "history": [
      {
       "current": "d6630b6c-4693-11eb-993d-0242ac110002-1-5e88",
       "next": "9694ffd0-4685-11eb-993d-0242ac110002",
       "previous": "4b330ac6-468c-11eb-993d-0242ac110002"
      },
      {
       "current": "d6630b6c-4693-11eb-993d-0242ac110002-2-5e88-58a0",
       "next": "9694ffd0-4685-11eb-993d-0242ac110002-1-4c0b",
       "previous": "4b330ac6-468c-11eb-993d-0242ac110002-1-26b0"
      },
      {
       "current": "d6630b6c-4693-11eb-993d-0242ac110002-3-5e88-58a0-62ec",
       "next": "9694ffd0-4685-11eb-993d-0242ac110002-2-4c0b-4fcb",
       "previous": "4b330ac6-468c-11eb-993d-0242ac110002-2-26b0-7669"
      },
      {
       "current": "d6630b6c-4693-11eb-993d-0242ac110002-4-5e88-58a0-62ec-40f7",
       "next": "9694ffd0-4685-11eb-993d-0242ac110002-3-4c0b-4fcb-aa9e",
       "previous": "4b330ac6-468c-11eb-993d-0242ac110002-3-26b0-7669-4d2f"
      },
      {
       "current": "d6630b6c-4693-11eb-993d-0242ac110002-5-5e88-58a0-62ec-40f7-6116",
       "next": "9694ffd0-4685-11eb-993d-0242ac110002-4-4c0b-4fcb-aa9e-3250",
       "previous": "4b330ac6-468c-11eb-993d-0242ac110002-4-26b0-7669-4d2f-f936"
      },
      {
       "current": "d6630b6c-4693-11eb-993d-0242ac110002-6-5e88-58a0-62ec-40f7-6116-683b",
       "next": "9694ffd0-4685-11eb-993d-0242ac110002-5-4c0b-4fcb-aa9e-3250-42c2",
       "previous": "4b330ac6-468c-11eb-993d-0242ac110002-5-26b0-7669-4d2f-f936-4a8a"
      },
      {
       "current": "d6630b6c-4693-11eb-993d-0242ac110002-7-5e88-58a0-62ec-40f7-6116-683b-16ad",
       "next": "9694ffd0-4685-11eb-993d-0242ac110002-6-4c0b-4fcb-aa9e-3250-42c2-84cd",
       "previous": "4b330ac6-468c-11eb-993d-0242ac110002-6-26b0-7669-4d2f-f936-4a8a-84e4"
      }
     ],
     "next": "9694ffd0-4685-11eb-993d-0242ac110002-7-4c0b-4fcb-aa9e-3250-42c2-84cd-88bd",
     "previous": "4b330ac6-468c-11eb-993d-0242ac110002-7-26b0-7669-4d2f-f936-4a8a-84e4-ce7e"
    }
   },
   "source": [
    "## pagerank"
   ]
  },
  {
   "cell_type": "code",
   "execution_count": 14,
   "metadata": {
    "deletable": false,
    "editable": false,
    "hidden": true,
    "lc_cell_meme": {
     "current": "9694ffd0-4685-11eb-993d-0242ac110002-7-4c0b-4fcb-aa9e-3250-42c2-84cd-88bd",
     "execution_end_time": "2020-12-29T08:59:38.039176Z",
     "history": [
      {
       "current": "9694ffd0-4685-11eb-993d-0242ac110002",
       "next": null,
       "previous": "9694fe40-4685-11eb-993d-0242ac110002"
      },
      {
       "current": "9694ffd0-4685-11eb-993d-0242ac110002",
       "next": "9e4be4a0-468a-11eb-993d-0242ac110002",
       "previous": "9694fe40-4685-11eb-993d-0242ac110002"
      },
      {
       "current": "9694ffd0-4685-11eb-993d-0242ac110002",
       "next": "4b330ac6-468c-11eb-993d-0242ac110002",
       "previous": "9694fe40-4685-11eb-993d-0242ac110002"
      },
      {
       "current": "9694ffd0-4685-11eb-993d-0242ac110002",
       "next": "749ea79a-468b-11eb-993d-0242ac110002",
       "previous": "9694fe40-4685-11eb-993d-0242ac110002"
      },
      {
       "current": "9694ffd0-4685-11eb-993d-0242ac110002",
       "next": "749ea79a-468b-11eb-993d-0242ac110002",
       "previous": "976f40a6-41cf-11eb-aed8-0242ac110002-3-60db-2644-3cd5"
      },
      {
       "current": "9694ffd0-4685-11eb-993d-0242ac110002-1-4c0b",
       "next": "d6630d9c-4693-11eb-993d-0242ac110002",
       "previous": "d6630b6c-4693-11eb-993d-0242ac110002"
      },
      {
       "current": "9694ffd0-4685-11eb-993d-0242ac110002-2-4c0b-4fcb",
       "next": "d6630d9c-4693-11eb-993d-0242ac110002-1-3c5e",
       "previous": "d6630b6c-4693-11eb-993d-0242ac110002-1-5e88"
      },
      {
       "current": "9694ffd0-4685-11eb-993d-0242ac110002-3-4c0b-4fcb-aa9e",
       "next": "d6630d9c-4693-11eb-993d-0242ac110002-2-3c5e-f18c",
       "previous": "d6630b6c-4693-11eb-993d-0242ac110002-2-5e88-58a0"
      },
      {
       "current": "9694ffd0-4685-11eb-993d-0242ac110002-4-4c0b-4fcb-aa9e-3250",
       "next": "d6630d9c-4693-11eb-993d-0242ac110002-3-3c5e-f18c-dbab",
       "previous": "d6630b6c-4693-11eb-993d-0242ac110002-3-5e88-58a0-62ec"
      },
      {
       "current": "9694ffd0-4685-11eb-993d-0242ac110002-5-4c0b-4fcb-aa9e-3250-42c2",
       "next": "d6630d9c-4693-11eb-993d-0242ac110002-4-3c5e-f18c-dbab-2f4e",
       "previous": "d6630b6c-4693-11eb-993d-0242ac110002-4-5e88-58a0-62ec-40f7"
      },
      {
       "current": "9694ffd0-4685-11eb-993d-0242ac110002-6-4c0b-4fcb-aa9e-3250-42c2-84cd",
       "next": "d6630d9c-4693-11eb-993d-0242ac110002-5-3c5e-f18c-dbab-2f4e-b4fe",
       "previous": "d6630b6c-4693-11eb-993d-0242ac110002-5-5e88-58a0-62ec-40f7-6116"
      },
      {
       "current": "9694ffd0-4685-11eb-993d-0242ac110002-7-4c0b-4fcb-aa9e-3250-42c2-84cd-88bd",
       "next": "d6630d9c-4693-11eb-993d-0242ac110002-6-3c5e-f18c-dbab-2f4e-b4fe-9dc5",
       "previous": "d6630b6c-4693-11eb-993d-0242ac110002-6-5e88-58a0-62ec-40f7-6116-683b"
      }
     ],
     "next": "d6630d9c-4693-11eb-993d-0242ac110002-7-3c5e-f18c-dbab-2f4e-b4fe-9dc5-ca34",
     "previous": "d6630b6c-4693-11eb-993d-0242ac110002-7-5e88-58a0-62ec-40f7-6116-683b-16ad"
    },
    "lc_wrapper": {
     "log_history": [
      "/home/jovyan/digraj202103/.log/20201225/20201225-082236-0147.log",
      "/home/jovyan/digraj202103/.log/20201225/20201225-082246-0080.log",
      "/home/jovyan/digraj202103/.log/20201225/20201225-082536-0325.log",
      "/home/jovyan/digraj202103/.log/20201225/20201225-082602-0960.log",
      "/home/jovyan/digraj202103/.log/20201225/20201225-082723-0874.log",
      "/home/jovyan/digraj202103/.log/20201225/20201225-082747-0354.log",
      "/home/jovyan/digraj202103/.log/20201225/20201225-082759-0650.log",
      "/home/jovyan/digraj202103/.log/20201225/20201225-085746-0623.log",
      "/home/jovyan/digraj202103/.log/20201225/20201225-085803-0026.log",
      "/home/jovyan/digraj202103/.log/20201225/20201225-085920-0565.log",
      "/home/jovyan/digraj202103/.log/20201225/20201225-092237-0396.log",
      "/home/jovyan/digraj202103/.log/20201225/20201225-092316-0169.log",
      "/home/jovyan/digraj202103/.log/20201225/20201225-092349-0407.log",
      "/home/jovyan/digraj202103/.log/20201225/20201225-092915-0419.log",
      "/home/jovyan/digraj202103/.log/20201226/20201226-143536-0778.log",
      "/home/jovyan/digraj202103/.log/20201228/20201228-022213-0655.log",
      "/home/jovyan/digraj202103/.log/20201229/20201229-085937-0938.log"
     ]
    },
    "run_through_control": {
     "frozen": true
    }
   },
   "outputs": [
    {
     "name": "stdout",
     "output_type": "stream",
     "text": [
      "[('unc01', 0.02340117260150655),\n",
      " ('arc02', 0.020844095505140128),\n",
      " ('eco05', 0.015388844735507926),\n",
      " ('act02', 0.01476097498977991),\n",
      " ('str02', 0.013799148767806406),\n",
      " ('car05', 0.013789292236458616),\n",
      " ('unc04', 0.013650861466836453),\n",
      " ('car06', 0.013639434291487925),\n",
      " ('mov02', 0.013067279892646916),\n",
      " ('auc04', 0.012770412154343816),\n",
      " ('auc08', 0.011776250841981948),\n",
      " ('eco11', 0.011577618563098493),\n",
      " ('act15', 0.011396060903393603),\n",
      " ('vic18', 0.011180077588921405),\n",
      " ('car01', 0.011100201417809952),\n",
      " ('wpl05', 0.011028895276045421),\n",
      " ('set04', 0.010645350896962603),\n",
      " ('trn10', 0.010412737415670139),\n",
      " ('vic01', 0.010374233936784872),\n",
      " ('wpl08', 0.01012896339978216),\n",
      " ('vic11', 0.010074762762540157),\n",
      " ('auc06', 0.009918781831078215),\n",
      " ('trn07', 0.009398492439256329),\n",
      " ('eco18', 0.009297289761807302),\n",
      " ('act06', 0.009280114418063605),\n",
      " ('res18', 0.009268997500335378),\n",
      " ('auc03', 0.009201065982372988),\n",
      " ('vic07', 0.009131510682552146),\n",
      " ('act01', 0.009108553667508122),\n",
      " ('res02', 0.00896122610939653),\n",
      " ('arc06', 0.008687860192735658),\n",
      " ('trn05', 0.008508457650024642),\n",
      " ('act08', 0.008497481517740286),\n",
      " ('str03', 0.00818539987840197),\n",
      " ('auc11', 0.008183308301109407),\n",
      " ('res01', 0.008154677999952318),\n",
      " ('vic14', 0.007868445092305339),\n",
      " ('act03', 0.007793919948024486),\n",
      " ('vic06', 0.007748988327483587),\n",
      " ('eco13', 0.007600852850212352),\n",
      " ('trn16', 0.007535041290662835),\n",
      " ('set02', 0.0074347620179984735),\n",
      " ('unc02', 0.007413343810032042),\n",
      " ('trn02', 0.007401714120750369),\n",
      " ('eco02', 0.007392025333459476),\n",
      " ('wpl06', 0.007276632674019177),\n",
      " ('eco14', 0.007145593356496945),\n",
      " ('mov04', 0.006885541710297755),\n",
      " ('eco01', 0.006871785650771553),\n",
      " ('trn09', 0.006753828384121929),\n",
      " ('unc10', 0.006721437632699055),\n",
      " ('car04', 0.006640021522537568),\n",
      " ('act10', 0.006614903397035164),\n",
      " ('auc13', 0.0066038799858294615),\n",
      " ('str05', 0.006597747838919803),\n",
      " ('act16', 0.006389815045657532),\n",
      " ('str07', 0.006191895790222416),\n",
      " ('act14', 0.006188544418890233),\n",
      " ('mov01', 0.006185022777218493),\n",
      " ('act11', 0.0061313419009689256),\n",
      " ('arc08', 0.006072102298136089),\n",
      " ('mov10', 0.005877517171408647),\n",
      " ('set05', 0.005870217536691642),\n",
      " ('vic05', 0.005863751580733696),\n",
      " ('auc02', 0.005763824439302135),\n",
      " ('res03', 0.00572573718866304),\n",
      " ('res04', 0.00572573718866304),\n",
      " ('res07', 0.005683550008803729),\n",
      " ('res14', 0.005615871542158621),\n",
      " ('res11', 0.005577096407547793),\n",
      " ('auc09', 0.00553724728827482),\n",
      " ('auc05', 0.005534240084562027),\n",
      " ('eco16', 0.005530530669790727),\n",
      " ('mov20', 0.005497009361020029),\n",
      " ('auc07', 0.005487081091482057),\n",
      " ('vic15', 0.005451348020162579),\n",
      " ('trn14', 0.005436982583980816),\n",
      " ('vic13', 0.005249829620408096),\n",
      " ('eco10', 0.005083300923626327),\n",
      " ('trn15', 0.0049521839232997775),\n",
      " ('act05', 0.004951782897211007),\n",
      " ('trn04', 0.004936726295174691),\n",
      " ('act07', 0.004853188055890304),\n",
      " ('trn11', 0.004792497513173415),\n",
      " ('mov24', 0.004778565611108019),\n",
      " ('wpl02', 0.004688350686515582),\n",
      " ('set01', 0.004660556705483947),\n",
      " ('unc09', 0.004653385024544581),\n",
      " ('trn17', 0.004649678822579054),\n",
      " ('arc05', 0.0046391602126965165),\n",
      " ('mov03', 0.004631635537880542),\n",
      " ('res06', 0.00460503167910517),\n",
      " ('unc08', 0.004552327162123158),\n",
      " ('res12', 0.004534308632780695),\n",
      " ('wpl07', 0.004511005205635144),\n",
      " ('unc05', 0.004462842133430319),\n",
      " ('eco19', 0.004327457999846214),\n",
      " ('res08', 0.0043193145076821735),\n",
      " ('act17', 0.004296202809561385),\n",
      " ('trn03', 0.004282713429308388),\n",
      " ('unc07', 0.004113518880259641),\n",
      " ('auc14', 0.004055186340085383),\n",
      " ('trn12', 0.003996961798694314),\n",
      " ('act04', 0.003975773696299849),\n",
      " ('eco03', 0.003954288830163826),\n",
      " ('str01', 0.0039189705323283185),\n",
      " ('mov06', 0.003879704227001641),\n",
      " ('act12', 0.0038390265649801735),\n",
      " ('vic19', 0.0038304797601663924),\n",
      " ('unc03', 0.0037620512906567714),\n",
      " ('mov07', 0.0037099009706914846),\n",
      " ('res22', 0.0036443119370589963),\n",
      " ('vic10', 0.0035889558801512496),\n",
      " ('act09', 0.0035768418353302007),\n",
      " ('arc07', 0.003552240035820224),\n",
      " ('vic02', 0.003545211314006508),\n",
      " ('str10', 0.0035439658351922054),\n",
      " ('act18', 0.0035118236675385963),\n",
      " ('act13', 0.0034981010983527253),\n",
      " ('mov16', 0.0034798913878647045),\n",
      " ('unc06', 0.003477955507572307),\n",
      " ('trn13', 0.0034706551636194526),\n",
      " ('vic04', 0.003467273812419143),\n",
      " ('trn01', 0.003462878748128772),\n",
      " ('vic08', 0.003410541550426029),\n",
      " ('res21', 0.0033890875383920634),\n",
      " ('mov15', 0.0033659552183144415),\n",
      " ('res13', 0.0033216142937213624),\n",
      " ('res05', 0.003283527824076275),\n",
      " ('auc16', 0.003268907260013045),\n",
      " ('mov13', 0.0032261979370297876),\n",
      " ('trn06', 0.003223546823420436),\n",
      " ('auc15', 0.0032219283421229344),\n",
      " ('auc01', 0.0032007416537301143),\n",
      " ('res15', 0.0031690892970903193),\n",
      " ('res20', 0.0031324224110646317),\n",
      " ('wpl01', 0.002852409480447943),\n",
      " ('mov14', 0.0025237070781109006),\n",
      " ('vic09', 0.0025199631607453273),\n",
      " ('eco06', 0.0024937915384699843),\n",
      " ('eco07', 0.0024937915384699843),\n",
      " ('eco12', 0.0024937915384699843),\n",
      " ('auc12', 0.0024937915384699843),\n",
      " ('trn08', 0.002456503960871114),\n",
      " ('arc01', 0.0023777357754133427),\n",
      " ('res10', 0.0022857565370975985),\n",
      " ('car03', 0.0022700420816733602),\n",
      " ('mov12', 0.002264111413400006),\n",
      " ('res17', 0.0022502491544015746),\n",
      " ('mov05', 0.002246994592289127),\n",
      " ('mov23', 0.002246994592289127),\n",
      " ('mov19', 0.002242374853624133),\n",
      " ('res16', 0.002216210309662142),\n",
      " ('vic17', 0.002216210309662142),\n",
      " ('wpl04', 0.002197985975766889),\n",
      " ('mov18', 0.002197985975766889),\n",
      " ('vic16', 0.00219645860385997),\n",
      " ('str04', 0.002162059921353107),\n",
      " ('eco04', 0.0021604515598675285),\n",
      " ('eco08', 0.0021604515598675285),\n",
      " ('mov11', 0.00215273004941271),\n",
      " ('mov22', 0.0021519042270037817),\n",
      " ('vic12', 0.0021183153552083653),\n",
      " ('eco17', 0.002109924081056457),\n",
      " ('wpl03', 0.0020886113422777385),\n",
      " ('auc10', 0.0020629451631663464),\n",
      " ('res09', 0.0020401544754597226),\n",
      " ('arc03', 0.0020401544754597226),\n",
      " ('set03', 0.0020401544754597226),\n",
      " ('car02', 0.0020382307821911637),\n",
      " ('eco15', 0.002018184170935754),\n",
      " ('res19', 0.0019993503943522136),\n",
      " ('unc11', 0.001963660028986838),\n",
      " ('str06', 0.0008588605782994561),\n",
      " ('str08', 0.0008588605782994561),\n",
      " ('str09', 0.0008588605782994561),\n",
      " ('vic03', 0.0008588605782994561),\n",
      " ('vic20', 0.0008588605782994561),\n",
      " ('eco09', 0.0008588605782994561),\n",
      " ('mov08', 0.0008588605782994561),\n",
      " ('mov09', 0.0008588605782994561),\n",
      " ('mov17', 0.0008588605782994561),\n",
      " ('mov21', 0.0008588605782994561),\n",
      " ('arc04', 0.0008588605782994561)]\n"
     ]
    }
   ],
   "source": [
    "pr = nx.pagerank(ng)\n",
    "pr_sorted = sorted(pr.items(), key=lambda x:x[1], reverse=True)\n",
    "pprint(pr_sorted)"
   ]
  },
  {
   "cell_type": "markdown",
   "metadata": {
    "heading_collapsed": true,
    "lc_cell_meme": {
     "current": "d6630d9c-4693-11eb-993d-0242ac110002-7-3c5e-f18c-dbab-2f4e-b4fe-9dc5-ca34",
     "history": [
      {
       "current": "d6630d9c-4693-11eb-993d-0242ac110002-1-3c5e",
       "next": "749ea79a-468b-11eb-993d-0242ac110002",
       "previous": "9694ffd0-4685-11eb-993d-0242ac110002"
      },
      {
       "current": "d6630d9c-4693-11eb-993d-0242ac110002-2-3c5e-f18c",
       "next": "749ea79a-468b-11eb-993d-0242ac110002-1-e216",
       "previous": "9694ffd0-4685-11eb-993d-0242ac110002-1-4c0b"
      },
      {
       "current": "d6630d9c-4693-11eb-993d-0242ac110002-3-3c5e-f18c-dbab",
       "next": "749ea79a-468b-11eb-993d-0242ac110002-2-e216-8217",
       "previous": "9694ffd0-4685-11eb-993d-0242ac110002-2-4c0b-4fcb"
      },
      {
       "current": "d6630d9c-4693-11eb-993d-0242ac110002-4-3c5e-f18c-dbab-2f4e",
       "next": "749ea79a-468b-11eb-993d-0242ac110002-3-e216-8217-71c5",
       "previous": "9694ffd0-4685-11eb-993d-0242ac110002-3-4c0b-4fcb-aa9e"
      },
      {
       "current": "d6630d9c-4693-11eb-993d-0242ac110002-5-3c5e-f18c-dbab-2f4e-b4fe",
       "next": "749ea79a-468b-11eb-993d-0242ac110002-4-e216-8217-71c5-728d",
       "previous": "9694ffd0-4685-11eb-993d-0242ac110002-4-4c0b-4fcb-aa9e-3250"
      },
      {
       "current": "d6630d9c-4693-11eb-993d-0242ac110002-6-3c5e-f18c-dbab-2f4e-b4fe-9dc5",
       "next": "749ea79a-468b-11eb-993d-0242ac110002-5-e216-8217-71c5-728d-7c1a",
       "previous": "9694ffd0-4685-11eb-993d-0242ac110002-5-4c0b-4fcb-aa9e-3250-42c2"
      },
      {
       "current": "d6630d9c-4693-11eb-993d-0242ac110002-7-3c5e-f18c-dbab-2f4e-b4fe-9dc5-ca34",
       "next": "749ea79a-468b-11eb-993d-0242ac110002-6-e216-8217-71c5-728d-7c1a-1e71",
       "previous": "9694ffd0-4685-11eb-993d-0242ac110002-6-4c0b-4fcb-aa9e-3250-42c2-84cd"
      }
     ],
     "next": "749ea79a-468b-11eb-993d-0242ac110002-7-e216-8217-71c5-728d-7c1a-1e71-feda",
     "previous": "9694ffd0-4685-11eb-993d-0242ac110002-7-4c0b-4fcb-aa9e-3250-42c2-84cd-88bd"
    }
   },
   "source": [
    "## hits"
   ]
  },
  {
   "cell_type": "code",
   "execution_count": 15,
   "metadata": {
    "deletable": false,
    "editable": false,
    "hidden": true,
    "lc_cell_meme": {
     "current": "749ea79a-468b-11eb-993d-0242ac110002-7-e216-8217-71c5-728d-7c1a-1e71-feda",
     "execution_end_time": "2020-12-29T08:59:38.221659Z",
     "history": [
      {
       "current": "749ea79a-468b-11eb-993d-0242ac110002",
       "next": null,
       "previous": "9e4be4a0-468a-11eb-993d-0242ac110002"
      },
      {
       "current": "749ea79a-468b-11eb-993d-0242ac110002",
       "next": "4b330f4e-468c-11eb-993d-0242ac110002",
       "previous": "4b330ac6-468c-11eb-993d-0242ac110002"
      },
      {
       "current": "749ea79a-468b-11eb-993d-0242ac110002",
       "next": "4b330f4e-468c-11eb-993d-0242ac110002",
       "previous": "9e4be4a0-468a-11eb-993d-0242ac110002"
      },
      {
       "current": "749ea79a-468b-11eb-993d-0242ac110002",
       "next": "4b330ac6-468c-11eb-993d-0242ac110002",
       "previous": "9694ffd0-4685-11eb-993d-0242ac110002"
      },
      {
       "current": "749ea79a-468b-11eb-993d-0242ac110002",
       "next": "4b330f4e-468c-11eb-993d-0242ac110002",
       "previous": "d6630d9c-4693-11eb-993d-0242ac110002"
      },
      {
       "current": "749ea79a-468b-11eb-993d-0242ac110002-1-e216",
       "next": "4b330f4e-468c-11eb-993d-0242ac110002-1-1d5e",
       "previous": "d6630d9c-4693-11eb-993d-0242ac110002"
      },
      {
       "current": "749ea79a-468b-11eb-993d-0242ac110002-2-e216-8217",
       "next": "4b330f4e-468c-11eb-993d-0242ac110002-2-1d5e-6d91",
       "previous": "d6630d9c-4693-11eb-993d-0242ac110002-1-3c5e"
      },
      {
       "current": "749ea79a-468b-11eb-993d-0242ac110002-3-e216-8217-71c5",
       "next": "4b330f4e-468c-11eb-993d-0242ac110002-3-1d5e-6d91-bbaa",
       "previous": "d6630d9c-4693-11eb-993d-0242ac110002-2-3c5e-f18c"
      },
      {
       "current": "749ea79a-468b-11eb-993d-0242ac110002-4-e216-8217-71c5-728d",
       "next": "4b330f4e-468c-11eb-993d-0242ac110002-4-1d5e-6d91-bbaa-8ec4",
       "previous": "d6630d9c-4693-11eb-993d-0242ac110002-3-3c5e-f18c-dbab"
      },
      {
       "current": "749ea79a-468b-11eb-993d-0242ac110002-5-e216-8217-71c5-728d-7c1a",
       "next": "4b330f4e-468c-11eb-993d-0242ac110002-5-1d5e-6d91-bbaa-8ec4-a7d9",
       "previous": "d6630d9c-4693-11eb-993d-0242ac110002-4-3c5e-f18c-dbab-2f4e"
      },
      {
       "current": "749ea79a-468b-11eb-993d-0242ac110002-6-e216-8217-71c5-728d-7c1a-1e71",
       "next": "4b330f4e-468c-11eb-993d-0242ac110002-6-1d5e-6d91-bbaa-8ec4-a7d9-7edc",
       "previous": "d6630d9c-4693-11eb-993d-0242ac110002-5-3c5e-f18c-dbab-2f4e-b4fe"
      },
      {
       "current": "749ea79a-468b-11eb-993d-0242ac110002-7-e216-8217-71c5-728d-7c1a-1e71-feda",
       "next": "4b330f4e-468c-11eb-993d-0242ac110002-7-1d5e-6d91-bbaa-8ec4-a7d9-7edc-a49a",
       "previous": "d6630d9c-4693-11eb-993d-0242ac110002-6-3c5e-f18c-dbab-2f4e-b4fe-9dc5"
      }
     ],
     "next": "4b330f4e-468c-11eb-993d-0242ac110002-8-1d5e-6d91-bbaa-8ec4-a7d9-7edc-a49a-ea11",
     "previous": "d6630d9c-4693-11eb-993d-0242ac110002-7-3c5e-f18c-dbab-2f4e-b4fe-9dc5-ca34"
    },
    "lc_wrapper": {
     "log_history": [
      "/home/jovyan/digraj202103/.log/20201225/20201225-083625-0340.log",
      "/home/jovyan/digraj202103/.log/20201225/20201225-090923-0157.log",
      "/home/jovyan/digraj202103/.log/20201225/20201225-090950-0918.log",
      "/home/jovyan/digraj202103/.log/20201225/20201225-091101-0180.log",
      "/home/jovyan/digraj202103/.log/20201225/20201225-091112-0816.log",
      "/home/jovyan/digraj202103/.log/20201225/20201225-091127-0320.log",
      "/home/jovyan/digraj202103/.log/20201225/20201225-091137-0711.log",
      "/home/jovyan/digraj202103/.log/20201225/20201225-091248-0500.log",
      "/home/jovyan/digraj202103/.log/20201225/20201225-091308-0082.log",
      "/home/jovyan/digraj202103/.log/20201225/20201225-091322-0223.log",
      "/home/jovyan/digraj202103/.log/20201225/20201225-091410-0774.log",
      "/home/jovyan/digraj202103/.log/20201225/20201225-092359-0068.log",
      "/home/jovyan/digraj202103/.log/20201225/20201225-092919-0261.log",
      "/home/jovyan/digraj202103/.log/20201226/20201226-143536-0935.log",
      "/home/jovyan/digraj202103/.log/20201228/20201228-022225-0606.log",
      "/home/jovyan/digraj202103/.log/20201229/20201229-085938-0049.log"
     ]
    },
    "run_through_control": {
     "frozen": true
    }
   },
   "outputs": [
    {
     "name": "stdout",
     "output_type": "stream",
     "text": [
      "[('unc01', 0.04343290701795568),\n",
      " ('act02', 0.028616178481053814),\n",
      " ('trn10', 0.02551356901275252),\n",
      " ('arc02', 0.02388474712074906),\n",
      " ('car06', 0.021982427835356692),\n",
      " ('auc04', 0.021470682959568617),\n",
      " ('car01', 0.020357005037333807),\n",
      " ('unc04', 0.020121313093619725),\n",
      " ('trn09', 0.017028037484564166),\n",
      " ('res18', 0.016396520375309996),\n",
      " ('eco18', 0.01545296248386207),\n",
      " ('res01', 0.015217775107350031),\n",
      " ('eco16', 0.015133757413383622),\n",
      " ('wpl08', 0.01453850731165331),\n",
      " ('auc03', 0.014143787921054578),\n",
      " ('res14', 0.014004893568045164),\n",
      " ('auc13', 0.013835588998984528),\n",
      " ('auc11', 0.01350736221455511),\n",
      " ('trn05', 0.013303622923629603),\n",
      " ('auc05', 0.013008703176993498),\n",
      " ('auc06', 0.012941087699963646),\n",
      " ('auc07', 0.012883997366095268),\n",
      " ('act08', 0.012587272347650637),\n",
      " ('vic01', 0.012390726941699862),\n",
      " ('vic07', 0.012093080214990615),\n",
      " ('unc08', 0.011682767629749851),\n",
      " ('res08', 0.01142732642449925),\n",
      " ('wpl06', 0.011405055526570597),\n",
      " ('wpl05', 0.01123828061614407),\n",
      " ('unc02', 0.011049482147743015),\n",
      " ('unc09', 0.009863348523546823),\n",
      " ('wpl07', 0.009822009181877192),\n",
      " ('act06', 0.009676937088000862),\n",
      " ('unc05', 0.009586672309902053),\n",
      " ('eco19', 0.009389018526775983),\n",
      " ('auc08', 0.009279137330366298),\n",
      " ('trn03', 0.009136172964213986),\n",
      " ('car05', 0.008933979344220357),\n",
      " ('res06', 0.0088196277708726),\n",
      " ('auc09', 0.008531569400996593),\n",
      " ('str02', 0.008371231522980697),\n",
      " ('mov15', 0.007829222039919335),\n",
      " ('arc06', 0.007779486842919685),\n",
      " ('set02', 0.007731378484264305),\n",
      " ('res07', 0.007612731024369817),\n",
      " ('eco13', 0.007483605695217676),\n",
      " ('eco02', 0.007382622486330523),\n",
      " ('vic18', 0.007339768787273682),\n",
      " ('unc11', 0.007290953548305527),\n",
      " ('set05', 0.0072100232178473125),\n",
      " ('trn16', 0.007112880871557662),\n",
      " ('set04', 0.007087360125358431),\n",
      " ('trn02', 0.007086472631349736),\n",
      " ('act14', 0.006902416522181992),\n",
      " ('act01', 0.006866054346920477),\n",
      " ('act11', 0.006793779868424605),\n",
      " ('res12', 0.006613224858191426),\n",
      " ('res15', 0.0066035048796180065),\n",
      " ('mov02', 0.0063900233454504095),\n",
      " ('str07', 0.006118182462738811),\n",
      " ('unc10', 0.0060411430920675096),\n",
      " ('vic06', 0.00600445858574319),\n",
      " ('vic14', 0.005941279460983366),\n",
      " ('auc02', 0.005929766001939677),\n",
      " ('trn06', 0.005923364901373176),\n",
      " ('res02', 0.005695961507862902),\n",
      " ('res20', 0.00561088159548153),\n",
      " ('str03', 0.005521757954106012),\n",
      " ('res19', 0.004803713180206187),\n",
      " ('trn17', 0.004787531219790264),\n",
      " ('trn11', 0.0044785253511595265),\n",
      " ('auc15', 0.004439823003899158),\n",
      " ('eco11', 0.004380899837843001),\n",
      " ('act10', 0.004329573387511294),\n",
      " ('act03', 0.00431892720886861),\n",
      " ('vic08', 0.004304626435823259),\n",
      " ('set01', 0.004254903285729947),\n",
      " ('act07', 0.00417650508184681),\n",
      " ('vic11', 0.004140428347225741),\n",
      " ('mov01', 0.004104263124137303),\n",
      " ('car04', 0.004013913013452533),\n",
      " ('res09', 0.00400946180540848),\n",
      " ('arc03', 0.00400946180540848),\n",
      " ('set03', 0.00400946180540848),\n",
      " ('arc05', 0.003910985902737437),\n",
      " ('auc16', 0.00382510223427172),\n",
      " ('eco15', 0.0036901250970684273),\n",
      " ('eco14', 0.0036532545482861564),\n",
      " ('unc03', 0.0035355363718400225),\n",
      " ('res05', 0.0035107270634059137),\n",
      " ('car02', 0.003417270180919807),\n",
      " ('auc01', 0.0033696880825169946),\n",
      " ('res13', 0.003307124229194628),\n",
      " ('act05', 0.0032065168429957847),\n",
      " ('trn15', 0.0031762174231167914),\n",
      " ('arc08', 0.0031279029822555036),\n",
      " ('act15', 0.003073011463398064),\n",
      " ('act16', 0.003016897788288615),\n",
      " ('trn04', 0.0029558211254864194),\n",
      " ('mov24', 0.002838481103961714),\n",
      " ('res21', 0.0028110080613225705),\n",
      " ('vic04', 0.002789766580746531),\n",
      " ('vic02', 0.002775036108533819),\n",
      " ('trn01', 0.0027294247477511052),\n",
      " ('trn13', 0.002615630460641468),\n",
      " ('mov16', 0.0025299488841696934),\n",
      " ('wpl03', 0.0024405361900470836),\n",
      " ('unc06', 0.0024322950391649457),\n",
      " ('eco05', 0.002427639116731543),\n",
      " ('str05', 0.002291411816270813),\n",
      " ('auc10', 0.0021723820886703593),\n",
      " ('act09', 0.0021576210036255306),\n",
      " ('vic10', 0.002100295309690346),\n",
      " ('vic12', 0.0020799946568926917),\n",
      " ('eco01', 0.002038585958779039),\n",
      " ('mov11', 0.002030029581300084),\n",
      " ('str10', 0.0020155780081372544),\n",
      " ('wpl04', 0.0018865369040095288),\n",
      " ('mov18', 0.0018865369040095288),\n",
      " ('act13', 0.001883693758709814),\n",
      " ('mov10', 0.0018647073416256442),\n",
      " ('vic15', 0.0017988892654274612),\n",
      " ('mov04', 0.0017296011778488328),\n",
      " ('arc07', 0.0015962624607313682),\n",
      " ('eco10', 0.0015840577818723688),\n",
      " ('eco17', 0.0015576613190429215),\n",
      " ('eco04', 0.001499720669498633),\n",
      " ('eco08', 0.001499720669498633),\n",
      " ('act18', 0.0014720215376331693),\n",
      " ('vic13', 0.0014225966586139728),\n",
      " ('str04', 0.0014052538580492187),\n",
      " ('act12', 0.001367457736726659),\n",
      " ('mov07', 0.0013630173361571698),\n",
      " ('trn14', 0.0013620602966069612),\n",
      " ('vic05', 0.0013479080712033964),\n",
      " ('str01', 0.0012436598926291544),\n",
      " ('res16', 0.0012321052617036091),\n",
      " ('vic17', 0.0012321052617036091),\n",
      " ('act04', 0.0012172867571370975),\n",
      " ('mov22', 0.0011897341667097387),\n",
      " ('mov20', 0.001118279846135091),\n",
      " ('unc07', 0.0010788113462022236),\n",
      " ('mov05', 0.0010726743057426638),\n",
      " ('mov23', 0.0010726743057426638),\n",
      " ('vic16', 0.000997344998179418),\n",
      " ('vic19', 0.0009970156681281647),\n",
      " ('res17', 0.00092692116417661),\n",
      " ('res22', 0.0009005098579239921),\n",
      " ('mov03', 0.0007573697173965162),\n",
      " ('wpl02', 0.0007567329256647243),\n",
      " ('eco03', 0.0007497319839415698),\n",
      " ('mov12', 0.0007267926694597796),\n",
      " ('auc14', 0.0007045230014889909),\n",
      " ('res10', 0.0006950414516411272),\n",
      " ('car03', 0.0006738036969926154),\n",
      " ('trn07', 0.0006613744726268982),\n",
      " ('arc01', 0.0006132610279274234),\n",
      " ('mov19', 0.0005158573386386216),\n",
      " ('mov06', 0.00047806535816924547),\n",
      " ('eco06', 0.0004075205929698611),\n",
      " ('eco07', 0.0004075205929698611),\n",
      " ('eco12', 0.0004075205929698611),\n",
      " ('auc12', 0.0004075205929698611),\n",
      " ('act17', 0.0003854391925632366),\n",
      " ('trn12', 0.0003396680055978033),\n",
      " ('mov14', 0.0003130229023126524),\n",
      " ('vic09', 0.00022626933822467296),\n",
      " ('res11', 0.00013082394562343946),\n",
      " ('wpl01', 0.0001270305164222775),\n",
      " ('trn08', 0.00011102297515199219),\n",
      " ('mov13', 2.1961028527625065e-05),\n",
      " ('res03', 7.85152997063167e-71),\n",
      " ('res04', 7.85152997063167e-71),\n",
      " ('str06', 0.0),\n",
      " ('str08', 0.0),\n",
      " ('str09', 0.0),\n",
      " ('vic03', 0.0),\n",
      " ('vic20', 0.0),\n",
      " ('eco09', 0.0),\n",
      " ('mov08', 0.0),\n",
      " ('mov09', 0.0),\n",
      " ('mov17', 0.0),\n",
      " ('mov21', 0.0),\n",
      " ('arc04', 0.0)]\n"
     ]
    }
   ],
   "source": [
    "(ht, dummy) = nx.hits(ng)\n",
    "ht_sorted = sorted(ht.items(), key=lambda x:x[1], reverse=True)\n",
    "pprint(ht_sorted)"
   ]
  },
  {
   "cell_type": "markdown",
   "metadata": {
    "hidden": true,
    "lc_cell_meme": {
     "current": "4b330f4e-468c-11eb-993d-0242ac110002-8-1d5e-6d91-bbaa-8ec4-a7d9-7edc-a49a-ea11",
     "history": [
      {
       "current": "4b330f4e-468c-11eb-993d-0242ac110002",
       "next": null,
       "previous": "749ea79a-468b-11eb-993d-0242ac110002"
      },
      {
       "current": "4b330f4e-468c-11eb-993d-0242ac110002",
       "next": null,
       "previous": "4b330ac6-468c-11eb-993d-0242ac110002"
      },
      {
       "current": "4b330f4e-468c-11eb-993d-0242ac110002-1-1d5e",
       "next": null,
       "previous": "749ea79a-468b-11eb-993d-0242ac110002"
      },
      {
       "current": "4b330f4e-468c-11eb-993d-0242ac110002-2-1d5e-6d91",
       "next": "48f72dd4-4694-11eb-993d-0242ac110002",
       "previous": "749ea79a-468b-11eb-993d-0242ac110002"
      },
      {
       "current": "4b330f4e-468c-11eb-993d-0242ac110002-3-1d5e-6d91-bbaa",
       "next": "48f72dd4-4694-11eb-993d-0242ac110002-1-cdb2",
       "previous": "749ea79a-468b-11eb-993d-0242ac110002-1-e216"
      },
      {
       "current": "4b330f4e-468c-11eb-993d-0242ac110002-4-1d5e-6d91-bbaa-8ec4",
       "next": "48f72dd4-4694-11eb-993d-0242ac110002-2-cdb2-31c2",
       "previous": "749ea79a-468b-11eb-993d-0242ac110002-2-e216-8217"
      },
      {
       "current": "4b330f4e-468c-11eb-993d-0242ac110002-5-1d5e-6d91-bbaa-8ec4-a7d9",
       "next": "48f72dd4-4694-11eb-993d-0242ac110002-3-cdb2-31c2-6440",
       "previous": "749ea79a-468b-11eb-993d-0242ac110002-3-e216-8217-71c5"
      },
      {
       "current": "4b330f4e-468c-11eb-993d-0242ac110002-6-1d5e-6d91-bbaa-8ec4-a7d9-7edc",
       "next": "48f72dd4-4694-11eb-993d-0242ac110002-4-cdb2-31c2-6440-2f58",
       "previous": "749ea79a-468b-11eb-993d-0242ac110002-4-e216-8217-71c5-728d"
      },
      {
       "current": "4b330f4e-468c-11eb-993d-0242ac110002-7-1d5e-6d91-bbaa-8ec4-a7d9-7edc-a49a",
       "next": "48f72dd4-4694-11eb-993d-0242ac110002-5-cdb2-31c2-6440-2f58-29c7",
       "previous": "749ea79a-468b-11eb-993d-0242ac110002-5-e216-8217-71c5-728d-7c1a"
      },
      {
       "current": "4b330f4e-468c-11eb-993d-0242ac110002-8-1d5e-6d91-bbaa-8ec4-a7d9-7edc-a49a-ea11",
       "next": "48f72dd4-4694-11eb-993d-0242ac110002-6-cdb2-31c2-6440-2f58-29c7-e492",
       "previous": "749ea79a-468b-11eb-993d-0242ac110002-6-e216-8217-71c5-728d-7c1a-1e71"
      }
     ],
     "next": "48f72dd4-4694-11eb-993d-0242ac110002-7-cdb2-31c2-6440-2f58-29c7-e492-5188",
     "previous": "749ea79a-468b-11eb-993d-0242ac110002-7-e216-8217-71c5-728d-7c1a-1e71-feda"
    }
   },
   "source": [
    "res03、04の値的には、pagerankは微妙。ただ、hitsもエッジ本数稼いだのが強く出過ぎてる気がする。パラメータで調整かけるか、自分で固有ベクトル求める系計算するか。"
   ]
  },
  {
   "cell_type": "code",
   "execution_count": null,
   "metadata": {
    "hidden": true,
    "lc_cell_meme": {
     "current": "48f72dd4-4694-11eb-993d-0242ac110002-7-cdb2-31c2-6440-2f58-29c7-e492-5188",
     "history": [
      {
       "current": "48f72dd4-4694-11eb-993d-0242ac110002-1-cdb2",
       "next": null,
       "previous": "4b330f4e-468c-11eb-993d-0242ac110002-1-1d5e"
      },
      {
       "current": "48f72dd4-4694-11eb-993d-0242ac110002-2-cdb2-31c2",
       "next": null,
       "previous": "4b330f4e-468c-11eb-993d-0242ac110002-2-1d5e-6d91"
      },
      {
       "current": "48f72dd4-4694-11eb-993d-0242ac110002-3-cdb2-31c2-6440",
       "next": null,
       "previous": "4b330f4e-468c-11eb-993d-0242ac110002-3-1d5e-6d91-bbaa"
      },
      {
       "current": "48f72dd4-4694-11eb-993d-0242ac110002-4-cdb2-31c2-6440-2f58",
       "next": null,
       "previous": "4b330f4e-468c-11eb-993d-0242ac110002-4-1d5e-6d91-bbaa-8ec4"
      },
      {
       "current": "48f72dd4-4694-11eb-993d-0242ac110002-5-cdb2-31c2-6440-2f58-29c7",
       "next": null,
       "previous": "4b330f4e-468c-11eb-993d-0242ac110002-5-1d5e-6d91-bbaa-8ec4-a7d9"
      },
      {
       "current": "48f72dd4-4694-11eb-993d-0242ac110002-6-cdb2-31c2-6440-2f58-29c7-e492",
       "next": null,
       "previous": "4b330f4e-468c-11eb-993d-0242ac110002-6-1d5e-6d91-bbaa-8ec4-a7d9-7edc"
      },
      {
       "current": "48f72dd4-4694-11eb-993d-0242ac110002-7-cdb2-31c2-6440-2f58-29c7-e492-5188",
       "next": null,
       "previous": "4b330f4e-468c-11eb-993d-0242ac110002-7-1d5e-6d91-bbaa-8ec4-a7d9-7edc-a49a"
      }
     ],
     "next": null,
     "previous": "4b330f4e-468c-11eb-993d-0242ac110002-8-1d5e-6d91-bbaa-8ec4-a7d9-7edc-a49a-ea11"
    }
   },
   "outputs": [],
   "source": []
  }
 ],
 "metadata": {
  "colab": {
   "name": "Untitled4.ipynb",
   "provenance": []
  },
  "kernelspec": {
   "display_name": "Python 3",
   "language": "python",
   "name": "python3"
  },
  "language_info": {
   "file_extension": ".py",
   "mimetype": "text/x-python",
   "name": "python",
   "nbconvert_exporter": "python",
   "pygments_lexer": "ipython3",
   "version": "3.8.6"
  },
  "lc_notebook_meme": {
   "current": "d78c1c4a-41bb-11eb-aed8-0242ac110002",
   "lc_server_signature": {
    "current": {
     "notebook_dir": "/home/jovyan",
     "notebook_path": "/digraj202103",
     "server_url": "http://localhost:8888/",
     "signature_id": "d4b7d99a-4991-11eb-8b85-0242ac110002"
    },
    "history": [
     {
      "notebook_dir": "/home/jovyan",
      "notebook_path": "/digraj202103",
      "server_url": "http://localhost:8888/",
      "signature_id": "6ab9e48a-41bb-11eb-aed8-0242ac110002"
     },
     {
      "notebook_dir": "/home/jovyan",
      "notebook_path": "/digraj202103",
      "server_url": "http://localhost:8888/",
      "signature_id": "e79b1078-41cf-11eb-8e07-0242ac110002"
     },
     {
      "notebook_dir": "/home/jovyan",
      "notebook_path": "/digraj202103",
      "server_url": "http://localhost:8888/",
      "signature_id": "652ec54e-4684-11eb-993d-0242ac110002"
     },
     {
      "notebook_dir": "/home/jovyan",
      "notebook_path": "/digraj202103",
      "server_url": "http://localhost:8888/",
      "signature_id": "d7f2433e-46b2-11eb-ae4f-0242ac110002"
     },
     {
      "notebook_dir": "/home/jovyan",
      "notebook_path": "/digraj202103",
      "server_url": "http://localhost:8888/",
      "signature_id": "14256e36-477f-11eb-8260-0242ac110002"
     },
     {
      "notebook_dir": "/home/jovyan",
      "notebook_path": "/digraj202103",
      "server_url": "http://localhost:8888/",
      "signature_id": "90eb01fe-483a-11eb-9304-0242ac110002"
     },
     {
      "notebook_dir": "/home/jovyan",
      "notebook_path": "/digraj202103",
      "server_url": "http://localhost:8888/",
      "signature_id": "71b1227e-48a2-11eb-8acc-0242ac110002"
     },
     {
      "notebook_dir": "/home/jovyan",
      "notebook_path": "/digraj202103",
      "server_url": "http://localhost:8888/",
      "signature_id": "56424b24-48ae-11eb-b4d3-0242ac110002"
     },
     {
      "notebook_dir": "/home/jovyan",
      "notebook_path": "/digraj202103",
      "server_url": "http://localhost:8888/",
      "signature_id": "23ccd3b0-48fb-11eb-bea0-0242ac110002"
     }
    ]
   }
  },
  "toc": {
   "base_numbering": 1,
   "nav_menu": {},
   "number_sections": true,
   "sideBar": true,
   "skip_h1_title": false,
   "title_cell": "Table of Contents",
   "title_sidebar": "Contents",
   "toc_cell": false,
   "toc_position": {},
   "toc_section_display": true,
   "toc_window_display": true
  }
 },
 "nbformat": 4,
 "nbformat_minor": 1
}
