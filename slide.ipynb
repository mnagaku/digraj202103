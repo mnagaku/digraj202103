{
 "cells": [
  {
   "cell_type": "markdown",
   "metadata": {
    "lc_cell_meme": {
     "current": "bc49b708-83bf-11eb-a693-0242ac110002-1-59a0",
     "history": [
      {
       "current": "bc49b708-83bf-11eb-a693-0242ac110002-1-59a0",
       "next": "d78c2000-41bb-11eb-aed8-0242ac110002-16-30af-3e00-1217-6a3d-eaa6-65aa-0669-679e-c094-e2e0",
       "previous": null
      },
      {
       "current": "bc49b708-83bf-11eb-a693-0242ac110002-1-59a0",
       "next": "d78c2000-41bb-11eb-aed8-0242ac110002-16-30af-3e00-1217-6a3d-eaa6-65aa-0669-679e-c094-e2e0",
       "previous": null
      }
     ],
     "next": "8e2c9c1a-8477-11eb-a473-0242ac110002",
     "previous": null
    },
    "slideshow": {
     "slide_type": "skip"
    }
   },
   "source": [
    "準備"
   ]
  },
  {
   "cell_type": "code",
   "execution_count": null,
   "metadata": {
    "lc_cell_meme": {
     "current": "8e2c9c1a-8477-11eb-a473-0242ac110002",
     "next": "8e2c9df0-8477-11eb-a473-0242ac110002",
     "previous": "bc49b708-83bf-11eb-a693-0242ac110002-1-59a0"
    },
    "lc_wrapper": {
     "log_history": [
      "/home/jovyan/digraj202103/.log/20210314/20210314-034313-0879.log"
     ]
    },
    "slideshow": {
     "slide_type": "skip"
    }
   },
   "outputs": [],
   "source": [
    "!sudo pip install -U RISE"
   ]
  },
  {
   "cell_type": "markdown",
   "metadata": {
    "lc_cell_meme": {
     "current": "8e2c9df0-8477-11eb-a473-0242ac110002",
     "next": "d78c2000-41bb-11eb-aed8-0242ac110002-17-3e00-1217-6a3d-eaa6-65aa-0669-679e-c094-e2e0-c486",
     "previous": "8e2c9c1a-8477-11eb-a473-0242ac110002"
    },
    "slideshow": {
     "slide_type": "skip"
    }
   },
   "source": [
    "Jupyterをリスタートする。コンテナの場合は、コンテナをリスタートする。"
   ]
  },
  {
   "cell_type": "code",
   "execution_count": null,
   "metadata": {
    "colab": {
     "base_uri": "https://localhost:8080/"
    },
    "id": "owXZzLeWj52X",
    "lc_cell_meme": {
     "current": "d78c2000-41bb-11eb-aed8-0242ac110002-17-3e00-1217-6a3d-eaa6-65aa-0669-679e-c094-e2e0-c486",
     "history": [
      {
       "current": "d78c2000-41bb-11eb-aed8-0242ac110002-1-aaa2",
       "next": "d78c20a0-41bb-11eb-aed8-0242ac110002",
       "previous": "d78c1f60-41bb-11eb-aed8-0242ac110002"
      },
      {
       "current": "d78c2000-41bb-11eb-aed8-0242ac110002-2-aaa2-8116",
       "next": "d78c20a0-41bb-11eb-aed8-0242ac110002-1-0af4",
       "previous": "d78c1f60-41bb-11eb-aed8-0242ac110002-1-97f2"
      },
      {
       "current": "d78c2000-41bb-11eb-aed8-0242ac110002-3-aaa2-8116-378f",
       "next": "d78c20a0-41bb-11eb-aed8-0242ac110002-2-0af4-30e3",
       "previous": "d78c1f60-41bb-11eb-aed8-0242ac110002-2-97f2-86c1"
      },
      {
       "current": "d78c2000-41bb-11eb-aed8-0242ac110002-4-aaa2-8116-378f-e30c",
       "next": "d78c20a0-41bb-11eb-aed8-0242ac110002-3-0af4-30e3-376c",
       "previous": "d78c1f60-41bb-11eb-aed8-0242ac110002-3-97f2-86c1-1819"
      },
      {
       "current": "d78c2000-41bb-11eb-aed8-0242ac110002-5-aaa2-8116-378f-e30c-fd8f",
       "next": "d78c20a0-41bb-11eb-aed8-0242ac110002-4-0af4-30e3-376c-0667",
       "previous": "d78c1f60-41bb-11eb-aed8-0242ac110002-4-97f2-86c1-1819-7e71"
      },
      {
       "current": "d78c2000-41bb-11eb-aed8-0242ac110002-6-aaa2-8116-378f-e30c-fd8f-e2c1",
       "next": "d78c20a0-41bb-11eb-aed8-0242ac110002-5-0af4-30e3-376c-0667-5aa8",
       "previous": "d78c1f60-41bb-11eb-aed8-0242ac110002-5-97f2-86c1-1819-7e71-d44b"
      },
      {
       "current": "d78c2000-41bb-11eb-aed8-0242ac110002-7-aaa2-8116-378f-e30c-fd8f-e2c1-30af",
       "next": "d78c20a0-41bb-11eb-aed8-0242ac110002-6-0af4-30e3-376c-0667-5aa8-5207",
       "previous": "d78c1f60-41bb-11eb-aed8-0242ac110002-6-97f2-86c1-1819-7e71-d44b-3237"
      },
      {
       "current": "d78c2000-41bb-11eb-aed8-0242ac110002-8-aaa2-8116-378f-e30c-fd8f-e2c1-30af-3e00",
       "next": "d78c20a0-41bb-11eb-aed8-0242ac110002-7-0af4-30e3-376c-0667-5aa8-5207-83bf",
       "previous": "d78c1f60-41bb-11eb-aed8-0242ac110002-7-97f2-86c1-1819-7e71-d44b-3237-fbf8"
      },
      {
       "current": "d78c2000-41bb-11eb-aed8-0242ac110002-9-aaa2-8116-378f-e30c-fd8f-e2c1-30af-3e00-1217",
       "next": "d78c20a0-41bb-11eb-aed8-0242ac110002-8-0af4-30e3-376c-0667-5aa8-5207-83bf-e085",
       "previous": "d78c1f60-41bb-11eb-aed8-0242ac110002-8-97f2-86c1-1819-7e71-d44b-3237-fbf8-a857"
      },
      {
       "current": "d78c2000-41bb-11eb-aed8-0242ac110002-10-aaa2-8116-378f-e30c-fd8f-e2c1-30af-3e00-1217-6a3d",
       "next": "d78c20a0-41bb-11eb-aed8-0242ac110002-9-0af4-30e3-376c-0667-5aa8-5207-83bf-e085-5a2d",
       "previous": "d78c1f60-41bb-11eb-aed8-0242ac110002-9-97f2-86c1-1819-7e71-d44b-3237-fbf8-a857-5e4b"
      },
      {
       "current": "d78c2000-41bb-11eb-aed8-0242ac110002-11-8116-378f-e30c-fd8f-e2c1-30af-3e00-1217-6a3d-eaa6",
       "next": "d78c20a0-41bb-11eb-aed8-0242ac110002-10-0af4-30e3-376c-0667-5aa8-5207-83bf-e085-5a2d-6e02",
       "previous": "d78c1f60-41bb-11eb-aed8-0242ac110002-10-97f2-86c1-1819-7e71-d44b-3237-fbf8-a857-5e4b-a914"
      },
      {
       "current": "d78c2000-41bb-11eb-aed8-0242ac110002-12-378f-e30c-fd8f-e2c1-30af-3e00-1217-6a3d-eaa6-65aa",
       "next": "d78c20a0-41bb-11eb-aed8-0242ac110002-11-30e3-376c-0667-5aa8-5207-83bf-e085-5a2d-6e02-5cb2",
       "previous": "d78c1f60-41bb-11eb-aed8-0242ac110002-11-86c1-1819-7e71-d44b-3237-fbf8-a857-5e4b-a914-8ff4"
      },
      {
       "current": "d78c2000-41bb-11eb-aed8-0242ac110002-13-e30c-fd8f-e2c1-30af-3e00-1217-6a3d-eaa6-65aa-0669",
       "next": "d78c20a0-41bb-11eb-aed8-0242ac110002-12-376c-0667-5aa8-5207-83bf-e085-5a2d-6e02-5cb2-df2d",
       "previous": "d78c1f60-41bb-11eb-aed8-0242ac110002-12-1819-7e71-d44b-3237-fbf8-a857-5e4b-a914-8ff4-5da7"
      },
      {
       "current": "d78c2000-41bb-11eb-aed8-0242ac110002-14-fd8f-e2c1-30af-3e00-1217-6a3d-eaa6-65aa-0669-679e",
       "next": "d78c20a0-41bb-11eb-aed8-0242ac110002-13-0667-5aa8-5207-83bf-e085-5a2d-6e02-5cb2-df2d-a0dc",
       "previous": "d78c1f60-41bb-11eb-aed8-0242ac110002-13-7e71-d44b-3237-fbf8-a857-5e4b-a914-8ff4-5da7-eebf"
      },
      {
       "current": "d78c2000-41bb-11eb-aed8-0242ac110002-14-fd8f-e2c1-30af-3e00-1217-6a3d-eaa6-65aa-0669-679e",
       "next": "d78c20a0-41bb-11eb-aed8-0242ac110002-14-5aa8-5207-83bf-e085-5a2d-6e02-5cb2-df2d-a0dc-c655",
       "previous": "d78c1f60-41bb-11eb-aed8-0242ac110002-14-d44b-3237-fbf8-a857-5e4b-a914-8ff4-5da7-eebf-0a7f"
      },
      {
       "current": "d78c2000-41bb-11eb-aed8-0242ac110002-15-e2c1-30af-3e00-1217-6a3d-eaa6-65aa-0669-679e-c094",
       "next": "d78c214a-41bb-11eb-aed8-0242ac110002-14-159a-8a96-445f-79df-182c-5880-f355-516f-8394-f7f9",
       "previous": "f2c7e038-7358-11eb-b80d-0242ac110002-2-6f31-0df0"
      },
      {
       "current": "d78c2000-41bb-11eb-aed8-0242ac110002-15-e2c1-30af-3e00-1217-6a3d-eaa6-65aa-0669-679e-c094",
       "next": "d78c214a-41bb-11eb-aed8-0242ac110002-15-8a96-445f-79df-182c-5880-f355-516f-8394-f7f9-0886",
       "previous": "f2c7e038-7358-11eb-b80d-0242ac110002-3-6f31-0df0-55b2"
      },
      {
       "current": "d78c2000-41bb-11eb-aed8-0242ac110002-15-e2c1-30af-3e00-1217-6a3d-eaa6-65aa-0669-679e-c094",
       "next": "d78c214a-41bb-11eb-aed8-0242ac110002-15-8a96-445f-79df-182c-5880-f355-516f-8394-f7f9-0886",
       "previous": "d4ae1366-7357-11eb-b80d-0242ac110002-2-1242-9a56"
      },
      {
       "current": "d78c2000-41bb-11eb-aed8-0242ac110002-15-e2c1-30af-3e00-1217-6a3d-eaa6-65aa-0669-679e-c094",
       "next": "d78c214a-41bb-11eb-aed8-0242ac110002-15-8a96-445f-79df-182c-5880-f355-516f-8394-f7f9-0886",
       "previous": "fe1b1df8-7356-11eb-b80d-0242ac110002-3-8111-f4d2-c44c"
      },
      {
       "current": "d78c2000-41bb-11eb-aed8-0242ac110002-16-30af-3e00-1217-6a3d-eaa6-65aa-0669-679e-c094-e2e0",
       "next": "fc5c69ee-83ba-11eb-a693-0242ac110002",
       "previous": "fe1b1df8-7356-11eb-b80d-0242ac110002-3-8111-f4d2-c44c"
      },
      {
       "current": "d78c2000-41bb-11eb-aed8-0242ac110002-16-30af-3e00-1217-6a3d-eaa6-65aa-0669-679e-c094-e2e0",
       "next": "d78c2000-41bb-11eb-aed8-0242ac110002-15-e2c1-30af-3e00-1217-6a3d-eaa6-65aa-0669-679e-c094",
       "previous": "fe1b1df8-7356-11eb-b80d-0242ac110002-3-8111-f4d2-c44c"
      },
      {
       "current": "d78c2000-41bb-11eb-aed8-0242ac110002-16-30af-3e00-1217-6a3d-eaa6-65aa-0669-679e-c094-e2e0",
       "next": "d78c1df8-41bb-11eb-aed8-0242ac110002-16-dce0-a8e1-57c3-9485-b396-5a3c-1b24-fff0-8246-adf8",
       "previous": null
      },
      {
       "current": "d78c2000-41bb-11eb-aed8-0242ac110002-16-30af-3e00-1217-6a3d-eaa6-65aa-0669-679e-c094-e2e0",
       "next": "bc49b942-83bf-11eb-a693-0242ac110002",
       "previous": "bc49b708-83bf-11eb-a693-0242ac110002"
      },
      {
       "current": "d78c2000-41bb-11eb-aed8-0242ac110002-17-3e00-1217-6a3d-eaa6-65aa-0669-679e-c094-e2e0-c486",
       "next": "bc49b942-83bf-11eb-a693-0242ac110002-1-6e40",
       "previous": "bc49b708-83bf-11eb-a693-0242ac110002"
      },
      {
       "current": "d78c2000-41bb-11eb-aed8-0242ac110002-17-3e00-1217-6a3d-eaa6-65aa-0669-679e-c094-e2e0-c486",
       "next": "bc49b942-83bf-11eb-a693-0242ac110002-1-6e40",
       "previous": "bc49b708-83bf-11eb-a693-0242ac110002"
      },
      {
       "current": "d78c2000-41bb-11eb-aed8-0242ac110002-17-3e00-1217-6a3d-eaa6-65aa-0669-679e-c094-e2e0-c486",
       "next": "bc49b942-83bf-11eb-a693-0242ac110002-2-6e40-d34a",
       "previous": "8e2c9df0-8477-11eb-a473-0242ac110002"
      },
      {
       "current": "d78c2000-41bb-11eb-aed8-0242ac110002-17-3e00-1217-6a3d-eaa6-65aa-0669-679e-c094-e2e0-c486",
       "next": "bc49b942-83bf-11eb-a693-0242ac110002-3-6e40-d34a-6a52",
       "previous": "8e2c9df0-8477-11eb-a473-0242ac110002"
      },
      {
       "current": "d78c2000-41bb-11eb-aed8-0242ac110002-17-3e00-1217-6a3d-eaa6-65aa-0669-679e-c094-e2e0-c486",
       "next": "bc49b942-83bf-11eb-a693-0242ac110002-4-6e40-d34a-6a52-34a3",
       "previous": "8e2c9df0-8477-11eb-a473-0242ac110002"
      }
     ],
     "next": "bc49b942-83bf-11eb-a693-0242ac110002-5-6e40-d34a-6a52-e169-24cb",
     "previous": "8e2c9df0-8477-11eb-a473-0242ac110002"
    },
    "lc_wrapper": {
     "log_history": [
      "/home/jovyan/digraj202103/.log/20201219/20201219-053226-0211.log",
      "/home/jovyan/digraj202103/.log/20201219/20201219-053258-0519.log",
      "/home/jovyan/digraj202103/.log/20201219/20201219-054507-0160.log",
      "/home/jovyan/digraj202103/.log/20201219/20201219-054710-0550.log",
      "/home/jovyan/digraj202103/.log/20201219/20201219-075917-0188.log",
      "/home/jovyan/digraj202103/.log/20201225/20201225-074628-0312.log",
      "/home/jovyan/digraj202103/.log/20201225/20201225-132012-0996.log",
      "/home/jovyan/digraj202103/.log/20201226/20201226-133530-0742.log",
      "/home/jovyan/digraj202103/.log/20201226/20201226-143459-0668.log",
      "/home/jovyan/digraj202103/.log/20201227/20201227-123158-0140.log",
      "/home/jovyan/digraj202103/.log/20201228/20201228-014934-0405.log",
      "/home/jovyan/digraj202103/.log/20201228/20201228-115310-0061.log",
      "/home/jovyan/digraj202103/.log/20201229/20201229-045812-0335.log",
      "/home/jovyan/digraj202103/.log/20201229/20201229-085911-0831.log",
      "/home/jovyan/digraj202103/.log/20201230/20201230-012031-0815.log",
      "/home/jovyan/digraj202103/.log/20210211/20210211-064646-0887.log",
      "/home/jovyan/digraj202103/.log/20210213/20210213-064646-0071.log",
      "/home/jovyan/digraj202103/.log/20210220/20210220-114107-0158.log",
      "/home/jovyan/digraj202103/.log/20210220/20210220-125011-0043.log",
      "/home/jovyan/digraj202103/.log/20210313/20210313-051618-0693.log",
      "/home/jovyan/digraj202103/.log/20210313/20210313-051633-0440.log",
      "/home/jovyan/digraj202103/.log/20210313/20210313-051727-0391.log",
      "/home/jovyan/digraj202103/.log/20210313/20210313-074347-0733.log",
      "/home/jovyan/digraj202103/.log/20210313/20210313-080409-0524.log",
      "/home/jovyan/digraj202103/.log/20210314/20210314-034431-0964.log",
      "/home/jovyan/digraj202103/.log/20210314/20210314-034600-0520.log"
     ]
    },
    "outputId": "05c91029-f73d-42ef-a3e9-05f2fe98de73",
    "slideshow": {
     "slide_type": "skip"
    }
   },
   "outputs": [],
   "source": [
    "!sudo apt-get update\n",
    "!sudo apt-get install -y graphviz libgraphviz-dev\n",
    "!pip install -U pygraphviz networkx"
   ]
  },
  {
   "cell_type": "markdown",
   "metadata": {
    "lc_cell_meme": {
     "current": "bc49b942-83bf-11eb-a693-0242ac110002-5-6e40-d34a-6a52-e169-24cb",
     "history": [
      {
       "current": "bc49b942-83bf-11eb-a693-0242ac110002",
       "next": "d78c1df8-41bb-11eb-aed8-0242ac110002-16-dce0-a8e1-57c3-9485-b396-5a3c-1b24-fff0-8246-adf8",
       "previous": "d78c2000-41bb-11eb-aed8-0242ac110002-16-30af-3e00-1217-6a3d-eaa6-65aa-0669-679e-c094-e2e0"
      },
      {
       "current": "bc49b942-83bf-11eb-a693-0242ac110002-1-6e40",
       "next": "03cf6dc0-83c0-11eb-a693-0242ac110002",
       "previous": "d78c2000-41bb-11eb-aed8-0242ac110002-16-30af-3e00-1217-6a3d-eaa6-65aa-0669-679e-c094-e2e0"
      },
      {
       "current": "bc49b942-83bf-11eb-a693-0242ac110002-1-6e40",
       "next": "bc49b942-83bf-11eb-a693-0242ac110002",
       "previous": "d78c2000-41bb-11eb-aed8-0242ac110002-16-30af-3e00-1217-6a3d-eaa6-65aa-0669-679e-c094-e2e0"
      },
      {
       "current": "bc49b942-83bf-11eb-a693-0242ac110002-2-6e40-d34a",
       "next": "d78c1df8-41bb-11eb-aed8-0242ac110002-16-dce0-a8e1-57c3-9485-b396-5a3c-1b24-fff0-8246-adf8",
       "previous": "d78c2000-41bb-11eb-aed8-0242ac110002-16-30af-3e00-1217-6a3d-eaa6-65aa-0669-679e-c094-e2e0"
      },
      {
       "current": "bc49b942-83bf-11eb-a693-0242ac110002-2-6e40-d34a",
       "next": "d78c1df8-41bb-11eb-aed8-0242ac110002-16-dce0-a8e1-57c3-9485-b396-5a3c-1b24-fff0-8246-adf8",
       "previous": "d78c2000-41bb-11eb-aed8-0242ac110002-16-30af-3e00-1217-6a3d-eaa6-65aa-0669-679e-c094-e2e0"
      },
      {
       "current": "bc49b942-83bf-11eb-a693-0242ac110002-3-6e40-d34a-6a52",
       "next": "d78c1df8-41bb-11eb-aed8-0242ac110002-17-a8e1-57c3-9485-b396-5a3c-1b24-fff0-8246-adf8-d1a0",
       "previous": "d78c2000-41bb-11eb-aed8-0242ac110002-17-3e00-1217-6a3d-eaa6-65aa-0669-679e-c094-e2e0-c486"
      },
      {
       "current": "bc49b942-83bf-11eb-a693-0242ac110002-3-6e40-d34a-6a52",
       "next": "bc49b942-83bf-11eb-a693-0242ac110002-2-6e40-d34a",
       "previous": "d78c2000-41bb-11eb-aed8-0242ac110002-17-3e00-1217-6a3d-eaa6-65aa-0669-679e-c094-e2e0-c486"
      },
      {
       "current": "bc49b942-83bf-11eb-a693-0242ac110002-3-6e40-d34a-6a52",
       "next": "bc49b942-83bf-11eb-a693-0242ac110002-2-6e40-d34a",
       "previous": "bc49b942-83bf-11eb-a693-0242ac110002-4-6e40-d34a-6a52-34a3"
      },
      {
       "current": "bc49b942-83bf-11eb-a693-0242ac110002-4-6e40-d34a-6a52-e169",
       "next": "bc49b942-83bf-11eb-a693-0242ac110002-3-6e40-d34a-e034",
       "previous": "bc49b942-83bf-11eb-a693-0242ac110002-4-6e40-d34a-6a52-34a3"
      },
      {
       "current": "bc49b942-83bf-11eb-a693-0242ac110002-5-6e40-d34a-6a52-e169-24cb",
       "next": "bc49b942-83bf-11eb-a693-0242ac110002-3-6e40-d34a-6a52",
       "previous": "bc49b942-83bf-11eb-a693-0242ac110002-4-6e40-d34a-6a52-34a3"
      },
      {
       "current": "bc49b942-83bf-11eb-a693-0242ac110002-5-6e40-d34a-6a52-e169-24cb",
       "next": "bc49b942-83bf-11eb-a693-0242ac110002-4-6e40-d34a-6a52-e169",
       "previous": "d78c2000-41bb-11eb-aed8-0242ac110002-17-3e00-1217-6a3d-eaa6-65aa-0669-679e-c094-e2e0-c486"
      },
      {
       "current": "bc49b942-83bf-11eb-a693-0242ac110002-5-6e40-d34a-6a52-e169-24cb",
       "next": "bc49b942-83bf-11eb-a693-0242ac110002-5-6e40-d34a-6a52-e169-ce6b",
       "previous": "d78c2000-41bb-11eb-aed8-0242ac110002-17-3e00-1217-6a3d-eaa6-65aa-0669-679e-c094-e2e0-c486"
      }
     ],
     "next": "bc49b942-83bf-11eb-a693-0242ac110002-4-6e40-d34a-6a52-e169",
     "previous": "d78c2000-41bb-11eb-aed8-0242ac110002-17-3e00-1217-6a3d-eaa6-65aa-0669-679e-c094-e2e0-c486"
    },
    "slideshow": {
     "slide_type": "slide"
    }
   },
   "source": [
    "<span style=\"font-size: 180%;\">オープンサイエンスを愛し、</span>\n",
    "\n",
    "<img src=\"https://upload.wikimedia.org/wikipedia/commons/c/cd/Sunshine_ikezaki.png\" width=700>\n",
    "\n",
    "<span style=\"font-size: 180%;\">オープンサイエンスに愛された男</span>\n",
    "\n",
    "<span style=\"font-size: 50%;\">出典：ウィキメディア・コモンズ https://commons.wikimedia.org/wiki/File:Sunshine_ikezaki.png</span>"
   ]
  },
  {
   "attachments": {
    "image-2.png": {
     "image/png": "[encoded data removed]"
    }
   },
   "cell_type": "markdown",
   "metadata": {
    "lc_cell_meme": {
     "current": "bc49b942-83bf-11eb-a693-0242ac110002-4-6e40-d34a-6a52-e169",
     "history": [
      {
       "current": "bc49b942-83bf-11eb-a693-0242ac110002",
       "next": "d78c1df8-41bb-11eb-aed8-0242ac110002-16-dce0-a8e1-57c3-9485-b396-5a3c-1b24-fff0-8246-adf8",
       "previous": "d78c2000-41bb-11eb-aed8-0242ac110002-16-30af-3e00-1217-6a3d-eaa6-65aa-0669-679e-c094-e2e0"
      },
      {
       "current": "bc49b942-83bf-11eb-a693-0242ac110002-1-6e40",
       "next": "03cf6dc0-83c0-11eb-a693-0242ac110002",
       "previous": "d78c2000-41bb-11eb-aed8-0242ac110002-16-30af-3e00-1217-6a3d-eaa6-65aa-0669-679e-c094-e2e0"
      },
      {
       "current": "bc49b942-83bf-11eb-a693-0242ac110002-1-6e40",
       "next": "bc49b942-83bf-11eb-a693-0242ac110002",
       "previous": "d78c2000-41bb-11eb-aed8-0242ac110002-16-30af-3e00-1217-6a3d-eaa6-65aa-0669-679e-c094-e2e0"
      },
      {
       "current": "bc49b942-83bf-11eb-a693-0242ac110002-2-6e40-d34a",
       "next": "d78c1df8-41bb-11eb-aed8-0242ac110002-16-dce0-a8e1-57c3-9485-b396-5a3c-1b24-fff0-8246-adf8",
       "previous": "d78c2000-41bb-11eb-aed8-0242ac110002-16-30af-3e00-1217-6a3d-eaa6-65aa-0669-679e-c094-e2e0"
      },
      {
       "current": "bc49b942-83bf-11eb-a693-0242ac110002-2-6e40-d34a",
       "next": "d78c1df8-41bb-11eb-aed8-0242ac110002-16-dce0-a8e1-57c3-9485-b396-5a3c-1b24-fff0-8246-adf8",
       "previous": "d78c2000-41bb-11eb-aed8-0242ac110002-16-30af-3e00-1217-6a3d-eaa6-65aa-0669-679e-c094-e2e0"
      },
      {
       "current": "bc49b942-83bf-11eb-a693-0242ac110002-3-6e40-d34a-6a52",
       "next": "d78c1df8-41bb-11eb-aed8-0242ac110002-17-a8e1-57c3-9485-b396-5a3c-1b24-fff0-8246-adf8-d1a0",
       "previous": "d78c2000-41bb-11eb-aed8-0242ac110002-17-3e00-1217-6a3d-eaa6-65aa-0669-679e-c094-e2e0-c486"
      },
      {
       "current": "bc49b942-83bf-11eb-a693-0242ac110002-3-6e40-d34a-6a52",
       "next": "bc49b942-83bf-11eb-a693-0242ac110002-2-6e40-d34a",
       "previous": "d78c2000-41bb-11eb-aed8-0242ac110002-17-3e00-1217-6a3d-eaa6-65aa-0669-679e-c094-e2e0-c486"
      },
      {
       "current": "bc49b942-83bf-11eb-a693-0242ac110002-3-6e40-d34a-6a52",
       "next": "bc49b942-83bf-11eb-a693-0242ac110002-2-6e40-d34a",
       "previous": "bc49b942-83bf-11eb-a693-0242ac110002-4-6e40-d34a-6a52-34a3"
      },
      {
       "current": "bc49b942-83bf-11eb-a693-0242ac110002-4-6e40-d34a-6a52-e169",
       "next": "bc49b942-83bf-11eb-a693-0242ac110002-3-6e40-d34a-e034",
       "previous": "bc49b942-83bf-11eb-a693-0242ac110002-4-6e40-d34a-6a52-34a3"
      },
      {
       "current": "bc49b942-83bf-11eb-a693-0242ac110002-4-6e40-d34a-6a52-e169",
       "next": "bc49b942-83bf-11eb-a693-0242ac110002-3-6e40-d34a-6a52",
       "previous": "bc49b942-83bf-11eb-a693-0242ac110002-4-6e40-d34a-6a52-34a3"
      },
      {
       "current": "bc49b942-83bf-11eb-a693-0242ac110002-4-6e40-d34a-6a52-e169",
       "next": "bc49b942-83bf-11eb-a693-0242ac110002-3-6e40-d34a-e034",
       "previous": "bc49b942-83bf-11eb-a693-0242ac110002-5-6e40-d34a-6a52-e169-24cb"
      },
      {
       "current": "bc49b942-83bf-11eb-a693-0242ac110002-4-6e40-d34a-6a52-e169",
       "next": "bc49b942-83bf-11eb-a693-0242ac110002-3-6e40-d34a-e034",
       "previous": "bc49b942-83bf-11eb-a693-0242ac110002-5-6e40-d34a-6a52-e169-ce6b"
      }
     ],
     "next": "bc49b942-83bf-11eb-a693-0242ac110002-3-6e40-d34a-e034",
     "previous": "bc49b942-83bf-11eb-a693-0242ac110002-5-6e40-d34a-6a52-e169-24cb"
    },
    "slideshow": {
     "slide_type": "slide"
    }
   },
   "source": [
    "![image-2.png](attachment:image-2.png)"
   ]
  },
  {
   "cell_type": "markdown",
   "metadata": {
    "lc_cell_meme": {
     "current": "bc49b942-83bf-11eb-a693-0242ac110002-3-6e40-d34a-e034",
     "history": [
      {
       "current": "bc49b942-83bf-11eb-a693-0242ac110002",
       "next": "d78c1df8-41bb-11eb-aed8-0242ac110002-16-dce0-a8e1-57c3-9485-b396-5a3c-1b24-fff0-8246-adf8",
       "previous": "d78c2000-41bb-11eb-aed8-0242ac110002-16-30af-3e00-1217-6a3d-eaa6-65aa-0669-679e-c094-e2e0"
      },
      {
       "current": "bc49b942-83bf-11eb-a693-0242ac110002-1-6e40",
       "next": "03cf6dc0-83c0-11eb-a693-0242ac110002",
       "previous": "d78c2000-41bb-11eb-aed8-0242ac110002-16-30af-3e00-1217-6a3d-eaa6-65aa-0669-679e-c094-e2e0"
      },
      {
       "current": "bc49b942-83bf-11eb-a693-0242ac110002-1-6e40",
       "next": "bc49b942-83bf-11eb-a693-0242ac110002",
       "previous": "d78c2000-41bb-11eb-aed8-0242ac110002-16-30af-3e00-1217-6a3d-eaa6-65aa-0669-679e-c094-e2e0"
      },
      {
       "current": "bc49b942-83bf-11eb-a693-0242ac110002-2-6e40-d34a",
       "next": "d78c1df8-41bb-11eb-aed8-0242ac110002-16-dce0-a8e1-57c3-9485-b396-5a3c-1b24-fff0-8246-adf8",
       "previous": "d78c2000-41bb-11eb-aed8-0242ac110002-16-30af-3e00-1217-6a3d-eaa6-65aa-0669-679e-c094-e2e0"
      },
      {
       "current": "bc49b942-83bf-11eb-a693-0242ac110002-2-6e40-d34a",
       "next": "d78c1df8-41bb-11eb-aed8-0242ac110002-16-dce0-a8e1-57c3-9485-b396-5a3c-1b24-fff0-8246-adf8",
       "previous": "d78c2000-41bb-11eb-aed8-0242ac110002-16-30af-3e00-1217-6a3d-eaa6-65aa-0669-679e-c094-e2e0"
      },
      {
       "current": "bc49b942-83bf-11eb-a693-0242ac110002-2-6e40-d34a",
       "next": "d78c1df8-41bb-11eb-aed8-0242ac110002-17-a8e1-57c3-9485-b396-5a3c-1b24-fff0-8246-adf8-d1a0",
       "previous": "d78c2000-41bb-11eb-aed8-0242ac110002-17-3e00-1217-6a3d-eaa6-65aa-0669-679e-c094-e2e0-c486"
      },
      {
       "current": "bc49b942-83bf-11eb-a693-0242ac110002-3-6e40-d34a-e034",
       "next": "d78c1df8-41bb-11eb-aed8-0242ac110002-17-a8e1-57c3-9485-b396-5a3c-1b24-fff0-8246-adf8-d1a0",
       "previous": "bc49b942-83bf-11eb-a693-0242ac110002-3-6e40-d34a-6a52"
      },
      {
       "current": "bc49b942-83bf-11eb-a693-0242ac110002-3-6e40-d34a-e034",
       "next": "bc49b942-83bf-11eb-a693-0242ac110002-2-6e40-d34a",
       "previous": "bc49b942-83bf-11eb-a693-0242ac110002-3-6e40-d34a-6a52"
      },
      {
       "current": "bc49b942-83bf-11eb-a693-0242ac110002-3-6e40-d34a-e034",
       "next": "bc49b942-83bf-11eb-a693-0242ac110002-3-6e40-d34a-be46",
       "previous": "bc49b942-83bf-11eb-a693-0242ac110002-3-6e40-d34a-6a52"
      }
     ],
     "next": "bc49b942-83bf-11eb-a693-0242ac110002-3-6e40-d34a-be46",
     "previous": "bc49b942-83bf-11eb-a693-0242ac110002-4-6e40-d34a-6a52-e169"
    },
    "slideshow": {
     "slide_type": "slide"
    }
   },
   "source": [
    "<span style=\"font-size: 140%;\">Web、クラウド、HPC、全てのインフラの生みの親</span>\n",
    "\n",
    "<img src=\"https://upload.wikimedia.org/wikipedia/commons/c/cd/Sunshine_ikezaki.png\" width=700>\n",
    "\n",
    "<span style=\"font-size: 140%;\">人呼んで、七福神八人目のLC4RIの神</span>\n",
    "\n",
    "<span style=\"font-size: 50%;\">出典：ウィキメディア・コモンズ https://commons.wikimedia.org/wiki/File:Sunshine_ikezaki.png</span>"
   ]
  },
  {
   "attachments": {
    "image.png": {
     "image/png": "[encoded data removed]"
    }
   },
   "cell_type": "markdown",
   "metadata": {
    "lc_cell_meme": {
     "current": "bc49b942-83bf-11eb-a693-0242ac110002-3-6e40-d34a-be46",
     "history": [
      {
       "current": "bc49b942-83bf-11eb-a693-0242ac110002",
       "next": "d78c1df8-41bb-11eb-aed8-0242ac110002-16-dce0-a8e1-57c3-9485-b396-5a3c-1b24-fff0-8246-adf8",
       "previous": "d78c2000-41bb-11eb-aed8-0242ac110002-16-30af-3e00-1217-6a3d-eaa6-65aa-0669-679e-c094-e2e0"
      },
      {
       "current": "bc49b942-83bf-11eb-a693-0242ac110002-1-6e40",
       "next": "03cf6dc0-83c0-11eb-a693-0242ac110002",
       "previous": "d78c2000-41bb-11eb-aed8-0242ac110002-16-30af-3e00-1217-6a3d-eaa6-65aa-0669-679e-c094-e2e0"
      },
      {
       "current": "bc49b942-83bf-11eb-a693-0242ac110002-1-6e40",
       "next": "bc49b942-83bf-11eb-a693-0242ac110002",
       "previous": "d78c2000-41bb-11eb-aed8-0242ac110002-16-30af-3e00-1217-6a3d-eaa6-65aa-0669-679e-c094-e2e0"
      },
      {
       "current": "bc49b942-83bf-11eb-a693-0242ac110002-2-6e40-d34a",
       "next": "d78c1df8-41bb-11eb-aed8-0242ac110002-16-dce0-a8e1-57c3-9485-b396-5a3c-1b24-fff0-8246-adf8",
       "previous": "d78c2000-41bb-11eb-aed8-0242ac110002-16-30af-3e00-1217-6a3d-eaa6-65aa-0669-679e-c094-e2e0"
      },
      {
       "current": "bc49b942-83bf-11eb-a693-0242ac110002-2-6e40-d34a",
       "next": "d78c1df8-41bb-11eb-aed8-0242ac110002-16-dce0-a8e1-57c3-9485-b396-5a3c-1b24-fff0-8246-adf8",
       "previous": "d78c2000-41bb-11eb-aed8-0242ac110002-16-30af-3e00-1217-6a3d-eaa6-65aa-0669-679e-c094-e2e0"
      },
      {
       "current": "bc49b942-83bf-11eb-a693-0242ac110002-2-6e40-d34a",
       "next": "d78c1df8-41bb-11eb-aed8-0242ac110002-17-a8e1-57c3-9485-b396-5a3c-1b24-fff0-8246-adf8-d1a0",
       "previous": "d78c2000-41bb-11eb-aed8-0242ac110002-17-3e00-1217-6a3d-eaa6-65aa-0669-679e-c094-e2e0-c486"
      },
      {
       "current": "bc49b942-83bf-11eb-a693-0242ac110002-2-6e40-d34a",
       "next": "d78c1df8-41bb-11eb-aed8-0242ac110002-17-a8e1-57c3-9485-b396-5a3c-1b24-fff0-8246-adf8-d1a0",
       "previous": "bc49b942-83bf-11eb-a693-0242ac110002-3-6e40-d34a-6a52"
      },
      {
       "current": "bc49b942-83bf-11eb-a693-0242ac110002-3-6e40-d34a-be46",
       "next": "d78c1df8-41bb-11eb-aed8-0242ac110002-17-a8e1-57c3-9485-b396-5a3c-1b24-fff0-8246-adf8-d1a0",
       "previous": "bc49b942-83bf-11eb-a693-0242ac110002-3-6e40-d34a-e034"
      },
      {
       "current": "bc49b942-83bf-11eb-a693-0242ac110002-3-6e40-d34a-be46",
       "next": "bc49b942-83bf-11eb-a693-0242ac110002-2-6e40-d34a",
       "previous": "bc49b942-83bf-11eb-a693-0242ac110002-3-6e40-d34a-e034"
      },
      {
       "current": "bc49b942-83bf-11eb-a693-0242ac110002-3-6e40-d34a-be46",
       "next": "d78c1df8-41bb-11eb-aed8-0242ac110002-17-a8e1-57c3-9485-b396-5a3c-1b24-fff0-8246-adf8-d1a0",
       "previous": "bc49b942-83bf-11eb-a693-0242ac110002-3-6e40-d34a-e034"
      }
     ],
     "next": "c1b85a0c-847b-11eb-a473-0242ac110002",
     "previous": "bc49b942-83bf-11eb-a693-0242ac110002-3-6e40-d34a-e034"
    },
    "slideshow": {
     "slide_type": "slide"
    }
   },
   "source": [
    "![image.png](attachment:image.png)"
   ]
  },
  {
   "attachments": {
    "image.png": {
     "image/png": "[encoded data removed]"
    }
   },
   "cell_type": "markdown",
   "metadata": {
    "lc_cell_meme": {
     "current": "c1b85a0c-847b-11eb-a473-0242ac110002",
     "next": "d78c1df8-41bb-11eb-aed8-0242ac110002-17-a8e1-57c3-9485-b396-5a3c-1b24-fff0-8246-adf8-d1a0",
     "previous": "bc49b942-83bf-11eb-a693-0242ac110002-3-6e40-d34a-be46"
    }
   },
   "source": [
    "![image.png](attachment:image.png)"
   ]
  },
  {
   "cell_type": "markdown",
   "metadata": {
    "id": "dNxf3h8mbGsT",
    "lc_cell_meme": {
     "current": "d78c1df8-41bb-11eb-aed8-0242ac110002-17-a8e1-57c3-9485-b396-5a3c-1b24-fff0-8246-adf8-d1a0",
     "history": [
      {
       "current": "d78c1df8-41bb-11eb-aed8-0242ac110002-1-5349",
       "next": "d78c1eb6-41bb-11eb-aed8-0242ac110002",
       "previous": null
      },
      {
       "current": "d78c1df8-41bb-11eb-aed8-0242ac110002-2-5349-6ea8",
       "next": "d78c1eb6-41bb-11eb-aed8-0242ac110002-1-f9ca",
       "previous": null
      },
      {
       "current": "d78c1df8-41bb-11eb-aed8-0242ac110002-3-5349-6ea8-8beb",
       "next": "d78c1eb6-41bb-11eb-aed8-0242ac110002-2-f9ca-08a5",
       "previous": null
      },
      {
       "current": "d78c1df8-41bb-11eb-aed8-0242ac110002-4-5349-6ea8-8beb-bb1c",
       "next": "d78c1eb6-41bb-11eb-aed8-0242ac110002-3-f9ca-08a5-6cd0",
       "previous": null
      },
      {
       "current": "d78c1df8-41bb-11eb-aed8-0242ac110002-5-5349-6ea8-8beb-bb1c-7bd2",
       "next": "d78c1eb6-41bb-11eb-aed8-0242ac110002-4-f9ca-08a5-6cd0-4f22",
       "previous": null
      },
      {
       "current": "d78c1df8-41bb-11eb-aed8-0242ac110002-6-5349-6ea8-8beb-bb1c-7bd2-2485",
       "next": "d78c1eb6-41bb-11eb-aed8-0242ac110002-5-f9ca-08a5-6cd0-4f22-5e66",
       "previous": null
      },
      {
       "current": "d78c1df8-41bb-11eb-aed8-0242ac110002-7-5349-6ea8-8beb-bb1c-7bd2-2485-dce0",
       "next": "d78c1eb6-41bb-11eb-aed8-0242ac110002-6-f9ca-08a5-6cd0-4f22-5e66-9e78",
       "previous": "c7ce9f06-48a2-11eb-8acc-0242ac110002"
      },
      {
       "current": "d78c1df8-41bb-11eb-aed8-0242ac110002-8-5349-6ea8-8beb-bb1c-7bd2-2485-dce0-a8e1",
       "next": "d78c1eb6-41bb-11eb-aed8-0242ac110002-7-f9ca-08a5-6cd0-4f22-5e66-9e78-7162",
       "previous": "c7ce9f06-48a2-11eb-8acc-0242ac110002-1-e6b4"
      },
      {
       "current": "d78c1df8-41bb-11eb-aed8-0242ac110002-9-5349-6ea8-8beb-bb1c-7bd2-2485-dce0-a8e1-57c3",
       "next": "d78c1eb6-41bb-11eb-aed8-0242ac110002-8-f9ca-08a5-6cd0-4f22-5e66-9e78-7162-d1e6",
       "previous": "c7ce9f06-48a2-11eb-8acc-0242ac110002-2-e6b4-aca4"
      },
      {
       "current": "d78c1df8-41bb-11eb-aed8-0242ac110002-10-5349-6ea8-8beb-bb1c-7bd2-2485-dce0-a8e1-57c3-9485",
       "next": "d78c1eb6-41bb-11eb-aed8-0242ac110002-9-f9ca-08a5-6cd0-4f22-5e66-9e78-7162-d1e6-0843",
       "previous": "c7ce9f06-48a2-11eb-8acc-0242ac110002-3-e6b4-aca4-1d81"
      },
      {
       "current": "d78c1df8-41bb-11eb-aed8-0242ac110002-11-6ea8-8beb-bb1c-7bd2-2485-dce0-a8e1-57c3-9485-b396",
       "next": "d78c1eb6-41bb-11eb-aed8-0242ac110002-10-f9ca-08a5-6cd0-4f22-5e66-9e78-7162-d1e6-0843-cc27",
       "previous": "c7ce9f06-48a2-11eb-8acc-0242ac110002-4-e6b4-aca4-1d81-b69f"
      },
      {
       "current": "d78c1df8-41bb-11eb-aed8-0242ac110002-12-8beb-bb1c-7bd2-2485-dce0-a8e1-57c3-9485-b396-5a3c",
       "next": "d78c1eb6-41bb-11eb-aed8-0242ac110002-11-08a5-6cd0-4f22-5e66-9e78-7162-d1e6-0843-cc27-ab6c",
       "previous": "c7ce9f06-48a2-11eb-8acc-0242ac110002-5-e6b4-aca4-1d81-b69f-2d8b"
      },
      {
       "current": "d78c1df8-41bb-11eb-aed8-0242ac110002-13-bb1c-7bd2-2485-dce0-a8e1-57c3-9485-b396-5a3c-1b24",
       "next": "d78c1eb6-41bb-11eb-aed8-0242ac110002-12-6cd0-4f22-5e66-9e78-7162-d1e6-0843-cc27-ab6c-f3ec",
       "previous": "c7ce9f06-48a2-11eb-8acc-0242ac110002-6-e6b4-aca4-1d81-b69f-2d8b-db6c"
      },
      {
       "current": "d78c1df8-41bb-11eb-aed8-0242ac110002-13-bb1c-7bd2-2485-dce0-a8e1-57c3-9485-b396-5a3c-1b24",
       "next": "d78c1eb6-41bb-11eb-aed8-0242ac110002-13-4f22-5e66-9e78-7162-d1e6-0843-cc27-ab6c-f3ec-4828",
       "previous": "c7ce9f06-48a2-11eb-8acc-0242ac110002-7-e6b4-aca4-1d81-b69f-2d8b-db6c-fcde"
      },
      {
       "current": "d78c1df8-41bb-11eb-aed8-0242ac110002-13-bb1c-7bd2-2485-dce0-a8e1-57c3-9485-b396-5a3c-1b24",
       "next": "fe1b1df8-7356-11eb-b80d-0242ac110002",
       "previous": "c7ce9f06-48a2-11eb-8acc-0242ac110002-7-e6b4-aca4-1d81-b69f-2d8b-db6c-fcde"
      },
      {
       "current": "d78c1df8-41bb-11eb-aed8-0242ac110002-14-7bd2-2485-dce0-a8e1-57c3-9485-b396-5a3c-1b24-fff0",
       "next": "fe1b1df8-7356-11eb-b80d-0242ac110002-1-3562",
       "previous": "c7ce9f06-48a2-11eb-8acc-0242ac110002-7-e6b4-aca4-1d81-b69f-2d8b-db6c-fcde"
      },
      {
       "current": "d78c1df8-41bb-11eb-aed8-0242ac110002-15-2485-dce0-a8e1-57c3-9485-b396-5a3c-1b24-fff0-8246",
       "next": "fe1b1df8-7356-11eb-b80d-0242ac110002-2-3562-7946",
       "previous": "c7ce9f06-48a2-11eb-8acc-0242ac110002-8-e6b4-aca4-1d81-b69f-2d8b-db6c-fcde-639c"
      },
      {
       "current": "d78c1df8-41bb-11eb-aed8-0242ac110002-16-dce0-a8e1-57c3-9485-b396-5a3c-1b24-fff0-8246-adf8",
       "next": "fe1b1df8-7356-11eb-b80d-0242ac110002-3-3562-7946-a8fd",
       "previous": null
      },
      {
       "current": "d78c1df8-41bb-11eb-aed8-0242ac110002-16-dce0-a8e1-57c3-9485-b396-5a3c-1b24-fff0-8246-adf8",
       "next": "d78c1df8-41bb-11eb-aed8-0242ac110002-15-2485-dce0-a8e1-57c3-9485-b396-5a3c-1b24-fff0-8246",
       "previous": null
      },
      {
       "current": "d78c1df8-41bb-11eb-aed8-0242ac110002-16-dce0-a8e1-57c3-9485-b396-5a3c-1b24-fff0-8246-adf8",
       "next": "d78c1df8-41bb-11eb-aed8-0242ac110002-16-dce0-a8e1-57c3-9485-b396-5a3c-1b24-fff0-8246-e553",
       "previous": null
      },
      {
       "current": "d78c1df8-41bb-11eb-aed8-0242ac110002-16-dce0-a8e1-57c3-9485-b396-5a3c-1b24-fff0-8246-adf8",
       "next": "d78c1df8-41bb-11eb-aed8-0242ac110002-16-dce0-a8e1-57c3-9485-b396-5a3c-1b24-fff0-8246-e553",
       "previous": "d78c2000-41bb-11eb-aed8-0242ac110002-16-30af-3e00-1217-6a3d-eaa6-65aa-0669-679e-c094-e2e0"
      },
      {
       "current": "d78c1df8-41bb-11eb-aed8-0242ac110002-16-dce0-a8e1-57c3-9485-b396-5a3c-1b24-fff0-8246-adf8",
       "next": "d78c1df8-41bb-11eb-aed8-0242ac110002-16-dce0-a8e1-57c3-9485-b396-5a3c-1b24-fff0-8246-e553",
       "previous": "bc49b942-83bf-11eb-a693-0242ac110002"
      },
      {
       "current": "d78c1df8-41bb-11eb-aed8-0242ac110002-16-dce0-a8e1-57c3-9485-b396-5a3c-1b24-fff0-8246-adf8",
       "next": "d78c1df8-41bb-11eb-aed8-0242ac110002-16-dce0-a8e1-57c3-9485-b396-5a3c-1b24-fff0-8246-e553",
       "previous": "03cf6dc0-83c0-11eb-a693-0242ac110002"
      },
      {
       "current": "d78c1df8-41bb-11eb-aed8-0242ac110002-17-a8e1-57c3-9485-b396-5a3c-1b24-fff0-8246-adf8-d1a0",
       "next": "d78c1df8-41bb-11eb-aed8-0242ac110002-16-dce0-a8e1-57c3-9485-b396-5a3c-1b24-fff0-8246-e553",
       "previous": "bc49b942-83bf-11eb-a693-0242ac110002-1-6e40"
      },
      {
       "current": "d78c1df8-41bb-11eb-aed8-0242ac110002-17-a8e1-57c3-9485-b396-5a3c-1b24-fff0-8246-adf8-d1a0",
       "next": "d78c1df8-41bb-11eb-aed8-0242ac110002-16-dce0-a8e1-57c3-9485-b396-5a3c-1b24-fff0-8246-e553",
       "previous": "bc49b942-83bf-11eb-a693-0242ac110002-1-6e40"
      },
      {
       "current": "d78c1df8-41bb-11eb-aed8-0242ac110002-17-a8e1-57c3-9485-b396-5a3c-1b24-fff0-8246-adf8-d1a0",
       "next": "d78c1df8-41bb-11eb-aed8-0242ac110002-17-a8e1-57c3-9485-b396-5a3c-1b24-fff0-8246-e553-a02e",
       "previous": "bc49b942-83bf-11eb-a693-0242ac110002-2-6e40-d34a"
      },
      {
       "current": "d78c1df8-41bb-11eb-aed8-0242ac110002-17-a8e1-57c3-9485-b396-5a3c-1b24-fff0-8246-adf8-d1a0",
       "next": "d78c1df8-41bb-11eb-aed8-0242ac110002-17-a8e1-57c3-9485-b396-5a3c-1b24-fff0-8246-e553-a02e",
       "previous": "bc49b942-83bf-11eb-a693-0242ac110002-3-6e40-d34a-be46"
      }
     ],
     "next": "d78c1df8-41bb-11eb-aed8-0242ac110002-17-a8e1-57c3-9485-b396-5a3c-1b24-fff0-8246-e553-a02e",
     "previous": "c1b85a0c-847b-11eb-a473-0242ac110002"
    },
    "slideshow": {
     "slide_type": "slide"
    }
   },
   "source": [
    "<span style=\"font-size: 150%;\">書籍「ゲームメカニクス大全」の</span>\n",
    "\n",
    "<span style=\"font-size: 150%;\">パターン・ランゲージ化に向けて</span>\n",
    "\n",
    "長久勝（[ライフマティックス株式会社](https://lifematics.co.jp/)）　  \n",
    "小野憲史（[東京国際工科専門職大学](https://www.iput.ac.jp/tokyo)）　  \n",
    "滝川陽一  \n",
    "德岡正肇（[アトリエサード](http://www.a-third.com/top.html)）　  \n",
    "長久佑  "
   ]
  },
  {
   "cell_type": "markdown",
   "metadata": {
    "id": "dNxf3h8mbGsT",
    "lc_cell_meme": {
     "current": "d78c1df8-41bb-11eb-aed8-0242ac110002-17-a8e1-57c3-9485-b396-5a3c-1b24-fff0-8246-e553-a02e",
     "history": [
      {
       "current": "d78c1df8-41bb-11eb-aed8-0242ac110002-1-5349",
       "next": "d78c1eb6-41bb-11eb-aed8-0242ac110002",
       "previous": null
      },
      {
       "current": "d78c1df8-41bb-11eb-aed8-0242ac110002-2-5349-6ea8",
       "next": "d78c1eb6-41bb-11eb-aed8-0242ac110002-1-f9ca",
       "previous": null
      },
      {
       "current": "d78c1df8-41bb-11eb-aed8-0242ac110002-3-5349-6ea8-8beb",
       "next": "d78c1eb6-41bb-11eb-aed8-0242ac110002-2-f9ca-08a5",
       "previous": null
      },
      {
       "current": "d78c1df8-41bb-11eb-aed8-0242ac110002-4-5349-6ea8-8beb-bb1c",
       "next": "d78c1eb6-41bb-11eb-aed8-0242ac110002-3-f9ca-08a5-6cd0",
       "previous": null
      },
      {
       "current": "d78c1df8-41bb-11eb-aed8-0242ac110002-5-5349-6ea8-8beb-bb1c-7bd2",
       "next": "d78c1eb6-41bb-11eb-aed8-0242ac110002-4-f9ca-08a5-6cd0-4f22",
       "previous": null
      },
      {
       "current": "d78c1df8-41bb-11eb-aed8-0242ac110002-6-5349-6ea8-8beb-bb1c-7bd2-2485",
       "next": "d78c1eb6-41bb-11eb-aed8-0242ac110002-5-f9ca-08a5-6cd0-4f22-5e66",
       "previous": null
      },
      {
       "current": "d78c1df8-41bb-11eb-aed8-0242ac110002-7-5349-6ea8-8beb-bb1c-7bd2-2485-dce0",
       "next": "d78c1eb6-41bb-11eb-aed8-0242ac110002-6-f9ca-08a5-6cd0-4f22-5e66-9e78",
       "previous": "c7ce9f06-48a2-11eb-8acc-0242ac110002"
      },
      {
       "current": "d78c1df8-41bb-11eb-aed8-0242ac110002-8-5349-6ea8-8beb-bb1c-7bd2-2485-dce0-a8e1",
       "next": "d78c1eb6-41bb-11eb-aed8-0242ac110002-7-f9ca-08a5-6cd0-4f22-5e66-9e78-7162",
       "previous": "c7ce9f06-48a2-11eb-8acc-0242ac110002-1-e6b4"
      },
      {
       "current": "d78c1df8-41bb-11eb-aed8-0242ac110002-9-5349-6ea8-8beb-bb1c-7bd2-2485-dce0-a8e1-57c3",
       "next": "d78c1eb6-41bb-11eb-aed8-0242ac110002-8-f9ca-08a5-6cd0-4f22-5e66-9e78-7162-d1e6",
       "previous": "c7ce9f06-48a2-11eb-8acc-0242ac110002-2-e6b4-aca4"
      },
      {
       "current": "d78c1df8-41bb-11eb-aed8-0242ac110002-10-5349-6ea8-8beb-bb1c-7bd2-2485-dce0-a8e1-57c3-9485",
       "next": "d78c1eb6-41bb-11eb-aed8-0242ac110002-9-f9ca-08a5-6cd0-4f22-5e66-9e78-7162-d1e6-0843",
       "previous": "c7ce9f06-48a2-11eb-8acc-0242ac110002-3-e6b4-aca4-1d81"
      },
      {
       "current": "d78c1df8-41bb-11eb-aed8-0242ac110002-11-6ea8-8beb-bb1c-7bd2-2485-dce0-a8e1-57c3-9485-b396",
       "next": "d78c1eb6-41bb-11eb-aed8-0242ac110002-10-f9ca-08a5-6cd0-4f22-5e66-9e78-7162-d1e6-0843-cc27",
       "previous": "c7ce9f06-48a2-11eb-8acc-0242ac110002-4-e6b4-aca4-1d81-b69f"
      },
      {
       "current": "d78c1df8-41bb-11eb-aed8-0242ac110002-12-8beb-bb1c-7bd2-2485-dce0-a8e1-57c3-9485-b396-5a3c",
       "next": "d78c1eb6-41bb-11eb-aed8-0242ac110002-11-08a5-6cd0-4f22-5e66-9e78-7162-d1e6-0843-cc27-ab6c",
       "previous": "c7ce9f06-48a2-11eb-8acc-0242ac110002-5-e6b4-aca4-1d81-b69f-2d8b"
      },
      {
       "current": "d78c1df8-41bb-11eb-aed8-0242ac110002-13-bb1c-7bd2-2485-dce0-a8e1-57c3-9485-b396-5a3c-1b24",
       "next": "d78c1eb6-41bb-11eb-aed8-0242ac110002-12-6cd0-4f22-5e66-9e78-7162-d1e6-0843-cc27-ab6c-f3ec",
       "previous": "c7ce9f06-48a2-11eb-8acc-0242ac110002-6-e6b4-aca4-1d81-b69f-2d8b-db6c"
      },
      {
       "current": "d78c1df8-41bb-11eb-aed8-0242ac110002-13-bb1c-7bd2-2485-dce0-a8e1-57c3-9485-b396-5a3c-1b24",
       "next": "d78c1eb6-41bb-11eb-aed8-0242ac110002-13-4f22-5e66-9e78-7162-d1e6-0843-cc27-ab6c-f3ec-4828",
       "previous": "c7ce9f06-48a2-11eb-8acc-0242ac110002-7-e6b4-aca4-1d81-b69f-2d8b-db6c-fcde"
      },
      {
       "current": "d78c1df8-41bb-11eb-aed8-0242ac110002-13-bb1c-7bd2-2485-dce0-a8e1-57c3-9485-b396-5a3c-1b24",
       "next": "fe1b1df8-7356-11eb-b80d-0242ac110002",
       "previous": "c7ce9f06-48a2-11eb-8acc-0242ac110002-7-e6b4-aca4-1d81-b69f-2d8b-db6c-fcde"
      },
      {
       "current": "d78c1df8-41bb-11eb-aed8-0242ac110002-14-7bd2-2485-dce0-a8e1-57c3-9485-b396-5a3c-1b24-fff0",
       "next": "fe1b1df8-7356-11eb-b80d-0242ac110002-1-3562",
       "previous": "c7ce9f06-48a2-11eb-8acc-0242ac110002-7-e6b4-aca4-1d81-b69f-2d8b-db6c-fcde"
      },
      {
       "current": "d78c1df8-41bb-11eb-aed8-0242ac110002-15-2485-dce0-a8e1-57c3-9485-b396-5a3c-1b24-fff0-8246",
       "next": "fe1b1df8-7356-11eb-b80d-0242ac110002-2-3562-7946",
       "previous": "c7ce9f06-48a2-11eb-8acc-0242ac110002-8-e6b4-aca4-1d81-b69f-2d8b-db6c-fcde-639c"
      },
      {
       "current": "d78c1df8-41bb-11eb-aed8-0242ac110002-15-2485-dce0-a8e1-57c3-9485-b396-5a3c-1b24-fff0-8246",
       "next": "fe1b1df8-7356-11eb-b80d-0242ac110002-3-3562-7946-a8fd",
       "previous": null
      },
      {
       "current": "d78c1df8-41bb-11eb-aed8-0242ac110002-16-dce0-a8e1-57c3-9485-b396-5a3c-1b24-fff0-8246-e553",
       "next": "fe1b1df8-7356-11eb-b80d-0242ac110002-3-3562-7946-a8fd",
       "previous": "d78c1df8-41bb-11eb-aed8-0242ac110002-16-dce0-a8e1-57c3-9485-b396-5a3c-1b24-fff0-8246-adf8"
      },
      {
       "current": "d78c1df8-41bb-11eb-aed8-0242ac110002-17-a8e1-57c3-9485-b396-5a3c-1b24-fff0-8246-e553-a02e",
       "next": "d78c1df8-41bb-11eb-aed8-0242ac110002-15-2485-dce0-a8e1-57c3-9485-b396-5a3c-1b24-fff0-8246",
       "previous": "d78c1df8-41bb-11eb-aed8-0242ac110002-16-dce0-a8e1-57c3-9485-b396-5a3c-1b24-fff0-8246-adf8"
      },
      {
       "current": "d78c1df8-41bb-11eb-aed8-0242ac110002-17-a8e1-57c3-9485-b396-5a3c-1b24-fff0-8246-e553-a02e",
       "next": "d78c1df8-41bb-11eb-aed8-0242ac110002-15-2485-dce0-a8e1-57c3-9485-b396-5a3c-1b24-fff0-8246",
       "previous": "d78c1df8-41bb-11eb-aed8-0242ac110002-16-dce0-a8e1-57c3-9485-b396-5a3c-1b24-fff0-8246-adf8"
      }
     ],
     "next": "d78c1df8-41bb-11eb-aed8-0242ac110002-16-dce0-a8e1-57c3-9485-b396-5a3c-1b24-fff0-8246-3c5f",
     "previous": "d78c1df8-41bb-11eb-aed8-0242ac110002-17-a8e1-57c3-9485-b396-5a3c-1b24-fff0-8246-adf8-d1a0"
    },
    "slideshow": {
     "slide_type": "slide"
    }
   },
   "source": [
    "<span style=\"font-size: 150%;\">概要</span>\n",
    "\n",
    "「ゲームメカニクス大全」をパターンの視点から見ると「もうちょっと頑張れるやろ」と思ったので、イイ感じにする方法について考えてみた。"
   ]
  },
  {
   "cell_type": "markdown",
   "metadata": {
    "id": "dNxf3h8mbGsT",
    "lc_cell_meme": {
     "current": "d78c1df8-41bb-11eb-aed8-0242ac110002-16-dce0-a8e1-57c3-9485-b396-5a3c-1b24-fff0-8246-3c5f",
     "history": [
      {
       "current": "d78c1df8-41bb-11eb-aed8-0242ac110002-1-5349",
       "next": "d78c1eb6-41bb-11eb-aed8-0242ac110002",
       "previous": null
      },
      {
       "current": "d78c1df8-41bb-11eb-aed8-0242ac110002-2-5349-6ea8",
       "next": "d78c1eb6-41bb-11eb-aed8-0242ac110002-1-f9ca",
       "previous": null
      },
      {
       "current": "d78c1df8-41bb-11eb-aed8-0242ac110002-3-5349-6ea8-8beb",
       "next": "d78c1eb6-41bb-11eb-aed8-0242ac110002-2-f9ca-08a5",
       "previous": null
      },
      {
       "current": "d78c1df8-41bb-11eb-aed8-0242ac110002-4-5349-6ea8-8beb-bb1c",
       "next": "d78c1eb6-41bb-11eb-aed8-0242ac110002-3-f9ca-08a5-6cd0",
       "previous": null
      },
      {
       "current": "d78c1df8-41bb-11eb-aed8-0242ac110002-5-5349-6ea8-8beb-bb1c-7bd2",
       "next": "d78c1eb6-41bb-11eb-aed8-0242ac110002-4-f9ca-08a5-6cd0-4f22",
       "previous": null
      },
      {
       "current": "d78c1df8-41bb-11eb-aed8-0242ac110002-6-5349-6ea8-8beb-bb1c-7bd2-2485",
       "next": "d78c1eb6-41bb-11eb-aed8-0242ac110002-5-f9ca-08a5-6cd0-4f22-5e66",
       "previous": null
      },
      {
       "current": "d78c1df8-41bb-11eb-aed8-0242ac110002-7-5349-6ea8-8beb-bb1c-7bd2-2485-dce0",
       "next": "d78c1eb6-41bb-11eb-aed8-0242ac110002-6-f9ca-08a5-6cd0-4f22-5e66-9e78",
       "previous": "c7ce9f06-48a2-11eb-8acc-0242ac110002"
      },
      {
       "current": "d78c1df8-41bb-11eb-aed8-0242ac110002-8-5349-6ea8-8beb-bb1c-7bd2-2485-dce0-a8e1",
       "next": "d78c1eb6-41bb-11eb-aed8-0242ac110002-7-f9ca-08a5-6cd0-4f22-5e66-9e78-7162",
       "previous": "c7ce9f06-48a2-11eb-8acc-0242ac110002-1-e6b4"
      },
      {
       "current": "d78c1df8-41bb-11eb-aed8-0242ac110002-9-5349-6ea8-8beb-bb1c-7bd2-2485-dce0-a8e1-57c3",
       "next": "d78c1eb6-41bb-11eb-aed8-0242ac110002-8-f9ca-08a5-6cd0-4f22-5e66-9e78-7162-d1e6",
       "previous": "c7ce9f06-48a2-11eb-8acc-0242ac110002-2-e6b4-aca4"
      },
      {
       "current": "d78c1df8-41bb-11eb-aed8-0242ac110002-10-5349-6ea8-8beb-bb1c-7bd2-2485-dce0-a8e1-57c3-9485",
       "next": "d78c1eb6-41bb-11eb-aed8-0242ac110002-9-f9ca-08a5-6cd0-4f22-5e66-9e78-7162-d1e6-0843",
       "previous": "c7ce9f06-48a2-11eb-8acc-0242ac110002-3-e6b4-aca4-1d81"
      },
      {
       "current": "d78c1df8-41bb-11eb-aed8-0242ac110002-11-6ea8-8beb-bb1c-7bd2-2485-dce0-a8e1-57c3-9485-b396",
       "next": "d78c1eb6-41bb-11eb-aed8-0242ac110002-10-f9ca-08a5-6cd0-4f22-5e66-9e78-7162-d1e6-0843-cc27",
       "previous": "c7ce9f06-48a2-11eb-8acc-0242ac110002-4-e6b4-aca4-1d81-b69f"
      },
      {
       "current": "d78c1df8-41bb-11eb-aed8-0242ac110002-12-8beb-bb1c-7bd2-2485-dce0-a8e1-57c3-9485-b396-5a3c",
       "next": "d78c1eb6-41bb-11eb-aed8-0242ac110002-11-08a5-6cd0-4f22-5e66-9e78-7162-d1e6-0843-cc27-ab6c",
       "previous": "c7ce9f06-48a2-11eb-8acc-0242ac110002-5-e6b4-aca4-1d81-b69f-2d8b"
      },
      {
       "current": "d78c1df8-41bb-11eb-aed8-0242ac110002-13-bb1c-7bd2-2485-dce0-a8e1-57c3-9485-b396-5a3c-1b24",
       "next": "d78c1eb6-41bb-11eb-aed8-0242ac110002-12-6cd0-4f22-5e66-9e78-7162-d1e6-0843-cc27-ab6c-f3ec",
       "previous": "c7ce9f06-48a2-11eb-8acc-0242ac110002-6-e6b4-aca4-1d81-b69f-2d8b-db6c"
      },
      {
       "current": "d78c1df8-41bb-11eb-aed8-0242ac110002-13-bb1c-7bd2-2485-dce0-a8e1-57c3-9485-b396-5a3c-1b24",
       "next": "d78c1eb6-41bb-11eb-aed8-0242ac110002-13-4f22-5e66-9e78-7162-d1e6-0843-cc27-ab6c-f3ec-4828",
       "previous": "c7ce9f06-48a2-11eb-8acc-0242ac110002-7-e6b4-aca4-1d81-b69f-2d8b-db6c-fcde"
      },
      {
       "current": "d78c1df8-41bb-11eb-aed8-0242ac110002-13-bb1c-7bd2-2485-dce0-a8e1-57c3-9485-b396-5a3c-1b24",
       "next": "fe1b1df8-7356-11eb-b80d-0242ac110002",
       "previous": "c7ce9f06-48a2-11eb-8acc-0242ac110002-7-e6b4-aca4-1d81-b69f-2d8b-db6c-fcde"
      },
      {
       "current": "d78c1df8-41bb-11eb-aed8-0242ac110002-14-7bd2-2485-dce0-a8e1-57c3-9485-b396-5a3c-1b24-fff0",
       "next": "fe1b1df8-7356-11eb-b80d-0242ac110002-1-3562",
       "previous": "c7ce9f06-48a2-11eb-8acc-0242ac110002-7-e6b4-aca4-1d81-b69f-2d8b-db6c-fcde"
      },
      {
       "current": "d78c1df8-41bb-11eb-aed8-0242ac110002-15-2485-dce0-a8e1-57c3-9485-b396-5a3c-1b24-fff0-8246",
       "next": "fe1b1df8-7356-11eb-b80d-0242ac110002-2-3562-7946",
       "previous": "c7ce9f06-48a2-11eb-8acc-0242ac110002-8-e6b4-aca4-1d81-b69f-2d8b-db6c-fcde-639c"
      },
      {
       "current": "d78c1df8-41bb-11eb-aed8-0242ac110002-15-2485-dce0-a8e1-57c3-9485-b396-5a3c-1b24-fff0-8246",
       "next": "fe1b1df8-7356-11eb-b80d-0242ac110002-3-3562-7946-a8fd",
       "previous": null
      },
      {
       "current": "d78c1df8-41bb-11eb-aed8-0242ac110002-15-2485-dce0-a8e1-57c3-9485-b396-5a3c-1b24-fff0-8246",
       "next": "fe1b1df8-7356-11eb-b80d-0242ac110002-3-3562-7946-a8fd",
       "previous": "d78c1df8-41bb-11eb-aed8-0242ac110002-16-dce0-a8e1-57c3-9485-b396-5a3c-1b24-fff0-8246-adf8"
      },
      {
       "current": "d78c1df8-41bb-11eb-aed8-0242ac110002-15-2485-dce0-a8e1-57c3-9485-b396-5a3c-1b24-fff0-8246",
       "next": "fe1b1df8-7356-11eb-b80d-0242ac110002-3-3562-7946-a8fd",
       "previous": "d78c1df8-41bb-11eb-aed8-0242ac110002-16-dce0-a8e1-57c3-9485-b396-5a3c-1b24-fff0-8246-e553"
      },
      {
       "current": "d78c1df8-41bb-11eb-aed8-0242ac110002-16-dce0-a8e1-57c3-9485-b396-5a3c-1b24-fff0-8246-3c5f",
       "next": "fe1b1df8-7356-11eb-b80d-0242ac110002-4-3562-7946-a8fd-d471",
       "previous": "d78c1df8-41bb-11eb-aed8-0242ac110002-16-dce0-a8e1-57c3-9485-b396-5a3c-1b24-fff0-8246-e553"
      },
      {
       "current": "d78c1df8-41bb-11eb-aed8-0242ac110002-16-dce0-a8e1-57c3-9485-b396-5a3c-1b24-fff0-8246-3c5f",
       "next": "fe1b1df8-7356-11eb-b80d-0242ac110002-4-3562-7946-a8fd-d471",
       "previous": "d78c1df8-41bb-11eb-aed8-0242ac110002-16-dce0-a8e1-57c3-9485-b396-5a3c-1b24-fff0-8246-e553"
      }
     ],
     "next": "fe1b1df8-7356-11eb-b80d-0242ac110002-5-3562-7946-a8fd-d471-8c4e",
     "previous": "d78c1df8-41bb-11eb-aed8-0242ac110002-17-a8e1-57c3-9485-b396-5a3c-1b24-fff0-8246-e553-a02e"
    },
    "slideshow": {
     "slide_type": "slide"
    }
   },
   "source": [
    "<span style=\"font-size: 150%;\">この発表に出てくる概念</span>\n",
    "\n",
    "- ゲームデザイン：「ゲームデザイン」を「パターン」のフレームワークで形式的に扱う議論が中心なので、あんまり知らなくてもOK\n",
    "- パターン：この発表で中心的な概念\n",
    "- ネットワーク分析：「パターン」のフレームワーク上で形式論的な分析をするのに今回使った道具"
   ]
  },
  {
   "cell_type": "markdown",
   "metadata": {
    "lc_cell_meme": {
     "current": "fe1b1df8-7356-11eb-b80d-0242ac110002-5-3562-7946-a8fd-d471-8c4e",
     "history": [
      {
       "current": "fe1b1df8-7356-11eb-b80d-0242ac110002",
       "next": "d78c1eb6-41bb-11eb-aed8-0242ac110002-13-4f22-5e66-9e78-7162-d1e6-0843-cc27-ab6c-f3ec-4828",
       "previous": "d78c1df8-41bb-11eb-aed8-0242ac110002-13-bb1c-7bd2-2485-dce0-a8e1-57c3-9485-b396-5a3c-1b24"
      },
      {
       "current": "fe1b1df8-7356-11eb-b80d-0242ac110002-1-3562",
       "next": "d4ae1366-7357-11eb-b80d-0242ac110002",
       "previous": "d78c1df8-41bb-11eb-aed8-0242ac110002-13-bb1c-7bd2-2485-dce0-a8e1-57c3-9485-b396-5a3c-1b24"
      },
      {
       "current": "fe1b1df8-7356-11eb-b80d-0242ac110002-2-3562-7946",
       "next": "fe1b1df8-7356-11eb-b80d-0242ac110002",
       "previous": "d78c1df8-41bb-11eb-aed8-0242ac110002-13-bb1c-7bd2-2485-dce0-a8e1-57c3-9485-b396-5a3c-1b24"
      },
      {
       "current": "fe1b1df8-7356-11eb-b80d-0242ac110002-3-3562-7946-a8fd",
       "next": "fe1b1df8-7356-11eb-b80d-0242ac110002-1-8111",
       "previous": "d78c1df8-41bb-11eb-aed8-0242ac110002-14-7bd2-2485-dce0-a8e1-57c3-9485-b396-5a3c-1b24-fff0"
      },
      {
       "current": "fe1b1df8-7356-11eb-b80d-0242ac110002-4-3562-7946-a8fd-d471",
       "next": "fe1b1df8-7356-11eb-b80d-0242ac110002-2-8111-f4d2",
       "previous": "d78c1df8-41bb-11eb-aed8-0242ac110002-15-2485-dce0-a8e1-57c3-9485-b396-5a3c-1b24-fff0-8246"
      },
      {
       "current": "fe1b1df8-7356-11eb-b80d-0242ac110002-5-3562-7946-a8fd-d471-8c4e",
       "next": "fe1b1df8-7356-11eb-b80d-0242ac110002-3-3562-7946-a8fd",
       "previous": "d78c1df8-41bb-11eb-aed8-0242ac110002-15-2485-dce0-a8e1-57c3-9485-b396-5a3c-1b24-fff0-8246"
      },
      {
       "current": "fe1b1df8-7356-11eb-b80d-0242ac110002-5-3562-7946-a8fd-d471-8c4e",
       "next": "fe1b1df8-7356-11eb-b80d-0242ac110002-3-3562-7946-a8fd",
       "previous": "d78c1df8-41bb-11eb-aed8-0242ac110002-15-2485-dce0-a8e1-57c3-9485-b396-5a3c-1b24-fff0-8246"
      }
     ],
     "next": "fe1b1df8-7356-11eb-b80d-0242ac110002-4-3562-7946-a8fd-5b49",
     "previous": "d78c1df8-41bb-11eb-aed8-0242ac110002-16-dce0-a8e1-57c3-9485-b396-5a3c-1b24-fff0-8246-3c5f"
    },
    "slideshow": {
     "slide_type": "slide"
    }
   },
   "source": [
    "<span style=\"font-size: 150%;\">書籍「ゲームメカニクス大全」</span>\n",
    "\n",
    "<img src=\"https://www.seshop.com/original/images/product/24080/L.png\" width=100>\n",
    "\n",
    "- 「Building Blocks of Tabletop Game Design」の邦訳\n",
    "- アナログゲームにおけるデザインパターンを13カテゴリ184パターン収録\n",
    "- 図書館に行ったら新刊コーナーに置いてて、軽い気持ちで借りた\n",
    "- ゲームデザイン×パターン×謎の使命感"
   ]
  },
  {
   "cell_type": "markdown",
   "metadata": {
    "lc_cell_meme": {
     "current": "fe1b1df8-7356-11eb-b80d-0242ac110002-4-3562-7946-a8fd-5b49",
     "history": [
      {
       "current": "fe1b1df8-7356-11eb-b80d-0242ac110002",
       "next": "d78c1eb6-41bb-11eb-aed8-0242ac110002-13-4f22-5e66-9e78-7162-d1e6-0843-cc27-ab6c-f3ec-4828",
       "previous": "d78c1df8-41bb-11eb-aed8-0242ac110002-13-bb1c-7bd2-2485-dce0-a8e1-57c3-9485-b396-5a3c-1b24"
      },
      {
       "current": "fe1b1df8-7356-11eb-b80d-0242ac110002-1-3562",
       "next": "d4ae1366-7357-11eb-b80d-0242ac110002",
       "previous": "d78c1df8-41bb-11eb-aed8-0242ac110002-13-bb1c-7bd2-2485-dce0-a8e1-57c3-9485-b396-5a3c-1b24"
      },
      {
       "current": "fe1b1df8-7356-11eb-b80d-0242ac110002-2-3562-7946",
       "next": "fe1b1df8-7356-11eb-b80d-0242ac110002",
       "previous": "d78c1df8-41bb-11eb-aed8-0242ac110002-13-bb1c-7bd2-2485-dce0-a8e1-57c3-9485-b396-5a3c-1b24"
      },
      {
       "current": "fe1b1df8-7356-11eb-b80d-0242ac110002-3-3562-7946-a8fd",
       "next": "fe1b1df8-7356-11eb-b80d-0242ac110002-1-8111",
       "previous": "d78c1df8-41bb-11eb-aed8-0242ac110002-14-7bd2-2485-dce0-a8e1-57c3-9485-b396-5a3c-1b24-fff0"
      },
      {
       "current": "fe1b1df8-7356-11eb-b80d-0242ac110002-3-3562-7946-a8fd",
       "next": "fe1b1df8-7356-11eb-b80d-0242ac110002-2-8111-f4d2",
       "previous": "d78c1df8-41bb-11eb-aed8-0242ac110002-15-2485-dce0-a8e1-57c3-9485-b396-5a3c-1b24-fff0-8246"
      },
      {
       "current": "fe1b1df8-7356-11eb-b80d-0242ac110002-3-3562-7946-a8fd",
       "next": "fe1b1df8-7356-11eb-b80d-0242ac110002-2-8111-f4d2",
       "previous": "fe1b1df8-7356-11eb-b80d-0242ac110002-4-3562-7946-a8fd-d471"
      },
      {
       "current": "fe1b1df8-7356-11eb-b80d-0242ac110002-3-3562-7946-a8fd",
       "next": "fe1b1df8-7356-11eb-b80d-0242ac110002-3-8111-f4d2-482e",
       "previous": "fe1b1df8-7356-11eb-b80d-0242ac110002-4-3562-7946-a8fd-d471"
      },
      {
       "current": "fe1b1df8-7356-11eb-b80d-0242ac110002-3-3562-7946-a8fd",
       "next": "fe1b1df8-7356-11eb-b80d-0242ac110002-4-8111-f4d2-482e-5b06",
       "previous": "fe1b1df8-7356-11eb-b80d-0242ac110002-4-3562-7946-a8fd-d471"
      },
      {
       "current": "fe1b1df8-7356-11eb-b80d-0242ac110002-4-3562-7946-a8fd-5b49",
       "next": "fe1b1df8-7356-11eb-b80d-0242ac110002-5-8111-f4d2-482e-5b06-ad6f",
       "previous": "fe1b1df8-7356-11eb-b80d-0242ac110002-4-3562-7946-a8fd-d471"
      },
      {
       "current": "fe1b1df8-7356-11eb-b80d-0242ac110002-4-3562-7946-a8fd-5b49",
       "next": "fe1b1df8-7356-11eb-b80d-0242ac110002-5-8111-f4d2-482e-5b06-ad6f",
       "previous": "fe1b1df8-7356-11eb-b80d-0242ac110002-4-3562-7946-a8fd-d471"
      }
     ],
     "next": "fe1b1df8-7356-11eb-b80d-0242ac110002-6-8111-f4d2-482e-5b06-ad6f-ce31",
     "previous": "fe1b1df8-7356-11eb-b80d-0242ac110002-5-3562-7946-a8fd-d471-8c4e"
    },
    "slideshow": {
     "slide_type": "slide"
    }
   },
   "source": [
    "<span style=\"font-size: 150%;\">謎の使命感</span>\n",
    "\n",
    "<img src=\"https://www.sbcr.jp/wp-content/uploads/product/4797311126-428x596.jpg\" width=100>\n",
    "\n",
    "- 「ジェフにデザインコンセプトをどのように分解して再構築できるかを示した」\n",
    "- 監訳：本位田真一（ボス）、吉田和樹（上司）\n",
    "- 「だったら、もうちょっとやれんぜ」という、謎の使命感\n",
    "- 「ぼくのかんがえたさいきょう」を減らすために英霊を召喚"
   ]
  },
  {
   "cell_type": "markdown",
   "metadata": {
    "lc_cell_meme": {
     "current": "fe1b1df8-7356-11eb-b80d-0242ac110002-6-8111-f4d2-482e-5b06-ad6f-ce31",
     "history": [
      {
       "current": "fe1b1df8-7356-11eb-b80d-0242ac110002",
       "next": "d78c1eb6-41bb-11eb-aed8-0242ac110002-13-4f22-5e66-9e78-7162-d1e6-0843-cc27-ab6c-f3ec-4828",
       "previous": "d78c1df8-41bb-11eb-aed8-0242ac110002-13-bb1c-7bd2-2485-dce0-a8e1-57c3-9485-b396-5a3c-1b24"
      },
      {
       "current": "fe1b1df8-7356-11eb-b80d-0242ac110002",
       "next": "d4ae1366-7357-11eb-b80d-0242ac110002",
       "previous": "d78c1df8-41bb-11eb-aed8-0242ac110002-13-bb1c-7bd2-2485-dce0-a8e1-57c3-9485-b396-5a3c-1b24"
      },
      {
       "current": "fe1b1df8-7356-11eb-b80d-0242ac110002",
       "next": "d4ae1366-7357-11eb-b80d-0242ac110002",
       "previous": "fe1b1df8-7356-11eb-b80d-0242ac110002-1-3562"
      },
      {
       "current": "fe1b1df8-7356-11eb-b80d-0242ac110002-1-8111",
       "next": "d4ae1366-7357-11eb-b80d-0242ac110002-1-a8ba",
       "previous": "fe1b1df8-7356-11eb-b80d-0242ac110002-1-3562"
      },
      {
       "current": "fe1b1df8-7356-11eb-b80d-0242ac110002-2-8111-f4d2",
       "next": "d4ae1366-7357-11eb-b80d-0242ac110002-2-a8ba-f968",
       "previous": "fe1b1df8-7356-11eb-b80d-0242ac110002-2-3562-7946"
      },
      {
       "current": "fe1b1df8-7356-11eb-b80d-0242ac110002-3-8111-f4d2-482e",
       "next": "d4ae1366-7357-11eb-b80d-0242ac110002-3-a8ba-f968-2a55",
       "previous": "fe1b1df8-7356-11eb-b80d-0242ac110002-3-3562-7946-a8fd"
      },
      {
       "current": "fe1b1df8-7356-11eb-b80d-0242ac110002-4-8111-f4d2-482e-5b06",
       "next": "fe1b1df8-7356-11eb-b80d-0242ac110002-2-8111-f4d2",
       "previous": "fe1b1df8-7356-11eb-b80d-0242ac110002-3-3562-7946-a8fd"
      },
      {
       "current": "fe1b1df8-7356-11eb-b80d-0242ac110002-5-8111-f4d2-482e-5b06-ad6f",
       "next": "fe1b1df8-7356-11eb-b80d-0242ac110002-4-8111-f4d2-482e-18d6",
       "previous": "fe1b1df8-7356-11eb-b80d-0242ac110002-3-3562-7946-a8fd"
      },
      {
       "current": "fe1b1df8-7356-11eb-b80d-0242ac110002-6-8111-f4d2-482e-5b06-ad6f-ce31",
       "next": "fe1b1df8-7356-11eb-b80d-0242ac110002-4-8111-f4d2-482e-5b06",
       "previous": "fe1b1df8-7356-11eb-b80d-0242ac110002-3-3562-7946-a8fd"
      },
      {
       "current": "fe1b1df8-7356-11eb-b80d-0242ac110002-6-8111-f4d2-482e-5b06-ad6f-ce31",
       "next": "fe1b1df8-7356-11eb-b80d-0242ac110002-4-8111-f4d2-482e-5b06",
       "previous": "fe1b1df8-7356-11eb-b80d-0242ac110002-3-3562-7946-a8fd"
      }
     ],
     "next": "fe1b1df8-7356-11eb-b80d-0242ac110002-5-8111-f4d2-482e-5b06-9c99",
     "previous": "fe1b1df8-7356-11eb-b80d-0242ac110002-4-3562-7946-a8fd-5b49"
    },
    "slideshow": {
     "slide_type": "slide"
    }
   },
   "source": [
    "<span style=\"font-size: 150%;\">パターンの例</span>\n",
    "\n",
    "パターンについて簡単に説明しとく。"
   ]
  },
  {
   "cell_type": "markdown",
   "metadata": {
    "lc_cell_meme": {
     "current": "fe1b1df8-7356-11eb-b80d-0242ac110002-5-8111-f4d2-482e-5b06-9c99",
     "history": [
      {
       "current": "fe1b1df8-7356-11eb-b80d-0242ac110002",
       "next": "d78c1eb6-41bb-11eb-aed8-0242ac110002-13-4f22-5e66-9e78-7162-d1e6-0843-cc27-ab6c-f3ec-4828",
       "previous": "d78c1df8-41bb-11eb-aed8-0242ac110002-13-bb1c-7bd2-2485-dce0-a8e1-57c3-9485-b396-5a3c-1b24"
      },
      {
       "current": "fe1b1df8-7356-11eb-b80d-0242ac110002",
       "next": "d4ae1366-7357-11eb-b80d-0242ac110002",
       "previous": "d78c1df8-41bb-11eb-aed8-0242ac110002-13-bb1c-7bd2-2485-dce0-a8e1-57c3-9485-b396-5a3c-1b24"
      },
      {
       "current": "fe1b1df8-7356-11eb-b80d-0242ac110002",
       "next": "d4ae1366-7357-11eb-b80d-0242ac110002",
       "previous": "fe1b1df8-7356-11eb-b80d-0242ac110002-1-3562"
      },
      {
       "current": "fe1b1df8-7356-11eb-b80d-0242ac110002-1-8111",
       "next": "d4ae1366-7357-11eb-b80d-0242ac110002-1-a8ba",
       "previous": "fe1b1df8-7356-11eb-b80d-0242ac110002-1-3562"
      },
      {
       "current": "fe1b1df8-7356-11eb-b80d-0242ac110002-2-8111-f4d2",
       "next": "d4ae1366-7357-11eb-b80d-0242ac110002-2-a8ba-f968",
       "previous": "fe1b1df8-7356-11eb-b80d-0242ac110002-2-3562-7946"
      },
      {
       "current": "fe1b1df8-7356-11eb-b80d-0242ac110002-3-8111-f4d2-482e",
       "next": "d4ae1366-7357-11eb-b80d-0242ac110002-3-a8ba-f968-2a55",
       "previous": "fe1b1df8-7356-11eb-b80d-0242ac110002-3-3562-7946-a8fd"
      },
      {
       "current": "fe1b1df8-7356-11eb-b80d-0242ac110002-4-8111-f4d2-482e-5b06",
       "next": "fe1b1df8-7356-11eb-b80d-0242ac110002-2-8111-f4d2",
       "previous": "fe1b1df8-7356-11eb-b80d-0242ac110002-3-3562-7946-a8fd"
      },
      {
       "current": "fe1b1df8-7356-11eb-b80d-0242ac110002-4-8111-f4d2-482e-5b06",
       "next": "fe1b1df8-7356-11eb-b80d-0242ac110002-4-8111-f4d2-482e-18d6",
       "previous": "fe1b1df8-7356-11eb-b80d-0242ac110002-3-3562-7946-a8fd"
      },
      {
       "current": "fe1b1df8-7356-11eb-b80d-0242ac110002-5-8111-f4d2-482e-5b06-9c99",
       "next": "fe1b1df8-7356-11eb-b80d-0242ac110002-4-8111-f4d2-482e-18d6",
       "previous": "fe1b1df8-7356-11eb-b80d-0242ac110002-5-8111-f4d2-482e-5b06-ad6f"
      },
      {
       "current": "fe1b1df8-7356-11eb-b80d-0242ac110002-5-8111-f4d2-482e-5b06-9c99",
       "next": "fe1b1df8-7356-11eb-b80d-0242ac110002-4-8111-f4d2-482e-18d6",
       "previous": "fe1b1df8-7356-11eb-b80d-0242ac110002-5-8111-f4d2-482e-5b06-ad6f"
      }
     ],
     "next": "fe1b1df8-7356-11eb-b80d-0242ac110002-5-8111-f4d2-482e-18d6-e36d",
     "previous": "fe1b1df8-7356-11eb-b80d-0242ac110002-6-8111-f4d2-482e-5b06-ad6f-ce31"
    },
    "slideshow": {
     "slide_type": "slide"
    }
   },
   "source": [
    "<img src=\"https://learningpatterns.sfc.keio.ac.jp/image/PatternForm1.jpg\" width=800>\n",
    "\n",
    "<span style=\"font-size: 50%;\">出典：ラーニング・パターンの読み方 https://learningpatterns.sfc.keio.ac.jp/howto.html</span>"
   ]
  },
  {
   "cell_type": "markdown",
   "metadata": {
    "lc_cell_meme": {
     "current": "fe1b1df8-7356-11eb-b80d-0242ac110002-5-8111-f4d2-482e-18d6-e36d",
     "history": [
      {
       "current": "fe1b1df8-7356-11eb-b80d-0242ac110002",
       "next": "d78c1eb6-41bb-11eb-aed8-0242ac110002-13-4f22-5e66-9e78-7162-d1e6-0843-cc27-ab6c-f3ec-4828",
       "previous": "d78c1df8-41bb-11eb-aed8-0242ac110002-13-bb1c-7bd2-2485-dce0-a8e1-57c3-9485-b396-5a3c-1b24"
      },
      {
       "current": "fe1b1df8-7356-11eb-b80d-0242ac110002",
       "next": "d4ae1366-7357-11eb-b80d-0242ac110002",
       "previous": "d78c1df8-41bb-11eb-aed8-0242ac110002-13-bb1c-7bd2-2485-dce0-a8e1-57c3-9485-b396-5a3c-1b24"
      },
      {
       "current": "fe1b1df8-7356-11eb-b80d-0242ac110002",
       "next": "d4ae1366-7357-11eb-b80d-0242ac110002",
       "previous": "fe1b1df8-7356-11eb-b80d-0242ac110002-1-3562"
      },
      {
       "current": "fe1b1df8-7356-11eb-b80d-0242ac110002-1-8111",
       "next": "d4ae1366-7357-11eb-b80d-0242ac110002-1-a8ba",
       "previous": "fe1b1df8-7356-11eb-b80d-0242ac110002-1-3562"
      },
      {
       "current": "fe1b1df8-7356-11eb-b80d-0242ac110002-2-8111-f4d2",
       "next": "d4ae1366-7357-11eb-b80d-0242ac110002-2-a8ba-f968",
       "previous": "fe1b1df8-7356-11eb-b80d-0242ac110002-2-3562-7946"
      },
      {
       "current": "fe1b1df8-7356-11eb-b80d-0242ac110002-3-8111-f4d2-482e",
       "next": "d4ae1366-7357-11eb-b80d-0242ac110002-3-a8ba-f968-2a55",
       "previous": "fe1b1df8-7356-11eb-b80d-0242ac110002-3-3562-7946-a8fd"
      },
      {
       "current": "fe1b1df8-7356-11eb-b80d-0242ac110002-4-8111-f4d2-482e-18d6",
       "next": "fe1b1df8-7356-11eb-b80d-0242ac110002-2-8111-f4d2",
       "previous": "fe1b1df8-7356-11eb-b80d-0242ac110002-3-3562-7946-a8fd"
      },
      {
       "current": "fe1b1df8-7356-11eb-b80d-0242ac110002-4-8111-f4d2-482e-18d6",
       "next": "fe1b1df8-7356-11eb-b80d-0242ac110002-3-8111-f4d2-482e",
       "previous": "fe1b1df8-7356-11eb-b80d-0242ac110002-4-8111-f4d2-482e-5b06"
      },
      {
       "current": "fe1b1df8-7356-11eb-b80d-0242ac110002-4-8111-f4d2-482e-18d6",
       "next": "fe1b1df8-7356-11eb-b80d-0242ac110002-4-8111-f4d2-482e-bacd",
       "previous": "fe1b1df8-7356-11eb-b80d-0242ac110002-4-8111-f4d2-482e-5b06"
      },
      {
       "current": "fe1b1df8-7356-11eb-b80d-0242ac110002-5-8111-f4d2-482e-18d6-e36d",
       "next": "fe1b1df8-7356-11eb-b80d-0242ac110002-5-8111-f4d2-482e-bacd-6199",
       "previous": "fe1b1df8-7356-11eb-b80d-0242ac110002-4-8111-f4d2-482e-5b06"
      },
      {
       "current": "fe1b1df8-7356-11eb-b80d-0242ac110002-5-8111-f4d2-482e-18d6-e36d",
       "next": "fe1b1df8-7356-11eb-b80d-0242ac110002-5-8111-f4d2-482e-bacd-6199",
       "previous": "fe1b1df8-7356-11eb-b80d-0242ac110002-4-8111-f4d2-482e-5b06"
      }
     ],
     "next": "fe1b1df8-7356-11eb-b80d-0242ac110002-6-8111-f4d2-482e-bacd-6199-40b9",
     "previous": "fe1b1df8-7356-11eb-b80d-0242ac110002-5-8111-f4d2-482e-5b06-9c99"
    },
    "slideshow": {
     "slide_type": "slide"
    }
   },
   "source": [
    "<img src=\"https://learningpatterns.sfc.keio.ac.jp/image/PatternForm2.jpg\" width=800>\n",
    "\n",
    "今日のところは、他のパターンへの参照を持ってる、というのを理解できればOK。\n",
    "\n",
    "<span style=\"font-size: 50%;\">出典：ラーニング・パターンの読み方 https://learningpatterns.sfc.keio.ac.jp/howto.html</span>"
   ]
  },
  {
   "cell_type": "markdown",
   "metadata": {
    "lc_cell_meme": {
     "current": "fe1b1df8-7356-11eb-b80d-0242ac110002-6-8111-f4d2-482e-bacd-6199-40b9",
     "history": [
      {
       "current": "fe1b1df8-7356-11eb-b80d-0242ac110002",
       "next": "d78c1eb6-41bb-11eb-aed8-0242ac110002-13-4f22-5e66-9e78-7162-d1e6-0843-cc27-ab6c-f3ec-4828",
       "previous": "d78c1df8-41bb-11eb-aed8-0242ac110002-13-bb1c-7bd2-2485-dce0-a8e1-57c3-9485-b396-5a3c-1b24"
      },
      {
       "current": "fe1b1df8-7356-11eb-b80d-0242ac110002",
       "next": "d4ae1366-7357-11eb-b80d-0242ac110002",
       "previous": "d78c1df8-41bb-11eb-aed8-0242ac110002-13-bb1c-7bd2-2485-dce0-a8e1-57c3-9485-b396-5a3c-1b24"
      },
      {
       "current": "fe1b1df8-7356-11eb-b80d-0242ac110002",
       "next": "d4ae1366-7357-11eb-b80d-0242ac110002",
       "previous": "fe1b1df8-7356-11eb-b80d-0242ac110002-1-3562"
      },
      {
       "current": "fe1b1df8-7356-11eb-b80d-0242ac110002-1-8111",
       "next": "d4ae1366-7357-11eb-b80d-0242ac110002-1-a8ba",
       "previous": "fe1b1df8-7356-11eb-b80d-0242ac110002-1-3562"
      },
      {
       "current": "fe1b1df8-7356-11eb-b80d-0242ac110002-2-8111-f4d2",
       "next": "d4ae1366-7357-11eb-b80d-0242ac110002-2-a8ba-f968",
       "previous": "fe1b1df8-7356-11eb-b80d-0242ac110002-2-3562-7946"
      },
      {
       "current": "fe1b1df8-7356-11eb-b80d-0242ac110002-3-8111-f4d2-482e",
       "next": "d4ae1366-7357-11eb-b80d-0242ac110002-3-a8ba-f968-2a55",
       "previous": "fe1b1df8-7356-11eb-b80d-0242ac110002-3-3562-7946-a8fd"
      },
      {
       "current": "fe1b1df8-7356-11eb-b80d-0242ac110002-3-8111-f4d2-482e",
       "next": "fe1b1df8-7356-11eb-b80d-0242ac110002-2-8111-f4d2",
       "previous": "fe1b1df8-7356-11eb-b80d-0242ac110002-3-3562-7946-a8fd"
      },
      {
       "current": "fe1b1df8-7356-11eb-b80d-0242ac110002-4-8111-f4d2-482e-bacd",
       "next": "fe1b1df8-7356-11eb-b80d-0242ac110002-2-8111-f4d2",
       "previous": "fe1b1df8-7356-11eb-b80d-0242ac110002-4-8111-f4d2-482e-18d6"
      },
      {
       "current": "fe1b1df8-7356-11eb-b80d-0242ac110002-5-8111-f4d2-482e-bacd-6199",
       "next": "fe1b1df8-7356-11eb-b80d-0242ac110002-3-8111-f4d2-482e",
       "previous": "fe1b1df8-7356-11eb-b80d-0242ac110002-4-8111-f4d2-482e-18d6"
      },
      {
       "current": "fe1b1df8-7356-11eb-b80d-0242ac110002-6-8111-f4d2-482e-bacd-6199-40b9",
       "next": "fe1b1df8-7356-11eb-b80d-0242ac110002-4-8111-f4d2-482e-bacd",
       "previous": "fe1b1df8-7356-11eb-b80d-0242ac110002-4-8111-f4d2-482e-18d6"
      },
      {
       "current": "fe1b1df8-7356-11eb-b80d-0242ac110002-6-8111-f4d2-482e-bacd-6199-40b9",
       "next": "fe1b1df8-7356-11eb-b80d-0242ac110002-4-8111-f4d2-482e-bacd",
       "previous": "fe1b1df8-7356-11eb-b80d-0242ac110002-4-8111-f4d2-482e-18d6"
      }
     ],
     "next": "fe1b1df8-7356-11eb-b80d-0242ac110002-5-8111-f4d2-482e-bacd-3837",
     "previous": "fe1b1df8-7356-11eb-b80d-0242ac110002-5-8111-f4d2-482e-18d6-e36d"
    },
    "slideshow": {
     "slide_type": "slide"
    }
   },
   "source": [
    "<span style=\"font-size: 150%;\">「ゲームメカニクス大全」への不満：</span>\n",
    "\n",
    "<span style=\"font-size: 150%;\">片方向参照が多い</span>"
   ]
  },
  {
   "cell_type": "markdown",
   "metadata": {
    "lc_cell_meme": {
     "current": "fe1b1df8-7356-11eb-b80d-0242ac110002-5-8111-f4d2-482e-bacd-3837",
     "history": [
      {
       "current": "fe1b1df8-7356-11eb-b80d-0242ac110002",
       "next": "d78c1eb6-41bb-11eb-aed8-0242ac110002-13-4f22-5e66-9e78-7162-d1e6-0843-cc27-ab6c-f3ec-4828",
       "previous": "d78c1df8-41bb-11eb-aed8-0242ac110002-13-bb1c-7bd2-2485-dce0-a8e1-57c3-9485-b396-5a3c-1b24"
      },
      {
       "current": "fe1b1df8-7356-11eb-b80d-0242ac110002",
       "next": "d4ae1366-7357-11eb-b80d-0242ac110002",
       "previous": "d78c1df8-41bb-11eb-aed8-0242ac110002-13-bb1c-7bd2-2485-dce0-a8e1-57c3-9485-b396-5a3c-1b24"
      },
      {
       "current": "fe1b1df8-7356-11eb-b80d-0242ac110002",
       "next": "d4ae1366-7357-11eb-b80d-0242ac110002",
       "previous": "fe1b1df8-7356-11eb-b80d-0242ac110002-1-3562"
      },
      {
       "current": "fe1b1df8-7356-11eb-b80d-0242ac110002-1-8111",
       "next": "d4ae1366-7357-11eb-b80d-0242ac110002-1-a8ba",
       "previous": "fe1b1df8-7356-11eb-b80d-0242ac110002-1-3562"
      },
      {
       "current": "fe1b1df8-7356-11eb-b80d-0242ac110002-2-8111-f4d2",
       "next": "d4ae1366-7357-11eb-b80d-0242ac110002-2-a8ba-f968",
       "previous": "fe1b1df8-7356-11eb-b80d-0242ac110002-2-3562-7946"
      },
      {
       "current": "fe1b1df8-7356-11eb-b80d-0242ac110002-3-8111-f4d2-482e",
       "next": "d4ae1366-7357-11eb-b80d-0242ac110002-3-a8ba-f968-2a55",
       "previous": "fe1b1df8-7356-11eb-b80d-0242ac110002-3-3562-7946-a8fd"
      },
      {
       "current": "fe1b1df8-7356-11eb-b80d-0242ac110002-3-8111-f4d2-482e",
       "next": "fe1b1df8-7356-11eb-b80d-0242ac110002-2-8111-f4d2",
       "previous": "fe1b1df8-7356-11eb-b80d-0242ac110002-3-3562-7946-a8fd"
      },
      {
       "current": "fe1b1df8-7356-11eb-b80d-0242ac110002-4-8111-f4d2-482e-bacd",
       "next": "fe1b1df8-7356-11eb-b80d-0242ac110002-2-8111-f4d2",
       "previous": "fe1b1df8-7356-11eb-b80d-0242ac110002-4-8111-f4d2-482e-18d6"
      },
      {
       "current": "fe1b1df8-7356-11eb-b80d-0242ac110002-4-8111-f4d2-482e-bacd",
       "next": "fe1b1df8-7356-11eb-b80d-0242ac110002-3-8111-f4d2-482e",
       "previous": "fe1b1df8-7356-11eb-b80d-0242ac110002-4-8111-f4d2-482e-18d6"
      },
      {
       "current": "fe1b1df8-7356-11eb-b80d-0242ac110002-5-8111-f4d2-482e-bacd-3837",
       "next": "fe1b1df8-7356-11eb-b80d-0242ac110002-4-8111-f4d2-482e-4718",
       "previous": "fe1b1df8-7356-11eb-b80d-0242ac110002-5-8111-f4d2-482e-bacd-6199"
      },
      {
       "current": "fe1b1df8-7356-11eb-b80d-0242ac110002-5-8111-f4d2-482e-bacd-3837",
       "next": "fe1b1df8-7356-11eb-b80d-0242ac110002-4-8111-f4d2-482e-4718",
       "previous": "fe1b1df8-7356-11eb-b80d-0242ac110002-5-8111-f4d2-482e-bacd-6199"
      }
     ],
     "next": "fe1b1df8-7356-11eb-b80d-0242ac110002-5-8111-f4d2-482e-4718-81df",
     "previous": "fe1b1df8-7356-11eb-b80d-0242ac110002-6-8111-f4d2-482e-bacd-6199-40b9"
    },
    "slideshow": {
     "slide_type": "slide"
    }
   },
   "source": [
    "パターンA→パターンB\n",
    "\n",
    "（AのページにBについて言及がある。BのページにAについての言及がない）\n",
    "\n",
    "- パターンAは、参照「A→B」から関連のあるパターンBの存在を認識できる\n",
    "- パターンBは、参照がないため、関連のあるパターンAの存在を認識できない\n",
    "\n",
    "不便の例：「AとBを同時に使うと効果的なのに、先にBの採用から入ると、Aの存在に気付けない」"
   ]
  },
  {
   "cell_type": "markdown",
   "metadata": {
    "lc_cell_meme": {
     "current": "fe1b1df8-7356-11eb-b80d-0242ac110002-5-8111-f4d2-482e-4718-81df",
     "history": [
      {
       "current": "fe1b1df8-7356-11eb-b80d-0242ac110002",
       "next": "d78c1eb6-41bb-11eb-aed8-0242ac110002-13-4f22-5e66-9e78-7162-d1e6-0843-cc27-ab6c-f3ec-4828",
       "previous": "d78c1df8-41bb-11eb-aed8-0242ac110002-13-bb1c-7bd2-2485-dce0-a8e1-57c3-9485-b396-5a3c-1b24"
      },
      {
       "current": "fe1b1df8-7356-11eb-b80d-0242ac110002",
       "next": "d4ae1366-7357-11eb-b80d-0242ac110002",
       "previous": "d78c1df8-41bb-11eb-aed8-0242ac110002-13-bb1c-7bd2-2485-dce0-a8e1-57c3-9485-b396-5a3c-1b24"
      },
      {
       "current": "fe1b1df8-7356-11eb-b80d-0242ac110002",
       "next": "d4ae1366-7357-11eb-b80d-0242ac110002",
       "previous": "fe1b1df8-7356-11eb-b80d-0242ac110002-1-3562"
      },
      {
       "current": "fe1b1df8-7356-11eb-b80d-0242ac110002-1-8111",
       "next": "d4ae1366-7357-11eb-b80d-0242ac110002-1-a8ba",
       "previous": "fe1b1df8-7356-11eb-b80d-0242ac110002-1-3562"
      },
      {
       "current": "fe1b1df8-7356-11eb-b80d-0242ac110002-2-8111-f4d2",
       "next": "d4ae1366-7357-11eb-b80d-0242ac110002-2-a8ba-f968",
       "previous": "fe1b1df8-7356-11eb-b80d-0242ac110002-2-3562-7946"
      },
      {
       "current": "fe1b1df8-7356-11eb-b80d-0242ac110002-3-8111-f4d2-482e",
       "next": "d4ae1366-7357-11eb-b80d-0242ac110002-3-a8ba-f968-2a55",
       "previous": "fe1b1df8-7356-11eb-b80d-0242ac110002-3-3562-7946-a8fd"
      },
      {
       "current": "fe1b1df8-7356-11eb-b80d-0242ac110002-3-8111-f4d2-482e",
       "next": "fe1b1df8-7356-11eb-b80d-0242ac110002-2-8111-f4d2",
       "previous": "fe1b1df8-7356-11eb-b80d-0242ac110002-3-3562-7946-a8fd"
      },
      {
       "current": "fe1b1df8-7356-11eb-b80d-0242ac110002-3-8111-f4d2-482e",
       "next": "fe1b1df8-7356-11eb-b80d-0242ac110002-2-8111-f4d2",
       "previous": "fe1b1df8-7356-11eb-b80d-0242ac110002-4-8111-f4d2-482e-18d6"
      },
      {
       "current": "fe1b1df8-7356-11eb-b80d-0242ac110002-4-8111-f4d2-482e-4718",
       "next": "eddbb3b8-483a-11eb-9304-0242ac110002-10-d5ec-af60-742b-4ce4-4c91-a240-18ba-23f4-5200-fc13",
       "previous": "fe1b1df8-7356-11eb-b80d-0242ac110002-4-8111-f4d2-482e-bacd"
      },
      {
       "current": "fe1b1df8-7356-11eb-b80d-0242ac110002-5-8111-f4d2-482e-4718-81df",
       "next": "fe1b1df8-7356-11eb-b80d-0242ac110002-3-8111-f4d2-482e",
       "previous": "fe1b1df8-7356-11eb-b80d-0242ac110002-4-8111-f4d2-482e-bacd"
      },
      {
       "current": "fe1b1df8-7356-11eb-b80d-0242ac110002-5-8111-f4d2-482e-4718-81df",
       "next": "fe1b1df8-7356-11eb-b80d-0242ac110002-3-8111-f4d2-482e",
       "previous": "fe1b1df8-7356-11eb-b80d-0242ac110002-4-8111-f4d2-482e-bacd"
      }
     ],
     "next": "fe1b1df8-7356-11eb-b80d-0242ac110002-4-8111-f4d2-482e-2707",
     "previous": "fe1b1df8-7356-11eb-b80d-0242ac110002-5-8111-f4d2-482e-bacd-3837"
    },
    "slideshow": {
     "slide_type": "slide"
    }
   },
   "source": [
    "<span style=\"font-size: 150%;\">解決：双方向な参照情報の完備</span>"
   ]
  },
  {
   "cell_type": "markdown",
   "metadata": {
    "lc_cell_meme": {
     "current": "fe1b1df8-7356-11eb-b80d-0242ac110002-4-8111-f4d2-482e-2707",
     "history": [
      {
       "current": "fe1b1df8-7356-11eb-b80d-0242ac110002",
       "next": "d78c1eb6-41bb-11eb-aed8-0242ac110002-13-4f22-5e66-9e78-7162-d1e6-0843-cc27-ab6c-f3ec-4828",
       "previous": "d78c1df8-41bb-11eb-aed8-0242ac110002-13-bb1c-7bd2-2485-dce0-a8e1-57c3-9485-b396-5a3c-1b24"
      },
      {
       "current": "fe1b1df8-7356-11eb-b80d-0242ac110002",
       "next": "d4ae1366-7357-11eb-b80d-0242ac110002",
       "previous": "d78c1df8-41bb-11eb-aed8-0242ac110002-13-bb1c-7bd2-2485-dce0-a8e1-57c3-9485-b396-5a3c-1b24"
      },
      {
       "current": "fe1b1df8-7356-11eb-b80d-0242ac110002",
       "next": "d4ae1366-7357-11eb-b80d-0242ac110002",
       "previous": "fe1b1df8-7356-11eb-b80d-0242ac110002-1-3562"
      },
      {
       "current": "fe1b1df8-7356-11eb-b80d-0242ac110002-1-8111",
       "next": "d4ae1366-7357-11eb-b80d-0242ac110002-1-a8ba",
       "previous": "fe1b1df8-7356-11eb-b80d-0242ac110002-1-3562"
      },
      {
       "current": "fe1b1df8-7356-11eb-b80d-0242ac110002-2-8111-f4d2",
       "next": "d4ae1366-7357-11eb-b80d-0242ac110002-2-a8ba-f968",
       "previous": "fe1b1df8-7356-11eb-b80d-0242ac110002-2-3562-7946"
      },
      {
       "current": "fe1b1df8-7356-11eb-b80d-0242ac110002-3-8111-f4d2-482e",
       "next": "d4ae1366-7357-11eb-b80d-0242ac110002-3-a8ba-f968-2a55",
       "previous": "fe1b1df8-7356-11eb-b80d-0242ac110002-3-3562-7946-a8fd"
      },
      {
       "current": "fe1b1df8-7356-11eb-b80d-0242ac110002-3-8111-f4d2-482e",
       "next": "fe1b1df8-7356-11eb-b80d-0242ac110002-2-8111-f4d2",
       "previous": "fe1b1df8-7356-11eb-b80d-0242ac110002-3-3562-7946-a8fd"
      },
      {
       "current": "fe1b1df8-7356-11eb-b80d-0242ac110002-3-8111-f4d2-482e",
       "next": "fe1b1df8-7356-11eb-b80d-0242ac110002-2-8111-f4d2",
       "previous": "fe1b1df8-7356-11eb-b80d-0242ac110002-4-8111-f4d2-482e-18d6"
      },
      {
       "current": "fe1b1df8-7356-11eb-b80d-0242ac110002-3-8111-f4d2-482e",
       "next": "eddbb3b8-483a-11eb-9304-0242ac110002-10-d5ec-af60-742b-4ce4-4c91-a240-18ba-23f4-5200-fc13",
       "previous": "fe1b1df8-7356-11eb-b80d-0242ac110002-4-8111-f4d2-482e-bacd"
      },
      {
       "current": "fe1b1df8-7356-11eb-b80d-0242ac110002-4-8111-f4d2-482e-2707",
       "next": "eddbb3b8-483a-11eb-9304-0242ac110002-10-d5ec-af60-742b-4ce4-4c91-a240-18ba-23f4-5200-fc13",
       "previous": "fe1b1df8-7356-11eb-b80d-0242ac110002-4-8111-f4d2-482e-4718"
      },
      {
       "current": "fe1b1df8-7356-11eb-b80d-0242ac110002-4-8111-f4d2-482e-2707",
       "next": "eddbb3b8-483a-11eb-9304-0242ac110002-10-d5ec-af60-742b-4ce4-4c91-a240-18ba-23f4-5200-fc13",
       "previous": "fe1b1df8-7356-11eb-b80d-0242ac110002-4-8111-f4d2-482e-4718"
      }
     ],
     "next": "eddbb3b8-483a-11eb-9304-0242ac110002-11-af60-742b-4ce4-4c91-a240-18ba-23f4-5200-fc13-3dcb",
     "previous": "fe1b1df8-7356-11eb-b80d-0242ac110002-5-8111-f4d2-482e-4718-81df"
    },
    "slideshow": {
     "slide_type": "slide"
    }
   },
   "source": [
    "まずは、書籍から参照情報を抜き出してデータ化する。"
   ]
  },
  {
   "cell_type": "code",
   "execution_count": null,
   "metadata": {
    "lc_cell_meme": {
     "current": "eddbb3b8-483a-11eb-9304-0242ac110002-11-af60-742b-4ce4-4c91-a240-18ba-23f4-5200-fc13-3dcb",
     "history": [
      {
       "current": "eddbb3b8-483a-11eb-9304-0242ac110002",
       "next": "0fe29b6a-41c5-11eb-aed8-0242ac110002-6-0a39-a2ce-cb4d-b86c-0b8e-e90a",
       "previous": "d78c2460-41bb-11eb-aed8-0242ac110002-5-2013-3fba-d374-6e74-6a8c"
      },
      {
       "current": "eddbb3b8-483a-11eb-9304-0242ac110002",
       "next": "0fe29b6a-41c5-11eb-aed8-0242ac110002-6-0a39-a2ce-cb4d-b86c-0b8e-e90a",
       "previous": "355f09ec-483b-11eb-9304-0242ac110002"
      },
      {
       "current": "eddbb3b8-483a-11eb-9304-0242ac110002-1-d5ec",
       "next": "7ce6b4a4-483b-11eb-9304-0242ac110002",
       "previous": "355f09ec-483b-11eb-9304-0242ac110002"
      },
      {
       "current": "eddbb3b8-483a-11eb-9304-0242ac110002-1-d5ec",
       "next": "7ce6b4a4-483b-11eb-9304-0242ac110002-1-8a95",
       "previous": "355f09ec-483b-11eb-9304-0242ac110002-1-0ebd"
      },
      {
       "current": "eddbb3b8-483a-11eb-9304-0242ac110002-2-d5ec-af60",
       "next": "7ce6b4a4-483b-11eb-9304-0242ac110002-1-8a95",
       "previous": "5680e858-48a3-11eb-8acc-0242ac110002"
      },
      {
       "current": "eddbb3b8-483a-11eb-9304-0242ac110002-3-d5ec-af60-742b",
       "next": "7ce6b4a4-483b-11eb-9304-0242ac110002-2-8a95-5f17",
       "previous": "5680e858-48a3-11eb-8acc-0242ac110002-1-c0c5"
      },
      {
       "current": "eddbb3b8-483a-11eb-9304-0242ac110002-4-d5ec-af60-742b-4ce4",
       "next": "7ce6b4a4-483b-11eb-9304-0242ac110002-3-8a95-5f17-9301",
       "previous": "5680e858-48a3-11eb-8acc-0242ac110002-2-c0c5-59ab"
      },
      {
       "current": "eddbb3b8-483a-11eb-9304-0242ac110002-5-d5ec-af60-742b-4ce4-4c91",
       "next": "7ce6b4a4-483b-11eb-9304-0242ac110002-4-8a95-5f17-9301-b764",
       "previous": "5680e858-48a3-11eb-8acc-0242ac110002-3-c0c5-59ab-1067"
      },
      {
       "current": "eddbb3b8-483a-11eb-9304-0242ac110002-6-d5ec-af60-742b-4ce4-4c91-a240",
       "next": "7ce6b4a4-483b-11eb-9304-0242ac110002-5-8a95-5f17-9301-b764-a8fd",
       "previous": "5680e858-48a3-11eb-8acc-0242ac110002-4-c0c5-59ab-1067-0546"
      },
      {
       "current": "eddbb3b8-483a-11eb-9304-0242ac110002-7-d5ec-af60-742b-4ce4-4c91-a240-18ba",
       "next": "7ce6b4a4-483b-11eb-9304-0242ac110002-6-8a95-5f17-9301-b764-a8fd-8c70",
       "previous": "5680e858-48a3-11eb-8acc-0242ac110002-5-c0c5-59ab-1067-0546-4180"
      },
      {
       "current": "eddbb3b8-483a-11eb-9304-0242ac110002-8-d5ec-af60-742b-4ce4-4c91-a240-18ba-23f4",
       "next": "7ce6b4a4-483b-11eb-9304-0242ac110002-7-8a95-5f17-9301-b764-a8fd-8c70-30b3",
       "previous": "5680e858-48a3-11eb-8acc-0242ac110002-6-c0c5-59ab-1067-0546-4180-7f10"
      },
      {
       "current": "eddbb3b8-483a-11eb-9304-0242ac110002-9-d5ec-af60-742b-4ce4-4c91-a240-18ba-23f4-5200",
       "next": "7ce6b4a4-483b-11eb-9304-0242ac110002-8-8a95-5f17-9301-b764-a8fd-8c70-30b3-2ec8",
       "previous": "5680e858-48a3-11eb-8acc-0242ac110002-7-c0c5-59ab-1067-0546-4180-7f10-a8db"
      },
      {
       "current": "eddbb3b8-483a-11eb-9304-0242ac110002-9-d5ec-af60-742b-4ce4-4c91-a240-18ba-23f4-5200",
       "next": "7ce6b4a4-483b-11eb-9304-0242ac110002-9-8a95-5f17-9301-b764-a8fd-8c70-30b3-2ec8-ccf6",
       "previous": "5680e858-48a3-11eb-8acc-0242ac110002-8-c0c5-59ab-1067-0546-4180-7f10-a8db-8c32"
      },
      {
       "current": "eddbb3b8-483a-11eb-9304-0242ac110002-9-d5ec-af60-742b-4ce4-4c91-a240-18ba-23f4-5200",
       "next": "7ce6b4a4-483b-11eb-9304-0242ac110002-9-8a95-5f17-9301-b764-a8fd-8c70-30b3-2ec8-ccf6",
       "previous": "27ce16f2-7369-11eb-9dd7-0242ac110002"
      },
      {
       "current": "eddbb3b8-483a-11eb-9304-0242ac110002-10-d5ec-af60-742b-4ce4-4c91-a240-18ba-23f4-5200-fc13",
       "next": "f2c7e038-7358-11eb-b80d-0242ac110002-2-6f31-0df0",
       "previous": "5680e858-48a3-11eb-8acc-0242ac110002-8-c0c5-59ab-1067-0546-4180-7f10-a8db-8c32"
      },
      {
       "current": "eddbb3b8-483a-11eb-9304-0242ac110002-10-d5ec-af60-742b-4ce4-4c91-a240-18ba-23f4-5200-fc13",
       "next": "f2c7e038-7358-11eb-b80d-0242ac110002-3-6f31-0df0-55b2",
       "previous": "5680e858-48a3-11eb-8acc-0242ac110002-9-c0c5-59ab-1067-0546-4180-7f10-a8db-8c32-98de"
      },
      {
       "current": "eddbb3b8-483a-11eb-9304-0242ac110002-10-d5ec-af60-742b-4ce4-4c91-a240-18ba-23f4-5200-fc13",
       "next": "fe1b1df8-7356-11eb-b80d-0242ac110002-2-8111-f4d2",
       "previous": "fe1b1df8-7356-11eb-b80d-0242ac110002-3-8111-f4d2-482e"
      },
      {
       "current": "eddbb3b8-483a-11eb-9304-0242ac110002-11-af60-742b-4ce4-4c91-a240-18ba-23f4-5200-fc13-3dcb",
       "next": "fe1b1df8-7356-11eb-b80d-0242ac110002-3-8111-f4d2-c44c",
       "previous": "fe1b1df8-7356-11eb-b80d-0242ac110002-3-8111-f4d2-482e"
      },
      {
       "current": "eddbb3b8-483a-11eb-9304-0242ac110002-11-af60-742b-4ce4-4c91-a240-18ba-23f4-5200-fc13-3dcb",
       "next": "fe1b1df8-7356-11eb-b80d-0242ac110002-3-8111-f4d2-c44c",
       "previous": "fe1b1df8-7356-11eb-b80d-0242ac110002-3-8111-f4d2-482e"
      }
     ],
     "next": "fe1b1df8-7356-11eb-b80d-0242ac110002-4-8111-f4d2-c44c-0a94",
     "previous": "fe1b1df8-7356-11eb-b80d-0242ac110002-4-8111-f4d2-482e-2707"
    },
    "lc_wrapper": {
     "log_history": [
      "/home/jovyan/digraj202103/.log/20201227/20201227-123255-0960.log",
      "/home/jovyan/digraj202103/.log/20201228/20201228-015229-0655.log",
      "/home/jovyan/digraj202103/.log/20201228/20201228-115343-0315.log",
      "/home/jovyan/digraj202103/.log/20201229/20201229-045845-0353.log",
      "/home/jovyan/digraj202103/.log/20201229/20201229-085922-0078.log",
      "/home/jovyan/digraj202103/.log/20201230/20201230-012101-0747.log",
      "/home/jovyan/digraj202103/.log/20210211/20210211-064721-0881.log",
      "/home/jovyan/digraj202103/.log/20210213/20210213-064715-0389.log",
      "/home/jovyan/digraj202103/.log/20210220/20210220-114055-0757.log",
      "/home/jovyan/digraj202103/.log/20210220/20210220-125010-0477.log",
      "/home/jovyan/digraj202103/.log/20210313/20210313-051606-0212.log",
      "/home/jovyan/digraj202103/.log/20210313/20210313-074426-0073.log",
      "/home/jovyan/digraj202103/.log/20210313/20210313-080453-0530.log",
      "/home/jovyan/digraj202103/.log/20210314/20210314-044402-0372.log",
      "/home/jovyan/digraj202103/.log/20210314/20210314-080048-0600.log"
     ]
    },
    "slideshow": {
     "slide_type": "-"
    }
   },
   "outputs": [],
   "source": [
    "!cat gamemech.dot"
   ]
  },
  {
   "cell_type": "markdown",
   "metadata": {
    "lc_cell_meme": {
     "current": "fe1b1df8-7356-11eb-b80d-0242ac110002-4-8111-f4d2-c44c-0a94",
     "history": [
      {
       "current": "fe1b1df8-7356-11eb-b80d-0242ac110002",
       "next": "d78c1eb6-41bb-11eb-aed8-0242ac110002-13-4f22-5e66-9e78-7162-d1e6-0843-cc27-ab6c-f3ec-4828",
       "previous": "d78c1df8-41bb-11eb-aed8-0242ac110002-13-bb1c-7bd2-2485-dce0-a8e1-57c3-9485-b396-5a3c-1b24"
      },
      {
       "current": "fe1b1df8-7356-11eb-b80d-0242ac110002",
       "next": "d4ae1366-7357-11eb-b80d-0242ac110002",
       "previous": "d78c1df8-41bb-11eb-aed8-0242ac110002-13-bb1c-7bd2-2485-dce0-a8e1-57c3-9485-b396-5a3c-1b24"
      },
      {
       "current": "fe1b1df8-7356-11eb-b80d-0242ac110002",
       "next": "d4ae1366-7357-11eb-b80d-0242ac110002",
       "previous": "fe1b1df8-7356-11eb-b80d-0242ac110002-1-3562"
      },
      {
       "current": "fe1b1df8-7356-11eb-b80d-0242ac110002-1-8111",
       "next": "d4ae1366-7357-11eb-b80d-0242ac110002-1-a8ba",
       "previous": "fe1b1df8-7356-11eb-b80d-0242ac110002-1-3562"
      },
      {
       "current": "fe1b1df8-7356-11eb-b80d-0242ac110002-2-8111-f4d2",
       "next": "d4ae1366-7357-11eb-b80d-0242ac110002-2-a8ba-f968",
       "previous": "fe1b1df8-7356-11eb-b80d-0242ac110002-2-3562-7946"
      },
      {
       "current": "fe1b1df8-7356-11eb-b80d-0242ac110002-2-8111-f4d2",
       "next": "d4ae1366-7357-11eb-b80d-0242ac110002-3-a8ba-f968-2a55",
       "previous": "fe1b1df8-7356-11eb-b80d-0242ac110002-3-3562-7946-a8fd"
      },
      {
       "current": "fe1b1df8-7356-11eb-b80d-0242ac110002-2-8111-f4d2",
       "next": "d4ae1366-7357-11eb-b80d-0242ac110002-3-a8ba-f968-2a55",
       "previous": "fe1b1df8-7356-11eb-b80d-0242ac110002-3-8111-f4d2-482e"
      },
      {
       "current": "fe1b1df8-7356-11eb-b80d-0242ac110002-3-8111-f4d2-c44c",
       "next": "d4ae1366-7357-11eb-b80d-0242ac110002-3-a8ba-f968-2a55",
       "previous": "eddbb3b8-483a-11eb-9304-0242ac110002-10-d5ec-af60-742b-4ce4-4c91-a240-18ba-23f4-5200-fc13"
      },
      {
       "current": "fe1b1df8-7356-11eb-b80d-0242ac110002-3-8111-f4d2-c44c",
       "next": "d78c2000-41bb-11eb-aed8-0242ac110002-15-e2c1-30af-3e00-1217-6a3d-eaa6-65aa-0669-679e-c094",
       "previous": "eddbb3b8-483a-11eb-9304-0242ac110002-10-d5ec-af60-742b-4ce4-4c91-a240-18ba-23f4-5200-fc13"
      },
      {
       "current": "fe1b1df8-7356-11eb-b80d-0242ac110002-3-8111-f4d2-c44c",
       "next": "d78c2000-41bb-11eb-aed8-0242ac110002-16-30af-3e00-1217-6a3d-eaa6-65aa-0669-679e-c094-e2e0",
       "previous": "eddbb3b8-483a-11eb-9304-0242ac110002-10-d5ec-af60-742b-4ce4-4c91-a240-18ba-23f4-5200-fc13"
      },
      {
       "current": "fe1b1df8-7356-11eb-b80d-0242ac110002-3-8111-f4d2-c44c",
       "next": "d78c2000-41bb-11eb-aed8-0242ac110002-15-e2c1-30af-3e00-1217-6a3d-eaa6-65aa-0669-679e-c094",
       "previous": "eddbb3b8-483a-11eb-9304-0242ac110002-10-d5ec-af60-742b-4ce4-4c91-a240-18ba-23f4-5200-fc13"
      },
      {
       "current": "fe1b1df8-7356-11eb-b80d-0242ac110002-4-8111-f4d2-c44c-0a94",
       "next": "d78c2000-41bb-11eb-aed8-0242ac110002-16-30af-3e00-1217-6a3d-eaa6-65aa-0669-679e-c094-181e",
       "previous": "eddbb3b8-483a-11eb-9304-0242ac110002-10-d5ec-af60-742b-4ce4-4c91-a240-18ba-23f4-5200-fc13"
      },
      {
       "current": "fe1b1df8-7356-11eb-b80d-0242ac110002-4-8111-f4d2-c44c-0a94",
       "next": "d78c2000-41bb-11eb-aed8-0242ac110002-16-30af-3e00-1217-6a3d-eaa6-65aa-0669-679e-c094-181e",
       "previous": "eddbb3b8-483a-11eb-9304-0242ac110002-10-d5ec-af60-742b-4ce4-4c91-a240-18ba-23f4-5200-fc13"
      }
     ],
     "next": "d78c2000-41bb-11eb-aed8-0242ac110002-17-3e00-1217-6a3d-eaa6-65aa-0669-679e-c094-181e-a157",
     "previous": "eddbb3b8-483a-11eb-9304-0242ac110002-11-af60-742b-4ce4-4c91-a240-18ba-23f4-5200-fc13-3dcb"
    },
    "slideshow": {
     "slide_type": "slide"
    }
   },
   "source": [
    "データをPythonで読み込んで加工する準備を行う。"
   ]
  },
  {
   "cell_type": "code",
   "execution_count": null,
   "metadata": {
    "colab": {
     "base_uri": "https://localhost:8080/"
    },
    "id": "owXZzLeWj52X",
    "lc_cell_meme": {
     "current": "d78c2000-41bb-11eb-aed8-0242ac110002-17-3e00-1217-6a3d-eaa6-65aa-0669-679e-c094-181e-a157",
     "history": [
      {
       "current": "d78c2000-41bb-11eb-aed8-0242ac110002-1-aaa2",
       "next": "d78c20a0-41bb-11eb-aed8-0242ac110002",
       "previous": "d78c1f60-41bb-11eb-aed8-0242ac110002"
      },
      {
       "current": "d78c2000-41bb-11eb-aed8-0242ac110002-2-aaa2-8116",
       "next": "d78c20a0-41bb-11eb-aed8-0242ac110002-1-0af4",
       "previous": "d78c1f60-41bb-11eb-aed8-0242ac110002-1-97f2"
      },
      {
       "current": "d78c2000-41bb-11eb-aed8-0242ac110002-3-aaa2-8116-378f",
       "next": "d78c20a0-41bb-11eb-aed8-0242ac110002-2-0af4-30e3",
       "previous": "d78c1f60-41bb-11eb-aed8-0242ac110002-2-97f2-86c1"
      },
      {
       "current": "d78c2000-41bb-11eb-aed8-0242ac110002-4-aaa2-8116-378f-e30c",
       "next": "d78c20a0-41bb-11eb-aed8-0242ac110002-3-0af4-30e3-376c",
       "previous": "d78c1f60-41bb-11eb-aed8-0242ac110002-3-97f2-86c1-1819"
      },
      {
       "current": "d78c2000-41bb-11eb-aed8-0242ac110002-5-aaa2-8116-378f-e30c-fd8f",
       "next": "d78c20a0-41bb-11eb-aed8-0242ac110002-4-0af4-30e3-376c-0667",
       "previous": "d78c1f60-41bb-11eb-aed8-0242ac110002-4-97f2-86c1-1819-7e71"
      },
      {
       "current": "d78c2000-41bb-11eb-aed8-0242ac110002-6-aaa2-8116-378f-e30c-fd8f-e2c1",
       "next": "d78c20a0-41bb-11eb-aed8-0242ac110002-5-0af4-30e3-376c-0667-5aa8",
       "previous": "d78c1f60-41bb-11eb-aed8-0242ac110002-5-97f2-86c1-1819-7e71-d44b"
      },
      {
       "current": "d78c2000-41bb-11eb-aed8-0242ac110002-7-aaa2-8116-378f-e30c-fd8f-e2c1-30af",
       "next": "d78c20a0-41bb-11eb-aed8-0242ac110002-6-0af4-30e3-376c-0667-5aa8-5207",
       "previous": "d78c1f60-41bb-11eb-aed8-0242ac110002-6-97f2-86c1-1819-7e71-d44b-3237"
      },
      {
       "current": "d78c2000-41bb-11eb-aed8-0242ac110002-8-aaa2-8116-378f-e30c-fd8f-e2c1-30af-3e00",
       "next": "d78c20a0-41bb-11eb-aed8-0242ac110002-7-0af4-30e3-376c-0667-5aa8-5207-83bf",
       "previous": "d78c1f60-41bb-11eb-aed8-0242ac110002-7-97f2-86c1-1819-7e71-d44b-3237-fbf8"
      },
      {
       "current": "d78c2000-41bb-11eb-aed8-0242ac110002-9-aaa2-8116-378f-e30c-fd8f-e2c1-30af-3e00-1217",
       "next": "d78c20a0-41bb-11eb-aed8-0242ac110002-8-0af4-30e3-376c-0667-5aa8-5207-83bf-e085",
       "previous": "d78c1f60-41bb-11eb-aed8-0242ac110002-8-97f2-86c1-1819-7e71-d44b-3237-fbf8-a857"
      },
      {
       "current": "d78c2000-41bb-11eb-aed8-0242ac110002-10-aaa2-8116-378f-e30c-fd8f-e2c1-30af-3e00-1217-6a3d",
       "next": "d78c20a0-41bb-11eb-aed8-0242ac110002-9-0af4-30e3-376c-0667-5aa8-5207-83bf-e085-5a2d",
       "previous": "d78c1f60-41bb-11eb-aed8-0242ac110002-9-97f2-86c1-1819-7e71-d44b-3237-fbf8-a857-5e4b"
      },
      {
       "current": "d78c2000-41bb-11eb-aed8-0242ac110002-11-8116-378f-e30c-fd8f-e2c1-30af-3e00-1217-6a3d-eaa6",
       "next": "d78c20a0-41bb-11eb-aed8-0242ac110002-10-0af4-30e3-376c-0667-5aa8-5207-83bf-e085-5a2d-6e02",
       "previous": "d78c1f60-41bb-11eb-aed8-0242ac110002-10-97f2-86c1-1819-7e71-d44b-3237-fbf8-a857-5e4b-a914"
      },
      {
       "current": "d78c2000-41bb-11eb-aed8-0242ac110002-12-378f-e30c-fd8f-e2c1-30af-3e00-1217-6a3d-eaa6-65aa",
       "next": "d78c20a0-41bb-11eb-aed8-0242ac110002-11-30e3-376c-0667-5aa8-5207-83bf-e085-5a2d-6e02-5cb2",
       "previous": "d78c1f60-41bb-11eb-aed8-0242ac110002-11-86c1-1819-7e71-d44b-3237-fbf8-a857-5e4b-a914-8ff4"
      },
      {
       "current": "d78c2000-41bb-11eb-aed8-0242ac110002-13-e30c-fd8f-e2c1-30af-3e00-1217-6a3d-eaa6-65aa-0669",
       "next": "d78c20a0-41bb-11eb-aed8-0242ac110002-12-376c-0667-5aa8-5207-83bf-e085-5a2d-6e02-5cb2-df2d",
       "previous": "d78c1f60-41bb-11eb-aed8-0242ac110002-12-1819-7e71-d44b-3237-fbf8-a857-5e4b-a914-8ff4-5da7"
      },
      {
       "current": "d78c2000-41bb-11eb-aed8-0242ac110002-14-fd8f-e2c1-30af-3e00-1217-6a3d-eaa6-65aa-0669-679e",
       "next": "d78c20a0-41bb-11eb-aed8-0242ac110002-13-0667-5aa8-5207-83bf-e085-5a2d-6e02-5cb2-df2d-a0dc",
       "previous": "d78c1f60-41bb-11eb-aed8-0242ac110002-13-7e71-d44b-3237-fbf8-a857-5e4b-a914-8ff4-5da7-eebf"
      },
      {
       "current": "d78c2000-41bb-11eb-aed8-0242ac110002-14-fd8f-e2c1-30af-3e00-1217-6a3d-eaa6-65aa-0669-679e",
       "next": "d78c20a0-41bb-11eb-aed8-0242ac110002-14-5aa8-5207-83bf-e085-5a2d-6e02-5cb2-df2d-a0dc-c655",
       "previous": "d78c1f60-41bb-11eb-aed8-0242ac110002-14-d44b-3237-fbf8-a857-5e4b-a914-8ff4-5da7-eebf-0a7f"
      },
      {
       "current": "d78c2000-41bb-11eb-aed8-0242ac110002-15-e2c1-30af-3e00-1217-6a3d-eaa6-65aa-0669-679e-c094",
       "next": "d78c214a-41bb-11eb-aed8-0242ac110002-14-159a-8a96-445f-79df-182c-5880-f355-516f-8394-f7f9",
       "previous": "f2c7e038-7358-11eb-b80d-0242ac110002-2-6f31-0df0"
      },
      {
       "current": "d78c2000-41bb-11eb-aed8-0242ac110002-15-e2c1-30af-3e00-1217-6a3d-eaa6-65aa-0669-679e-c094",
       "next": "d78c214a-41bb-11eb-aed8-0242ac110002-15-8a96-445f-79df-182c-5880-f355-516f-8394-f7f9-0886",
       "previous": "f2c7e038-7358-11eb-b80d-0242ac110002-3-6f31-0df0-55b2"
      },
      {
       "current": "d78c2000-41bb-11eb-aed8-0242ac110002-15-e2c1-30af-3e00-1217-6a3d-eaa6-65aa-0669-679e-c094",
       "next": "d78c214a-41bb-11eb-aed8-0242ac110002-15-8a96-445f-79df-182c-5880-f355-516f-8394-f7f9-0886",
       "previous": "d4ae1366-7357-11eb-b80d-0242ac110002-2-1242-9a56"
      },
      {
       "current": "d78c2000-41bb-11eb-aed8-0242ac110002-15-e2c1-30af-3e00-1217-6a3d-eaa6-65aa-0669-679e-c094",
       "next": "d78c214a-41bb-11eb-aed8-0242ac110002-15-8a96-445f-79df-182c-5880-f355-516f-8394-f7f9-0886",
       "previous": "fe1b1df8-7356-11eb-b80d-0242ac110002-3-8111-f4d2-c44c"
      },
      {
       "current": "d78c2000-41bb-11eb-aed8-0242ac110002-15-e2c1-30af-3e00-1217-6a3d-eaa6-65aa-0669-679e-c094",
       "next": "fc5c69ee-83ba-11eb-a693-0242ac110002",
       "previous": "fe1b1df8-7356-11eb-b80d-0242ac110002-3-8111-f4d2-c44c"
      },
      {
       "current": "d78c2000-41bb-11eb-aed8-0242ac110002-15-e2c1-30af-3e00-1217-6a3d-eaa6-65aa-0669-679e-c094",
       "next": "fc5c69ee-83ba-11eb-a693-0242ac110002",
       "previous": "d78c2000-41bb-11eb-aed8-0242ac110002-16-30af-3e00-1217-6a3d-eaa6-65aa-0669-679e-c094-e2e0"
      },
      {
       "current": "d78c2000-41bb-11eb-aed8-0242ac110002-16-30af-3e00-1217-6a3d-eaa6-65aa-0669-679e-c094-181e",
       "next": "fc5c69ee-83ba-11eb-a693-0242ac110002",
       "previous": "fe1b1df8-7356-11eb-b80d-0242ac110002-3-8111-f4d2-c44c"
      },
      {
       "current": "d78c2000-41bb-11eb-aed8-0242ac110002-16-30af-3e00-1217-6a3d-eaa6-65aa-0669-679e-c094-181e",
       "next": "d78c2000-41bb-11eb-aed8-0242ac110002-15-e2c1-30af-3e00-1217-6a3d-eaa6-65aa-0669-679e-c094",
       "previous": "fe1b1df8-7356-11eb-b80d-0242ac110002-3-8111-f4d2-c44c"
      },
      {
       "current": "d78c2000-41bb-11eb-aed8-0242ac110002-16-30af-3e00-1217-6a3d-eaa6-65aa-0669-679e-c094-181e",
       "next": "61fce156-83bc-11eb-a693-0242ac110002",
       "previous": "fe1b1df8-7356-11eb-b80d-0242ac110002-3-8111-f4d2-c44c"
      },
      {
       "current": "d78c2000-41bb-11eb-aed8-0242ac110002-17-3e00-1217-6a3d-eaa6-65aa-0669-679e-c094-181e-a157",
       "next": "61fce156-83bc-11eb-a693-0242ac110002-1-c502",
       "previous": "fe1b1df8-7356-11eb-b80d-0242ac110002-3-8111-f4d2-c44c"
      },
      {
       "current": "d78c2000-41bb-11eb-aed8-0242ac110002-17-3e00-1217-6a3d-eaa6-65aa-0669-679e-c094-181e-a157",
       "next": "61fce156-83bc-11eb-a693-0242ac110002-1-c502",
       "previous": "fe1b1df8-7356-11eb-b80d-0242ac110002-3-8111-f4d2-c44c"
      }
     ],
     "next": "61fce156-83bc-11eb-a693-0242ac110002-2-c502-0217",
     "previous": "fe1b1df8-7356-11eb-b80d-0242ac110002-4-8111-f4d2-c44c-0a94"
    },
    "lc_wrapper": {
     "log_history": [
      "/home/jovyan/digraj202103/.log/20201219/20201219-053226-0211.log",
      "/home/jovyan/digraj202103/.log/20201219/20201219-053258-0519.log",
      "/home/jovyan/digraj202103/.log/20201219/20201219-054507-0160.log",
      "/home/jovyan/digraj202103/.log/20201219/20201219-054710-0550.log",
      "/home/jovyan/digraj202103/.log/20201219/20201219-075917-0188.log",
      "/home/jovyan/digraj202103/.log/20201225/20201225-074628-0312.log",
      "/home/jovyan/digraj202103/.log/20201225/20201225-132012-0996.log",
      "/home/jovyan/digraj202103/.log/20201226/20201226-133530-0742.log",
      "/home/jovyan/digraj202103/.log/20201226/20201226-143459-0668.log",
      "/home/jovyan/digraj202103/.log/20201227/20201227-123158-0140.log",
      "/home/jovyan/digraj202103/.log/20201228/20201228-014934-0405.log",
      "/home/jovyan/digraj202103/.log/20201228/20201228-115310-0061.log",
      "/home/jovyan/digraj202103/.log/20201229/20201229-045812-0335.log",
      "/home/jovyan/digraj202103/.log/20201229/20201229-085911-0831.log",
      "/home/jovyan/digraj202103/.log/20201230/20201230-012031-0815.log",
      "/home/jovyan/digraj202103/.log/20210211/20210211-064646-0887.log",
      "/home/jovyan/digraj202103/.log/20210213/20210213-064646-0071.log",
      "/home/jovyan/digraj202103/.log/20210220/20210220-114107-0158.log",
      "/home/jovyan/digraj202103/.log/20210220/20210220-125011-0043.log",
      "/home/jovyan/digraj202103/.log/20210313/20210313-051618-0693.log",
      "/home/jovyan/digraj202103/.log/20210313/20210313-051633-0440.log",
      "/home/jovyan/digraj202103/.log/20210313/20210313-051727-0391.log",
      "/home/jovyan/digraj202103/.log/20210313/20210313-051856-0609.log",
      "/home/jovyan/digraj202103/.log/20210313/20210313-074505-0712.log",
      "/home/jovyan/digraj202103/.log/20210313/20210313-075210-0385.log",
      "/home/jovyan/digraj202103/.log/20210313/20210313-080503-0094.log",
      "/home/jovyan/digraj202103/.log/20210313/20210313-081007-0333.log",
      "/home/jovyan/digraj202103/.log/20210314/20210314-044407-0539.log",
      "/home/jovyan/digraj202103/.log/20210314/20210314-080142-0891.log"
     ]
    },
    "outputId": "05c91029-f73d-42ef-a3e9-05f2fe98de73"
   },
   "outputs": [],
   "source": [
    "from pygraphviz import *\n",
    "g = AGraph(\"gamemech.dot\")\n",
    "\n",
    "nodes = g.nodes()\n",
    "edges = g.edges()"
   ]
  },
  {
   "cell_type": "markdown",
   "metadata": {
    "lc_cell_meme": {
     "current": "61fce156-83bc-11eb-a693-0242ac110002-2-c502-0217",
     "execution_end_time": "2021-03-13T05:28:43.666172Z",
     "history": [
      {
       "current": "61fce156-83bc-11eb-a693-0242ac110002",
       "next": "d78c2000-41bb-11eb-aed8-0242ac110002-15-e2c1-30af-3e00-1217-6a3d-eaa6-65aa-0669-679e-c094",
       "previous": "d78c2000-41bb-11eb-aed8-0242ac110002-16-30af-3e00-1217-6a3d-eaa6-65aa-0669-679e-c094-181e"
      },
      {
       "current": "61fce156-83bc-11eb-a693-0242ac110002-1-c502",
       "next": "d78c2000-41bb-11eb-aed8-0242ac110002-16-30af-3e00-1217-6a3d-eaa6-65aa-0669-679e-c094-2490",
       "previous": "d78c2000-41bb-11eb-aed8-0242ac110002-16-30af-3e00-1217-6a3d-eaa6-65aa-0669-679e-c094-181e"
      },
      {
       "current": "61fce156-83bc-11eb-a693-0242ac110002-1-c502",
       "next": "d78c2000-41bb-11eb-aed8-0242ac110002-17-3e00-1217-6a3d-eaa6-65aa-0669-679e-c094-2490-e812",
       "previous": "d78c2000-41bb-11eb-aed8-0242ac110002-16-30af-3e00-1217-6a3d-eaa6-65aa-0669-679e-c094-181e"
      },
      {
       "current": "61fce156-83bc-11eb-a693-0242ac110002-2-c502-0217",
       "next": "d78c2000-41bb-11eb-aed8-0242ac110002-18-1217-6a3d-eaa6-65aa-0669-679e-c094-2490-e812-fdc3",
       "previous": "d78c2000-41bb-11eb-aed8-0242ac110002-16-30af-3e00-1217-6a3d-eaa6-65aa-0669-679e-c094-181e"
      },
      {
       "current": "61fce156-83bc-11eb-a693-0242ac110002-2-c502-0217",
       "next": "d78c2000-41bb-11eb-aed8-0242ac110002-18-1217-6a3d-eaa6-65aa-0669-679e-c094-2490-e812-fdc3",
       "previous": "d78c2000-41bb-11eb-aed8-0242ac110002-16-30af-3e00-1217-6a3d-eaa6-65aa-0669-679e-c094-181e"
      }
     ],
     "next": "d78c2000-41bb-11eb-aed8-0242ac110002-19-6a3d-eaa6-65aa-0669-679e-c094-2490-e812-fdc3-d550",
     "previous": "d78c2000-41bb-11eb-aed8-0242ac110002-17-3e00-1217-6a3d-eaa6-65aa-0669-679e-c094-181e-a157"
    },
    "lc_wrapper": {
     "log_history": [
      "/home/jovyan/digraj202103/.log/20210313/20210313-052843-0656.log"
     ]
    },
    "slideshow": {
     "slide_type": "slide"
    }
   },
   "source": [
    "隣接行列を対角線で折り返し上三角行列化することで、参照情報を無方向グラフ化し、双方向な参照情報とする（正規化）。\n",
    "ついでに元々参照が双方向だったものも数え上げておく。"
   ]
  },
  {
   "cell_type": "code",
   "execution_count": null,
   "metadata": {
    "colab": {
     "base_uri": "https://localhost:8080/"
    },
    "id": "owXZzLeWj52X",
    "lc_cell_meme": {
     "current": "d78c2000-41bb-11eb-aed8-0242ac110002-19-6a3d-eaa6-65aa-0669-679e-c094-2490-e812-fdc3-d550",
     "history": [
      {
       "current": "d78c2000-41bb-11eb-aed8-0242ac110002-1-aaa2",
       "next": "d78c20a0-41bb-11eb-aed8-0242ac110002",
       "previous": "d78c1f60-41bb-11eb-aed8-0242ac110002"
      },
      {
       "current": "d78c2000-41bb-11eb-aed8-0242ac110002-2-aaa2-8116",
       "next": "d78c20a0-41bb-11eb-aed8-0242ac110002-1-0af4",
       "previous": "d78c1f60-41bb-11eb-aed8-0242ac110002-1-97f2"
      },
      {
       "current": "d78c2000-41bb-11eb-aed8-0242ac110002-3-aaa2-8116-378f",
       "next": "d78c20a0-41bb-11eb-aed8-0242ac110002-2-0af4-30e3",
       "previous": "d78c1f60-41bb-11eb-aed8-0242ac110002-2-97f2-86c1"
      },
      {
       "current": "d78c2000-41bb-11eb-aed8-0242ac110002-4-aaa2-8116-378f-e30c",
       "next": "d78c20a0-41bb-11eb-aed8-0242ac110002-3-0af4-30e3-376c",
       "previous": "d78c1f60-41bb-11eb-aed8-0242ac110002-3-97f2-86c1-1819"
      },
      {
       "current": "d78c2000-41bb-11eb-aed8-0242ac110002-5-aaa2-8116-378f-e30c-fd8f",
       "next": "d78c20a0-41bb-11eb-aed8-0242ac110002-4-0af4-30e3-376c-0667",
       "previous": "d78c1f60-41bb-11eb-aed8-0242ac110002-4-97f2-86c1-1819-7e71"
      },
      {
       "current": "d78c2000-41bb-11eb-aed8-0242ac110002-6-aaa2-8116-378f-e30c-fd8f-e2c1",
       "next": "d78c20a0-41bb-11eb-aed8-0242ac110002-5-0af4-30e3-376c-0667-5aa8",
       "previous": "d78c1f60-41bb-11eb-aed8-0242ac110002-5-97f2-86c1-1819-7e71-d44b"
      },
      {
       "current": "d78c2000-41bb-11eb-aed8-0242ac110002-7-aaa2-8116-378f-e30c-fd8f-e2c1-30af",
       "next": "d78c20a0-41bb-11eb-aed8-0242ac110002-6-0af4-30e3-376c-0667-5aa8-5207",
       "previous": "d78c1f60-41bb-11eb-aed8-0242ac110002-6-97f2-86c1-1819-7e71-d44b-3237"
      },
      {
       "current": "d78c2000-41bb-11eb-aed8-0242ac110002-8-aaa2-8116-378f-e30c-fd8f-e2c1-30af-3e00",
       "next": "d78c20a0-41bb-11eb-aed8-0242ac110002-7-0af4-30e3-376c-0667-5aa8-5207-83bf",
       "previous": "d78c1f60-41bb-11eb-aed8-0242ac110002-7-97f2-86c1-1819-7e71-d44b-3237-fbf8"
      },
      {
       "current": "d78c2000-41bb-11eb-aed8-0242ac110002-9-aaa2-8116-378f-e30c-fd8f-e2c1-30af-3e00-1217",
       "next": "d78c20a0-41bb-11eb-aed8-0242ac110002-8-0af4-30e3-376c-0667-5aa8-5207-83bf-e085",
       "previous": "d78c1f60-41bb-11eb-aed8-0242ac110002-8-97f2-86c1-1819-7e71-d44b-3237-fbf8-a857"
      },
      {
       "current": "d78c2000-41bb-11eb-aed8-0242ac110002-10-aaa2-8116-378f-e30c-fd8f-e2c1-30af-3e00-1217-6a3d",
       "next": "d78c20a0-41bb-11eb-aed8-0242ac110002-9-0af4-30e3-376c-0667-5aa8-5207-83bf-e085-5a2d",
       "previous": "d78c1f60-41bb-11eb-aed8-0242ac110002-9-97f2-86c1-1819-7e71-d44b-3237-fbf8-a857-5e4b"
      },
      {
       "current": "d78c2000-41bb-11eb-aed8-0242ac110002-11-8116-378f-e30c-fd8f-e2c1-30af-3e00-1217-6a3d-eaa6",
       "next": "d78c20a0-41bb-11eb-aed8-0242ac110002-10-0af4-30e3-376c-0667-5aa8-5207-83bf-e085-5a2d-6e02",
       "previous": "d78c1f60-41bb-11eb-aed8-0242ac110002-10-97f2-86c1-1819-7e71-d44b-3237-fbf8-a857-5e4b-a914"
      },
      {
       "current": "d78c2000-41bb-11eb-aed8-0242ac110002-12-378f-e30c-fd8f-e2c1-30af-3e00-1217-6a3d-eaa6-65aa",
       "next": "d78c20a0-41bb-11eb-aed8-0242ac110002-11-30e3-376c-0667-5aa8-5207-83bf-e085-5a2d-6e02-5cb2",
       "previous": "d78c1f60-41bb-11eb-aed8-0242ac110002-11-86c1-1819-7e71-d44b-3237-fbf8-a857-5e4b-a914-8ff4"
      },
      {
       "current": "d78c2000-41bb-11eb-aed8-0242ac110002-13-e30c-fd8f-e2c1-30af-3e00-1217-6a3d-eaa6-65aa-0669",
       "next": "d78c20a0-41bb-11eb-aed8-0242ac110002-12-376c-0667-5aa8-5207-83bf-e085-5a2d-6e02-5cb2-df2d",
       "previous": "d78c1f60-41bb-11eb-aed8-0242ac110002-12-1819-7e71-d44b-3237-fbf8-a857-5e4b-a914-8ff4-5da7"
      },
      {
       "current": "d78c2000-41bb-11eb-aed8-0242ac110002-14-fd8f-e2c1-30af-3e00-1217-6a3d-eaa6-65aa-0669-679e",
       "next": "d78c20a0-41bb-11eb-aed8-0242ac110002-13-0667-5aa8-5207-83bf-e085-5a2d-6e02-5cb2-df2d-a0dc",
       "previous": "d78c1f60-41bb-11eb-aed8-0242ac110002-13-7e71-d44b-3237-fbf8-a857-5e4b-a914-8ff4-5da7-eebf"
      },
      {
       "current": "d78c2000-41bb-11eb-aed8-0242ac110002-14-fd8f-e2c1-30af-3e00-1217-6a3d-eaa6-65aa-0669-679e",
       "next": "d78c20a0-41bb-11eb-aed8-0242ac110002-14-5aa8-5207-83bf-e085-5a2d-6e02-5cb2-df2d-a0dc-c655",
       "previous": "d78c1f60-41bb-11eb-aed8-0242ac110002-14-d44b-3237-fbf8-a857-5e4b-a914-8ff4-5da7-eebf-0a7f"
      },
      {
       "current": "d78c2000-41bb-11eb-aed8-0242ac110002-15-e2c1-30af-3e00-1217-6a3d-eaa6-65aa-0669-679e-c094",
       "next": "d78c214a-41bb-11eb-aed8-0242ac110002-14-159a-8a96-445f-79df-182c-5880-f355-516f-8394-f7f9",
       "previous": "f2c7e038-7358-11eb-b80d-0242ac110002-2-6f31-0df0"
      },
      {
       "current": "d78c2000-41bb-11eb-aed8-0242ac110002-15-e2c1-30af-3e00-1217-6a3d-eaa6-65aa-0669-679e-c094",
       "next": "d78c214a-41bb-11eb-aed8-0242ac110002-15-8a96-445f-79df-182c-5880-f355-516f-8394-f7f9-0886",
       "previous": "f2c7e038-7358-11eb-b80d-0242ac110002-3-6f31-0df0-55b2"
      },
      {
       "current": "d78c2000-41bb-11eb-aed8-0242ac110002-15-e2c1-30af-3e00-1217-6a3d-eaa6-65aa-0669-679e-c094",
       "next": "d78c214a-41bb-11eb-aed8-0242ac110002-15-8a96-445f-79df-182c-5880-f355-516f-8394-f7f9-0886",
       "previous": "d4ae1366-7357-11eb-b80d-0242ac110002-2-1242-9a56"
      },
      {
       "current": "d78c2000-41bb-11eb-aed8-0242ac110002-15-e2c1-30af-3e00-1217-6a3d-eaa6-65aa-0669-679e-c094",
       "next": "d78c214a-41bb-11eb-aed8-0242ac110002-15-8a96-445f-79df-182c-5880-f355-516f-8394-f7f9-0886",
       "previous": "fe1b1df8-7356-11eb-b80d-0242ac110002-3-8111-f4d2-c44c"
      },
      {
       "current": "d78c2000-41bb-11eb-aed8-0242ac110002-15-e2c1-30af-3e00-1217-6a3d-eaa6-65aa-0669-679e-c094",
       "next": "fc5c69ee-83ba-11eb-a693-0242ac110002",
       "previous": "fe1b1df8-7356-11eb-b80d-0242ac110002-3-8111-f4d2-c44c"
      },
      {
       "current": "d78c2000-41bb-11eb-aed8-0242ac110002-15-e2c1-30af-3e00-1217-6a3d-eaa6-65aa-0669-679e-c094",
       "next": "fc5c69ee-83ba-11eb-a693-0242ac110002",
       "previous": "d78c2000-41bb-11eb-aed8-0242ac110002-16-30af-3e00-1217-6a3d-eaa6-65aa-0669-679e-c094-e2e0"
      },
      {
       "current": "d78c2000-41bb-11eb-aed8-0242ac110002-15-e2c1-30af-3e00-1217-6a3d-eaa6-65aa-0669-679e-c094",
       "next": "fc5c69ee-83ba-11eb-a693-0242ac110002",
       "previous": "fe1b1df8-7356-11eb-b80d-0242ac110002-3-8111-f4d2-c44c"
      },
      {
       "current": "d78c2000-41bb-11eb-aed8-0242ac110002-15-e2c1-30af-3e00-1217-6a3d-eaa6-65aa-0669-679e-c094",
       "next": "fc5c69ee-83ba-11eb-a693-0242ac110002",
       "previous": "d78c2000-41bb-11eb-aed8-0242ac110002-16-30af-3e00-1217-6a3d-eaa6-65aa-0669-679e-c094-181e"
      },
      {
       "current": "d78c2000-41bb-11eb-aed8-0242ac110002-16-30af-3e00-1217-6a3d-eaa6-65aa-0669-679e-c094-2490",
       "next": "fc5c69ee-83ba-11eb-a693-0242ac110002",
       "previous": "61fce156-83bc-11eb-a693-0242ac110002"
      },
      {
       "current": "d78c2000-41bb-11eb-aed8-0242ac110002-16-30af-3e00-1217-6a3d-eaa6-65aa-0669-679e-c094-2490",
       "next": "f10d60c8-83bc-11eb-a693-0242ac110002",
       "previous": "61fce156-83bc-11eb-a693-0242ac110002"
      },
      {
       "current": "d78c2000-41bb-11eb-aed8-0242ac110002-18-1217-6a3d-eaa6-65aa-0669-679e-c094-2490-e812-fdc3",
       "next": "f10d60c8-83bc-11eb-a693-0242ac110002-1-ca76",
       "previous": "61fce156-83bc-11eb-a693-0242ac110002-1-c502"
      },
      {
       "current": "d78c2000-41bb-11eb-aed8-0242ac110002-19-6a3d-eaa6-65aa-0669-679e-c094-2490-e812-fdc3-d550",
       "next": "d78c2000-41bb-11eb-aed8-0242ac110002-17-3e00-1217-6a3d-eaa6-65aa-0669-679e-c094-2490-e812",
       "previous": "61fce156-83bc-11eb-a693-0242ac110002-1-c502"
      },
      {
       "current": "d78c2000-41bb-11eb-aed8-0242ac110002-19-6a3d-eaa6-65aa-0669-679e-c094-2490-e812-fdc3-d550",
       "next": "d78c2000-41bb-11eb-aed8-0242ac110002-17-3e00-1217-6a3d-eaa6-65aa-0669-679e-c094-2490-e812",
       "previous": "61fce156-83bc-11eb-a693-0242ac110002-1-c502"
      }
     ],
     "next": "d78c2000-41bb-11eb-aed8-0242ac110002-18-1217-6a3d-eaa6-65aa-0669-679e-c094-2490-e812-36c2",
     "previous": "61fce156-83bc-11eb-a693-0242ac110002-2-c502-0217"
    },
    "lc_wrapper": {
     "log_history": [
      "/home/jovyan/digraj202103/.log/20201219/20201219-053226-0211.log",
      "/home/jovyan/digraj202103/.log/20201219/20201219-053258-0519.log",
      "/home/jovyan/digraj202103/.log/20201219/20201219-054507-0160.log",
      "/home/jovyan/digraj202103/.log/20201219/20201219-054710-0550.log",
      "/home/jovyan/digraj202103/.log/20201219/20201219-075917-0188.log",
      "/home/jovyan/digraj202103/.log/20201225/20201225-074628-0312.log",
      "/home/jovyan/digraj202103/.log/20201225/20201225-132012-0996.log",
      "/home/jovyan/digraj202103/.log/20201226/20201226-133530-0742.log",
      "/home/jovyan/digraj202103/.log/20201226/20201226-143459-0668.log",
      "/home/jovyan/digraj202103/.log/20201227/20201227-123158-0140.log",
      "/home/jovyan/digraj202103/.log/20201228/20201228-014934-0405.log",
      "/home/jovyan/digraj202103/.log/20201228/20201228-115310-0061.log",
      "/home/jovyan/digraj202103/.log/20201229/20201229-045812-0335.log",
      "/home/jovyan/digraj202103/.log/20201229/20201229-085911-0831.log",
      "/home/jovyan/digraj202103/.log/20201230/20201230-012031-0815.log",
      "/home/jovyan/digraj202103/.log/20210211/20210211-064646-0887.log",
      "/home/jovyan/digraj202103/.log/20210213/20210213-064646-0071.log",
      "/home/jovyan/digraj202103/.log/20210220/20210220-114107-0158.log",
      "/home/jovyan/digraj202103/.log/20210220/20210220-125011-0043.log",
      "/home/jovyan/digraj202103/.log/20210313/20210313-051618-0693.log",
      "/home/jovyan/digraj202103/.log/20210313/20210313-051633-0440.log",
      "/home/jovyan/digraj202103/.log/20210313/20210313-051727-0391.log",
      "/home/jovyan/digraj202103/.log/20210313/20210313-051856-0609.log",
      "/home/jovyan/digraj202103/.log/20210313/20210313-060508-0602.log",
      "/home/jovyan/digraj202103/.log/20210313/20210313-074512-0395.log",
      "/home/jovyan/digraj202103/.log/20210313/20210313-074834-0434.log",
      "/home/jovyan/digraj202103/.log/20210313/20210313-075203-0299.log",
      "/home/jovyan/digraj202103/.log/20210313/20210313-075211-0346.log",
      "/home/jovyan/digraj202103/.log/20210313/20210313-080507-0639.log",
      "/home/jovyan/digraj202103/.log/20210313/20210313-080647-0262.log",
      "/home/jovyan/digraj202103/.log/20210313/20210313-081008-0470.log",
      "/home/jovyan/digraj202103/.log/20210314/20210314-044409-0817.log",
      "/home/jovyan/digraj202103/.log/20210314/20210314-080146-0937.log"
     ]
    },
    "outputId": "05c91029-f73d-42ef-a3e9-05f2fe98de73"
   },
   "outputs": [],
   "source": [
    "c = 0\n",
    "pair = ''\n",
    "for edge in edges:\n",
    "    if nodes.index(edge[0]) > nodes.index(edge[1]):\n",
    "        g.delete_edge(edge[0], edge[1])\n",
    "        if not (edge[1], edge[0]) in edges:\n",
    "            g.add_edge(edge[1], edge[0])\n",
    "        else:\n",
    "            c += 1\n",
    "            pair += \"(\"+edge[1]+\",\"+edge[0]+\"), \" # 参照が双方向のものを抽出"
   ]
  },
  {
   "cell_type": "code",
   "execution_count": null,
   "metadata": {
    "colab": {
     "base_uri": "https://localhost:8080/"
    },
    "id": "owXZzLeWj52X",
    "lc_cell_meme": {
     "current": "d78c2000-41bb-11eb-aed8-0242ac110002-18-1217-6a3d-eaa6-65aa-0669-679e-c094-2490-e812-36c2",
     "history": [
      {
       "current": "d78c2000-41bb-11eb-aed8-0242ac110002-1-aaa2",
       "next": "d78c20a0-41bb-11eb-aed8-0242ac110002",
       "previous": "d78c1f60-41bb-11eb-aed8-0242ac110002"
      },
      {
       "current": "d78c2000-41bb-11eb-aed8-0242ac110002-2-aaa2-8116",
       "next": "d78c20a0-41bb-11eb-aed8-0242ac110002-1-0af4",
       "previous": "d78c1f60-41bb-11eb-aed8-0242ac110002-1-97f2"
      },
      {
       "current": "d78c2000-41bb-11eb-aed8-0242ac110002-3-aaa2-8116-378f",
       "next": "d78c20a0-41bb-11eb-aed8-0242ac110002-2-0af4-30e3",
       "previous": "d78c1f60-41bb-11eb-aed8-0242ac110002-2-97f2-86c1"
      },
      {
       "current": "d78c2000-41bb-11eb-aed8-0242ac110002-4-aaa2-8116-378f-e30c",
       "next": "d78c20a0-41bb-11eb-aed8-0242ac110002-3-0af4-30e3-376c",
       "previous": "d78c1f60-41bb-11eb-aed8-0242ac110002-3-97f2-86c1-1819"
      },
      {
       "current": "d78c2000-41bb-11eb-aed8-0242ac110002-5-aaa2-8116-378f-e30c-fd8f",
       "next": "d78c20a0-41bb-11eb-aed8-0242ac110002-4-0af4-30e3-376c-0667",
       "previous": "d78c1f60-41bb-11eb-aed8-0242ac110002-4-97f2-86c1-1819-7e71"
      },
      {
       "current": "d78c2000-41bb-11eb-aed8-0242ac110002-6-aaa2-8116-378f-e30c-fd8f-e2c1",
       "next": "d78c20a0-41bb-11eb-aed8-0242ac110002-5-0af4-30e3-376c-0667-5aa8",
       "previous": "d78c1f60-41bb-11eb-aed8-0242ac110002-5-97f2-86c1-1819-7e71-d44b"
      },
      {
       "current": "d78c2000-41bb-11eb-aed8-0242ac110002-7-aaa2-8116-378f-e30c-fd8f-e2c1-30af",
       "next": "d78c20a0-41bb-11eb-aed8-0242ac110002-6-0af4-30e3-376c-0667-5aa8-5207",
       "previous": "d78c1f60-41bb-11eb-aed8-0242ac110002-6-97f2-86c1-1819-7e71-d44b-3237"
      },
      {
       "current": "d78c2000-41bb-11eb-aed8-0242ac110002-8-aaa2-8116-378f-e30c-fd8f-e2c1-30af-3e00",
       "next": "d78c20a0-41bb-11eb-aed8-0242ac110002-7-0af4-30e3-376c-0667-5aa8-5207-83bf",
       "previous": "d78c1f60-41bb-11eb-aed8-0242ac110002-7-97f2-86c1-1819-7e71-d44b-3237-fbf8"
      },
      {
       "current": "d78c2000-41bb-11eb-aed8-0242ac110002-9-aaa2-8116-378f-e30c-fd8f-e2c1-30af-3e00-1217",
       "next": "d78c20a0-41bb-11eb-aed8-0242ac110002-8-0af4-30e3-376c-0667-5aa8-5207-83bf-e085",
       "previous": "d78c1f60-41bb-11eb-aed8-0242ac110002-8-97f2-86c1-1819-7e71-d44b-3237-fbf8-a857"
      },
      {
       "current": "d78c2000-41bb-11eb-aed8-0242ac110002-10-aaa2-8116-378f-e30c-fd8f-e2c1-30af-3e00-1217-6a3d",
       "next": "d78c20a0-41bb-11eb-aed8-0242ac110002-9-0af4-30e3-376c-0667-5aa8-5207-83bf-e085-5a2d",
       "previous": "d78c1f60-41bb-11eb-aed8-0242ac110002-9-97f2-86c1-1819-7e71-d44b-3237-fbf8-a857-5e4b"
      },
      {
       "current": "d78c2000-41bb-11eb-aed8-0242ac110002-11-8116-378f-e30c-fd8f-e2c1-30af-3e00-1217-6a3d-eaa6",
       "next": "d78c20a0-41bb-11eb-aed8-0242ac110002-10-0af4-30e3-376c-0667-5aa8-5207-83bf-e085-5a2d-6e02",
       "previous": "d78c1f60-41bb-11eb-aed8-0242ac110002-10-97f2-86c1-1819-7e71-d44b-3237-fbf8-a857-5e4b-a914"
      },
      {
       "current": "d78c2000-41bb-11eb-aed8-0242ac110002-12-378f-e30c-fd8f-e2c1-30af-3e00-1217-6a3d-eaa6-65aa",
       "next": "d78c20a0-41bb-11eb-aed8-0242ac110002-11-30e3-376c-0667-5aa8-5207-83bf-e085-5a2d-6e02-5cb2",
       "previous": "d78c1f60-41bb-11eb-aed8-0242ac110002-11-86c1-1819-7e71-d44b-3237-fbf8-a857-5e4b-a914-8ff4"
      },
      {
       "current": "d78c2000-41bb-11eb-aed8-0242ac110002-13-e30c-fd8f-e2c1-30af-3e00-1217-6a3d-eaa6-65aa-0669",
       "next": "d78c20a0-41bb-11eb-aed8-0242ac110002-12-376c-0667-5aa8-5207-83bf-e085-5a2d-6e02-5cb2-df2d",
       "previous": "d78c1f60-41bb-11eb-aed8-0242ac110002-12-1819-7e71-d44b-3237-fbf8-a857-5e4b-a914-8ff4-5da7"
      },
      {
       "current": "d78c2000-41bb-11eb-aed8-0242ac110002-14-fd8f-e2c1-30af-3e00-1217-6a3d-eaa6-65aa-0669-679e",
       "next": "d78c20a0-41bb-11eb-aed8-0242ac110002-13-0667-5aa8-5207-83bf-e085-5a2d-6e02-5cb2-df2d-a0dc",
       "previous": "d78c1f60-41bb-11eb-aed8-0242ac110002-13-7e71-d44b-3237-fbf8-a857-5e4b-a914-8ff4-5da7-eebf"
      },
      {
       "current": "d78c2000-41bb-11eb-aed8-0242ac110002-14-fd8f-e2c1-30af-3e00-1217-6a3d-eaa6-65aa-0669-679e",
       "next": "d78c20a0-41bb-11eb-aed8-0242ac110002-14-5aa8-5207-83bf-e085-5a2d-6e02-5cb2-df2d-a0dc-c655",
       "previous": "d78c1f60-41bb-11eb-aed8-0242ac110002-14-d44b-3237-fbf8-a857-5e4b-a914-8ff4-5da7-eebf-0a7f"
      },
      {
       "current": "d78c2000-41bb-11eb-aed8-0242ac110002-15-e2c1-30af-3e00-1217-6a3d-eaa6-65aa-0669-679e-c094",
       "next": "d78c214a-41bb-11eb-aed8-0242ac110002-14-159a-8a96-445f-79df-182c-5880-f355-516f-8394-f7f9",
       "previous": "f2c7e038-7358-11eb-b80d-0242ac110002-2-6f31-0df0"
      },
      {
       "current": "d78c2000-41bb-11eb-aed8-0242ac110002-15-e2c1-30af-3e00-1217-6a3d-eaa6-65aa-0669-679e-c094",
       "next": "d78c214a-41bb-11eb-aed8-0242ac110002-15-8a96-445f-79df-182c-5880-f355-516f-8394-f7f9-0886",
       "previous": "f2c7e038-7358-11eb-b80d-0242ac110002-3-6f31-0df0-55b2"
      },
      {
       "current": "d78c2000-41bb-11eb-aed8-0242ac110002-15-e2c1-30af-3e00-1217-6a3d-eaa6-65aa-0669-679e-c094",
       "next": "d78c214a-41bb-11eb-aed8-0242ac110002-15-8a96-445f-79df-182c-5880-f355-516f-8394-f7f9-0886",
       "previous": "d4ae1366-7357-11eb-b80d-0242ac110002-2-1242-9a56"
      },
      {
       "current": "d78c2000-41bb-11eb-aed8-0242ac110002-15-e2c1-30af-3e00-1217-6a3d-eaa6-65aa-0669-679e-c094",
       "next": "d78c214a-41bb-11eb-aed8-0242ac110002-15-8a96-445f-79df-182c-5880-f355-516f-8394-f7f9-0886",
       "previous": "fe1b1df8-7356-11eb-b80d-0242ac110002-3-8111-f4d2-c44c"
      },
      {
       "current": "d78c2000-41bb-11eb-aed8-0242ac110002-15-e2c1-30af-3e00-1217-6a3d-eaa6-65aa-0669-679e-c094",
       "next": "fc5c69ee-83ba-11eb-a693-0242ac110002",
       "previous": "fe1b1df8-7356-11eb-b80d-0242ac110002-3-8111-f4d2-c44c"
      },
      {
       "current": "d78c2000-41bb-11eb-aed8-0242ac110002-15-e2c1-30af-3e00-1217-6a3d-eaa6-65aa-0669-679e-c094",
       "next": "fc5c69ee-83ba-11eb-a693-0242ac110002",
       "previous": "d78c2000-41bb-11eb-aed8-0242ac110002-16-30af-3e00-1217-6a3d-eaa6-65aa-0669-679e-c094-e2e0"
      },
      {
       "current": "d78c2000-41bb-11eb-aed8-0242ac110002-15-e2c1-30af-3e00-1217-6a3d-eaa6-65aa-0669-679e-c094",
       "next": "fc5c69ee-83ba-11eb-a693-0242ac110002",
       "previous": "fe1b1df8-7356-11eb-b80d-0242ac110002-3-8111-f4d2-c44c"
      },
      {
       "current": "d78c2000-41bb-11eb-aed8-0242ac110002-15-e2c1-30af-3e00-1217-6a3d-eaa6-65aa-0669-679e-c094",
       "next": "fc5c69ee-83ba-11eb-a693-0242ac110002",
       "previous": "d78c2000-41bb-11eb-aed8-0242ac110002-16-30af-3e00-1217-6a3d-eaa6-65aa-0669-679e-c094-181e"
      },
      {
       "current": "d78c2000-41bb-11eb-aed8-0242ac110002-16-30af-3e00-1217-6a3d-eaa6-65aa-0669-679e-c094-2490",
       "next": "fc5c69ee-83ba-11eb-a693-0242ac110002",
       "previous": "61fce156-83bc-11eb-a693-0242ac110002"
      },
      {
       "current": "d78c2000-41bb-11eb-aed8-0242ac110002-16-30af-3e00-1217-6a3d-eaa6-65aa-0669-679e-c094-2490",
       "next": "f10d60c8-83bc-11eb-a693-0242ac110002",
       "previous": "61fce156-83bc-11eb-a693-0242ac110002"
      },
      {
       "current": "d78c2000-41bb-11eb-aed8-0242ac110002-17-3e00-1217-6a3d-eaa6-65aa-0669-679e-c094-2490-e812",
       "next": "f10d60c8-83bc-11eb-a693-0242ac110002-1-ca76",
       "previous": "61fce156-83bc-11eb-a693-0242ac110002-1-c502"
      },
      {
       "current": "d78c2000-41bb-11eb-aed8-0242ac110002-17-3e00-1217-6a3d-eaa6-65aa-0669-679e-c094-2490-e812",
       "next": "f10d60c8-83bc-11eb-a693-0242ac110002-1-ca76",
       "previous": "d78c2000-41bb-11eb-aed8-0242ac110002-18-1217-6a3d-eaa6-65aa-0669-679e-c094-2490-e812-fdc3"
      },
      {
       "current": "d78c2000-41bb-11eb-aed8-0242ac110002-17-3e00-1217-6a3d-eaa6-65aa-0669-679e-c094-2490-e812",
       "next": "d78c2000-41bb-11eb-aed8-0242ac110002-16-30af-3e00-1217-6a3d-eaa6-65aa-0669-679e-c094-7905",
       "previous": "d78c2000-41bb-11eb-aed8-0242ac110002-18-1217-6a3d-eaa6-65aa-0669-679e-c094-2490-e812-fdc3"
      },
      {
       "current": "d78c2000-41bb-11eb-aed8-0242ac110002-17-3e00-1217-6a3d-eaa6-65aa-0669-679e-c094-2490-e812",
       "next": "801740ae-83bd-11eb-a693-0242ac110002-1-cfd8",
       "previous": "d78c2000-41bb-11eb-aed8-0242ac110002-18-1217-6a3d-eaa6-65aa-0669-679e-c094-2490-e812-fdc3"
      },
      {
       "current": "d78c2000-41bb-11eb-aed8-0242ac110002-18-1217-6a3d-eaa6-65aa-0669-679e-c094-2490-e812-36c2",
       "next": "da20c17c-83d3-11eb-a693-0242ac110002",
       "previous": "d78c2000-41bb-11eb-aed8-0242ac110002-18-1217-6a3d-eaa6-65aa-0669-679e-c094-2490-e812-fdc3"
      },
      {
       "current": "d78c2000-41bb-11eb-aed8-0242ac110002-18-1217-6a3d-eaa6-65aa-0669-679e-c094-2490-e812-36c2",
       "next": "da20c17c-83d3-11eb-a693-0242ac110002",
       "previous": "d78c2000-41bb-11eb-aed8-0242ac110002-18-1217-6a3d-eaa6-65aa-0669-679e-c094-2490-e812-fdc3"
      }
     ],
     "next": "da20c17c-83d3-11eb-a693-0242ac110002-1-2b69",
     "previous": "d78c2000-41bb-11eb-aed8-0242ac110002-19-6a3d-eaa6-65aa-0669-679e-c094-2490-e812-fdc3-d550"
    },
    "lc_wrapper": {
     "log_history": [
      "/home/jovyan/digraj202103/.log/20201219/20201219-053226-0211.log",
      "/home/jovyan/digraj202103/.log/20201219/20201219-053258-0519.log",
      "/home/jovyan/digraj202103/.log/20201219/20201219-054507-0160.log",
      "/home/jovyan/digraj202103/.log/20201219/20201219-054710-0550.log",
      "/home/jovyan/digraj202103/.log/20201219/20201219-075917-0188.log",
      "/home/jovyan/digraj202103/.log/20201225/20201225-074628-0312.log",
      "/home/jovyan/digraj202103/.log/20201225/20201225-132012-0996.log",
      "/home/jovyan/digraj202103/.log/20201226/20201226-133530-0742.log",
      "/home/jovyan/digraj202103/.log/20201226/20201226-143459-0668.log",
      "/home/jovyan/digraj202103/.log/20201227/20201227-123158-0140.log",
      "/home/jovyan/digraj202103/.log/20201228/20201228-014934-0405.log",
      "/home/jovyan/digraj202103/.log/20201228/20201228-115310-0061.log",
      "/home/jovyan/digraj202103/.log/20201229/20201229-045812-0335.log",
      "/home/jovyan/digraj202103/.log/20201229/20201229-085911-0831.log",
      "/home/jovyan/digraj202103/.log/20201230/20201230-012031-0815.log",
      "/home/jovyan/digraj202103/.log/20210211/20210211-064646-0887.log",
      "/home/jovyan/digraj202103/.log/20210213/20210213-064646-0071.log",
      "/home/jovyan/digraj202103/.log/20210220/20210220-114107-0158.log",
      "/home/jovyan/digraj202103/.log/20210220/20210220-125011-0043.log",
      "/home/jovyan/digraj202103/.log/20210313/20210313-051618-0693.log",
      "/home/jovyan/digraj202103/.log/20210313/20210313-051633-0440.log",
      "/home/jovyan/digraj202103/.log/20210313/20210313-051727-0391.log",
      "/home/jovyan/digraj202103/.log/20210313/20210313-051856-0609.log",
      "/home/jovyan/digraj202103/.log/20210313/20210313-060508-0602.log",
      "/home/jovyan/digraj202103/.log/20210313/20210313-074512-0395.log",
      "/home/jovyan/digraj202103/.log/20210313/20210313-074834-0434.log",
      "/home/jovyan/digraj202103/.log/20210313/20210313-075203-0299.log",
      "/home/jovyan/digraj202103/.log/20210313/20210313-075211-0346.log",
      "/home/jovyan/digraj202103/.log/20210313/20210313-080507-0639.log",
      "/home/jovyan/digraj202103/.log/20210313/20210313-080651-0691.log",
      "/home/jovyan/digraj202103/.log/20210313/20210313-080909-0642.log",
      "/home/jovyan/digraj202103/.log/20210313/20210313-081009-0242.log",
      "/home/jovyan/digraj202103/.log/20210314/20210314-044413-0743.log",
      "/home/jovyan/digraj202103/.log/20210314/20210314-080239-0112.log"
     ]
    },
    "outputId": "05c91029-f73d-42ef-a3e9-05f2fe98de73",
    "pinned_outputs": [],
    "slideshow": {
     "slide_type": "slide"
    }
   },
   "outputs": [],
   "source": [
    "print(\"正規化前のデータで相互参照されていたパターンの組み合わせ\")\n",
    "print(pair)\n",
    "print(str(c)+\"組\")\n",
    "\n",
    "g.write(\"gamemech2.dot\")\n",
    "gamemech2_edges_count = !cat gamemech2.dot | grep \"\\-\\-\" | wc -l\n",
    "print(\"正規化後のエッジ数 : \"+gamemech2_edges_count[0]+\"本\")"
   ]
  },
  {
   "cell_type": "markdown",
   "metadata": {
    "lc_cell_meme": {
     "current": "da20c17c-83d3-11eb-a693-0242ac110002-1-2b69",
     "history": [
      {
       "current": "da20c17c-83d3-11eb-a693-0242ac110002-1-2b69",
       "next": "da20c2ee-83d3-11eb-a693-0242ac110002",
       "previous": "d78c2000-41bb-11eb-aed8-0242ac110002-17-3e00-1217-6a3d-eaa6-65aa-0669-679e-c094-2490-e812"
      },
      {
       "current": "da20c17c-83d3-11eb-a693-0242ac110002-1-2b69",
       "next": "da20c2ee-83d3-11eb-a693-0242ac110002",
       "previous": "d78c2000-41bb-11eb-aed8-0242ac110002-17-3e00-1217-6a3d-eaa6-65aa-0669-679e-c094-2490-e812"
      }
     ],
     "next": "da20c2ee-83d3-11eb-a693-0242ac110002-1-96dc",
     "previous": "d78c2000-41bb-11eb-aed8-0242ac110002-18-1217-6a3d-eaa6-65aa-0669-679e-c094-2490-e812-36c2"
    },
    "slideshow": {
     "slide_type": "slide"
    }
   },
   "source": [
    "正規化された参照情報。"
   ]
  },
  {
   "cell_type": "code",
   "execution_count": null,
   "metadata": {
    "lc_cell_meme": {
     "current": "da20c2ee-83d3-11eb-a693-0242ac110002-1-96dc",
     "history": [
      {
       "current": "da20c2ee-83d3-11eb-a693-0242ac110002",
       "next": "801740ae-83bd-11eb-a693-0242ac110002-1-cfd8",
       "previous": "da20c17c-83d3-11eb-a693-0242ac110002"
      },
      {
       "current": "da20c2ee-83d3-11eb-a693-0242ac110002-1-96dc",
       "next": "801740ae-83bd-11eb-a693-0242ac110002-2-cfd8-883c",
       "previous": "da20c17c-83d3-11eb-a693-0242ac110002"
      },
      {
       "current": "da20c2ee-83d3-11eb-a693-0242ac110002-1-96dc",
       "next": "801740ae-83bd-11eb-a693-0242ac110002-2-cfd8-883c",
       "previous": "da20c17c-83d3-11eb-a693-0242ac110002"
      }
     ],
     "next": "801740ae-83bd-11eb-a693-0242ac110002-3-cfd8-883c-1383",
     "previous": "da20c17c-83d3-11eb-a693-0242ac110002-1-2b69"
    },
    "lc_wrapper": {
     "log_history": [
      "/home/jovyan/digraj202103/.log/20210313/20210313-081159-0304.log",
      "/home/jovyan/digraj202103/.log/20210314/20210314-044417-0734.log",
      "/home/jovyan/digraj202103/.log/20210314/20210314-080400-0840.log"
     ]
    }
   },
   "outputs": [],
   "source": [
    "!cat gamemech2.dot"
   ]
  },
  {
   "cell_type": "markdown",
   "metadata": {
    "lc_cell_meme": {
     "current": "801740ae-83bd-11eb-a693-0242ac110002-3-cfd8-883c-1383",
     "history": [
      {
       "current": "801740ae-83bd-11eb-a693-0242ac110002-1-cfd8",
       "next": "38934836-83bd-11eb-a693-0242ac110002",
       "previous": "d78c2000-41bb-11eb-aed8-0242ac110002-16-30af-3e00-1217-6a3d-eaa6-65aa-0669-679e-c094-7905"
      },
      {
       "current": "801740ae-83bd-11eb-a693-0242ac110002-1-cfd8",
       "next": "801740ae-83bd-11eb-a693-0242ac110002",
       "previous": "d78c2000-41bb-11eb-aed8-0242ac110002-16-30af-3e00-1217-6a3d-eaa6-65aa-0669-679e-c094-7905"
      },
      {
       "current": "801740ae-83bd-11eb-a693-0242ac110002-1-cfd8",
       "next": "801740ae-83bd-11eb-a693-0242ac110002",
       "previous": "d78c2000-41bb-11eb-aed8-0242ac110002-17-3e00-1217-6a3d-eaa6-65aa-0669-679e-c094-2490-e812"
      },
      {
       "current": "801740ae-83bd-11eb-a693-0242ac110002-2-cfd8-883c",
       "next": "801740ae-83bd-11eb-a693-0242ac110002",
       "previous": "da20c2ee-83d3-11eb-a693-0242ac110002"
      },
      {
       "current": "801740ae-83bd-11eb-a693-0242ac110002-3-cfd8-883c-1383",
       "next": "801740ae-83bd-11eb-a693-0242ac110002-1-cfd8",
       "previous": "da20c2ee-83d3-11eb-a693-0242ac110002"
      },
      {
       "current": "801740ae-83bd-11eb-a693-0242ac110002-3-cfd8-883c-1383",
       "next": "801740ae-83bd-11eb-a693-0242ac110002-1-cfd8",
       "previous": "da20c2ee-83d3-11eb-a693-0242ac110002"
      }
     ],
     "next": "801740ae-83bd-11eb-a693-0242ac110002-2-cfd8-12ec",
     "previous": "da20c2ee-83d3-11eb-a693-0242ac110002-1-96dc"
    },
    "slideshow": {
     "slide_type": "slide"
    }
   },
   "source": [
    "<span style=\"font-size: 150%;\">「ゲームメカニクス大全」への不満：</span>\n",
    "\n",
    "<span style=\"font-size: 150%;\">パターンマップがない</span>"
   ]
  },
  {
   "cell_type": "markdown",
   "metadata": {
    "lc_cell_meme": {
     "current": "801740ae-83bd-11eb-a693-0242ac110002-2-cfd8-12ec",
     "history": [
      {
       "current": "801740ae-83bd-11eb-a693-0242ac110002-1-cfd8",
       "next": "38934836-83bd-11eb-a693-0242ac110002",
       "previous": "d78c2000-41bb-11eb-aed8-0242ac110002-16-30af-3e00-1217-6a3d-eaa6-65aa-0669-679e-c094-7905"
      },
      {
       "current": "801740ae-83bd-11eb-a693-0242ac110002-1-cfd8",
       "next": "801740ae-83bd-11eb-a693-0242ac110002",
       "previous": "d78c2000-41bb-11eb-aed8-0242ac110002-16-30af-3e00-1217-6a3d-eaa6-65aa-0669-679e-c094-7905"
      },
      {
       "current": "801740ae-83bd-11eb-a693-0242ac110002-1-cfd8",
       "next": "801740ae-83bd-11eb-a693-0242ac110002",
       "previous": "d78c2000-41bb-11eb-aed8-0242ac110002-17-3e00-1217-6a3d-eaa6-65aa-0669-679e-c094-2490-e812"
      },
      {
       "current": "801740ae-83bd-11eb-a693-0242ac110002-1-cfd8",
       "next": "801740ae-83bd-11eb-a693-0242ac110002",
       "previous": "da20c2ee-83d3-11eb-a693-0242ac110002"
      },
      {
       "current": "801740ae-83bd-11eb-a693-0242ac110002-2-cfd8-12ec",
       "next": "801740ae-83bd-11eb-a693-0242ac110002",
       "previous": "801740ae-83bd-11eb-a693-0242ac110002-2-cfd8-883c"
      },
      {
       "current": "801740ae-83bd-11eb-a693-0242ac110002-2-cfd8-12ec",
       "next": "801740ae-83bd-11eb-a693-0242ac110002",
       "previous": "801740ae-83bd-11eb-a693-0242ac110002-2-cfd8-883c"
      }
     ],
     "next": "801740ae-83bd-11eb-a693-0242ac110002-1-4f0e",
     "previous": "801740ae-83bd-11eb-a693-0242ac110002-3-cfd8-883c-1383"
    },
    "slideshow": {
     "slide_type": "slide"
    }
   },
   "source": [
    "パターンマップの例\n",
    "\n",
    "<img src=\"https://learningpatterns.sfc.keio.ac.jp/image/LPOverview640.jpg\" width=600>\n",
    "\n",
    "<span style=\"font-size: 50%;\">出典：ラーニング・パターンの全体像 https://learningpatterns.sfc.keio.ac.jp/pattern_overview.html</span>"
   ]
  },
  {
   "cell_type": "markdown",
   "metadata": {
    "lc_cell_meme": {
     "current": "801740ae-83bd-11eb-a693-0242ac110002-1-4f0e",
     "history": [
      {
       "current": "801740ae-83bd-11eb-a693-0242ac110002",
       "next": "38934836-83bd-11eb-a693-0242ac110002",
       "previous": "d78c2000-41bb-11eb-aed8-0242ac110002-16-30af-3e00-1217-6a3d-eaa6-65aa-0669-679e-c094-7905"
      },
      {
       "current": "801740ae-83bd-11eb-a693-0242ac110002",
       "next": "38934836-83bd-11eb-a693-0242ac110002",
       "previous": "801740ae-83bd-11eb-a693-0242ac110002-1-cfd8"
      },
      {
       "current": "801740ae-83bd-11eb-a693-0242ac110002-1-4f0e",
       "next": "d78c2000-41bb-11eb-aed8-0242ac110002-15-e2c1-30af-3e00-1217-6a3d-eaa6-65aa-0669-679e-c094",
       "previous": "801740ae-83bd-11eb-a693-0242ac110002-1-cfd8"
      },
      {
       "current": "801740ae-83bd-11eb-a693-0242ac110002-1-4f0e",
       "next": "d78c2000-41bb-11eb-aed8-0242ac110002-15-e2c1-30af-3e00-1217-6a3d-eaa6-65aa-0669-679e-c094",
       "previous": "801740ae-83bd-11eb-a693-0242ac110002-1-cfd8"
      }
     ],
     "next": "d78c2000-41bb-11eb-aed8-0242ac110002-16-30af-3e00-1217-6a3d-eaa6-65aa-0669-679e-c094-29c1",
     "previous": "801740ae-83bd-11eb-a693-0242ac110002-2-cfd8-12ec"
    },
    "slideshow": {
     "slide_type": "slide"
    }
   },
   "source": [
    "さきほど作ったデータを元に視覚化する。"
   ]
  },
  {
   "cell_type": "code",
   "execution_count": null,
   "metadata": {
    "colab": {
     "base_uri": "https://localhost:8080/"
    },
    "id": "owXZzLeWj52X",
    "lc_cell_meme": {
     "current": "d78c2000-41bb-11eb-aed8-0242ac110002-16-30af-3e00-1217-6a3d-eaa6-65aa-0669-679e-c094-29c1",
     "history": [
      {
       "current": "d78c2000-41bb-11eb-aed8-0242ac110002-1-aaa2",
       "next": "d78c20a0-41bb-11eb-aed8-0242ac110002",
       "previous": "d78c1f60-41bb-11eb-aed8-0242ac110002"
      },
      {
       "current": "d78c2000-41bb-11eb-aed8-0242ac110002-2-aaa2-8116",
       "next": "d78c20a0-41bb-11eb-aed8-0242ac110002-1-0af4",
       "previous": "d78c1f60-41bb-11eb-aed8-0242ac110002-1-97f2"
      },
      {
       "current": "d78c2000-41bb-11eb-aed8-0242ac110002-3-aaa2-8116-378f",
       "next": "d78c20a0-41bb-11eb-aed8-0242ac110002-2-0af4-30e3",
       "previous": "d78c1f60-41bb-11eb-aed8-0242ac110002-2-97f2-86c1"
      },
      {
       "current": "d78c2000-41bb-11eb-aed8-0242ac110002-4-aaa2-8116-378f-e30c",
       "next": "d78c20a0-41bb-11eb-aed8-0242ac110002-3-0af4-30e3-376c",
       "previous": "d78c1f60-41bb-11eb-aed8-0242ac110002-3-97f2-86c1-1819"
      },
      {
       "current": "d78c2000-41bb-11eb-aed8-0242ac110002-5-aaa2-8116-378f-e30c-fd8f",
       "next": "d78c20a0-41bb-11eb-aed8-0242ac110002-4-0af4-30e3-376c-0667",
       "previous": "d78c1f60-41bb-11eb-aed8-0242ac110002-4-97f2-86c1-1819-7e71"
      },
      {
       "current": "d78c2000-41bb-11eb-aed8-0242ac110002-6-aaa2-8116-378f-e30c-fd8f-e2c1",
       "next": "d78c20a0-41bb-11eb-aed8-0242ac110002-5-0af4-30e3-376c-0667-5aa8",
       "previous": "d78c1f60-41bb-11eb-aed8-0242ac110002-5-97f2-86c1-1819-7e71-d44b"
      },
      {
       "current": "d78c2000-41bb-11eb-aed8-0242ac110002-7-aaa2-8116-378f-e30c-fd8f-e2c1-30af",
       "next": "d78c20a0-41bb-11eb-aed8-0242ac110002-6-0af4-30e3-376c-0667-5aa8-5207",
       "previous": "d78c1f60-41bb-11eb-aed8-0242ac110002-6-97f2-86c1-1819-7e71-d44b-3237"
      },
      {
       "current": "d78c2000-41bb-11eb-aed8-0242ac110002-8-aaa2-8116-378f-e30c-fd8f-e2c1-30af-3e00",
       "next": "d78c20a0-41bb-11eb-aed8-0242ac110002-7-0af4-30e3-376c-0667-5aa8-5207-83bf",
       "previous": "d78c1f60-41bb-11eb-aed8-0242ac110002-7-97f2-86c1-1819-7e71-d44b-3237-fbf8"
      },
      {
       "current": "d78c2000-41bb-11eb-aed8-0242ac110002-9-aaa2-8116-378f-e30c-fd8f-e2c1-30af-3e00-1217",
       "next": "d78c20a0-41bb-11eb-aed8-0242ac110002-8-0af4-30e3-376c-0667-5aa8-5207-83bf-e085",
       "previous": "d78c1f60-41bb-11eb-aed8-0242ac110002-8-97f2-86c1-1819-7e71-d44b-3237-fbf8-a857"
      },
      {
       "current": "d78c2000-41bb-11eb-aed8-0242ac110002-10-aaa2-8116-378f-e30c-fd8f-e2c1-30af-3e00-1217-6a3d",
       "next": "d78c20a0-41bb-11eb-aed8-0242ac110002-9-0af4-30e3-376c-0667-5aa8-5207-83bf-e085-5a2d",
       "previous": "d78c1f60-41bb-11eb-aed8-0242ac110002-9-97f2-86c1-1819-7e71-d44b-3237-fbf8-a857-5e4b"
      },
      {
       "current": "d78c2000-41bb-11eb-aed8-0242ac110002-11-8116-378f-e30c-fd8f-e2c1-30af-3e00-1217-6a3d-eaa6",
       "next": "d78c20a0-41bb-11eb-aed8-0242ac110002-10-0af4-30e3-376c-0667-5aa8-5207-83bf-e085-5a2d-6e02",
       "previous": "d78c1f60-41bb-11eb-aed8-0242ac110002-10-97f2-86c1-1819-7e71-d44b-3237-fbf8-a857-5e4b-a914"
      },
      {
       "current": "d78c2000-41bb-11eb-aed8-0242ac110002-12-378f-e30c-fd8f-e2c1-30af-3e00-1217-6a3d-eaa6-65aa",
       "next": "d78c20a0-41bb-11eb-aed8-0242ac110002-11-30e3-376c-0667-5aa8-5207-83bf-e085-5a2d-6e02-5cb2",
       "previous": "d78c1f60-41bb-11eb-aed8-0242ac110002-11-86c1-1819-7e71-d44b-3237-fbf8-a857-5e4b-a914-8ff4"
      },
      {
       "current": "d78c2000-41bb-11eb-aed8-0242ac110002-13-e30c-fd8f-e2c1-30af-3e00-1217-6a3d-eaa6-65aa-0669",
       "next": "d78c20a0-41bb-11eb-aed8-0242ac110002-12-376c-0667-5aa8-5207-83bf-e085-5a2d-6e02-5cb2-df2d",
       "previous": "d78c1f60-41bb-11eb-aed8-0242ac110002-12-1819-7e71-d44b-3237-fbf8-a857-5e4b-a914-8ff4-5da7"
      },
      {
       "current": "d78c2000-41bb-11eb-aed8-0242ac110002-14-fd8f-e2c1-30af-3e00-1217-6a3d-eaa6-65aa-0669-679e",
       "next": "d78c20a0-41bb-11eb-aed8-0242ac110002-13-0667-5aa8-5207-83bf-e085-5a2d-6e02-5cb2-df2d-a0dc",
       "previous": "d78c1f60-41bb-11eb-aed8-0242ac110002-13-7e71-d44b-3237-fbf8-a857-5e4b-a914-8ff4-5da7-eebf"
      },
      {
       "current": "d78c2000-41bb-11eb-aed8-0242ac110002-14-fd8f-e2c1-30af-3e00-1217-6a3d-eaa6-65aa-0669-679e",
       "next": "d78c20a0-41bb-11eb-aed8-0242ac110002-14-5aa8-5207-83bf-e085-5a2d-6e02-5cb2-df2d-a0dc-c655",
       "previous": "d78c1f60-41bb-11eb-aed8-0242ac110002-14-d44b-3237-fbf8-a857-5e4b-a914-8ff4-5da7-eebf-0a7f"
      },
      {
       "current": "d78c2000-41bb-11eb-aed8-0242ac110002-15-e2c1-30af-3e00-1217-6a3d-eaa6-65aa-0669-679e-c094",
       "next": "d78c214a-41bb-11eb-aed8-0242ac110002-14-159a-8a96-445f-79df-182c-5880-f355-516f-8394-f7f9",
       "previous": "f2c7e038-7358-11eb-b80d-0242ac110002-2-6f31-0df0"
      },
      {
       "current": "d78c2000-41bb-11eb-aed8-0242ac110002-15-e2c1-30af-3e00-1217-6a3d-eaa6-65aa-0669-679e-c094",
       "next": "d78c214a-41bb-11eb-aed8-0242ac110002-15-8a96-445f-79df-182c-5880-f355-516f-8394-f7f9-0886",
       "previous": "f2c7e038-7358-11eb-b80d-0242ac110002-3-6f31-0df0-55b2"
      },
      {
       "current": "d78c2000-41bb-11eb-aed8-0242ac110002-15-e2c1-30af-3e00-1217-6a3d-eaa6-65aa-0669-679e-c094",
       "next": "d78c214a-41bb-11eb-aed8-0242ac110002-15-8a96-445f-79df-182c-5880-f355-516f-8394-f7f9-0886",
       "previous": "d4ae1366-7357-11eb-b80d-0242ac110002-2-1242-9a56"
      },
      {
       "current": "d78c2000-41bb-11eb-aed8-0242ac110002-15-e2c1-30af-3e00-1217-6a3d-eaa6-65aa-0669-679e-c094",
       "next": "d78c214a-41bb-11eb-aed8-0242ac110002-15-8a96-445f-79df-182c-5880-f355-516f-8394-f7f9-0886",
       "previous": "fe1b1df8-7356-11eb-b80d-0242ac110002-3-8111-f4d2-c44c"
      },
      {
       "current": "d78c2000-41bb-11eb-aed8-0242ac110002-15-e2c1-30af-3e00-1217-6a3d-eaa6-65aa-0669-679e-c094",
       "next": "fc5c69ee-83ba-11eb-a693-0242ac110002",
       "previous": "fe1b1df8-7356-11eb-b80d-0242ac110002-3-8111-f4d2-c44c"
      },
      {
       "current": "d78c2000-41bb-11eb-aed8-0242ac110002-15-e2c1-30af-3e00-1217-6a3d-eaa6-65aa-0669-679e-c094",
       "next": "fc5c69ee-83ba-11eb-a693-0242ac110002",
       "previous": "d78c2000-41bb-11eb-aed8-0242ac110002-16-30af-3e00-1217-6a3d-eaa6-65aa-0669-679e-c094-e2e0"
      },
      {
       "current": "d78c2000-41bb-11eb-aed8-0242ac110002-15-e2c1-30af-3e00-1217-6a3d-eaa6-65aa-0669-679e-c094",
       "next": "fc5c69ee-83ba-11eb-a693-0242ac110002",
       "previous": "fe1b1df8-7356-11eb-b80d-0242ac110002-3-8111-f4d2-c44c"
      },
      {
       "current": "d78c2000-41bb-11eb-aed8-0242ac110002-15-e2c1-30af-3e00-1217-6a3d-eaa6-65aa-0669-679e-c094",
       "next": "fc5c69ee-83ba-11eb-a693-0242ac110002",
       "previous": "d78c2000-41bb-11eb-aed8-0242ac110002-16-30af-3e00-1217-6a3d-eaa6-65aa-0669-679e-c094-181e"
      },
      {
       "current": "d78c2000-41bb-11eb-aed8-0242ac110002-15-e2c1-30af-3e00-1217-6a3d-eaa6-65aa-0669-679e-c094",
       "next": "fc5c69ee-83ba-11eb-a693-0242ac110002",
       "previous": "61fce156-83bc-11eb-a693-0242ac110002"
      },
      {
       "current": "d78c2000-41bb-11eb-aed8-0242ac110002-15-e2c1-30af-3e00-1217-6a3d-eaa6-65aa-0669-679e-c094",
       "next": "fc5c69ee-83ba-11eb-a693-0242ac110002",
       "previous": "f10d60c8-83bc-11eb-a693-0242ac110002"
      },
      {
       "current": "d78c2000-41bb-11eb-aed8-0242ac110002-15-e2c1-30af-3e00-1217-6a3d-eaa6-65aa-0669-679e-c094",
       "next": "fc5c69ee-83ba-11eb-a693-0242ac110002",
       "previous": "38934836-83bd-11eb-a693-0242ac110002"
      },
      {
       "current": "d78c2000-41bb-11eb-aed8-0242ac110002-15-e2c1-30af-3e00-1217-6a3d-eaa6-65aa-0669-679e-c094",
       "next": "fc5c69ee-83ba-11eb-a693-0242ac110002",
       "previous": "801740ae-83bd-11eb-a693-0242ac110002"
      },
      {
       "current": "d78c2000-41bb-11eb-aed8-0242ac110002-15-e2c1-30af-3e00-1217-6a3d-eaa6-65aa-0669-679e-c094",
       "next": "4003f6c4-83c2-11eb-a693-0242ac110002",
       "previous": "801740ae-83bd-11eb-a693-0242ac110002"
      },
      {
       "current": "d78c2000-41bb-11eb-aed8-0242ac110002-15-e2c1-30af-3e00-1217-6a3d-eaa6-65aa-0669-679e-c094",
       "next": "4003f6c4-83c2-11eb-a693-0242ac110002-1-5359",
       "previous": "801740ae-83bd-11eb-a693-0242ac110002"
      },
      {
       "current": "d78c2000-41bb-11eb-aed8-0242ac110002-16-30af-3e00-1217-6a3d-eaa6-65aa-0669-679e-c094-29c1",
       "next": "4003f6c4-83c2-11eb-a693-0242ac110002-1-2477",
       "previous": "801740ae-83bd-11eb-a693-0242ac110002"
      },
      {
       "current": "d78c2000-41bb-11eb-aed8-0242ac110002-16-30af-3e00-1217-6a3d-eaa6-65aa-0669-679e-c094-29c1",
       "next": "4003f6c4-83c2-11eb-a693-0242ac110002-1-2477",
       "previous": "801740ae-83bd-11eb-a693-0242ac110002"
      }
     ],
     "next": "4003f6c4-83c2-11eb-a693-0242ac110002-2-2477-00a9",
     "previous": "801740ae-83bd-11eb-a693-0242ac110002-1-4f0e"
    },
    "lc_wrapper": {
     "log_history": [
      "/home/jovyan/digraj202103/.log/20201219/20201219-053226-0211.log",
      "/home/jovyan/digraj202103/.log/20201219/20201219-053258-0519.log",
      "/home/jovyan/digraj202103/.log/20201219/20201219-054507-0160.log",
      "/home/jovyan/digraj202103/.log/20201219/20201219-054710-0550.log",
      "/home/jovyan/digraj202103/.log/20201219/20201219-075917-0188.log",
      "/home/jovyan/digraj202103/.log/20201225/20201225-074628-0312.log",
      "/home/jovyan/digraj202103/.log/20201225/20201225-132012-0996.log",
      "/home/jovyan/digraj202103/.log/20201226/20201226-133530-0742.log",
      "/home/jovyan/digraj202103/.log/20201226/20201226-143459-0668.log",
      "/home/jovyan/digraj202103/.log/20201227/20201227-123158-0140.log",
      "/home/jovyan/digraj202103/.log/20201228/20201228-014934-0405.log",
      "/home/jovyan/digraj202103/.log/20201228/20201228-115310-0061.log",
      "/home/jovyan/digraj202103/.log/20201229/20201229-045812-0335.log",
      "/home/jovyan/digraj202103/.log/20201229/20201229-085911-0831.log",
      "/home/jovyan/digraj202103/.log/20201230/20201230-012031-0815.log",
      "/home/jovyan/digraj202103/.log/20210211/20210211-064646-0887.log",
      "/home/jovyan/digraj202103/.log/20210213/20210213-064646-0071.log",
      "/home/jovyan/digraj202103/.log/20210220/20210220-114107-0158.log",
      "/home/jovyan/digraj202103/.log/20210220/20210220-125011-0043.log",
      "/home/jovyan/digraj202103/.log/20210313/20210313-051618-0693.log",
      "/home/jovyan/digraj202103/.log/20210313/20210313-051633-0440.log",
      "/home/jovyan/digraj202103/.log/20210313/20210313-051727-0391.log",
      "/home/jovyan/digraj202103/.log/20210313/20210313-051856-0609.log",
      "/home/jovyan/digraj202103/.log/20210313/20210313-074552-0296.log",
      "/home/jovyan/digraj202103/.log/20210313/20210313-081457-0425.log",
      "/home/jovyan/digraj202103/.log/20210313/20210313-082235-0515.log",
      "/home/jovyan/digraj202103/.log/20210313/20210313-082321-0379.log",
      "/home/jovyan/digraj202103/.log/20210313/20210313-082406-0524.log",
      "/home/jovyan/digraj202103/.log/20210313/20210313-082448-0168.log",
      "/home/jovyan/digraj202103/.log/20210314/20210314-044426-0361.log"
     ]
    },
    "outputId": "05c91029-f73d-42ef-a3e9-05f2fe98de73",
    "slideshow": {
     "slide_type": "-"
    }
   },
   "outputs": [],
   "source": [
    "!dot -Tpng gamemech2.dot -ogamemech2.png\n",
    "from IPython.display import Image, display_png\n",
    "display_png(Image(\"gamemech2.png\", width=800))"
   ]
  },
  {
   "cell_type": "markdown",
   "metadata": {
    "lc_cell_meme": {
     "current": "4003f6c4-83c2-11eb-a693-0242ac110002-2-2477-00a9",
     "history": [
      {
       "current": "4003f6c4-83c2-11eb-a693-0242ac110002",
       "next": "fc5c69ee-83ba-11eb-a693-0242ac110002",
       "previous": "d78c2000-41bb-11eb-aed8-0242ac110002-15-e2c1-30af-3e00-1217-6a3d-eaa6-65aa-0669-679e-c094"
      },
      {
       "current": "4003f6c4-83c2-11eb-a693-0242ac110002-1-2477",
       "next": "fc5c69ee-83ba-11eb-a693-0242ac110002-1-f4ae",
       "previous": "d78c2000-41bb-11eb-aed8-0242ac110002-15-e2c1-30af-3e00-1217-6a3d-eaa6-65aa-0669-679e-c094"
      },
      {
       "current": "4003f6c4-83c2-11eb-a693-0242ac110002-1-2477",
       "next": "4003f6c4-83c2-11eb-a693-0242ac110002",
       "previous": "4003f6c4-83c2-11eb-a693-0242ac110002-1-5359"
      },
      {
       "current": "4003f6c4-83c2-11eb-a693-0242ac110002-2-2477-00a9",
       "next": "fc5c69ee-83ba-11eb-a693-0242ac110002-2-f4ae-8ea7",
       "previous": "d78c2000-41bb-11eb-aed8-0242ac110002-15-e2c1-30af-3e00-1217-6a3d-eaa6-65aa-0669-679e-c094"
      },
      {
       "current": "4003f6c4-83c2-11eb-a693-0242ac110002-2-2477-00a9",
       "next": "fc5c69ee-83ba-11eb-a693-0242ac110002-2-f4ae-8ea7",
       "previous": "d78c2000-41bb-11eb-aed8-0242ac110002-15-e2c1-30af-3e00-1217-6a3d-eaa6-65aa-0669-679e-c094"
      }
     ],
     "next": "fc5c69ee-83ba-11eb-a693-0242ac110002-3-f4ae-8ea7-26bd",
     "previous": "d78c2000-41bb-11eb-aed8-0242ac110002-16-30af-3e00-1217-6a3d-eaa6-65aa-0669-679e-c094-29c1"
    },
    "slideshow": {
     "slide_type": "slide"
    }
   },
   "source": [
    "<span style=\"font-size: 150%;\">解決しなかった</span>\n",
    "\n",
    "パターンが多いと、単純にバネモデルの描画ではどうしようもないので、[マニュエル・リマ](https://www.amazon.co.jp/s?i=stripbooks&rh=p_27%3A%E3%83%9E%E3%83%8B%E3%83%A5%E3%82%A8%E3%83%AB%E3%83%BB%E3%83%AA%E3%83%9E%28Manuel+Lima%29&s=relevancerank&text=%E3%83%9E%E3%83%8B%E3%83%A5%E3%82%A8%E3%83%AB%E3%83%BB%E3%83%AA%E3%83%9E)を読み直すしかない。"
   ]
  },
  {
   "cell_type": "markdown",
   "metadata": {
    "lc_cell_meme": {
     "current": "fc5c69ee-83ba-11eb-a693-0242ac110002-3-f4ae-8ea7-26bd",
     "history": [
      {
       "current": "fc5c69ee-83ba-11eb-a693-0242ac110002",
       "next": "0fe29b6a-41c5-11eb-aed8-0242ac110002-17-9a8b-fd67-abcb-5fec-92d9-fb07-86bf-4b17-d823-c123",
       "previous": "d78c2000-41bb-11eb-aed8-0242ac110002-15-e2c1-30af-3e00-1217-6a3d-eaa6-65aa-0669-679e-c094"
      },
      {
       "current": "fc5c69ee-83ba-11eb-a693-0242ac110002",
       "next": "f2c7e038-7358-11eb-b80d-0242ac110002-2-6f31-835d",
       "previous": "d78c2000-41bb-11eb-aed8-0242ac110002-15-e2c1-30af-3e00-1217-6a3d-eaa6-65aa-0669-679e-c094"
      },
      {
       "current": "fc5c69ee-83ba-11eb-a693-0242ac110002-1-f4ae",
       "next": "f2c7e038-7358-11eb-b80d-0242ac110002-2-6f31-835d",
       "previous": "4003f6c4-83c2-11eb-a693-0242ac110002"
      },
      {
       "current": "fc5c69ee-83ba-11eb-a693-0242ac110002-1-f4ae",
       "next": "fc5c69ee-83ba-11eb-a693-0242ac110002",
       "previous": "4003f6c4-83c2-11eb-a693-0242ac110002"
      },
      {
       "current": "fc5c69ee-83ba-11eb-a693-0242ac110002-1-f4ae",
       "next": "fc5c69ee-83ba-11eb-a693-0242ac110002",
       "previous": "21b01696-83d4-11eb-a693-0242ac110002"
      },
      {
       "current": "fc5c69ee-83ba-11eb-a693-0242ac110002-2-f4ae-8ea7",
       "next": "fc5c69ee-83ba-11eb-a693-0242ac110002",
       "previous": "4003f6c4-83c2-11eb-a693-0242ac110002"
      },
      {
       "current": "fc5c69ee-83ba-11eb-a693-0242ac110002-2-f4ae-8ea7",
       "next": "fc5c69ee-83ba-11eb-a693-0242ac110002-1-f4ae",
       "previous": "4003f6c4-83c2-11eb-a693-0242ac110002"
      },
      {
       "current": "fc5c69ee-83ba-11eb-a693-0242ac110002-3-f4ae-8ea7-26bd",
       "next": "fc5c69ee-83ba-11eb-a693-0242ac110002-1-f4ae",
       "previous": "4003f6c4-83c2-11eb-a693-0242ac110002-1-2477"
      },
      {
       "current": "fc5c69ee-83ba-11eb-a693-0242ac110002-3-f4ae-8ea7-26bd",
       "next": "fc5c69ee-83ba-11eb-a693-0242ac110002-1-f4ae",
       "previous": "4003f6c4-83c2-11eb-a693-0242ac110002-1-2477"
      }
     ],
     "next": "fc5c69ee-83ba-11eb-a693-0242ac110002-2-f4ae-b066",
     "previous": "4003f6c4-83c2-11eb-a693-0242ac110002-2-2477-00a9"
    },
    "slideshow": {
     "slide_type": "slide"
    }
   },
   "source": [
    "<span style=\"font-size: 150%;\">寄り道：カテゴリの中心性の確認</span>"
   ]
  },
  {
   "cell_type": "markdown",
   "metadata": {
    "lc_cell_meme": {
     "current": "fc5c69ee-83ba-11eb-a693-0242ac110002-2-f4ae-b066",
     "history": [
      {
       "current": "fc5c69ee-83ba-11eb-a693-0242ac110002",
       "next": "0fe29b6a-41c5-11eb-aed8-0242ac110002-17-9a8b-fd67-abcb-5fec-92d9-fb07-86bf-4b17-d823-c123",
       "previous": "d78c2000-41bb-11eb-aed8-0242ac110002-15-e2c1-30af-3e00-1217-6a3d-eaa6-65aa-0669-679e-c094"
      },
      {
       "current": "fc5c69ee-83ba-11eb-a693-0242ac110002",
       "next": "f2c7e038-7358-11eb-b80d-0242ac110002-2-6f31-835d",
       "previous": "d78c2000-41bb-11eb-aed8-0242ac110002-15-e2c1-30af-3e00-1217-6a3d-eaa6-65aa-0669-679e-c094"
      },
      {
       "current": "fc5c69ee-83ba-11eb-a693-0242ac110002-1-f4ae",
       "next": "f2c7e038-7358-11eb-b80d-0242ac110002-2-6f31-835d",
       "previous": "4003f6c4-83c2-11eb-a693-0242ac110002"
      },
      {
       "current": "fc5c69ee-83ba-11eb-a693-0242ac110002-1-f4ae",
       "next": "fc5c69ee-83ba-11eb-a693-0242ac110002",
       "previous": "4003f6c4-83c2-11eb-a693-0242ac110002"
      },
      {
       "current": "fc5c69ee-83ba-11eb-a693-0242ac110002-1-f4ae",
       "next": "fc5c69ee-83ba-11eb-a693-0242ac110002",
       "previous": "21b01696-83d4-11eb-a693-0242ac110002"
      },
      {
       "current": "fc5c69ee-83ba-11eb-a693-0242ac110002-1-f4ae",
       "next": "fc5c69ee-83ba-11eb-a693-0242ac110002",
       "previous": "4003f6c4-83c2-11eb-a693-0242ac110002"
      },
      {
       "current": "fc5c69ee-83ba-11eb-a693-0242ac110002-2-f4ae-b066",
       "next": "fc5c69ee-83ba-11eb-a693-0242ac110002",
       "previous": "fc5c69ee-83ba-11eb-a693-0242ac110002-2-f4ae-8ea7"
      },
      {
       "current": "fc5c69ee-83ba-11eb-a693-0242ac110002-2-f4ae-b066",
       "next": "fc5c69ee-83ba-11eb-a693-0242ac110002",
       "previous": "fc5c69ee-83ba-11eb-a693-0242ac110002-2-f4ae-8ea7"
      }
     ],
     "next": "fc5c69ee-83ba-11eb-a693-0242ac110002-1-bf0e",
     "previous": "fc5c69ee-83ba-11eb-a693-0242ac110002-3-f4ae-8ea7-26bd"
    },
    "slideshow": {
     "slide_type": "slide"
    }
   },
   "source": [
    "次にパターンの関係について踏み込みたいが、パターンが多すぎるので、特定のカテゴリに限定して、その中での親子関係について考えてみたい。時間もないし、やることを絞り込みたいので。さて、どのカテゴリをやるべきか。長久は何となく「ゲームの構造」でいいかなあと思ってたら、英霊たちがそうじゃない「ゲーム終了と勝利」とか「解決」とか「アクション」とか「エコノミー」とかやろと言い出したので、中心性を確認してみようと考えた。"
   ]
  },
  {
   "cell_type": "markdown",
   "metadata": {
    "lc_cell_meme": {
     "current": "fc5c69ee-83ba-11eb-a693-0242ac110002-1-bf0e",
     "history": [
      {
       "current": "fc5c69ee-83ba-11eb-a693-0242ac110002",
       "next": "0fe29b6a-41c5-11eb-aed8-0242ac110002-17-9a8b-fd67-abcb-5fec-92d9-fb07-86bf-4b17-d823-c123",
       "previous": "d78c2000-41bb-11eb-aed8-0242ac110002-15-e2c1-30af-3e00-1217-6a3d-eaa6-65aa-0669-679e-c094"
      },
      {
       "current": "fc5c69ee-83ba-11eb-a693-0242ac110002",
       "next": "f2c7e038-7358-11eb-b80d-0242ac110002-2-6f31-835d",
       "previous": "d78c2000-41bb-11eb-aed8-0242ac110002-15-e2c1-30af-3e00-1217-6a3d-eaa6-65aa-0669-679e-c094"
      },
      {
       "current": "fc5c69ee-83ba-11eb-a693-0242ac110002",
       "next": "f2c7e038-7358-11eb-b80d-0242ac110002-2-6f31-835d",
       "previous": "4003f6c4-83c2-11eb-a693-0242ac110002"
      },
      {
       "current": "fc5c69ee-83ba-11eb-a693-0242ac110002",
       "next": "f2c7e038-7358-11eb-b80d-0242ac110002-2-6f31-835d",
       "previous": "fc5c69ee-83ba-11eb-a693-0242ac110002-1-f4ae"
      },
      {
       "current": "fc5c69ee-83ba-11eb-a693-0242ac110002",
       "next": "fe1b1df8-7356-11eb-b80d-0242ac110002-2-8111-f4d2",
       "previous": "fc5c69ee-83ba-11eb-a693-0242ac110002-1-f4ae"
      },
      {
       "current": "fc5c69ee-83ba-11eb-a693-0242ac110002-1-bf0e",
       "next": "3c213ca2-46b3-11eb-ae4f-0242ac110002-13-b67b-e5fd-35f2-6b67-a5eb-8fba-c7c4-412b-eb3b-d7d7",
       "previous": "fc5c69ee-83ba-11eb-a693-0242ac110002-1-f4ae"
      },
      {
       "current": "fc5c69ee-83ba-11eb-a693-0242ac110002-1-bf0e",
       "next": "3c213ca2-46b3-11eb-ae4f-0242ac110002-13-b67b-e5fd-35f2-6b67-a5eb-8fba-c7c4-412b-eb3b-d7d7",
       "previous": "fc5c69ee-83ba-11eb-a693-0242ac110002-1-f4ae"
      }
     ],
     "next": "3c213ca2-46b3-11eb-ae4f-0242ac110002-14-e5fd-35f2-6b67-a5eb-8fba-c7c4-412b-eb3b-d7d7-fd67",
     "previous": "fc5c69ee-83ba-11eb-a693-0242ac110002-2-f4ae-b066"
    },
    "slideshow": {
     "slide_type": "slide"
    }
   },
   "source": [
    "イイ感じに計算してみる。詳しくは予稿とコードを読んでください。"
   ]
  },
  {
   "cell_type": "code",
   "execution_count": null,
   "metadata": {
    "lc_cell_meme": {
     "current": "3c213ca2-46b3-11eb-ae4f-0242ac110002-14-e5fd-35f2-6b67-a5eb-8fba-c7c4-412b-eb3b-d7d7-fd67",
     "history": [
      {
       "current": "3c213ca2-46b3-11eb-ae4f-0242ac110002-1-cdcc",
       "next": "976f40a6-41cf-11eb-aed8-0242ac110002-4-60db-2644-3cd5-2b5b",
       "previous": "6654e0d4-41cf-11eb-aed8-0242ac110002-3-cd5d-5826-0445"
      },
      {
       "current": "3c213ca2-46b3-11eb-ae4f-0242ac110002-2-cdcc-b0ca",
       "next": "976f40a6-41cf-11eb-aed8-0242ac110002-5-60db-2644-3cd5-2b5b-54ec",
       "previous": "6654e0d4-41cf-11eb-aed8-0242ac110002-4-cd5d-5826-0445-14fe"
      },
      {
       "current": "3c213ca2-46b3-11eb-ae4f-0242ac110002-2-cdcc-b0ca",
       "next": "976f40a6-41cf-11eb-aed8-0242ac110002-6-60db-2644-3cd5-2b5b-54ec-4b57",
       "previous": "6654e0d4-41cf-11eb-aed8-0242ac110002-5-cd5d-5826-0445-14fe-df44"
      },
      {
       "current": "3c213ca2-46b3-11eb-ae4f-0242ac110002-3-cdcc-b0ca-3c42",
       "next": "487be4aa-41ce-11eb-aed8-0242ac110002-5-ea87-d481-f626-0acf-311c",
       "previous": "a9eb477a-4846-11eb-9304-0242ac110002"
      },
      {
       "current": "3c213ca2-46b3-11eb-ae4f-0242ac110002-4-cdcc-b0ca-3c42-b67b",
       "next": "487be4aa-41ce-11eb-aed8-0242ac110002-6-ea87-d481-f626-0acf-311c-b439",
       "previous": "a9eb477a-4846-11eb-9304-0242ac110002-1-94ad"
      },
      {
       "current": "3c213ca2-46b3-11eb-ae4f-0242ac110002-4-cdcc-b0ca-3c42-b67b",
       "next": "487be4aa-41ce-11eb-aed8-0242ac110002-7-ea87-d481-f626-0acf-311c-b439-cd95",
       "previous": "a9eb477a-4846-11eb-9304-0242ac110002-2-94ad-0692"
      },
      {
       "current": "3c213ca2-46b3-11eb-ae4f-0242ac110002-5-cdcc-b0ca-3c42-b67b-e5fd",
       "next": "84315182-48af-11eb-b4d3-0242ac110002",
       "previous": "a9eb477a-4846-11eb-9304-0242ac110002-2-94ad-0692"
      },
      {
       "current": "3c213ca2-46b3-11eb-ae4f-0242ac110002-5-cdcc-b0ca-3c42-b67b-e5fd",
       "next": "84315182-48af-11eb-b4d3-0242ac110002-1-f3a7",
       "previous": "a9eb477a-4846-11eb-9304-0242ac110002-3-94ad-0692-d3e2"
      },
      {
       "current": "3c213ca2-46b3-11eb-ae4f-0242ac110002-6-cdcc-b0ca-3c42-b67b-e5fd-35f2",
       "next": "84315182-48af-11eb-b4d3-0242ac110002-1-f3a7",
       "previous": "cba92190-490c-11eb-bea0-0242ac110002"
      },
      {
       "current": "3c213ca2-46b3-11eb-ae4f-0242ac110002-6-cdcc-b0ca-3c42-b67b-e5fd-35f2",
       "next": "84315182-48af-11eb-b4d3-0242ac110002-2-f3a7-2ad3",
       "previous": "cba92190-490c-11eb-bea0-0242ac110002-1-126d"
      },
      {
       "current": "3c213ca2-46b3-11eb-ae4f-0242ac110002-7-cdcc-b0ca-3c42-b67b-e5fd-35f2-6b67",
       "next": "84315182-48af-11eb-b4d3-0242ac110002-2-f3a7-2ad3",
       "previous": "a9eb477a-4846-11eb-9304-0242ac110002-4-94ad-0692-d3e2-23b6"
      },
      {
       "current": "3c213ca2-46b3-11eb-ae4f-0242ac110002-8-cdcc-b0ca-3c42-b67b-e5fd-35f2-6b67-a5eb",
       "next": "84315182-48af-11eb-b4d3-0242ac110002-3-f3a7-2ad3-82f0",
       "previous": "a9eb477a-4846-11eb-9304-0242ac110002-5-94ad-0692-d3e2-23b6-47fb"
      },
      {
       "current": "3c213ca2-46b3-11eb-ae4f-0242ac110002-9-cdcc-b0ca-3c42-b67b-e5fd-35f2-6b67-a5eb-8fba",
       "next": "84315182-48af-11eb-b4d3-0242ac110002-4-f3a7-2ad3-82f0-5809",
       "previous": "a9eb477a-4846-11eb-9304-0242ac110002-6-94ad-0692-d3e2-23b6-47fb-9e6d"
      },
      {
       "current": "3c213ca2-46b3-11eb-ae4f-0242ac110002-10-cdcc-b0ca-3c42-b67b-e5fd-35f2-6b67-a5eb-8fba-c7c4",
       "next": "84315182-48af-11eb-b4d3-0242ac110002-5-f3a7-2ad3-82f0-5809-ddcb",
       "previous": "a9eb477a-4846-11eb-9304-0242ac110002-7-94ad-0692-d3e2-23b6-47fb-9e6d-47b7"
      },
      {
       "current": "3c213ca2-46b3-11eb-ae4f-0242ac110002-11-b0ca-3c42-b67b-e5fd-35f2-6b67-a5eb-8fba-c7c4-412b",
       "next": "84315182-48af-11eb-b4d3-0242ac110002-6-f3a7-2ad3-82f0-5809-ddcb-1bde",
       "previous": "a9eb477a-4846-11eb-9304-0242ac110002-8-94ad-0692-d3e2-23b6-47fb-9e6d-47b7-bfbf"
      },
      {
       "current": "3c213ca2-46b3-11eb-ae4f-0242ac110002-11-b0ca-3c42-b67b-e5fd-35f2-6b67-a5eb-8fba-c7c4-412b",
       "next": "84315182-48af-11eb-b4d3-0242ac110002-7-f3a7-2ad3-82f0-5809-ddcb-1bde-9d8f",
       "previous": "a9eb477a-4846-11eb-9304-0242ac110002-9-94ad-0692-d3e2-23b6-47fb-9e6d-47b7-bfbf-9edf"
      },
      {
       "current": "3c213ca2-46b3-11eb-ae4f-0242ac110002-12-3c42-b67b-e5fd-35f2-6b67-a5eb-8fba-c7c4-412b-eb3b",
       "next": "a9eb477a-4846-11eb-9304-0242ac110002-9-94ad-0692-d3e2-23b6-47fb-9e6d-47b7-bfbf-9edf",
       "previous": "a9eb477a-4846-11eb-9304-0242ac110002-10-94ad-0692-d3e2-23b6-47fb-9e6d-47b7-bfbf-9edf-e920"
      },
      {
       "current": "3c213ca2-46b3-11eb-ae4f-0242ac110002-12-3c42-b67b-e5fd-35f2-6b67-a5eb-8fba-c7c4-412b-eb3b",
       "next": "76c9bdc4-736e-11eb-9dd7-0242ac110002",
       "previous": "a9eb477a-4846-11eb-9304-0242ac110002-10-94ad-0692-d3e2-23b6-47fb-9e6d-47b7-bfbf-9edf-e920"
      },
      {
       "current": "3c213ca2-46b3-11eb-ae4f-0242ac110002-13-b67b-e5fd-35f2-6b67-a5eb-8fba-c7c4-412b-eb3b-d7d7",
       "next": "76c9bdc4-736e-11eb-9dd7-0242ac110002-1-77f2",
       "previous": "a9eb477a-4846-11eb-9304-0242ac110002-10-94ad-0692-d3e2-23b6-47fb-9e6d-47b7-bfbf-9edf-e920"
      },
      {
       "current": "3c213ca2-46b3-11eb-ae4f-0242ac110002-13-b67b-e5fd-35f2-6b67-a5eb-8fba-c7c4-412b-eb3b-d7d7",
       "next": "76c9bdc4-736e-11eb-9dd7-0242ac110002-2-77f2-029c",
       "previous": "a9eb477a-4846-11eb-9304-0242ac110002-11-0692-d3e2-23b6-47fb-9e6d-47b7-bfbf-9edf-e920-b353"
      },
      {
       "current": "3c213ca2-46b3-11eb-ae4f-0242ac110002-13-b67b-e5fd-35f2-6b67-a5eb-8fba-c7c4-412b-eb3b-d7d7",
       "next": "76c9bdc4-736e-11eb-9dd7-0242ac110002-2-77f2-029c",
       "previous": "fc5c69ee-83ba-11eb-a693-0242ac110002"
      },
      {
       "current": "3c213ca2-46b3-11eb-ae4f-0242ac110002-14-e5fd-35f2-6b67-a5eb-8fba-c7c4-412b-eb3b-d7d7-fd67",
       "next": "76c9bdc4-736e-11eb-9dd7-0242ac110002-3-77f2-2186-fc61",
       "previous": "fc5c69ee-83ba-11eb-a693-0242ac110002"
      },
      {
       "current": "3c213ca2-46b3-11eb-ae4f-0242ac110002-14-e5fd-35f2-6b67-a5eb-8fba-c7c4-412b-eb3b-d7d7-fd67",
       "next": "76c9bdc4-736e-11eb-9dd7-0242ac110002-3-77f2-2186-fc61",
       "previous": "fc5c69ee-83ba-11eb-a693-0242ac110002"
      }
     ],
     "next": "76c9bdc4-736e-11eb-9dd7-0242ac110002-4-77f2-2186-fc61-54e2",
     "previous": "fc5c69ee-83ba-11eb-a693-0242ac110002-1-bf0e"
    },
    "lc_wrapper": {
     "log_history": [
      "/home/jovyan/digraj202103/.log/20201225/20201225-132056-0045.log",
      "/home/jovyan/digraj202103/.log/20201225/20201225-133829-0991.log",
      "/home/jovyan/digraj202103/.log/20201225/20201225-133845-0326.log",
      "/home/jovyan/digraj202103/.log/20201225/20201225-134048-0375.log",
      "/home/jovyan/digraj202103/.log/20201225/20201225-135415-0333.log",
      "/home/jovyan/digraj202103/.log/20201225/20201225-135439-0496.log",
      "/home/jovyan/digraj202103/.log/20201225/20201225-135507-0051.log",
      "/home/jovyan/digraj202103/.log/20201225/20201225-135716-0913.log",
      "/home/jovyan/digraj202103/.log/20201225/20201225-135723-0731.log",
      "/home/jovyan/digraj202103/.log/20201225/20201225-135750-0211.log",
      "/home/jovyan/digraj202103/.log/20201225/20201225-135807-0391.log",
      "/home/jovyan/digraj202103/.log/20201225/20201225-140119-0543.log",
      "/home/jovyan/digraj202103/.log/20201225/20201225-140309-0403.log",
      "/home/jovyan/digraj202103/.log/20201225/20201225-140408-0965.log",
      "/home/jovyan/digraj202103/.log/20201225/20201225-140434-0061.log",
      "/home/jovyan/digraj202103/.log/20201225/20201225-140520-0214.log",
      "/home/jovyan/digraj202103/.log/20201225/20201225-140553-0537.log",
      "/home/jovyan/digraj202103/.log/20201225/20201225-140814-0989.log",
      "/home/jovyan/digraj202103/.log/20201225/20201225-140829-0112.log",
      "/home/jovyan/digraj202103/.log/20201225/20201225-141019-0971.log",
      "/home/jovyan/digraj202103/.log/20201225/20201225-141103-0525.log",
      "/home/jovyan/digraj202103/.log/20201225/20201225-141337-0547.log",
      "/home/jovyan/digraj202103/.log/20201225/20201225-141516-0366.log",
      "/home/jovyan/digraj202103/.log/20201225/20201225-141654-0104.log",
      "/home/jovyan/digraj202103/.log/20201225/20201225-143142-0789.log",
      "/home/jovyan/digraj202103/.log/20201225/20201225-143158-0662.log",
      "/home/jovyan/digraj202103/.log/20201225/20201225-143746-0183.log",
      "/home/jovyan/digraj202103/.log/20201225/20201225-144244-0495.log",
      "/home/jovyan/digraj202103/.log/20201226/20201226-133705-0191.log",
      "/home/jovyan/digraj202103/.log/20201226/20201226-133808-0397.log",
      "/home/jovyan/digraj202103/.log/20201226/20201226-133901-0277.log",
      "/home/jovyan/digraj202103/.log/20201226/20201226-134144-0382.log",
      "/home/jovyan/digraj202103/.log/20201226/20201226-134237-0708.log",
      "/home/jovyan/digraj202103/.log/20201226/20201226-134301-0564.log",
      "/home/jovyan/digraj202103/.log/20201226/20201226-134423-0895.log",
      "/home/jovyan/digraj202103/.log/20201226/20201226-134537-0460.log",
      "/home/jovyan/digraj202103/.log/20201226/20201226-135411-0327.log",
      "/home/jovyan/digraj202103/.log/20201226/20201226-135429-0028.log",
      "/home/jovyan/digraj202103/.log/20201226/20201226-135538-0516.log",
      "/home/jovyan/digraj202103/.log/20201226/20201226-135900-0505.log",
      "/home/jovyan/digraj202103/.log/20201226/20201226-135914-0827.log",
      "/home/jovyan/digraj202103/.log/20201226/20201226-140032-0344.log",
      "/home/jovyan/digraj202103/.log/20201226/20201226-141555-0967.log",
      "/home/jovyan/digraj202103/.log/20201226/20201226-142313-0079.log",
      "/home/jovyan/digraj202103/.log/20201226/20201226-142328-0245.log",
      "/home/jovyan/digraj202103/.log/20201226/20201226-142532-0495.log",
      "/home/jovyan/digraj202103/.log/20201226/20201226-142918-0653.log",
      "/home/jovyan/digraj202103/.log/20201226/20201226-143409-0106.log",
      "/home/jovyan/digraj202103/.log/20201226/20201226-143534-0850.log",
      "/home/jovyan/digraj202103/.log/20201228/20201228-015302-0235.log",
      "/home/jovyan/digraj202103/.log/20201228/20201228-020133-0582.log",
      "/home/jovyan/digraj202103/.log/20201228/20201228-020302-0250.log",
      "/home/jovyan/digraj202103/.log/20201228/20201228-021045-0892.log",
      "/home/jovyan/digraj202103/.log/20201228/20201228-021144-0019.log",
      "/home/jovyan/digraj202103/.log/20201228/20201228-115505-0834.log",
      "/home/jovyan/digraj202103/.log/20201228/20201228-115635-0176.log",
      "/home/jovyan/digraj202103/.log/20201228/20201228-120010-0930.log",
      "/home/jovyan/digraj202103/.log/20201228/20201228-120533-0118.log",
      "/home/jovyan/digraj202103/.log/20201228/20201228-122124-0828.log",
      "/home/jovyan/digraj202103/.log/20201228/20201228-125634-0543.log",
      "/home/jovyan/digraj202103/.log/20201228/20201228-125644-0489.log",
      "/home/jovyan/digraj202103/.log/20201228/20201228-142709-0635.log",
      "/home/jovyan/digraj202103/.log/20201228/20201228-142938-0778.log",
      "/home/jovyan/digraj202103/.log/20201228/20201228-143009-0624.log",
      "/home/jovyan/digraj202103/.log/20201229/20201229-050121-0675.log",
      "/home/jovyan/digraj202103/.log/20201229/20201229-054329-0607.log",
      "/home/jovyan/digraj202103/.log/20201229/20201229-061513-0976.log",
      "/home/jovyan/digraj202103/.log/20201229/20201229-061554-0434.log",
      "/home/jovyan/digraj202103/.log/20201229/20201229-061734-0076.log",
      "/home/jovyan/digraj202103/.log/20201229/20201229-061919-0173.log",
      "/home/jovyan/digraj202103/.log/20201229/20201229-062753-0320.log",
      "/home/jovyan/digraj202103/.log/20201229/20201229-063025-0867.log",
      "/home/jovyan/digraj202103/.log/20201229/20201229-063047-0647.log",
      "/home/jovyan/digraj202103/.log/20201229/20201229-063102-0634.log",
      "/home/jovyan/digraj202103/.log/20201229/20201229-063216-0078.log",
      "/home/jovyan/digraj202103/.log/20201229/20201229-063235-0603.log",
      "/home/jovyan/digraj202103/.log/20201229/20201229-063431-0247.log",
      "/home/jovyan/digraj202103/.log/20201229/20201229-071841-0511.log",
      "/home/jovyan/digraj202103/.log/20201229/20201229-072746-0887.log",
      "/home/jovyan/digraj202103/.log/20201229/20201229-085935-0967.log",
      "/home/jovyan/digraj202103/.log/20201230/20201230-012245-0926.log",
      "/home/jovyan/digraj202103/.log/20201230/20201230-012915-0303.log",
      "/home/jovyan/digraj202103/.log/20201230/20201230-013045-0015.log",
      "/home/jovyan/digraj202103/.log/20201230/20201230-013223-0281.log",
      "/home/jovyan/digraj202103/.log/20201230/20201230-013524-0041.log",
      "/home/jovyan/digraj202103/.log/20201230/20201230-013559-0674.log",
      "/home/jovyan/digraj202103/.log/20201230/20201230-013637-0778.log",
      "/home/jovyan/digraj202103/.log/20201230/20201230-013704-0800.log",
      "/home/jovyan/digraj202103/.log/20201230/20201230-013918-0327.log",
      "/home/jovyan/digraj202103/.log/20201230/20201230-014141-0335.log",
      "/home/jovyan/digraj202103/.log/20201230/20201230-014224-0865.log",
      "/home/jovyan/digraj202103/.log/20201230/20201230-014408-0210.log",
      "/home/jovyan/digraj202103/.log/20201230/20201230-014720-0773.log",
      "/home/jovyan/digraj202103/.log/20201230/20201230-014756-0255.log",
      "/home/jovyan/digraj202103/.log/20201230/20201230-014834-0406.log",
      "/home/jovyan/digraj202103/.log/20201230/20201230-014916-0666.log",
      "/home/jovyan/digraj202103/.log/20201230/20201230-014940-0226.log",
      "/home/jovyan/digraj202103/.log/20201230/20201230-020958-0443.log",
      "/home/jovyan/digraj202103/.log/20201230/20201230-021124-0592.log",
      "/home/jovyan/digraj202103/.log/20201230/20201230-021244-0237.log",
      "/home/jovyan/digraj202103/.log/20201230/20201230-021757-0735.log",
      "/home/jovyan/digraj202103/.log/20201230/20201230-021826-0907.log",
      "/home/jovyan/digraj202103/.log/20201230/20201230-022118-0663.log",
      "/home/jovyan/digraj202103/.log/20210220/20210220-114224-0546.log",
      "/home/jovyan/digraj202103/.log/20210220/20210220-114254-0503.log",
      "/home/jovyan/digraj202103/.log/20210220/20210220-114736-0982.log",
      "/home/jovyan/digraj202103/.log/20210220/20210220-125034-0802.log",
      "/home/jovyan/digraj202103/.log/20210313/20210313-074646-0440.log",
      "/home/jovyan/digraj202103/.log/20210313/20210313-081851-0604.log",
      "/home/jovyan/digraj202103/.log/20210314/20210314-044453-0884.log",
      "/home/jovyan/digraj202103/.log/20210314/20210314-080634-0685.log"
     ]
    }
   },
   "outputs": [],
   "source": [
    "import math\n",
    "\n",
    "chapters = {}\n",
    "for node in g.nodes():\n",
    "    if node[0:3] in chapters:\n",
    "        chapters[node[0:3]] += 1\n",
    "    else:\n",
    "        chapters[node[0:3]] = 1\n",
    "\n",
    "chapter_edges = {}\n",
    "for n1 in range(0,len(chapters)-1):\n",
    "    n1str = list(chapters)[n1]\n",
    "    for n2 in range(n1+1,len(chapters)):\n",
    "        n2str = list(chapters)[n2]\n",
    "        if not n1str in chapter_edges:\n",
    "            chapter_edges[n1str] = {}\n",
    "        chapter_edges[n1str].update({n2str:0})\n",
    "\n",
    "for edge in g.edges():\n",
    "    if edge[0][0:3] != edge[1][0:3]:\n",
    "        chapter_edges[edge[0][0:3]][edge[1][0:3]] += 1\n",
    "\n",
    "chapg1 = AGraph(chapter_edges, splines=True, layout='neato', overlap=False)\n",
    "chapg2 = AGraph(chapter_edges, splines=True, layout='neato', overlap=False)\n",
    "chapg3 = AGraph(chapter_edges, splines=True, layout='neato', overlap=False)\n",
    "\n",
    "for n1 in range(0,len(chapters)-1):\n",
    "    n1str = list(chapters)[n1]\n",
    "    n1color = [((int(n1/6)+2)%3)*((int(n1/6)+2)%3+1)*51/2+25, (int(n1/2)%3)*(int(n1/2)%3+1)*51/2+25, (n1%2)*128+64]\n",
    "    for n2 in range(n1+1,len(chapters)):\n",
    "        n2str = list(chapters)[n2]\n",
    "        n2color = [((int(n2/6)+2)%3)*((int(n2/6)+2)%3+1)*51/2+25, (int(n2/2)%3)*(int(n2/2)%3+1)*51/2+25, (n2%2)*128+64]\n",
    "        if chapter_edges[n1str][n2str] == 0:\n",
    "            chapg1.delete_edge(n1str,n2str)\n",
    "            chapg2.delete_edge(n1str,n2str)\n",
    "            chapg3.delete_edge(n1str,n2str)\n",
    "        else:\n",
    "            w1 = chapter_edges[n1str][n2str]\n",
    "            w2 = w1/(chapters[n1str]*chapters[n2str])\n",
    "            chapg1.get_edge(n1str,n2str).attr['weight'] = w1\n",
    "            chapg2.get_edge(n1str,n2str).attr['weight'] = w2\n",
    "            penwidth = math.sqrt(w2)*50\n",
    "            chapg1.get_edge(n1str,n2str).attr['penwidth'] = penwidth\n",
    "            chapg2.get_edge(n1str,n2str).attr['penwidth'] = penwidth\n",
    "            chapg3.get_edge(n1str,n2str).attr['penwidth'] = penwidth\n",
    "            color = \"#\"+format(int((n1color[0]+n2color[0])/2), 'x')\\\n",
    "                +format(int((n1color[1]+n2color[1])/2), 'x')+format(int((n1color[2]+n2color[2])/2), 'x')\\\n",
    "                +format(int(255-w2*2500), 'x')\n",
    "            chapg1.get_edge(n1str,n2str).attr['color'] = color\n",
    "            chapg2.get_edge(n1str,n2str).attr['color'] = color\n",
    "            chapg3.get_edge(n1str,n2str).attr['color'] = color\n",
    "\n",
    "chapg1.write(\"chapg1.dot\")\n",
    "chapg2.write(\"chapg2.dot\")\n",
    "chapg3.write(\"chapg3.dot\")"
   ]
  },
  {
   "cell_type": "code",
   "execution_count": null,
   "metadata": {
    "lc_cell_meme": {
     "current": "76c9bdc4-736e-11eb-9dd7-0242ac110002-4-77f2-2186-fc61-54e2",
     "history": [
      {
       "current": "76c9bdc4-736e-11eb-9dd7-0242ac110002-1-77f2",
       "next": "76c9bef0-736e-11eb-9dd7-0242ac110002",
       "previous": "3c213ca2-46b3-11eb-ae4f-0242ac110002-12-3c42-b67b-e5fd-35f2-6b67-a5eb-8fba-c7c4-412b-eb3b"
      },
      {
       "current": "76c9bdc4-736e-11eb-9dd7-0242ac110002-2-77f2-2186",
       "next": "76c9bdc4-736e-11eb-9dd7-0242ac110002",
       "previous": "3c213ca2-46b3-11eb-ae4f-0242ac110002-12-3c42-b67b-e5fd-35f2-6b67-a5eb-8fba-c7c4-412b-eb3b"
      },
      {
       "current": "76c9bdc4-736e-11eb-9dd7-0242ac110002-3-77f2-2186-fc61",
       "next": "76c9bdc4-736e-11eb-9dd7-0242ac110002-1-a133",
       "previous": "76c9bdc4-736e-11eb-9dd7-0242ac110002-1-bdc8"
      },
      {
       "current": "76c9bdc4-736e-11eb-9dd7-0242ac110002-3-77f2-2186-fc61",
       "next": "76c9bdc4-736e-11eb-9dd7-0242ac110002-2-a133-b5fb",
       "previous": "76c9bdc4-736e-11eb-9dd7-0242ac110002-2-bdc8-dfa1"
      },
      {
       "current": "76c9bdc4-736e-11eb-9dd7-0242ac110002-4-77f2-2186-fc61-54e2",
       "next": "76c9bdc4-736e-11eb-9dd7-0242ac110002-2-a133-b5fb",
       "previous": "3c213ca2-46b3-11eb-ae4f-0242ac110002-13-b67b-e5fd-35f2-6b67-a5eb-8fba-c7c4-412b-eb3b-d7d7"
      },
      {
       "current": "76c9bdc4-736e-11eb-9dd7-0242ac110002-4-77f2-2186-fc61-54e2",
       "next": "76c9bdc4-736e-11eb-9dd7-0242ac110002-2-a133-b5fb",
       "previous": "3c213ca2-46b3-11eb-ae4f-0242ac110002-13-b67b-e5fd-35f2-6b67-a5eb-8fba-c7c4-412b-eb3b-d7d7"
      }
     ],
     "next": "76c9bdc4-736e-11eb-9dd7-0242ac110002-3-a133-b5fb-ae6a",
     "previous": "3c213ca2-46b3-11eb-ae4f-0242ac110002-14-e5fd-35f2-6b67-a5eb-8fba-c7c4-412b-eb3b-d7d7-fd67"
    },
    "lc_wrapper": {
     "log_history": [
      "/home/jovyan/digraj202103/.log/20210220/20210220-114332-0861.log",
      "/home/jovyan/digraj202103/.log/20210220/20210220-114749-0558.log",
      "/home/jovyan/digraj202103/.log/20210220/20210220-125035-0309.log",
      "/home/jovyan/digraj202103/.log/20210313/20210313-074706-0410.log",
      "/home/jovyan/digraj202103/.log/20210313/20210313-081854-0607.log",
      "/home/jovyan/digraj202103/.log/20210314/20210314-044524-0042.log",
      "/home/jovyan/digraj202103/.log/20210314/20210314-044608-0835.log",
      "/home/jovyan/digraj202103/.log/20210314/20210314-044620-0118.log",
      "/home/jovyan/digraj202103/.log/20210314/20210314-080640-0212.log"
     ]
    },
    "slideshow": {
     "slide_type": "slide"
    }
   },
   "outputs": [],
   "source": [
    "import networkx as nx\n",
    "from pprint import pprint\n",
    "\n",
    "ng = nx.Graph(chapg3)\n",
    "\n",
    "pr = nx.pagerank_numpy(ng)\n",
    "pr_sorted = sorted(pr.items(), key=lambda x:x[1], reverse=True)\n",
    "print(\"エッジ存在有無で作ったカテゴリNWのPageRank\")\n",
    "pprint(pr_sorted)"
   ]
  },
  {
   "cell_type": "code",
   "execution_count": null,
   "metadata": {
    "lc_cell_meme": {
     "current": "76c9bdc4-736e-11eb-9dd7-0242ac110002-3-a133-b5fb-ae6a",
     "history": [
      {
       "current": "76c9bdc4-736e-11eb-9dd7-0242ac110002",
       "next": "76c9bef0-736e-11eb-9dd7-0242ac110002",
       "previous": "3c213ca2-46b3-11eb-ae4f-0242ac110002-12-3c42-b67b-e5fd-35f2-6b67-a5eb-8fba-c7c4-412b-eb3b"
      },
      {
       "current": "76c9bdc4-736e-11eb-9dd7-0242ac110002-1-a133",
       "next": "76c9bef0-736e-11eb-9dd7-0242ac110002",
       "previous": "76c9bdc4-736e-11eb-9dd7-0242ac110002-1-77f2"
      },
      {
       "current": "76c9bdc4-736e-11eb-9dd7-0242ac110002-1-a133",
       "next": "76c9bef0-736e-11eb-9dd7-0242ac110002",
       "previous": "76c9bdc4-736e-11eb-9dd7-0242ac110002-2-77f2-2186"
      },
      {
       "current": "76c9bdc4-736e-11eb-9dd7-0242ac110002-1-a133",
       "next": "3c213ca2-46b3-11eb-ae4f-0242ac110002-11-b0ca-3c42-b67b-e5fd-35f2-6b67-a5eb-8fba-c7c4-412b",
       "previous": "76c9bdc4-736e-11eb-9dd7-0242ac110002-2-77f2-2186"
      },
      {
       "current": "76c9bdc4-736e-11eb-9dd7-0242ac110002-1-a133",
       "next": "6b19c5bc-7370-11eb-9dd7-0242ac110002",
       "previous": "76c9bdc4-736e-11eb-9dd7-0242ac110002-2-77f2-2186"
      },
      {
       "current": "76c9bdc4-736e-11eb-9dd7-0242ac110002-1-a133",
       "next": "3c213ca2-46b3-11eb-ae4f-0242ac110002-11-b0ca-3c42-b67b-e5fd-35f2-6b67-a5eb-8fba-c7c4-412b",
       "previous": "76c9bdc4-736e-11eb-9dd7-0242ac110002-2-77f2-2186"
      },
      {
       "current": "76c9bdc4-736e-11eb-9dd7-0242ac110002-2-a133-b5fb",
       "next": "a8ff111e-7372-11eb-9dd7-0242ac110002",
       "previous": "76c9bdc4-736e-11eb-9dd7-0242ac110002-2-77f2-2186"
      },
      {
       "current": "76c9bdc4-736e-11eb-9dd7-0242ac110002-3-a133-b5fb-ae6a",
       "next": "a8ff111e-7372-11eb-9dd7-0242ac110002-1-b52f",
       "previous": "76c9bdc4-736e-11eb-9dd7-0242ac110002-3-77f2-2186-fc61"
      },
      {
       "current": "76c9bdc4-736e-11eb-9dd7-0242ac110002-3-a133-b5fb-ae6a",
       "next": "a8ff111e-7372-11eb-9dd7-0242ac110002-1-b52f",
       "previous": "76c9bdc4-736e-11eb-9dd7-0242ac110002-3-77f2-2186-fc61"
      }
     ],
     "next": "a8ff111e-7372-11eb-9dd7-0242ac110002-2-b52f-7263",
     "previous": "76c9bdc4-736e-11eb-9dd7-0242ac110002-4-77f2-2186-fc61-54e2"
    },
    "lc_wrapper": {
     "log_history": [
      "/home/jovyan/digraj202103/.log/20210220/20210220-114338-0694.log",
      "/home/jovyan/digraj202103/.log/20210220/20210220-114751-0250.log",
      "/home/jovyan/digraj202103/.log/20210220/20210220-125035-0330.log",
      "/home/jovyan/digraj202103/.log/20210313/20210313-074706-0803.log",
      "/home/jovyan/digraj202103/.log/20210313/20210313-081857-0956.log",
      "/home/jovyan/digraj202103/.log/20210314/20210314-044626-0489.log",
      "/home/jovyan/digraj202103/.log/20210314/20210314-080655-0176.log"
     ]
    },
    "slideshow": {
     "slide_type": "slide"
    }
   },
   "outputs": [],
   "source": [
    "h,a = nx.hits_numpy(ng)\n",
    "ht_sorted = sorted(h.items(), key=lambda x:x[1], reverse=True)\n",
    "print(\"エッジ存在有無で作ったカテゴリNWのHITS\")\n",
    "pprint(ht_sorted)"
   ]
  },
  {
   "cell_type": "markdown",
   "metadata": {
    "lc_cell_meme": {
     "current": "a8ff111e-7372-11eb-9dd7-0242ac110002-2-b52f-7263",
     "history": [
      {
       "current": "a8ff111e-7372-11eb-9dd7-0242ac110002-1-b52f",
       "next": "3c213ca2-46b3-11eb-ae4f-0242ac110002-11-b0ca-3c42-b67b-e5fd-35f2-6b67-a5eb-8fba-c7c4-412b",
       "previous": "76c9bdc4-736e-11eb-9dd7-0242ac110002-1-a133"
      },
      {
       "current": "a8ff111e-7372-11eb-9dd7-0242ac110002-2-b52f-7263",
       "next": "3c213ca2-46b3-11eb-ae4f-0242ac110002-12-3c42-b67b-e5fd-35f2-6b67-a5eb-8fba-c7c4-412b-aec2",
       "previous": "76c9bdc4-736e-11eb-9dd7-0242ac110002-2-a133-b5fb"
      },
      {
       "current": "a8ff111e-7372-11eb-9dd7-0242ac110002-2-b52f-7263",
       "next": "3c213ca2-46b3-11eb-ae4f-0242ac110002-12-3c42-b67b-e5fd-35f2-6b67-a5eb-8fba-c7c4-412b-aec2",
       "previous": "76c9bdc4-736e-11eb-9dd7-0242ac110002-2-a133-b5fb"
      }
     ],
     "next": "3c213ca2-46b3-11eb-ae4f-0242ac110002-13-b67b-e5fd-35f2-6b67-a5eb-8fba-c7c4-412b-aec2-5566",
     "previous": "76c9bdc4-736e-11eb-9dd7-0242ac110002-3-a133-b5fb-ae6a"
    },
    "slideshow": {
     "slide_type": "slide"
    }
   },
   "source": [
    "エッジ存在有無で作ったカテゴリNWの視覚化（線の太さでパターン間の存在割合エッジ数を表現）"
   ]
  },
  {
   "cell_type": "code",
   "execution_count": null,
   "metadata": {
    "lc_cell_meme": {
     "current": "3c213ca2-46b3-11eb-ae4f-0242ac110002-13-b67b-e5fd-35f2-6b67-a5eb-8fba-c7c4-412b-aec2-5566",
     "history": [
      {
       "current": "3c213ca2-46b3-11eb-ae4f-0242ac110002-1-cdcc",
       "next": "976f40a6-41cf-11eb-aed8-0242ac110002-4-60db-2644-3cd5-2b5b",
       "previous": "6654e0d4-41cf-11eb-aed8-0242ac110002-3-cd5d-5826-0445"
      },
      {
       "current": "3c213ca2-46b3-11eb-ae4f-0242ac110002-2-cdcc-b0ca",
       "next": "976f40a6-41cf-11eb-aed8-0242ac110002-5-60db-2644-3cd5-2b5b-54ec",
       "previous": "6654e0d4-41cf-11eb-aed8-0242ac110002-4-cd5d-5826-0445-14fe"
      },
      {
       "current": "3c213ca2-46b3-11eb-ae4f-0242ac110002-2-cdcc-b0ca",
       "next": "976f40a6-41cf-11eb-aed8-0242ac110002-6-60db-2644-3cd5-2b5b-54ec-4b57",
       "previous": "6654e0d4-41cf-11eb-aed8-0242ac110002-5-cd5d-5826-0445-14fe-df44"
      },
      {
       "current": "3c213ca2-46b3-11eb-ae4f-0242ac110002-3-cdcc-b0ca-3c42",
       "next": "487be4aa-41ce-11eb-aed8-0242ac110002-5-ea87-d481-f626-0acf-311c",
       "previous": "a9eb477a-4846-11eb-9304-0242ac110002"
      },
      {
       "current": "3c213ca2-46b3-11eb-ae4f-0242ac110002-4-cdcc-b0ca-3c42-b67b",
       "next": "487be4aa-41ce-11eb-aed8-0242ac110002-6-ea87-d481-f626-0acf-311c-b439",
       "previous": "a9eb477a-4846-11eb-9304-0242ac110002-1-94ad"
      },
      {
       "current": "3c213ca2-46b3-11eb-ae4f-0242ac110002-4-cdcc-b0ca-3c42-b67b",
       "next": "487be4aa-41ce-11eb-aed8-0242ac110002-7-ea87-d481-f626-0acf-311c-b439-cd95",
       "previous": "a9eb477a-4846-11eb-9304-0242ac110002-2-94ad-0692"
      },
      {
       "current": "3c213ca2-46b3-11eb-ae4f-0242ac110002-5-cdcc-b0ca-3c42-b67b-e5fd",
       "next": "84315182-48af-11eb-b4d3-0242ac110002",
       "previous": "a9eb477a-4846-11eb-9304-0242ac110002-2-94ad-0692"
      },
      {
       "current": "3c213ca2-46b3-11eb-ae4f-0242ac110002-5-cdcc-b0ca-3c42-b67b-e5fd",
       "next": "84315182-48af-11eb-b4d3-0242ac110002-1-f3a7",
       "previous": "a9eb477a-4846-11eb-9304-0242ac110002-3-94ad-0692-d3e2"
      },
      {
       "current": "3c213ca2-46b3-11eb-ae4f-0242ac110002-6-cdcc-b0ca-3c42-b67b-e5fd-35f2",
       "next": "84315182-48af-11eb-b4d3-0242ac110002-1-f3a7",
       "previous": "cba92190-490c-11eb-bea0-0242ac110002"
      },
      {
       "current": "3c213ca2-46b3-11eb-ae4f-0242ac110002-6-cdcc-b0ca-3c42-b67b-e5fd-35f2",
       "next": "84315182-48af-11eb-b4d3-0242ac110002-2-f3a7-2ad3",
       "previous": "cba92190-490c-11eb-bea0-0242ac110002-1-126d"
      },
      {
       "current": "3c213ca2-46b3-11eb-ae4f-0242ac110002-7-cdcc-b0ca-3c42-b67b-e5fd-35f2-6b67",
       "next": "84315182-48af-11eb-b4d3-0242ac110002-2-f3a7-2ad3",
       "previous": "a9eb477a-4846-11eb-9304-0242ac110002-4-94ad-0692-d3e2-23b6"
      },
      {
       "current": "3c213ca2-46b3-11eb-ae4f-0242ac110002-8-cdcc-b0ca-3c42-b67b-e5fd-35f2-6b67-a5eb",
       "next": "84315182-48af-11eb-b4d3-0242ac110002-3-f3a7-2ad3-82f0",
       "previous": "a9eb477a-4846-11eb-9304-0242ac110002-5-94ad-0692-d3e2-23b6-47fb"
      },
      {
       "current": "3c213ca2-46b3-11eb-ae4f-0242ac110002-9-cdcc-b0ca-3c42-b67b-e5fd-35f2-6b67-a5eb-8fba",
       "next": "84315182-48af-11eb-b4d3-0242ac110002-4-f3a7-2ad3-82f0-5809",
       "previous": "a9eb477a-4846-11eb-9304-0242ac110002-6-94ad-0692-d3e2-23b6-47fb-9e6d"
      },
      {
       "current": "3c213ca2-46b3-11eb-ae4f-0242ac110002-10-cdcc-b0ca-3c42-b67b-e5fd-35f2-6b67-a5eb-8fba-c7c4",
       "next": "84315182-48af-11eb-b4d3-0242ac110002-5-f3a7-2ad3-82f0-5809-ddcb",
       "previous": "a9eb477a-4846-11eb-9304-0242ac110002-7-94ad-0692-d3e2-23b6-47fb-9e6d-47b7"
      },
      {
       "current": "3c213ca2-46b3-11eb-ae4f-0242ac110002-11-b0ca-3c42-b67b-e5fd-35f2-6b67-a5eb-8fba-c7c4-412b",
       "next": "84315182-48af-11eb-b4d3-0242ac110002-6-f3a7-2ad3-82f0-5809-ddcb-1bde",
       "previous": "a9eb477a-4846-11eb-9304-0242ac110002-8-94ad-0692-d3e2-23b6-47fb-9e6d-47b7-bfbf"
      },
      {
       "current": "3c213ca2-46b3-11eb-ae4f-0242ac110002-11-b0ca-3c42-b67b-e5fd-35f2-6b67-a5eb-8fba-c7c4-412b",
       "next": "84315182-48af-11eb-b4d3-0242ac110002-7-f3a7-2ad3-82f0-5809-ddcb-1bde-9d8f",
       "previous": "a9eb477a-4846-11eb-9304-0242ac110002-9-94ad-0692-d3e2-23b6-47fb-9e6d-47b7-bfbf-9edf"
      },
      {
       "current": "3c213ca2-46b3-11eb-ae4f-0242ac110002-11-b0ca-3c42-b67b-e5fd-35f2-6b67-a5eb-8fba-c7c4-412b",
       "next": "a9eb477a-4846-11eb-9304-0242ac110002-9-94ad-0692-d3e2-23b6-47fb-9e6d-47b7-bfbf-9edf",
       "previous": "a9eb477a-4846-11eb-9304-0242ac110002-10-94ad-0692-d3e2-23b6-47fb-9e6d-47b7-bfbf-9edf-e920"
      },
      {
       "current": "3c213ca2-46b3-11eb-ae4f-0242ac110002-11-b0ca-3c42-b67b-e5fd-35f2-6b67-a5eb-8fba-c7c4-412b",
       "next": "a9eb477a-4846-11eb-9304-0242ac110002-9-94ad-0692-d3e2-23b6-47fb-9e6d-47b7-bfbf-9edf",
       "previous": "76c9bf9a-736e-11eb-9dd7-0242ac110002"
      },
      {
       "current": "3c213ca2-46b3-11eb-ae4f-0242ac110002-11-b0ca-3c42-b67b-e5fd-35f2-6b67-a5eb-8fba-c7c4-412b",
       "next": "a9eb477a-4846-11eb-9304-0242ac110002-9-94ad-0692-d3e2-23b6-47fb-9e6d-47b7-bfbf-9edf",
       "previous": "76c9bdc4-736e-11eb-9dd7-0242ac110002-1-a133"
      },
      {
       "current": "3c213ca2-46b3-11eb-ae4f-0242ac110002-11-b0ca-3c42-b67b-e5fd-35f2-6b67-a5eb-8fba-c7c4-412b",
       "next": "a9eb477a-4846-11eb-9304-0242ac110002-9-94ad-0692-d3e2-23b6-47fb-9e6d-47b7-bfbf-9edf",
       "previous": "6b19c6fc-7370-11eb-9dd7-0242ac110002"
      },
      {
       "current": "3c213ca2-46b3-11eb-ae4f-0242ac110002-11-b0ca-3c42-b67b-e5fd-35f2-6b67-a5eb-8fba-c7c4-412b",
       "next": "a9eb477a-4846-11eb-9304-0242ac110002-9-94ad-0692-d3e2-23b6-47fb-9e6d-47b7-bfbf-9edf",
       "previous": "76c9bdc4-736e-11eb-9dd7-0242ac110002-1-a133"
      },
      {
       "current": "3c213ca2-46b3-11eb-ae4f-0242ac110002-11-b0ca-3c42-b67b-e5fd-35f2-6b67-a5eb-8fba-c7c4-412b",
       "next": "a9eb477a-4846-11eb-9304-0242ac110002-9-94ad-0692-d3e2-23b6-47fb-9e6d-47b7-bfbf-9edf",
       "previous": "a8ff111e-7372-11eb-9dd7-0242ac110002"
      },
      {
       "current": "3c213ca2-46b3-11eb-ae4f-0242ac110002-12-3c42-b67b-e5fd-35f2-6b67-a5eb-8fba-c7c4-412b-aec2",
       "next": "a9eb477a-4846-11eb-9304-0242ac110002-10-94ad-0692-d3e2-23b6-47fb-9e6d-47b7-bfbf-9edf-2ddb",
       "previous": "a8ff111e-7372-11eb-9dd7-0242ac110002"
      },
      {
       "current": "3c213ca2-46b3-11eb-ae4f-0242ac110002-12-3c42-b67b-e5fd-35f2-6b67-a5eb-8fba-c7c4-412b-aec2",
       "next": "a9eb477a-4846-11eb-9304-0242ac110002-11-0692-d3e2-23b6-47fb-9e6d-47b7-bfbf-9edf-2ddb-38c8",
       "previous": "a8ff111e-7372-11eb-9dd7-0242ac110002-1-b52f"
      },
      {
       "current": "3c213ca2-46b3-11eb-ae4f-0242ac110002-13-b67b-e5fd-35f2-6b67-a5eb-8fba-c7c4-412b-aec2-5566",
       "next": "25839a42-83cd-11eb-a693-0242ac110002",
       "previous": "a8ff111e-7372-11eb-9dd7-0242ac110002-1-b52f"
      },
      {
       "current": "3c213ca2-46b3-11eb-ae4f-0242ac110002-13-b67b-e5fd-35f2-6b67-a5eb-8fba-c7c4-412b-aec2-5566",
       "next": "25839a42-83cd-11eb-a693-0242ac110002",
       "previous": "a8ff111e-7372-11eb-9dd7-0242ac110002-1-b52f"
      }
     ],
     "next": "25839a42-83cd-11eb-a693-0242ac110002-1-3961",
     "previous": "a8ff111e-7372-11eb-9dd7-0242ac110002-2-b52f-7263"
    },
    "lc_wrapper": {
     "log_history": [
      "/home/jovyan/digraj202103/.log/20201225/20201225-132056-0045.log",
      "/home/jovyan/digraj202103/.log/20201225/20201225-133829-0991.log",
      "/home/jovyan/digraj202103/.log/20201225/20201225-133845-0326.log",
      "/home/jovyan/digraj202103/.log/20201225/20201225-134048-0375.log",
      "/home/jovyan/digraj202103/.log/20201225/20201225-135415-0333.log",
      "/home/jovyan/digraj202103/.log/20201225/20201225-135439-0496.log",
      "/home/jovyan/digraj202103/.log/20201225/20201225-135507-0051.log",
      "/home/jovyan/digraj202103/.log/20201225/20201225-135716-0913.log",
      "/home/jovyan/digraj202103/.log/20201225/20201225-135723-0731.log",
      "/home/jovyan/digraj202103/.log/20201225/20201225-135750-0211.log",
      "/home/jovyan/digraj202103/.log/20201225/20201225-135807-0391.log",
      "/home/jovyan/digraj202103/.log/20201225/20201225-140119-0543.log",
      "/home/jovyan/digraj202103/.log/20201225/20201225-140309-0403.log",
      "/home/jovyan/digraj202103/.log/20201225/20201225-140408-0965.log",
      "/home/jovyan/digraj202103/.log/20201225/20201225-140434-0061.log",
      "/home/jovyan/digraj202103/.log/20201225/20201225-140520-0214.log",
      "/home/jovyan/digraj202103/.log/20201225/20201225-140553-0537.log",
      "/home/jovyan/digraj202103/.log/20201225/20201225-140814-0989.log",
      "/home/jovyan/digraj202103/.log/20201225/20201225-140829-0112.log",
      "/home/jovyan/digraj202103/.log/20201225/20201225-141019-0971.log",
      "/home/jovyan/digraj202103/.log/20201225/20201225-141103-0525.log",
      "/home/jovyan/digraj202103/.log/20201225/20201225-141337-0547.log",
      "/home/jovyan/digraj202103/.log/20201225/20201225-141516-0366.log",
      "/home/jovyan/digraj202103/.log/20201225/20201225-141654-0104.log",
      "/home/jovyan/digraj202103/.log/20201225/20201225-143142-0789.log",
      "/home/jovyan/digraj202103/.log/20201225/20201225-143158-0662.log",
      "/home/jovyan/digraj202103/.log/20201225/20201225-143746-0183.log",
      "/home/jovyan/digraj202103/.log/20201225/20201225-144244-0495.log",
      "/home/jovyan/digraj202103/.log/20201226/20201226-133705-0191.log",
      "/home/jovyan/digraj202103/.log/20201226/20201226-133808-0397.log",
      "/home/jovyan/digraj202103/.log/20201226/20201226-133901-0277.log",
      "/home/jovyan/digraj202103/.log/20201226/20201226-134144-0382.log",
      "/home/jovyan/digraj202103/.log/20201226/20201226-134237-0708.log",
      "/home/jovyan/digraj202103/.log/20201226/20201226-134301-0564.log",
      "/home/jovyan/digraj202103/.log/20201226/20201226-134423-0895.log",
      "/home/jovyan/digraj202103/.log/20201226/20201226-134537-0460.log",
      "/home/jovyan/digraj202103/.log/20201226/20201226-135411-0327.log",
      "/home/jovyan/digraj202103/.log/20201226/20201226-135429-0028.log",
      "/home/jovyan/digraj202103/.log/20201226/20201226-135538-0516.log",
      "/home/jovyan/digraj202103/.log/20201226/20201226-135900-0505.log",
      "/home/jovyan/digraj202103/.log/20201226/20201226-135914-0827.log",
      "/home/jovyan/digraj202103/.log/20201226/20201226-140032-0344.log",
      "/home/jovyan/digraj202103/.log/20201226/20201226-141555-0967.log",
      "/home/jovyan/digraj202103/.log/20201226/20201226-142313-0079.log",
      "/home/jovyan/digraj202103/.log/20201226/20201226-142328-0245.log",
      "/home/jovyan/digraj202103/.log/20201226/20201226-142532-0495.log",
      "/home/jovyan/digraj202103/.log/20201226/20201226-142918-0653.log",
      "/home/jovyan/digraj202103/.log/20201226/20201226-143409-0106.log",
      "/home/jovyan/digraj202103/.log/20201226/20201226-143534-0850.log",
      "/home/jovyan/digraj202103/.log/20201228/20201228-015302-0235.log",
      "/home/jovyan/digraj202103/.log/20201228/20201228-020133-0582.log",
      "/home/jovyan/digraj202103/.log/20201228/20201228-020302-0250.log",
      "/home/jovyan/digraj202103/.log/20201228/20201228-021045-0892.log",
      "/home/jovyan/digraj202103/.log/20201228/20201228-021144-0019.log",
      "/home/jovyan/digraj202103/.log/20201228/20201228-115505-0834.log",
      "/home/jovyan/digraj202103/.log/20201228/20201228-115635-0176.log",
      "/home/jovyan/digraj202103/.log/20201228/20201228-120010-0930.log",
      "/home/jovyan/digraj202103/.log/20201228/20201228-120533-0118.log",
      "/home/jovyan/digraj202103/.log/20201228/20201228-122124-0828.log",
      "/home/jovyan/digraj202103/.log/20201228/20201228-125634-0543.log",
      "/home/jovyan/digraj202103/.log/20201228/20201228-125644-0489.log",
      "/home/jovyan/digraj202103/.log/20201228/20201228-142709-0635.log",
      "/home/jovyan/digraj202103/.log/20201228/20201228-142938-0778.log",
      "/home/jovyan/digraj202103/.log/20201228/20201228-143009-0624.log",
      "/home/jovyan/digraj202103/.log/20201229/20201229-050121-0675.log",
      "/home/jovyan/digraj202103/.log/20201229/20201229-054329-0607.log",
      "/home/jovyan/digraj202103/.log/20201229/20201229-061513-0976.log",
      "/home/jovyan/digraj202103/.log/20201229/20201229-061554-0434.log",
      "/home/jovyan/digraj202103/.log/20201229/20201229-061734-0076.log",
      "/home/jovyan/digraj202103/.log/20201229/20201229-061919-0173.log",
      "/home/jovyan/digraj202103/.log/20201229/20201229-062753-0320.log",
      "/home/jovyan/digraj202103/.log/20201229/20201229-063025-0867.log",
      "/home/jovyan/digraj202103/.log/20201229/20201229-063047-0647.log",
      "/home/jovyan/digraj202103/.log/20201229/20201229-063102-0634.log",
      "/home/jovyan/digraj202103/.log/20201229/20201229-063216-0078.log",
      "/home/jovyan/digraj202103/.log/20201229/20201229-063235-0603.log",
      "/home/jovyan/digraj202103/.log/20201229/20201229-063431-0247.log",
      "/home/jovyan/digraj202103/.log/20201229/20201229-071841-0511.log",
      "/home/jovyan/digraj202103/.log/20201229/20201229-072746-0887.log",
      "/home/jovyan/digraj202103/.log/20201229/20201229-085935-0967.log",
      "/home/jovyan/digraj202103/.log/20201230/20201230-012245-0926.log",
      "/home/jovyan/digraj202103/.log/20201230/20201230-012915-0303.log",
      "/home/jovyan/digraj202103/.log/20201230/20201230-013045-0015.log",
      "/home/jovyan/digraj202103/.log/20201230/20201230-013223-0281.log",
      "/home/jovyan/digraj202103/.log/20201230/20201230-013524-0041.log",
      "/home/jovyan/digraj202103/.log/20201230/20201230-013559-0674.log",
      "/home/jovyan/digraj202103/.log/20201230/20201230-013637-0778.log",
      "/home/jovyan/digraj202103/.log/20201230/20201230-013704-0800.log",
      "/home/jovyan/digraj202103/.log/20201230/20201230-013918-0327.log",
      "/home/jovyan/digraj202103/.log/20201230/20201230-014141-0335.log",
      "/home/jovyan/digraj202103/.log/20201230/20201230-014224-0865.log",
      "/home/jovyan/digraj202103/.log/20201230/20201230-014408-0210.log",
      "/home/jovyan/digraj202103/.log/20201230/20201230-014720-0773.log",
      "/home/jovyan/digraj202103/.log/20201230/20201230-014756-0255.log",
      "/home/jovyan/digraj202103/.log/20201230/20201230-014834-0406.log",
      "/home/jovyan/digraj202103/.log/20201230/20201230-014916-0666.log",
      "/home/jovyan/digraj202103/.log/20201230/20201230-014940-0226.log",
      "/home/jovyan/digraj202103/.log/20201230/20201230-020958-0443.log",
      "/home/jovyan/digraj202103/.log/20201230/20201230-021124-0592.log",
      "/home/jovyan/digraj202103/.log/20201230/20201230-021244-0237.log",
      "/home/jovyan/digraj202103/.log/20201230/20201230-021757-0735.log",
      "/home/jovyan/digraj202103/.log/20201230/20201230-021826-0907.log",
      "/home/jovyan/digraj202103/.log/20201230/20201230-022118-0663.log",
      "/home/jovyan/digraj202103/.log/20210220/20210220-114412-0123.log",
      "/home/jovyan/digraj202103/.log/20210220/20210220-114754-0300.log",
      "/home/jovyan/digraj202103/.log/20210220/20210220-125035-0349.log",
      "/home/jovyan/digraj202103/.log/20210313/20210313-074713-0419.log",
      "/home/jovyan/digraj202103/.log/20210313/20210313-081901-0159.log",
      "/home/jovyan/digraj202103/.log/20210313/20210313-082047-0963.log",
      "/home/jovyan/digraj202103/.log/20210313/20210313-082136-0246.log",
      "/home/jovyan/digraj202103/.log/20210314/20210314-044631-0780.log",
      "/home/jovyan/digraj202103/.log/20210314/20210314-080706-0676.log"
     ]
    }
   },
   "outputs": [],
   "source": [
    "!dot -Tpng chapg3.dot -ochapg3.png\n",
    "from IPython.display import Image, display_png\n",
    "display_png(Image(\"chapg3.png\", width=300))"
   ]
  },
  {
   "cell_type": "markdown",
   "metadata": {
    "lc_cell_meme": {
     "current": "25839a42-83cd-11eb-a693-0242ac110002-1-3961",
     "history": [
      {
       "current": "25839a42-83cd-11eb-a693-0242ac110002",
       "next": "25839bbe-83cd-11eb-a693-0242ac110002",
       "previous": "3c213ca2-46b3-11eb-ae4f-0242ac110002-12-3c42-b67b-e5fd-35f2-6b67-a5eb-8fba-c7c4-412b-aec2"
      },
      {
       "current": "25839a42-83cd-11eb-a693-0242ac110002-1-3961",
       "next": "165510e2-83d6-11eb-a693-0242ac110002",
       "previous": "3c213ca2-46b3-11eb-ae4f-0242ac110002-12-3c42-b67b-e5fd-35f2-6b67-a5eb-8fba-c7c4-412b-aec2"
      },
      {
       "current": "25839a42-83cd-11eb-a693-0242ac110002-1-3961",
       "next": "165510e2-83d6-11eb-a693-0242ac110002",
       "previous": "3c213ca2-46b3-11eb-ae4f-0242ac110002-12-3c42-b67b-e5fd-35f2-6b67-a5eb-8fba-c7c4-412b-aec2"
      }
     ],
     "next": "165510e2-83d6-11eb-a693-0242ac110002-1-b119",
     "previous": "3c213ca2-46b3-11eb-ae4f-0242ac110002-13-b67b-e5fd-35f2-6b67-a5eb-8fba-c7c4-412b-aec2-5566"
    }
   },
   "source": [
    "繋がっていることより、どこが繋がっていないかの方が、意味を持ってるような雰囲気ある。グラフ理論でその辺、何かあるかな。"
   ]
  },
  {
   "cell_type": "markdown",
   "metadata": {
    "lc_cell_meme": {
     "current": "165510e2-83d6-11eb-a693-0242ac110002-1-b119",
     "history": [
      {
       "current": "165510e2-83d6-11eb-a693-0242ac110002",
       "next": "25839bbe-83cd-11eb-a693-0242ac110002",
       "previous": "25839a42-83cd-11eb-a693-0242ac110002"
      },
      {
       "current": "165510e2-83d6-11eb-a693-0242ac110002-1-b119",
       "next": "25839bbe-83cd-11eb-a693-0242ac110002-2-bcdb-19af",
       "previous": "25839a42-83cd-11eb-a693-0242ac110002"
      },
      {
       "current": "165510e2-83d6-11eb-a693-0242ac110002-1-b119",
       "next": "25839bbe-83cd-11eb-a693-0242ac110002-2-bcdb-19af",
       "previous": "25839a42-83cd-11eb-a693-0242ac110002"
      }
     ],
     "next": "25839bbe-83cd-11eb-a693-0242ac110002-3-bcdb-19af-e24d",
     "previous": "25839a42-83cd-11eb-a693-0242ac110002-1-3961"
    },
    "slideshow": {
     "slide_type": "slide"
    }
   },
   "source": [
    "よし「ゲーム終了と勝利（VIC）」について見てみよう。寄り道、終わり。"
   ]
  },
  {
   "cell_type": "markdown",
   "metadata": {
    "lc_cell_meme": {
     "current": "25839bbe-83cd-11eb-a693-0242ac110002-3-bcdb-19af-e24d",
     "history": [
      {
       "current": "25839bbe-83cd-11eb-a693-0242ac110002",
       "next": "a9eb477a-4846-11eb-9304-0242ac110002-11-0692-d3e2-23b6-47fb-9e6d-47b7-bfbf-9edf-2ddb-38c8",
       "previous": "25839a42-83cd-11eb-a693-0242ac110002"
      },
      {
       "current": "25839bbe-83cd-11eb-a693-0242ac110002-2-bcdb-19af",
       "next": "a9eb477a-4846-11eb-9304-0242ac110002-11-0692-d3e2-23b6-47fb-9e6d-47b7-bfbf-9edf-2ddb-38c8",
       "previous": "165510e2-83d6-11eb-a693-0242ac110002"
      },
      {
       "current": "25839bbe-83cd-11eb-a693-0242ac110002-3-bcdb-19af-e24d",
       "next": "25839bbe-83cd-11eb-a693-0242ac110002-1-9011",
       "previous": "165510e2-83d6-11eb-a693-0242ac110002"
      },
      {
       "current": "25839bbe-83cd-11eb-a693-0242ac110002-3-bcdb-19af-e24d",
       "next": "25839bbe-83cd-11eb-a693-0242ac110002-1-9011",
       "previous": "165510e2-83d6-11eb-a693-0242ac110002"
      }
     ],
     "next": "25839bbe-83cd-11eb-a693-0242ac110002-2-9011-5314",
     "previous": "165510e2-83d6-11eb-a693-0242ac110002-1-b119"
    },
    "slideshow": {
     "slide_type": "slide"
    }
   },
   "source": [
    "<span style=\"font-size: 150%;\">「ゲームメカニクス大全」への不満：</span>\n",
    "\n",
    "<span style=\"font-size: 150%;\">パターンの関係についてもっと情報が欲しい</span>"
   ]
  },
  {
   "cell_type": "markdown",
   "metadata": {
    "lc_cell_meme": {
     "current": "25839bbe-83cd-11eb-a693-0242ac110002-2-9011-5314",
     "history": [
      {
       "current": "25839bbe-83cd-11eb-a693-0242ac110002",
       "next": "a9eb477a-4846-11eb-9304-0242ac110002-11-0692-d3e2-23b6-47fb-9e6d-47b7-bfbf-9edf-2ddb-38c8",
       "previous": "25839a42-83cd-11eb-a693-0242ac110002"
      },
      {
       "current": "25839bbe-83cd-11eb-a693-0242ac110002-1-9011",
       "next": "a9eb477a-4846-11eb-9304-0242ac110002-11-0692-d3e2-23b6-47fb-9e6d-47b7-bfbf-9edf-2ddb-38c8",
       "previous": "165510e2-83d6-11eb-a693-0242ac110002"
      },
      {
       "current": "25839bbe-83cd-11eb-a693-0242ac110002-1-9011",
       "next": "a9eb477a-4846-11eb-9304-0242ac110002-11-0692-d3e2-23b6-47fb-9e6d-47b7-bfbf-9edf-2ddb-38c8",
       "previous": "25839bbe-83cd-11eb-a693-0242ac110002-2-bcdb-19af"
      },
      {
       "current": "25839bbe-83cd-11eb-a693-0242ac110002-2-9011-5314",
       "next": "a9eb477a-4846-11eb-9304-0242ac110002-12-d3e2-23b6-47fb-9e6d-47b7-bfbf-9edf-56b8-b68c-952e",
       "previous": "25839bbe-83cd-11eb-a693-0242ac110002-2-bcdb-19af"
      },
      {
       "current": "25839bbe-83cd-11eb-a693-0242ac110002-2-9011-5314",
       "next": "a9eb477a-4846-11eb-9304-0242ac110002-12-d3e2-23b6-47fb-9e6d-47b7-bfbf-9edf-56b8-b68c-952e",
       "previous": "25839bbe-83cd-11eb-a693-0242ac110002-2-bcdb-19af"
      }
     ],
     "next": "a9eb477a-4846-11eb-9304-0242ac110002-13-23b6-47fb-9e6d-47b7-bfbf-9edf-56b8-b68c-952e-5098",
     "previous": "25839bbe-83cd-11eb-a693-0242ac110002-3-bcdb-19af-e24d"
    },
    "slideshow": {
     "slide_type": "slide"
    }
   },
   "source": [
    "例えば「親子関係」。同じカテゴリのパターンに、汎化関係を見つけることができるのではないか。また、親の持つ他のパターンとの関係が、子においても成立するか確認すれば、パターンの参照関係を増やすことができる。パターンの参照関係を増やせれば、より実用性が向上すると期待できる。"
   ]
  },
  {
   "cell_type": "markdown",
   "metadata": {
    "lc_cell_meme": {
     "current": "a9eb477a-4846-11eb-9304-0242ac110002-13-23b6-47fb-9e6d-47b7-bfbf-9edf-56b8-b68c-952e-5098",
     "history": [
      {
       "current": "a9eb477a-4846-11eb-9304-0242ac110002-1-94ad",
       "next": "3c213ca2-46b3-11eb-ae4f-0242ac110002-2-cdcc-b0ca",
       "previous": "a9eb4586-4846-11eb-9304-0242ac110002"
      },
      {
       "current": "a9eb477a-4846-11eb-9304-0242ac110002-2-94ad-0692",
       "next": "3c213ca2-46b3-11eb-ae4f-0242ac110002-3-cdcc-b0ca-3c42",
       "previous": "a9eb4586-4846-11eb-9304-0242ac110002-1-9391"
      },
      {
       "current": "a9eb477a-4846-11eb-9304-0242ac110002-3-94ad-0692-d3e2",
       "next": "3c213ca2-46b3-11eb-ae4f-0242ac110002-4-cdcc-b0ca-3c42-b67b",
       "previous": "a9eb4586-4846-11eb-9304-0242ac110002-2-9391-b159"
      },
      {
       "current": "a9eb477a-4846-11eb-9304-0242ac110002-3-94ad-0692-d3e2",
       "next": "3c213ca2-46b3-11eb-ae4f-0242ac110002-5-cdcc-b0ca-3c42-b67b-e5fd",
       "previous": "a9eb4586-4846-11eb-9304-0242ac110002-3-9391-b159-492f"
      },
      {
       "current": "a9eb477a-4846-11eb-9304-0242ac110002-4-94ad-0692-d3e2-23b6",
       "next": "cba92190-490c-11eb-bea0-0242ac110002",
       "previous": "a9eb4586-4846-11eb-9304-0242ac110002-3-9391-b159-492f"
      },
      {
       "current": "a9eb477a-4846-11eb-9304-0242ac110002-4-94ad-0692-d3e2-23b6",
       "next": "cba92190-490c-11eb-bea0-0242ac110002-1-126d",
       "previous": "a9eb4586-4846-11eb-9304-0242ac110002-4-9391-b159-492f-0708"
      },
      {
       "current": "a9eb477a-4846-11eb-9304-0242ac110002-5-94ad-0692-d3e2-23b6-47fb",
       "next": "3c213ca2-46b3-11eb-ae4f-0242ac110002-6-cdcc-b0ca-3c42-b67b-e5fd-35f2",
       "previous": "a9eb4586-4846-11eb-9304-0242ac110002-4-9391-b159-492f-0708"
      },
      {
       "current": "a9eb477a-4846-11eb-9304-0242ac110002-6-94ad-0692-d3e2-23b6-47fb-9e6d",
       "next": "3c213ca2-46b3-11eb-ae4f-0242ac110002-7-cdcc-b0ca-3c42-b67b-e5fd-35f2-6b67",
       "previous": "a9eb4586-4846-11eb-9304-0242ac110002-5-9391-b159-492f-0708-97e6"
      },
      {
       "current": "a9eb477a-4846-11eb-9304-0242ac110002-7-94ad-0692-d3e2-23b6-47fb-9e6d-47b7",
       "next": "3c213ca2-46b3-11eb-ae4f-0242ac110002-8-cdcc-b0ca-3c42-b67b-e5fd-35f2-6b67-a5eb",
       "previous": "a9eb4586-4846-11eb-9304-0242ac110002-6-9391-b159-492f-0708-97e6-9b3f"
      },
      {
       "current": "a9eb477a-4846-11eb-9304-0242ac110002-8-94ad-0692-d3e2-23b6-47fb-9e6d-47b7-bfbf",
       "next": "3c213ca2-46b3-11eb-ae4f-0242ac110002-9-cdcc-b0ca-3c42-b67b-e5fd-35f2-6b67-a5eb-8fba",
       "previous": "a9eb4586-4846-11eb-9304-0242ac110002-7-9391-b159-492f-0708-97e6-9b3f-632b"
      },
      {
       "current": "a9eb477a-4846-11eb-9304-0242ac110002-9-94ad-0692-d3e2-23b6-47fb-9e6d-47b7-bfbf-9edf",
       "next": "3c213ca2-46b3-11eb-ae4f-0242ac110002-10-cdcc-b0ca-3c42-b67b-e5fd-35f2-6b67-a5eb-8fba-c7c4",
       "previous": "a9eb4586-4846-11eb-9304-0242ac110002-8-9391-b159-492f-0708-97e6-9b3f-632b-ae97"
      },
      {
       "current": "a9eb477a-4846-11eb-9304-0242ac110002-9-94ad-0692-d3e2-23b6-47fb-9e6d-47b7-bfbf-9edf",
       "next": "3c213ca2-46b3-11eb-ae4f-0242ac110002-11-b0ca-3c42-b67b-e5fd-35f2-6b67-a5eb-8fba-c7c4-412b",
       "previous": "a9eb4586-4846-11eb-9304-0242ac110002-9-9391-b159-492f-0708-97e6-9b3f-632b-ae97-9254"
      },
      {
       "current": "a9eb477a-4846-11eb-9304-0242ac110002-9-94ad-0692-d3e2-23b6-47fb-9e6d-47b7-bfbf-9edf",
       "next": "84315182-48af-11eb-b4d3-0242ac110002-7-f3a7-2ad3-82f0-5809-ddcb-1bde-9d8f",
       "previous": "3c213ca2-46b3-11eb-ae4f-0242ac110002-11-b0ca-3c42-b67b-e5fd-35f2-6b67-a5eb-8fba-c7c4-412b"
      },
      {
       "current": "a9eb477a-4846-11eb-9304-0242ac110002-10-94ad-0692-d3e2-23b6-47fb-9e6d-47b7-bfbf-9edf-56b8",
       "next": "84315182-48af-11eb-b4d3-0242ac110002-7-f3a7-2ad3-82f0-5809-ddcb-1bde-9d8f",
       "previous": "a9eb477a-4846-11eb-9304-0242ac110002-10-94ad-0692-d3e2-23b6-47fb-9e6d-47b7-bfbf-9edf-2ddb"
      },
      {
       "current": "a9eb477a-4846-11eb-9304-0242ac110002-10-94ad-0692-d3e2-23b6-47fb-9e6d-47b7-bfbf-9edf-56b8",
       "next": "a9eb477a-4846-11eb-9304-0242ac110002-9-94ad-0692-d3e2-23b6-47fb-9e6d-47b7-bfbf-9edf",
       "previous": "a9eb477a-4846-11eb-9304-0242ac110002-10-94ad-0692-d3e2-23b6-47fb-9e6d-47b7-bfbf-9edf-2ddb"
      },
      {
       "current": "a9eb477a-4846-11eb-9304-0242ac110002-11-0692-d3e2-23b6-47fb-9e6d-47b7-bfbf-9edf-56b8-b68c",
       "next": "a9eb477a-4846-11eb-9304-0242ac110002-10-94ad-0692-d3e2-23b6-47fb-9e6d-47b7-bfbf-9edf-d926",
       "previous": "a9eb477a-4846-11eb-9304-0242ac110002-10-94ad-0692-d3e2-23b6-47fb-9e6d-47b7-bfbf-9edf-2ddb"
      },
      {
       "current": "a9eb477a-4846-11eb-9304-0242ac110002-12-d3e2-23b6-47fb-9e6d-47b7-bfbf-9edf-56b8-b68c-952e",
       "next": "034d9ebc-7376-11eb-9dd7-0242ac110002",
       "previous": "a9eb477a-4846-11eb-9304-0242ac110002-10-94ad-0692-d3e2-23b6-47fb-9e6d-47b7-bfbf-9edf-2ddb"
      },
      {
       "current": "a9eb477a-4846-11eb-9304-0242ac110002-12-d3e2-23b6-47fb-9e6d-47b7-bfbf-9edf-56b8-b68c-952e",
       "next": "034d9ebc-7376-11eb-9dd7-0242ac110002-1-78f8",
       "previous": "a9eb477a-4846-11eb-9304-0242ac110002-11-0692-d3e2-23b6-47fb-9e6d-47b7-bfbf-9edf-2ddb-38c8"
      },
      {
       "current": "a9eb477a-4846-11eb-9304-0242ac110002-12-d3e2-23b6-47fb-9e6d-47b7-bfbf-9edf-56b8-b68c-952e",
       "next": "034d9ebc-7376-11eb-9dd7-0242ac110002-1-78f8",
       "previous": "25839bbe-83cd-11eb-a693-0242ac110002-1-9011"
      },
      {
       "current": "a9eb477a-4846-11eb-9304-0242ac110002-13-23b6-47fb-9e6d-47b7-bfbf-9edf-56b8-b68c-952e-5098",
       "next": "e195f5ee-83d8-11eb-a693-0242ac110002",
       "previous": "25839bbe-83cd-11eb-a693-0242ac110002-1-9011"
      },
      {
       "current": "a9eb477a-4846-11eb-9304-0242ac110002-13-23b6-47fb-9e6d-47b7-bfbf-9edf-56b8-b68c-952e-5098",
       "next": "e195f5ee-83d8-11eb-a693-0242ac110002",
       "previous": "25839bbe-83cd-11eb-a693-0242ac110002-1-9011"
      }
     ],
     "next": "e195f5ee-83d8-11eb-a693-0242ac110002-1-b492",
     "previous": "25839bbe-83cd-11eb-a693-0242ac110002-2-9011-5314"
    },
    "slideshow": {
     "slide_type": "slide"
    }
   },
   "source": [
    "　まず、VIC内のパターンを読んで表のようにタイプ分類を行った。\n",
    "\n",
    "| タイプ               | パターン                                        | \n",
    "| -------------------- | ----------------------------------------------- | \n",
    "| 勝利点増減           | vic01, vic02, vic03, vic04, vic06, vic17, vic20 | \n",
    "| かけひき             | vic05, vic18                                    | \n",
    "| 勝利条件＋終了条件   | vic07, vic08                                    | \n",
    "| 終了条件             | vic09, vic10, vic11, vic12, vic13, vic14, vic15 | \n",
    "| 勝利条件             | vic16                                           | \n",
    "| 勝利点増減＋終了条件 | vic19                                           | "
   ]
  },
  {
   "cell_type": "markdown",
   "metadata": {
    "lc_cell_meme": {
     "current": "e195f5ee-83d8-11eb-a693-0242ac110002-1-b492",
     "history": [
      {
       "current": "e195f5ee-83d8-11eb-a693-0242ac110002-1-b492",
       "next": "034d9ebc-7376-11eb-9dd7-0242ac110002-1-78f8",
       "previous": "a9eb477a-4846-11eb-9304-0242ac110002-12-d3e2-23b6-47fb-9e6d-47b7-bfbf-9edf-56b8-b68c-952e"
      },
      {
       "current": "e195f5ee-83d8-11eb-a693-0242ac110002-1-b492",
       "next": "034d9ebc-7376-11eb-9dd7-0242ac110002-1-78f8",
       "previous": "a9eb477a-4846-11eb-9304-0242ac110002-12-d3e2-23b6-47fb-9e6d-47b7-bfbf-9edf-56b8-b68c-952e"
      }
     ],
     "next": "034d9ebc-7376-11eb-9dd7-0242ac110002-2-78f8-b8b1",
     "previous": "a9eb477a-4846-11eb-9304-0242ac110002-13-23b6-47fb-9e6d-47b7-bfbf-9edf-56b8-b68c-952e-5098"
    },
    "slideshow": {
     "slide_type": "slide"
    }
   },
   "source": [
    "親子関係は同じタイプのパターン間にしか現れないと仮定して、VICのパターン間に付けられた参照について検討していく。"
   ]
  },
  {
   "cell_type": "code",
   "execution_count": null,
   "metadata": {
    "lc_cell_meme": {
     "current": "034d9ebc-7376-11eb-9dd7-0242ac110002-2-78f8-b8b1",
     "history": [
      {
       "current": "034d9ebc-7376-11eb-9dd7-0242ac110002-1-78f8",
       "next": "a9eb477a-4846-11eb-9304-0242ac110002-10-94ad-0692-d3e2-23b6-47fb-9e6d-47b7-bfbf-9edf-56b8",
       "previous": "a9eb477a-4846-11eb-9304-0242ac110002-11-0692-d3e2-23b6-47fb-9e6d-47b7-bfbf-9edf-56b8-b68c"
      },
      {
       "current": "034d9ebc-7376-11eb-9dd7-0242ac110002-1-78f8",
       "next": "a9eb477a-4846-11eb-9304-0242ac110002-11-0692-d3e2-23b6-47fb-9e6d-47b7-bfbf-9edf-56b8-781e",
       "previous": "a9eb477a-4846-11eb-9304-0242ac110002-12-d3e2-23b6-47fb-9e6d-47b7-bfbf-9edf-56b8-b68c-952e"
      },
      {
       "current": "034d9ebc-7376-11eb-9dd7-0242ac110002-1-78f8",
       "next": "a9eb477a-4846-11eb-9304-0242ac110002-11-0692-d3e2-23b6-47fb-9e6d-47b7-bfbf-9edf-56b8-781e",
       "previous": "e195f5ee-83d8-11eb-a693-0242ac110002"
      },
      {
       "current": "034d9ebc-7376-11eb-9dd7-0242ac110002-2-78f8-b8b1",
       "next": "a9eb477a-4846-11eb-9304-0242ac110002-12-d3e2-23b6-47fb-9e6d-47b7-bfbf-9edf-56b8-781e-39c0",
       "previous": "e195f5ee-83d8-11eb-a693-0242ac110002"
      },
      {
       "current": "034d9ebc-7376-11eb-9dd7-0242ac110002-2-78f8-b8b1",
       "next": "a9eb477a-4846-11eb-9304-0242ac110002-12-d3e2-23b6-47fb-9e6d-47b7-bfbf-9edf-56b8-781e-39c0",
       "previous": "e195f5ee-83d8-11eb-a693-0242ac110002"
      }
     ],
     "next": "a9eb477a-4846-11eb-9304-0242ac110002-13-23b6-47fb-9e6d-47b7-bfbf-9edf-56b8-781e-39c0-b1ab",
     "previous": "e195f5ee-83d8-11eb-a693-0242ac110002-1-b492"
    },
    "lc_wrapper": {
     "log_history": [
      "/home/jovyan/digraj202103/.log/20210220/20210220-121917-0836.log",
      "/home/jovyan/digraj202103/.log/20210220/20210220-122211-0750.log",
      "/home/jovyan/digraj202103/.log/20210220/20210220-122241-0931.log",
      "/home/jovyan/digraj202103/.log/20210220/20210220-125036-0113.log",
      "/home/jovyan/digraj202103/.log/20210313/20210313-084551-0009.log",
      "/home/jovyan/digraj202103/.log/20210313/20210313-085134-0450.log",
      "/home/jovyan/digraj202103/.log/20210313/20210313-085248-0133.log",
      "/home/jovyan/digraj202103/.log/20210313/20210313-085256-0249.log",
      "/home/jovyan/digraj202103/.log/20210313/20210313-085320-0056.log",
      "/home/jovyan/digraj202103/.log/20210314/20210314-044714-0267.log",
      "/home/jovyan/digraj202103/.log/20210314/20210314-044846-0349.log",
      "/home/jovyan/digraj202103/.log/20210314/20210314-080815-0249.log"
     ]
    },
    "slideshow": {
     "slide_type": "slide"
    }
   },
   "outputs": [],
   "source": [
    "label = \"\"\n",
    "c = 0\n",
    "f = False\n",
    "pair = \"\"\n",
    "for edge in g.edges():\n",
    "    if label != edge[0][0:3]:\n",
    "        if c > 0 and label == \"vic\":\n",
    "            print(pair)\n",
    "            print(str(c)+\"組\")\n",
    "            f = False\n",
    "        label = edge[0][0:3]\n",
    "        if label == \"vic\":\n",
    "            f = True\n",
    "        c = 0\n",
    "    if edge[0].startswith(edge[1][0:3]):\n",
    "        if f:\n",
    "            pair += str(edge) + \", \"\n",
    "        c += 1"
   ]
  },
  {
   "cell_type": "markdown",
   "metadata": {
    "lc_cell_meme": {
     "current": "a9eb477a-4846-11eb-9304-0242ac110002-13-23b6-47fb-9e6d-47b7-bfbf-9edf-56b8-781e-39c0-b1ab",
     "history": [
      {
       "current": "a9eb477a-4846-11eb-9304-0242ac110002-1-94ad",
       "next": "3c213ca2-46b3-11eb-ae4f-0242ac110002-2-cdcc-b0ca",
       "previous": "a9eb4586-4846-11eb-9304-0242ac110002"
      },
      {
       "current": "a9eb477a-4846-11eb-9304-0242ac110002-2-94ad-0692",
       "next": "3c213ca2-46b3-11eb-ae4f-0242ac110002-3-cdcc-b0ca-3c42",
       "previous": "a9eb4586-4846-11eb-9304-0242ac110002-1-9391"
      },
      {
       "current": "a9eb477a-4846-11eb-9304-0242ac110002-3-94ad-0692-d3e2",
       "next": "3c213ca2-46b3-11eb-ae4f-0242ac110002-4-cdcc-b0ca-3c42-b67b",
       "previous": "a9eb4586-4846-11eb-9304-0242ac110002-2-9391-b159"
      },
      {
       "current": "a9eb477a-4846-11eb-9304-0242ac110002-3-94ad-0692-d3e2",
       "next": "3c213ca2-46b3-11eb-ae4f-0242ac110002-5-cdcc-b0ca-3c42-b67b-e5fd",
       "previous": "a9eb4586-4846-11eb-9304-0242ac110002-3-9391-b159-492f"
      },
      {
       "current": "a9eb477a-4846-11eb-9304-0242ac110002-4-94ad-0692-d3e2-23b6",
       "next": "cba92190-490c-11eb-bea0-0242ac110002",
       "previous": "a9eb4586-4846-11eb-9304-0242ac110002-3-9391-b159-492f"
      },
      {
       "current": "a9eb477a-4846-11eb-9304-0242ac110002-4-94ad-0692-d3e2-23b6",
       "next": "cba92190-490c-11eb-bea0-0242ac110002-1-126d",
       "previous": "a9eb4586-4846-11eb-9304-0242ac110002-4-9391-b159-492f-0708"
      },
      {
       "current": "a9eb477a-4846-11eb-9304-0242ac110002-5-94ad-0692-d3e2-23b6-47fb",
       "next": "3c213ca2-46b3-11eb-ae4f-0242ac110002-6-cdcc-b0ca-3c42-b67b-e5fd-35f2",
       "previous": "a9eb4586-4846-11eb-9304-0242ac110002-4-9391-b159-492f-0708"
      },
      {
       "current": "a9eb477a-4846-11eb-9304-0242ac110002-6-94ad-0692-d3e2-23b6-47fb-9e6d",
       "next": "3c213ca2-46b3-11eb-ae4f-0242ac110002-7-cdcc-b0ca-3c42-b67b-e5fd-35f2-6b67",
       "previous": "a9eb4586-4846-11eb-9304-0242ac110002-5-9391-b159-492f-0708-97e6"
      },
      {
       "current": "a9eb477a-4846-11eb-9304-0242ac110002-7-94ad-0692-d3e2-23b6-47fb-9e6d-47b7",
       "next": "3c213ca2-46b3-11eb-ae4f-0242ac110002-8-cdcc-b0ca-3c42-b67b-e5fd-35f2-6b67-a5eb",
       "previous": "a9eb4586-4846-11eb-9304-0242ac110002-6-9391-b159-492f-0708-97e6-9b3f"
      },
      {
       "current": "a9eb477a-4846-11eb-9304-0242ac110002-8-94ad-0692-d3e2-23b6-47fb-9e6d-47b7-bfbf",
       "next": "3c213ca2-46b3-11eb-ae4f-0242ac110002-9-cdcc-b0ca-3c42-b67b-e5fd-35f2-6b67-a5eb-8fba",
       "previous": "a9eb4586-4846-11eb-9304-0242ac110002-7-9391-b159-492f-0708-97e6-9b3f-632b"
      },
      {
       "current": "a9eb477a-4846-11eb-9304-0242ac110002-9-94ad-0692-d3e2-23b6-47fb-9e6d-47b7-bfbf-9edf",
       "next": "3c213ca2-46b3-11eb-ae4f-0242ac110002-10-cdcc-b0ca-3c42-b67b-e5fd-35f2-6b67-a5eb-8fba-c7c4",
       "previous": "a9eb4586-4846-11eb-9304-0242ac110002-8-9391-b159-492f-0708-97e6-9b3f-632b-ae97"
      },
      {
       "current": "a9eb477a-4846-11eb-9304-0242ac110002-9-94ad-0692-d3e2-23b6-47fb-9e6d-47b7-bfbf-9edf",
       "next": "3c213ca2-46b3-11eb-ae4f-0242ac110002-11-b0ca-3c42-b67b-e5fd-35f2-6b67-a5eb-8fba-c7c4-412b",
       "previous": "a9eb4586-4846-11eb-9304-0242ac110002-9-9391-b159-492f-0708-97e6-9b3f-632b-ae97-9254"
      },
      {
       "current": "a9eb477a-4846-11eb-9304-0242ac110002-9-94ad-0692-d3e2-23b6-47fb-9e6d-47b7-bfbf-9edf",
       "next": "84315182-48af-11eb-b4d3-0242ac110002-7-f3a7-2ad3-82f0-5809-ddcb-1bde-9d8f",
       "previous": "3c213ca2-46b3-11eb-ae4f-0242ac110002-11-b0ca-3c42-b67b-e5fd-35f2-6b67-a5eb-8fba-c7c4-412b"
      },
      {
       "current": "a9eb477a-4846-11eb-9304-0242ac110002-10-94ad-0692-d3e2-23b6-47fb-9e6d-47b7-bfbf-9edf-56b8",
       "next": "84315182-48af-11eb-b4d3-0242ac110002-7-f3a7-2ad3-82f0-5809-ddcb-1bde-9d8f",
       "previous": "a9eb477a-4846-11eb-9304-0242ac110002-10-94ad-0692-d3e2-23b6-47fb-9e6d-47b7-bfbf-9edf-2ddb"
      },
      {
       "current": "a9eb477a-4846-11eb-9304-0242ac110002-10-94ad-0692-d3e2-23b6-47fb-9e6d-47b7-bfbf-9edf-56b8",
       "next": "a9eb477a-4846-11eb-9304-0242ac110002-9-94ad-0692-d3e2-23b6-47fb-9e6d-47b7-bfbf-9edf",
       "previous": "a9eb477a-4846-11eb-9304-0242ac110002-10-94ad-0692-d3e2-23b6-47fb-9e6d-47b7-bfbf-9edf-2ddb"
      },
      {
       "current": "a9eb477a-4846-11eb-9304-0242ac110002-10-94ad-0692-d3e2-23b6-47fb-9e6d-47b7-bfbf-9edf-56b8",
       "next": "a9eb477a-4846-11eb-9304-0242ac110002-10-94ad-0692-d3e2-23b6-47fb-9e6d-47b7-bfbf-9edf-d926",
       "previous": "a9eb477a-4846-11eb-9304-0242ac110002-10-94ad-0692-d3e2-23b6-47fb-9e6d-47b7-bfbf-9edf-2ddb"
      },
      {
       "current": "a9eb477a-4846-11eb-9304-0242ac110002-11-0692-d3e2-23b6-47fb-9e6d-47b7-bfbf-9edf-56b8-781e",
       "next": "a9eb477a-4846-11eb-9304-0242ac110002-10-94ad-0692-d3e2-23b6-47fb-9e6d-47b7-bfbf-9edf-d926",
       "previous": "034d9ebc-7376-11eb-9dd7-0242ac110002"
      },
      {
       "current": "a9eb477a-4846-11eb-9304-0242ac110002-12-d3e2-23b6-47fb-9e6d-47b7-bfbf-9edf-56b8-781e-39c0",
       "next": "a9eb477a-4846-11eb-9304-0242ac110002-11-0692-d3e2-23b6-47fb-9e6d-47b7-bfbf-9edf-d926-51b5",
       "previous": "034d9ebc-7376-11eb-9dd7-0242ac110002-1-78f8"
      },
      {
       "current": "a9eb477a-4846-11eb-9304-0242ac110002-13-23b6-47fb-9e6d-47b7-bfbf-9edf-56b8-781e-39c0-b1ab",
       "next": "a9eb477a-4846-11eb-9304-0242ac110002-12-d3e2-23b6-47fb-9e6d-47b7-bfbf-9edf-56b8-781e-c362",
       "previous": "034d9ebc-7376-11eb-9dd7-0242ac110002-1-78f8"
      },
      {
       "current": "a9eb477a-4846-11eb-9304-0242ac110002-13-23b6-47fb-9e6d-47b7-bfbf-9edf-56b8-781e-39c0-b1ab",
       "next": "a9eb477a-4846-11eb-9304-0242ac110002-12-d3e2-23b6-47fb-9e6d-47b7-bfbf-9edf-56b8-781e-c362",
       "previous": "034d9ebc-7376-11eb-9dd7-0242ac110002-1-78f8"
      },
      {
       "current": "a9eb477a-4846-11eb-9304-0242ac110002-13-23b6-47fb-9e6d-47b7-bfbf-9edf-56b8-781e-39c0-b1ab",
       "next": "a9eb477a-4846-11eb-9304-0242ac110002-13-23b6-47fb-9e6d-47b7-bfbf-9edf-56b8-781e-c362-ecb5",
       "previous": "034d9ebc-7376-11eb-9dd7-0242ac110002-2-78f8-b8b1"
      }
     ],
     "next": "a9eb477a-4846-11eb-9304-0242ac110002-14-47fb-9e6d-47b7-bfbf-9edf-56b8-781e-c362-ecb5-b53f",
     "previous": "034d9ebc-7376-11eb-9dd7-0242ac110002-2-78f8-b8b1"
    },
    "slideshow": {
     "slide_type": "slide"
    }
   },
   "source": [
    "　得られた16対の参照について検討していく（全ての組み合わせについてまでは今回は検討しない）。但し、「勝利条件＋終了条件」のような複合タイプについては、元となる単純タイプを親に持つことを認めるとする。タイプの違いにより親子関係となり得ないのは、('vic01', 'vic07')、('vic01', 'vic12')、('vic02', 'vic11')、('vic04', 'vic18')、('vic05', 'vic06')、('vic05', 'vic09')、('vic05', 'vic15')、('vic06', 'vic11')、('vic14', 'vic16')、('vic17', 'vic18')、の10組となる。"
   ]
  },
  {
   "cell_type": "markdown",
   "metadata": {
    "lc_cell_meme": {
     "current": "a9eb477a-4846-11eb-9304-0242ac110002-14-47fb-9e6d-47b7-bfbf-9edf-56b8-781e-c362-ecb5-b53f",
     "history": [
      {
       "current": "a9eb477a-4846-11eb-9304-0242ac110002-1-94ad",
       "next": "3c213ca2-46b3-11eb-ae4f-0242ac110002-2-cdcc-b0ca",
       "previous": "a9eb4586-4846-11eb-9304-0242ac110002"
      },
      {
       "current": "a9eb477a-4846-11eb-9304-0242ac110002-2-94ad-0692",
       "next": "3c213ca2-46b3-11eb-ae4f-0242ac110002-3-cdcc-b0ca-3c42",
       "previous": "a9eb4586-4846-11eb-9304-0242ac110002-1-9391"
      },
      {
       "current": "a9eb477a-4846-11eb-9304-0242ac110002-3-94ad-0692-d3e2",
       "next": "3c213ca2-46b3-11eb-ae4f-0242ac110002-4-cdcc-b0ca-3c42-b67b",
       "previous": "a9eb4586-4846-11eb-9304-0242ac110002-2-9391-b159"
      },
      {
       "current": "a9eb477a-4846-11eb-9304-0242ac110002-3-94ad-0692-d3e2",
       "next": "3c213ca2-46b3-11eb-ae4f-0242ac110002-5-cdcc-b0ca-3c42-b67b-e5fd",
       "previous": "a9eb4586-4846-11eb-9304-0242ac110002-3-9391-b159-492f"
      },
      {
       "current": "a9eb477a-4846-11eb-9304-0242ac110002-4-94ad-0692-d3e2-23b6",
       "next": "cba92190-490c-11eb-bea0-0242ac110002",
       "previous": "a9eb4586-4846-11eb-9304-0242ac110002-3-9391-b159-492f"
      },
      {
       "current": "a9eb477a-4846-11eb-9304-0242ac110002-4-94ad-0692-d3e2-23b6",
       "next": "cba92190-490c-11eb-bea0-0242ac110002-1-126d",
       "previous": "a9eb4586-4846-11eb-9304-0242ac110002-4-9391-b159-492f-0708"
      },
      {
       "current": "a9eb477a-4846-11eb-9304-0242ac110002-5-94ad-0692-d3e2-23b6-47fb",
       "next": "3c213ca2-46b3-11eb-ae4f-0242ac110002-6-cdcc-b0ca-3c42-b67b-e5fd-35f2",
       "previous": "a9eb4586-4846-11eb-9304-0242ac110002-4-9391-b159-492f-0708"
      },
      {
       "current": "a9eb477a-4846-11eb-9304-0242ac110002-6-94ad-0692-d3e2-23b6-47fb-9e6d",
       "next": "3c213ca2-46b3-11eb-ae4f-0242ac110002-7-cdcc-b0ca-3c42-b67b-e5fd-35f2-6b67",
       "previous": "a9eb4586-4846-11eb-9304-0242ac110002-5-9391-b159-492f-0708-97e6"
      },
      {
       "current": "a9eb477a-4846-11eb-9304-0242ac110002-7-94ad-0692-d3e2-23b6-47fb-9e6d-47b7",
       "next": "3c213ca2-46b3-11eb-ae4f-0242ac110002-8-cdcc-b0ca-3c42-b67b-e5fd-35f2-6b67-a5eb",
       "previous": "a9eb4586-4846-11eb-9304-0242ac110002-6-9391-b159-492f-0708-97e6-9b3f"
      },
      {
       "current": "a9eb477a-4846-11eb-9304-0242ac110002-8-94ad-0692-d3e2-23b6-47fb-9e6d-47b7-bfbf",
       "next": "3c213ca2-46b3-11eb-ae4f-0242ac110002-9-cdcc-b0ca-3c42-b67b-e5fd-35f2-6b67-a5eb-8fba",
       "previous": "a9eb4586-4846-11eb-9304-0242ac110002-7-9391-b159-492f-0708-97e6-9b3f-632b"
      },
      {
       "current": "a9eb477a-4846-11eb-9304-0242ac110002-9-94ad-0692-d3e2-23b6-47fb-9e6d-47b7-bfbf-9edf",
       "next": "3c213ca2-46b3-11eb-ae4f-0242ac110002-10-cdcc-b0ca-3c42-b67b-e5fd-35f2-6b67-a5eb-8fba-c7c4",
       "previous": "a9eb4586-4846-11eb-9304-0242ac110002-8-9391-b159-492f-0708-97e6-9b3f-632b-ae97"
      },
      {
       "current": "a9eb477a-4846-11eb-9304-0242ac110002-9-94ad-0692-d3e2-23b6-47fb-9e6d-47b7-bfbf-9edf",
       "next": "3c213ca2-46b3-11eb-ae4f-0242ac110002-11-b0ca-3c42-b67b-e5fd-35f2-6b67-a5eb-8fba-c7c4-412b",
       "previous": "a9eb4586-4846-11eb-9304-0242ac110002-9-9391-b159-492f-0708-97e6-9b3f-632b-ae97-9254"
      },
      {
       "current": "a9eb477a-4846-11eb-9304-0242ac110002-9-94ad-0692-d3e2-23b6-47fb-9e6d-47b7-bfbf-9edf",
       "next": "84315182-48af-11eb-b4d3-0242ac110002-7-f3a7-2ad3-82f0-5809-ddcb-1bde-9d8f",
       "previous": "3c213ca2-46b3-11eb-ae4f-0242ac110002-11-b0ca-3c42-b67b-e5fd-35f2-6b67-a5eb-8fba-c7c4-412b"
      },
      {
       "current": "a9eb477a-4846-11eb-9304-0242ac110002-10-94ad-0692-d3e2-23b6-47fb-9e6d-47b7-bfbf-9edf-56b8",
       "next": "84315182-48af-11eb-b4d3-0242ac110002-7-f3a7-2ad3-82f0-5809-ddcb-1bde-9d8f",
       "previous": "a9eb477a-4846-11eb-9304-0242ac110002-10-94ad-0692-d3e2-23b6-47fb-9e6d-47b7-bfbf-9edf-2ddb"
      },
      {
       "current": "a9eb477a-4846-11eb-9304-0242ac110002-10-94ad-0692-d3e2-23b6-47fb-9e6d-47b7-bfbf-9edf-56b8",
       "next": "a9eb477a-4846-11eb-9304-0242ac110002-9-94ad-0692-d3e2-23b6-47fb-9e6d-47b7-bfbf-9edf",
       "previous": "a9eb477a-4846-11eb-9304-0242ac110002-10-94ad-0692-d3e2-23b6-47fb-9e6d-47b7-bfbf-9edf-2ddb"
      },
      {
       "current": "a9eb477a-4846-11eb-9304-0242ac110002-10-94ad-0692-d3e2-23b6-47fb-9e6d-47b7-bfbf-9edf-56b8",
       "next": "a9eb477a-4846-11eb-9304-0242ac110002-10-94ad-0692-d3e2-23b6-47fb-9e6d-47b7-bfbf-9edf-d926",
       "previous": "a9eb477a-4846-11eb-9304-0242ac110002-10-94ad-0692-d3e2-23b6-47fb-9e6d-47b7-bfbf-9edf-2ddb"
      },
      {
       "current": "a9eb477a-4846-11eb-9304-0242ac110002-11-0692-d3e2-23b6-47fb-9e6d-47b7-bfbf-9edf-56b8-781e",
       "next": "a9eb477a-4846-11eb-9304-0242ac110002-10-94ad-0692-d3e2-23b6-47fb-9e6d-47b7-bfbf-9edf-d926",
       "previous": "034d9ebc-7376-11eb-9dd7-0242ac110002"
      },
      {
       "current": "a9eb477a-4846-11eb-9304-0242ac110002-12-d3e2-23b6-47fb-9e6d-47b7-bfbf-9edf-56b8-781e-c362",
       "next": "a9eb477a-4846-11eb-9304-0242ac110002-11-0692-d3e2-23b6-47fb-9e6d-47b7-bfbf-9edf-d926-51b5",
       "previous": "034d9ebc-7376-11eb-9dd7-0242ac110002-1-78f8"
      },
      {
       "current": "a9eb477a-4846-11eb-9304-0242ac110002-13-23b6-47fb-9e6d-47b7-bfbf-9edf-56b8-781e-c362-ecb5",
       "next": "a9eb477a-4846-11eb-9304-0242ac110002-11-0692-d3e2-23b6-47fb-9e6d-47b7-bfbf-9edf-56b8-781e",
       "previous": "a9eb477a-4846-11eb-9304-0242ac110002-12-d3e2-23b6-47fb-9e6d-47b7-bfbf-9edf-56b8-781e-39c0"
      },
      {
       "current": "a9eb477a-4846-11eb-9304-0242ac110002-13-23b6-47fb-9e6d-47b7-bfbf-9edf-56b8-781e-c362-ecb5",
       "next": "a9eb477a-4846-11eb-9304-0242ac110002-11-0692-d3e2-23b6-47fb-9e6d-47b7-bfbf-9edf-56b8-781e",
       "previous": "a9eb477a-4846-11eb-9304-0242ac110002-12-d3e2-23b6-47fb-9e6d-47b7-bfbf-9edf-56b8-781e-39c0"
      },
      {
       "current": "a9eb477a-4846-11eb-9304-0242ac110002-14-47fb-9e6d-47b7-bfbf-9edf-56b8-781e-c362-ecb5-b53f",
       "next": "a9eb477a-4846-11eb-9304-0242ac110002-12-d3e2-23b6-47fb-9e6d-47b7-bfbf-9edf-56b8-781e-f1b3",
       "previous": "a9eb477a-4846-11eb-9304-0242ac110002-13-23b6-47fb-9e6d-47b7-bfbf-9edf-56b8-781e-39c0-b1ab"
      }
     ],
     "next": "a9eb477a-4846-11eb-9304-0242ac110002-13-23b6-47fb-9e6d-47b7-bfbf-9edf-56b8-781e-c362-ecb5",
     "previous": "a9eb477a-4846-11eb-9304-0242ac110002-13-23b6-47fb-9e6d-47b7-bfbf-9edf-56b8-781e-39c0-b1ab"
    },
    "slideshow": {
     "slide_type": "slide"
    }
   },
   "source": [
    "　残る6組を検討していく。\n",
    "\n",
    "- ('vic01', 'vic02')：2つの異なる得点方法なので、親子関係ではない。\n",
    "- ('vic07', 'vic11')：vic11の具体化の1つがvic07と見なせ、親子関係と言える。但し、複合タイプ化される。\n",
    "- ('vic07', 'vic14')：vic07のレースの表現としてvic14が使われることがある（必ずではない）。レース以外の表現にも使われるため、親子関係ではない。"
   ]
  },
  {
   "cell_type": "markdown",
   "metadata": {
    "lc_cell_meme": {
     "current": "a9eb477a-4846-11eb-9304-0242ac110002-13-23b6-47fb-9e6d-47b7-bfbf-9edf-56b8-781e-c362-ecb5",
     "history": [
      {
       "current": "a9eb477a-4846-11eb-9304-0242ac110002-1-94ad",
       "next": "3c213ca2-46b3-11eb-ae4f-0242ac110002-2-cdcc-b0ca",
       "previous": "a9eb4586-4846-11eb-9304-0242ac110002"
      },
      {
       "current": "a9eb477a-4846-11eb-9304-0242ac110002-2-94ad-0692",
       "next": "3c213ca2-46b3-11eb-ae4f-0242ac110002-3-cdcc-b0ca-3c42",
       "previous": "a9eb4586-4846-11eb-9304-0242ac110002-1-9391"
      },
      {
       "current": "a9eb477a-4846-11eb-9304-0242ac110002-3-94ad-0692-d3e2",
       "next": "3c213ca2-46b3-11eb-ae4f-0242ac110002-4-cdcc-b0ca-3c42-b67b",
       "previous": "a9eb4586-4846-11eb-9304-0242ac110002-2-9391-b159"
      },
      {
       "current": "a9eb477a-4846-11eb-9304-0242ac110002-3-94ad-0692-d3e2",
       "next": "3c213ca2-46b3-11eb-ae4f-0242ac110002-5-cdcc-b0ca-3c42-b67b-e5fd",
       "previous": "a9eb4586-4846-11eb-9304-0242ac110002-3-9391-b159-492f"
      },
      {
       "current": "a9eb477a-4846-11eb-9304-0242ac110002-4-94ad-0692-d3e2-23b6",
       "next": "cba92190-490c-11eb-bea0-0242ac110002",
       "previous": "a9eb4586-4846-11eb-9304-0242ac110002-3-9391-b159-492f"
      },
      {
       "current": "a9eb477a-4846-11eb-9304-0242ac110002-4-94ad-0692-d3e2-23b6",
       "next": "cba92190-490c-11eb-bea0-0242ac110002-1-126d",
       "previous": "a9eb4586-4846-11eb-9304-0242ac110002-4-9391-b159-492f-0708"
      },
      {
       "current": "a9eb477a-4846-11eb-9304-0242ac110002-5-94ad-0692-d3e2-23b6-47fb",
       "next": "3c213ca2-46b3-11eb-ae4f-0242ac110002-6-cdcc-b0ca-3c42-b67b-e5fd-35f2",
       "previous": "a9eb4586-4846-11eb-9304-0242ac110002-4-9391-b159-492f-0708"
      },
      {
       "current": "a9eb477a-4846-11eb-9304-0242ac110002-6-94ad-0692-d3e2-23b6-47fb-9e6d",
       "next": "3c213ca2-46b3-11eb-ae4f-0242ac110002-7-cdcc-b0ca-3c42-b67b-e5fd-35f2-6b67",
       "previous": "a9eb4586-4846-11eb-9304-0242ac110002-5-9391-b159-492f-0708-97e6"
      },
      {
       "current": "a9eb477a-4846-11eb-9304-0242ac110002-7-94ad-0692-d3e2-23b6-47fb-9e6d-47b7",
       "next": "3c213ca2-46b3-11eb-ae4f-0242ac110002-8-cdcc-b0ca-3c42-b67b-e5fd-35f2-6b67-a5eb",
       "previous": "a9eb4586-4846-11eb-9304-0242ac110002-6-9391-b159-492f-0708-97e6-9b3f"
      },
      {
       "current": "a9eb477a-4846-11eb-9304-0242ac110002-8-94ad-0692-d3e2-23b6-47fb-9e6d-47b7-bfbf",
       "next": "3c213ca2-46b3-11eb-ae4f-0242ac110002-9-cdcc-b0ca-3c42-b67b-e5fd-35f2-6b67-a5eb-8fba",
       "previous": "a9eb4586-4846-11eb-9304-0242ac110002-7-9391-b159-492f-0708-97e6-9b3f-632b"
      },
      {
       "current": "a9eb477a-4846-11eb-9304-0242ac110002-9-94ad-0692-d3e2-23b6-47fb-9e6d-47b7-bfbf-9edf",
       "next": "3c213ca2-46b3-11eb-ae4f-0242ac110002-10-cdcc-b0ca-3c42-b67b-e5fd-35f2-6b67-a5eb-8fba-c7c4",
       "previous": "a9eb4586-4846-11eb-9304-0242ac110002-8-9391-b159-492f-0708-97e6-9b3f-632b-ae97"
      },
      {
       "current": "a9eb477a-4846-11eb-9304-0242ac110002-9-94ad-0692-d3e2-23b6-47fb-9e6d-47b7-bfbf-9edf",
       "next": "3c213ca2-46b3-11eb-ae4f-0242ac110002-11-b0ca-3c42-b67b-e5fd-35f2-6b67-a5eb-8fba-c7c4-412b",
       "previous": "a9eb4586-4846-11eb-9304-0242ac110002-9-9391-b159-492f-0708-97e6-9b3f-632b-ae97-9254"
      },
      {
       "current": "a9eb477a-4846-11eb-9304-0242ac110002-9-94ad-0692-d3e2-23b6-47fb-9e6d-47b7-bfbf-9edf",
       "next": "84315182-48af-11eb-b4d3-0242ac110002-7-f3a7-2ad3-82f0-5809-ddcb-1bde-9d8f",
       "previous": "3c213ca2-46b3-11eb-ae4f-0242ac110002-11-b0ca-3c42-b67b-e5fd-35f2-6b67-a5eb-8fba-c7c4-412b"
      },
      {
       "current": "a9eb477a-4846-11eb-9304-0242ac110002-10-94ad-0692-d3e2-23b6-47fb-9e6d-47b7-bfbf-9edf-56b8",
       "next": "84315182-48af-11eb-b4d3-0242ac110002-7-f3a7-2ad3-82f0-5809-ddcb-1bde-9d8f",
       "previous": "a9eb477a-4846-11eb-9304-0242ac110002-10-94ad-0692-d3e2-23b6-47fb-9e6d-47b7-bfbf-9edf-2ddb"
      },
      {
       "current": "a9eb477a-4846-11eb-9304-0242ac110002-10-94ad-0692-d3e2-23b6-47fb-9e6d-47b7-bfbf-9edf-56b8",
       "next": "a9eb477a-4846-11eb-9304-0242ac110002-9-94ad-0692-d3e2-23b6-47fb-9e6d-47b7-bfbf-9edf",
       "previous": "a9eb477a-4846-11eb-9304-0242ac110002-10-94ad-0692-d3e2-23b6-47fb-9e6d-47b7-bfbf-9edf-2ddb"
      },
      {
       "current": "a9eb477a-4846-11eb-9304-0242ac110002-10-94ad-0692-d3e2-23b6-47fb-9e6d-47b7-bfbf-9edf-56b8",
       "next": "a9eb477a-4846-11eb-9304-0242ac110002-10-94ad-0692-d3e2-23b6-47fb-9e6d-47b7-bfbf-9edf-d926",
       "previous": "a9eb477a-4846-11eb-9304-0242ac110002-10-94ad-0692-d3e2-23b6-47fb-9e6d-47b7-bfbf-9edf-2ddb"
      },
      {
       "current": "a9eb477a-4846-11eb-9304-0242ac110002-11-0692-d3e2-23b6-47fb-9e6d-47b7-bfbf-9edf-56b8-781e",
       "next": "a9eb477a-4846-11eb-9304-0242ac110002-10-94ad-0692-d3e2-23b6-47fb-9e6d-47b7-bfbf-9edf-d926",
       "previous": "034d9ebc-7376-11eb-9dd7-0242ac110002"
      },
      {
       "current": "a9eb477a-4846-11eb-9304-0242ac110002-12-d3e2-23b6-47fb-9e6d-47b7-bfbf-9edf-56b8-781e-c362",
       "next": "a9eb477a-4846-11eb-9304-0242ac110002-11-0692-d3e2-23b6-47fb-9e6d-47b7-bfbf-9edf-d926-51b5",
       "previous": "034d9ebc-7376-11eb-9dd7-0242ac110002-1-78f8"
      },
      {
       "current": "a9eb477a-4846-11eb-9304-0242ac110002-13-23b6-47fb-9e6d-47b7-bfbf-9edf-56b8-781e-c362-ecb5",
       "next": "a9eb477a-4846-11eb-9304-0242ac110002-11-0692-d3e2-23b6-47fb-9e6d-47b7-bfbf-9edf-56b8-781e",
       "previous": "a9eb477a-4846-11eb-9304-0242ac110002-12-d3e2-23b6-47fb-9e6d-47b7-bfbf-9edf-56b8-781e-39c0"
      },
      {
       "current": "a9eb477a-4846-11eb-9304-0242ac110002-13-23b6-47fb-9e6d-47b7-bfbf-9edf-56b8-781e-c362-ecb5",
       "next": "a9eb477a-4846-11eb-9304-0242ac110002-11-0692-d3e2-23b6-47fb-9e6d-47b7-bfbf-9edf-56b8-781e",
       "previous": "a9eb477a-4846-11eb-9304-0242ac110002-12-d3e2-23b6-47fb-9e6d-47b7-bfbf-9edf-56b8-781e-39c0"
      },
      {
       "current": "a9eb477a-4846-11eb-9304-0242ac110002-13-23b6-47fb-9e6d-47b7-bfbf-9edf-56b8-781e-c362-ecb5",
       "next": "a9eb477a-4846-11eb-9304-0242ac110002-12-d3e2-23b6-47fb-9e6d-47b7-bfbf-9edf-56b8-781e-f1b3",
       "previous": "a9eb477a-4846-11eb-9304-0242ac110002-13-23b6-47fb-9e6d-47b7-bfbf-9edf-56b8-781e-39c0-b1ab"
      }
     ],
     "next": "a9eb477a-4846-11eb-9304-0242ac110002-12-d3e2-23b6-47fb-9e6d-47b7-bfbf-9edf-56b8-781e-f1b3",
     "previous": "a9eb477a-4846-11eb-9304-0242ac110002-14-47fb-9e6d-47b7-bfbf-9edf-56b8-781e-c362-ecb5-b53f"
    },
    "slideshow": {
     "slide_type": "slide"
    }
   },
   "source": [
    "- ('vic10', 'vic11')：リソースの枯渇を目標として進行する場合もあるが、目標は別でリソースの枯渇でサドンデスの場合もあるので、親子関係ではない。\n",
    "- ('vic11', 'vic19')：vic19は誰かが勝利に近づくと他のプレイヤは勝利から遠ざかる。vic11は全員が勝利に近づいていく。相反するメカニクスで、親子関係ではない。\n",
    "- ('vic15', 'vic19')：vic19がvic15として使われる例が挙げられているが、vic19がメインで使われvic15ではない場合も考えられるため、親子関係ではない。\n",
    "\n",
    "　以上の検討により、VIC内から親子関係('vic11'◁-'vic07')を特定した。\n",
    " "
   ]
  },
  {
   "cell_type": "markdown",
   "metadata": {
    "lc_cell_meme": {
     "current": "a9eb477a-4846-11eb-9304-0242ac110002-12-d3e2-23b6-47fb-9e6d-47b7-bfbf-9edf-56b8-781e-f1b3",
     "history": [
      {
       "current": "a9eb477a-4846-11eb-9304-0242ac110002-1-94ad",
       "next": "3c213ca2-46b3-11eb-ae4f-0242ac110002-2-cdcc-b0ca",
       "previous": "a9eb4586-4846-11eb-9304-0242ac110002"
      },
      {
       "current": "a9eb477a-4846-11eb-9304-0242ac110002-2-94ad-0692",
       "next": "3c213ca2-46b3-11eb-ae4f-0242ac110002-3-cdcc-b0ca-3c42",
       "previous": "a9eb4586-4846-11eb-9304-0242ac110002-1-9391"
      },
      {
       "current": "a9eb477a-4846-11eb-9304-0242ac110002-3-94ad-0692-d3e2",
       "next": "3c213ca2-46b3-11eb-ae4f-0242ac110002-4-cdcc-b0ca-3c42-b67b",
       "previous": "a9eb4586-4846-11eb-9304-0242ac110002-2-9391-b159"
      },
      {
       "current": "a9eb477a-4846-11eb-9304-0242ac110002-3-94ad-0692-d3e2",
       "next": "3c213ca2-46b3-11eb-ae4f-0242ac110002-5-cdcc-b0ca-3c42-b67b-e5fd",
       "previous": "a9eb4586-4846-11eb-9304-0242ac110002-3-9391-b159-492f"
      },
      {
       "current": "a9eb477a-4846-11eb-9304-0242ac110002-4-94ad-0692-d3e2-23b6",
       "next": "cba92190-490c-11eb-bea0-0242ac110002",
       "previous": "a9eb4586-4846-11eb-9304-0242ac110002-3-9391-b159-492f"
      },
      {
       "current": "a9eb477a-4846-11eb-9304-0242ac110002-4-94ad-0692-d3e2-23b6",
       "next": "cba92190-490c-11eb-bea0-0242ac110002-1-126d",
       "previous": "a9eb4586-4846-11eb-9304-0242ac110002-4-9391-b159-492f-0708"
      },
      {
       "current": "a9eb477a-4846-11eb-9304-0242ac110002-5-94ad-0692-d3e2-23b6-47fb",
       "next": "3c213ca2-46b3-11eb-ae4f-0242ac110002-6-cdcc-b0ca-3c42-b67b-e5fd-35f2",
       "previous": "a9eb4586-4846-11eb-9304-0242ac110002-4-9391-b159-492f-0708"
      },
      {
       "current": "a9eb477a-4846-11eb-9304-0242ac110002-6-94ad-0692-d3e2-23b6-47fb-9e6d",
       "next": "3c213ca2-46b3-11eb-ae4f-0242ac110002-7-cdcc-b0ca-3c42-b67b-e5fd-35f2-6b67",
       "previous": "a9eb4586-4846-11eb-9304-0242ac110002-5-9391-b159-492f-0708-97e6"
      },
      {
       "current": "a9eb477a-4846-11eb-9304-0242ac110002-7-94ad-0692-d3e2-23b6-47fb-9e6d-47b7",
       "next": "3c213ca2-46b3-11eb-ae4f-0242ac110002-8-cdcc-b0ca-3c42-b67b-e5fd-35f2-6b67-a5eb",
       "previous": "a9eb4586-4846-11eb-9304-0242ac110002-6-9391-b159-492f-0708-97e6-9b3f"
      },
      {
       "current": "a9eb477a-4846-11eb-9304-0242ac110002-8-94ad-0692-d3e2-23b6-47fb-9e6d-47b7-bfbf",
       "next": "3c213ca2-46b3-11eb-ae4f-0242ac110002-9-cdcc-b0ca-3c42-b67b-e5fd-35f2-6b67-a5eb-8fba",
       "previous": "a9eb4586-4846-11eb-9304-0242ac110002-7-9391-b159-492f-0708-97e6-9b3f-632b"
      },
      {
       "current": "a9eb477a-4846-11eb-9304-0242ac110002-9-94ad-0692-d3e2-23b6-47fb-9e6d-47b7-bfbf-9edf",
       "next": "3c213ca2-46b3-11eb-ae4f-0242ac110002-10-cdcc-b0ca-3c42-b67b-e5fd-35f2-6b67-a5eb-8fba-c7c4",
       "previous": "a9eb4586-4846-11eb-9304-0242ac110002-8-9391-b159-492f-0708-97e6-9b3f-632b-ae97"
      },
      {
       "current": "a9eb477a-4846-11eb-9304-0242ac110002-9-94ad-0692-d3e2-23b6-47fb-9e6d-47b7-bfbf-9edf",
       "next": "3c213ca2-46b3-11eb-ae4f-0242ac110002-11-b0ca-3c42-b67b-e5fd-35f2-6b67-a5eb-8fba-c7c4-412b",
       "previous": "a9eb4586-4846-11eb-9304-0242ac110002-9-9391-b159-492f-0708-97e6-9b3f-632b-ae97-9254"
      },
      {
       "current": "a9eb477a-4846-11eb-9304-0242ac110002-9-94ad-0692-d3e2-23b6-47fb-9e6d-47b7-bfbf-9edf",
       "next": "84315182-48af-11eb-b4d3-0242ac110002-7-f3a7-2ad3-82f0-5809-ddcb-1bde-9d8f",
       "previous": "3c213ca2-46b3-11eb-ae4f-0242ac110002-11-b0ca-3c42-b67b-e5fd-35f2-6b67-a5eb-8fba-c7c4-412b"
      },
      {
       "current": "a9eb477a-4846-11eb-9304-0242ac110002-10-94ad-0692-d3e2-23b6-47fb-9e6d-47b7-bfbf-9edf-56b8",
       "next": "84315182-48af-11eb-b4d3-0242ac110002-7-f3a7-2ad3-82f0-5809-ddcb-1bde-9d8f",
       "previous": "a9eb477a-4846-11eb-9304-0242ac110002-10-94ad-0692-d3e2-23b6-47fb-9e6d-47b7-bfbf-9edf-2ddb"
      },
      {
       "current": "a9eb477a-4846-11eb-9304-0242ac110002-10-94ad-0692-d3e2-23b6-47fb-9e6d-47b7-bfbf-9edf-56b8",
       "next": "a9eb477a-4846-11eb-9304-0242ac110002-9-94ad-0692-d3e2-23b6-47fb-9e6d-47b7-bfbf-9edf",
       "previous": "a9eb477a-4846-11eb-9304-0242ac110002-10-94ad-0692-d3e2-23b6-47fb-9e6d-47b7-bfbf-9edf-2ddb"
      },
      {
       "current": "a9eb477a-4846-11eb-9304-0242ac110002-10-94ad-0692-d3e2-23b6-47fb-9e6d-47b7-bfbf-9edf-56b8",
       "next": "a9eb477a-4846-11eb-9304-0242ac110002-10-94ad-0692-d3e2-23b6-47fb-9e6d-47b7-bfbf-9edf-d926",
       "previous": "a9eb477a-4846-11eb-9304-0242ac110002-10-94ad-0692-d3e2-23b6-47fb-9e6d-47b7-bfbf-9edf-2ddb"
      },
      {
       "current": "a9eb477a-4846-11eb-9304-0242ac110002-11-0692-d3e2-23b6-47fb-9e6d-47b7-bfbf-9edf-56b8-781e",
       "next": "a9eb477a-4846-11eb-9304-0242ac110002-10-94ad-0692-d3e2-23b6-47fb-9e6d-47b7-bfbf-9edf-d926",
       "previous": "034d9ebc-7376-11eb-9dd7-0242ac110002"
      },
      {
       "current": "a9eb477a-4846-11eb-9304-0242ac110002-11-0692-d3e2-23b6-47fb-9e6d-47b7-bfbf-9edf-56b8-781e",
       "next": "a9eb477a-4846-11eb-9304-0242ac110002-11-0692-d3e2-23b6-47fb-9e6d-47b7-bfbf-9edf-d926-51b5",
       "previous": "034d9ebc-7376-11eb-9dd7-0242ac110002-1-78f8"
      },
      {
       "current": "a9eb477a-4846-11eb-9304-0242ac110002-12-d3e2-23b6-47fb-9e6d-47b7-bfbf-9edf-56b8-781e-f1b3",
       "next": "a9eb477a-4846-11eb-9304-0242ac110002-11-0692-d3e2-23b6-47fb-9e6d-47b7-bfbf-9edf-149f-bc97",
       "previous": "a9eb477a-4846-11eb-9304-0242ac110002-12-d3e2-23b6-47fb-9e6d-47b7-bfbf-9edf-56b8-781e-c362"
      },
      {
       "current": "a9eb477a-4846-11eb-9304-0242ac110002-12-d3e2-23b6-47fb-9e6d-47b7-bfbf-9edf-56b8-781e-f1b3",
       "next": "a9eb477a-4846-11eb-9304-0242ac110002-11-0692-d3e2-23b6-47fb-9e6d-47b7-bfbf-9edf-149f-bc97",
       "previous": "a9eb477a-4846-11eb-9304-0242ac110002-12-d3e2-23b6-47fb-9e6d-47b7-bfbf-9edf-56b8-781e-c362"
      },
      {
       "current": "a9eb477a-4846-11eb-9304-0242ac110002-12-d3e2-23b6-47fb-9e6d-47b7-bfbf-9edf-56b8-781e-f1b3",
       "next": "a9eb477a-4846-11eb-9304-0242ac110002-12-d3e2-23b6-47fb-9e6d-47b7-bfbf-9edf-149f-bc97-0430",
       "previous": "a9eb477a-4846-11eb-9304-0242ac110002-13-23b6-47fb-9e6d-47b7-bfbf-9edf-56b8-781e-c362-ecb5"
      }
     ],
     "next": "a9eb477a-4846-11eb-9304-0242ac110002-13-23b6-47fb-9e6d-47b7-bfbf-9edf-149f-bc97-0430-17c4",
     "previous": "a9eb477a-4846-11eb-9304-0242ac110002-13-23b6-47fb-9e6d-47b7-bfbf-9edf-56b8-781e-c362-ecb5"
    },
    "slideshow": {
     "slide_type": "slide"
    }
   },
   "source": [
    "親子関係('vic11'◁-'vic07')ゲットだぜ！"
   ]
  },
  {
   "cell_type": "markdown",
   "metadata": {
    "lc_cell_meme": {
     "current": "a9eb477a-4846-11eb-9304-0242ac110002-13-23b6-47fb-9e6d-47b7-bfbf-9edf-149f-bc97-0430-17c4",
     "history": [
      {
       "current": "a9eb477a-4846-11eb-9304-0242ac110002-1-94ad",
       "next": "3c213ca2-46b3-11eb-ae4f-0242ac110002-2-cdcc-b0ca",
       "previous": "a9eb4586-4846-11eb-9304-0242ac110002"
      },
      {
       "current": "a9eb477a-4846-11eb-9304-0242ac110002-2-94ad-0692",
       "next": "3c213ca2-46b3-11eb-ae4f-0242ac110002-3-cdcc-b0ca-3c42",
       "previous": "a9eb4586-4846-11eb-9304-0242ac110002-1-9391"
      },
      {
       "current": "a9eb477a-4846-11eb-9304-0242ac110002-3-94ad-0692-d3e2",
       "next": "3c213ca2-46b3-11eb-ae4f-0242ac110002-4-cdcc-b0ca-3c42-b67b",
       "previous": "a9eb4586-4846-11eb-9304-0242ac110002-2-9391-b159"
      },
      {
       "current": "a9eb477a-4846-11eb-9304-0242ac110002-3-94ad-0692-d3e2",
       "next": "3c213ca2-46b3-11eb-ae4f-0242ac110002-5-cdcc-b0ca-3c42-b67b-e5fd",
       "previous": "a9eb4586-4846-11eb-9304-0242ac110002-3-9391-b159-492f"
      },
      {
       "current": "a9eb477a-4846-11eb-9304-0242ac110002-4-94ad-0692-d3e2-23b6",
       "next": "cba92190-490c-11eb-bea0-0242ac110002",
       "previous": "a9eb4586-4846-11eb-9304-0242ac110002-3-9391-b159-492f"
      },
      {
       "current": "a9eb477a-4846-11eb-9304-0242ac110002-4-94ad-0692-d3e2-23b6",
       "next": "cba92190-490c-11eb-bea0-0242ac110002-1-126d",
       "previous": "a9eb4586-4846-11eb-9304-0242ac110002-4-9391-b159-492f-0708"
      },
      {
       "current": "a9eb477a-4846-11eb-9304-0242ac110002-5-94ad-0692-d3e2-23b6-47fb",
       "next": "3c213ca2-46b3-11eb-ae4f-0242ac110002-6-cdcc-b0ca-3c42-b67b-e5fd-35f2",
       "previous": "a9eb4586-4846-11eb-9304-0242ac110002-4-9391-b159-492f-0708"
      },
      {
       "current": "a9eb477a-4846-11eb-9304-0242ac110002-6-94ad-0692-d3e2-23b6-47fb-9e6d",
       "next": "3c213ca2-46b3-11eb-ae4f-0242ac110002-7-cdcc-b0ca-3c42-b67b-e5fd-35f2-6b67",
       "previous": "a9eb4586-4846-11eb-9304-0242ac110002-5-9391-b159-492f-0708-97e6"
      },
      {
       "current": "a9eb477a-4846-11eb-9304-0242ac110002-7-94ad-0692-d3e2-23b6-47fb-9e6d-47b7",
       "next": "3c213ca2-46b3-11eb-ae4f-0242ac110002-8-cdcc-b0ca-3c42-b67b-e5fd-35f2-6b67-a5eb",
       "previous": "a9eb4586-4846-11eb-9304-0242ac110002-6-9391-b159-492f-0708-97e6-9b3f"
      },
      {
       "current": "a9eb477a-4846-11eb-9304-0242ac110002-8-94ad-0692-d3e2-23b6-47fb-9e6d-47b7-bfbf",
       "next": "3c213ca2-46b3-11eb-ae4f-0242ac110002-9-cdcc-b0ca-3c42-b67b-e5fd-35f2-6b67-a5eb-8fba",
       "previous": "a9eb4586-4846-11eb-9304-0242ac110002-7-9391-b159-492f-0708-97e6-9b3f-632b"
      },
      {
       "current": "a9eb477a-4846-11eb-9304-0242ac110002-9-94ad-0692-d3e2-23b6-47fb-9e6d-47b7-bfbf-9edf",
       "next": "3c213ca2-46b3-11eb-ae4f-0242ac110002-10-cdcc-b0ca-3c42-b67b-e5fd-35f2-6b67-a5eb-8fba-c7c4",
       "previous": "a9eb4586-4846-11eb-9304-0242ac110002-8-9391-b159-492f-0708-97e6-9b3f-632b-ae97"
      },
      {
       "current": "a9eb477a-4846-11eb-9304-0242ac110002-9-94ad-0692-d3e2-23b6-47fb-9e6d-47b7-bfbf-9edf",
       "next": "3c213ca2-46b3-11eb-ae4f-0242ac110002-11-b0ca-3c42-b67b-e5fd-35f2-6b67-a5eb-8fba-c7c4-412b",
       "previous": "a9eb4586-4846-11eb-9304-0242ac110002-9-9391-b159-492f-0708-97e6-9b3f-632b-ae97-9254"
      },
      {
       "current": "a9eb477a-4846-11eb-9304-0242ac110002-9-94ad-0692-d3e2-23b6-47fb-9e6d-47b7-bfbf-9edf",
       "next": "84315182-48af-11eb-b4d3-0242ac110002-7-f3a7-2ad3-82f0-5809-ddcb-1bde-9d8f",
       "previous": "3c213ca2-46b3-11eb-ae4f-0242ac110002-11-b0ca-3c42-b67b-e5fd-35f2-6b67-a5eb-8fba-c7c4-412b"
      },
      {
       "current": "a9eb477a-4846-11eb-9304-0242ac110002-9-94ad-0692-d3e2-23b6-47fb-9e6d-47b7-bfbf-9edf",
       "next": "84315182-48af-11eb-b4d3-0242ac110002-7-f3a7-2ad3-82f0-5809-ddcb-1bde-9d8f",
       "previous": "a9eb477a-4846-11eb-9304-0242ac110002-10-94ad-0692-d3e2-23b6-47fb-9e6d-47b7-bfbf-9edf-2ddb"
      },
      {
       "current": "a9eb477a-4846-11eb-9304-0242ac110002-10-94ad-0692-d3e2-23b6-47fb-9e6d-47b7-bfbf-9edf-149f",
       "next": "84315182-48af-11eb-b4d3-0242ac110002-7-f3a7-2ad3-82f0-5809-ddcb-1bde-9d8f",
       "previous": "a9eb477a-4846-11eb-9304-0242ac110002-10-94ad-0692-d3e2-23b6-47fb-9e6d-47b7-bfbf-9edf-56b8"
      },
      {
       "current": "a9eb477a-4846-11eb-9304-0242ac110002-11-0692-d3e2-23b6-47fb-9e6d-47b7-bfbf-9edf-149f-bc97",
       "next": "a9eb477a-4846-11eb-9304-0242ac110002-10-94ad-0692-d3e2-23b6-47fb-9e6d-47b7-bfbf-9edf-645a",
       "previous": "a9eb477a-4846-11eb-9304-0242ac110002-10-94ad-0692-d3e2-23b6-47fb-9e6d-47b7-bfbf-9edf-d926"
      },
      {
       "current": "a9eb477a-4846-11eb-9304-0242ac110002-11-0692-d3e2-23b6-47fb-9e6d-47b7-bfbf-9edf-149f-bc97",
       "next": "a9eb477a-4846-11eb-9304-0242ac110002-11-0692-d3e2-23b6-47fb-9e6d-47b7-bfbf-9edf-645a-348e",
       "previous": "a9eb477a-4846-11eb-9304-0242ac110002-11-0692-d3e2-23b6-47fb-9e6d-47b7-bfbf-9edf-d926-51b5"
      },
      {
       "current": "a9eb477a-4846-11eb-9304-0242ac110002-11-0692-d3e2-23b6-47fb-9e6d-47b7-bfbf-9edf-149f-bc97",
       "next": "a9eb477a-4846-11eb-9304-0242ac110002-11-0692-d3e2-23b6-47fb-9e6d-47b7-bfbf-9edf-645a-348e",
       "previous": "a9eb477a-4846-11eb-9304-0242ac110002-11-0692-d3e2-23b6-47fb-9e6d-47b7-bfbf-9edf-56b8-781e"
      },
      {
       "current": "a9eb477a-4846-11eb-9304-0242ac110002-12-d3e2-23b6-47fb-9e6d-47b7-bfbf-9edf-149f-bc97-0430",
       "next": "4736b626-83da-11eb-a693-0242ac110002",
       "previous": "a9eb477a-4846-11eb-9304-0242ac110002-11-0692-d3e2-23b6-47fb-9e6d-47b7-bfbf-9edf-56b8-781e"
      },
      {
       "current": "a9eb477a-4846-11eb-9304-0242ac110002-12-d3e2-23b6-47fb-9e6d-47b7-bfbf-9edf-149f-bc97-0430",
       "next": "4736b626-83da-11eb-a693-0242ac110002",
       "previous": "a9eb477a-4846-11eb-9304-0242ac110002-11-0692-d3e2-23b6-47fb-9e6d-47b7-bfbf-9edf-56b8-781e"
      },
      {
       "current": "a9eb477a-4846-11eb-9304-0242ac110002-13-23b6-47fb-9e6d-47b7-bfbf-9edf-149f-bc97-0430-17c4",
       "next": "4736b626-83da-11eb-a693-0242ac110002-1-4541",
       "previous": "a9eb477a-4846-11eb-9304-0242ac110002-12-d3e2-23b6-47fb-9e6d-47b7-bfbf-9edf-56b8-781e-f1b3"
      }
     ],
     "next": "a9eb477a-4846-11eb-9304-0242ac110002-13-23b6-47fb-9e6d-47b7-bfbf-9edf-149f-bc97-0430-e8fc",
     "previous": "a9eb477a-4846-11eb-9304-0242ac110002-12-d3e2-23b6-47fb-9e6d-47b7-bfbf-9edf-56b8-781e-f1b3"
    },
    "slideshow": {
     "slide_type": "slide"
    }
   },
   "source": [
    "　得られた親子関係('vic11'◁-'vic07')について、親の持つ参照を子が継承できているか確認する。\n",
    "\n",
    "　vic11が持つ参照は6、内の1つは親子関係であるため、確認すべき参照は5となる。以下、順にその関係を確認し、vic11をvic07に置き換えても成立するか検討する。\n",
    "\n",
    "- ('res10', 'vic11')：スタッキングとvic11を結び付けて言及されている。スタッキングは、vic07の「目標が直感的であり、誰がリードしているかが常に明らかである」と整合を付けやすく、置き換えは成立する。"
   ]
  },
  {
   "cell_type": "markdown",
   "metadata": {
    "lc_cell_meme": {
     "current": "a9eb477a-4846-11eb-9304-0242ac110002-13-23b6-47fb-9e6d-47b7-bfbf-9edf-149f-bc97-0430-e8fc",
     "history": [
      {
       "current": "a9eb477a-4846-11eb-9304-0242ac110002-1-94ad",
       "next": "3c213ca2-46b3-11eb-ae4f-0242ac110002-2-cdcc-b0ca",
       "previous": "a9eb4586-4846-11eb-9304-0242ac110002"
      },
      {
       "current": "a9eb477a-4846-11eb-9304-0242ac110002-2-94ad-0692",
       "next": "3c213ca2-46b3-11eb-ae4f-0242ac110002-3-cdcc-b0ca-3c42",
       "previous": "a9eb4586-4846-11eb-9304-0242ac110002-1-9391"
      },
      {
       "current": "a9eb477a-4846-11eb-9304-0242ac110002-3-94ad-0692-d3e2",
       "next": "3c213ca2-46b3-11eb-ae4f-0242ac110002-4-cdcc-b0ca-3c42-b67b",
       "previous": "a9eb4586-4846-11eb-9304-0242ac110002-2-9391-b159"
      },
      {
       "current": "a9eb477a-4846-11eb-9304-0242ac110002-3-94ad-0692-d3e2",
       "next": "3c213ca2-46b3-11eb-ae4f-0242ac110002-5-cdcc-b0ca-3c42-b67b-e5fd",
       "previous": "a9eb4586-4846-11eb-9304-0242ac110002-3-9391-b159-492f"
      },
      {
       "current": "a9eb477a-4846-11eb-9304-0242ac110002-4-94ad-0692-d3e2-23b6",
       "next": "cba92190-490c-11eb-bea0-0242ac110002",
       "previous": "a9eb4586-4846-11eb-9304-0242ac110002-3-9391-b159-492f"
      },
      {
       "current": "a9eb477a-4846-11eb-9304-0242ac110002-4-94ad-0692-d3e2-23b6",
       "next": "cba92190-490c-11eb-bea0-0242ac110002-1-126d",
       "previous": "a9eb4586-4846-11eb-9304-0242ac110002-4-9391-b159-492f-0708"
      },
      {
       "current": "a9eb477a-4846-11eb-9304-0242ac110002-5-94ad-0692-d3e2-23b6-47fb",
       "next": "3c213ca2-46b3-11eb-ae4f-0242ac110002-6-cdcc-b0ca-3c42-b67b-e5fd-35f2",
       "previous": "a9eb4586-4846-11eb-9304-0242ac110002-4-9391-b159-492f-0708"
      },
      {
       "current": "a9eb477a-4846-11eb-9304-0242ac110002-6-94ad-0692-d3e2-23b6-47fb-9e6d",
       "next": "3c213ca2-46b3-11eb-ae4f-0242ac110002-7-cdcc-b0ca-3c42-b67b-e5fd-35f2-6b67",
       "previous": "a9eb4586-4846-11eb-9304-0242ac110002-5-9391-b159-492f-0708-97e6"
      },
      {
       "current": "a9eb477a-4846-11eb-9304-0242ac110002-7-94ad-0692-d3e2-23b6-47fb-9e6d-47b7",
       "next": "3c213ca2-46b3-11eb-ae4f-0242ac110002-8-cdcc-b0ca-3c42-b67b-e5fd-35f2-6b67-a5eb",
       "previous": "a9eb4586-4846-11eb-9304-0242ac110002-6-9391-b159-492f-0708-97e6-9b3f"
      },
      {
       "current": "a9eb477a-4846-11eb-9304-0242ac110002-8-94ad-0692-d3e2-23b6-47fb-9e6d-47b7-bfbf",
       "next": "3c213ca2-46b3-11eb-ae4f-0242ac110002-9-cdcc-b0ca-3c42-b67b-e5fd-35f2-6b67-a5eb-8fba",
       "previous": "a9eb4586-4846-11eb-9304-0242ac110002-7-9391-b159-492f-0708-97e6-9b3f-632b"
      },
      {
       "current": "a9eb477a-4846-11eb-9304-0242ac110002-9-94ad-0692-d3e2-23b6-47fb-9e6d-47b7-bfbf-9edf",
       "next": "3c213ca2-46b3-11eb-ae4f-0242ac110002-10-cdcc-b0ca-3c42-b67b-e5fd-35f2-6b67-a5eb-8fba-c7c4",
       "previous": "a9eb4586-4846-11eb-9304-0242ac110002-8-9391-b159-492f-0708-97e6-9b3f-632b-ae97"
      },
      {
       "current": "a9eb477a-4846-11eb-9304-0242ac110002-9-94ad-0692-d3e2-23b6-47fb-9e6d-47b7-bfbf-9edf",
       "next": "3c213ca2-46b3-11eb-ae4f-0242ac110002-11-b0ca-3c42-b67b-e5fd-35f2-6b67-a5eb-8fba-c7c4-412b",
       "previous": "a9eb4586-4846-11eb-9304-0242ac110002-9-9391-b159-492f-0708-97e6-9b3f-632b-ae97-9254"
      },
      {
       "current": "a9eb477a-4846-11eb-9304-0242ac110002-9-94ad-0692-d3e2-23b6-47fb-9e6d-47b7-bfbf-9edf",
       "next": "84315182-48af-11eb-b4d3-0242ac110002-7-f3a7-2ad3-82f0-5809-ddcb-1bde-9d8f",
       "previous": "3c213ca2-46b3-11eb-ae4f-0242ac110002-11-b0ca-3c42-b67b-e5fd-35f2-6b67-a5eb-8fba-c7c4-412b"
      },
      {
       "current": "a9eb477a-4846-11eb-9304-0242ac110002-9-94ad-0692-d3e2-23b6-47fb-9e6d-47b7-bfbf-9edf",
       "next": "84315182-48af-11eb-b4d3-0242ac110002-7-f3a7-2ad3-82f0-5809-ddcb-1bde-9d8f",
       "previous": "a9eb477a-4846-11eb-9304-0242ac110002-10-94ad-0692-d3e2-23b6-47fb-9e6d-47b7-bfbf-9edf-2ddb"
      },
      {
       "current": "a9eb477a-4846-11eb-9304-0242ac110002-10-94ad-0692-d3e2-23b6-47fb-9e6d-47b7-bfbf-9edf-149f",
       "next": "84315182-48af-11eb-b4d3-0242ac110002-7-f3a7-2ad3-82f0-5809-ddcb-1bde-9d8f",
       "previous": "a9eb477a-4846-11eb-9304-0242ac110002-10-94ad-0692-d3e2-23b6-47fb-9e6d-47b7-bfbf-9edf-56b8"
      },
      {
       "current": "a9eb477a-4846-11eb-9304-0242ac110002-11-0692-d3e2-23b6-47fb-9e6d-47b7-bfbf-9edf-149f-bc97",
       "next": "a9eb477a-4846-11eb-9304-0242ac110002-10-94ad-0692-d3e2-23b6-47fb-9e6d-47b7-bfbf-9edf-645a",
       "previous": "a9eb477a-4846-11eb-9304-0242ac110002-10-94ad-0692-d3e2-23b6-47fb-9e6d-47b7-bfbf-9edf-d926"
      },
      {
       "current": "a9eb477a-4846-11eb-9304-0242ac110002-11-0692-d3e2-23b6-47fb-9e6d-47b7-bfbf-9edf-149f-bc97",
       "next": "a9eb477a-4846-11eb-9304-0242ac110002-11-0692-d3e2-23b6-47fb-9e6d-47b7-bfbf-9edf-645a-348e",
       "previous": "a9eb477a-4846-11eb-9304-0242ac110002-11-0692-d3e2-23b6-47fb-9e6d-47b7-bfbf-9edf-d926-51b5"
      },
      {
       "current": "a9eb477a-4846-11eb-9304-0242ac110002-11-0692-d3e2-23b6-47fb-9e6d-47b7-bfbf-9edf-149f-bc97",
       "next": "a9eb477a-4846-11eb-9304-0242ac110002-11-0692-d3e2-23b6-47fb-9e6d-47b7-bfbf-9edf-645a-348e",
       "previous": "a9eb477a-4846-11eb-9304-0242ac110002-11-0692-d3e2-23b6-47fb-9e6d-47b7-bfbf-9edf-56b8-781e"
      },
      {
       "current": "a9eb477a-4846-11eb-9304-0242ac110002-12-d3e2-23b6-47fb-9e6d-47b7-bfbf-9edf-149f-bc97-0430",
       "next": "4736b626-83da-11eb-a693-0242ac110002",
       "previous": "a9eb477a-4846-11eb-9304-0242ac110002-11-0692-d3e2-23b6-47fb-9e6d-47b7-bfbf-9edf-56b8-781e"
      },
      {
       "current": "a9eb477a-4846-11eb-9304-0242ac110002-12-d3e2-23b6-47fb-9e6d-47b7-bfbf-9edf-149f-bc97-0430",
       "next": "4736b626-83da-11eb-a693-0242ac110002",
       "previous": "a9eb477a-4846-11eb-9304-0242ac110002-11-0692-d3e2-23b6-47fb-9e6d-47b7-bfbf-9edf-56b8-781e"
      },
      {
       "current": "a9eb477a-4846-11eb-9304-0242ac110002-13-23b6-47fb-9e6d-47b7-bfbf-9edf-149f-bc97-0430-e8fc",
       "next": "4736b626-83da-11eb-a693-0242ac110002-1-4541",
       "previous": "a9eb477a-4846-11eb-9304-0242ac110002-12-d3e2-23b6-47fb-9e6d-47b7-bfbf-9edf-56b8-781e-f1b3"
      }
     ],
     "next": "a9eb477a-4846-11eb-9304-0242ac110002-12-d3e2-23b6-47fb-9e6d-47b7-bfbf-9edf-149f-bc97-0430",
     "previous": "a9eb477a-4846-11eb-9304-0242ac110002-13-23b6-47fb-9e6d-47b7-bfbf-9edf-149f-bc97-0430-17c4"
    },
    "slideshow": {
     "slide_type": "slide"
    }
   },
   "source": [
    "- ('vic02', 'vic11')：vic02を勝利点獲得、vic11を終了条件とした組み合わせが紹介されている。vic07の「一定の勝利点への到達を目指すゲームは、本質的にレースゲームである」はvic02と整合を付けられるので、置き換えは成立する。\n",
    "- ('vic06', 'vic11')：vic11単体ではプレイヤに終了を動機付けられないため、vic06で動機付けると述べている。vic07では先頭でゴールすることで勝利が確定するため、vic06がなくとも終了は動機付けられる。また、vic06の効果でvic07が確定させる勝利が影響を受けることもない。置き換えは成立しない。"
   ]
  },
  {
   "cell_type": "markdown",
   "metadata": {
    "lc_cell_meme": {
     "current": "a9eb477a-4846-11eb-9304-0242ac110002-12-d3e2-23b6-47fb-9e6d-47b7-bfbf-9edf-149f-bc97-0430",
     "history": [
      {
       "current": "a9eb477a-4846-11eb-9304-0242ac110002-1-94ad",
       "next": "3c213ca2-46b3-11eb-ae4f-0242ac110002-2-cdcc-b0ca",
       "previous": "a9eb4586-4846-11eb-9304-0242ac110002"
      },
      {
       "current": "a9eb477a-4846-11eb-9304-0242ac110002-2-94ad-0692",
       "next": "3c213ca2-46b3-11eb-ae4f-0242ac110002-3-cdcc-b0ca-3c42",
       "previous": "a9eb4586-4846-11eb-9304-0242ac110002-1-9391"
      },
      {
       "current": "a9eb477a-4846-11eb-9304-0242ac110002-3-94ad-0692-d3e2",
       "next": "3c213ca2-46b3-11eb-ae4f-0242ac110002-4-cdcc-b0ca-3c42-b67b",
       "previous": "a9eb4586-4846-11eb-9304-0242ac110002-2-9391-b159"
      },
      {
       "current": "a9eb477a-4846-11eb-9304-0242ac110002-3-94ad-0692-d3e2",
       "next": "3c213ca2-46b3-11eb-ae4f-0242ac110002-5-cdcc-b0ca-3c42-b67b-e5fd",
       "previous": "a9eb4586-4846-11eb-9304-0242ac110002-3-9391-b159-492f"
      },
      {
       "current": "a9eb477a-4846-11eb-9304-0242ac110002-4-94ad-0692-d3e2-23b6",
       "next": "cba92190-490c-11eb-bea0-0242ac110002",
       "previous": "a9eb4586-4846-11eb-9304-0242ac110002-3-9391-b159-492f"
      },
      {
       "current": "a9eb477a-4846-11eb-9304-0242ac110002-4-94ad-0692-d3e2-23b6",
       "next": "cba92190-490c-11eb-bea0-0242ac110002-1-126d",
       "previous": "a9eb4586-4846-11eb-9304-0242ac110002-4-9391-b159-492f-0708"
      },
      {
       "current": "a9eb477a-4846-11eb-9304-0242ac110002-5-94ad-0692-d3e2-23b6-47fb",
       "next": "3c213ca2-46b3-11eb-ae4f-0242ac110002-6-cdcc-b0ca-3c42-b67b-e5fd-35f2",
       "previous": "a9eb4586-4846-11eb-9304-0242ac110002-4-9391-b159-492f-0708"
      },
      {
       "current": "a9eb477a-4846-11eb-9304-0242ac110002-6-94ad-0692-d3e2-23b6-47fb-9e6d",
       "next": "3c213ca2-46b3-11eb-ae4f-0242ac110002-7-cdcc-b0ca-3c42-b67b-e5fd-35f2-6b67",
       "previous": "a9eb4586-4846-11eb-9304-0242ac110002-5-9391-b159-492f-0708-97e6"
      },
      {
       "current": "a9eb477a-4846-11eb-9304-0242ac110002-7-94ad-0692-d3e2-23b6-47fb-9e6d-47b7",
       "next": "3c213ca2-46b3-11eb-ae4f-0242ac110002-8-cdcc-b0ca-3c42-b67b-e5fd-35f2-6b67-a5eb",
       "previous": "a9eb4586-4846-11eb-9304-0242ac110002-6-9391-b159-492f-0708-97e6-9b3f"
      },
      {
       "current": "a9eb477a-4846-11eb-9304-0242ac110002-8-94ad-0692-d3e2-23b6-47fb-9e6d-47b7-bfbf",
       "next": "3c213ca2-46b3-11eb-ae4f-0242ac110002-9-cdcc-b0ca-3c42-b67b-e5fd-35f2-6b67-a5eb-8fba",
       "previous": "a9eb4586-4846-11eb-9304-0242ac110002-7-9391-b159-492f-0708-97e6-9b3f-632b"
      },
      {
       "current": "a9eb477a-4846-11eb-9304-0242ac110002-9-94ad-0692-d3e2-23b6-47fb-9e6d-47b7-bfbf-9edf",
       "next": "3c213ca2-46b3-11eb-ae4f-0242ac110002-10-cdcc-b0ca-3c42-b67b-e5fd-35f2-6b67-a5eb-8fba-c7c4",
       "previous": "a9eb4586-4846-11eb-9304-0242ac110002-8-9391-b159-492f-0708-97e6-9b3f-632b-ae97"
      },
      {
       "current": "a9eb477a-4846-11eb-9304-0242ac110002-9-94ad-0692-d3e2-23b6-47fb-9e6d-47b7-bfbf-9edf",
       "next": "3c213ca2-46b3-11eb-ae4f-0242ac110002-11-b0ca-3c42-b67b-e5fd-35f2-6b67-a5eb-8fba-c7c4-412b",
       "previous": "a9eb4586-4846-11eb-9304-0242ac110002-9-9391-b159-492f-0708-97e6-9b3f-632b-ae97-9254"
      },
      {
       "current": "a9eb477a-4846-11eb-9304-0242ac110002-9-94ad-0692-d3e2-23b6-47fb-9e6d-47b7-bfbf-9edf",
       "next": "84315182-48af-11eb-b4d3-0242ac110002-7-f3a7-2ad3-82f0-5809-ddcb-1bde-9d8f",
       "previous": "3c213ca2-46b3-11eb-ae4f-0242ac110002-11-b0ca-3c42-b67b-e5fd-35f2-6b67-a5eb-8fba-c7c4-412b"
      },
      {
       "current": "a9eb477a-4846-11eb-9304-0242ac110002-9-94ad-0692-d3e2-23b6-47fb-9e6d-47b7-bfbf-9edf",
       "next": "84315182-48af-11eb-b4d3-0242ac110002-7-f3a7-2ad3-82f0-5809-ddcb-1bde-9d8f",
       "previous": "a9eb477a-4846-11eb-9304-0242ac110002-10-94ad-0692-d3e2-23b6-47fb-9e6d-47b7-bfbf-9edf-2ddb"
      },
      {
       "current": "a9eb477a-4846-11eb-9304-0242ac110002-10-94ad-0692-d3e2-23b6-47fb-9e6d-47b7-bfbf-9edf-149f",
       "next": "84315182-48af-11eb-b4d3-0242ac110002-7-f3a7-2ad3-82f0-5809-ddcb-1bde-9d8f",
       "previous": "a9eb477a-4846-11eb-9304-0242ac110002-10-94ad-0692-d3e2-23b6-47fb-9e6d-47b7-bfbf-9edf-56b8"
      },
      {
       "current": "a9eb477a-4846-11eb-9304-0242ac110002-11-0692-d3e2-23b6-47fb-9e6d-47b7-bfbf-9edf-149f-bc97",
       "next": "a9eb477a-4846-11eb-9304-0242ac110002-10-94ad-0692-d3e2-23b6-47fb-9e6d-47b7-bfbf-9edf-645a",
       "previous": "a9eb477a-4846-11eb-9304-0242ac110002-10-94ad-0692-d3e2-23b6-47fb-9e6d-47b7-bfbf-9edf-d926"
      },
      {
       "current": "a9eb477a-4846-11eb-9304-0242ac110002-11-0692-d3e2-23b6-47fb-9e6d-47b7-bfbf-9edf-149f-bc97",
       "next": "a9eb477a-4846-11eb-9304-0242ac110002-11-0692-d3e2-23b6-47fb-9e6d-47b7-bfbf-9edf-645a-348e",
       "previous": "a9eb477a-4846-11eb-9304-0242ac110002-11-0692-d3e2-23b6-47fb-9e6d-47b7-bfbf-9edf-d926-51b5"
      },
      {
       "current": "a9eb477a-4846-11eb-9304-0242ac110002-11-0692-d3e2-23b6-47fb-9e6d-47b7-bfbf-9edf-149f-bc97",
       "next": "a9eb477a-4846-11eb-9304-0242ac110002-11-0692-d3e2-23b6-47fb-9e6d-47b7-bfbf-9edf-645a-348e",
       "previous": "a9eb477a-4846-11eb-9304-0242ac110002-11-0692-d3e2-23b6-47fb-9e6d-47b7-bfbf-9edf-56b8-781e"
      },
      {
       "current": "a9eb477a-4846-11eb-9304-0242ac110002-12-d3e2-23b6-47fb-9e6d-47b7-bfbf-9edf-149f-bc97-0430",
       "next": "4736b626-83da-11eb-a693-0242ac110002",
       "previous": "a9eb477a-4846-11eb-9304-0242ac110002-11-0692-d3e2-23b6-47fb-9e6d-47b7-bfbf-9edf-56b8-781e"
      },
      {
       "current": "a9eb477a-4846-11eb-9304-0242ac110002-12-d3e2-23b6-47fb-9e6d-47b7-bfbf-9edf-149f-bc97-0430",
       "next": "4736b626-83da-11eb-a693-0242ac110002",
       "previous": "a9eb477a-4846-11eb-9304-0242ac110002-11-0692-d3e2-23b6-47fb-9e6d-47b7-bfbf-9edf-56b8-781e"
      },
      {
       "current": "a9eb477a-4846-11eb-9304-0242ac110002-12-d3e2-23b6-47fb-9e6d-47b7-bfbf-9edf-149f-bc97-0430",
       "next": "4736b626-83da-11eb-a693-0242ac110002-1-4541",
       "previous": "a9eb477a-4846-11eb-9304-0242ac110002-12-d3e2-23b6-47fb-9e6d-47b7-bfbf-9edf-56b8-781e-f1b3"
      }
     ],
     "next": "4736b626-83da-11eb-a693-0242ac110002-1-4541",
     "previous": "a9eb477a-4846-11eb-9304-0242ac110002-13-23b6-47fb-9e6d-47b7-bfbf-9edf-149f-bc97-0430-e8fc"
    },
    "slideshow": {
     "slide_type": "slide"
    }
   },
   "source": [
    "- ('vic10', 'vic11')：vic10とvic11はゴールに近付いていくという形式上は違いがなく、ポジティブな意味付けかネガティブな意味付けかが違う。vic07もゴールに近付いていくという形式は同じであり、置き換えは成立する。\n",
    "- ('vic11', 'vic19')：vic11とvic19の違いについて、vic11を「全員が同時に勝利に近付いていく」と述べている。これはvic07にも当てはまるため、置き換えは成立する。\n",
    "\n",
    "　以上の検討により、参照5つのうち4つについて、参照の継承に問題ないことが分かった。"
   ]
  },
  {
   "cell_type": "markdown",
   "metadata": {
    "lc_cell_meme": {
     "current": "4736b626-83da-11eb-a693-0242ac110002-1-4541",
     "history": [
      {
       "current": "4736b626-83da-11eb-a693-0242ac110002-1-4541",
       "next": "a9eb477a-4846-11eb-9304-0242ac110002-11-0692-d3e2-23b6-47fb-9e6d-47b7-bfbf-9edf-645a-348e",
       "previous": "a9eb477a-4846-11eb-9304-0242ac110002-11-0692-d3e2-23b6-47fb-9e6d-47b7-bfbf-9edf-149f-bc97"
      },
      {
       "current": "4736b626-83da-11eb-a693-0242ac110002-1-4541",
       "next": "a9eb477a-4846-11eb-9304-0242ac110002-11-0692-d3e2-23b6-47fb-9e6d-47b7-bfbf-9edf-645a-348e",
       "previous": "a9eb477a-4846-11eb-9304-0242ac110002-11-0692-d3e2-23b6-47fb-9e6d-47b7-bfbf-9edf-149f-bc97"
      }
     ],
     "next": "a9eb477a-4846-11eb-9304-0242ac110002-12-d3e2-23b6-47fb-9e6d-47b7-bfbf-9edf-645a-348e-c073",
     "previous": "a9eb477a-4846-11eb-9304-0242ac110002-12-d3e2-23b6-47fb-9e6d-47b7-bfbf-9edf-149f-bc97-0430"
    },
    "slideshow": {
     "slide_type": "slide"
    }
   },
   "source": [
    "解決：パターンの関係をもっと増やす方法がある"
   ]
  },
  {
   "cell_type": "markdown",
   "metadata": {
    "lc_cell_meme": {
     "current": "a9eb477a-4846-11eb-9304-0242ac110002-12-d3e2-23b6-47fb-9e6d-47b7-bfbf-9edf-645a-348e-c073",
     "history": [
      {
       "current": "a9eb477a-4846-11eb-9304-0242ac110002-1-94ad",
       "next": "3c213ca2-46b3-11eb-ae4f-0242ac110002-2-cdcc-b0ca",
       "previous": "a9eb4586-4846-11eb-9304-0242ac110002"
      },
      {
       "current": "a9eb477a-4846-11eb-9304-0242ac110002-2-94ad-0692",
       "next": "3c213ca2-46b3-11eb-ae4f-0242ac110002-3-cdcc-b0ca-3c42",
       "previous": "a9eb4586-4846-11eb-9304-0242ac110002-1-9391"
      },
      {
       "current": "a9eb477a-4846-11eb-9304-0242ac110002-3-94ad-0692-d3e2",
       "next": "3c213ca2-46b3-11eb-ae4f-0242ac110002-4-cdcc-b0ca-3c42-b67b",
       "previous": "a9eb4586-4846-11eb-9304-0242ac110002-2-9391-b159"
      },
      {
       "current": "a9eb477a-4846-11eb-9304-0242ac110002-3-94ad-0692-d3e2",
       "next": "3c213ca2-46b3-11eb-ae4f-0242ac110002-5-cdcc-b0ca-3c42-b67b-e5fd",
       "previous": "a9eb4586-4846-11eb-9304-0242ac110002-3-9391-b159-492f"
      },
      {
       "current": "a9eb477a-4846-11eb-9304-0242ac110002-4-94ad-0692-d3e2-23b6",
       "next": "cba92190-490c-11eb-bea0-0242ac110002",
       "previous": "a9eb4586-4846-11eb-9304-0242ac110002-3-9391-b159-492f"
      },
      {
       "current": "a9eb477a-4846-11eb-9304-0242ac110002-4-94ad-0692-d3e2-23b6",
       "next": "cba92190-490c-11eb-bea0-0242ac110002-1-126d",
       "previous": "a9eb4586-4846-11eb-9304-0242ac110002-4-9391-b159-492f-0708"
      },
      {
       "current": "a9eb477a-4846-11eb-9304-0242ac110002-5-94ad-0692-d3e2-23b6-47fb",
       "next": "3c213ca2-46b3-11eb-ae4f-0242ac110002-6-cdcc-b0ca-3c42-b67b-e5fd-35f2",
       "previous": "a9eb4586-4846-11eb-9304-0242ac110002-4-9391-b159-492f-0708"
      },
      {
       "current": "a9eb477a-4846-11eb-9304-0242ac110002-6-94ad-0692-d3e2-23b6-47fb-9e6d",
       "next": "3c213ca2-46b3-11eb-ae4f-0242ac110002-7-cdcc-b0ca-3c42-b67b-e5fd-35f2-6b67",
       "previous": "a9eb4586-4846-11eb-9304-0242ac110002-5-9391-b159-492f-0708-97e6"
      },
      {
       "current": "a9eb477a-4846-11eb-9304-0242ac110002-7-94ad-0692-d3e2-23b6-47fb-9e6d-47b7",
       "next": "3c213ca2-46b3-11eb-ae4f-0242ac110002-8-cdcc-b0ca-3c42-b67b-e5fd-35f2-6b67-a5eb",
       "previous": "a9eb4586-4846-11eb-9304-0242ac110002-6-9391-b159-492f-0708-97e6-9b3f"
      },
      {
       "current": "a9eb477a-4846-11eb-9304-0242ac110002-8-94ad-0692-d3e2-23b6-47fb-9e6d-47b7-bfbf",
       "next": "3c213ca2-46b3-11eb-ae4f-0242ac110002-9-cdcc-b0ca-3c42-b67b-e5fd-35f2-6b67-a5eb-8fba",
       "previous": "a9eb4586-4846-11eb-9304-0242ac110002-7-9391-b159-492f-0708-97e6-9b3f-632b"
      },
      {
       "current": "a9eb477a-4846-11eb-9304-0242ac110002-9-94ad-0692-d3e2-23b6-47fb-9e6d-47b7-bfbf-9edf",
       "next": "3c213ca2-46b3-11eb-ae4f-0242ac110002-10-cdcc-b0ca-3c42-b67b-e5fd-35f2-6b67-a5eb-8fba-c7c4",
       "previous": "a9eb4586-4846-11eb-9304-0242ac110002-8-9391-b159-492f-0708-97e6-9b3f-632b-ae97"
      },
      {
       "current": "a9eb477a-4846-11eb-9304-0242ac110002-9-94ad-0692-d3e2-23b6-47fb-9e6d-47b7-bfbf-9edf",
       "next": "3c213ca2-46b3-11eb-ae4f-0242ac110002-11-b0ca-3c42-b67b-e5fd-35f2-6b67-a5eb-8fba-c7c4-412b",
       "previous": "a9eb4586-4846-11eb-9304-0242ac110002-9-9391-b159-492f-0708-97e6-9b3f-632b-ae97-9254"
      },
      {
       "current": "a9eb477a-4846-11eb-9304-0242ac110002-9-94ad-0692-d3e2-23b6-47fb-9e6d-47b7-bfbf-9edf",
       "next": "84315182-48af-11eb-b4d3-0242ac110002-7-f3a7-2ad3-82f0-5809-ddcb-1bde-9d8f",
       "previous": "3c213ca2-46b3-11eb-ae4f-0242ac110002-11-b0ca-3c42-b67b-e5fd-35f2-6b67-a5eb-8fba-c7c4-412b"
      },
      {
       "current": "a9eb477a-4846-11eb-9304-0242ac110002-9-94ad-0692-d3e2-23b6-47fb-9e6d-47b7-bfbf-9edf",
       "next": "84315182-48af-11eb-b4d3-0242ac110002-7-f3a7-2ad3-82f0-5809-ddcb-1bde-9d8f",
       "previous": "a9eb477a-4846-11eb-9304-0242ac110002-10-94ad-0692-d3e2-23b6-47fb-9e6d-47b7-bfbf-9edf-2ddb"
      },
      {
       "current": "a9eb477a-4846-11eb-9304-0242ac110002-10-94ad-0692-d3e2-23b6-47fb-9e6d-47b7-bfbf-9edf-645a",
       "next": "84315182-48af-11eb-b4d3-0242ac110002-7-f3a7-2ad3-82f0-5809-ddcb-1bde-9d8f",
       "previous": "a9eb477a-4846-11eb-9304-0242ac110002-10-94ad-0692-d3e2-23b6-47fb-9e6d-47b7-bfbf-9edf-56b8"
      },
      {
       "current": "a9eb477a-4846-11eb-9304-0242ac110002-11-0692-d3e2-23b6-47fb-9e6d-47b7-bfbf-9edf-645a-348e",
       "next": "a9eb477a-4846-11eb-9304-0242ac110002-9-94ad-0692-d3e2-23b6-47fb-9e6d-47b7-bfbf-9edf",
       "previous": "a9eb477a-4846-11eb-9304-0242ac110002-10-94ad-0692-d3e2-23b6-47fb-9e6d-47b7-bfbf-9edf-149f"
      },
      {
       "current": "a9eb477a-4846-11eb-9304-0242ac110002-11-0692-d3e2-23b6-47fb-9e6d-47b7-bfbf-9edf-645a-348e",
       "next": "a9eb477a-4846-11eb-9304-0242ac110002-10-94ad-0692-d3e2-23b6-47fb-9e6d-47b7-bfbf-9edf-6d87",
       "previous": "a9eb477a-4846-11eb-9304-0242ac110002-11-0692-d3e2-23b6-47fb-9e6d-47b7-bfbf-9edf-149f-bc97"
      },
      {
       "current": "a9eb477a-4846-11eb-9304-0242ac110002-12-d3e2-23b6-47fb-9e6d-47b7-bfbf-9edf-645a-348e-c073",
       "next": "a9eb477a-4846-11eb-9304-0242ac110002-10-94ad-0692-d3e2-23b6-47fb-9e6d-47b7-bfbf-9edf-6d87",
       "previous": "4736b626-83da-11eb-a693-0242ac110002"
      },
      {
       "current": "a9eb477a-4846-11eb-9304-0242ac110002-12-d3e2-23b6-47fb-9e6d-47b7-bfbf-9edf-645a-348e-c073",
       "next": "a9eb477a-4846-11eb-9304-0242ac110002-10-94ad-0692-d3e2-23b6-47fb-9e6d-47b7-bfbf-9edf-6d87",
       "previous": "4736b626-83da-11eb-a693-0242ac110002"
      },
      {
       "current": "a9eb477a-4846-11eb-9304-0242ac110002-12-d3e2-23b6-47fb-9e6d-47b7-bfbf-9edf-645a-348e-c073",
       "next": "a9eb477a-4846-11eb-9304-0242ac110002-11-0692-d3e2-23b6-47fb-9e6d-47b7-bfbf-9edf-6d87-2f60",
       "previous": "4736b626-83da-11eb-a693-0242ac110002-1-4541"
      }
     ],
     "next": "a9eb477a-4846-11eb-9304-0242ac110002-12-d3e2-23b6-47fb-9e6d-47b7-bfbf-9edf-6d87-2f60-62e7",
     "previous": "4736b626-83da-11eb-a693-0242ac110002-1-4541"
    },
    "slideshow": {
     "slide_type": "slide"
    }
   },
   "source": [
    "考察"
   ]
  },
  {
   "cell_type": "markdown",
   "metadata": {
    "lc_cell_meme": {
     "current": "a9eb477a-4846-11eb-9304-0242ac110002-12-d3e2-23b6-47fb-9e6d-47b7-bfbf-9edf-6d87-2f60-62e7",
     "history": [
      {
       "current": "a9eb477a-4846-11eb-9304-0242ac110002-1-94ad",
       "next": "3c213ca2-46b3-11eb-ae4f-0242ac110002-2-cdcc-b0ca",
       "previous": "a9eb4586-4846-11eb-9304-0242ac110002"
      },
      {
       "current": "a9eb477a-4846-11eb-9304-0242ac110002-2-94ad-0692",
       "next": "3c213ca2-46b3-11eb-ae4f-0242ac110002-3-cdcc-b0ca-3c42",
       "previous": "a9eb4586-4846-11eb-9304-0242ac110002-1-9391"
      },
      {
       "current": "a9eb477a-4846-11eb-9304-0242ac110002-3-94ad-0692-d3e2",
       "next": "3c213ca2-46b3-11eb-ae4f-0242ac110002-4-cdcc-b0ca-3c42-b67b",
       "previous": "a9eb4586-4846-11eb-9304-0242ac110002-2-9391-b159"
      },
      {
       "current": "a9eb477a-4846-11eb-9304-0242ac110002-3-94ad-0692-d3e2",
       "next": "3c213ca2-46b3-11eb-ae4f-0242ac110002-5-cdcc-b0ca-3c42-b67b-e5fd",
       "previous": "a9eb4586-4846-11eb-9304-0242ac110002-3-9391-b159-492f"
      },
      {
       "current": "a9eb477a-4846-11eb-9304-0242ac110002-4-94ad-0692-d3e2-23b6",
       "next": "cba92190-490c-11eb-bea0-0242ac110002",
       "previous": "a9eb4586-4846-11eb-9304-0242ac110002-3-9391-b159-492f"
      },
      {
       "current": "a9eb477a-4846-11eb-9304-0242ac110002-4-94ad-0692-d3e2-23b6",
       "next": "cba92190-490c-11eb-bea0-0242ac110002-1-126d",
       "previous": "a9eb4586-4846-11eb-9304-0242ac110002-4-9391-b159-492f-0708"
      },
      {
       "current": "a9eb477a-4846-11eb-9304-0242ac110002-5-94ad-0692-d3e2-23b6-47fb",
       "next": "3c213ca2-46b3-11eb-ae4f-0242ac110002-6-cdcc-b0ca-3c42-b67b-e5fd-35f2",
       "previous": "a9eb4586-4846-11eb-9304-0242ac110002-4-9391-b159-492f-0708"
      },
      {
       "current": "a9eb477a-4846-11eb-9304-0242ac110002-6-94ad-0692-d3e2-23b6-47fb-9e6d",
       "next": "3c213ca2-46b3-11eb-ae4f-0242ac110002-7-cdcc-b0ca-3c42-b67b-e5fd-35f2-6b67",
       "previous": "a9eb4586-4846-11eb-9304-0242ac110002-5-9391-b159-492f-0708-97e6"
      },
      {
       "current": "a9eb477a-4846-11eb-9304-0242ac110002-7-94ad-0692-d3e2-23b6-47fb-9e6d-47b7",
       "next": "3c213ca2-46b3-11eb-ae4f-0242ac110002-8-cdcc-b0ca-3c42-b67b-e5fd-35f2-6b67-a5eb",
       "previous": "a9eb4586-4846-11eb-9304-0242ac110002-6-9391-b159-492f-0708-97e6-9b3f"
      },
      {
       "current": "a9eb477a-4846-11eb-9304-0242ac110002-8-94ad-0692-d3e2-23b6-47fb-9e6d-47b7-bfbf",
       "next": "3c213ca2-46b3-11eb-ae4f-0242ac110002-9-cdcc-b0ca-3c42-b67b-e5fd-35f2-6b67-a5eb-8fba",
       "previous": "a9eb4586-4846-11eb-9304-0242ac110002-7-9391-b159-492f-0708-97e6-9b3f-632b"
      },
      {
       "current": "a9eb477a-4846-11eb-9304-0242ac110002-9-94ad-0692-d3e2-23b6-47fb-9e6d-47b7-bfbf-9edf",
       "next": "3c213ca2-46b3-11eb-ae4f-0242ac110002-10-cdcc-b0ca-3c42-b67b-e5fd-35f2-6b67-a5eb-8fba-c7c4",
       "previous": "a9eb4586-4846-11eb-9304-0242ac110002-8-9391-b159-492f-0708-97e6-9b3f-632b-ae97"
      },
      {
       "current": "a9eb477a-4846-11eb-9304-0242ac110002-9-94ad-0692-d3e2-23b6-47fb-9e6d-47b7-bfbf-9edf",
       "next": "3c213ca2-46b3-11eb-ae4f-0242ac110002-11-b0ca-3c42-b67b-e5fd-35f2-6b67-a5eb-8fba-c7c4-412b",
       "previous": "a9eb4586-4846-11eb-9304-0242ac110002-9-9391-b159-492f-0708-97e6-9b3f-632b-ae97-9254"
      },
      {
       "current": "a9eb477a-4846-11eb-9304-0242ac110002-9-94ad-0692-d3e2-23b6-47fb-9e6d-47b7-bfbf-9edf",
       "next": "84315182-48af-11eb-b4d3-0242ac110002-7-f3a7-2ad3-82f0-5809-ddcb-1bde-9d8f",
       "previous": "3c213ca2-46b3-11eb-ae4f-0242ac110002-11-b0ca-3c42-b67b-e5fd-35f2-6b67-a5eb-8fba-c7c4-412b"
      },
      {
       "current": "a9eb477a-4846-11eb-9304-0242ac110002-9-94ad-0692-d3e2-23b6-47fb-9e6d-47b7-bfbf-9edf",
       "next": "84315182-48af-11eb-b4d3-0242ac110002-7-f3a7-2ad3-82f0-5809-ddcb-1bde-9d8f",
       "previous": "a9eb477a-4846-11eb-9304-0242ac110002-10-94ad-0692-d3e2-23b6-47fb-9e6d-47b7-bfbf-9edf-2ddb"
      },
      {
       "current": "a9eb477a-4846-11eb-9304-0242ac110002-9-94ad-0692-d3e2-23b6-47fb-9e6d-47b7-bfbf-9edf",
       "next": "84315182-48af-11eb-b4d3-0242ac110002-7-f3a7-2ad3-82f0-5809-ddcb-1bde-9d8f",
       "previous": "a9eb477a-4846-11eb-9304-0242ac110002-10-94ad-0692-d3e2-23b6-47fb-9e6d-47b7-bfbf-9edf-56b8"
      },
      {
       "current": "a9eb477a-4846-11eb-9304-0242ac110002-9-94ad-0692-d3e2-23b6-47fb-9e6d-47b7-bfbf-9edf",
       "next": "84315182-48af-11eb-b4d3-0242ac110002-7-f3a7-2ad3-82f0-5809-ddcb-1bde-9d8f",
       "previous": "a9eb477a-4846-11eb-9304-0242ac110002-10-94ad-0692-d3e2-23b6-47fb-9e6d-47b7-bfbf-9edf-645a"
      },
      {
       "current": "a9eb477a-4846-11eb-9304-0242ac110002-9-94ad-0692-d3e2-23b6-47fb-9e6d-47b7-bfbf-9edf",
       "next": "18fe0172-49a8-11eb-8b85-0242ac110002-5-f2b1-4e46-a4e5-238a-2a8f",
       "previous": "a9eb477a-4846-11eb-9304-0242ac110002-10-94ad-0692-d3e2-23b6-47fb-9e6d-47b7-bfbf-9edf-645a"
      },
      {
       "current": "a9eb477a-4846-11eb-9304-0242ac110002-9-94ad-0692-d3e2-23b6-47fb-9e6d-47b7-bfbf-9edf",
       "next": "6654e0d4-41cf-11eb-aed8-0242ac110002-14-df44-3fea-45bb-4abe-dd5c-1861-489d-ef26-2c3d-4e69",
       "previous": "a9eb477a-4846-11eb-9304-0242ac110002-10-94ad-0692-d3e2-23b6-47fb-9e6d-47b7-bfbf-9edf-645a"
      },
      {
       "current": "a9eb477a-4846-11eb-9304-0242ac110002-10-94ad-0692-d3e2-23b6-47fb-9e6d-47b7-bfbf-9edf-6d87",
       "next": "6654e0d4-41cf-11eb-aed8-0242ac110002-15-3fea-45bb-4abe-dd5c-1861-489d-ef26-2c3d-4e69-389d",
       "previous": "a9eb477a-4846-11eb-9304-0242ac110002-10-94ad-0692-d3e2-23b6-47fb-9e6d-47b7-bfbf-9edf-645a"
      },
      {
       "current": "a9eb477a-4846-11eb-9304-0242ac110002-11-0692-d3e2-23b6-47fb-9e6d-47b7-bfbf-9edf-6d87-2f60",
       "next": "6654e0d4-41cf-11eb-aed8-0242ac110002-16-45bb-4abe-dd5c-1861-489d-ef26-2c3d-4e69-389d-8481",
       "previous": "a9eb477a-4846-11eb-9304-0242ac110002-11-0692-d3e2-23b6-47fb-9e6d-47b7-bfbf-9edf-645a-348e"
      },
      {
       "current": "a9eb477a-4846-11eb-9304-0242ac110002-11-0692-d3e2-23b6-47fb-9e6d-47b7-bfbf-9edf-6d87-2f60",
       "next": "6654e0d4-41cf-11eb-aed8-0242ac110002-16-45bb-4abe-dd5c-1861-489d-ef26-2c3d-4e69-389d-8481",
       "previous": "a9eb477a-4846-11eb-9304-0242ac110002-11-0692-d3e2-23b6-47fb-9e6d-47b7-bfbf-9edf-645a-348e"
      },
      {
       "current": "a9eb477a-4846-11eb-9304-0242ac110002-12-d3e2-23b6-47fb-9e6d-47b7-bfbf-9edf-6d87-2f60-62e7",
       "next": "6654e0d4-41cf-11eb-aed8-0242ac110002-17-4abe-dd5c-1861-489d-ef26-2c3d-4e69-389d-8481-7d89",
       "previous": "a9eb477a-4846-11eb-9304-0242ac110002-12-d3e2-23b6-47fb-9e6d-47b7-bfbf-9edf-645a-348e-c073"
      }
     ],
     "next": "a9eb477a-4846-11eb-9304-0242ac110002-11-0692-d3e2-23b6-47fb-9e6d-47b7-bfbf-9edf-6d87-2f60",
     "previous": "a9eb477a-4846-11eb-9304-0242ac110002-12-d3e2-23b6-47fb-9e6d-47b7-bfbf-9edf-645a-348e-c073"
    },
    "slideshow": {
     "slide_type": "slide"
    }
   },
   "source": [
    "　パターンマップについては、静的な1枚絵で表現できるパターン数を超えていると考えられるため、[「Locomotion Vault」](https://locomotionvault.github.io/)のようにインタラクティブなコンテンツとして表現することを検討できる。\n",
    "\n",
    "　カテゴリの中心性については、本研究の主題からは外れるが、指標や視覚化で整合した結果を得られており、カテゴリの関係性を把握するのに役立った。\n",
    "\n",
    "　親子関係の精査の過程においては、vic01とvic07について、「レースのように見えて実際にはそうではない」ものが「vic01に相当」とされ、同時に実装できない関係が見つかった。「このパターンとあのパターンは同時に使うことができない」が実際に確認できた。"
   ]
  },
  {
   "cell_type": "markdown",
   "metadata": {
    "lc_cell_meme": {
     "current": "a9eb477a-4846-11eb-9304-0242ac110002-11-0692-d3e2-23b6-47fb-9e6d-47b7-bfbf-9edf-6d87-2f60",
     "history": [
      {
       "current": "a9eb477a-4846-11eb-9304-0242ac110002-1-94ad",
       "next": "3c213ca2-46b3-11eb-ae4f-0242ac110002-2-cdcc-b0ca",
       "previous": "a9eb4586-4846-11eb-9304-0242ac110002"
      },
      {
       "current": "a9eb477a-4846-11eb-9304-0242ac110002-2-94ad-0692",
       "next": "3c213ca2-46b3-11eb-ae4f-0242ac110002-3-cdcc-b0ca-3c42",
       "previous": "a9eb4586-4846-11eb-9304-0242ac110002-1-9391"
      },
      {
       "current": "a9eb477a-4846-11eb-9304-0242ac110002-3-94ad-0692-d3e2",
       "next": "3c213ca2-46b3-11eb-ae4f-0242ac110002-4-cdcc-b0ca-3c42-b67b",
       "previous": "a9eb4586-4846-11eb-9304-0242ac110002-2-9391-b159"
      },
      {
       "current": "a9eb477a-4846-11eb-9304-0242ac110002-3-94ad-0692-d3e2",
       "next": "3c213ca2-46b3-11eb-ae4f-0242ac110002-5-cdcc-b0ca-3c42-b67b-e5fd",
       "previous": "a9eb4586-4846-11eb-9304-0242ac110002-3-9391-b159-492f"
      },
      {
       "current": "a9eb477a-4846-11eb-9304-0242ac110002-4-94ad-0692-d3e2-23b6",
       "next": "cba92190-490c-11eb-bea0-0242ac110002",
       "previous": "a9eb4586-4846-11eb-9304-0242ac110002-3-9391-b159-492f"
      },
      {
       "current": "a9eb477a-4846-11eb-9304-0242ac110002-4-94ad-0692-d3e2-23b6",
       "next": "cba92190-490c-11eb-bea0-0242ac110002-1-126d",
       "previous": "a9eb4586-4846-11eb-9304-0242ac110002-4-9391-b159-492f-0708"
      },
      {
       "current": "a9eb477a-4846-11eb-9304-0242ac110002-5-94ad-0692-d3e2-23b6-47fb",
       "next": "3c213ca2-46b3-11eb-ae4f-0242ac110002-6-cdcc-b0ca-3c42-b67b-e5fd-35f2",
       "previous": "a9eb4586-4846-11eb-9304-0242ac110002-4-9391-b159-492f-0708"
      },
      {
       "current": "a9eb477a-4846-11eb-9304-0242ac110002-6-94ad-0692-d3e2-23b6-47fb-9e6d",
       "next": "3c213ca2-46b3-11eb-ae4f-0242ac110002-7-cdcc-b0ca-3c42-b67b-e5fd-35f2-6b67",
       "previous": "a9eb4586-4846-11eb-9304-0242ac110002-5-9391-b159-492f-0708-97e6"
      },
      {
       "current": "a9eb477a-4846-11eb-9304-0242ac110002-7-94ad-0692-d3e2-23b6-47fb-9e6d-47b7",
       "next": "3c213ca2-46b3-11eb-ae4f-0242ac110002-8-cdcc-b0ca-3c42-b67b-e5fd-35f2-6b67-a5eb",
       "previous": "a9eb4586-4846-11eb-9304-0242ac110002-6-9391-b159-492f-0708-97e6-9b3f"
      },
      {
       "current": "a9eb477a-4846-11eb-9304-0242ac110002-8-94ad-0692-d3e2-23b6-47fb-9e6d-47b7-bfbf",
       "next": "3c213ca2-46b3-11eb-ae4f-0242ac110002-9-cdcc-b0ca-3c42-b67b-e5fd-35f2-6b67-a5eb-8fba",
       "previous": "a9eb4586-4846-11eb-9304-0242ac110002-7-9391-b159-492f-0708-97e6-9b3f-632b"
      },
      {
       "current": "a9eb477a-4846-11eb-9304-0242ac110002-9-94ad-0692-d3e2-23b6-47fb-9e6d-47b7-bfbf-9edf",
       "next": "3c213ca2-46b3-11eb-ae4f-0242ac110002-10-cdcc-b0ca-3c42-b67b-e5fd-35f2-6b67-a5eb-8fba-c7c4",
       "previous": "a9eb4586-4846-11eb-9304-0242ac110002-8-9391-b159-492f-0708-97e6-9b3f-632b-ae97"
      },
      {
       "current": "a9eb477a-4846-11eb-9304-0242ac110002-9-94ad-0692-d3e2-23b6-47fb-9e6d-47b7-bfbf-9edf",
       "next": "3c213ca2-46b3-11eb-ae4f-0242ac110002-11-b0ca-3c42-b67b-e5fd-35f2-6b67-a5eb-8fba-c7c4-412b",
       "previous": "a9eb4586-4846-11eb-9304-0242ac110002-9-9391-b159-492f-0708-97e6-9b3f-632b-ae97-9254"
      },
      {
       "current": "a9eb477a-4846-11eb-9304-0242ac110002-9-94ad-0692-d3e2-23b6-47fb-9e6d-47b7-bfbf-9edf",
       "next": "84315182-48af-11eb-b4d3-0242ac110002-7-f3a7-2ad3-82f0-5809-ddcb-1bde-9d8f",
       "previous": "3c213ca2-46b3-11eb-ae4f-0242ac110002-11-b0ca-3c42-b67b-e5fd-35f2-6b67-a5eb-8fba-c7c4-412b"
      },
      {
       "current": "a9eb477a-4846-11eb-9304-0242ac110002-9-94ad-0692-d3e2-23b6-47fb-9e6d-47b7-bfbf-9edf",
       "next": "84315182-48af-11eb-b4d3-0242ac110002-7-f3a7-2ad3-82f0-5809-ddcb-1bde-9d8f",
       "previous": "a9eb477a-4846-11eb-9304-0242ac110002-10-94ad-0692-d3e2-23b6-47fb-9e6d-47b7-bfbf-9edf-2ddb"
      },
      {
       "current": "a9eb477a-4846-11eb-9304-0242ac110002-9-94ad-0692-d3e2-23b6-47fb-9e6d-47b7-bfbf-9edf",
       "next": "84315182-48af-11eb-b4d3-0242ac110002-7-f3a7-2ad3-82f0-5809-ddcb-1bde-9d8f",
       "previous": "a9eb477a-4846-11eb-9304-0242ac110002-10-94ad-0692-d3e2-23b6-47fb-9e6d-47b7-bfbf-9edf-56b8"
      },
      {
       "current": "a9eb477a-4846-11eb-9304-0242ac110002-9-94ad-0692-d3e2-23b6-47fb-9e6d-47b7-bfbf-9edf",
       "next": "84315182-48af-11eb-b4d3-0242ac110002-7-f3a7-2ad3-82f0-5809-ddcb-1bde-9d8f",
       "previous": "a9eb477a-4846-11eb-9304-0242ac110002-10-94ad-0692-d3e2-23b6-47fb-9e6d-47b7-bfbf-9edf-645a"
      },
      {
       "current": "a9eb477a-4846-11eb-9304-0242ac110002-9-94ad-0692-d3e2-23b6-47fb-9e6d-47b7-bfbf-9edf",
       "next": "18fe0172-49a8-11eb-8b85-0242ac110002-5-f2b1-4e46-a4e5-238a-2a8f",
       "previous": "a9eb477a-4846-11eb-9304-0242ac110002-10-94ad-0692-d3e2-23b6-47fb-9e6d-47b7-bfbf-9edf-645a"
      },
      {
       "current": "a9eb477a-4846-11eb-9304-0242ac110002-9-94ad-0692-d3e2-23b6-47fb-9e6d-47b7-bfbf-9edf",
       "next": "6654e0d4-41cf-11eb-aed8-0242ac110002-14-df44-3fea-45bb-4abe-dd5c-1861-489d-ef26-2c3d-4e69",
       "previous": "a9eb477a-4846-11eb-9304-0242ac110002-10-94ad-0692-d3e2-23b6-47fb-9e6d-47b7-bfbf-9edf-645a"
      },
      {
       "current": "a9eb477a-4846-11eb-9304-0242ac110002-10-94ad-0692-d3e2-23b6-47fb-9e6d-47b7-bfbf-9edf-6d87",
       "next": "6654e0d4-41cf-11eb-aed8-0242ac110002-15-3fea-45bb-4abe-dd5c-1861-489d-ef26-2c3d-4e69-389d",
       "previous": "a9eb477a-4846-11eb-9304-0242ac110002-10-94ad-0692-d3e2-23b6-47fb-9e6d-47b7-bfbf-9edf-645a"
      },
      {
       "current": "a9eb477a-4846-11eb-9304-0242ac110002-11-0692-d3e2-23b6-47fb-9e6d-47b7-bfbf-9edf-6d87-2f60",
       "next": "6654e0d4-41cf-11eb-aed8-0242ac110002-16-45bb-4abe-dd5c-1861-489d-ef26-2c3d-4e69-389d-8481",
       "previous": "a9eb477a-4846-11eb-9304-0242ac110002-11-0692-d3e2-23b6-47fb-9e6d-47b7-bfbf-9edf-645a-348e"
      },
      {
       "current": "a9eb477a-4846-11eb-9304-0242ac110002-11-0692-d3e2-23b6-47fb-9e6d-47b7-bfbf-9edf-6d87-2f60",
       "next": "6654e0d4-41cf-11eb-aed8-0242ac110002-16-45bb-4abe-dd5c-1861-489d-ef26-2c3d-4e69-389d-8481",
       "previous": "a9eb477a-4846-11eb-9304-0242ac110002-11-0692-d3e2-23b6-47fb-9e6d-47b7-bfbf-9edf-645a-348e"
      },
      {
       "current": "a9eb477a-4846-11eb-9304-0242ac110002-11-0692-d3e2-23b6-47fb-9e6d-47b7-bfbf-9edf-6d87-2f60",
       "next": "6654e0d4-41cf-11eb-aed8-0242ac110002-17-4abe-dd5c-1861-489d-ef26-2c3d-4e69-389d-8481-7d89",
       "previous": "a9eb477a-4846-11eb-9304-0242ac110002-12-d3e2-23b6-47fb-9e6d-47b7-bfbf-9edf-645a-348e-c073"
      }
     ],
     "next": "6654e0d4-41cf-11eb-aed8-0242ac110002-17-4abe-dd5c-1861-489d-ef26-2c3d-4e69-389d-8481-7d89",
     "previous": "a9eb477a-4846-11eb-9304-0242ac110002-12-d3e2-23b6-47fb-9e6d-47b7-bfbf-9edf-6d87-2f60-62e7"
    },
    "slideshow": {
     "slide_type": "slide"
    }
   },
   "source": [
    "　参照の継承の確認では、タイプが完全に同じではない親子関係であったため、勝利条件についての親子の立場の違いから、継承できないものがあった。\n",
    "\n",
    "　「勝利点増減」タイプのパターンは暗黙的に勝利点による勝利条件を仮定しているため、本来は、「勝利点による勝利判定」パターンが親として存在するのではないかと考えられた。"
   ]
  },
  {
   "cell_type": "markdown",
   "metadata": {
    "lc_cell_meme": {
     "current": "6654e0d4-41cf-11eb-aed8-0242ac110002-17-4abe-dd5c-1861-489d-ef26-2c3d-4e69-389d-8481-7d89",
     "history": [
      {
       "current": "6654e0d4-41cf-11eb-aed8-0242ac110002",
       "next": null,
       "previous": "0fe29b6a-41c5-11eb-aed8-0242ac110002"
      },
      {
       "current": "6654e0d4-41cf-11eb-aed8-0242ac110002-1-cd5d",
       "next": "976f40a6-41cf-11eb-aed8-0242ac110002",
       "previous": "0fe29b6a-41c5-11eb-aed8-0242ac110002"
      },
      {
       "current": "6654e0d4-41cf-11eb-aed8-0242ac110002-2-cd5d-5826",
       "next": "976f40a6-41cf-11eb-aed8-0242ac110002-1-60db",
       "previous": "0fe29b6a-41c5-11eb-aed8-0242ac110002-1-a54d"
      },
      {
       "current": "6654e0d4-41cf-11eb-aed8-0242ac110002-3-cd5d-5826-0445",
       "next": "976f40a6-41cf-11eb-aed8-0242ac110002-3-60db-2644-3cd5",
       "previous": "0fe29b6a-41c5-11eb-aed8-0242ac110002-2-a54d-a710"
      },
      {
       "current": "6654e0d4-41cf-11eb-aed8-0242ac110002-4-cd5d-5826-0445-14fe",
       "next": "3c213ca2-46b3-11eb-ae4f-0242ac110002",
       "previous": "0fe29b6a-41c5-11eb-aed8-0242ac110002-3-a54d-a710-bd9b"
      },
      {
       "current": "6654e0d4-41cf-11eb-aed8-0242ac110002-5-cd5d-5826-0445-14fe-df44",
       "next": "3c213ca2-46b3-11eb-ae4f-0242ac110002-1-cdcc",
       "previous": "0fe29b6a-41c5-11eb-aed8-0242ac110002-4-a54d-a710-bd9b-6219"
      },
      {
       "current": "6654e0d4-41cf-11eb-aed8-0242ac110002-5-cd5d-5826-0445-14fe-df44",
       "next": "3c213ca2-46b3-11eb-ae4f-0242ac110002-2-cdcc-b0ca",
       "previous": "0fe29b6a-41c5-11eb-aed8-0242ac110002-5-a54d-a710-bd9b-6219-7da8"
      },
      {
       "current": "6654e0d4-41cf-11eb-aed8-0242ac110002-6-cd5d-5826-0445-14fe-df44-3fea",
       "next": "976f40a6-41cf-11eb-aed8-0242ac110002-6-60db-2644-3cd5-2b5b-54ec-4b57",
       "previous": "0fe29b6a-41c5-11eb-aed8-0242ac110002-5-a54d-a710-bd9b-6219-7da8"
      },
      {
       "current": "6654e0d4-41cf-11eb-aed8-0242ac110002-7-cd5d-5826-0445-14fe-df44-3fea-45bb",
       "next": "976f40a6-41cf-11eb-aed8-0242ac110002-7-60db-2644-3cd5-2b5b-54ec-4b57-b5bc",
       "previous": "0fe29b6a-41c5-11eb-aed8-0242ac110002-6-a54d-a710-bd9b-6219-7da8-d48c"
      },
      {
       "current": "6654e0d4-41cf-11eb-aed8-0242ac110002-8-cd5d-5826-0445-14fe-df44-3fea-45bb-4abe",
       "next": "976f40a6-41cf-11eb-aed8-0242ac110002-8-60db-2644-3cd5-2b5b-54ec-4b57-b5bc-712a",
       "previous": "0fe29b6a-41c5-11eb-aed8-0242ac110002-7-a54d-a710-bd9b-6219-7da8-d48c-6bed"
      },
      {
       "current": "6654e0d4-41cf-11eb-aed8-0242ac110002-9-cd5d-5826-0445-14fe-df44-3fea-45bb-4abe-dd5c",
       "next": "976f40a6-41cf-11eb-aed8-0242ac110002-9-60db-2644-3cd5-2b5b-54ec-4b57-b5bc-712a-a94b",
       "previous": "0fe29b6a-41c5-11eb-aed8-0242ac110002-8-a54d-a710-bd9b-6219-7da8-d48c-6bed-4d15"
      },
      {
       "current": "6654e0d4-41cf-11eb-aed8-0242ac110002-10-cd5d-5826-0445-14fe-df44-3fea-45bb-4abe-dd5c-1861",
       "next": "976f40a6-41cf-11eb-aed8-0242ac110002-10-60db-2644-3cd5-2b5b-54ec-4b57-b5bc-712a-a94b-6d0f",
       "previous": "0fe29b6a-41c5-11eb-aed8-0242ac110002-9-a54d-a710-bd9b-6219-7da8-d48c-6bed-4d15-ffd7"
      },
      {
       "current": "6654e0d4-41cf-11eb-aed8-0242ac110002-11-5826-0445-14fe-df44-3fea-45bb-4abe-dd5c-1861-489d",
       "next": "976f40a6-41cf-11eb-aed8-0242ac110002-11-2644-3cd5-2b5b-54ec-4b57-b5bc-712a-a94b-6d0f-fb6c",
       "previous": "0fe29b6a-41c5-11eb-aed8-0242ac110002-10-a54d-a710-bd9b-6219-7da8-d48c-6bed-4d15-ffd7-c75e"
      },
      {
       "current": "6654e0d4-41cf-11eb-aed8-0242ac110002-12-0445-14fe-df44-3fea-45bb-4abe-dd5c-1861-489d-ef26",
       "next": "976f40a6-41cf-11eb-aed8-0242ac110002-12-3cd5-2b5b-54ec-4b57-b5bc-712a-a94b-6d0f-fb6c-2edb",
       "previous": "0fe29b6a-41c5-11eb-aed8-0242ac110002-11-a710-bd9b-6219-7da8-d48c-6bed-4d15-ffd7-c75e-3c06"
      },
      {
       "current": "6654e0d4-41cf-11eb-aed8-0242ac110002-13-14fe-df44-3fea-45bb-4abe-dd5c-1861-489d-ef26-2c3d",
       "next": "976f40a6-41cf-11eb-aed8-0242ac110002-13-2b5b-54ec-4b57-b5bc-712a-a94b-6d0f-fb6c-2edb-266f",
       "previous": "0fe29b6a-41c5-11eb-aed8-0242ac110002-12-bd9b-6219-7da8-d48c-6bed-4d15-ffd7-c75e-3c06-3a32"
      },
      {
       "current": "6654e0d4-41cf-11eb-aed8-0242ac110002-14-df44-3fea-45bb-4abe-dd5c-1861-489d-ef26-2c3d-4e69",
       "next": "976f40a6-41cf-11eb-aed8-0242ac110002-14-54ec-4b57-b5bc-712a-a94b-6d0f-fb6c-2edb-266f-2753",
       "previous": "0fe29b6a-41c5-11eb-aed8-0242ac110002-13-6219-7da8-d48c-6bed-4d15-ffd7-c75e-3c06-3a32-6c70"
      },
      {
       "current": "6654e0d4-41cf-11eb-aed8-0242ac110002-14-df44-3fea-45bb-4abe-dd5c-1861-489d-ef26-2c3d-4e69",
       "next": "976f40a6-41cf-11eb-aed8-0242ac110002-15-4b57-b5bc-712a-a94b-6d0f-fb6c-2edb-266f-2753-c263",
       "previous": "0fe29b6a-41c5-11eb-aed8-0242ac110002-14-7da8-d48c-6bed-4d15-ffd7-c75e-3c06-3a32-6c70-1b0c"
      },
      {
       "current": "6654e0d4-41cf-11eb-aed8-0242ac110002-15-3fea-45bb-4abe-dd5c-1861-489d-ef26-2c3d-4e69-389d",
       "next": "976f40a6-41cf-11eb-aed8-0242ac110002-15-4b57-b5bc-712a-a94b-6d0f-fb6c-2edb-266f-2753-c263",
       "previous": "a9eb477a-4846-11eb-9304-0242ac110002-9-94ad-0692-d3e2-23b6-47fb-9e6d-47b7-bfbf-9edf"
      },
      {
       "current": "6654e0d4-41cf-11eb-aed8-0242ac110002-16-45bb-4abe-dd5c-1861-489d-ef26-2c3d-4e69-389d-8481",
       "next": "6654e0d4-41cf-11eb-aed8-0242ac110002-14-df44-3fea-45bb-4abe-dd5c-1861-489d-ef26-2c3d-4e69",
       "previous": "a9eb477a-4846-11eb-9304-0242ac110002-9-94ad-0692-d3e2-23b6-47fb-9e6d-47b7-bfbf-9edf"
      },
      {
       "current": "6654e0d4-41cf-11eb-aed8-0242ac110002-17-4abe-dd5c-1861-489d-ef26-2c3d-4e69-389d-8481-7d89",
       "next": "6654e0d4-41cf-11eb-aed8-0242ac110002-15-3fea-45bb-4abe-dd5c-1861-489d-ef26-2c3d-4e69-2185",
       "previous": "a9eb477a-4846-11eb-9304-0242ac110002-10-94ad-0692-d3e2-23b6-47fb-9e6d-47b7-bfbf-9edf-6d87"
      },
      {
       "current": "6654e0d4-41cf-11eb-aed8-0242ac110002-17-4abe-dd5c-1861-489d-ef26-2c3d-4e69-389d-8481-7d89",
       "next": "6654e0d4-41cf-11eb-aed8-0242ac110002-15-3fea-45bb-4abe-dd5c-1861-489d-ef26-2c3d-4e69-2185",
       "previous": "a9eb477a-4846-11eb-9304-0242ac110002-10-94ad-0692-d3e2-23b6-47fb-9e6d-47b7-bfbf-9edf-6d87"
      },
      {
       "current": "6654e0d4-41cf-11eb-aed8-0242ac110002-17-4abe-dd5c-1861-489d-ef26-2c3d-4e69-389d-8481-7d89",
       "next": "6654e0d4-41cf-11eb-aed8-0242ac110002-16-45bb-4abe-dd5c-1861-489d-ef26-2c3d-4e69-2185-32b3",
       "previous": "a9eb477a-4846-11eb-9304-0242ac110002-11-0692-d3e2-23b6-47fb-9e6d-47b7-bfbf-9edf-6d87-2f60"
      }
     ],
     "next": "6654e0d4-41cf-11eb-aed8-0242ac110002-17-4abe-dd5c-1861-489d-ef26-2c3d-4e69-2185-32b3-0b89",
     "previous": "a9eb477a-4846-11eb-9304-0242ac110002-11-0692-d3e2-23b6-47fb-9e6d-47b7-bfbf-9edf-6d87-2f60"
    },
    "slideshow": {
     "slide_type": "slide"
    }
   },
   "source": [
    "さいごに"
   ]
  },
  {
   "cell_type": "markdown",
   "metadata": {
    "lc_cell_meme": {
     "current": "6654e0d4-41cf-11eb-aed8-0242ac110002-17-4abe-dd5c-1861-489d-ef26-2c3d-4e69-2185-32b3-0b89",
     "history": [
      {
       "current": "6654e0d4-41cf-11eb-aed8-0242ac110002",
       "next": null,
       "previous": "0fe29b6a-41c5-11eb-aed8-0242ac110002"
      },
      {
       "current": "6654e0d4-41cf-11eb-aed8-0242ac110002-1-cd5d",
       "next": "976f40a6-41cf-11eb-aed8-0242ac110002",
       "previous": "0fe29b6a-41c5-11eb-aed8-0242ac110002"
      },
      {
       "current": "6654e0d4-41cf-11eb-aed8-0242ac110002-2-cd5d-5826",
       "next": "976f40a6-41cf-11eb-aed8-0242ac110002-1-60db",
       "previous": "0fe29b6a-41c5-11eb-aed8-0242ac110002-1-a54d"
      },
      {
       "current": "6654e0d4-41cf-11eb-aed8-0242ac110002-3-cd5d-5826-0445",
       "next": "976f40a6-41cf-11eb-aed8-0242ac110002-3-60db-2644-3cd5",
       "previous": "0fe29b6a-41c5-11eb-aed8-0242ac110002-2-a54d-a710"
      },
      {
       "current": "6654e0d4-41cf-11eb-aed8-0242ac110002-4-cd5d-5826-0445-14fe",
       "next": "3c213ca2-46b3-11eb-ae4f-0242ac110002",
       "previous": "0fe29b6a-41c5-11eb-aed8-0242ac110002-3-a54d-a710-bd9b"
      },
      {
       "current": "6654e0d4-41cf-11eb-aed8-0242ac110002-5-cd5d-5826-0445-14fe-df44",
       "next": "3c213ca2-46b3-11eb-ae4f-0242ac110002-1-cdcc",
       "previous": "0fe29b6a-41c5-11eb-aed8-0242ac110002-4-a54d-a710-bd9b-6219"
      },
      {
       "current": "6654e0d4-41cf-11eb-aed8-0242ac110002-5-cd5d-5826-0445-14fe-df44",
       "next": "3c213ca2-46b3-11eb-ae4f-0242ac110002-2-cdcc-b0ca",
       "previous": "0fe29b6a-41c5-11eb-aed8-0242ac110002-5-a54d-a710-bd9b-6219-7da8"
      },
      {
       "current": "6654e0d4-41cf-11eb-aed8-0242ac110002-6-cd5d-5826-0445-14fe-df44-3fea",
       "next": "976f40a6-41cf-11eb-aed8-0242ac110002-6-60db-2644-3cd5-2b5b-54ec-4b57",
       "previous": "0fe29b6a-41c5-11eb-aed8-0242ac110002-5-a54d-a710-bd9b-6219-7da8"
      },
      {
       "current": "6654e0d4-41cf-11eb-aed8-0242ac110002-7-cd5d-5826-0445-14fe-df44-3fea-45bb",
       "next": "976f40a6-41cf-11eb-aed8-0242ac110002-7-60db-2644-3cd5-2b5b-54ec-4b57-b5bc",
       "previous": "0fe29b6a-41c5-11eb-aed8-0242ac110002-6-a54d-a710-bd9b-6219-7da8-d48c"
      },
      {
       "current": "6654e0d4-41cf-11eb-aed8-0242ac110002-8-cd5d-5826-0445-14fe-df44-3fea-45bb-4abe",
       "next": "976f40a6-41cf-11eb-aed8-0242ac110002-8-60db-2644-3cd5-2b5b-54ec-4b57-b5bc-712a",
       "previous": "0fe29b6a-41c5-11eb-aed8-0242ac110002-7-a54d-a710-bd9b-6219-7da8-d48c-6bed"
      },
      {
       "current": "6654e0d4-41cf-11eb-aed8-0242ac110002-9-cd5d-5826-0445-14fe-df44-3fea-45bb-4abe-dd5c",
       "next": "976f40a6-41cf-11eb-aed8-0242ac110002-9-60db-2644-3cd5-2b5b-54ec-4b57-b5bc-712a-a94b",
       "previous": "0fe29b6a-41c5-11eb-aed8-0242ac110002-8-a54d-a710-bd9b-6219-7da8-d48c-6bed-4d15"
      },
      {
       "current": "6654e0d4-41cf-11eb-aed8-0242ac110002-10-cd5d-5826-0445-14fe-df44-3fea-45bb-4abe-dd5c-1861",
       "next": "976f40a6-41cf-11eb-aed8-0242ac110002-10-60db-2644-3cd5-2b5b-54ec-4b57-b5bc-712a-a94b-6d0f",
       "previous": "0fe29b6a-41c5-11eb-aed8-0242ac110002-9-a54d-a710-bd9b-6219-7da8-d48c-6bed-4d15-ffd7"
      },
      {
       "current": "6654e0d4-41cf-11eb-aed8-0242ac110002-11-5826-0445-14fe-df44-3fea-45bb-4abe-dd5c-1861-489d",
       "next": "976f40a6-41cf-11eb-aed8-0242ac110002-11-2644-3cd5-2b5b-54ec-4b57-b5bc-712a-a94b-6d0f-fb6c",
       "previous": "0fe29b6a-41c5-11eb-aed8-0242ac110002-10-a54d-a710-bd9b-6219-7da8-d48c-6bed-4d15-ffd7-c75e"
      },
      {
       "current": "6654e0d4-41cf-11eb-aed8-0242ac110002-12-0445-14fe-df44-3fea-45bb-4abe-dd5c-1861-489d-ef26",
       "next": "976f40a6-41cf-11eb-aed8-0242ac110002-12-3cd5-2b5b-54ec-4b57-b5bc-712a-a94b-6d0f-fb6c-2edb",
       "previous": "0fe29b6a-41c5-11eb-aed8-0242ac110002-11-a710-bd9b-6219-7da8-d48c-6bed-4d15-ffd7-c75e-3c06"
      },
      {
       "current": "6654e0d4-41cf-11eb-aed8-0242ac110002-13-14fe-df44-3fea-45bb-4abe-dd5c-1861-489d-ef26-2c3d",
       "next": "976f40a6-41cf-11eb-aed8-0242ac110002-13-2b5b-54ec-4b57-b5bc-712a-a94b-6d0f-fb6c-2edb-266f",
       "previous": "0fe29b6a-41c5-11eb-aed8-0242ac110002-12-bd9b-6219-7da8-d48c-6bed-4d15-ffd7-c75e-3c06-3a32"
      },
      {
       "current": "6654e0d4-41cf-11eb-aed8-0242ac110002-14-df44-3fea-45bb-4abe-dd5c-1861-489d-ef26-2c3d-4e69",
       "next": "976f40a6-41cf-11eb-aed8-0242ac110002-14-54ec-4b57-b5bc-712a-a94b-6d0f-fb6c-2edb-266f-2753",
       "previous": "0fe29b6a-41c5-11eb-aed8-0242ac110002-13-6219-7da8-d48c-6bed-4d15-ffd7-c75e-3c06-3a32-6c70"
      },
      {
       "current": "6654e0d4-41cf-11eb-aed8-0242ac110002-14-df44-3fea-45bb-4abe-dd5c-1861-489d-ef26-2c3d-4e69",
       "next": "976f40a6-41cf-11eb-aed8-0242ac110002-15-4b57-b5bc-712a-a94b-6d0f-fb6c-2edb-266f-2753-c263",
       "previous": "0fe29b6a-41c5-11eb-aed8-0242ac110002-14-7da8-d48c-6bed-4d15-ffd7-c75e-3c06-3a32-6c70-1b0c"
      },
      {
       "current": "6654e0d4-41cf-11eb-aed8-0242ac110002-14-df44-3fea-45bb-4abe-dd5c-1861-489d-ef26-2c3d-4e69",
       "next": "976f40a6-41cf-11eb-aed8-0242ac110002-15-4b57-b5bc-712a-a94b-6d0f-fb6c-2edb-266f-2753-c263",
       "previous": "a9eb477a-4846-11eb-9304-0242ac110002-9-94ad-0692-d3e2-23b6-47fb-9e6d-47b7-bfbf-9edf"
      },
      {
       "current": "6654e0d4-41cf-11eb-aed8-0242ac110002-14-df44-3fea-45bb-4abe-dd5c-1861-489d-ef26-2c3d-4e69",
       "next": "976f40a6-41cf-11eb-aed8-0242ac110002-15-4b57-b5bc-712a-a94b-6d0f-fb6c-2edb-266f-2753-c263",
       "previous": "6654e0d4-41cf-11eb-aed8-0242ac110002-15-3fea-45bb-4abe-dd5c-1861-489d-ef26-2c3d-4e69-389d"
      },
      {
       "current": "6654e0d4-41cf-11eb-aed8-0242ac110002-15-3fea-45bb-4abe-dd5c-1861-489d-ef26-2c3d-4e69-2185",
       "next": "21682ede-7377-11eb-9dd7-0242ac110002",
       "previous": "6654e0d4-41cf-11eb-aed8-0242ac110002-15-3fea-45bb-4abe-dd5c-1861-489d-ef26-2c3d-4e69-389d"
      },
      {
       "current": "6654e0d4-41cf-11eb-aed8-0242ac110002-16-45bb-4abe-dd5c-1861-489d-ef26-2c3d-4e69-2185-32b3",
       "next": null,
       "previous": "6654e0d4-41cf-11eb-aed8-0242ac110002-16-45bb-4abe-dd5c-1861-489d-ef26-2c3d-4e69-389d-8481"
      },
      {
       "current": "6654e0d4-41cf-11eb-aed8-0242ac110002-16-45bb-4abe-dd5c-1861-489d-ef26-2c3d-4e69-2185-32b3",
       "next": null,
       "previous": "6654e0d4-41cf-11eb-aed8-0242ac110002-16-45bb-4abe-dd5c-1861-489d-ef26-2c3d-4e69-389d-8481"
      },
      {
       "current": "6654e0d4-41cf-11eb-aed8-0242ac110002-17-4abe-dd5c-1861-489d-ef26-2c3d-4e69-2185-32b3-0b89",
       "next": null,
       "previous": "6654e0d4-41cf-11eb-aed8-0242ac110002-17-4abe-dd5c-1861-489d-ef26-2c3d-4e69-389d-8481-7d89"
      }
     ],
     "next": "6654e0d4-41cf-11eb-aed8-0242ac110002-16-45bb-4abe-dd5c-1861-489d-ef26-2c3d-4e69-2185-32b3",
     "previous": "6654e0d4-41cf-11eb-aed8-0242ac110002-17-4abe-dd5c-1861-489d-ef26-2c3d-4e69-389d-8481-7d89"
    },
    "slideshow": {
     "slide_type": "slide"
    }
   },
   "source": [
    "　一連の作業により、本書の内容を補強する方向性を示せたものと考える。他のカテゴリにも作業を広げる、カテゴリ内の親子関係洗い出しを全組み合わせで行う、親子関係以外の関係についても検討する、といった作業を行い、インタラクティブなコンテンツとして全体像を表現することで、本書のパターン・ランゲージ化が実現されるであろう。\n",
    "\n",
    "　本研究では、本書内容を所与のものとして、その妥当性を検証することは行っていないが、VIC内のタイプ分類で抽出した「かけひき」がVIC内に配置されることが妥当かには疑問がある。また、参照の意味についても、メカニクスに由来する参照と、タイトル採用実績に由来する参照が混在しているため、分けて記述した上で、メカニクスに由来する参照の網羅性を向上させる必要を感じた。こうした方向でも、取り組みはあり得るだろう。"
   ]
  },
  {
   "cell_type": "markdown",
   "metadata": {
    "lc_cell_meme": {
     "current": "6654e0d4-41cf-11eb-aed8-0242ac110002-16-45bb-4abe-dd5c-1861-489d-ef26-2c3d-4e69-2185-32b3",
     "history": [
      {
       "current": "6654e0d4-41cf-11eb-aed8-0242ac110002",
       "next": null,
       "previous": "0fe29b6a-41c5-11eb-aed8-0242ac110002"
      },
      {
       "current": "6654e0d4-41cf-11eb-aed8-0242ac110002-1-cd5d",
       "next": "976f40a6-41cf-11eb-aed8-0242ac110002",
       "previous": "0fe29b6a-41c5-11eb-aed8-0242ac110002"
      },
      {
       "current": "6654e0d4-41cf-11eb-aed8-0242ac110002-2-cd5d-5826",
       "next": "976f40a6-41cf-11eb-aed8-0242ac110002-1-60db",
       "previous": "0fe29b6a-41c5-11eb-aed8-0242ac110002-1-a54d"
      },
      {
       "current": "6654e0d4-41cf-11eb-aed8-0242ac110002-3-cd5d-5826-0445",
       "next": "976f40a6-41cf-11eb-aed8-0242ac110002-3-60db-2644-3cd5",
       "previous": "0fe29b6a-41c5-11eb-aed8-0242ac110002-2-a54d-a710"
      },
      {
       "current": "6654e0d4-41cf-11eb-aed8-0242ac110002-4-cd5d-5826-0445-14fe",
       "next": "3c213ca2-46b3-11eb-ae4f-0242ac110002",
       "previous": "0fe29b6a-41c5-11eb-aed8-0242ac110002-3-a54d-a710-bd9b"
      },
      {
       "current": "6654e0d4-41cf-11eb-aed8-0242ac110002-5-cd5d-5826-0445-14fe-df44",
       "next": "3c213ca2-46b3-11eb-ae4f-0242ac110002-1-cdcc",
       "previous": "0fe29b6a-41c5-11eb-aed8-0242ac110002-4-a54d-a710-bd9b-6219"
      },
      {
       "current": "6654e0d4-41cf-11eb-aed8-0242ac110002-5-cd5d-5826-0445-14fe-df44",
       "next": "3c213ca2-46b3-11eb-ae4f-0242ac110002-2-cdcc-b0ca",
       "previous": "0fe29b6a-41c5-11eb-aed8-0242ac110002-5-a54d-a710-bd9b-6219-7da8"
      },
      {
       "current": "6654e0d4-41cf-11eb-aed8-0242ac110002-6-cd5d-5826-0445-14fe-df44-3fea",
       "next": "976f40a6-41cf-11eb-aed8-0242ac110002-6-60db-2644-3cd5-2b5b-54ec-4b57",
       "previous": "0fe29b6a-41c5-11eb-aed8-0242ac110002-5-a54d-a710-bd9b-6219-7da8"
      },
      {
       "current": "6654e0d4-41cf-11eb-aed8-0242ac110002-7-cd5d-5826-0445-14fe-df44-3fea-45bb",
       "next": "976f40a6-41cf-11eb-aed8-0242ac110002-7-60db-2644-3cd5-2b5b-54ec-4b57-b5bc",
       "previous": "0fe29b6a-41c5-11eb-aed8-0242ac110002-6-a54d-a710-bd9b-6219-7da8-d48c"
      },
      {
       "current": "6654e0d4-41cf-11eb-aed8-0242ac110002-8-cd5d-5826-0445-14fe-df44-3fea-45bb-4abe",
       "next": "976f40a6-41cf-11eb-aed8-0242ac110002-8-60db-2644-3cd5-2b5b-54ec-4b57-b5bc-712a",
       "previous": "0fe29b6a-41c5-11eb-aed8-0242ac110002-7-a54d-a710-bd9b-6219-7da8-d48c-6bed"
      },
      {
       "current": "6654e0d4-41cf-11eb-aed8-0242ac110002-9-cd5d-5826-0445-14fe-df44-3fea-45bb-4abe-dd5c",
       "next": "976f40a6-41cf-11eb-aed8-0242ac110002-9-60db-2644-3cd5-2b5b-54ec-4b57-b5bc-712a-a94b",
       "previous": "0fe29b6a-41c5-11eb-aed8-0242ac110002-8-a54d-a710-bd9b-6219-7da8-d48c-6bed-4d15"
      },
      {
       "current": "6654e0d4-41cf-11eb-aed8-0242ac110002-10-cd5d-5826-0445-14fe-df44-3fea-45bb-4abe-dd5c-1861",
       "next": "976f40a6-41cf-11eb-aed8-0242ac110002-10-60db-2644-3cd5-2b5b-54ec-4b57-b5bc-712a-a94b-6d0f",
       "previous": "0fe29b6a-41c5-11eb-aed8-0242ac110002-9-a54d-a710-bd9b-6219-7da8-d48c-6bed-4d15-ffd7"
      },
      {
       "current": "6654e0d4-41cf-11eb-aed8-0242ac110002-11-5826-0445-14fe-df44-3fea-45bb-4abe-dd5c-1861-489d",
       "next": "976f40a6-41cf-11eb-aed8-0242ac110002-11-2644-3cd5-2b5b-54ec-4b57-b5bc-712a-a94b-6d0f-fb6c",
       "previous": "0fe29b6a-41c5-11eb-aed8-0242ac110002-10-a54d-a710-bd9b-6219-7da8-d48c-6bed-4d15-ffd7-c75e"
      },
      {
       "current": "6654e0d4-41cf-11eb-aed8-0242ac110002-12-0445-14fe-df44-3fea-45bb-4abe-dd5c-1861-489d-ef26",
       "next": "976f40a6-41cf-11eb-aed8-0242ac110002-12-3cd5-2b5b-54ec-4b57-b5bc-712a-a94b-6d0f-fb6c-2edb",
       "previous": "0fe29b6a-41c5-11eb-aed8-0242ac110002-11-a710-bd9b-6219-7da8-d48c-6bed-4d15-ffd7-c75e-3c06"
      },
      {
       "current": "6654e0d4-41cf-11eb-aed8-0242ac110002-13-14fe-df44-3fea-45bb-4abe-dd5c-1861-489d-ef26-2c3d",
       "next": "976f40a6-41cf-11eb-aed8-0242ac110002-13-2b5b-54ec-4b57-b5bc-712a-a94b-6d0f-fb6c-2edb-266f",
       "previous": "0fe29b6a-41c5-11eb-aed8-0242ac110002-12-bd9b-6219-7da8-d48c-6bed-4d15-ffd7-c75e-3c06-3a32"
      },
      {
       "current": "6654e0d4-41cf-11eb-aed8-0242ac110002-14-df44-3fea-45bb-4abe-dd5c-1861-489d-ef26-2c3d-4e69",
       "next": "976f40a6-41cf-11eb-aed8-0242ac110002-14-54ec-4b57-b5bc-712a-a94b-6d0f-fb6c-2edb-266f-2753",
       "previous": "0fe29b6a-41c5-11eb-aed8-0242ac110002-13-6219-7da8-d48c-6bed-4d15-ffd7-c75e-3c06-3a32-6c70"
      },
      {
       "current": "6654e0d4-41cf-11eb-aed8-0242ac110002-14-df44-3fea-45bb-4abe-dd5c-1861-489d-ef26-2c3d-4e69",
       "next": "976f40a6-41cf-11eb-aed8-0242ac110002-15-4b57-b5bc-712a-a94b-6d0f-fb6c-2edb-266f-2753-c263",
       "previous": "0fe29b6a-41c5-11eb-aed8-0242ac110002-14-7da8-d48c-6bed-4d15-ffd7-c75e-3c06-3a32-6c70-1b0c"
      },
      {
       "current": "6654e0d4-41cf-11eb-aed8-0242ac110002-14-df44-3fea-45bb-4abe-dd5c-1861-489d-ef26-2c3d-4e69",
       "next": "976f40a6-41cf-11eb-aed8-0242ac110002-15-4b57-b5bc-712a-a94b-6d0f-fb6c-2edb-266f-2753-c263",
       "previous": "a9eb477a-4846-11eb-9304-0242ac110002-9-94ad-0692-d3e2-23b6-47fb-9e6d-47b7-bfbf-9edf"
      },
      {
       "current": "6654e0d4-41cf-11eb-aed8-0242ac110002-14-df44-3fea-45bb-4abe-dd5c-1861-489d-ef26-2c3d-4e69",
       "next": "976f40a6-41cf-11eb-aed8-0242ac110002-15-4b57-b5bc-712a-a94b-6d0f-fb6c-2edb-266f-2753-c263",
       "previous": "6654e0d4-41cf-11eb-aed8-0242ac110002-15-3fea-45bb-4abe-dd5c-1861-489d-ef26-2c3d-4e69-389d"
      },
      {
       "current": "6654e0d4-41cf-11eb-aed8-0242ac110002-15-3fea-45bb-4abe-dd5c-1861-489d-ef26-2c3d-4e69-2185",
       "next": "21682ede-7377-11eb-9dd7-0242ac110002",
       "previous": "6654e0d4-41cf-11eb-aed8-0242ac110002-15-3fea-45bb-4abe-dd5c-1861-489d-ef26-2c3d-4e69-389d"
      },
      {
       "current": "6654e0d4-41cf-11eb-aed8-0242ac110002-16-45bb-4abe-dd5c-1861-489d-ef26-2c3d-4e69-2185-32b3",
       "next": null,
       "previous": "6654e0d4-41cf-11eb-aed8-0242ac110002-16-45bb-4abe-dd5c-1861-489d-ef26-2c3d-4e69-389d-8481"
      },
      {
       "current": "6654e0d4-41cf-11eb-aed8-0242ac110002-16-45bb-4abe-dd5c-1861-489d-ef26-2c3d-4e69-2185-32b3",
       "next": null,
       "previous": "6654e0d4-41cf-11eb-aed8-0242ac110002-16-45bb-4abe-dd5c-1861-489d-ef26-2c3d-4e69-389d-8481"
      },
      {
       "current": "6654e0d4-41cf-11eb-aed8-0242ac110002-16-45bb-4abe-dd5c-1861-489d-ef26-2c3d-4e69-2185-32b3",
       "next": null,
       "previous": "6654e0d4-41cf-11eb-aed8-0242ac110002-17-4abe-dd5c-1861-489d-ef26-2c3d-4e69-389d-8481-7d89"
      }
     ],
     "next": "b6665558-847d-11eb-a473-0242ac110002",
     "previous": "6654e0d4-41cf-11eb-aed8-0242ac110002-17-4abe-dd5c-1861-489d-ef26-2c3d-4e69-2185-32b3-0b89"
    },
    "slideshow": {
     "slide_type": "slide"
    }
   },
   "source": [
    "　メカニクスに由来する参照を考慮すると、パターン間には排他や包含が存在すると考えられるため、ジマーマンが序文で述べた「ランダムに2つのページを開いてもらい、両方のメカニクスを組み合わせたゲームを作成」のアイデアは機能しない場合があるだろう。その場合に、なぜ機能しないのか考察することの教育的な効果は期待できるであろうが。\n",
    "\n",
    "　本研究で実施したデータ分析については、\n",
    "\n",
    "https://github.com/mnagaku/digraj202103\n",
    "\n",
    "にてデータやコードを公開するので、追試研究や派生研究に取り組んでもらえれば幸いである。"
   ]
  },
  {
   "cell_type": "code",
   "execution_count": null,
   "metadata": {
    "lc_cell_meme": {
     "current": "b6665558-847d-11eb-a473-0242ac110002",
     "next": null,
     "previous": "6654e0d4-41cf-11eb-aed8-0242ac110002-16-45bb-4abe-dd5c-1861-489d-ef26-2c3d-4e69-2185-32b3"
    },
    "slideshow": {
     "slide_type": "skip"
    }
   },
   "outputs": [],
   "source": []
  }
 ],
 "metadata": {
  "celltoolbar": "Slideshow",
  "colab": {
   "name": "Untitled4.ipynb",
   "provenance": []
  },
  "kernelspec": {
   "display_name": "Python 3",
   "language": "python",
   "name": "python3"
  },
  "language_info": {
   "file_extension": ".py",
   "mimetype": "text/x-python",
   "name": "python",
   "nbconvert_exporter": "python",
   "pygments_lexer": "ipython3",
   "version": "3.8.6"
  },
  "lc_notebook_meme": {
   "current": "d78c1c4a-41bb-11eb-aed8-0242ac110002",
   "lc_server_signature": {
    "current": {
     "notebook_dir": "/home/jovyan",
     "notebook_path": "/digraj202103",
     "server_url": "http://localhost:8888/",
     "signature_id": "1855f09a-8477-11eb-9dc5-0242ac110002"
    },
    "history": [
     {
      "notebook_dir": "/home/jovyan",
      "notebook_path": "/digraj202103",
      "server_url": "http://localhost:8888/",
      "signature_id": "6ab9e48a-41bb-11eb-aed8-0242ac110002"
     },
     {
      "notebook_dir": "/home/jovyan",
      "notebook_path": "/digraj202103",
      "server_url": "http://localhost:8888/",
      "signature_id": "e79b1078-41cf-11eb-8e07-0242ac110002"
     },
     {
      "notebook_dir": "/home/jovyan",
      "notebook_path": "/digraj202103",
      "server_url": "http://localhost:8888/",
      "signature_id": "652ec54e-4684-11eb-993d-0242ac110002"
     },
     {
      "notebook_dir": "/home/jovyan",
      "notebook_path": "/digraj202103",
      "server_url": "http://localhost:8888/",
      "signature_id": "d7f2433e-46b2-11eb-ae4f-0242ac110002"
     },
     {
      "notebook_dir": "/home/jovyan",
      "notebook_path": "/digraj202103",
      "server_url": "http://localhost:8888/",
      "signature_id": "14256e36-477f-11eb-8260-0242ac110002"
     },
     {
      "notebook_dir": "/home/jovyan",
      "notebook_path": "/digraj202103",
      "server_url": "http://localhost:8888/",
      "signature_id": "90eb01fe-483a-11eb-9304-0242ac110002"
     },
     {
      "notebook_dir": "/home/jovyan",
      "notebook_path": "/digraj202103",
      "server_url": "http://localhost:8888/",
      "signature_id": "71b1227e-48a2-11eb-8acc-0242ac110002"
     },
     {
      "notebook_dir": "/home/jovyan",
      "notebook_path": "/digraj202103",
      "server_url": "http://localhost:8888/",
      "signature_id": "56424b24-48ae-11eb-b4d3-0242ac110002"
     },
     {
      "notebook_dir": "/home/jovyan",
      "notebook_path": "/digraj202103",
      "server_url": "http://localhost:8888/",
      "signature_id": "23ccd3b0-48fb-11eb-bea0-0242ac110002"
     },
     {
      "notebook_dir": "/home/jovyan",
      "notebook_path": "/digraj202103",
      "server_url": "http://localhost:8888/",
      "signature_id": "d4b7d99a-4991-11eb-8b85-0242ac110002"
     },
     {
      "notebook_dir": "/home/jovyan",
      "notebook_path": "/digraj202103",
      "server_url": "http://localhost:8888/",
      "signature_id": "11d4ea24-4a3d-11eb-a29f-0242ac110002"
     },
     {
      "notebook_dir": "/home/jovyan",
      "notebook_path": "/digraj202103",
      "server_url": "http://localhost:8888/",
      "signature_id": "cb34965e-6c2f-11eb-b562-0242ac110002"
     },
     {
      "notebook_dir": "/home/jovyan",
      "notebook_path": "/digraj202103",
      "server_url": "http://localhost:8888/",
      "signature_id": "3b54706e-6dbe-11eb-b1e0-0242ac110002"
     },
     {
      "notebook_dir": "/home/jovyan",
      "notebook_path": "/digraj202103",
      "server_url": "http://localhost:8888/",
      "signature_id": "5c01189c-7356-11eb-b80d-0242ac110002"
     },
     {
      "notebook_dir": "/home/jovyan",
      "notebook_path": "/digraj202103",
      "server_url": "http://localhost:8888/",
      "signature_id": "0346a4da-7368-11eb-9dd7-0242ac110002"
     },
     {
      "notebook_dir": "/home/jovyan",
      "notebook_path": "/digraj202103",
      "server_url": "http://localhost:8888/",
      "signature_id": "5d7078a6-839d-11eb-9f9c-0242ac110002"
     }
    ]
   }
  },
  "toc": {
   "base_numbering": 1,
   "nav_menu": {},
   "number_sections": true,
   "sideBar": true,
   "skip_h1_title": false,
   "title_cell": "Table of Contents",
   "title_sidebar": "Contents",
   "toc_cell": false,
   "toc_position": {},
   "toc_section_display": true,
   "toc_window_display": false
  }
 },
 "nbformat": 4,
 "nbformat_minor": 1
}
