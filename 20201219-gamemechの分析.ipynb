{
 "cells": [
  {
   "cell_type": "markdown",
   "metadata": {
    "id": "dNxf3h8mbGsT",
    "lc_cell_meme": {
     "current": "d78c1df8-41bb-11eb-aed8-0242ac110002-1-5349",
     "history": [
      {
       "current": "d78c1df8-41bb-11eb-aed8-0242ac110002-1-5349",
       "next": "d78c1eb6-41bb-11eb-aed8-0242ac110002",
       "previous": null
      }
     ],
     "next": "d78c1eb6-41bb-11eb-aed8-0242ac110002-1-f9ca",
     "previous": null
    }
   },
   "source": [
    "# ゲームメカニクス大全の分析\n"
   ]
  },
  {
   "cell_type": "markdown",
   "metadata": {
    "id": "obJSH-zebvWR",
    "lc_cell_meme": {
     "current": "d78c1eb6-41bb-11eb-aed8-0242ac110002-1-f9ca",
     "history": [
      {
       "current": "d78c1eb6-41bb-11eb-aed8-0242ac110002-1-f9ca",
       "next": "d78c1f60-41bb-11eb-aed8-0242ac110002",
       "previous": "d78c1df8-41bb-11eb-aed8-0242ac110002"
      }
     ],
     "next": "d78c1f60-41bb-11eb-aed8-0242ac110002-1-97f2",
     "previous": "d78c1df8-41bb-11eb-aed8-0242ac110002-1-5349"
    }
   },
   "source": [
    "## 環境準備\n"
   ]
  },
  {
   "cell_type": "markdown",
   "metadata": {
    "id": "t7gURyeZb3dN",
    "lc_cell_meme": {
     "current": "d78c1f60-41bb-11eb-aed8-0242ac110002-1-97f2",
     "history": [
      {
       "current": "d78c1f60-41bb-11eb-aed8-0242ac110002-1-97f2",
       "next": "d78c2000-41bb-11eb-aed8-0242ac110002",
       "previous": "d78c1eb6-41bb-11eb-aed8-0242ac110002"
      }
     ],
     "next": "d78c2000-41bb-11eb-aed8-0242ac110002-1-aaa2",
     "previous": "d78c1eb6-41bb-11eb-aed8-0242ac110002-1-f9ca"
    }
   },
   "source": [
    "\n",
    "パターンの関連を手打ちでdotにしたgamemech.dotを読み込む準備をする。"
   ]
  },
  {
   "cell_type": "code",
   "execution_count": 1,
   "metadata": {
    "colab": {
     "base_uri": "https://localhost:8080/"
    },
    "deletable": false,
    "editable": false,
    "id": "owXZzLeWj52X",
    "lc_cell_meme": {
     "current": "d78c2000-41bb-11eb-aed8-0242ac110002-1-aaa2",
     "execution_end_time": "2020-12-19T07:59:33.550557Z",
     "history": [
      {
       "current": "d78c2000-41bb-11eb-aed8-0242ac110002-1-aaa2",
       "next": "d78c20a0-41bb-11eb-aed8-0242ac110002",
       "previous": "d78c1f60-41bb-11eb-aed8-0242ac110002"
      }
     ],
     "next": "d78c20a0-41bb-11eb-aed8-0242ac110002-1-0af4",
     "previous": "d78c1f60-41bb-11eb-aed8-0242ac110002-1-97f2"
    },
    "lc_wrapper": {
     "log_history": [
      "/home/jovyan/digraj202103/.log/20201219/20201219-053226-0211.log",
      "/home/jovyan/digraj202103/.log/20201219/20201219-053258-0519.log",
      "/home/jovyan/digraj202103/.log/20201219/20201219-054507-0160.log",
      "/home/jovyan/digraj202103/.log/20201219/20201219-054710-0550.log",
      "/home/jovyan/digraj202103/.log/20201219/20201219-075917-0188.log"
     ]
    },
    "outputId": "05c91029-f73d-42ef-a3e9-05f2fe98de73",
    "run_through_control": {
     "frozen": true
    }
   },
   "outputs": [
    {
     "name": "stdout",
     "output_type": "stream",
     "text": [
      "Ign:1 http://repo.mongodb.org/apt/debian stretch/mongodb-org/3.6 InRelease\n",
      "Get:3 https://cloud.r-project.org/bin/linux/ubuntu focal-cran40/ InRelease [3,622 B]\n",
      "Get:4 http://security.ubuntu.com/ubuntu focal-security InRelease [109 kB]      \n",
      "Get:5 http://repo.mongodb.org/apt/debian stretch/mongodb-org/3.6 Release [1,490 B]\n",
      "Get:6 http://repo.mongodb.org/apt/debian stretch/mongodb-org/3.6 Release.gpg [801 B]\n",
      "Get:7 https://cloud.r-project.org/bin/linux/ubuntu focal-cran40/ Packages [30.3 kB]\n",
      "Get:8 http://archive.ubuntu.com/ubuntu focal InRelease [265 kB]                \n",
      "Get:9 http://packages.cloud.google.com/apt cloud-sdk InRelease [6,739 B]       \n",
      "Get:10 http://packages.cloud.google.com/apt cloud-sdk/main amd64 Packages [149 kB]\n",
      "Get:11 http://repo.mongodb.org/apt/debian stretch/mongodb-org/3.6/main amd64 Packages [11.9 kB]\n",
      "Get:12 http://security.ubuntu.com/ubuntu focal-security/universe amd64 Packages [645 kB]\n",
      "Get:2 https://packages.cloud.google.com/apt kubernetes-xenial InRelease [9,383 B]\n",
      "Get:13 https://packages.cloud.google.com/apt kubernetes-xenial/main amd64 Packages [43.3 kB]\n",
      "Get:14 http://security.ubuntu.com/ubuntu focal-security/main amd64 Packages [495 kB]\n",
      "Get:15 http://security.ubuntu.com/ubuntu focal-security/restricted amd64 Packages [103 kB]\n",
      "Get:16 http://security.ubuntu.com/ubuntu focal-security/multiverse amd64 Packages [1,167 B]\n",
      "Get:17 http://archive.ubuntu.com/ubuntu focal-updates InRelease [114 kB]       \n",
      "Get:18 http://archive.ubuntu.com/ubuntu focal-backports InRelease [101 kB]\n",
      "Get:19 http://archive.ubuntu.com/ubuntu focal/main amd64 Packages [1,275 kB]\n",
      "Get:20 http://archive.ubuntu.com/ubuntu focal/restricted amd64 Packages [33.4 kB]\n",
      "Get:21 http://archive.ubuntu.com/ubuntu focal/multiverse amd64 Packages [177 kB]\n",
      "Get:22 http://archive.ubuntu.com/ubuntu focal/universe amd64 Packages [11.3 MB]\n",
      "Get:23 http://archive.ubuntu.com/ubuntu focal-updates/multiverse amd64 Packages [30.4 kB]\n",
      "Get:24 http://archive.ubuntu.com/ubuntu focal-updates/universe amd64 Packages [881 kB]\n",
      "Get:25 http://archive.ubuntu.com/ubuntu focal-updates/main amd64 Packages [885 kB]\n",
      "Get:26 http://archive.ubuntu.com/ubuntu focal-updates/restricted amd64 Packages [136 kB]\n",
      "Get:27 http://archive.ubuntu.com/ubuntu focal-backports/universe amd64 Packages [4,250 B]\n",
      "Fetched 16.9 MB in 7s (2,588 kB/s)                                             \n",
      "Reading package lists... Done\n",
      "Reading package lists... Done\n",
      "Building dependency tree       \n",
      "Reading state information... Done\n",
      "The following additional packages will be installed:\n",
      "  libann0 libcdt5 libcgraph6 libgts-0.7-5 libgts-bin libgvc6\n",
      "  libgvc6-plugins-gtk libgvpr2 liblab-gamut1 libpathplan4 libxdot4\n",
      "Suggested packages:\n",
      "  gsfonts graphviz-doc\n",
      "The following NEW packages will be installed:\n",
      "  graphviz libann0 libcdt5 libcgraph6 libgraphviz-dev libgts-0.7-5 libgts-bin\n",
      "  libgvc6 libgvc6-plugins-gtk libgvpr2 liblab-gamut1 libpathplan4 libxdot4\n",
      "0 upgraded, 13 newly installed, 0 to remove and 88 not upgraded.\n",
      "Need to get 1,973 kB of archives.\n",
      "After this operation, 9,655 kB of additional disk space will be used.\n",
      "Get:1 http://archive.ubuntu.com/ubuntu focal/universe amd64 libann0 amd64 1.1.2+doc-7build1 [26.0 kB]\n",
      "Get:2 http://archive.ubuntu.com/ubuntu focal/universe amd64 libcdt5 amd64 2.42.2-3build2 [18.7 kB]\n",
      "Get:3 http://archive.ubuntu.com/ubuntu focal/universe amd64 libcgraph6 amd64 2.42.2-3build2 [41.3 kB]\n",
      "Get:4 http://archive.ubuntu.com/ubuntu focal/universe amd64 libgts-0.7-5 amd64 0.7.6+darcs121130-4 [150 kB]\n",
      "Get:5 http://archive.ubuntu.com/ubuntu focal/universe amd64 libpathplan4 amd64 2.42.2-3build2 [21.9 kB]\n",
      "Get:6 http://archive.ubuntu.com/ubuntu focal/universe amd64 libgvc6 amd64 2.42.2-3build2 [647 kB]\n",
      "Get:7 http://archive.ubuntu.com/ubuntu focal/universe amd64 libgvpr2 amd64 2.42.2-3build2 [167 kB]\n",
      "Get:8 http://archive.ubuntu.com/ubuntu focal/universe amd64 liblab-gamut1 amd64 2.42.2-3build2 [177 kB]\n",
      "Get:9 http://archive.ubuntu.com/ubuntu focal/universe amd64 graphviz amd64 2.42.2-3build2 [590 kB]\n",
      "Get:10 http://archive.ubuntu.com/ubuntu focal/universe amd64 libxdot4 amd64 2.42.2-3build2 [15.4 kB]\n",
      "Get:11 http://archive.ubuntu.com/ubuntu focal/universe amd64 libgvc6-plugins-gtk amd64 2.42.2-3build2 [20.6 kB]\n",
      "Get:12 http://archive.ubuntu.com/ubuntu focal/universe amd64 libgraphviz-dev amd64 2.42.2-3build2 [57.2 kB]\n",
      "Get:13 http://archive.ubuntu.com/ubuntu focal/universe amd64 libgts-bin amd64 0.7.6+darcs121130-4 [41.3 kB]\n",
      "Fetched 1,973 kB in 3s (588 kB/s)     \n",
      "debconf: unable to initialize frontend: Dialog\n",
      "debconf: (No usable dialog-like program is installed, so the dialog based frontend cannot be used. at /usr/share/perl5/Debconf/FrontEnd/Dialog.pm line 76, <> line 13.)\n",
      "debconf: falling back to frontend: Readline\n",
      "Selecting previously unselected package libann0.\n",
      "(Reading database ... 187734 files and directories currently installed.)\n",
      "Preparing to unpack .../00-libann0_1.1.2+doc-7build1_amd64.deb ...\n",
      "Unpacking libann0 (1.1.2+doc-7build1) ...\n",
      "Selecting previously unselected package libcdt5:amd64.\n",
      "Preparing to unpack .../01-libcdt5_2.42.2-3build2_amd64.deb ...\n",
      "Unpacking libcdt5:amd64 (2.42.2-3build2) ...\n",
      "Selecting previously unselected package libcgraph6:amd64.\n",
      "Preparing to unpack .../02-libcgraph6_2.42.2-3build2_amd64.deb ...\n",
      "Unpacking libcgraph6:amd64 (2.42.2-3build2) ...\n",
      "Selecting previously unselected package libgts-0.7-5:amd64.\n",
      "Preparing to unpack .../03-libgts-0.7-5_0.7.6+darcs121130-4_amd64.deb ...\n",
      "Unpacking libgts-0.7-5:amd64 (0.7.6+darcs121130-4) ...\n",
      "Selecting previously unselected package libpathplan4:amd64.\n",
      "Preparing to unpack .../04-libpathplan4_2.42.2-3build2_amd64.deb ...\n",
      "Unpacking libpathplan4:amd64 (2.42.2-3build2) ...\n",
      "Selecting previously unselected package libgvc6.\n",
      "Preparing to unpack .../05-libgvc6_2.42.2-3build2_amd64.deb ...\n",
      "Unpacking libgvc6 (2.42.2-3build2) ...\n",
      "Selecting previously unselected package libgvpr2:amd64.\n",
      "Preparing to unpack .../06-libgvpr2_2.42.2-3build2_amd64.deb ...\n",
      "Unpacking libgvpr2:amd64 (2.42.2-3build2) ...\n",
      "Selecting previously unselected package liblab-gamut1:amd64.\n",
      "Preparing to unpack .../07-liblab-gamut1_2.42.2-3build2_amd64.deb ...\n",
      "Unpacking liblab-gamut1:amd64 (2.42.2-3build2) ...\n",
      "Selecting previously unselected package graphviz.\n",
      "Preparing to unpack .../08-graphviz_2.42.2-3build2_amd64.deb ...\n",
      "Unpacking graphviz (2.42.2-3build2) ...\n",
      "Selecting previously unselected package libxdot4:amd64.\n",
      "Preparing to unpack .../09-libxdot4_2.42.2-3build2_amd64.deb ...\n",
      "Unpacking libxdot4:amd64 (2.42.2-3build2) ...\n",
      "Selecting previously unselected package libgvc6-plugins-gtk.\n",
      "Preparing to unpack .../10-libgvc6-plugins-gtk_2.42.2-3build2_amd64.deb ...\n",
      "Unpacking libgvc6-plugins-gtk (2.42.2-3build2) ...\n",
      "Selecting previously unselected package libgraphviz-dev:amd64.\n",
      "Preparing to unpack .../11-libgraphviz-dev_2.42.2-3build2_amd64.deb ...\n",
      "Unpacking libgraphviz-dev:amd64 (2.42.2-3build2) ...\n",
      "Selecting previously unselected package libgts-bin.\n",
      "Preparing to unpack .../12-libgts-bin_0.7.6+darcs121130-4_amd64.deb ...\n",
      "Unpacking libgts-bin (0.7.6+darcs121130-4) ...\n",
      "Setting up libxdot4:amd64 (2.42.2-3build2) ...\n",
      "Setting up liblab-gamut1:amd64 (2.42.2-3build2) ...\n",
      "Setting up libgts-0.7-5:amd64 (0.7.6+darcs121130-4) ...\n",
      "Setting up libpathplan4:amd64 (2.42.2-3build2) ...\n",
      "Setting up libann0 (1.1.2+doc-7build1) ...\n",
      "Setting up libcdt5:amd64 (2.42.2-3build2) ...\n",
      "Setting up libcgraph6:amd64 (2.42.2-3build2) ...\n",
      "Setting up libgts-bin (0.7.6+darcs121130-4) ...\n",
      "Setting up libgvc6 (2.42.2-3build2) ...\n",
      "Setting up libgvc6-plugins-gtk (2.42.2-3build2) ...\n",
      "Setting up libgvpr2:amd64 (2.42.2-3build2) ...\n",
      "Setting up graphviz (2.42.2-3build2) ...\n",
      "Setting up libgraphviz-dev:amd64 (2.42.2-3build2) ...\n",
      "Processing triggers for libc-bin (2.31-0ubuntu9.1) ...\n"
     ]
    }
   ],
   "source": [
    "!sudo apt-get update\n",
    "!sudo apt-get install -y graphviz libgraphviz-dev"
   ]
  },
  {
   "cell_type": "code",
   "execution_count": 2,
   "metadata": {
    "colab": {
     "base_uri": "https://localhost:8080/"
    },
    "deletable": false,
    "editable": false,
    "id": "UvSTr8KFjBte",
    "lc_cell_meme": {
     "current": "d78c20a0-41bb-11eb-aed8-0242ac110002-1-0af4",
     "execution_end_time": "2020-12-19T07:59:39.952565Z",
     "history": [
      {
       "current": "d78c20a0-41bb-11eb-aed8-0242ac110002-1-0af4",
       "next": "d78c214a-41bb-11eb-aed8-0242ac110002",
       "previous": "d78c2000-41bb-11eb-aed8-0242ac110002"
      }
     ],
     "next": "d78c214a-41bb-11eb-aed8-0242ac110002-1-d6f0",
     "previous": "d78c2000-41bb-11eb-aed8-0242ac110002-1-aaa2"
    },
    "lc_wrapper": {
     "log_history": [
      "/home/jovyan/digraj202103/.log/20201219/20201219-053646-0815.log",
      "/home/jovyan/digraj202103/.log/20201219/20201219-054515-0197.log",
      "/home/jovyan/digraj202103/.log/20201219/20201219-054753-0392.log",
      "/home/jovyan/digraj202103/.log/20201219/20201219-075933-0556.log"
     ]
    },
    "outputId": "732d58b7-70c2-4709-ed1f-080e38cb914a",
    "run_through_control": {
     "frozen": true
    }
   },
   "outputs": [
    {
     "name": "stdout",
     "output_type": "stream",
     "text": [
      "Collecting pygraphviz\n",
      "  Downloading pygraphviz-1.6.zip (117 kB)\n",
      "\u001b[K     |████████████████████████████████| 117 kB 3.4 MB/s eta 0:00:01\n",
      "\u001b[?25hBuilding wheels for collected packages: pygraphviz\n",
      "  Building wheel for pygraphviz (setup.py) ... \u001b[?25ldone\n",
      "\u001b[?25h  Created wheel for pygraphviz: filename=pygraphviz-1.6-cp38-cp38-linux_x86_64.whl size=212019 sha256=91f42fe09bb63b7e8494d30ba128a716367d4383531a2c19c800d5e146ea3f17\n",
      "  Stored in directory: /home/jovyan/.cache/pip/wheels/dd/37/20/d15e0874c2f2aeb6fb32938b2642fb0cc97ed8c4c247675fca\n",
      "Successfully built pygraphviz\n",
      "Installing collected packages: pygraphviz\n",
      "Successfully installed pygraphviz-1.6\n"
     ]
    }
   ],
   "source": [
    "!pip install pygraphviz"
   ]
  },
  {
   "cell_type": "code",
   "execution_count": 3,
   "metadata": {
    "colab": {
     "base_uri": "https://localhost:8080/"
    },
    "deletable": false,
    "editable": false,
    "id": "GXizxFU0mf-s",
    "lc_cell_meme": {
     "current": "d78c214a-41bb-11eb-aed8-0242ac110002-1-d6f0",
     "execution_end_time": "2020-12-19T07:59:42.526726Z",
     "history": [
      {
       "current": "d78c214a-41bb-11eb-aed8-0242ac110002-1-d6f0",
       "next": "d78c21ea-41bb-11eb-aed8-0242ac110002",
       "previous": "d78c20a0-41bb-11eb-aed8-0242ac110002"
      }
     ],
     "next": "d78c21ea-41bb-11eb-aed8-0242ac110002-1-d768",
     "previous": "d78c20a0-41bb-11eb-aed8-0242ac110002-1-0af4"
    },
    "lc_wrapper": {
     "log_history": [
      "/home/jovyan/digraj202103/.log/20201219/20201219-053656-0019.log",
      "/home/jovyan/digraj202103/.log/20201219/20201219-054526-0356.log",
      "/home/jovyan/digraj202103/.log/20201219/20201219-054803-0150.log",
      "/home/jovyan/digraj202103/.log/20201219/20201219-075939-0958.log"
     ]
    },
    "outputId": "7848f335-5bac-46cb-a407-dab480cd82c4",
    "run_through_control": {
     "frozen": true
    }
   },
   "outputs": [
    {
     "name": "stdout",
     "output_type": "stream",
     "text": [
      "Requirement already up-to-date: pygraphviz in /opt/conda/lib/python3.8/site-packages (1.6)\n",
      "Note: you may need to restart the kernel to use updated packages.\n"
     ]
    }
   ],
   "source": [
    "pip install -U pygraphviz"
   ]
  },
  {
   "cell_type": "markdown",
   "metadata": {
    "id": "NGMHNZvybl0w",
    "lc_cell_meme": {
     "current": "d78c21ea-41bb-11eb-aed8-0242ac110002-1-d768",
     "history": [
      {
       "current": "d78c21ea-41bb-11eb-aed8-0242ac110002",
       "next": "d78c2280-41bb-11eb-aed8-0242ac110002",
       "previous": "d78c214a-41bb-11eb-aed8-0242ac110002"
      },
      {
       "current": "d78c21ea-41bb-11eb-aed8-0242ac110002-1-d768",
       "next": "d78c23c0-41bb-11eb-aed8-0242ac110002",
       "previous": "d78c214a-41bb-11eb-aed8-0242ac110002"
      }
     ],
     "next": "d78c23c0-41bb-11eb-aed8-0242ac110002-1-ef6b",
     "previous": "d78c214a-41bb-11eb-aed8-0242ac110002-1-d6f0"
    }
   },
   "source": [
    "## gamemech.dotの確認\n"
   ]
  },
  {
   "cell_type": "code",
   "execution_count": 4,
   "metadata": {
    "colab": {
     "base_uri": "https://localhost:8080/"
    },
    "deletable": false,
    "editable": false,
    "id": "U8OedmnDj38Q",
    "lc_cell_meme": {
     "current": "d78c23c0-41bb-11eb-aed8-0242ac110002-1-ef6b",
     "execution_end_time": "2020-12-19T07:59:43.212221Z",
     "history": [
      {
       "current": "d78c23c0-41bb-11eb-aed8-0242ac110002",
       "next": "d78c2460-41bb-11eb-aed8-0242ac110002",
       "previous": "d78c2320-41bb-11eb-aed8-0242ac110002"
      },
      {
       "current": "d78c23c0-41bb-11eb-aed8-0242ac110002-1-ef6b",
       "next": "d78c2460-41bb-11eb-aed8-0242ac110002",
       "previous": "d78c21ea-41bb-11eb-aed8-0242ac110002"
      }
     ],
     "next": "d78c2460-41bb-11eb-aed8-0242ac110002-1-2013",
     "previous": "d78c21ea-41bb-11eb-aed8-0242ac110002-1-d768"
    },
    "lc_wrapper": {
     "log_history": [
      "/home/jovyan/digraj202103/.log/20201219/20201219-053801-0392.log",
      "/home/jovyan/digraj202103/.log/20201219/20201219-075942-0532.log"
     ]
    },
    "outputId": "e78b5011-3eac-4fc8-aa0a-ee208ae3992d",
    "run_through_control": {
     "frozen": true
    }
   },
   "outputs": [
    {
     "name": "stdout",
     "output_type": "stream",
     "text": [
      "20201219-gamemechの分析.ipynb  gamemech.dot  README.md\tstart.sh\r\n"
     ]
    }
   ],
   "source": [
    "!ls"
   ]
  },
  {
   "cell_type": "markdown",
   "metadata": {
    "id": "rvFev7bAcFHH",
    "lc_cell_meme": {
     "current": "d78c2460-41bb-11eb-aed8-0242ac110002-1-2013",
     "history": [
      {
       "current": "d78c2460-41bb-11eb-aed8-0242ac110002",
       "next": "d78c2500-41bb-11eb-aed8-0242ac110002",
       "previous": "d78c23c0-41bb-11eb-aed8-0242ac110002"
      },
      {
       "current": "d78c2460-41bb-11eb-aed8-0242ac110002",
       "next": "0fe29b6a-41c5-11eb-aed8-0242ac110002",
       "previous": "d78c23c0-41bb-11eb-aed8-0242ac110002"
      },
      {
       "current": "d78c2460-41bb-11eb-aed8-0242ac110002-1-2013",
       "next": "0fe29b6a-41c5-11eb-aed8-0242ac110002-1-0a39",
       "previous": "d78c23c0-41bb-11eb-aed8-0242ac110002"
      }
     ],
     "next": "0fe29b6a-41c5-11eb-aed8-0242ac110002-2-0a39-a2ce",
     "previous": "d78c23c0-41bb-11eb-aed8-0242ac110002-1-ef6b"
    }
   },
   "source": [
    "## 読み込み"
   ]
  },
  {
   "cell_type": "code",
   "execution_count": 5,
   "metadata": {
    "deletable": false,
    "editable": false,
    "lc_cell_meme": {
     "current": "0fe29b6a-41c5-11eb-aed8-0242ac110002-2-0a39-a2ce",
     "execution_end_time": "2020-12-19T07:59:43.232732Z",
     "history": [
      {
       "current": "0fe29b6a-41c5-11eb-aed8-0242ac110002-1-0a39",
       "next": "d78c2500-41bb-11eb-aed8-0242ac110002",
       "previous": "d78c2460-41bb-11eb-aed8-0242ac110002"
      },
      {
       "current": "0fe29b6a-41c5-11eb-aed8-0242ac110002-2-0a39-a2ce",
       "next": "b96ea8e2-41cd-11eb-aed8-0242ac110002",
       "previous": "d78c2460-41bb-11eb-aed8-0242ac110002"
      }
     ],
     "next": "b96ea8e2-41cd-11eb-aed8-0242ac110002-1-b13b",
     "previous": "d78c2460-41bb-11eb-aed8-0242ac110002-1-2013"
    },
    "lc_wrapper": {
     "log_history": [
      "/home/jovyan/digraj202103/.log/20201219/20201219-064033-0690.log",
      "/home/jovyan/digraj202103/.log/20201219/20201219-064154-0191.log",
      "/home/jovyan/digraj202103/.log/20201219/20201219-064353-0969.log",
      "/home/jovyan/digraj202103/.log/20201219/20201219-064436-0442.log",
      "/home/jovyan/digraj202103/.log/20201219/20201219-072239-0607.log",
      "/home/jovyan/digraj202103/.log/20201219/20201219-072258-0932.log",
      "/home/jovyan/digraj202103/.log/20201219/20201219-072524-0863.log",
      "/home/jovyan/digraj202103/.log/20201219/20201219-072645-0959.log",
      "/home/jovyan/digraj202103/.log/20201219/20201219-072758-0932.log",
      "/home/jovyan/digraj202103/.log/20201219/20201219-073425-0022.log",
      "/home/jovyan/digraj202103/.log/20201219/20201219-075943-0217.log"
     ]
    },
    "run_through_control": {
     "frozen": true
    }
   },
   "outputs": [],
   "source": [
    "from pygraphviz import *\n",
    "g = AGraph(\"gamemech.dot\")"
   ]
  },
  {
   "cell_type": "markdown",
   "metadata": {
    "lc_cell_meme": {
     "current": "b96ea8e2-41cd-11eb-aed8-0242ac110002-1-b13b",
     "history": [
      {
       "current": "b96ea8e2-41cd-11eb-aed8-0242ac110002",
       "next": "0fe29b6a-41c5-11eb-aed8-0242ac110002",
       "previous": "0fe29b6a-41c5-11eb-aed8-0242ac110002-1-0a39"
      },
      {
       "current": "b96ea8e2-41cd-11eb-aed8-0242ac110002-1-b13b",
       "next": "0fe29b6a-41c5-11eb-aed8-0242ac110002-1-2d87",
       "previous": "0fe29b6a-41c5-11eb-aed8-0242ac110002-1-0a39"
      }
     ],
     "next": "0fe29b6a-41c5-11eb-aed8-0242ac110002-2-2d87-a8f9",
     "previous": "0fe29b6a-41c5-11eb-aed8-0242ac110002-2-0a39-a2ce"
    }
   },
   "source": [
    "## 隣接行列の折り返しと上三角化（正規化）"
   ]
  },
  {
   "cell_type": "code",
   "execution_count": 6,
   "metadata": {
    "deletable": false,
    "editable": false,
    "lc_cell_meme": {
     "current": "0fe29b6a-41c5-11eb-aed8-0242ac110002-2-2d87-a8f9",
     "execution_end_time": "2020-12-19T07:59:59.799728Z",
     "history": [
      {
       "current": "0fe29b6a-41c5-11eb-aed8-0242ac110002",
       "next": "d78c2500-41bb-11eb-aed8-0242ac110002",
       "previous": "d78c2460-41bb-11eb-aed8-0242ac110002"
      },
      {
       "current": "0fe29b6a-41c5-11eb-aed8-0242ac110002-1-2d87",
       "next": "d78c2500-41bb-11eb-aed8-0242ac110002",
       "previous": "b96ea8e2-41cd-11eb-aed8-0242ac110002"
      },
      {
       "current": "0fe29b6a-41c5-11eb-aed8-0242ac110002-2-2d87-a8f9",
       "next": "00b412aa-41ce-11eb-aed8-0242ac110002",
       "previous": "b96ea8e2-41cd-11eb-aed8-0242ac110002"
      }
     ],
     "next": "00b412aa-41ce-11eb-aed8-0242ac110002-1-69de",
     "previous": "b96ea8e2-41cd-11eb-aed8-0242ac110002-1-b13b"
    },
    "lc_wrapper": {
     "log_history": [
      "/home/jovyan/digraj202103/.log/20201219/20201219-064033-0690.log",
      "/home/jovyan/digraj202103/.log/20201219/20201219-064154-0191.log",
      "/home/jovyan/digraj202103/.log/20201219/20201219-064353-0969.log",
      "/home/jovyan/digraj202103/.log/20201219/20201219-064436-0442.log",
      "/home/jovyan/digraj202103/.log/20201219/20201219-072239-0607.log",
      "/home/jovyan/digraj202103/.log/20201219/20201219-072258-0932.log",
      "/home/jovyan/digraj202103/.log/20201219/20201219-072524-0863.log",
      "/home/jovyan/digraj202103/.log/20201219/20201219-072645-0959.log",
      "/home/jovyan/digraj202103/.log/20201219/20201219-072758-0932.log",
      "/home/jovyan/digraj202103/.log/20201219/20201219-073425-0022.log",
      "/home/jovyan/digraj202103/.log/20201219/20201219-075943-0238.log"
     ]
    },
    "run_through_control": {
     "frozen": true
    }
   },
   "outputs": [],
   "source": [
    "nodes = g.nodes()\n",
    "edges = g.edges()\n",
    "\n",
    "for edge in edges:\n",
    "    if nodes.index(edge[0]) > nodes.index(edge[1]):\n",
    "        g.delete_edge(edge[0], edge[1])\n",
    "        if not (edge[1], edge[0]) in edges:\n",
    "            g.add_edge(edge[1], edge[0])\n",
    "\n",
    "g.write(\"gamemech2.dot\")\n",
    "\n",
    "!dot -Tpng gamemech2.dot -ogamemech2.png"
   ]
  },
  {
   "cell_type": "markdown",
   "metadata": {
    "lc_cell_meme": {
     "current": "00b412aa-41ce-11eb-aed8-0242ac110002-1-69de",
     "history": [
      {
       "current": "00b412aa-41ce-11eb-aed8-0242ac110002",
       "next": "0fe29b6a-41c5-11eb-aed8-0242ac110002",
       "previous": "0fe29b6a-41c5-11eb-aed8-0242ac110002-1-2d87"
      },
      {
       "current": "00b412aa-41ce-11eb-aed8-0242ac110002-1-69de",
       "next": "487be4aa-41ce-11eb-aed8-0242ac110002",
       "previous": "0fe29b6a-41c5-11eb-aed8-0242ac110002-1-2d87"
      }
     ],
     "next": "487be4aa-41ce-11eb-aed8-0242ac110002-1-ea87",
     "previous": "0fe29b6a-41c5-11eb-aed8-0242ac110002-2-2d87-a8f9"
    }
   },
   "source": [
    "gamemech2.dotに正規化した内容を出力"
   ]
  },
  {
   "cell_type": "markdown",
   "metadata": {
    "lc_cell_meme": {
     "current": "487be4aa-41ce-11eb-aed8-0242ac110002-1-ea87",
     "history": [
      {
       "current": "487be4aa-41ce-11eb-aed8-0242ac110002-1-ea87",
       "next": "0fe29b6a-41c5-11eb-aed8-0242ac110002",
       "previous": "00b412aa-41ce-11eb-aed8-0242ac110002"
      }
     ],
     "next": "0fe29b6a-41c5-11eb-aed8-0242ac110002-1-a54d",
     "previous": "00b412aa-41ce-11eb-aed8-0242ac110002-1-69de"
    }
   },
   "source": [
    "## 同一分類内の関係の洗い出し"
   ]
  },
  {
   "cell_type": "code",
   "execution_count": 7,
   "metadata": {
    "deletable": false,
    "editable": false,
    "lc_cell_meme": {
     "current": "0fe29b6a-41c5-11eb-aed8-0242ac110002-1-a54d",
     "execution_end_time": "2020-12-19T07:59:59.836878Z",
     "history": [
      {
       "current": "0fe29b6a-41c5-11eb-aed8-0242ac110002",
       "next": "d78c2500-41bb-11eb-aed8-0242ac110002",
       "previous": "d78c2460-41bb-11eb-aed8-0242ac110002"
      },
      {
       "current": "0fe29b6a-41c5-11eb-aed8-0242ac110002",
       "next": "d78c2500-41bb-11eb-aed8-0242ac110002",
       "previous": "b96ea8e2-41cd-11eb-aed8-0242ac110002"
      },
      {
       "current": "0fe29b6a-41c5-11eb-aed8-0242ac110002",
       "next": "d78c2500-41bb-11eb-aed8-0242ac110002",
       "previous": "00b412aa-41ce-11eb-aed8-0242ac110002"
      },
      {
       "current": "0fe29b6a-41c5-11eb-aed8-0242ac110002",
       "next": "d78c2500-41bb-11eb-aed8-0242ac110002",
       "previous": "487be4aa-41ce-11eb-aed8-0242ac110002"
      },
      {
       "current": "0fe29b6a-41c5-11eb-aed8-0242ac110002-1-a54d",
       "next": "6654e0d4-41cf-11eb-aed8-0242ac110002",
       "previous": "487be4aa-41ce-11eb-aed8-0242ac110002"
      }
     ],
     "next": "6654e0d4-41cf-11eb-aed8-0242ac110002-1-cd5d",
     "previous": "487be4aa-41ce-11eb-aed8-0242ac110002-1-ea87"
    },
    "lc_wrapper": {
     "log_history": [
      "/home/jovyan/digraj202103/.log/20201219/20201219-064033-0690.log",
      "/home/jovyan/digraj202103/.log/20201219/20201219-064154-0191.log",
      "/home/jovyan/digraj202103/.log/20201219/20201219-064353-0969.log",
      "/home/jovyan/digraj202103/.log/20201219/20201219-064436-0442.log",
      "/home/jovyan/digraj202103/.log/20201219/20201219-072239-0607.log",
      "/home/jovyan/digraj202103/.log/20201219/20201219-072258-0932.log",
      "/home/jovyan/digraj202103/.log/20201219/20201219-072524-0863.log",
      "/home/jovyan/digraj202103/.log/20201219/20201219-072645-0959.log",
      "/home/jovyan/digraj202103/.log/20201219/20201219-072758-0932.log",
      "/home/jovyan/digraj202103/.log/20201219/20201219-073425-0022.log",
      "/home/jovyan/digraj202103/.log/20201219/20201219-074853-0077.log",
      "/home/jovyan/digraj202103/.log/20201219/20201219-075158-0868.log",
      "/home/jovyan/digraj202103/.log/20201219/20201219-075959-0806.log"
     ]
    },
    "run_through_control": {
     "frozen": true
    }
   },
   "outputs": [
    {
     "name": "stdout",
     "output_type": "stream",
     "text": [
      "\n",
      "str\n",
      "('str02', 'str04')\n",
      "('str02', 'str05')\n",
      "('str02', 'str07')\n",
      "('str03', 'str07')\n",
      "\n",
      "trn\n",
      "('trn01', 'trn04')\n",
      "('trn01', 'trn05')\n",
      "('trn02', 'trn05')\n",
      "('trn02', 'trn15')\n",
      "('trn05', 'trn06')\n",
      "('trn07', 'trn08')\n",
      "('trn07', 'trn12')\n",
      "('trn07', 'trn14')\n",
      "('trn09', 'trn10')\n",
      "('trn10', 'trn16')\n",
      "('trn12', 'trn14')\n",
      "('trn14', 'trn16')\n",
      "('trn16', 'trn17')\n",
      "\n",
      "act\n",
      "('act01', 'act04')\n",
      "('act01', 'act10')\n",
      "('act02', 'act08')\n",
      "('act02', 'act11')\n",
      "('act03', 'act11')\n",
      "('act03', 'act13')\n",
      "('act04', 'act17')\n",
      "('act05', 'act11')\n",
      "('act06', 'act07')\n",
      "('act06', 'act09')\n",
      "('act07', 'act08')\n",
      "('act10', 'act11')\n",
      "('act12', 'act14')\n",
      "('act13', 'act14')\n",
      "('act15', 'act16')\n",
      "('act15', 'act18')\n",
      "\n",
      "res\n",
      "('res01', 'res02')\n",
      "('res01', 'res05')\n",
      "('res01', 'res07')\n",
      "('res01', 'res14')\n",
      "('res01', 'res18')\n",
      "('res02', 'res05')\n",
      "('res02', 'res07')\n",
      "('res02', 'res13')\n",
      "('res02', 'res21')\n",
      "('res03', 'res04')\n",
      "('res07', 'res08')\n",
      "('res13', 'res14')\n",
      "('res18', 'res20')\n",
      "\n",
      "vic\n",
      "('vic01', 'vic02')\n",
      "('vic01', 'vic07')\n",
      "('vic01', 'vic12')\n",
      "('vic02', 'vic11')\n",
      "('vic04', 'vic18')\n",
      "('vic05', 'vic06')\n",
      "('vic05', 'vic09')\n",
      "('vic05', 'vic15')\n",
      "('vic06', 'vic11')\n",
      "('vic07', 'vic11')\n",
      "('vic07', 'vic14')\n",
      "('vic10', 'vic11')\n",
      "('vic11', 'vic19')\n",
      "('vic14', 'vic16')\n",
      "('vic15', 'vic19')\n",
      "('vic17', 'vic18')\n",
      "\n",
      "unc\n",
      "('unc01', 'unc02')\n",
      "('unc01', 'unc04')\n",
      "('unc01', 'unc08')\n",
      "('unc01', 'unc09')\n",
      "('unc01', 'unc11')\n",
      "('unc04', 'unc05')\n",
      "('unc04', 'unc08')\n",
      "('unc07', 'unc10')\n",
      "('unc08', 'unc10')\n",
      "\n",
      "eco\n",
      "('eco01', 'eco02')\n",
      "('eco01', 'eco03')\n",
      "('eco01', 'eco05')\n",
      "('eco01', 'eco10')\n",
      "('eco02', 'eco16')\n",
      "('eco02', 'eco18')\n",
      "('eco03', 'eco05')\n",
      "('eco05', 'eco06')\n",
      "('eco05', 'eco07')\n",
      "('eco05', 'eco12')\n",
      "('eco05', 'eco14')\n",
      "('eco10', 'eco11')\n",
      "('eco13', 'eco14')\n",
      "('eco16', 'eco18')\n",
      "('eco18', 'eco19')\n",
      "\n",
      "auc\n",
      "('auc01', 'auc02')\n",
      "('auc01', 'auc03')\n",
      "('auc02', 'auc03')\n",
      "('auc02', 'auc08')\n",
      "('auc02', 'auc09')\n",
      "('auc03', 'auc04')\n",
      "('auc03', 'auc09')\n",
      "('auc03', 'auc13')\n",
      "('auc04', 'auc07')\n",
      "('auc04', 'auc09')\n",
      "('auc04', 'auc11')\n",
      "('auc04', 'auc13')\n",
      "('auc05', 'auc06')\n",
      "('auc05', 'auc11')\n",
      "('auc06', 'auc07')\n",
      "('auc06', 'auc10')\n",
      "('auc06', 'auc13')\n",
      "('auc06', 'auc15')\n",
      "('auc08', 'auc09')\n",
      "('auc08', 'auc16')\n",
      "('auc11', 'auc13')\n",
      "('auc11', 'auc15')\n",
      "('auc11', 'auc16')\n",
      "\n",
      "wpl\n",
      "('wpl01', 'wpl02')\n",
      "('wpl03', 'wpl08')\n",
      "('wpl04', 'wpl05')\n",
      "('wpl05', 'wpl08')\n",
      "\n",
      "mov\n",
      "('mov01', 'mov02')\n",
      "('mov01', 'mov24')\n",
      "('mov02', 'mov05')\n",
      "('mov02', 'mov07')\n",
      "('mov02', 'mov23')\n",
      "('mov04', 'mov06')\n",
      "('mov04', 'mov07')\n",
      "('mov06', 'mov20')\n",
      "('mov10', 'mov14')\n",
      "('mov10', 'mov20')\n",
      "\n",
      "arc\n",
      "('arc02', 'arc03')\n",
      "('arc02', 'arc06')\n",
      "('arc05', 'arc06')\n",
      "('arc05', 'arc08')\n",
      "('arc06', 'arc07')\n",
      "('arc06', 'arc08')\n",
      "\n",
      "set\n",
      "('set01', 'set04')\n",
      "('set01', 'set05')\n",
      "('set02', 'set04')\n",
      "\n",
      "car\n",
      "('car01', 'car02')\n",
      "('car03', 'car04')\n"
     ]
    }
   ],
   "source": [
    "label = \"\"\n",
    "for edge in g.edges():\n",
    "    if label != edge[0][0:3]:\n",
    "        label = edge[0][0:3]\n",
    "        print(\"\\n\"+label)\n",
    "    if edge[0].startswith(edge[1][0:3]):\n",
    "        print(edge)"
   ]
  },
  {
   "cell_type": "markdown",
   "metadata": {
    "lc_cell_meme": {
     "current": "6654e0d4-41cf-11eb-aed8-0242ac110002-1-cd5d",
     "history": [
      {
       "current": "6654e0d4-41cf-11eb-aed8-0242ac110002",
       "next": null,
       "previous": "0fe29b6a-41c5-11eb-aed8-0242ac110002"
      },
      {
       "current": "6654e0d4-41cf-11eb-aed8-0242ac110002-1-cd5d",
       "next": "976f40a6-41cf-11eb-aed8-0242ac110002",
       "previous": "0fe29b6a-41c5-11eb-aed8-0242ac110002"
      }
     ],
     "next": "976f40a6-41cf-11eb-aed8-0242ac110002-1-60db",
     "previous": "0fe29b6a-41c5-11eb-aed8-0242ac110002-1-a54d"
    }
   },
   "source": [
    "同一分類内の関係は、継承（汎化）関係の可能性があり、族の存在が見つかる可能性がある。"
   ]
  },
  {
   "cell_type": "code",
   "execution_count": null,
   "metadata": {
    "lc_cell_meme": {
     "current": "976f40a6-41cf-11eb-aed8-0242ac110002-1-60db",
     "history": [
      {
       "current": "976f40a6-41cf-11eb-aed8-0242ac110002-1-60db",
       "next": null,
       "previous": "6654e0d4-41cf-11eb-aed8-0242ac110002"
      }
     ],
     "next": null,
     "previous": "6654e0d4-41cf-11eb-aed8-0242ac110002-1-cd5d"
    }
   },
   "outputs": [],
   "source": []
  }
 ],
 "metadata": {
  "colab": {
   "name": "Untitled4.ipynb",
   "provenance": []
  },
  "kernelspec": {
   "display_name": "Python 3",
   "language": "python",
   "name": "python3"
  },
  "language_info": {
   "file_extension": ".py",
   "mimetype": "text/x-python",
   "name": "python",
   "nbconvert_exporter": "python",
   "pygments_lexer": "ipython3",
   "version": "3.8.6"
  },
  "lc_notebook_meme": {
   "current": "d78c1c4a-41bb-11eb-aed8-0242ac110002",
   "lc_server_signature": {
    "current": {
     "notebook_dir": "/home/jovyan",
     "notebook_path": "/digraj202103",
     "server_url": "http://localhost:8888/",
     "signature_id": "e79b1078-41cf-11eb-8e07-0242ac110002"
    },
    "history": [
     {
      "notebook_dir": "/home/jovyan",
      "notebook_path": "/digraj202103",
      "server_url": "http://localhost:8888/",
      "signature_id": "6ab9e48a-41bb-11eb-aed8-0242ac110002"
     }
    ]
   }
  },
  "toc": {
   "base_numbering": 1,
   "nav_menu": {},
   "number_sections": true,
   "sideBar": true,
   "skip_h1_title": false,
   "title_cell": "Table of Contents",
   "title_sidebar": "Contents",
   "toc_cell": false,
   "toc_position": {},
   "toc_section_display": true,
   "toc_window_display": false
  }
 },
 "nbformat": 4,
 "nbformat_minor": 1
}
