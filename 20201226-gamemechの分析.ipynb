{
 "cells": [
  {
   "cell_type": "markdown",
   "metadata": {
    "id": "dNxf3h8mbGsT",
    "lc_cell_meme": {
     "current": "d78c1df8-41bb-11eb-aed8-0242ac110002-4-5349-6ea8-8beb-bb1c",
     "history": [
      {
       "current": "d78c1df8-41bb-11eb-aed8-0242ac110002-1-5349",
       "next": "d78c1eb6-41bb-11eb-aed8-0242ac110002",
       "previous": null
      },
      {
       "current": "d78c1df8-41bb-11eb-aed8-0242ac110002-2-5349-6ea8",
       "next": "d78c1eb6-41bb-11eb-aed8-0242ac110002-1-f9ca",
       "previous": null
      },
      {
       "current": "d78c1df8-41bb-11eb-aed8-0242ac110002-3-5349-6ea8-8beb",
       "next": "d78c1eb6-41bb-11eb-aed8-0242ac110002-2-f9ca-08a5",
       "previous": null
      },
      {
       "current": "d78c1df8-41bb-11eb-aed8-0242ac110002-4-5349-6ea8-8beb-bb1c",
       "next": "d78c1eb6-41bb-11eb-aed8-0242ac110002-3-f9ca-08a5-6cd0",
       "previous": null
      }
     ],
     "next": "d78c1eb6-41bb-11eb-aed8-0242ac110002-4-f9ca-08a5-6cd0-4f22",
     "previous": null
    }
   },
   "source": [
    "# ゲームメカニクス大全の分析\n"
   ]
  },
  {
   "cell_type": "markdown",
   "metadata": {
    "id": "obJSH-zebvWR",
    "lc_cell_meme": {
     "current": "d78c1eb6-41bb-11eb-aed8-0242ac110002-4-f9ca-08a5-6cd0-4f22",
     "history": [
      {
       "current": "d78c1eb6-41bb-11eb-aed8-0242ac110002-1-f9ca",
       "next": "d78c1f60-41bb-11eb-aed8-0242ac110002",
       "previous": "d78c1df8-41bb-11eb-aed8-0242ac110002"
      },
      {
       "current": "d78c1eb6-41bb-11eb-aed8-0242ac110002-2-f9ca-08a5",
       "next": "d78c1f60-41bb-11eb-aed8-0242ac110002-1-97f2",
       "previous": "d78c1df8-41bb-11eb-aed8-0242ac110002-1-5349"
      },
      {
       "current": "d78c1eb6-41bb-11eb-aed8-0242ac110002-3-f9ca-08a5-6cd0",
       "next": "d78c1f60-41bb-11eb-aed8-0242ac110002-2-97f2-86c1",
       "previous": "d78c1df8-41bb-11eb-aed8-0242ac110002-2-5349-6ea8"
      },
      {
       "current": "d78c1eb6-41bb-11eb-aed8-0242ac110002-4-f9ca-08a5-6cd0-4f22",
       "next": "d78c1f60-41bb-11eb-aed8-0242ac110002-3-97f2-86c1-1819",
       "previous": "d78c1df8-41bb-11eb-aed8-0242ac110002-3-5349-6ea8-8beb"
      }
     ],
     "next": "d78c1f60-41bb-11eb-aed8-0242ac110002-4-97f2-86c1-1819-7e71",
     "previous": "d78c1df8-41bb-11eb-aed8-0242ac110002-4-5349-6ea8-8beb-bb1c"
    }
   },
   "source": [
    "## 環境準備\n"
   ]
  },
  {
   "cell_type": "markdown",
   "metadata": {
    "id": "t7gURyeZb3dN",
    "lc_cell_meme": {
     "current": "d78c1f60-41bb-11eb-aed8-0242ac110002-4-97f2-86c1-1819-7e71",
     "history": [
      {
       "current": "d78c1f60-41bb-11eb-aed8-0242ac110002-1-97f2",
       "next": "d78c2000-41bb-11eb-aed8-0242ac110002",
       "previous": "d78c1eb6-41bb-11eb-aed8-0242ac110002"
      },
      {
       "current": "d78c1f60-41bb-11eb-aed8-0242ac110002-2-97f2-86c1",
       "next": "d78c2000-41bb-11eb-aed8-0242ac110002-1-aaa2",
       "previous": "d78c1eb6-41bb-11eb-aed8-0242ac110002-1-f9ca"
      },
      {
       "current": "d78c1f60-41bb-11eb-aed8-0242ac110002-3-97f2-86c1-1819",
       "next": "d78c2000-41bb-11eb-aed8-0242ac110002-2-aaa2-8116",
       "previous": "d78c1eb6-41bb-11eb-aed8-0242ac110002-2-f9ca-08a5"
      },
      {
       "current": "d78c1f60-41bb-11eb-aed8-0242ac110002-4-97f2-86c1-1819-7e71",
       "next": "d78c2000-41bb-11eb-aed8-0242ac110002-3-aaa2-8116-378f",
       "previous": "d78c1eb6-41bb-11eb-aed8-0242ac110002-3-f9ca-08a5-6cd0"
      }
     ],
     "next": "d78c2000-41bb-11eb-aed8-0242ac110002-4-aaa2-8116-378f-e30c",
     "previous": "d78c1eb6-41bb-11eb-aed8-0242ac110002-4-f9ca-08a5-6cd0-4f22"
    }
   },
   "source": [
    "\n",
    "パターンの関連を手打ちでdotにしたgamemech.dotを読み込む準備をする。"
   ]
  },
  {
   "cell_type": "code",
   "execution_count": 1,
   "metadata": {
    "colab": {
     "base_uri": "https://localhost:8080/"
    },
    "deletable": false,
    "editable": false,
    "id": "owXZzLeWj52X",
    "lc_cell_meme": {
     "current": "d78c2000-41bb-11eb-aed8-0242ac110002-4-aaa2-8116-378f-e30c",
     "execution_end_time": "2020-12-26T14:35:06.927042Z",
     "history": [
      {
       "current": "d78c2000-41bb-11eb-aed8-0242ac110002-1-aaa2",
       "next": "d78c20a0-41bb-11eb-aed8-0242ac110002",
       "previous": "d78c1f60-41bb-11eb-aed8-0242ac110002"
      },
      {
       "current": "d78c2000-41bb-11eb-aed8-0242ac110002-2-aaa2-8116",
       "next": "d78c20a0-41bb-11eb-aed8-0242ac110002-1-0af4",
       "previous": "d78c1f60-41bb-11eb-aed8-0242ac110002-1-97f2"
      },
      {
       "current": "d78c2000-41bb-11eb-aed8-0242ac110002-3-aaa2-8116-378f",
       "next": "d78c20a0-41bb-11eb-aed8-0242ac110002-2-0af4-30e3",
       "previous": "d78c1f60-41bb-11eb-aed8-0242ac110002-2-97f2-86c1"
      },
      {
       "current": "d78c2000-41bb-11eb-aed8-0242ac110002-4-aaa2-8116-378f-e30c",
       "next": "d78c20a0-41bb-11eb-aed8-0242ac110002-3-0af4-30e3-376c",
       "previous": "d78c1f60-41bb-11eb-aed8-0242ac110002-3-97f2-86c1-1819"
      }
     ],
     "next": "d78c20a0-41bb-11eb-aed8-0242ac110002-4-0af4-30e3-376c-0667",
     "previous": "d78c1f60-41bb-11eb-aed8-0242ac110002-4-97f2-86c1-1819-7e71"
    },
    "lc_wrapper": {
     "log_history": [
      "/home/jovyan/digraj202103/.log/20201219/20201219-053226-0211.log",
      "/home/jovyan/digraj202103/.log/20201219/20201219-053258-0519.log",
      "/home/jovyan/digraj202103/.log/20201219/20201219-054507-0160.log",
      "/home/jovyan/digraj202103/.log/20201219/20201219-054710-0550.log",
      "/home/jovyan/digraj202103/.log/20201219/20201219-075917-0188.log",
      "/home/jovyan/digraj202103/.log/20201225/20201225-074628-0312.log",
      "/home/jovyan/digraj202103/.log/20201225/20201225-132012-0996.log",
      "/home/jovyan/digraj202103/.log/20201226/20201226-133530-0742.log",
      "/home/jovyan/digraj202103/.log/20201226/20201226-143459-0668.log"
     ]
    },
    "outputId": "05c91029-f73d-42ef-a3e9-05f2fe98de73",
    "run_through_control": {
     "frozen": true
    }
   },
   "outputs": [
    {
     "name": "stdout",
     "output_type": "stream",
     "text": [
      "Ign:1 http://repo.mongodb.org/apt/debian stretch/mongodb-org/3.6 InRelease\n",
      "Hit:2 https://cloud.r-project.org/bin/linux/ubuntu focal-cran40/ InRelease     \n",
      "Get:3 http://security.ubuntu.com/ubuntu focal-security InRelease [109 kB]      \n",
      "Hit:5 http://repo.mongodb.org/apt/debian stretch/mongodb-org/3.6 Release       \n",
      "Get:6 http://packages.cloud.google.com/apt cloud-sdk InRelease [6,739 B]       \n",
      "Hit:8 http://archive.ubuntu.com/ubuntu focal InRelease                         \n",
      "Get:4 https://packages.cloud.google.com/apt kubernetes-xenial InRelease [9,383 B]\n",
      "Get:9 http://archive.ubuntu.com/ubuntu focal-updates InRelease [114 kB]\n",
      "Get:10 http://archive.ubuntu.com/ubuntu focal-backports InRelease [101 kB]\n",
      "Fetched 340 kB in 3s (124 kB/s)    \n",
      "Reading package lists... Done\n",
      "Reading package lists... Done\n",
      "Building dependency tree       \n",
      "Reading state information... Done\n",
      "graphviz is already the newest version (2.42.2-3build2).\n",
      "libgraphviz-dev is already the newest version (2.42.2-3build2).\n",
      "0 upgraded, 0 newly installed, 0 to remove and 90 not upgraded.\n"
     ]
    }
   ],
   "source": [
    "!sudo apt-get update\n",
    "!sudo apt-get install -y graphviz libgraphviz-dev"
   ]
  },
  {
   "cell_type": "code",
   "execution_count": 2,
   "metadata": {
    "colab": {
     "base_uri": "https://localhost:8080/"
    },
    "deletable": false,
    "editable": false,
    "id": "UvSTr8KFjBte",
    "lc_cell_meme": {
     "current": "d78c20a0-41bb-11eb-aed8-0242ac110002-4-0af4-30e3-376c-0667",
     "execution_end_time": "2020-12-26T14:35:10.334430Z",
     "history": [
      {
       "current": "d78c20a0-41bb-11eb-aed8-0242ac110002-1-0af4",
       "next": "d78c214a-41bb-11eb-aed8-0242ac110002",
       "previous": "d78c2000-41bb-11eb-aed8-0242ac110002"
      },
      {
       "current": "d78c20a0-41bb-11eb-aed8-0242ac110002-2-0af4-30e3",
       "next": "d78c214a-41bb-11eb-aed8-0242ac110002-1-d6f0",
       "previous": "d78c2000-41bb-11eb-aed8-0242ac110002-1-aaa2"
      },
      {
       "current": "d78c20a0-41bb-11eb-aed8-0242ac110002-3-0af4-30e3-376c",
       "next": "d78c214a-41bb-11eb-aed8-0242ac110002-2-d6f0-d1a9",
       "previous": "d78c2000-41bb-11eb-aed8-0242ac110002-2-aaa2-8116"
      },
      {
       "current": "d78c20a0-41bb-11eb-aed8-0242ac110002-4-0af4-30e3-376c-0667",
       "next": "d78c214a-41bb-11eb-aed8-0242ac110002-3-d6f0-d1a9-85dc",
       "previous": "d78c2000-41bb-11eb-aed8-0242ac110002-3-aaa2-8116-378f"
      }
     ],
     "next": "d78c214a-41bb-11eb-aed8-0242ac110002-4-d6f0-d1a9-85dc-669d",
     "previous": "d78c2000-41bb-11eb-aed8-0242ac110002-4-aaa2-8116-378f-e30c"
    },
    "lc_wrapper": {
     "log_history": [
      "/home/jovyan/digraj202103/.log/20201219/20201219-053646-0815.log",
      "/home/jovyan/digraj202103/.log/20201219/20201219-054515-0197.log",
      "/home/jovyan/digraj202103/.log/20201219/20201219-054753-0392.log",
      "/home/jovyan/digraj202103/.log/20201219/20201219-075933-0556.log",
      "/home/jovyan/digraj202103/.log/20201225/20201225-074645-0528.log",
      "/home/jovyan/digraj202103/.log/20201225/20201225-132034-0425.log",
      "/home/jovyan/digraj202103/.log/20201226/20201226-133550-0703.log",
      "/home/jovyan/digraj202103/.log/20201226/20201226-143506-0935.log"
     ]
    },
    "outputId": "732d58b7-70c2-4709-ed1f-080e38cb914a",
    "run_through_control": {
     "frozen": true
    }
   },
   "outputs": [
    {
     "name": "stdout",
     "output_type": "stream",
     "text": [
      "Requirement already satisfied: pygraphviz in /opt/conda/lib/python3.8/site-packages (1.6)\n",
      "Requirement already satisfied: networkx in /opt/conda/lib/python3.8/site-packages (2.5)\n",
      "Requirement already satisfied: decorator>=4.3.0 in /opt/conda/lib/python3.8/site-packages (from networkx) (4.4.2)\n"
     ]
    }
   ],
   "source": [
    "!pip install pygraphviz networkx"
   ]
  },
  {
   "cell_type": "code",
   "execution_count": 3,
   "metadata": {
    "colab": {
     "base_uri": "https://localhost:8080/"
    },
    "deletable": false,
    "editable": false,
    "id": "GXizxFU0mf-s",
    "lc_cell_meme": {
     "current": "d78c214a-41bb-11eb-aed8-0242ac110002-4-d6f0-d1a9-85dc-669d",
     "execution_end_time": "2020-12-26T14:35:14.066947Z",
     "history": [
      {
       "current": "d78c214a-41bb-11eb-aed8-0242ac110002-1-d6f0",
       "next": "d78c21ea-41bb-11eb-aed8-0242ac110002",
       "previous": "d78c20a0-41bb-11eb-aed8-0242ac110002"
      },
      {
       "current": "d78c214a-41bb-11eb-aed8-0242ac110002-2-d6f0-d1a9",
       "next": "d78c21ea-41bb-11eb-aed8-0242ac110002-1-d768",
       "previous": "d78c20a0-41bb-11eb-aed8-0242ac110002-1-0af4"
      },
      {
       "current": "d78c214a-41bb-11eb-aed8-0242ac110002-3-d6f0-d1a9-85dc",
       "next": "d78c21ea-41bb-11eb-aed8-0242ac110002-2-d768-5982",
       "previous": "d78c20a0-41bb-11eb-aed8-0242ac110002-2-0af4-30e3"
      },
      {
       "current": "d78c214a-41bb-11eb-aed8-0242ac110002-4-d6f0-d1a9-85dc-669d",
       "next": "d78c21ea-41bb-11eb-aed8-0242ac110002-3-d768-5982-b400",
       "previous": "d78c20a0-41bb-11eb-aed8-0242ac110002-3-0af4-30e3-376c"
      }
     ],
     "next": "d78c21ea-41bb-11eb-aed8-0242ac110002-4-d768-5982-b400-cfe9",
     "previous": "d78c20a0-41bb-11eb-aed8-0242ac110002-4-0af4-30e3-376c-0667"
    },
    "lc_wrapper": {
     "log_history": [
      "/home/jovyan/digraj202103/.log/20201219/20201219-053656-0019.log",
      "/home/jovyan/digraj202103/.log/20201219/20201219-054526-0356.log",
      "/home/jovyan/digraj202103/.log/20201219/20201219-054803-0150.log",
      "/home/jovyan/digraj202103/.log/20201219/20201219-075939-0958.log",
      "/home/jovyan/digraj202103/.log/20201225/20201225-074653-0265.log",
      "/home/jovyan/digraj202103/.log/20201225/20201225-132040-0271.log",
      "/home/jovyan/digraj202103/.log/20201226/20201226-133600-0073.log",
      "/home/jovyan/digraj202103/.log/20201226/20201226-143510-0343.log"
     ]
    },
    "outputId": "7848f335-5bac-46cb-a407-dab480cd82c4",
    "run_through_control": {
     "frozen": true
    }
   },
   "outputs": [
    {
     "name": "stdout",
     "output_type": "stream",
     "text": [
      "Requirement already up-to-date: pygraphviz in /opt/conda/lib/python3.8/site-packages (1.6)\n",
      "Requirement already up-to-date: networkx in /opt/conda/lib/python3.8/site-packages (2.5)\n",
      "Requirement already satisfied, skipping upgrade: decorator>=4.3.0 in /opt/conda/lib/python3.8/site-packages (from networkx) (4.4.2)\n",
      "Note: you may need to restart the kernel to use updated packages.\n"
     ]
    }
   ],
   "source": [
    "pip install -U pygraphviz networkx"
   ]
  },
  {
   "cell_type": "markdown",
   "metadata": {
    "id": "NGMHNZvybl0w",
    "lc_cell_meme": {
     "current": "d78c21ea-41bb-11eb-aed8-0242ac110002-4-d768-5982-b400-cfe9",
     "history": [
      {
       "current": "d78c21ea-41bb-11eb-aed8-0242ac110002",
       "next": "d78c2280-41bb-11eb-aed8-0242ac110002",
       "previous": "d78c214a-41bb-11eb-aed8-0242ac110002"
      },
      {
       "current": "d78c21ea-41bb-11eb-aed8-0242ac110002-1-d768",
       "next": "d78c23c0-41bb-11eb-aed8-0242ac110002",
       "previous": "d78c214a-41bb-11eb-aed8-0242ac110002"
      },
      {
       "current": "d78c21ea-41bb-11eb-aed8-0242ac110002-2-d768-5982",
       "next": "d78c23c0-41bb-11eb-aed8-0242ac110002-1-ef6b",
       "previous": "d78c214a-41bb-11eb-aed8-0242ac110002-1-d6f0"
      },
      {
       "current": "d78c21ea-41bb-11eb-aed8-0242ac110002-3-d768-5982-b400",
       "next": "d78c23c0-41bb-11eb-aed8-0242ac110002-2-ef6b-22b4",
       "previous": "d78c214a-41bb-11eb-aed8-0242ac110002-2-d6f0-d1a9"
      },
      {
       "current": "d78c21ea-41bb-11eb-aed8-0242ac110002-4-d768-5982-b400-cfe9",
       "next": "d78c23c0-41bb-11eb-aed8-0242ac110002-3-ef6b-22b4-faa1",
       "previous": "d78c214a-41bb-11eb-aed8-0242ac110002-3-d6f0-d1a9-85dc"
      }
     ],
     "next": "d78c23c0-41bb-11eb-aed8-0242ac110002-4-ef6b-22b4-faa1-fbf6",
     "previous": "d78c214a-41bb-11eb-aed8-0242ac110002-4-d6f0-d1a9-85dc-669d"
    }
   },
   "source": [
    "## gamemech.dotの確認\n"
   ]
  },
  {
   "cell_type": "code",
   "execution_count": 4,
   "metadata": {
    "colab": {
     "base_uri": "https://localhost:8080/"
    },
    "deletable": false,
    "editable": false,
    "id": "U8OedmnDj38Q",
    "lc_cell_meme": {
     "current": "d78c23c0-41bb-11eb-aed8-0242ac110002-4-ef6b-22b4-faa1-fbf6",
     "execution_end_time": "2020-12-26T14:35:14.995309Z",
     "history": [
      {
       "current": "d78c23c0-41bb-11eb-aed8-0242ac110002",
       "next": "d78c2460-41bb-11eb-aed8-0242ac110002",
       "previous": "d78c2320-41bb-11eb-aed8-0242ac110002"
      },
      {
       "current": "d78c23c0-41bb-11eb-aed8-0242ac110002-1-ef6b",
       "next": "d78c2460-41bb-11eb-aed8-0242ac110002",
       "previous": "d78c21ea-41bb-11eb-aed8-0242ac110002"
      },
      {
       "current": "d78c23c0-41bb-11eb-aed8-0242ac110002-2-ef6b-22b4",
       "next": "d78c2460-41bb-11eb-aed8-0242ac110002-1-2013",
       "previous": "d78c21ea-41bb-11eb-aed8-0242ac110002-1-d768"
      },
      {
       "current": "d78c23c0-41bb-11eb-aed8-0242ac110002-3-ef6b-22b4-faa1",
       "next": "d78c2460-41bb-11eb-aed8-0242ac110002-2-2013-3fba",
       "previous": "d78c21ea-41bb-11eb-aed8-0242ac110002-2-d768-5982"
      },
      {
       "current": "d78c23c0-41bb-11eb-aed8-0242ac110002-4-ef6b-22b4-faa1-fbf6",
       "next": "d78c2460-41bb-11eb-aed8-0242ac110002-3-2013-3fba-d374",
       "previous": "d78c21ea-41bb-11eb-aed8-0242ac110002-3-d768-5982-b400"
      }
     ],
     "next": "d78c2460-41bb-11eb-aed8-0242ac110002-4-2013-3fba-d374-6e74",
     "previous": "d78c21ea-41bb-11eb-aed8-0242ac110002-4-d768-5982-b400-cfe9"
    },
    "lc_wrapper": {
     "log_history": [
      "/home/jovyan/digraj202103/.log/20201219/20201219-053801-0392.log",
      "/home/jovyan/digraj202103/.log/20201219/20201219-075942-0532.log",
      "/home/jovyan/digraj202103/.log/20201225/20201225-074656-0157.log",
      "/home/jovyan/digraj202103/.log/20201225/20201225-132043-0024.log",
      "/home/jovyan/digraj202103/.log/20201226/20201226-133603-0647.log",
      "/home/jovyan/digraj202103/.log/20201226/20201226-143514-0078.log"
     ]
    },
    "outputId": "e78b5011-3eac-4fc8-aa0a-ee208ae3992d",
    "run_through_control": {
     "frozen": true
    }
   },
   "outputs": [
    {
     "name": "stdout",
     "output_type": "stream",
     "text": [
      "20201219-gamemechの分析.ipynb  chapg.dot  gamemech2.dot  gamemech.dot  start.sh\r\n",
      "20201226-gamemechの分析.ipynb  chapg.png  gamemech2.png  README.md\r\n"
     ]
    }
   ],
   "source": [
    "!ls"
   ]
  },
  {
   "cell_type": "markdown",
   "metadata": {
    "id": "rvFev7bAcFHH",
    "lc_cell_meme": {
     "current": "d78c2460-41bb-11eb-aed8-0242ac110002-4-2013-3fba-d374-6e74",
     "history": [
      {
       "current": "d78c2460-41bb-11eb-aed8-0242ac110002",
       "next": "d78c2500-41bb-11eb-aed8-0242ac110002",
       "previous": "d78c23c0-41bb-11eb-aed8-0242ac110002"
      },
      {
       "current": "d78c2460-41bb-11eb-aed8-0242ac110002",
       "next": "0fe29b6a-41c5-11eb-aed8-0242ac110002",
       "previous": "d78c23c0-41bb-11eb-aed8-0242ac110002"
      },
      {
       "current": "d78c2460-41bb-11eb-aed8-0242ac110002-1-2013",
       "next": "0fe29b6a-41c5-11eb-aed8-0242ac110002-1-0a39",
       "previous": "d78c23c0-41bb-11eb-aed8-0242ac110002"
      },
      {
       "current": "d78c2460-41bb-11eb-aed8-0242ac110002-2-2013-3fba",
       "next": "0fe29b6a-41c5-11eb-aed8-0242ac110002-2-0a39-a2ce",
       "previous": "d78c23c0-41bb-11eb-aed8-0242ac110002-1-ef6b"
      },
      {
       "current": "d78c2460-41bb-11eb-aed8-0242ac110002-3-2013-3fba-d374",
       "next": "0fe29b6a-41c5-11eb-aed8-0242ac110002-3-0a39-a2ce-cb4d",
       "previous": "d78c23c0-41bb-11eb-aed8-0242ac110002-2-ef6b-22b4"
      },
      {
       "current": "d78c2460-41bb-11eb-aed8-0242ac110002-4-2013-3fba-d374-6e74",
       "next": "0fe29b6a-41c5-11eb-aed8-0242ac110002-4-0a39-a2ce-cb4d-b86c",
       "previous": "d78c23c0-41bb-11eb-aed8-0242ac110002-3-ef6b-22b4-faa1"
      }
     ],
     "next": "0fe29b6a-41c5-11eb-aed8-0242ac110002-5-0a39-a2ce-cb4d-b86c-0b8e",
     "previous": "d78c23c0-41bb-11eb-aed8-0242ac110002-4-ef6b-22b4-faa1-fbf6"
    }
   },
   "source": [
    "## 読み込み"
   ]
  },
  {
   "cell_type": "code",
   "execution_count": 5,
   "metadata": {
    "deletable": false,
    "editable": false,
    "lc_cell_meme": {
     "current": "0fe29b6a-41c5-11eb-aed8-0242ac110002-5-0a39-a2ce-cb4d-b86c-0b8e",
     "execution_end_time": "2020-12-26T14:35:15.026753Z",
     "history": [
      {
       "current": "0fe29b6a-41c5-11eb-aed8-0242ac110002-1-0a39",
       "next": "d78c2500-41bb-11eb-aed8-0242ac110002",
       "previous": "d78c2460-41bb-11eb-aed8-0242ac110002"
      },
      {
       "current": "0fe29b6a-41c5-11eb-aed8-0242ac110002-2-0a39-a2ce",
       "next": "b96ea8e2-41cd-11eb-aed8-0242ac110002",
       "previous": "d78c2460-41bb-11eb-aed8-0242ac110002"
      },
      {
       "current": "0fe29b6a-41c5-11eb-aed8-0242ac110002-3-0a39-a2ce-cb4d",
       "next": "b96ea8e2-41cd-11eb-aed8-0242ac110002-1-b13b",
       "previous": "d78c2460-41bb-11eb-aed8-0242ac110002-1-2013"
      },
      {
       "current": "0fe29b6a-41c5-11eb-aed8-0242ac110002-4-0a39-a2ce-cb4d-b86c",
       "next": "b96ea8e2-41cd-11eb-aed8-0242ac110002-2-b13b-0554",
       "previous": "d78c2460-41bb-11eb-aed8-0242ac110002-2-2013-3fba"
      },
      {
       "current": "0fe29b6a-41c5-11eb-aed8-0242ac110002-5-0a39-a2ce-cb4d-b86c-0b8e",
       "next": "b96ea8e2-41cd-11eb-aed8-0242ac110002-3-b13b-0554-49ee",
       "previous": "d78c2460-41bb-11eb-aed8-0242ac110002-3-2013-3fba-d374"
      }
     ],
     "next": "b96ea8e2-41cd-11eb-aed8-0242ac110002-4-b13b-0554-49ee-06a9",
     "previous": "d78c2460-41bb-11eb-aed8-0242ac110002-4-2013-3fba-d374-6e74"
    },
    "lc_wrapper": {
     "log_history": [
      "/home/jovyan/digraj202103/.log/20201219/20201219-064033-0690.log",
      "/home/jovyan/digraj202103/.log/20201219/20201219-064154-0191.log",
      "/home/jovyan/digraj202103/.log/20201219/20201219-064353-0969.log",
      "/home/jovyan/digraj202103/.log/20201219/20201219-064436-0442.log",
      "/home/jovyan/digraj202103/.log/20201219/20201219-072239-0607.log",
      "/home/jovyan/digraj202103/.log/20201219/20201219-072258-0932.log",
      "/home/jovyan/digraj202103/.log/20201219/20201219-072524-0863.log",
      "/home/jovyan/digraj202103/.log/20201219/20201219-072645-0959.log",
      "/home/jovyan/digraj202103/.log/20201219/20201219-072758-0932.log",
      "/home/jovyan/digraj202103/.log/20201219/20201219-073425-0022.log",
      "/home/jovyan/digraj202103/.log/20201219/20201219-075943-0217.log",
      "/home/jovyan/digraj202103/.log/20201225/20201225-074656-0935.log",
      "/home/jovyan/digraj202103/.log/20201225/20201225-132043-0639.log",
      "/home/jovyan/digraj202103/.log/20201226/20201226-133604-0546.log",
      "/home/jovyan/digraj202103/.log/20201226/20201226-143515-0006.log"
     ]
    },
    "run_through_control": {
     "frozen": true
    }
   },
   "outputs": [],
   "source": [
    "from pygraphviz import *\n",
    "g = AGraph(\"gamemech.dot\")"
   ]
  },
  {
   "cell_type": "markdown",
   "metadata": {
    "lc_cell_meme": {
     "current": "b96ea8e2-41cd-11eb-aed8-0242ac110002-4-b13b-0554-49ee-06a9",
     "history": [
      {
       "current": "b96ea8e2-41cd-11eb-aed8-0242ac110002",
       "next": "0fe29b6a-41c5-11eb-aed8-0242ac110002",
       "previous": "0fe29b6a-41c5-11eb-aed8-0242ac110002-1-0a39"
      },
      {
       "current": "b96ea8e2-41cd-11eb-aed8-0242ac110002-1-b13b",
       "next": "0fe29b6a-41c5-11eb-aed8-0242ac110002-1-2d87",
       "previous": "0fe29b6a-41c5-11eb-aed8-0242ac110002-1-0a39"
      },
      {
       "current": "b96ea8e2-41cd-11eb-aed8-0242ac110002-2-b13b-0554",
       "next": "0fe29b6a-41c5-11eb-aed8-0242ac110002-2-2d87-a8f9",
       "previous": "0fe29b6a-41c5-11eb-aed8-0242ac110002-2-0a39-a2ce"
      },
      {
       "current": "b96ea8e2-41cd-11eb-aed8-0242ac110002-3-b13b-0554-49ee",
       "next": "0fe29b6a-41c5-11eb-aed8-0242ac110002-3-2d87-a8f9-6b4b",
       "previous": "0fe29b6a-41c5-11eb-aed8-0242ac110002-3-0a39-a2ce-cb4d"
      },
      {
       "current": "b96ea8e2-41cd-11eb-aed8-0242ac110002-4-b13b-0554-49ee-06a9",
       "next": "0fe29b6a-41c5-11eb-aed8-0242ac110002-4-2d87-a8f9-6b4b-e073",
       "previous": "0fe29b6a-41c5-11eb-aed8-0242ac110002-4-0a39-a2ce-cb4d-b86c"
      }
     ],
     "next": "0fe29b6a-41c5-11eb-aed8-0242ac110002-5-2d87-a8f9-6b4b-e073-0872",
     "previous": "0fe29b6a-41c5-11eb-aed8-0242ac110002-5-0a39-a2ce-cb4d-b86c-0b8e"
    }
   },
   "source": [
    "## 隣接行列の折り返しと上三角化（正規化）"
   ]
  },
  {
   "cell_type": "code",
   "execution_count": 6,
   "metadata": {
    "deletable": false,
    "editable": false,
    "lc_cell_meme": {
     "current": "0fe29b6a-41c5-11eb-aed8-0242ac110002-5-2d87-a8f9-6b4b-e073-0872",
     "execution_end_time": "2020-12-26T14:35:34.766949Z",
     "history": [
      {
       "current": "0fe29b6a-41c5-11eb-aed8-0242ac110002",
       "next": "d78c2500-41bb-11eb-aed8-0242ac110002",
       "previous": "d78c2460-41bb-11eb-aed8-0242ac110002"
      },
      {
       "current": "0fe29b6a-41c5-11eb-aed8-0242ac110002-1-2d87",
       "next": "d78c2500-41bb-11eb-aed8-0242ac110002",
       "previous": "b96ea8e2-41cd-11eb-aed8-0242ac110002"
      },
      {
       "current": "0fe29b6a-41c5-11eb-aed8-0242ac110002-2-2d87-a8f9",
       "next": "00b412aa-41ce-11eb-aed8-0242ac110002",
       "previous": "b96ea8e2-41cd-11eb-aed8-0242ac110002"
      },
      {
       "current": "0fe29b6a-41c5-11eb-aed8-0242ac110002-3-2d87-a8f9-6b4b",
       "next": "00b412aa-41ce-11eb-aed8-0242ac110002-1-69de",
       "previous": "b96ea8e2-41cd-11eb-aed8-0242ac110002-1-b13b"
      },
      {
       "current": "0fe29b6a-41c5-11eb-aed8-0242ac110002-4-2d87-a8f9-6b4b-e073",
       "next": "00b412aa-41ce-11eb-aed8-0242ac110002-2-69de-eca1",
       "previous": "b96ea8e2-41cd-11eb-aed8-0242ac110002-2-b13b-0554"
      },
      {
       "current": "0fe29b6a-41c5-11eb-aed8-0242ac110002-5-2d87-a8f9-6b4b-e073-0872",
       "next": "00b412aa-41ce-11eb-aed8-0242ac110002-3-69de-eca1-9441",
       "previous": "b96ea8e2-41cd-11eb-aed8-0242ac110002-3-b13b-0554-49ee"
      }
     ],
     "next": "00b412aa-41ce-11eb-aed8-0242ac110002-4-69de-eca1-9441-6b2a",
     "previous": "b96ea8e2-41cd-11eb-aed8-0242ac110002-4-b13b-0554-49ee-06a9"
    },
    "lc_wrapper": {
     "log_history": [
      "/home/jovyan/digraj202103/.log/20201219/20201219-064033-0690.log",
      "/home/jovyan/digraj202103/.log/20201219/20201219-064154-0191.log",
      "/home/jovyan/digraj202103/.log/20201219/20201219-064353-0969.log",
      "/home/jovyan/digraj202103/.log/20201219/20201219-064436-0442.log",
      "/home/jovyan/digraj202103/.log/20201219/20201219-072239-0607.log",
      "/home/jovyan/digraj202103/.log/20201219/20201219-072258-0932.log",
      "/home/jovyan/digraj202103/.log/20201219/20201219-072524-0863.log",
      "/home/jovyan/digraj202103/.log/20201219/20201219-072645-0959.log",
      "/home/jovyan/digraj202103/.log/20201219/20201219-072758-0932.log",
      "/home/jovyan/digraj202103/.log/20201219/20201219-073425-0022.log",
      "/home/jovyan/digraj202103/.log/20201219/20201219-075943-0238.log",
      "/home/jovyan/digraj202103/.log/20201225/20201225-074656-0961.log",
      "/home/jovyan/digraj202103/.log/20201225/20201225-132043-0655.log",
      "/home/jovyan/digraj202103/.log/20201226/20201226-133604-0575.log",
      "/home/jovyan/digraj202103/.log/20201226/20201226-143515-0038.log"
     ]
    },
    "run_through_control": {
     "frozen": true
    }
   },
   "outputs": [],
   "source": [
    "nodes = g.nodes()\n",
    "edges = g.edges()\n",
    "\n",
    "for edge in edges:\n",
    "    if nodes.index(edge[0]) > nodes.index(edge[1]):\n",
    "        g.delete_edge(edge[0], edge[1])\n",
    "        if not (edge[1], edge[0]) in edges:\n",
    "            g.add_edge(edge[1], edge[0])\n",
    "\n",
    "g.write(\"gamemech2.dot\")\n",
    "\n",
    "!dot -Tpng gamemech2.dot -ogamemech2.png"
   ]
  },
  {
   "cell_type": "markdown",
   "metadata": {
    "lc_cell_meme": {
     "current": "00b412aa-41ce-11eb-aed8-0242ac110002-4-69de-eca1-9441-6b2a",
     "history": [
      {
       "current": "00b412aa-41ce-11eb-aed8-0242ac110002",
       "next": "0fe29b6a-41c5-11eb-aed8-0242ac110002",
       "previous": "0fe29b6a-41c5-11eb-aed8-0242ac110002-1-2d87"
      },
      {
       "current": "00b412aa-41ce-11eb-aed8-0242ac110002-1-69de",
       "next": "487be4aa-41ce-11eb-aed8-0242ac110002",
       "previous": "0fe29b6a-41c5-11eb-aed8-0242ac110002-1-2d87"
      },
      {
       "current": "00b412aa-41ce-11eb-aed8-0242ac110002-2-69de-eca1",
       "next": "487be4aa-41ce-11eb-aed8-0242ac110002-1-ea87",
       "previous": "0fe29b6a-41c5-11eb-aed8-0242ac110002-2-2d87-a8f9"
      },
      {
       "current": "00b412aa-41ce-11eb-aed8-0242ac110002-3-69de-eca1-9441",
       "next": "487be4aa-41ce-11eb-aed8-0242ac110002-2-ea87-d481",
       "previous": "0fe29b6a-41c5-11eb-aed8-0242ac110002-3-2d87-a8f9-6b4b"
      },
      {
       "current": "00b412aa-41ce-11eb-aed8-0242ac110002-4-69de-eca1-9441-6b2a",
       "next": "487be4aa-41ce-11eb-aed8-0242ac110002-3-ea87-d481-f626",
       "previous": "0fe29b6a-41c5-11eb-aed8-0242ac110002-4-2d87-a8f9-6b4b-e073"
      }
     ],
     "next": "487be4aa-41ce-11eb-aed8-0242ac110002-4-ea87-d481-f626-0acf",
     "previous": "0fe29b6a-41c5-11eb-aed8-0242ac110002-5-2d87-a8f9-6b4b-e073-0872"
    }
   },
   "source": [
    "gamemech2.dotに正規化した内容を出力"
   ]
  },
  {
   "cell_type": "markdown",
   "metadata": {
    "lc_cell_meme": {
     "current": "487be4aa-41ce-11eb-aed8-0242ac110002-4-ea87-d481-f626-0acf",
     "history": [
      {
       "current": "487be4aa-41ce-11eb-aed8-0242ac110002-1-ea87",
       "next": "0fe29b6a-41c5-11eb-aed8-0242ac110002",
       "previous": "00b412aa-41ce-11eb-aed8-0242ac110002"
      },
      {
       "current": "487be4aa-41ce-11eb-aed8-0242ac110002-2-ea87-d481",
       "next": "0fe29b6a-41c5-11eb-aed8-0242ac110002-1-a54d",
       "previous": "00b412aa-41ce-11eb-aed8-0242ac110002-1-69de"
      },
      {
       "current": "487be4aa-41ce-11eb-aed8-0242ac110002-3-ea87-d481-f626",
       "next": "0fe29b6a-41c5-11eb-aed8-0242ac110002-2-a54d-a710",
       "previous": "00b412aa-41ce-11eb-aed8-0242ac110002-2-69de-eca1"
      },
      {
       "current": "487be4aa-41ce-11eb-aed8-0242ac110002-4-ea87-d481-f626-0acf",
       "next": "0fe29b6a-41c5-11eb-aed8-0242ac110002-3-a54d-a710-bd9b",
       "previous": "00b412aa-41ce-11eb-aed8-0242ac110002-3-69de-eca1-9441"
      }
     ],
     "next": "0fe29b6a-41c5-11eb-aed8-0242ac110002-4-a54d-a710-bd9b-6219",
     "previous": "00b412aa-41ce-11eb-aed8-0242ac110002-4-69de-eca1-9441-6b2a"
    }
   },
   "source": [
    "## 同一分類内の関係の洗い出し"
   ]
  },
  {
   "cell_type": "code",
   "execution_count": 7,
   "metadata": {
    "deletable": false,
    "editable": false,
    "lc_cell_meme": {
     "current": "0fe29b6a-41c5-11eb-aed8-0242ac110002-4-a54d-a710-bd9b-6219",
     "execution_end_time": "2020-12-26T14:35:34.825624Z",
     "history": [
      {
       "current": "0fe29b6a-41c5-11eb-aed8-0242ac110002",
       "next": "d78c2500-41bb-11eb-aed8-0242ac110002",
       "previous": "d78c2460-41bb-11eb-aed8-0242ac110002"
      },
      {
       "current": "0fe29b6a-41c5-11eb-aed8-0242ac110002",
       "next": "d78c2500-41bb-11eb-aed8-0242ac110002",
       "previous": "b96ea8e2-41cd-11eb-aed8-0242ac110002"
      },
      {
       "current": "0fe29b6a-41c5-11eb-aed8-0242ac110002",
       "next": "d78c2500-41bb-11eb-aed8-0242ac110002",
       "previous": "00b412aa-41ce-11eb-aed8-0242ac110002"
      },
      {
       "current": "0fe29b6a-41c5-11eb-aed8-0242ac110002",
       "next": "d78c2500-41bb-11eb-aed8-0242ac110002",
       "previous": "487be4aa-41ce-11eb-aed8-0242ac110002"
      },
      {
       "current": "0fe29b6a-41c5-11eb-aed8-0242ac110002-1-a54d",
       "next": "6654e0d4-41cf-11eb-aed8-0242ac110002",
       "previous": "487be4aa-41ce-11eb-aed8-0242ac110002"
      },
      {
       "current": "0fe29b6a-41c5-11eb-aed8-0242ac110002-2-a54d-a710",
       "next": "6654e0d4-41cf-11eb-aed8-0242ac110002-1-cd5d",
       "previous": "487be4aa-41ce-11eb-aed8-0242ac110002-1-ea87"
      },
      {
       "current": "0fe29b6a-41c5-11eb-aed8-0242ac110002-3-a54d-a710-bd9b",
       "next": "6654e0d4-41cf-11eb-aed8-0242ac110002-2-cd5d-5826",
       "previous": "487be4aa-41ce-11eb-aed8-0242ac110002-2-ea87-d481"
      },
      {
       "current": "0fe29b6a-41c5-11eb-aed8-0242ac110002-4-a54d-a710-bd9b-6219",
       "next": "6654e0d4-41cf-11eb-aed8-0242ac110002-3-cd5d-5826-0445",
       "previous": "487be4aa-41ce-11eb-aed8-0242ac110002-3-ea87-d481-f626"
      }
     ],
     "next": "6654e0d4-41cf-11eb-aed8-0242ac110002-4-cd5d-5826-0445-14fe",
     "previous": "487be4aa-41ce-11eb-aed8-0242ac110002-4-ea87-d481-f626-0acf"
    },
    "lc_wrapper": {
     "log_history": [
      "/home/jovyan/digraj202103/.log/20201219/20201219-064033-0690.log",
      "/home/jovyan/digraj202103/.log/20201219/20201219-064154-0191.log",
      "/home/jovyan/digraj202103/.log/20201219/20201219-064353-0969.log",
      "/home/jovyan/digraj202103/.log/20201219/20201219-064436-0442.log",
      "/home/jovyan/digraj202103/.log/20201219/20201219-072239-0607.log",
      "/home/jovyan/digraj202103/.log/20201219/20201219-072258-0932.log",
      "/home/jovyan/digraj202103/.log/20201219/20201219-072524-0863.log",
      "/home/jovyan/digraj202103/.log/20201219/20201219-072645-0959.log",
      "/home/jovyan/digraj202103/.log/20201219/20201219-072758-0932.log",
      "/home/jovyan/digraj202103/.log/20201219/20201219-073425-0022.log",
      "/home/jovyan/digraj202103/.log/20201219/20201219-074853-0077.log",
      "/home/jovyan/digraj202103/.log/20201219/20201219-075158-0868.log",
      "/home/jovyan/digraj202103/.log/20201219/20201219-075959-0806.log",
      "/home/jovyan/digraj202103/.log/20201225/20201225-074716-0083.log",
      "/home/jovyan/digraj202103/.log/20201225/20201225-132056-0011.log",
      "/home/jovyan/digraj202103/.log/20201226/20201226-133624-0696.log",
      "/home/jovyan/digraj202103/.log/20201226/20201226-143534-0776.log"
     ]
    },
    "run_through_control": {
     "frozen": true
    }
   },
   "outputs": [
    {
     "name": "stdout",
     "output_type": "stream",
     "text": [
      "\n",
      "str\n",
      "('str02', 'str04')\n",
      "('str02', 'str05')\n",
      "('str02', 'str07')\n",
      "('str03', 'str07')\n",
      "\n",
      "trn\n",
      "('trn01', 'trn04')\n",
      "('trn01', 'trn05')\n",
      "('trn02', 'trn05')\n",
      "('trn02', 'trn15')\n",
      "('trn05', 'trn06')\n",
      "('trn07', 'trn08')\n",
      "('trn07', 'trn12')\n",
      "('trn07', 'trn14')\n",
      "('trn09', 'trn10')\n",
      "('trn10', 'trn16')\n",
      "('trn12', 'trn14')\n",
      "('trn14', 'trn16')\n",
      "('trn16', 'trn17')\n",
      "\n",
      "act\n",
      "('act01', 'act04')\n",
      "('act01', 'act10')\n",
      "('act02', 'act08')\n",
      "('act02', 'act11')\n",
      "('act03', 'act11')\n",
      "('act03', 'act13')\n",
      "('act04', 'act17')\n",
      "('act05', 'act11')\n",
      "('act06', 'act07')\n",
      "('act06', 'act09')\n",
      "('act07', 'act08')\n",
      "('act10', 'act11')\n",
      "('act12', 'act14')\n",
      "('act13', 'act14')\n",
      "('act15', 'act16')\n",
      "('act15', 'act18')\n",
      "\n",
      "res\n",
      "('res01', 'res02')\n",
      "('res01', 'res05')\n",
      "('res01', 'res07')\n",
      "('res01', 'res14')\n",
      "('res01', 'res18')\n",
      "('res02', 'res05')\n",
      "('res02', 'res07')\n",
      "('res02', 'res13')\n",
      "('res02', 'res21')\n",
      "('res03', 'res04')\n",
      "('res07', 'res08')\n",
      "('res13', 'res14')\n",
      "('res18', 'res20')\n",
      "\n",
      "vic\n",
      "('vic01', 'vic02')\n",
      "('vic01', 'vic07')\n",
      "('vic01', 'vic12')\n",
      "('vic02', 'vic11')\n",
      "('vic04', 'vic18')\n",
      "('vic05', 'vic06')\n",
      "('vic05', 'vic09')\n",
      "('vic05', 'vic15')\n",
      "('vic06', 'vic11')\n",
      "('vic07', 'vic11')\n",
      "('vic07', 'vic14')\n",
      "('vic10', 'vic11')\n",
      "('vic11', 'vic19')\n",
      "('vic14', 'vic16')\n",
      "('vic15', 'vic19')\n",
      "('vic17', 'vic18')\n",
      "\n",
      "unc\n",
      "('unc01', 'unc02')\n",
      "('unc01', 'unc04')\n",
      "('unc01', 'unc08')\n",
      "('unc01', 'unc09')\n",
      "('unc01', 'unc11')\n",
      "('unc04', 'unc05')\n",
      "('unc04', 'unc08')\n",
      "('unc07', 'unc10')\n",
      "('unc08', 'unc10')\n",
      "\n",
      "eco\n",
      "('eco01', 'eco02')\n",
      "('eco01', 'eco03')\n",
      "('eco01', 'eco05')\n",
      "('eco01', 'eco10')\n",
      "('eco02', 'eco16')\n",
      "('eco02', 'eco18')\n",
      "('eco03', 'eco05')\n",
      "('eco05', 'eco06')\n",
      "('eco05', 'eco07')\n",
      "('eco05', 'eco12')\n",
      "('eco05', 'eco14')\n",
      "('eco10', 'eco11')\n",
      "('eco13', 'eco14')\n",
      "('eco16', 'eco18')\n",
      "('eco18', 'eco19')\n",
      "\n",
      "auc\n",
      "('auc01', 'auc02')\n",
      "('auc01', 'auc03')\n",
      "('auc02', 'auc03')\n",
      "('auc02', 'auc08')\n",
      "('auc02', 'auc09')\n",
      "('auc03', 'auc04')\n",
      "('auc03', 'auc09')\n",
      "('auc03', 'auc13')\n",
      "('auc04', 'auc07')\n",
      "('auc04', 'auc09')\n",
      "('auc04', 'auc11')\n",
      "('auc04', 'auc13')\n",
      "('auc05', 'auc06')\n",
      "('auc05', 'auc11')\n",
      "('auc06', 'auc07')\n",
      "('auc06', 'auc10')\n",
      "('auc06', 'auc13')\n",
      "('auc06', 'auc15')\n",
      "('auc08', 'auc09')\n",
      "('auc08', 'auc16')\n",
      "('auc11', 'auc13')\n",
      "('auc11', 'auc15')\n",
      "('auc11', 'auc16')\n",
      "\n",
      "wpl\n",
      "('wpl01', 'wpl02')\n",
      "('wpl03', 'wpl08')\n",
      "('wpl04', 'wpl05')\n",
      "('wpl05', 'wpl08')\n",
      "\n",
      "mov\n",
      "('mov01', 'mov02')\n",
      "('mov01', 'mov24')\n",
      "('mov02', 'mov05')\n",
      "('mov02', 'mov07')\n",
      "('mov02', 'mov23')\n",
      "('mov04', 'mov06')\n",
      "('mov04', 'mov07')\n",
      "('mov06', 'mov20')\n",
      "('mov10', 'mov14')\n",
      "('mov10', 'mov20')\n",
      "\n",
      "arc\n",
      "('arc02', 'arc03')\n",
      "('arc02', 'arc06')\n",
      "('arc05', 'arc06')\n",
      "('arc05', 'arc08')\n",
      "('arc06', 'arc07')\n",
      "('arc06', 'arc08')\n",
      "\n",
      "set\n",
      "('set01', 'set04')\n",
      "('set01', 'set05')\n",
      "('set02', 'set04')\n",
      "\n",
      "car\n",
      "('car01', 'car02')\n",
      "('car03', 'car04')\n"
     ]
    }
   ],
   "source": [
    "label = \"\"\n",
    "for edge in g.edges():\n",
    "    if label != edge[0][0:3]:\n",
    "        label = edge[0][0:3]\n",
    "        print(\"\\n\"+label)\n",
    "    if edge[0].startswith(edge[1][0:3]):\n",
    "        print(edge)"
   ]
  },
  {
   "cell_type": "markdown",
   "metadata": {
    "lc_cell_meme": {
     "current": "6654e0d4-41cf-11eb-aed8-0242ac110002-4-cd5d-5826-0445-14fe",
     "history": [
      {
       "current": "6654e0d4-41cf-11eb-aed8-0242ac110002",
       "next": null,
       "previous": "0fe29b6a-41c5-11eb-aed8-0242ac110002"
      },
      {
       "current": "6654e0d4-41cf-11eb-aed8-0242ac110002-1-cd5d",
       "next": "976f40a6-41cf-11eb-aed8-0242ac110002",
       "previous": "0fe29b6a-41c5-11eb-aed8-0242ac110002"
      },
      {
       "current": "6654e0d4-41cf-11eb-aed8-0242ac110002-2-cd5d-5826",
       "next": "976f40a6-41cf-11eb-aed8-0242ac110002-1-60db",
       "previous": "0fe29b6a-41c5-11eb-aed8-0242ac110002-1-a54d"
      },
      {
       "current": "6654e0d4-41cf-11eb-aed8-0242ac110002-3-cd5d-5826-0445",
       "next": "976f40a6-41cf-11eb-aed8-0242ac110002-3-60db-2644-3cd5",
       "previous": "0fe29b6a-41c5-11eb-aed8-0242ac110002-2-a54d-a710"
      },
      {
       "current": "6654e0d4-41cf-11eb-aed8-0242ac110002-4-cd5d-5826-0445-14fe",
       "next": "3c213ca2-46b3-11eb-ae4f-0242ac110002",
       "previous": "0fe29b6a-41c5-11eb-aed8-0242ac110002-3-a54d-a710-bd9b"
      }
     ],
     "next": "3c213ca2-46b3-11eb-ae4f-0242ac110002-1-cdcc",
     "previous": "0fe29b6a-41c5-11eb-aed8-0242ac110002-4-a54d-a710-bd9b-6219"
    }
   },
   "source": [
    "同一分類内の関係は、継承（汎化）関係の可能性があり、族の存在が見つかる可能性がある。"
   ]
  },
  {
   "cell_type": "code",
   "execution_count": 8,
   "metadata": {
    "deletable": false,
    "editable": false,
    "lc_cell_meme": {
     "current": "3c213ca2-46b3-11eb-ae4f-0242ac110002-1-cdcc",
     "execution_end_time": "2020-12-26T14:35:35.910068Z",
     "history": [
      {
       "current": "3c213ca2-46b3-11eb-ae4f-0242ac110002-1-cdcc",
       "next": "976f40a6-41cf-11eb-aed8-0242ac110002-4-60db-2644-3cd5-2b5b",
       "previous": "6654e0d4-41cf-11eb-aed8-0242ac110002-3-cd5d-5826-0445"
      }
     ],
     "next": "976f40a6-41cf-11eb-aed8-0242ac110002-5-60db-2644-3cd5-2b5b-54ec",
     "previous": "6654e0d4-41cf-11eb-aed8-0242ac110002-4-cd5d-5826-0445-14fe"
    },
    "lc_wrapper": {
     "log_history": [
      "/home/jovyan/digraj202103/.log/20201225/20201225-132056-0045.log",
      "/home/jovyan/digraj202103/.log/20201225/20201225-133829-0991.log",
      "/home/jovyan/digraj202103/.log/20201225/20201225-133845-0326.log",
      "/home/jovyan/digraj202103/.log/20201225/20201225-134048-0375.log",
      "/home/jovyan/digraj202103/.log/20201225/20201225-135415-0333.log",
      "/home/jovyan/digraj202103/.log/20201225/20201225-135439-0496.log",
      "/home/jovyan/digraj202103/.log/20201225/20201225-135507-0051.log",
      "/home/jovyan/digraj202103/.log/20201225/20201225-135716-0913.log",
      "/home/jovyan/digraj202103/.log/20201225/20201225-135723-0731.log",
      "/home/jovyan/digraj202103/.log/20201225/20201225-135750-0211.log",
      "/home/jovyan/digraj202103/.log/20201225/20201225-135807-0391.log",
      "/home/jovyan/digraj202103/.log/20201225/20201225-140119-0543.log",
      "/home/jovyan/digraj202103/.log/20201225/20201225-140309-0403.log",
      "/home/jovyan/digraj202103/.log/20201225/20201225-140408-0965.log",
      "/home/jovyan/digraj202103/.log/20201225/20201225-140434-0061.log",
      "/home/jovyan/digraj202103/.log/20201225/20201225-140520-0214.log",
      "/home/jovyan/digraj202103/.log/20201225/20201225-140553-0537.log",
      "/home/jovyan/digraj202103/.log/20201225/20201225-140814-0989.log",
      "/home/jovyan/digraj202103/.log/20201225/20201225-140829-0112.log",
      "/home/jovyan/digraj202103/.log/20201225/20201225-141019-0971.log",
      "/home/jovyan/digraj202103/.log/20201225/20201225-141103-0525.log",
      "/home/jovyan/digraj202103/.log/20201225/20201225-141337-0547.log",
      "/home/jovyan/digraj202103/.log/20201225/20201225-141516-0366.log",
      "/home/jovyan/digraj202103/.log/20201225/20201225-141654-0104.log",
      "/home/jovyan/digraj202103/.log/20201225/20201225-143142-0789.log",
      "/home/jovyan/digraj202103/.log/20201225/20201225-143158-0662.log",
      "/home/jovyan/digraj202103/.log/20201225/20201225-143746-0183.log",
      "/home/jovyan/digraj202103/.log/20201225/20201225-144244-0495.log",
      "/home/jovyan/digraj202103/.log/20201226/20201226-133705-0191.log",
      "/home/jovyan/digraj202103/.log/20201226/20201226-133808-0397.log",
      "/home/jovyan/digraj202103/.log/20201226/20201226-133901-0277.log",
      "/home/jovyan/digraj202103/.log/20201226/20201226-134144-0382.log",
      "/home/jovyan/digraj202103/.log/20201226/20201226-134237-0708.log",
      "/home/jovyan/digraj202103/.log/20201226/20201226-134301-0564.log",
      "/home/jovyan/digraj202103/.log/20201226/20201226-134423-0895.log",
      "/home/jovyan/digraj202103/.log/20201226/20201226-134537-0460.log",
      "/home/jovyan/digraj202103/.log/20201226/20201226-135411-0327.log",
      "/home/jovyan/digraj202103/.log/20201226/20201226-135429-0028.log",
      "/home/jovyan/digraj202103/.log/20201226/20201226-135538-0516.log",
      "/home/jovyan/digraj202103/.log/20201226/20201226-135900-0505.log",
      "/home/jovyan/digraj202103/.log/20201226/20201226-135914-0827.log",
      "/home/jovyan/digraj202103/.log/20201226/20201226-140032-0344.log",
      "/home/jovyan/digraj202103/.log/20201226/20201226-141555-0967.log",
      "/home/jovyan/digraj202103/.log/20201226/20201226-142313-0079.log",
      "/home/jovyan/digraj202103/.log/20201226/20201226-142328-0245.log",
      "/home/jovyan/digraj202103/.log/20201226/20201226-142532-0495.log",
      "/home/jovyan/digraj202103/.log/20201226/20201226-142918-0653.log",
      "/home/jovyan/digraj202103/.log/20201226/20201226-143409-0106.log",
      "/home/jovyan/digraj202103/.log/20201226/20201226-143534-0850.log"
     ]
    },
    "run_through_control": {
     "frozen": true
    }
   },
   "outputs": [],
   "source": [
    "chapters = {}\n",
    "for node in g.nodes():\n",
    "    if node[0:3] in chapters:\n",
    "        chapters[node[0:3]] += 1\n",
    "    else:\n",
    "        chapters[node[0:3]] = 1\n",
    "\n",
    "chapter_edges = {}\n",
    "for n1 in range(0,len(chapters)-1):\n",
    "    n1str = list(chapters)[n1]\n",
    "    for n2 in range(n1+1,len(chapters)):\n",
    "        n2str = list(chapters)[n2]\n",
    "        if not n1str in chapter_edges:\n",
    "            chapter_edges[n1str] = {}\n",
    "        chapter_edges[n1str].update({n2str:0})\n",
    "\n",
    "for edge in g.edges():\n",
    "    if edge[0][0:3] != edge[1][0:3]:\n",
    "        chapter_edges[edge[0][0:3]][edge[1][0:3]] += 1\n",
    "\n",
    "chapg = AGraph(chapter_edges)\n",
    "chapg.graph_attr['layout']='fdp'\n",
    "\n",
    "for n1 in range(0,len(chapters)-1):\n",
    "    n1str = list(chapters)[n1]\n",
    "    for n2 in range(n1+1,len(chapters)):\n",
    "        n2str = list(chapters)[n2]\n",
    "        if chapter_edges[n1str][n2str] == 0:\n",
    "            chapg.delete_edge(n1str,n2str)\n",
    "        else:\n",
    "            chapg.get_edge(n1str,n2str).attr['weight']=chapter_edges[n1str][n2str]\n",
    "\n",
    "chapg.write(\"chapg.dot\")\n",
    "!dot -Tpng chapg.dot -ochapg.png"
   ]
  },
  {
   "cell_type": "markdown",
   "metadata": {
    "lc_cell_meme": {
     "current": "976f40a6-41cf-11eb-aed8-0242ac110002-5-60db-2644-3cd5-2b5b-54ec",
     "history": [
      {
       "current": "976f40a6-41cf-11eb-aed8-0242ac110002-1-60db",
       "next": null,
       "previous": "6654e0d4-41cf-11eb-aed8-0242ac110002"
      },
      {
       "current": "976f40a6-41cf-11eb-aed8-0242ac110002-3-60db-2644-3cd5",
       "next": null,
       "previous": "6654e0d4-41cf-11eb-aed8-0242ac110002-1-cd5d"
      },
      {
       "current": "976f40a6-41cf-11eb-aed8-0242ac110002-3-60db-2644-3cd5",
       "next": "c0050276-4684-11eb-993d-0242ac110002",
       "previous": "6654e0d4-41cf-11eb-aed8-0242ac110002-2-cd5d-5826"
      },
      {
       "current": "976f40a6-41cf-11eb-aed8-0242ac110002-3-60db-2644-3cd5",
       "next": "9694ffd0-4685-11eb-993d-0242ac110002",
       "previous": "6654e0d4-41cf-11eb-aed8-0242ac110002-2-cd5d-5826"
      },
      {
       "current": "976f40a6-41cf-11eb-aed8-0242ac110002-4-60db-2644-3cd5-2b5b",
       "next": "4b330ac6-468c-11eb-993d-0242ac110002",
       "previous": "6654e0d4-41cf-11eb-aed8-0242ac110002-2-cd5d-5826"
      },
      {
       "current": "976f40a6-41cf-11eb-aed8-0242ac110002-5-60db-2644-3cd5-2b5b-54ec",
       "next": "4b330ac6-468c-11eb-993d-0242ac110002-1-26b0",
       "previous": "3c213ca2-46b3-11eb-ae4f-0242ac110002"
      }
     ],
     "next": "4b330ac6-468c-11eb-993d-0242ac110002-2-26b0-7669",
     "previous": "3c213ca2-46b3-11eb-ae4f-0242ac110002-1-cdcc"
    }
   },
   "source": [
    "## 次数"
   ]
  },
  {
   "cell_type": "code",
   "execution_count": 9,
   "metadata": {
    "deletable": false,
    "editable": false,
    "lc_cell_meme": {
     "current": "4b330ac6-468c-11eb-993d-0242ac110002-2-26b0-7669",
     "execution_end_time": "2020-12-26T14:35:36.762354Z",
     "history": [
      {
       "current": "4b330ac6-468c-11eb-993d-0242ac110002",
       "next": "749ea79a-468b-11eb-993d-0242ac110002",
       "previous": "9e4be4a0-468a-11eb-993d-0242ac110002"
      },
      {
       "current": "4b330ac6-468c-11eb-993d-0242ac110002",
       "next": "9e4be4a0-468a-11eb-993d-0242ac110002",
       "previous": "9694ffd0-4685-11eb-993d-0242ac110002"
      },
      {
       "current": "4b330ac6-468c-11eb-993d-0242ac110002",
       "next": "4b330f4e-468c-11eb-993d-0242ac110002",
       "previous": "749ea79a-468b-11eb-993d-0242ac110002"
      },
      {
       "current": "4b330ac6-468c-11eb-993d-0242ac110002-1-26b0",
       "next": "d6630b6c-4693-11eb-993d-0242ac110002",
       "previous": "976f40a6-41cf-11eb-aed8-0242ac110002-3-60db-2644-3cd5"
      },
      {
       "current": "4b330ac6-468c-11eb-993d-0242ac110002-2-26b0-7669",
       "next": "d6630b6c-4693-11eb-993d-0242ac110002-1-5e88",
       "previous": "976f40a6-41cf-11eb-aed8-0242ac110002-4-60db-2644-3cd5-2b5b"
      }
     ],
     "next": "d6630b6c-4693-11eb-993d-0242ac110002-2-5e88-58a0",
     "previous": "976f40a6-41cf-11eb-aed8-0242ac110002-5-60db-2644-3cd5-2b5b-54ec"
    },
    "lc_wrapper": {
     "log_history": [
      "/home/jovyan/digraj202103/.log/20201225/20201225-083614-0665.log",
      "/home/jovyan/digraj202103/.log/20201225/20201225-090018-0957.log",
      "/home/jovyan/digraj202103/.log/20201225/20201225-090048-0844.log",
      "/home/jovyan/digraj202103/.log/20201225/20201225-090128-0269.log",
      "/home/jovyan/digraj202103/.log/20201225/20201225-090513-0328.log",
      "/home/jovyan/digraj202103/.log/20201225/20201225-090606-0882.log",
      "/home/jovyan/digraj202103/.log/20201225/20201225-090615-0626.log",
      "/home/jovyan/digraj202103/.log/20201225/20201225-090707-0879.log",
      "/home/jovyan/digraj202103/.log/20201225/20201225-092404-0407.log",
      "/home/jovyan/digraj202103/.log/20201225/20201225-092920-0068.log",
      "/home/jovyan/digraj202103/.log/20201226/20201226-143535-0921.log"
     ]
    },
    "run_through_control": {
     "frozen": true
    }
   },
   "outputs": [
    {
     "name": "stdout",
     "output_type": "stream",
     "text": [
      "[(18, 'unc01'),\n",
      " (15, 'arc02'),\n",
      " (11, 'act02'),\n",
      " (10, 'unc04'),\n",
      " (10, 'car06'),\n",
      " (10, 'auc04'),\n",
      " (9, 'str02'),\n",
      " (9, 'car05'),\n",
      " (8, 'trn10'),\n",
      " (8, 'mov02'),\n",
      " (8, 'eco05'),\n",
      " (8, 'car01'),\n",
      " (8, 'auc08'),\n",
      " (7, 'wpl08'),\n",
      " (7, 'wpl05'),\n",
      " (7, 'vic18'),\n",
      " (7, 'vic01'),\n",
      " (7, 'set04'),\n",
      " (7, 'res18'),\n",
      " (7, 'eco18'),\n",
      " (7, 'eco11'),\n",
      " (7, 'auc06'),\n",
      " (7, 'auc03'),\n",
      " (7, 'act15'),\n",
      " (6, 'vic11'),\n",
      " (6, 'vic07'),\n",
      " (6, 'trn05'),\n",
      " (6, 'res02'),\n",
      " (6, 'res01'),\n",
      " (6, 'auc11'),\n",
      " (6, 'arc06'),\n",
      " (6, 'act08'),\n",
      " (6, 'act06'),\n",
      " (6, 'act01'),\n",
      " (5, 'wpl06'),\n",
      " (5, 'vic14'),\n",
      " (5, 'vic06'),\n",
      " (5, 'unc02'),\n",
      " (5, 'trn16'),\n",
      " (5, 'trn09'),\n",
      " (5, 'trn07'),\n",
      " (5, 'trn02'),\n",
      " (5, 'str03'),\n",
      " (5, 'set02'),\n",
      " (5, 'eco13'),\n",
      " (5, 'eco02'),\n",
      " (5, 'auc13'),\n",
      " (5, 'act03'),\n",
      " (4, 'unc10'),\n",
      " (4, 'str07'),\n",
      " (4, 'str05'),\n",
      " (4, 'set05'),\n",
      " (4, 'res14'),\n",
      " (4, 'res07'),\n",
      " (4, 'mov04'),\n",
      " (4, 'mov01'),\n",
      " (4, 'eco16'),\n",
      " (4, 'eco14'),\n",
      " (4, 'eco01'),\n",
      " (4, 'car04'),\n",
      " (4, 'auc09'),\n",
      " (4, 'auc07'),\n",
      " (4, 'auc05'),\n",
      " (4, 'auc02'),\n",
      " (4, 'arc08'),\n",
      " (4, 'act16'),\n",
      " (4, 'act14'),\n",
      " (4, 'act11'),\n",
      " (4, 'act10'),\n",
      " (3, 'wpl07'),\n",
      " (3, 'vic15'),\n",
      " (3, 'vic13'),\n",
      " (3, 'vic05'),\n",
      " (3, 'unc09'),\n",
      " (3, 'unc08'),\n",
      " (3, 'unc05'),\n",
      " (3, 'trn17'),\n",
      " (3, 'trn15'),\n",
      " (3, 'trn14'),\n",
      " (3, 'trn11'),\n",
      " (3, 'trn04'),\n",
      " (3, 'trn03'),\n",
      " (3, 'set01'),\n",
      " (3, 'res12'),\n",
      " (3, 'res08'),\n",
      " (3, 'res06'),\n",
      " (3, 'mov24'),\n",
      " (3, 'mov20'),\n",
      " (3, 'mov10'),\n",
      " (3, 'eco19'),\n",
      " (3, 'eco10'),\n",
      " (3, 'arc05'),\n",
      " (3, 'act07'),\n",
      " (3, 'act05'),\n",
      " (2, 'wpl02'),\n",
      " (2, 'vic19'),\n",
      " (2, 'vic10'),\n",
      " (2, 'vic08'),\n",
      " (2, 'vic04'),\n",
      " (2, 'vic02'),\n",
      " (2, 'unc07'),\n",
      " (2, 'unc06'),\n",
      " (2, 'unc03'),\n",
      " (2, 'trn13'),\n",
      " (2, 'trn12'),\n",
      " (2, 'trn06'),\n",
      " (2, 'trn01'),\n",
      " (2, 'str10'),\n",
      " (2, 'str01'),\n",
      " (2, 'res22'),\n",
      " (2, 'res21'),\n",
      " (2, 'res20'),\n",
      " (2, 'res15'),\n",
      " (2, 'res13'),\n",
      " (2, 'res11'),\n",
      " (2, 'res05'),\n",
      " (2, 'mov16'),\n",
      " (2, 'mov15'),\n",
      " (2, 'mov07'),\n",
      " (2, 'mov06'),\n",
      " (2, 'mov03'),\n",
      " (2, 'eco03'),\n",
      " (2, 'auc16'),\n",
      " (2, 'auc15'),\n",
      " (2, 'auc14'),\n",
      " (2, 'auc01'),\n",
      " (2, 'arc07'),\n",
      " (2, 'act18'),\n",
      " (2, 'act17'),\n",
      " (2, 'act13'),\n",
      " (2, 'act12'),\n",
      " (2, 'act09'),\n",
      " (2, 'act04'),\n",
      " (1, 'wpl04'),\n",
      " (1, 'wpl03'),\n",
      " (1, 'wpl01'),\n",
      " (1, 'vic17'),\n",
      " (1, 'vic16'),\n",
      " (1, 'vic12'),\n",
      " (1, 'vic09'),\n",
      " (1, 'unc11'),\n",
      " (1, 'trn08'),\n",
      " (1, 'str04'),\n",
      " (1, 'set03'),\n",
      " (1, 'res19'),\n",
      " (1, 'res17'),\n",
      " (1, 'res16'),\n",
      " (1, 'res10'),\n",
      " (1, 'res09'),\n",
      " (1, 'res04'),\n",
      " (1, 'res03'),\n",
      " (1, 'mov23'),\n",
      " (1, 'mov22'),\n",
      " (1, 'mov19'),\n",
      " (1, 'mov18'),\n",
      " (1, 'mov14'),\n",
      " (1, 'mov13'),\n",
      " (1, 'mov12'),\n",
      " (1, 'mov11'),\n",
      " (1, 'mov05'),\n",
      " (1, 'eco17'),\n",
      " (1, 'eco15'),\n",
      " (1, 'eco12'),\n",
      " (1, 'eco08'),\n",
      " (1, 'eco07'),\n",
      " (1, 'eco06'),\n",
      " (1, 'eco04'),\n",
      " (1, 'car03'),\n",
      " (1, 'car02'),\n",
      " (1, 'auc12'),\n",
      " (1, 'auc10'),\n",
      " (1, 'arc03'),\n",
      " (1, 'arc01'),\n",
      " (0, 'vic20'),\n",
      " (0, 'vic03'),\n",
      " (0, 'str09'),\n",
      " (0, 'str08'),\n",
      " (0, 'str06'),\n",
      " (0, 'mov21'),\n",
      " (0, 'mov17'),\n",
      " (0, 'mov09'),\n",
      " (0, 'mov08'),\n",
      " (0, 'eco09'),\n",
      " (0, 'arc04')]\n"
     ]
    }
   ],
   "source": [
    "import networkx as nx\n",
    "from pprint import pprint\n",
    "\n",
    "ng = nx.Graph(g)\n",
    "\n",
    "dg = nx.degree(ng)\n",
    "dg_sorted = sorted([(d, n) for n, d in dg], reverse=True)\n",
    "pprint(dg_sorted)"
   ]
  },
  {
   "cell_type": "markdown",
   "metadata": {
    "lc_cell_meme": {
     "current": "d6630b6c-4693-11eb-993d-0242ac110002-2-5e88-58a0",
     "history": [
      {
       "current": "d6630b6c-4693-11eb-993d-0242ac110002-1-5e88",
       "next": "9694ffd0-4685-11eb-993d-0242ac110002",
       "previous": "4b330ac6-468c-11eb-993d-0242ac110002"
      },
      {
       "current": "d6630b6c-4693-11eb-993d-0242ac110002-2-5e88-58a0",
       "next": "9694ffd0-4685-11eb-993d-0242ac110002-1-4c0b",
       "previous": "4b330ac6-468c-11eb-993d-0242ac110002-1-26b0"
      }
     ],
     "next": "9694ffd0-4685-11eb-993d-0242ac110002-2-4c0b-4fcb",
     "previous": "4b330ac6-468c-11eb-993d-0242ac110002-2-26b0-7669"
    }
   },
   "source": [
    "## pagerank"
   ]
  },
  {
   "cell_type": "code",
   "execution_count": 10,
   "metadata": {
    "deletable": false,
    "editable": false,
    "lc_cell_meme": {
     "current": "9694ffd0-4685-11eb-993d-0242ac110002-2-4c0b-4fcb",
     "execution_end_time": "2020-12-26T14:35:36.917025Z",
     "history": [
      {
       "current": "9694ffd0-4685-11eb-993d-0242ac110002",
       "next": null,
       "previous": "9694fe40-4685-11eb-993d-0242ac110002"
      },
      {
       "current": "9694ffd0-4685-11eb-993d-0242ac110002",
       "next": "9e4be4a0-468a-11eb-993d-0242ac110002",
       "previous": "9694fe40-4685-11eb-993d-0242ac110002"
      },
      {
       "current": "9694ffd0-4685-11eb-993d-0242ac110002",
       "next": "4b330ac6-468c-11eb-993d-0242ac110002",
       "previous": "9694fe40-4685-11eb-993d-0242ac110002"
      },
      {
       "current": "9694ffd0-4685-11eb-993d-0242ac110002",
       "next": "749ea79a-468b-11eb-993d-0242ac110002",
       "previous": "9694fe40-4685-11eb-993d-0242ac110002"
      },
      {
       "current": "9694ffd0-4685-11eb-993d-0242ac110002",
       "next": "749ea79a-468b-11eb-993d-0242ac110002",
       "previous": "976f40a6-41cf-11eb-aed8-0242ac110002-3-60db-2644-3cd5"
      },
      {
       "current": "9694ffd0-4685-11eb-993d-0242ac110002-1-4c0b",
       "next": "d6630d9c-4693-11eb-993d-0242ac110002",
       "previous": "d6630b6c-4693-11eb-993d-0242ac110002"
      },
      {
       "current": "9694ffd0-4685-11eb-993d-0242ac110002-2-4c0b-4fcb",
       "next": "d6630d9c-4693-11eb-993d-0242ac110002-1-3c5e",
       "previous": "d6630b6c-4693-11eb-993d-0242ac110002-1-5e88"
      }
     ],
     "next": "d6630d9c-4693-11eb-993d-0242ac110002-2-3c5e-f18c",
     "previous": "d6630b6c-4693-11eb-993d-0242ac110002-2-5e88-58a0"
    },
    "lc_wrapper": {
     "log_history": [
      "/home/jovyan/digraj202103/.log/20201225/20201225-082236-0147.log",
      "/home/jovyan/digraj202103/.log/20201225/20201225-082246-0080.log",
      "/home/jovyan/digraj202103/.log/20201225/20201225-082536-0325.log",
      "/home/jovyan/digraj202103/.log/20201225/20201225-082602-0960.log",
      "/home/jovyan/digraj202103/.log/20201225/20201225-082723-0874.log",
      "/home/jovyan/digraj202103/.log/20201225/20201225-082747-0354.log",
      "/home/jovyan/digraj202103/.log/20201225/20201225-082759-0650.log",
      "/home/jovyan/digraj202103/.log/20201225/20201225-085746-0623.log",
      "/home/jovyan/digraj202103/.log/20201225/20201225-085803-0026.log",
      "/home/jovyan/digraj202103/.log/20201225/20201225-085920-0565.log",
      "/home/jovyan/digraj202103/.log/20201225/20201225-092237-0396.log",
      "/home/jovyan/digraj202103/.log/20201225/20201225-092316-0169.log",
      "/home/jovyan/digraj202103/.log/20201225/20201225-092349-0407.log",
      "/home/jovyan/digraj202103/.log/20201225/20201225-092915-0419.log",
      "/home/jovyan/digraj202103/.log/20201226/20201226-143536-0778.log"
     ]
    },
    "run_through_control": {
     "frozen": true
    }
   },
   "outputs": [
    {
     "name": "stdout",
     "output_type": "stream",
     "text": [
      "[('unc01', 0.02340117260150655),\n",
      " ('arc02', 0.020844095505140128),\n",
      " ('eco05', 0.015388844735507926),\n",
      " ('act02', 0.01476097498977991),\n",
      " ('str02', 0.013799148767806406),\n",
      " ('car05', 0.013789292236458616),\n",
      " ('unc04', 0.013650861466836453),\n",
      " ('car06', 0.013639434291487925),\n",
      " ('mov02', 0.013067279892646916),\n",
      " ('auc04', 0.012770412154343816),\n",
      " ('auc08', 0.011776250841981948),\n",
      " ('eco11', 0.011577618563098493),\n",
      " ('act15', 0.011396060903393603),\n",
      " ('vic18', 0.011180077588921405),\n",
      " ('car01', 0.011100201417809952),\n",
      " ('wpl05', 0.011028895276045421),\n",
      " ('set04', 0.010645350896962603),\n",
      " ('trn10', 0.010412737415670139),\n",
      " ('vic01', 0.010374233936784872),\n",
      " ('wpl08', 0.01012896339978216),\n",
      " ('vic11', 0.010074762762540157),\n",
      " ('auc06', 0.009918781831078215),\n",
      " ('trn07', 0.009398492439256329),\n",
      " ('eco18', 0.009297289761807302),\n",
      " ('act06', 0.009280114418063605),\n",
      " ('res18', 0.009268997500335378),\n",
      " ('auc03', 0.009201065982372988),\n",
      " ('vic07', 0.009131510682552146),\n",
      " ('act01', 0.009108553667508122),\n",
      " ('res02', 0.00896122610939653),\n",
      " ('arc06', 0.008687860192735658),\n",
      " ('trn05', 0.008508457650024642),\n",
      " ('act08', 0.008497481517740286),\n",
      " ('str03', 0.00818539987840197),\n",
      " ('auc11', 0.008183308301109407),\n",
      " ('res01', 0.008154677999952318),\n",
      " ('vic14', 0.007868445092305339),\n",
      " ('act03', 0.007793919948024486),\n",
      " ('vic06', 0.007748988327483587),\n",
      " ('eco13', 0.007600852850212352),\n",
      " ('trn16', 0.007535041290662835),\n",
      " ('set02', 0.0074347620179984735),\n",
      " ('unc02', 0.007413343810032042),\n",
      " ('trn02', 0.007401714120750369),\n",
      " ('eco02', 0.007392025333459476),\n",
      " ('wpl06', 0.007276632674019177),\n",
      " ('eco14', 0.007145593356496945),\n",
      " ('mov04', 0.006885541710297755),\n",
      " ('eco01', 0.006871785650771553),\n",
      " ('trn09', 0.006753828384121929),\n",
      " ('unc10', 0.006721437632699055),\n",
      " ('car04', 0.006640021522537568),\n",
      " ('act10', 0.006614903397035164),\n",
      " ('auc13', 0.0066038799858294615),\n",
      " ('str05', 0.006597747838919803),\n",
      " ('act16', 0.006389815045657532),\n",
      " ('str07', 0.006191895790222416),\n",
      " ('act14', 0.006188544418890233),\n",
      " ('mov01', 0.006185022777218493),\n",
      " ('act11', 0.0061313419009689256),\n",
      " ('arc08', 0.006072102298136089),\n",
      " ('mov10', 0.005877517171408647),\n",
      " ('set05', 0.005870217536691642),\n",
      " ('vic05', 0.005863751580733696),\n",
      " ('auc02', 0.005763824439302135),\n",
      " ('res03', 0.00572573718866304),\n",
      " ('res04', 0.00572573718866304),\n",
      " ('res07', 0.005683550008803729),\n",
      " ('res14', 0.005615871542158621),\n",
      " ('res11', 0.005577096407547793),\n",
      " ('auc09', 0.00553724728827482),\n",
      " ('auc05', 0.005534240084562027),\n",
      " ('eco16', 0.005530530669790727),\n",
      " ('mov20', 0.005497009361020029),\n",
      " ('auc07', 0.005487081091482057),\n",
      " ('vic15', 0.005451348020162579),\n",
      " ('trn14', 0.005436982583980816),\n",
      " ('vic13', 0.005249829620408096),\n",
      " ('eco10', 0.005083300923626327),\n",
      " ('trn15', 0.0049521839232997775),\n",
      " ('act05', 0.004951782897211007),\n",
      " ('trn04', 0.004936726295174691),\n",
      " ('act07', 0.004853188055890304),\n",
      " ('trn11', 0.004792497513173415),\n",
      " ('mov24', 0.004778565611108019),\n",
      " ('wpl02', 0.004688350686515582),\n",
      " ('set01', 0.004660556705483947),\n",
      " ('unc09', 0.004653385024544581),\n",
      " ('trn17', 0.004649678822579054),\n",
      " ('arc05', 0.0046391602126965165),\n",
      " ('mov03', 0.004631635537880542),\n",
      " ('res06', 0.00460503167910517),\n",
      " ('unc08', 0.004552327162123158),\n",
      " ('res12', 0.004534308632780695),\n",
      " ('wpl07', 0.004511005205635144),\n",
      " ('unc05', 0.004462842133430319),\n",
      " ('eco19', 0.004327457999846214),\n",
      " ('res08', 0.0043193145076821735),\n",
      " ('act17', 0.004296202809561385),\n",
      " ('trn03', 0.004282713429308388),\n",
      " ('unc07', 0.004113518880259641),\n",
      " ('auc14', 0.004055186340085383),\n",
      " ('trn12', 0.003996961798694314),\n",
      " ('act04', 0.003975773696299849),\n",
      " ('eco03', 0.003954288830163826),\n",
      " ('str01', 0.0039189705323283185),\n",
      " ('mov06', 0.003879704227001641),\n",
      " ('act12', 0.0038390265649801735),\n",
      " ('vic19', 0.0038304797601663924),\n",
      " ('unc03', 0.0037620512906567714),\n",
      " ('mov07', 0.0037099009706914846),\n",
      " ('res22', 0.0036443119370589963),\n",
      " ('vic10', 0.0035889558801512496),\n",
      " ('act09', 0.0035768418353302007),\n",
      " ('arc07', 0.003552240035820224),\n",
      " ('vic02', 0.003545211314006508),\n",
      " ('str10', 0.0035439658351922054),\n",
      " ('act18', 0.0035118236675385963),\n",
      " ('act13', 0.0034981010983527253),\n",
      " ('mov16', 0.0034798913878647045),\n",
      " ('unc06', 0.003477955507572307),\n",
      " ('trn13', 0.0034706551636194526),\n",
      " ('vic04', 0.003467273812419143),\n",
      " ('trn01', 0.003462878748128772),\n",
      " ('vic08', 0.003410541550426029),\n",
      " ('res21', 0.0033890875383920634),\n",
      " ('mov15', 0.0033659552183144415),\n",
      " ('res13', 0.0033216142937213624),\n",
      " ('res05', 0.003283527824076275),\n",
      " ('auc16', 0.003268907260013045),\n",
      " ('mov13', 0.0032261979370297876),\n",
      " ('trn06', 0.003223546823420436),\n",
      " ('auc15', 0.0032219283421229344),\n",
      " ('auc01', 0.0032007416537301143),\n",
      " ('res15', 0.0031690892970903193),\n",
      " ('res20', 0.0031324224110646317),\n",
      " ('wpl01', 0.002852409480447943),\n",
      " ('mov14', 0.0025237070781109006),\n",
      " ('vic09', 0.0025199631607453273),\n",
      " ('eco06', 0.0024937915384699843),\n",
      " ('eco07', 0.0024937915384699843),\n",
      " ('eco12', 0.0024937915384699843),\n",
      " ('auc12', 0.0024937915384699843),\n",
      " ('trn08', 0.002456503960871114),\n",
      " ('arc01', 0.0023777357754133427),\n",
      " ('res10', 0.0022857565370975985),\n",
      " ('car03', 0.0022700420816733602),\n",
      " ('mov12', 0.002264111413400006),\n",
      " ('res17', 0.0022502491544015746),\n",
      " ('mov05', 0.002246994592289127),\n",
      " ('mov23', 0.002246994592289127),\n",
      " ('mov19', 0.002242374853624133),\n",
      " ('res16', 0.002216210309662142),\n",
      " ('vic17', 0.002216210309662142),\n",
      " ('wpl04', 0.002197985975766889),\n",
      " ('mov18', 0.002197985975766889),\n",
      " ('vic16', 0.00219645860385997),\n",
      " ('str04', 0.002162059921353107),\n",
      " ('eco04', 0.0021604515598675285),\n",
      " ('eco08', 0.0021604515598675285),\n",
      " ('mov11', 0.00215273004941271),\n",
      " ('mov22', 0.0021519042270037817),\n",
      " ('vic12', 0.0021183153552083653),\n",
      " ('eco17', 0.002109924081056457),\n",
      " ('wpl03', 0.0020886113422777385),\n",
      " ('auc10', 0.0020629451631663464),\n",
      " ('res09', 0.0020401544754597226),\n",
      " ('arc03', 0.0020401544754597226),\n",
      " ('set03', 0.0020401544754597226),\n",
      " ('car02', 0.0020382307821911637),\n",
      " ('eco15', 0.002018184170935754),\n",
      " ('res19', 0.0019993503943522136),\n",
      " ('unc11', 0.001963660028986838),\n",
      " ('str06', 0.0008588605782994561),\n",
      " ('str08', 0.0008588605782994561),\n",
      " ('str09', 0.0008588605782994561),\n",
      " ('vic03', 0.0008588605782994561),\n",
      " ('vic20', 0.0008588605782994561),\n",
      " ('eco09', 0.0008588605782994561),\n",
      " ('mov08', 0.0008588605782994561),\n",
      " ('mov09', 0.0008588605782994561),\n",
      " ('mov17', 0.0008588605782994561),\n",
      " ('mov21', 0.0008588605782994561),\n",
      " ('arc04', 0.0008588605782994561)]\n"
     ]
    }
   ],
   "source": [
    "pr = nx.pagerank(ng)\n",
    "pr_sorted = sorted(pr.items(), key=lambda x:x[1], reverse=True)\n",
    "pprint(pr_sorted)"
   ]
  },
  {
   "cell_type": "markdown",
   "metadata": {
    "lc_cell_meme": {
     "current": "d6630d9c-4693-11eb-993d-0242ac110002-2-3c5e-f18c",
     "history": [
      {
       "current": "d6630d9c-4693-11eb-993d-0242ac110002-1-3c5e",
       "next": "749ea79a-468b-11eb-993d-0242ac110002",
       "previous": "9694ffd0-4685-11eb-993d-0242ac110002"
      },
      {
       "current": "d6630d9c-4693-11eb-993d-0242ac110002-2-3c5e-f18c",
       "next": "749ea79a-468b-11eb-993d-0242ac110002-1-e216",
       "previous": "9694ffd0-4685-11eb-993d-0242ac110002-1-4c0b"
      }
     ],
     "next": "749ea79a-468b-11eb-993d-0242ac110002-2-e216-8217",
     "previous": "9694ffd0-4685-11eb-993d-0242ac110002-2-4c0b-4fcb"
    }
   },
   "source": [
    "## hits"
   ]
  },
  {
   "cell_type": "code",
   "execution_count": 11,
   "metadata": {
    "deletable": false,
    "editable": false,
    "lc_cell_meme": {
     "current": "749ea79a-468b-11eb-993d-0242ac110002-2-e216-8217",
     "execution_end_time": "2020-12-26T14:35:37.206204Z",
     "history": [
      {
       "current": "749ea79a-468b-11eb-993d-0242ac110002",
       "next": null,
       "previous": "9e4be4a0-468a-11eb-993d-0242ac110002"
      },
      {
       "current": "749ea79a-468b-11eb-993d-0242ac110002",
       "next": "4b330f4e-468c-11eb-993d-0242ac110002",
       "previous": "4b330ac6-468c-11eb-993d-0242ac110002"
      },
      {
       "current": "749ea79a-468b-11eb-993d-0242ac110002",
       "next": "4b330f4e-468c-11eb-993d-0242ac110002",
       "previous": "9e4be4a0-468a-11eb-993d-0242ac110002"
      },
      {
       "current": "749ea79a-468b-11eb-993d-0242ac110002",
       "next": "4b330ac6-468c-11eb-993d-0242ac110002",
       "previous": "9694ffd0-4685-11eb-993d-0242ac110002"
      },
      {
       "current": "749ea79a-468b-11eb-993d-0242ac110002",
       "next": "4b330f4e-468c-11eb-993d-0242ac110002",
       "previous": "d6630d9c-4693-11eb-993d-0242ac110002"
      },
      {
       "current": "749ea79a-468b-11eb-993d-0242ac110002-1-e216",
       "next": "4b330f4e-468c-11eb-993d-0242ac110002-1-1d5e",
       "previous": "d6630d9c-4693-11eb-993d-0242ac110002"
      },
      {
       "current": "749ea79a-468b-11eb-993d-0242ac110002-2-e216-8217",
       "next": "4b330f4e-468c-11eb-993d-0242ac110002-2-1d5e-6d91",
       "previous": "d6630d9c-4693-11eb-993d-0242ac110002-1-3c5e"
      }
     ],
     "next": "4b330f4e-468c-11eb-993d-0242ac110002-3-1d5e-6d91-bbaa",
     "previous": "d6630d9c-4693-11eb-993d-0242ac110002-2-3c5e-f18c"
    },
    "lc_wrapper": {
     "log_history": [
      "/home/jovyan/digraj202103/.log/20201225/20201225-083625-0340.log",
      "/home/jovyan/digraj202103/.log/20201225/20201225-090923-0157.log",
      "/home/jovyan/digraj202103/.log/20201225/20201225-090950-0918.log",
      "/home/jovyan/digraj202103/.log/20201225/20201225-091101-0180.log",
      "/home/jovyan/digraj202103/.log/20201225/20201225-091112-0816.log",
      "/home/jovyan/digraj202103/.log/20201225/20201225-091127-0320.log",
      "/home/jovyan/digraj202103/.log/20201225/20201225-091137-0711.log",
      "/home/jovyan/digraj202103/.log/20201225/20201225-091248-0500.log",
      "/home/jovyan/digraj202103/.log/20201225/20201225-091308-0082.log",
      "/home/jovyan/digraj202103/.log/20201225/20201225-091322-0223.log",
      "/home/jovyan/digraj202103/.log/20201225/20201225-091410-0774.log",
      "/home/jovyan/digraj202103/.log/20201225/20201225-092359-0068.log",
      "/home/jovyan/digraj202103/.log/20201225/20201225-092919-0261.log",
      "/home/jovyan/digraj202103/.log/20201226/20201226-143536-0935.log"
     ]
    },
    "run_through_control": {
     "frozen": true
    }
   },
   "outputs": [
    {
     "name": "stdout",
     "output_type": "stream",
     "text": [
      "[('unc01', 0.04343290701795568),\n",
      " ('act02', 0.028616178481053814),\n",
      " ('trn10', 0.02551356901275252),\n",
      " ('arc02', 0.02388474712074906),\n",
      " ('car06', 0.021982427835356692),\n",
      " ('auc04', 0.021470682959568617),\n",
      " ('car01', 0.020357005037333807),\n",
      " ('unc04', 0.020121313093619725),\n",
      " ('trn09', 0.017028037484564166),\n",
      " ('res18', 0.016396520375309996),\n",
      " ('eco18', 0.01545296248386207),\n",
      " ('res01', 0.015217775107350031),\n",
      " ('eco16', 0.015133757413383622),\n",
      " ('wpl08', 0.01453850731165331),\n",
      " ('auc03', 0.014143787921054578),\n",
      " ('res14', 0.014004893568045164),\n",
      " ('auc13', 0.013835588998984528),\n",
      " ('auc11', 0.01350736221455511),\n",
      " ('trn05', 0.013303622923629603),\n",
      " ('auc05', 0.013008703176993498),\n",
      " ('auc06', 0.012941087699963646),\n",
      " ('auc07', 0.012883997366095268),\n",
      " ('act08', 0.012587272347650637),\n",
      " ('vic01', 0.012390726941699862),\n",
      " ('vic07', 0.012093080214990615),\n",
      " ('unc08', 0.011682767629749851),\n",
      " ('res08', 0.01142732642449925),\n",
      " ('wpl06', 0.011405055526570597),\n",
      " ('wpl05', 0.01123828061614407),\n",
      " ('unc02', 0.011049482147743015),\n",
      " ('unc09', 0.009863348523546823),\n",
      " ('wpl07', 0.009822009181877192),\n",
      " ('act06', 0.009676937088000862),\n",
      " ('unc05', 0.009586672309902053),\n",
      " ('eco19', 0.009389018526775983),\n",
      " ('auc08', 0.009279137330366298),\n",
      " ('trn03', 0.009136172964213986),\n",
      " ('car05', 0.008933979344220357),\n",
      " ('res06', 0.0088196277708726),\n",
      " ('auc09', 0.008531569400996593),\n",
      " ('str02', 0.008371231522980697),\n",
      " ('mov15', 0.007829222039919335),\n",
      " ('arc06', 0.007779486842919685),\n",
      " ('set02', 0.007731378484264305),\n",
      " ('res07', 0.007612731024369817),\n",
      " ('eco13', 0.007483605695217676),\n",
      " ('eco02', 0.007382622486330523),\n",
      " ('vic18', 0.007339768787273682),\n",
      " ('unc11', 0.007290953548305527),\n",
      " ('set05', 0.0072100232178473125),\n",
      " ('trn16', 0.007112880871557662),\n",
      " ('set04', 0.007087360125358431),\n",
      " ('trn02', 0.007086472631349736),\n",
      " ('act14', 0.006902416522181992),\n",
      " ('act01', 0.006866054346920477),\n",
      " ('act11', 0.006793779868424605),\n",
      " ('res12', 0.006613224858191426),\n",
      " ('res15', 0.0066035048796180065),\n",
      " ('mov02', 0.0063900233454504095),\n",
      " ('str07', 0.006118182462738811),\n",
      " ('unc10', 0.0060411430920675096),\n",
      " ('vic06', 0.00600445858574319),\n",
      " ('vic14', 0.005941279460983366),\n",
      " ('auc02', 0.005929766001939677),\n",
      " ('trn06', 0.005923364901373176),\n",
      " ('res02', 0.005695961507862902),\n",
      " ('res20', 0.00561088159548153),\n",
      " ('str03', 0.005521757954106012),\n",
      " ('res19', 0.004803713180206187),\n",
      " ('trn17', 0.004787531219790264),\n",
      " ('trn11', 0.0044785253511595265),\n",
      " ('auc15', 0.004439823003899158),\n",
      " ('eco11', 0.004380899837843001),\n",
      " ('act10', 0.004329573387511294),\n",
      " ('act03', 0.00431892720886861),\n",
      " ('vic08', 0.004304626435823259),\n",
      " ('set01', 0.004254903285729947),\n",
      " ('act07', 0.00417650508184681),\n",
      " ('vic11', 0.004140428347225741),\n",
      " ('mov01', 0.004104263124137303),\n",
      " ('car04', 0.004013913013452533),\n",
      " ('res09', 0.00400946180540848),\n",
      " ('arc03', 0.00400946180540848),\n",
      " ('set03', 0.00400946180540848),\n",
      " ('arc05', 0.003910985902737437),\n",
      " ('auc16', 0.00382510223427172),\n",
      " ('eco15', 0.0036901250970684273),\n",
      " ('eco14', 0.0036532545482861564),\n",
      " ('unc03', 0.0035355363718400225),\n",
      " ('res05', 0.0035107270634059137),\n",
      " ('car02', 0.003417270180919807),\n",
      " ('auc01', 0.0033696880825169946),\n",
      " ('res13', 0.003307124229194628),\n",
      " ('act05', 0.0032065168429957847),\n",
      " ('trn15', 0.0031762174231167914),\n",
      " ('arc08', 0.0031279029822555036),\n",
      " ('act15', 0.003073011463398064),\n",
      " ('act16', 0.003016897788288615),\n",
      " ('trn04', 0.0029558211254864194),\n",
      " ('mov24', 0.002838481103961714),\n",
      " ('res21', 0.0028110080613225705),\n",
      " ('vic04', 0.002789766580746531),\n",
      " ('vic02', 0.002775036108533819),\n",
      " ('trn01', 0.0027294247477511052),\n",
      " ('trn13', 0.002615630460641468),\n",
      " ('mov16', 0.0025299488841696934),\n",
      " ('wpl03', 0.0024405361900470836),\n",
      " ('unc06', 0.0024322950391649457),\n",
      " ('eco05', 0.002427639116731543),\n",
      " ('str05', 0.002291411816270813),\n",
      " ('auc10', 0.0021723820886703593),\n",
      " ('act09', 0.0021576210036255306),\n",
      " ('vic10', 0.002100295309690346),\n",
      " ('vic12', 0.0020799946568926917),\n",
      " ('eco01', 0.002038585958779039),\n",
      " ('mov11', 0.002030029581300084),\n",
      " ('str10', 0.0020155780081372544),\n",
      " ('wpl04', 0.0018865369040095288),\n",
      " ('mov18', 0.0018865369040095288),\n",
      " ('act13', 0.001883693758709814),\n",
      " ('mov10', 0.0018647073416256442),\n",
      " ('vic15', 0.0017988892654274612),\n",
      " ('mov04', 0.0017296011778488328),\n",
      " ('arc07', 0.0015962624607313682),\n",
      " ('eco10', 0.0015840577818723688),\n",
      " ('eco17', 0.0015576613190429215),\n",
      " ('eco04', 0.001499720669498633),\n",
      " ('eco08', 0.001499720669498633),\n",
      " ('act18', 0.0014720215376331693),\n",
      " ('vic13', 0.0014225966586139728),\n",
      " ('str04', 0.0014052538580492187),\n",
      " ('act12', 0.001367457736726659),\n",
      " ('mov07', 0.0013630173361571698),\n",
      " ('trn14', 0.0013620602966069612),\n",
      " ('vic05', 0.0013479080712033964),\n",
      " ('str01', 0.0012436598926291544),\n",
      " ('res16', 0.0012321052617036091),\n",
      " ('vic17', 0.0012321052617036091),\n",
      " ('act04', 0.0012172867571370975),\n",
      " ('mov22', 0.0011897341667097387),\n",
      " ('mov20', 0.001118279846135091),\n",
      " ('unc07', 0.0010788113462022236),\n",
      " ('mov05', 0.0010726743057426638),\n",
      " ('mov23', 0.0010726743057426638),\n",
      " ('vic16', 0.000997344998179418),\n",
      " ('vic19', 0.0009970156681281647),\n",
      " ('res17', 0.00092692116417661),\n",
      " ('res22', 0.0009005098579239921),\n",
      " ('mov03', 0.0007573697173965162),\n",
      " ('wpl02', 0.0007567329256647243),\n",
      " ('eco03', 0.0007497319839415698),\n",
      " ('mov12', 0.0007267926694597796),\n",
      " ('auc14', 0.0007045230014889909),\n",
      " ('res10', 0.0006950414516411272),\n",
      " ('car03', 0.0006738036969926154),\n",
      " ('trn07', 0.0006613744726268982),\n",
      " ('arc01', 0.0006132610279274234),\n",
      " ('mov19', 0.0005158573386386216),\n",
      " ('mov06', 0.00047806535816924547),\n",
      " ('eco06', 0.0004075205929698611),\n",
      " ('eco07', 0.0004075205929698611),\n",
      " ('eco12', 0.0004075205929698611),\n",
      " ('auc12', 0.0004075205929698611),\n",
      " ('act17', 0.0003854391925632366),\n",
      " ('trn12', 0.0003396680055978033),\n",
      " ('mov14', 0.0003130229023126524),\n",
      " ('vic09', 0.00022626933822467296),\n",
      " ('res11', 0.00013082394562343946),\n",
      " ('wpl01', 0.0001270305164222775),\n",
      " ('trn08', 0.00011102297515199219),\n",
      " ('mov13', 2.1961028527625065e-05),\n",
      " ('res03', 7.85152997063167e-71),\n",
      " ('res04', 7.85152997063167e-71),\n",
      " ('str06', 0.0),\n",
      " ('str08', 0.0),\n",
      " ('str09', 0.0),\n",
      " ('vic03', 0.0),\n",
      " ('vic20', 0.0),\n",
      " ('eco09', 0.0),\n",
      " ('mov08', 0.0),\n",
      " ('mov09', 0.0),\n",
      " ('mov17', 0.0),\n",
      " ('mov21', 0.0),\n",
      " ('arc04', 0.0)]\n"
     ]
    }
   ],
   "source": [
    "(ht, dummy) = nx.hits(ng)\n",
    "ht_sorted = sorted(ht.items(), key=lambda x:x[1], reverse=True)\n",
    "pprint(ht_sorted)"
   ]
  },
  {
   "cell_type": "markdown",
   "metadata": {
    "lc_cell_meme": {
     "current": "4b330f4e-468c-11eb-993d-0242ac110002-3-1d5e-6d91-bbaa",
     "history": [
      {
       "current": "4b330f4e-468c-11eb-993d-0242ac110002",
       "next": null,
       "previous": "749ea79a-468b-11eb-993d-0242ac110002"
      },
      {
       "current": "4b330f4e-468c-11eb-993d-0242ac110002",
       "next": null,
       "previous": "4b330ac6-468c-11eb-993d-0242ac110002"
      },
      {
       "current": "4b330f4e-468c-11eb-993d-0242ac110002-1-1d5e",
       "next": null,
       "previous": "749ea79a-468b-11eb-993d-0242ac110002"
      },
      {
       "current": "4b330f4e-468c-11eb-993d-0242ac110002-2-1d5e-6d91",
       "next": "48f72dd4-4694-11eb-993d-0242ac110002",
       "previous": "749ea79a-468b-11eb-993d-0242ac110002"
      },
      {
       "current": "4b330f4e-468c-11eb-993d-0242ac110002-3-1d5e-6d91-bbaa",
       "next": "48f72dd4-4694-11eb-993d-0242ac110002-1-cdb2",
       "previous": "749ea79a-468b-11eb-993d-0242ac110002-1-e216"
      }
     ],
     "next": "48f72dd4-4694-11eb-993d-0242ac110002-2-cdb2-31c2",
     "previous": "749ea79a-468b-11eb-993d-0242ac110002-2-e216-8217"
    }
   },
   "source": [
    "res03、04の値的には、pagerankは微妙。ただ、hitsもエッジ本数稼いだのが強く出過ぎてる気がする。パラメータで調整かけるか、自分で固有ベクトル求める系計算するか。"
   ]
  },
  {
   "cell_type": "code",
   "execution_count": null,
   "metadata": {
    "lc_cell_meme": {
     "current": "48f72dd4-4694-11eb-993d-0242ac110002-2-cdb2-31c2",
     "history": [
      {
       "current": "48f72dd4-4694-11eb-993d-0242ac110002-1-cdb2",
       "next": null,
       "previous": "4b330f4e-468c-11eb-993d-0242ac110002-1-1d5e"
      },
      {
       "current": "48f72dd4-4694-11eb-993d-0242ac110002-2-cdb2-31c2",
       "next": null,
       "previous": "4b330f4e-468c-11eb-993d-0242ac110002-2-1d5e-6d91"
      }
     ],
     "next": null,
     "previous": "4b330f4e-468c-11eb-993d-0242ac110002-3-1d5e-6d91-bbaa"
    }
   },
   "outputs": [],
   "source": []
  }
 ],
 "metadata": {
  "colab": {
   "name": "Untitled4.ipynb",
   "provenance": []
  },
  "kernelspec": {
   "display_name": "Python 3",
   "language": "python",
   "name": "python3"
  },
  "language_info": {
   "file_extension": ".py",
   "mimetype": "text/x-python",
   "name": "python",
   "nbconvert_exporter": "python",
   "pygments_lexer": "ipython3",
   "version": "3.8.6"
  },
  "lc_notebook_meme": {
   "current": "d78c1c4a-41bb-11eb-aed8-0242ac110002",
   "lc_server_signature": {
    "current": {
     "notebook_dir": "/home/jovyan",
     "notebook_path": "/digraj202103",
     "server_url": "http://localhost:8888/",
     "signature_id": "14256e36-477f-11eb-8260-0242ac110002"
    },
    "history": [
     {
      "notebook_dir": "/home/jovyan",
      "notebook_path": "/digraj202103",
      "server_url": "http://localhost:8888/",
      "signature_id": "6ab9e48a-41bb-11eb-aed8-0242ac110002"
     },
     {
      "notebook_dir": "/home/jovyan",
      "notebook_path": "/digraj202103",
      "server_url": "http://localhost:8888/",
      "signature_id": "e79b1078-41cf-11eb-8e07-0242ac110002"
     },
     {
      "notebook_dir": "/home/jovyan",
      "notebook_path": "/digraj202103",
      "server_url": "http://localhost:8888/",
      "signature_id": "652ec54e-4684-11eb-993d-0242ac110002"
     },
     {
      "notebook_dir": "/home/jovyan",
      "notebook_path": "/digraj202103",
      "server_url": "http://localhost:8888/",
      "signature_id": "d7f2433e-46b2-11eb-ae4f-0242ac110002"
     }
    ]
   }
  },
  "toc": {
   "base_numbering": 1,
   "nav_menu": {},
   "number_sections": true,
   "sideBar": true,
   "skip_h1_title": false,
   "title_cell": "Table of Contents",
   "title_sidebar": "Contents",
   "toc_cell": false,
   "toc_position": {},
   "toc_section_display": true,
   "toc_window_display": false
  }
 },
 "nbformat": 4,
 "nbformat_minor": 1
}
